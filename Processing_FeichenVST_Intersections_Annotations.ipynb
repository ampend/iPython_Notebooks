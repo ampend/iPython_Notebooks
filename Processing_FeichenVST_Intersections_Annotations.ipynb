{
 "cells": [
  {
   "cell_type": "code",
   "execution_count": 1,
   "metadata": {
    "collapsed": false
   },
   "outputs": [
    {
     "name": "stderr",
     "output_type": "stream",
     "text": [
      "/home/jmkidd/kidd-lab/progs/anaconda/lib/python2.7/site-packages/matplotlib/__init__.py:1357: UserWarning:  This call to matplotlib.use() has no effect\n",
      "because the backend has already been chosen;\n",
      "matplotlib.use() must be called *before* pylab, matplotlib.pyplot,\n",
      "or matplotlib.backends is imported for the first time.\n",
      "\n",
      "  warnings.warn(_use_error_msg)\n"
     ]
    }
   ],
   "source": [
    "#this uses iPython magic to make plots appear inline\n",
    "%matplotlib inline\n",
    "import matplotlib.pyplot as plt\n",
    "import scipy.stats as stats\n",
    "import pandas as pd\n",
    "\n",
    "import genutils\n",
    "import os\n",
    "import sys\n",
    "import numpy as np\n",
    "import re"
   ]
  },
  {
   "cell_type": "code",
   "execution_count": 2,
   "metadata": {
    "collapsed": false
   },
   "outputs": [
    {
     "name": "stdout",
     "output_type": "stream",
     "text": [
      "#Working directory for the Vst analyses is the following:\n",
      "/home/ampend/kidd-lab/ampend-projects/Angela/Feichen_VST/\n"
     ]
    }
   ],
   "source": [
    "vstTypes = ['FastCN', 'QuicKmer']\n",
    "vstDir = '/home/ampend/kidd-lab/ampend-projects/Angela/Feichen_VST/'\n",
    "print '#Working directory for the Vst analyses is the following:\\n', vstDir\n"
   ]
  },
  {
   "cell_type": "code",
   "execution_count": 3,
   "metadata": {
    "collapsed": false
   },
   "outputs": [
    {
     "name": "stdout",
     "output_type": "stream",
     "text": [
      "\n",
      "#Reading in final FST CDR regions from:\n",
      "/home/ampend/kidd-lab/ampend-projects/Angela/Re-RunningAnalysis_NewScripts/new_results/results/MergedWindows/FinalMergedCDRs/Final_CDRCoordinates_AllSNPSets_Table.bed\n"
     ]
    }
   ],
   "source": [
    "##############\n",
    "# INPUT FST FILE\n",
    "##############\n",
    "fstfile = '/home/ampend/kidd-lab/ampend-projects/Angela/Re-RunningAnalysis_NewScripts/new_results/results/MergedWindows/FinalMergedCDRs/Final_CDRCoordinates_AllSNPSets_Table.bed'\n",
    "print '\\n#Reading in final FST CDR regions from:\\n', fstfile\n",
    "fstFile = open(fstfile, 'r')"
   ]
  },
  {
   "cell_type": "code",
   "execution_count": 4,
   "metadata": {
    "collapsed": false
   },
   "outputs": [],
   "source": [
    "def count_lines(f):\n",
    "    lineCount = 0\n",
    "    with open(f, 'r') as f:\n",
    "        for line in f:\n",
    "            lineCount += 1\n",
    "        return lineCount"
   ]
  },
  {
   "cell_type": "code",
   "execution_count": 5,
   "metadata": {
    "collapsed": true
   },
   "outputs": [],
   "source": [
    "def intersect_with_FST_CDRs(vstType):\n",
    "    #New VST bedfile for intersecting\n",
    "    newVstbedfile = vstDir + 'input/' + 'Mod_' + vstType + '_candidates_5.bed'\n",
    "\n",
    "    #Intersecting the vst BED file with the FST results\n",
    "    outfile = vstDir + 'results/' + 'Intersect_' + vstType + '_Vst_with_FstCDRs.txt'\n",
    "    print '#Intersecting the FST and VST windows directly...'\n",
    "    cmd = 'bedtools intersect -wo -a %s -b %s > %s' % (newVstbedfile, fstfile, outfile)\n",
    "    print cmd\n",
    "    genutils.runCMD(cmd)\n",
    "    #checking window counts\n",
    "    f = outfile\n",
    "    count = count_lines(f)\n",
    "    print '-->%i Vst windows found to intersect FST regions' % count  \n",
    "\n",
    "    #Intersecting the vst BED file with the FST results using window approach\n",
    "    #50kb windows\n",
    "    outfile = vstDir + 'results/' + '50kbWindowIntersect_'+ vstType + '_Vst_with_FstCDRs.txt'\n",
    "    print '\\n#Intersecting the FST and VST windows with 50kb buffering windows...'\n",
    "    cmd = 'bedtools window -w 50000 -a %s -b %s > %s' % (newVstbedfile, fstfile, outfile)\n",
    "    print cmd\n",
    "    genutils.runCMD(cmd)\n",
    "    #checking window counts\n",
    "    f = outfile\n",
    "    count = count_lines(f)\n",
    "    print '-->%i Vst windows found to intersect FST regions with window size = 50kb' % count\n",
    "\n",
    "    #200kb windows\n",
    "    outfile = vstDir + 'results/' + '200kbWindowIntersect_' + vstType + '_Vst_with_FstCDRs.txt'\n",
    "    print '\\n#Intersecting the FST and VST windows with 200kb buffering windows...'\n",
    "    cmd = 'bedtools window -w 50000 -a %s -b %s > %s' % (newVstbedfile, fstfile, outfile)\n",
    "    print cmd\n",
    "    genutils.runCMD(cmd)\n",
    "    #checking window counts\n",
    "    f = outfile\n",
    "    count = count_lines(f)\n",
    "    print '-->%i Vst windows found to intersect FST regions with window size = 200kb' % count\n",
    "\n"
   ]
  },
  {
   "cell_type": "code",
   "execution_count": 6,
   "metadata": {
    "collapsed": true
   },
   "outputs": [],
   "source": [
    "def make_new_Vst_files(vstType, vstDir):\n",
    "    vstfile = vstDir + 'input/' + vstType + '_candidates_5.bed'\n",
    "    print '#Reading in candidate VST regions from:\\n', vstfile\n",
    "    vstFile = open(vstfile, 'r')\n",
    "    #open new bed file to store information and rename the windows\n",
    "    newVstbedfile = vstDir + 'input/' + 'Mod_' + vstType + '_candidates_5.bed'\n",
    "    print 'Writing out new window IDs and modifying file structure for the following BED file:\\n', newVstbedfile\n",
    "    newVstbedFile = open(newVstbedfile, 'w')\n",
    "    #open new text file to store information and rename the windows that matches the bed file\n",
    "    newVstoutfile = vstDir + 'input/' + 'Mod_' + vstType + '_candidates_5.txt'\n",
    "    print 'Writing out new window IDs and modifying file structure for the following TEXT file:\\n', newVstoutfile\n",
    "    newVstoutFile = open(newVstoutfile, 'w')\n",
    "\n",
    "    vstCount = 0\n",
    "    vstDict = {}\n",
    "\n",
    "    for line in vstFile:\n",
    "        line = line.rstrip()\n",
    "        line = line.split('\\t')\n",
    "        vstCount += 1\n",
    "\n",
    "        chrom = line[0]\n",
    "        start = line[1]\n",
    "        end = line[2]\n",
    "        zScore = line[3]\n",
    "        winID = line[4] + '_' + str(vstCount)\n",
    "\n",
    "        newVstbedFile.write('%s\\t%s\\t%s\\t%s\\n' % (chrom, start,end, winID))\n",
    "        #text file needs a 1-based start coordinate\n",
    "        newStart = int(start) + 1\n",
    "        newVstoutFile.write('%s\\t%s\\t%s\\t%s\\t%s\\n' % (chrom, newStart,end, winID, zScore))\n",
    "\n",
    "    print 'Wrote new information for %i VST windows to outfile' % (vstCount)\n",
    "    vstFile.close()\n",
    "    newVstbedFile.close()\n",
    "    newVstoutFile.close()"
   ]
  },
  {
   "cell_type": "code",
   "execution_count": 7,
   "metadata": {
    "collapsed": true
   },
   "outputs": [],
   "source": [
    "def intersect_with_Ensembl_Genes(newVstbedfile):\n",
    "    print 'Now intersecting bedfiles...\\n'\n",
    "    #Determining variables\n",
    "    inBedFile = newVstbedfile\n",
    "    genebedfile = '/home/ampend/kidd-lab/ampend-projects/BLAST2GO/results/BLAST2GO_Ensembl81_GeneTables_WithEnscafIDsAndChrom.bed'\n",
    "    print 'Reading in the Ensembl 81 genes from the following file:\\n', genebedfile\n",
    "    geneBedFile = open(genebedfile, 'r')\n",
    "    outfile = vstDir + 'results/' + 'Intersect_' + vstType + '_VSTWindows_Ensembl81Genes.txt'\n",
    "\n",
    "    cmd = 'bedtools intersect -wo -a %s -b %s > %s' % (inBedFile, genebedfile, outfile)\n",
    "    print cmd\n",
    "    genutils.runCMD(cmd) "
   ]
  },
  {
   "cell_type": "code",
   "execution_count": 34,
   "metadata": {
    "collapsed": true
   },
   "outputs": [],
   "source": [
    "def parse_gene_intersect_file(intfile, vstType):\n",
    "    b2goDir = '/home/jmkidd/kidd-lab/ampend-projects/Angela/Re-RunningAnalysis_NewScripts/new_results/results/BLAST2GO/'\n",
    "    b2goList = open(b2goDir + vstType + '_GeneList.txt', 'w')\n",
    "    #Reading the intersect file results\n",
    "    intersectFile = open(intfile,'r') #outfile from the intersect step with ensembl 81 genes\n",
    "\n",
    "    # going through Ensembl bedtool intersect results file\n",
    "    ensGDict = {} #ensGDict[windowID] = [gene1,gene2,gene3...]\n",
    "    ensID = ''\n",
    "    sigGenes = [] #To keep track of all gene IDs (ENSCAFG) that are in sig windows\n",
    "\n",
    "    for line in intersectFile:\n",
    "        line = line.rstrip() #removing extraneous whitespace characters\n",
    "        line = line.split() #delimiting \"columns\" in the file based on tabs\t\t\n",
    "        winID = line[3]\n",
    "        hit = line[7].split('_')\n",
    "        Protein = hit[0]\n",
    "        Gene = hit[1]\n",
    "        b2goID = Gene + '|' + Protein\n",
    "        ensGID = hit[2]\n",
    "        \n",
    "        if winID in ensGDict:\n",
    "            ensGDict[winID].append(ensGID)\n",
    "        else:\n",
    "            ensGDict[winID] = []\n",
    "            ensGDict[winID].append(ensGID) \n",
    "            sigGenes.append(b2goID)\n",
    "    intersectFile.close()\n",
    "    for i in sigGenes:\n",
    "        gene = i\n",
    "        b2goList.write('%s\\n' % gene)\n",
    "    \n",
    "    return ensGDict"
   ]
  },
  {
   "cell_type": "code",
   "execution_count": 17,
   "metadata": {
    "collapsed": true
   },
   "outputs": [],
   "source": [
    "def parse_FST_CDR_intersect_file():\n",
    "    #Reading the intersect file results to FST CDRs\n",
    "    outfile = vstDir + 'results/' + 'Intersect_' + vstType + '_Vst_with_FstCDRs.txt'\n",
    "    intersectFile = open(outfile,'r') #outfile from the intersect step above\n",
    "    # going through Ensembl bedtool intersect results file\n",
    "    fstDict = {} #ensGDict[windowID] = [gene1,gene2,gene3...]\n",
    "    fstID = ''\n",
    "    fstWindows = [] #To keep track of all gene IDs (ENSCAFG) that are in sig windows\n",
    "\n",
    "    for line in intersectFile:\n",
    "        line = line.rstrip() #removing extraneous whitespace characters\n",
    "        line = line.split() #delimiting \"columns\" in the file based on tabs\t\t\n",
    "        vstID = line[3]\n",
    "        fstID = line[7]\n",
    "\n",
    "        if vstID in fstDict:\n",
    "            fstDict[vstID].append(fstID)\n",
    "        else:\n",
    "            fstDict[vstID] = []\n",
    "            fstDict[vstID].append(fstID) \n",
    "    intersectFile.close()\n",
    "    return fstDict"
   ]
  },
  {
   "cell_type": "code",
   "execution_count": 19,
   "metadata": {
    "collapsed": true
   },
   "outputs": [],
   "source": [
    "def making_summary_text_files(vstType,fstDict,ensGDict):\n",
    "    newVstoutfile = vstDir + 'input/' + 'Mod_' + vstType + '_candidates_5.txt'\n",
    "    vstFile = open(newVstoutfile, 'r')\n",
    "\n",
    "    ############################################################################\n",
    "    # SUMMARIZING VST HITS WITH ENSEMBL GENES AND FST REGIONS\n",
    "    ##########################################################################\n",
    "    Outfile = vstDir + 'results/' + vstType + '_CDRs_WithFSTIntersects_GeneTable.txt' #Write out the VST Summary data table here\n",
    "    print '\\nWriting VST summary data table with FST intersects and gene IDs here: \\n', Outfile\n",
    "    outFile = open(Outfile, 'w')\n",
    "    #Defining header based on the structure of the dictionary you created:\n",
    "    #Add to this if you're adding more to your dictionary \n",
    "    headerLine = 'Chrom\\tStart\\tEnd\\tWindowID\\tWindowLength(bp)AverageZ-score\\tIntersecting_FST_CDR\\tIntersectingGenes\\n'\n",
    "    outFile.write(headerLine)\n",
    "\n",
    "    vstCount = 0\n",
    "    #Change this if you're working with the QuicKmer VST calls or the FastCN VST calls\n",
    "\n",
    "    WinID = '' #Setting equal to nothing\n",
    "    allDict = {} # defining the dictionary that will have all the results of bedtool intersect compiled by windows\n",
    "\n",
    "    for line in vstFile:\n",
    "        line = line.rstrip()\n",
    "        line = line.split('\\t')\n",
    "        vstCount += 1 #To use when naming the VST regions with unique identifiers\n",
    "\n",
    "        chrom = line[0]\n",
    "        start_pos = int(line[1])\n",
    "        end_pos = int(line[2])\n",
    "        WinID = line[3]\n",
    "        winLength = end_pos - start_pos\n",
    "        zscore = line[4] #TO ADD ONCE YOU GET FILE BACK FROM FEICHEN\n",
    "        winCoord = chrom + \":\" + str(start_pos) + \"-\" + str(end_pos)\n",
    "\n",
    "        #Open up dictionary for WinID\n",
    "        #0=WinID, 1=chr, 2=start_pos, 3=end_pos, 4=Window length, #5=Zscore\n",
    "        #6=Intersects with an FST CDR (default = False), \n",
    "        #7=Intersects with Ensembl Gene IDs (default = False)\n",
    "        #8=window coordinates\n",
    "        allDict[WinID] = [chrom,start_pos,end_pos,WinID,winLength,zscore,False,False,winCoord] #setting up empty dictionary\n",
    "\n",
    "        #Did this VST window intersect with a FST CDR?\n",
    "        if WinID in fstDict: #If this window is in the ensembl list you generated, then...:\n",
    "            y = \", \".join(map(str, fstDict[WinID])) #This takes the list you generated from the Ensembl file and joins each entry in the list with a comma\n",
    "            allDict[WinID][6] = y #Now it adds 'y' you generated in the line above to your dictionary\n",
    "\n",
    "        #Did this VST window intersect with a gene?\n",
    "        if WinID in ensGDict: #If this window is in the ensembl list you generated, then...:\n",
    "            y = \", \".join(map(str, ensGDict[WinID])) #This takes the list you generated from the Ensembl file and joins each entry in the list with a comma\n",
    "            allDict[WinID][7] = y #Now it adds 'y' you generated in the line above to your dictionary\n",
    "\n",
    "    print 'There are now %i VST regions saved to the allDict dictionary for further processing' % (len(allDict))\n",
    "\n",
    "    #Writing out results\n",
    "    for keys in sorted(allDict.keys()): #Now loops through each \n",
    "        #print \"\\t\".join(map(str,allDict[keys]))\n",
    "        outFile.write(\"\\t\".join(map(str,allDict[keys])))\n",
    "        outFile.write(\"\\n\")\n",
    "    outFile.close()\n",
    "    vstFile.close()\n",
    "    return allDict"
   ]
  },
  {
   "cell_type": "code",
   "execution_count": 11,
   "metadata": {
    "collapsed": false
   },
   "outputs": [],
   "source": [
    "def gene_fst_intersect_summary(allDict):\n",
    "    geneCount = 0\n",
    "    fstCount = 0\n",
    "    for keys in sorted(allDict.keys()):\n",
    "        if allDict[keys][6] is not False:\n",
    "            fstCount += 1\n",
    "        if allDict[keys][7] is not False:\n",
    "            geneCount += 1\n",
    "\n",
    "    print '%i windows intersect with FST CDRs' % (fstCount)\n",
    "    print '%i windows intersect with Ensembl genes' % (geneCount)"
   ]
  },
  {
   "cell_type": "code",
   "execution_count": null,
   "metadata": {
    "collapsed": true
   },
   "outputs": [],
   "source": [
    "def make_gene_enrichment_list():\n",
    "    for winID in allDict.keys():\n",
    "        print "
   ]
  },
  {
   "cell_type": "code",
   "execution_count": 36,
   "metadata": {
    "collapsed": false
   },
   "outputs": [
    {
     "name": "stdout",
     "output_type": "stream",
     "text": [
      "\n",
      "############\n",
      "##FastCN\n",
      "############\n",
      "\n",
      "Now intersecting VST regions with FST CDRs\n",
      "#Reading in candidate VST regions from:\n",
      "/home/ampend/kidd-lab/ampend-projects/Angela/Feichen_VST/input/FastCN_candidates_5.bed\n",
      "Writing out new window IDs and modifying file structure for the following BED file:\n",
      "/home/ampend/kidd-lab/ampend-projects/Angela/Feichen_VST/input/Mod_FastCN_candidates_5.bed\n",
      "Writing out new window IDs and modifying file structure for the following TEXT file:\n",
      "/home/ampend/kidd-lab/ampend-projects/Angela/Feichen_VST/input/Mod_FastCN_candidates_5.txt\n",
      "Wrote new information for 120 VST windows to outfile\n",
      "Now intersecting VST regions with FST CDRs\n",
      "#Intersecting the FST and VST windows directly...\n",
      "bedtools intersect -wo -a /home/ampend/kidd-lab/ampend-projects/Angela/Feichen_VST/input/Mod_FastCN_candidates_5.bed -b /home/ampend/kidd-lab/ampend-projects/Angela/Re-RunningAnalysis_NewScripts/new_results/results/MergedWindows/FinalMergedCDRs/Final_CDRCoordinates_AllSNPSets_Table.bed > /home/ampend/kidd-lab/ampend-projects/Angela/Feichen_VST/results/Intersect_FastCN_Vst_with_FstCDRs.txt\n",
      "-->6 Vst windows found to intersect FST regions\n",
      "\n",
      "#Intersecting the FST and VST windows with 50kb buffering windows...\n",
      "bedtools window -w 50000 -a /home/ampend/kidd-lab/ampend-projects/Angela/Feichen_VST/input/Mod_FastCN_candidates_5.bed -b /home/ampend/kidd-lab/ampend-projects/Angela/Re-RunningAnalysis_NewScripts/new_results/results/MergedWindows/FinalMergedCDRs/Final_CDRCoordinates_AllSNPSets_Table.bed > /home/ampend/kidd-lab/ampend-projects/Angela/Feichen_VST/results/50kbWindowIntersect_FastCN_Vst_with_FstCDRs.txt\n",
      "-->8 Vst windows found to intersect FST regions with window size = 50kb\n",
      "\n",
      "#Intersecting the FST and VST windows with 200kb buffering windows...\n",
      "bedtools window -w 50000 -a /home/ampend/kidd-lab/ampend-projects/Angela/Feichen_VST/input/Mod_FastCN_candidates_5.bed -b /home/ampend/kidd-lab/ampend-projects/Angela/Re-RunningAnalysis_NewScripts/new_results/results/MergedWindows/FinalMergedCDRs/Final_CDRCoordinates_AllSNPSets_Table.bed > /home/ampend/kidd-lab/ampend-projects/Angela/Feichen_VST/results/200kbWindowIntersect_FastCN_Vst_with_FstCDRs.txt\n",
      "-->8 Vst windows found to intersect FST regions with window size = 200kb\n",
      "Now intersecting VST regions with Ensembl 81 genes\n",
      "Now intersecting bedfiles...\n",
      "\n",
      "Reading in the Ensembl 81 genes from the following file:\n",
      "/home/ampend/kidd-lab/ampend-projects/BLAST2GO/results/BLAST2GO_Ensembl81_GeneTables_WithEnscafIDsAndChrom.bed\n",
      "bedtools intersect -wo -a /home/ampend/kidd-lab/ampend-projects/Angela/Feichen_VST/input/Mod_FastCN_candidates_5.bed -b /home/ampend/kidd-lab/ampend-projects/BLAST2GO/results/BLAST2GO_Ensembl81_GeneTables_WithEnscafIDsAndChrom.bed > /home/ampend/kidd-lab/ampend-projects/Angela/Feichen_VST/results/Intersect_FastCN_VSTWindows_Ensembl81Genes.txt\n",
      "Now parsing Ensembl gene intersect file:\n",
      "/home/ampend/kidd-lab/ampend-projects/Angela/Feichen_VST/results/Intersect_FastCN_VSTWindows_Ensembl81Genes.txt\n",
      "{'fastCN_52': ['PDGFD'], 'fastCN_53': ['ENSCAFG00000018534', 'PEMT'], 'fastCN_50': ['ENSCAFG00000029887'], 'fastCN_55': ['SERBP1'], 'fastCN_59': ['TMEM184A'], 'fastCN_96': ['ENSCAFG00000029973'], 'fastCN_97': ['ENSCAFG00000013770'], 'fastCN_77': ['ENSCAFG00000032512'], 'fastCN_106': ['CXorf67'], 'fastCN_107': ['AR'], 'fastCN_63': ['CHGA'], 'fastCN_105': ['LANCL3'], 'fastCN_103': ['ENSCAFG00000032113', 'ENSCAFG00000028745', 'ENSCAFG00000031750'], 'fastCN_102': ['FAM129B'], 'fastCN_44': ['ADAMTS7'], 'fastCN_4': ['ENSCAFG00000003032'], 'fastCN_5': ['ENSCAFG00000001499'], 'fastCN_7': ['ADCY1'], 'fastCN_1': ['BICD2'], 'fastCN_60': ['ENSCAFG00000028653'], 'fastCN_8': ['ADCY1'], 'fastCN_9': ['ADCY1'], 'fastCN_23': ['ENSCAFG00000032415', 'ENSCAFG00000005717'], 'fastCN_22': ['ENSCAFG00000005717'], 'fastCN_21': ['SART1'], 'fastCN_26': ['ENSCAFG00000023337'], 'fastCN_24': ['ENSCAFG00000032415'], 'fastCN_29': ['ENSCAFG00000003859'], 'fastCN_99': ['AOC2', 'ENSCAFG00000014638'], 'fastCN_120': ['ENSCAFG00000019588'], 'fastCN_41': ['MINPP1'], 'fastCN_43': ['ENSCAFG00000007005'], 'fastCN_42': ['KRT4'], 'fastCN_45': ['ENSCAFG00000032318'], 'fastCN_18': ['MAGI2'], 'fastCN_46': ['PCNT'], 'fastCN_49': ['HIST1H1A'], 'fastCN_118': ['BCAP31', 'PLXNB3'], 'fastCN_119': ['L1CAM'], 'fastCN_81': ['ENSCAFG00000031850'], 'fastCN_112': ['ENSCAFG00000029639', 'ENSCAFG00000031344'], 'fastCN_115': ['ENSCAFG00000028611', 'ENSCAFG00000023067'], 'fastCN_116': ['ENSCAFG00000030952'], 'fastCN_117': ['ENSCAFG00000019178'], 'fastCN_35': ['MLPH'], 'fastCN_36': ['ENSCAFG00000012363'], 'fastCN_37': ['ENSCAFG00000014142'], 'fastCN_31': ['KAZN'], 'fastCN_32': ['TPP1'], 'fastCN_19': ['MAGI2'], 'fastCN_17': ['MAGI2'], 'fastCN_73': ['ENSCAFG00000015160'], 'fastCN_38': ['ENSCAFG00000028972', 'TOP3B'], 'fastCN_75': ['ENSCAFG00000032099'], 'fastCN_11': ['ENSCAFG00000030664']}\n",
      "Now parsing the FST CDR intersect file...\n",
      "Now generating summary text files for FastCN results...\n",
      "\n",
      "Writing VST summary data table with FST intersects and gene IDs here: \n",
      "/home/ampend/kidd-lab/ampend-projects/Angela/Feichen_VST/results/FastCN_CDRs_WithFSTIntersects_GeneTable.txt\n",
      "There are now 120 VST regions saved to the allDict dictionary for further processing\n",
      "Now finding how many genes and CDR regions intersect with the FastCN results...\n",
      "6 windows intersect with FST CDRs\n",
      "55 windows intersect with Ensembl genes\n",
      "\n",
      "############\n",
      "##QuicKmer\n",
      "############\n",
      "\n",
      "Now intersecting VST regions with FST CDRs\n",
      "#Reading in candidate VST regions from:\n",
      "/home/ampend/kidd-lab/ampend-projects/Angela/Feichen_VST/input/QuicKmer_candidates_5.bed\n",
      "Writing out new window IDs and modifying file structure for the following BED file:\n",
      "/home/ampend/kidd-lab/ampend-projects/Angela/Feichen_VST/input/Mod_QuicKmer_candidates_5.bed\n",
      "Writing out new window IDs and modifying file structure for the following TEXT file:\n",
      "/home/ampend/kidd-lab/ampend-projects/Angela/Feichen_VST/input/Mod_QuicKmer_candidates_5.txt\n",
      "Wrote new information for 37 VST windows to outfile\n",
      "Now intersecting VST regions with FST CDRs\n",
      "#Intersecting the FST and VST windows directly...\n",
      "bedtools intersect -wo -a /home/ampend/kidd-lab/ampend-projects/Angela/Feichen_VST/input/Mod_QuicKmer_candidates_5.bed -b /home/ampend/kidd-lab/ampend-projects/Angela/Re-RunningAnalysis_NewScripts/new_results/results/MergedWindows/FinalMergedCDRs/Final_CDRCoordinates_AllSNPSets_Table.bed > /home/ampend/kidd-lab/ampend-projects/Angela/Feichen_VST/results/Intersect_QuicKmer_Vst_with_FstCDRs.txt\n",
      "-->2 Vst windows found to intersect FST regions\n",
      "\n",
      "#Intersecting the FST and VST windows with 50kb buffering windows...\n",
      "bedtools window -w 50000 -a /home/ampend/kidd-lab/ampend-projects/Angela/Feichen_VST/input/Mod_QuicKmer_candidates_5.bed -b /home/ampend/kidd-lab/ampend-projects/Angela/Re-RunningAnalysis_NewScripts/new_results/results/MergedWindows/FinalMergedCDRs/Final_CDRCoordinates_AllSNPSets_Table.bed > /home/ampend/kidd-lab/ampend-projects/Angela/Feichen_VST/results/50kbWindowIntersect_QuicKmer_Vst_with_FstCDRs.txt\n",
      "-->2 Vst windows found to intersect FST regions with window size = 50kb\n",
      "\n",
      "#Intersecting the FST and VST windows with 200kb buffering windows...\n",
      "bedtools window -w 50000 -a /home/ampend/kidd-lab/ampend-projects/Angela/Feichen_VST/input/Mod_QuicKmer_candidates_5.bed -b /home/ampend/kidd-lab/ampend-projects/Angela/Re-RunningAnalysis_NewScripts/new_results/results/MergedWindows/FinalMergedCDRs/Final_CDRCoordinates_AllSNPSets_Table.bed > /home/ampend/kidd-lab/ampend-projects/Angela/Feichen_VST/results/200kbWindowIntersect_QuicKmer_Vst_with_FstCDRs.txt\n",
      "-->2 Vst windows found to intersect FST regions with window size = 200kb\n",
      "Now intersecting VST regions with Ensembl 81 genes\n",
      "Now intersecting bedfiles...\n",
      "\n",
      "Reading in the Ensembl 81 genes from the following file:\n",
      "/home/ampend/kidd-lab/ampend-projects/BLAST2GO/results/BLAST2GO_Ensembl81_GeneTables_WithEnscafIDsAndChrom.bed\n",
      "bedtools intersect -wo -a /home/ampend/kidd-lab/ampend-projects/Angela/Feichen_VST/input/Mod_QuicKmer_candidates_5.bed -b /home/ampend/kidd-lab/ampend-projects/BLAST2GO/results/BLAST2GO_Ensembl81_GeneTables_WithEnscafIDsAndChrom.bed > /home/ampend/kidd-lab/ampend-projects/Angela/Feichen_VST/results/Intersect_QuicKmer_VSTWindows_Ensembl81Genes.txt\n",
      "Now parsing Ensembl gene intersect file:\n",
      "/home/ampend/kidd-lab/ampend-projects/Angela/Feichen_VST/results/Intersect_QuicKmer_VSTWindows_Ensembl81Genes.txt\n",
      "{'QuicK-mer_8': ['VPREB1', 'ENSCAFG00000014142', 'ENSCAFG00000014144'], 'QuicK-mer_9': ['ENSCAFG00000028972'], 'QuicK-mer_15': ['ENSCAFG00000032099'], 'QuicK-mer_1': ['ENSCAFG00000028561'], 'QuicK-mer_2': ['MAGI2'], 'QuicK-mer_32': ['DACH2'], 'QuicK-mer_26': ['ENSCAFG00000032113', 'ENSCAFG00000028745'], 'QuicK-mer_36': ['ENSCAFG00000019588'], 'QuicK-mer_28': ['ENSCAFG00000031570', 'ENSCAFG00000016517']}\n",
      "Now parsing the FST CDR intersect file...\n",
      "Now generating summary text files for QuicKmer results...\n",
      "\n",
      "Writing VST summary data table with FST intersects and gene IDs here: \n",
      "/home/ampend/kidd-lab/ampend-projects/Angela/Feichen_VST/results/QuicKmer_CDRs_WithFSTIntersects_GeneTable.txt\n",
      "There are now 37 VST regions saved to the allDict dictionary for further processing\n",
      "Now finding how many genes and CDR regions intersect with the QuicKmer results...\n",
      "2 windows intersect with FST CDRs\n",
      "9 windows intersect with Ensembl genes\n"
     ]
    }
   ],
   "source": [
    "for i in vstTypes:\n",
    "    vstType = i\n",
    "    print '\\n############\\n##%s\\n############\\n' % (vstType)\n",
    "    intfile = vstDir + 'results/' + 'Intersect_' + vstType + '_VSTWindows_Ensembl81Genes.txt'\n",
    "    \n",
    "    ####################################################\n",
    "    #1. Generating new VST files with proper unique IDs \n",
    "    ####################################################\n",
    "    print 'Now intersecting VST regions with FST CDRs'\n",
    "    make_new_Vst_files(vstType, vstDir)\n",
    "    \n",
    "    ###############################\n",
    "    #2. Intersecting with FST CDRs\n",
    "    ###############################\n",
    "    print 'Now intersecting VST regions with FST CDRs'\n",
    "    intersect_with_FST_CDRs(vstType)\n",
    "    \n",
    "    ####################################\n",
    "    #3. Intersecting with Ensembl Genes\n",
    "    ####################################\n",
    "    print 'Now intersecting VST regions with Ensembl 81 genes'\n",
    "    newVstbedfile = vstDir + 'input/' + 'Mod_' + vstType + '_candidates_5.bed'\n",
    "    intersect_with_Ensembl_Genes(newVstbedfile)\n",
    "\n",
    "    ########################################################\n",
    "    #4. Parse bedtools intersect file against Ensembl genes\n",
    "    ########################################################\n",
    "    print 'Now parsing Ensembl gene intersect file:\\n', intfile\n",
    "    ensGDict = parse_gene_intersect_file(intfile, vstType)\n",
    "    print ensGDict\n",
    "\n",
    "    ###################################################\n",
    "    #5. Parse bedtools intersect file against FST CDRs\n",
    "    ###################################################\n",
    "    print 'Now parsing the FST CDR intersect file...'\n",
    "    fstDict = parse_FST_CDR_intersect_file()\n",
    "    \n",
    "    ###########################################################\n",
    "    #6. Summarizing VST and Ensembl hits to output text files\n",
    "    ###########################################################\n",
    "    print 'Now generating summary text files for %s results...' % (vstType)\n",
    "    allDict = making_summary_text_files(vstType,fstDict,ensGDict)    \n",
    "    \n",
    "    ##################################################\n",
    "    #7. How many genes and FST CDRs are intersecting?\n",
    "    ##################################################\n",
    "    print 'Now finding how many genes and CDR regions intersect with the %s results...' % (vstType)\n",
    "    gene_fst_intersect_summary(allDict)\n",
    "    \n",
    "    ##################################################\n",
    "    #8. Make gene list for GO gene enrichment steps\n",
    "    ##################################################\n",
    "    #print 'Now writing outfile with the gene IDs in these windows to search for enriched GO categories...'\n",
    "    #make_gene_enrichment_list()\n",
    "    \n",
    "    \n",
    "    \n",
    "    \n",
    "    "
   ]
  },
  {
   "cell_type": "code",
   "execution_count": 28,
   "metadata": {
    "collapsed": false
   },
   "outputs": [
    {
     "name": "stdout",
     "output_type": "stream",
     "text": [
      "ENSCAFG00000032113\n",
      "ENSCAFG00000028745\n",
      "ENSCAFG00000031570\n",
      "ENSCAFG00000016517\n",
      "VPREB1\n",
      "ENSCAFG00000014142\n",
      "ENSCAFG00000014144\n",
      "ENSCAFG00000028972\n",
      "ENSCAFG00000028561\n",
      "MAGI2\n",
      "ENSCAFG00000032099\n",
      "DACH2\n",
      "ENSCAFG00000019588\n"
     ]
    }
   ],
   "source": [
    "for i in allDict.keys():\n",
    "    genes = allDict[i][7]\n",
    "    if genes is False:\n",
    "        continue\n",
    "    else:\n",
    "        genes = genes.split(', ')\n",
    "        for geneID in genes:\n",
    "            print geneID"
   ]
  },
  {
   "cell_type": "code",
   "execution_count": 161,
   "metadata": {
    "collapsed": false
   },
   "outputs": [
    {
     "name": "stdout",
     "output_type": "stream",
     "text": [
      "bedtools intersect -wo -a /home/ampend/kidd-lab/ampend-projects/Angela/Feichen_VST/input/Mod_FastCN_candidates_5.bed -b /home/ampend/kidd-lab/ampend-projects/Angela/Feichen_VST/input/Mod_QuicKmer_candidates_5.bed > /home/ampend/kidd-lab/ampend-projects/Angela/Feichen_VST/results/Intersect_FastCN_with_QuicKmer_Regions.txt\n",
      "-->29 FastCN Vst windows were found to precisely intersect QuicKmer FST regions (i.e. no buffering window of overlap)\n"
     ]
    }
   ],
   "source": [
    "#Now intersect VST candidates from QuicKmer with FASTCN\n",
    "fastcnfile = vstDir + 'input/' + 'Mod_FastCN_candidates_5.bed'\n",
    "quickmerfile = vstDir + 'input/' + 'Mod_QuicKmer_candidates_5.bed'\n",
    "\n",
    "#Intersecting command:\n",
    "outfile = vstDir + 'results/Intersect_FastCN_with_QuicKmer_Regions.txt'\n",
    "cmd = 'bedtools intersect -wo -a %s -b %s > %s' % (fastcnfile, quickmerfile, outfile)\n",
    "print cmd\n",
    "genutils.runCMD(cmd) \n",
    "\n",
    "inFile = open(outfile, 'r')\n",
    "#checking window counts\n",
    "f = outfile\n",
    "count = count_lines(f)\n",
    "print '-->%i FastCN Vst windows were found to precisely intersect QuicKmer FST regions (i.e. no buffering window of overlap)' % count\n"
   ]
  }
 ],
 "metadata": {
  "anaconda-cloud": {},
  "kernelspec": {
   "display_name": "Python [conda root]",
   "language": "python",
   "name": "conda-root-py"
  },
  "language_info": {
   "codemirror_mode": {
    "name": "ipython",
    "version": 2
   },
   "file_extension": ".py",
   "mimetype": "text/x-python",
   "name": "python",
   "nbconvert_exporter": "python",
   "pygments_lexer": "ipython2",
   "version": "2.7.12"
  }
 },
 "nbformat": 4,
 "nbformat_minor": 1
}
