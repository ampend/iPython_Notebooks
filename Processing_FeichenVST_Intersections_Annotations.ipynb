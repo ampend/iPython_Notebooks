{
 "cells": [
  {
   "cell_type": "code",
   "execution_count": 130,
   "metadata": {
    "collapsed": false
   },
   "outputs": [],
   "source": [
    "#this uses iPython magic to make plots appear inline\n",
    "%matplotlib inline\n",
    "import matplotlib.pyplot as plt\n",
    "import scipy.stats as stats\n",
    "import pandas as pd\n",
    "\n",
    "import genutils\n",
    "import os\n",
    "import sys\n",
    "import numpy as np\n",
    "import re"
   ]
  },
  {
   "cell_type": "code",
   "execution_count": 131,
   "metadata": {
    "collapsed": false
   },
   "outputs": [],
   "source": [
    "def count_lines(f):\n",
    "    lineCount = 0\n",
    "    with open(f, 'r') as f:\n",
    "        for line in f:\n",
    "            lineCount += 1\n",
    "        return lineCount"
   ]
  },
  {
   "cell_type": "code",
   "execution_count": 132,
   "metadata": {
    "collapsed": true
   },
   "outputs": [],
   "source": [
    "#vstType = 'FastCN'\n",
    "# OR\n",
    "vstType = 'QuicKmer'"
   ]
  },
  {
   "cell_type": "code",
   "execution_count": 143,
   "metadata": {
    "collapsed": false
   },
   "outputs": [
    {
     "name": "stdout",
     "output_type": "stream",
     "text": [
      "#Working directory for the Vst analyses is the following:\n",
      "/home/ampend/kidd-lab/ampend-projects/Angela/Feichen_VST/\n",
      "\n",
      "#Reading in candidate VST regions from:\n",
      "/home/ampend/kidd-lab/ampend-projects/Angela/Feichen_VST/input/QuicKmer_candidates_5.bed\n",
      "Writing out new window IDs and modifying file structure for the following BED file:\n",
      "/home/ampend/kidd-lab/ampend-projects/Angela/Feichen_VST/input/Mod_QuicKmer_candidates_5.bed\n",
      "Writing out new window IDs and modifying file structure for the following TEXT file:\n",
      "/home/ampend/kidd-lab/ampend-projects/Angela/Feichen_VST/input/Mod_QuicKmer_candidates_5.txt\n",
      "Wrote new information for 37 VST windows to outfile\n"
     ]
    }
   ],
   "source": [
    "vstDir = '/home/ampend/kidd-lab/ampend-projects/Angela/Feichen_VST/'\n",
    "print '#Working directory for the Vst analyses is the following:\\n', vstDir\n",
    "\n",
    "vstfile = vstDir + 'input/' + vstType + '_candidates_5.bed'\n",
    "print '\\n#Reading in candidate VST regions from:\\n', vstfile\n",
    "vstFile = open(vstfile, 'r')\n",
    "#open new bed file to store information and rename the windows\n",
    "newVstbedfile = vstDir + 'input/' + 'Mod_' + vstType + '_candidates_5.bed'\n",
    "print 'Writing out new window IDs and modifying file structure for the following BED file:\\n', newVstbedfile\n",
    "newVstbedFile = open(newVstbedfile, 'w')\n",
    "#open new text file to store information and rename the windows that matches the bed file\n",
    "newVstoutfile = vstDir + 'input/' + 'Mod_' + vstType + '_candidates_5.txt'\n",
    "print 'Writing out new window IDs and modifying file structure for the following TEXT file:\\n', newVstoutfile\n",
    "newVstoutFile = open(newVstoutfile, 'w')\n",
    "\n",
    "vstCount = 0\n",
    "vstDict = {}\n",
    "\n",
    "for line in vstFile:\n",
    "    line = line.rstrip()\n",
    "    line = line.split('\\t')\n",
    "    vstCount += 1\n",
    "    \n",
    "    chrom = line[0]\n",
    "    start = line[1]\n",
    "    end = line[2]\n",
    "    zScore = line[3]\n",
    "    winID = line[4] + '_' + str(vstCount)\n",
    "    \n",
    "    newVstbedFile.write('%s\\t%s\\t%s\\t%s\\n' % (chrom, start,end, winID))\n",
    "    newStart = int(start) + 1\n",
    "    newVstoutFile.write('%s\\t%s\\t%s\\t%s\\t%s\\n' % (chrom, newStart,end, winID, zScore))\n",
    "    \n",
    "print 'Wrote new information for %i VST windows to outfile' % (vstCount)\n",
    "vstFile.close()\n"
   ]
  },
  {
   "cell_type": "code",
   "execution_count": 144,
   "metadata": {
    "collapsed": false
   },
   "outputs": [
    {
     "name": "stdout",
     "output_type": "stream",
     "text": [
      "#Intersecting the FST and VST windows directly...\n",
      "bedtools intersect -wo -a /home/ampend/kidd-lab/ampend-projects/Angela/Feichen_VST/input/Mod_QuicKmer_candidates_5.bed -b /home/ampend/kidd-lab/ampend-projects/Angela/Re-RunningAnalysis_NewScripts/new_results/results/MergedWindows/FinalMergedCDRs/Final_CDRCoordinates_AllSNPSets_Table.bed > /home/ampend/kidd-lab/ampend-projects/Angela/Feichen_VST/results/Intersect_QuicKmer_Vst_with_FstCDRs.txt\n",
      "-->2 Vst windows found to intersect FST regions\n",
      "\n",
      "#Intersecting the FST and VST windows with 50kb buffering windows...\n",
      "bedtools window -w 50000 -a /home/ampend/kidd-lab/ampend-projects/Angela/Feichen_VST/input/Mod_QuicKmer_candidates_5.bed -b /home/ampend/kidd-lab/ampend-projects/Angela/Re-RunningAnalysis_NewScripts/new_results/results/MergedWindows/FinalMergedCDRs/Final_CDRCoordinates_AllSNPSets_Table.bed > /home/ampend/kidd-lab/ampend-projects/Angela/Feichen_VST/results/50kbWindowIntersect_QuicKmer_Vst_with_FstCDRs.txt\n",
      "-->2 Vst windows found to intersect FST regions with window size = 50kb\n",
      "\n",
      "#Intersecting the FST and VST windows with 200kb buffering windows...\n",
      "bedtools window -w 50000 -a /home/ampend/kidd-lab/ampend-projects/Angela/Feichen_VST/input/Mod_QuicKmer_candidates_5.bed -b /home/ampend/kidd-lab/ampend-projects/Angela/Re-RunningAnalysis_NewScripts/new_results/results/MergedWindows/FinalMergedCDRs/Final_CDRCoordinates_AllSNPSets_Table.bed > /home/ampend/kidd-lab/ampend-projects/Angela/Feichen_VST/results/200kbWindowIntersect_QuicKmer_Vst_with_FstCDRs.txt\n",
      "-->2 Vst windows found to intersect FST regions with window size = 200kb\n"
     ]
    }
   ],
   "source": [
    "#New VST bedfile for intersecting\n",
    "newVstbedfile = vstDir + 'input/' + 'Mod_' + vstType + '_candidates_5.bed'\n",
    "\n",
    "#Intersecting the vst BED file with the FST results\n",
    "outfile = vstDir + 'results/' + 'Intersect_' + vstType + '_Vst_with_FstCDRs.txt'\n",
    "print '#Intersecting the FST and VST windows directly...'\n",
    "cmd = 'bedtools intersect -wo -a %s -b %s > %s' % (newVstbedfile, fstfile, outfile)\n",
    "print cmd\n",
    "genutils.runCMD(cmd)\n",
    "#checking window counts\n",
    "f = outfile\n",
    "count = count_lines(f)\n",
    "print '-->%i Vst windows found to intersect FST regions' % count  \n",
    "\n",
    "#Intersecting the vst BED file with the FST results using window approach\n",
    "#50kb windows\n",
    "outfile = vstDir + 'results/' + '50kbWindowIntersect_'+ vstType + '_Vst_with_FstCDRs.txt'\n",
    "print '\\n#Intersecting the FST and VST windows with 50kb buffering windows...'\n",
    "cmd = 'bedtools window -w 50000 -a %s -b %s > %s' % (newVstbedfile, fstfile, outfile)\n",
    "print cmd\n",
    "genutils.runCMD(cmd)\n",
    "#checking window counts\n",
    "f = outfile\n",
    "count = count_lines(f)\n",
    "print '-->%i Vst windows found to intersect FST regions with window size = 50kb' % count\n",
    "\n",
    "#200kb windows\n",
    "outfile = vstDir + 'results/' + '200kbWindowIntersect_' + vstType + '_Vst_with_FstCDRs.txt'\n",
    "print '\\n#Intersecting the FST and VST windows with 200kb buffering windows...'\n",
    "cmd = 'bedtools window -w 50000 -a %s -b %s > %s' % (newVstbedfile, fstfile, outfile)\n",
    "print cmd\n",
    "genutils.runCMD(cmd)\n",
    "#checking window counts\n",
    "f = outfile\n",
    "count = count_lines(f)\n",
    "print '-->%i Vst windows found to intersect FST regions with window size = 200kb' % count\n",
    "\n"
   ]
  },
  {
   "cell_type": "code",
   "execution_count": 145,
   "metadata": {
    "collapsed": false
   },
   "outputs": [
    {
     "name": "stdout",
     "output_type": "stream",
     "text": [
      "\n",
      "#Reading in final FST CDR regions from:\n",
      "/home/ampend/kidd-lab/ampend-projects/Angela/Re-RunningAnalysis_NewScripts/new_results/results/MergedWindows/FinalMergedCDRs/Final_CDRCoordinates_AllSNPSets_Table.bed\n"
     ]
    }
   ],
   "source": [
    "##############\n",
    "# INPUT FST FILE\n",
    "##############\n",
    "fstfile = '/home/ampend/kidd-lab/ampend-projects/Angela/Re-RunningAnalysis_NewScripts/new_results/results/MergedWindows/FinalMergedCDRs/Final_CDRCoordinates_AllSNPSets_Table.bed'\n",
    "print '\\n#Reading in final FST CDR regions from:\\n', fstfile\n",
    "fstFile = open(fstfile, 'r')"
   ]
  },
  {
   "cell_type": "code",
   "execution_count": 146,
   "metadata": {
    "collapsed": false
   },
   "outputs": [
    {
     "name": "stdout",
     "output_type": "stream",
     "text": [
      "\n",
      "Now intersecting bedfiles...\n",
      "\n",
      "Reading in the Ensembl 81 genes from the following file:\n",
      "/home/ampend/kidd-lab/ampend-projects/BLAST2GO/results/BLAST2GO_Ensembl81_GeneTables_WithEnscafIDsAndChrom.bed\n",
      "bedtools intersect -wo -a /home/ampend/kidd-lab/ampend-projects/Angela/Feichen_VST/input/Mod_QuicKmer_candidates_5.bed -b /home/ampend/kidd-lab/ampend-projects/BLAST2GO/results/BLAST2GO_Ensembl81_GeneTables_WithEnscafIDsAndChrom.bed > /home/ampend/kidd-lab/ampend-projects/Angela/Feichen_VST/results/Intersect_QuicKmer_VSTWindows_Ensembl81Genes.txt\n"
     ]
    }
   ],
   "source": [
    "###########################\n",
    "#Intersecting with Ensembl Genes\n",
    "###########################\n",
    "print '\\nNow intersecting bedfiles...\\n'\n",
    "#Determining variables\n",
    "inBedFile = newVstbedfile\n",
    "genebedfile = '/home/ampend/kidd-lab/ampend-projects/BLAST2GO/results/BLAST2GO_Ensembl81_GeneTables_WithEnscafIDsAndChrom.bed'\n",
    "print 'Reading in the Ensembl 81 genes from the following file:\\n', genebedfile\n",
    "geneBedFile = open(genebedfile, 'r')\n",
    "outfile = vstDir + 'results/' + 'Intersect_' + vstType + '_VSTWindows_Ensembl81Genes.txt'\n",
    "\n",
    "cmd = 'bedtools intersect -wo -a %s -b %s > %s' % (inBedFile, genebedfile, outfile)\n",
    "print cmd\n",
    "genutils.runCMD(cmd) "
   ]
  },
  {
   "cell_type": "code",
   "execution_count": 147,
   "metadata": {
    "collapsed": false
   },
   "outputs": [],
   "source": [
    "################################################\n",
    "#Parse bedtools intersect file against Ensembl genes\n",
    "################################################\n",
    "#Reading the intersect file results\n",
    "intersectFile = open(outfile,'r') #outfile from the intersect step above\n",
    "\n",
    "# going through Ensembl bedtool intersect results file\n",
    "ensGDict = {} #ensGDict[windowID] = [gene1,gene2,gene3...]\n",
    "ensID = ''\n",
    "sigGenes = [] #To keep track of all gene IDs (ENSCAFG) that are in sig windows\n",
    "\n",
    "for line in intersectFile:\n",
    "    line = line.rstrip() #removing extraneous whitespace characters\n",
    "    line = line.split() #delimiting \"columns\" in the file based on tabs\t\t\n",
    "    winID = line[3]\n",
    "    hit = line[7].split('_')\n",
    "    Gene = hit[1]\n",
    "    ensGID = hit[2]\n",
    "    sigGenes.append(Gene)\n",
    "    if winID in ensGDict:\n",
    "        ensGDict[winID].append(ensGID)\n",
    "    else:\n",
    "        ensGDict[winID] = []\n",
    "        ensGDict[winID].append(ensGID) \n",
    "intersectFile.close()"
   ]
  },
  {
   "cell_type": "code",
   "execution_count": 148,
   "metadata": {
    "collapsed": false
   },
   "outputs": [],
   "source": [
    "################################################\n",
    "#Parse bedtools intersect file against FST CDRs\n",
    "################################################\n",
    "#Reading the intersect file results to FST CDRs\n",
    "outfile = vstDir + 'results/' + 'Intersect_' + vstType + '_Vst_with_FstCDRs.txt'\n",
    "intersectFile = open(outfile,'r') #outfile from the intersect step above\n",
    "\n",
    "# going through Ensembl bedtool intersect results file\n",
    "fstDict = {} #ensGDict[windowID] = [gene1,gene2,gene3...]\n",
    "fstID = ''\n",
    "fstWindows = [] #To keep track of all gene IDs (ENSCAFG) that are in sig windows\n",
    "\n",
    "for line in intersectFile:\n",
    "    line = line.rstrip() #removing extraneous whitespace characters\n",
    "    line = line.split() #delimiting \"columns\" in the file based on tabs\t\t\n",
    "\n",
    "    vstID = line[3]\n",
    "    fstID = line[7]\n",
    "\n",
    "    if vstID in fstDict:\n",
    "        fstDict[vstID].append(fstID)\n",
    "    else:\n",
    "        fstDict[vstID] = []\n",
    "        fstDict[vstID].append(fstID) \n",
    "intersectFile.close()\n"
   ]
  },
  {
   "cell_type": "code",
   "execution_count": 152,
   "metadata": {
    "collapsed": false
   },
   "outputs": [
    {
     "name": "stdout",
     "output_type": "stream",
     "text": [
      "\n",
      "#Reading in candidate VST regions from:\n",
      "/home/ampend/kidd-lab/ampend-projects/Angela/Feichen_VST/input/QuicKmer_candidates_5.bed\n",
      "\n",
      "Writing VST summary data table with FST intersects and gene IDs here: \n",
      "/home/ampend/kidd-lab/ampend-projects/Angela/Feichen_VST/results/QuicKmer_CDRs_WithFSTIntersects_GeneTable.txt\n",
      "There are now 37 VST regions saved to the allDict dictionary for further processing\n"
     ]
    }
   ],
   "source": [
    "newVstoutfile = vstDir + 'input/' + 'Mod_' + vstType + '_candidates_5.txt'\n",
    "print '\\n#Reading in candidate VST regions from:\\n', vstfile\n",
    "vstFile = open(newVstoutfile, 'r')\n",
    "\n",
    "############################################################################\n",
    "# SUMMARIZING VST HITS WITH ENSEMBL GENES AND FST REGIONS\n",
    "##########################################################################\n",
    "Outfile = vstDir + 'results/' + vstType + '_CDRs_WithFSTIntersects_GeneTable.txt' #Write out the VST Summary data table here\n",
    "print '\\nWriting VST summary data table with FST intersects and gene IDs here: \\n', Outfile\n",
    "outFile = open(Outfile, 'w')\n",
    "#Defining header based on the structure of the dictionary you created:\n",
    "#Add to this if you're adding more to your dictionary \n",
    "headerLine = 'Chrom\\tStart\\tEnd\\tWindowID\\tWindowLength(bp)AverageZ-score\\tIntersecting_FST_CDR\\tIntersectingGenes\\n'\n",
    "outFile.write(headerLine)\n",
    "\n",
    "vstCount = 0\n",
    "#Change this if you're working with the QuicKmer VST calls or the FastCN VST calls\n",
    "VSTtype = 'FCN' # or 'QM'\n",
    "\n",
    "WinID = '' #Setting equal to nothing\n",
    "allDict = {} # defining the dictionary that will have all the results of bedtool intersect compiled by windows\n",
    "\n",
    "for line in vstFile:\n",
    "    line = line.rstrip()\n",
    "    line = line.split('\\t')\n",
    "    vstCount += 1 #To use when naming the VST regions with unique identifiers\n",
    "    \n",
    "    chrom = line[0]\n",
    "    start_pos = int(line[1])\n",
    "    end_pos = int(line[2])\n",
    "    WinID = line[3]#VSTtype + '_' + str(vstCount)\n",
    "    winLength = end_pos - start_pos\n",
    "    zscore = line[4] #TO ADD ONCE YOU GET FILE BACK FROM FEICHEN\n",
    "    winCoord = chrom + \":\" + str(start_pos) + \"-\" + str(end_pos)\n",
    "    \n",
    "    #Open up dictionary for WinID\n",
    "    #0=WinID, 1=chr, 2=start_pos, 3=end_pos, 4=Window length, #5=Zscore\n",
    "    #6=Intersects with an FST CDR (default = False), \n",
    "    #7=Intersects with Ensembl Gene IDs (default = False)\n",
    "    #8=window coordinates\n",
    "    allDict[WinID] = [chrom,start_pos,end_pos,WinID,winLength,zscore,False,False,winCoord] #setting up empty dictionary\n",
    "\n",
    "    #Did this VST window intersect with a FST CDR?\n",
    "    if WinID in fstDict: #If this window is in the ensembl list you generated, then...:\n",
    "        y = \", \".join(map(str, fstDict[WinID])) #This takes the list you generated from the Ensembl file and joins each entry in the list with a comma\n",
    "        allDict[WinID][6] = y #Now it adds 'y' you generated in the line above to your dictionary\n",
    "\n",
    "    #Did this VST window intersect with a gene?\n",
    "    if WinID in ensGDict: #If this window is in the ensembl list you generated, then...:\n",
    "        y = \", \".join(map(str, ensGDict[WinID])) #This takes the list you generated from the Ensembl file and joins each entry in the list with a comma\n",
    "        allDict[WinID][7] = y #Now it adds 'y' you generated in the line above to your dictionary\n",
    "\n",
    "print 'There are now %i VST regions saved to the allDict dictionary for further processing' % (len(allDict))\n",
    "\n",
    "#Writing out results\n",
    "for keys in sorted(allDict.keys()): #Now loops through each \n",
    "    #print \"\\t\".join(map(str,allDict[keys]))\n",
    "    outFile.write(\"\\t\".join(map(str,allDict[keys])))\n",
    "    outFile.write(\"\\n\")"
   ]
  },
  {
   "cell_type": "code",
   "execution_count": 150,
   "metadata": {
    "collapsed": false
   },
   "outputs": [
    {
     "name": "stdout",
     "output_type": "stream",
     "text": [
      "2 windows intersect with FST CDRs\n",
      "9 windows intersect with Ensembl genes\n"
     ]
    }
   ],
   "source": [
    "geneCount = 0\n",
    "fstCount = 0\n",
    "for keys in sorted(allDict.keys()):\n",
    "    if allDict[keys][6] is not False:\n",
    "        fstCount += 1\n",
    "    if allDict[keys][7] is not False:\n",
    "        geneCount += 1\n",
    "\n",
    "print '%i windows intersect with FST CDRs' % (fstCount)\n",
    "print '%i windows intersect with Ensembl genes' % (geneCount)"
   ]
  },
  {
   "cell_type": "code",
   "execution_count": 157,
   "metadata": {
    "collapsed": false
   },
   "outputs": [
    {
     "name": "stdout",
     "output_type": "stream",
     "text": [
      "bedtools intersect -wo -a /home/ampend/kidd-lab/ampend-projects/Angela/Feichen_VST/input/FastCN_candidates_5.bed -b /home/ampend/kidd-lab/ampend-projects/Angela/Feichen_VST/input/QuicKmer_candidates_5.bed > /home/ampend/kidd-lab/ampend-projects/Angela/Feichen_VST/results/Intersect_FastCN_with_QuicKmer_Regions.txt\n"
     ]
    }
   ],
   "source": [
    "#Now intersect VST candidates from QuicKmer with FASTCN\n",
    "fastcnfile = vstDir + 'input/' + 'FastCN_candidates_5.bed'\n",
    "quickmerfile = vstDir + 'input/' + 'QuicKmer_candidates_5.bed'\n",
    "\n",
    "#Intersecting command:\n",
    "outfile = vstDir + 'results/Intersect_FastCN_with_QuicKmer_Regions.txt'\n",
    "cmd = 'bedtools intersect -wo -a %s -b %s > %s' % (fastcnfile, quickmerfile, outfile)\n",
    "print cmd\n",
    "genutils.runCMD(cmd) \n",
    "\n",
    "inFile = open(outfile, 'r')\n"
   ]
  }
 ],
 "metadata": {
  "anaconda-cloud": {},
  "kernelspec": {
   "display_name": "Python [conda root]",
   "language": "python",
   "name": "conda-root-py"
  },
  "language_info": {
   "codemirror_mode": {
    "name": "ipython",
    "version": 2
   },
   "file_extension": ".py",
   "mimetype": "text/x-python",
   "name": "python",
   "nbconvert_exporter": "python",
   "pygments_lexer": "ipython2",
   "version": "2.7.12"
  }
 },
 "nbformat": 4,
 "nbformat_minor": 1
}
