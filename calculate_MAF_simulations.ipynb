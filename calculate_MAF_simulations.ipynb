{
 "cells": [
  {
   "cell_type": "code",
   "execution_count": 1,
   "metadata": {
    "collapsed": true
   },
   "outputs": [],
   "source": [
    "#this uses iPython magic to make plots appear inline\n",
    "%matplotlib inline\n",
    "import matplotlib.pyplot as plt\n",
    "import pandas as pd\n",
    "import subprocess\n",
    "import sys\n",
    "import numpy as np\n",
    "import matplotlib.patches as patches\n",
    "import glob\n",
    "import seaborn as sns\n",
    "import gzip\n",
    "\n",
    "def count_lines(f):\n",
    "    lineCount = 0\n",
    "    with open(f, 'r') as f:\n",
    "        for line in f:\n",
    "            lineCount += 1\n",
    "        return lineCount\n",
    "def runCMD(cmd):\n",
    "    val = subprocess.Popen(cmd, shell=True).wait()\n",
    "    if val == 0:\n",
    "        pass\n",
    "    else:\n",
    "        print ('command failed')\n",
    "        print (cmd)\n",
    "        sys.exit(1)"
   ]
  },
  {
   "cell_type": "code",
   "execution_count": 2,
   "metadata": {
    "collapsed": true
   },
   "outputs": [],
   "source": [
    "inDir = '/home/ampend/links/kidd-lab/ampend-projects/Angela/XP-CLR/'"
   ]
  },
  {
   "cell_type": "code",
   "execution_count": 3,
   "metadata": {
    "collapsed": true
   },
   "outputs": [],
   "source": [
    "def calc_maf(inFile):\n",
    "    SNPCount = 0\n",
    "    for line in inFile:\n",
    "        line=line.rstrip().split('\\t')\n",
    "        if '#' in line[0]:\n",
    "            continue\n",
    "        SNPCount += 1\n",
    "        genoCount,minorCount  = 0, 0\n",
    "        for col in range(9,len(line)): \n",
    "            info = line[col].split(':')\n",
    "            genotypePair = [info[0].split('/')]\n",
    "            if '.' in info[0]:\n",
    "                continue\n",
    "            else:\n",
    "                genoCount += 1\n",
    "            if '0/0' == info[0]:\n",
    "                continue\n",
    "            if '0/1' == info[0]:\n",
    "                minorCount += 1\n",
    "            if '1/1' == info[0]:\n",
    "                minorCount += 2\n",
    "        MAF = minorCount/float(genoCount*2)\n",
    "        villageMACount.append(minorCount)\n",
    "        villageMAF.append(MAF)\n",
    "\n",
    "    print('Processed %i SNPs' % SNPCount)\n",
    "    return villageMAF,villageMACount"
   ]
  },
  {
   "cell_type": "code",
   "execution_count": 4,
   "metadata": {},
   "outputs": [
    {
     "name": "stdout",
     "output_type": "stream",
     "text": [
      "Processed 7262718 SNPs\n"
     ]
    }
   ],
   "source": [
    "#For village dogs --- REAL SNP SET\n",
    "villageVCF = open(inDir + 'input/' + 'village_autos-X.snp.indel5.autoPar.vqsr99.FILTERED_biallelic.recode.vcf', 'r')\n",
    "#Calculating the MAF\n",
    "villageMAF,villageMACount = [], []\n",
    "villageMAF,villageMACount = calc_maf(villageVCF)\n",
    "villageVCF.close()\n",
    "#Writing to outfile\n",
    "villageMAFFile = open('/home/ampend/links/kidd-lab/ampend-projects/Angela/XP-CLR/input/' + 'VillageMAF__autos-X.snp.indel5.autoPar.vqsr99.FILTERED_biallelic_mxb_rm.recode.txt','w')\n",
    "villageMACountFile = open('/home/ampend/links/kidd-lab/ampend-projects/Angela/XP-CLR/input/' + 'VillageMACount__autos-X.snp.indel5.autoPar.vqsr99.FILTERED_biallelic_mxb_rm.recode.txt','w')\n",
    "for i in range(0,len(villageMAF)):\n",
    "    villageMAFFile.write(str(villageMAF[i]) + '\\n')\n",
    "    villageMACountFile.write(str(villageMACount[i]) + '\\n')\n",
    "villageMAFFile.close()\n",
    "villageMACountFile.close()\n"
   ]
  },
  {
   "cell_type": "code",
   "execution_count": 13,
   "metadata": {
    "collapsed": true
   },
   "outputs": [],
   "source": []
  },
  {
   "cell_type": "code",
   "execution_count": 5,
   "metadata": {},
   "outputs": [
    {
     "name": "stdout",
     "output_type": "stream",
     "text": [
      "Processed 7262718 SNPs\n"
     ]
    }
   ],
   "source": [
    "wolfVCF = open(inDir + 'input/' + 'wolves_autos-X.snp.indel5.autoPar.vqsr99.FILTERED_biallelic_mxb_rm.recode.vcf', 'r')\n",
    "#Calculating MAF \n",
    "wolfMAF,wolfMACount = [],[]\n",
    "wolfMAF,wolfMACount = calc_maf(wolfVCF)\n",
    "wolfVCF.close()\n",
    "#Writing outfile\n",
    "wolfMAFFile = open('/home/ampend/links/kidd-lab/ampend-projects/Angela/XP-CLR/input/' + 'WolvesMAF__autos-X.snp.indel5.autoPar.vqsr99.FILTERED_biallelic_mxb_rm.recode.txt','w')\n",
    "wolfMACountFile = open('/home/ampend/links/kidd-lab/ampend-projects/Angela/XP-CLR/input/' + 'WolvesMACount__autos-X.snp.indel5.autoPar.vqsr99.FILTERED_biallelic_mxb_rm.recode.txt','w')\n",
    "for i in range(0,len(villageMAF)):\n",
    "    wolfMAFFile.write(str(wolfMAF[i]) + '\\n')\n",
    "    wolfMACountFile.write(str(wolfMACount[i]) + '\\n')\n",
    "wolfMAFFile.close()\n",
    "wolfMACountFile.close()"
   ]
  },
  {
   "cell_type": "markdown",
   "metadata": {},
   "source": [
    "############################################################\n",
    "############################################################\n",
    "############################################################\n",
    "############################################################\n",
    "############################################################"
   ]
  },
  {
   "cell_type": "code",
   "execution_count": 9,
   "metadata": {},
   "outputs": [
    {
     "data": {
      "image/png": "[encoded data removed]",
      "text/plain": [
       "<matplotlib.figure.Figure at 0x2ac904629320>"
      ]
     },
     "metadata": {},
     "output_type": "display_data"
    }
   ],
   "source": [
    "_ = plt.hist(villageMAF,bins=15,alpha=0.5,label='Village Dog')\n",
    "_ = plt.hist(wolfMAF,bins=15,alpha=0.5,label='Wolf')\n",
    "plt.title('Minor Allele Frequency - Real SNP Set')\n",
    "plt.legend()\n",
    "plt.show()"
   ]
  },
  {
   "cell_type": "code",
   "execution_count": 29,
   "metadata": {},
   "outputs": [
    {
     "data": {
      "image/png": "[encoded data removed]",
      "text/plain": [
       "<matplotlib.figure.Figure at 0x2b0c35eccfd0>"
      ]
     },
     "metadata": {},
     "output_type": "display_data"
    }
   ],
   "source": [
    "_ = plt.hist(villageMACount,alpha=0.5,label='Village Dog')\n",
    "_ = plt.hist(wolfMACount,alpha=0.5,label='Wolf')\n",
    "plt.title('Minor Allele Counts - Real SNP Set')\n",
    "plt.legend()\n",
    "plt.show()"
   ]
  },
  {
   "cell_type": "markdown",
   "metadata": {},
   "source": [
    "############################################################\n",
    "############################################################\n",
    "############################################################\n",
    "############################################################\n",
    "############################################################"
   ]
  },
  {
   "cell_type": "code",
   "execution_count": 8,
   "metadata": {
    "collapsed": true
   },
   "outputs": [],
   "source": [
    "import gzip\n",
    "import os.path\n",
    "from pathlib import Path\n",
    "\n"
   ]
  },
  {
   "cell_type": "code",
   "execution_count": 5,
   "metadata": {
    "collapsed": true
   },
   "outputs": [],
   "source": [
    "def calc_maf_simulations(inFile):\n",
    "    SNPCount = 0\n",
    "    villageMAF, villageMACount = [], [] #array of (1) minor allele frequencies, and (2) minor allele counts\n",
    "    wolfMAF, wolfMACount = [], [] #array of (1) minor allele frequencies, and (2) minor allele counts\n",
    "    for line in gzip.open(inFile,'rb'):\n",
    "        line=line.decode() #splits a byte formatted line (FROM THE GZIP FILE FORMAT)\n",
    "        line=line.rstrip().split('\\t')\n",
    "        if '#' in line[0]:\n",
    "            continue\n",
    "        SNPCount += 1\n",
    "        #DOGS\n",
    "        dog_genoCount,dog_minorCount  = dog_geno_counts(line)\n",
    "        MAF = dog_minorCount/float(dog_genoCount*2)\n",
    "        villageMACount.append(dog_minorCount)\n",
    "        villageMAF.append(MAF)        \n",
    "        #WOLVES\n",
    "        wolf_genoCount,wolf_minorCount  = wolf_geno_counts(line)\n",
    "        MAF = wolf_minorCount/float(wolf_genoCount*2)\n",
    "        wolfMACount.append(wolf_minorCount)\n",
    "        wolfMAF.append(MAF)   \n",
    "\n",
    "\n",
    "    print('Processed %i SNPs' % SNPCount)\n",
    "    return villageMAF,villageMACount,wolfMAF, wolfMACount\n",
    "####################################################################################################\n",
    "def dog_geno_counts(line):\n",
    "    #For dogs\n",
    "    genotypeCount,minorCount = 0,0\n",
    "    for col in range(9,len(line)-9): \n",
    "        info = line[col].split(':')\n",
    "        if '.' in info[0]: #dont count the ones without genotypes\n",
    "            continue\n",
    "        else:\n",
    "            genotypeCount += 1\n",
    "        if '0/0' == info[0]:\n",
    "            continue\n",
    "        if '0/1' == info[0]:\n",
    "            minorCount += 1\n",
    "        if '1/1' == info[0]:\n",
    "            minorCount += 2\n",
    "    return genotypeCount,minorCount\n",
    "####################################################################################################\n",
    "def wolf_geno_counts(line):\n",
    "    #For wolves\n",
    "    genotypeCount,minorCount = 0,0\n",
    "    for col in range(len(line)-9,len(line)): \n",
    "        info = line[col].split(':')\n",
    "        if '.' in info[0]: #dont count the ones without genotypes\n",
    "            continue\n",
    "        else:\n",
    "            genotypeCount += 1\n",
    "        if '0/0' == info[0]:\n",
    "            continue\n",
    "        if '0/1' == info[0]:\n",
    "            minorCount += 1\n",
    "        if '1/1' == info[0]:\n",
    "            minorCount += 2\n",
    "    return genotypeCount,minorCount"
   ]
  },
  {
   "cell_type": "code",
   "execution_count": 6,
   "metadata": {
    "collapsed": true
   },
   "outputs": [],
   "source": [
    "simDir = '/home/ampend/links/kidd-lab/jmkidd-projects/dogs/selection-scan/fst-simulations/msprime-outputs/'\n",
    "myDir = '/home/ampend/links/kidd-lab/ampend-projects/Angela/Simulations/input/MAF/'"
   ]
  },
  {
   "cell_type": "code",
   "execution_count": null,
   "metadata": {},
   "outputs": [],
   "source": [
    "for chrom in range(1,39): #go through chromosomes 1-39\n",
    "    print('#chr%s' % str(chrom))\n",
    "    #for i in range(0,10): #to go through the ten simulations\n",
    "    for i in range(10,21): #to go through the ten simulations\n",
    "        print('Simulation = #%i' % i)\n",
    "        fileName = simDir + 'chr%s.%s.simulation.out.gz' % (chrom,i) #simulation out file\n",
    "        \n",
    "        my_file = Path(fileName)\n",
    "        if my_file.is_file(): #Will only process if the file exists\n",
    "            villageMAF,villageMACount,wolfMAF, wolfMACount = calc_maf_simulations(fileName)\n",
    "            #Save these results to the total arrays to keep track for plotting later\n",
    "            outFile = open(myDir + 'chr%s.%s.simulation_MAF' % (chrom,i),'w')\n",
    "            for i in range(0,len(villageMAF)):\n",
    "                outFile.write('%s\\t%s\\t%s\\t%s\\n' % (villageMAF[i],villageMACount[i],wolfMAF[i],wolfMACount[i]))\n",
    "        else:\n",
    "            continue"
   ]
  },
  {
   "cell_type": "code",
   "execution_count": null,
   "metadata": {
    "collapsed": true
   },
   "outputs": [],
   "source": []
  },
  {
   "cell_type": "code",
   "execution_count": null,
   "metadata": {
    "collapsed": true
   },
   "outputs": [],
   "source": []
  }
 ],
 "metadata": {
  "kernelspec": {
   "display_name": "Python 3",
   "language": "python",
   "name": "python3"
  },
  "language_info": {
   "codemirror_mode": {
    "name": "ipython",
    "version": 3
   },
   "file_extension": ".py",
   "mimetype": "text/x-python",
   "name": "python",
   "nbconvert_exporter": "python",
   "pygments_lexer": "ipython3",
   "version": "3.5.3"
  }
 },
 "nbformat": 4,
 "nbformat_minor": 2
}
