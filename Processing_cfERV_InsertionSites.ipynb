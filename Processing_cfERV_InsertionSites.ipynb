{
 "cells": [
  {
   "cell_type": "code",
   "execution_count": 1,
   "metadata": {
    "collapsed": false
   },
   "outputs": [
    {
     "name": "stderr",
     "output_type": "stream",
     "text": [
      "/home/jmkidd/kidd-lab/progs/anaconda/lib/python2.7/site-packages/matplotlib/__init__.py:1350: UserWarning:  This call to matplotlib.use() has no effect\n",
      "because the backend has already been chosen;\n",
      "matplotlib.use() must be called *before* pylab, matplotlib.pyplot,\n",
      "or matplotlib.backends is imported for the first time.\n",
      "\n",
      "  warnings.warn(_use_error_msg)\n"
     ]
    }
   ],
   "source": [
    "#this uses iPython magic to make plots appear inline\n",
    "%matplotlib inline\n",
    "import matplotlib.pyplot as plt\n",
    "import scipy.stats as stats\n",
    "import pandas as pd\n",
    "\n",
    "import genutils\n",
    "import os\n",
    "import sys\n",
    "import numpy as np\n",
    "import re\n",
    "import operator"
   ]
  },
  {
   "cell_type": "code",
   "execution_count": 2,
   "metadata": {
    "collapsed": true
   },
   "outputs": [],
   "source": [
    "def count_lines(f):\n",
    "    lineCount = 0\n",
    "    with open(f, 'r') as f:\n",
    "        for line in f:\n",
    "            lineCount += 1\n",
    "        return lineCount"
   ]
  },
  {
   "cell_type": "code",
   "execution_count": 3,
   "metadata": {
    "collapsed": false
   },
   "outputs": [
    {
     "name": "stdout",
     "output_type": "stream",
     "text": [
      "#Reading in coordinates from the following ERV insertion site bed file:\n",
      "/home/ampend/kidd-lab/ampend-projects/cfERVs/input/cfERV_InsertionSites_2016-12-06.txt\n",
      "#There are a total of 59 cfERV insertions in this bed file\n",
      "\n"
     ]
    }
   ],
   "source": [
    "ervDir = '/home/ampend/kidd-lab/ampend-projects/cfERVs/'\n",
    "\n",
    "bedfile = ervDir + 'input/' + 'cfERV_InsertionSites_2016-12-06.txt'\n",
    "print '#Reading in coordinates from the following ERV insertion site bed file:\\n', bedfile\n",
    "f = bedfile\n",
    "lineCount = count_lines(f)\n",
    "print '#There are a total of %i cfERV insertions in this bed file\\n' % (lineCount)\n",
    "bedFile = open(bedfile, 'r')\n",
    "\n",
    "ervDict = {}\n",
    "\n",
    "for line in bedFile:\n",
    "    line = line.rstrip()\n",
    "    line = line.split('\\t')\n",
    "    chrom = line[0]\n",
    "    start = int(line[1])\n",
    "    end = int(line[2])\n",
    "    ID = line[3]\n",
    "    \n",
    "    ervDict[ID] = [chrom,start,end,ID,'Genes','Olfactory','FST','VST']\n",
    "bedFile.close()"
   ]
  },
  {
   "cell_type": "code",
   "execution_count": 4,
   "metadata": {
    "collapsed": true
   },
   "outputs": [],
   "source": [
    "def intersect_with_FST_CDRs(ervDir):\n",
    "    #New VST bedfile for intersecting\n",
    "    bedfile = ervDir + 'input/' + 'cfERV_InsertionSites_2016-12-06.txt'\n",
    "    #bedfile with the final FST CDR coordinates\n",
    "    fstfile = '/home/ampend/kidd-lab/ampend-projects/Angela/Re-RunningAnalysis_NewScripts/new_results/results/MergedWindows/FinalMergedCDRs/Final_CDRCoordinates_AllSNPSets_Table.bed'\n",
    "\n",
    "    #Intersecting the vst BED file with the FST results\n",
    "    outfile = ervDir + 'results/' + 'Intersect_cfERVs_with_FstCDRs.txt'\n",
    "    print '#Intersecting the FST and VST windows directly...'\n",
    "    cmd = 'bedtools intersect -wo -a %s -b %s > %s' % (bedfile, fstfile, outfile)\n",
    "    print cmd\n",
    "    genutils.runCMD(cmd)\n",
    "    #checking window counts\n",
    "    f = outfile\n",
    "    count = count_lines(f)\n",
    "    print '-->%i cfERV insertions found to intersect FST regions' % count  \n",
    "\n",
    "    #Intersecting the vst BED file with the FST results using window approach\n",
    "    #50kb windows\n",
    "    outfile = ervDir + 'results/' + '50kbWindowIntersect_cfERVs_with_FstCDRs.txt'\n",
    "    print '\\n#Intersecting the FST and VST windows with 50kb buffering windows...'\n",
    "    cmd = 'bedtools window -w 50000 -a %s -b %s > %s' % (bedfile, fstfile, outfile)\n",
    "    print cmd\n",
    "    genutils.runCMD(cmd)\n",
    "    #checking window counts\n",
    "    f = outfile\n",
    "    count = count_lines(f)\n",
    "    print '-->%i cfERV insertions found to intersect FST regions with window size = 50kb' % count\n",
    "\n",
    "    #200kb windows\n",
    "    outfile = ervDir + 'results/' + '200kbWindowIntersect_cfERVs_with_FstCDRs.txt'\n",
    "    print '\\n#Intersecting the FST and VST windows with 200kb buffering windows...'\n",
    "    cmd = 'bedtools window -w 50000 -a %s -b %s > %s' % (bedfile, fstfile, outfile)\n",
    "    print cmd\n",
    "    genutils.runCMD(cmd)\n",
    "    #checking window counts\n",
    "    f = outfile\n",
    "    count = count_lines(f)\n",
    "    print '-->%i cfERV insertions found to intersect FST regions with window size = 200kb' % count\n",
    "\n"
   ]
  },
  {
   "cell_type": "code",
   "execution_count": 26,
   "metadata": {
    "collapsed": true
   },
   "outputs": [],
   "source": [
    "def intersect_with_Ensembl_Genes(bedfile):\n",
    "    print 'Now intersecting bedfiles...\\n'\n",
    "    #Determining variables\n",
    "    inBedFile = bedfile\n",
    "    genebedfile = '/home/ampend/kidd-lab/ampend-projects/BLAST2GO/results/BLAST2GO_Ensembl81_GeneTables_WithEnscafIDsAndChrom.bed'\n",
    "    print '#Reading in the Ensembl 81 genes from the following file:\\n', genebedfile\n",
    "    geneBedFile = open(genebedfile, 'r')\n",
    "    outfile = ervDir + 'results/' + 'Intersect_cfERVs_with_Ensembl81Genes.txt'\n",
    "    \n",
    "    #Exact Ensembl 81 intersect of cfERV insertion\n",
    "    cmd = 'bedtools intersect -wo -a %s -b %s > %s' % (inBedFile, genebedfile, outfile)\n",
    "    print cmd\n",
    "    genutils.runCMD(cmd) \n",
    "    #How many intersect exactly?\n",
    "    f = outfile\n",
    "    count = count_lines(f)\n",
    "    print '-->%i cfERV insertions found to intersect Ensembl 81 genes exactly' % count\n",
    "\n",
    "    #Ensembl 81 intersection within 5kb of cfERV insertion\n",
    "    outfile = ervDir + 'results/' + '5kb_Intersect_cfERVs_with_Ensembl81Genes.txt'\n",
    "    cmd = 'bedtools window -w 5000 -a %s -b %s > %s' % (inBedFile, genebedfile, outfile)\n",
    "    print cmd\n",
    "    genutils.runCMD(cmd) \n",
    "    #How many intersect within 5kb?\n",
    "    f = outfile\n",
    "    count = count_lines(f)\n",
    "    print '-->%i cfERV insertions found to intersect Ensembl 81 genes within 5kb' % count   \n",
    "\n",
    "    #Ensembl 81 intersection within 50kb of cfERV insertion\n",
    "    outfile = ervDir + 'results/' + '50kb_Intersect_cfERVs_with_Ensembl81Genes.txt'\n",
    "    cmd = 'bedtools window -w 50000 -a %s -b %s > %s' % (inBedFile, genebedfile, outfile)\n",
    "    print cmd\n",
    "    genutils.runCMD(cmd) \n",
    "    #How many intersect within 50kb?\n",
    "    f = outfile\n",
    "    count = count_lines(f)\n",
    "    print '-->%i cfERV insertions found to intersect Ensembl 81 genes within 50kb' % count\n"
   ]
  },
  {
   "cell_type": "code",
   "execution_count": 6,
   "metadata": {
    "collapsed": true
   },
   "outputs": [],
   "source": [
    "def parse_gene_intersect_file(intfile):\n",
    "    b2goDir = '/home/ampend/kidd-lab/ampend-projects/Angela/Re-RunningAnalysis_NewScripts/new_results/results/BLAST2GO/'\n",
    "    b2goList = open(ervDir + 'cfERV' + '_GeneList.txt', 'w')\n",
    "    #Reading the intersect file results\n",
    "    intersectFile = open(intfile,'r') #outfile from the intersect step with ensembl 81 genes\n",
    "\n",
    "    # going through Ensembl bedtool intersect results file\n",
    "    ensGDict = {} #ensGDict[windowID] = [gene1,gene2,gene3...]\n",
    "    ensID = ''\n",
    "    sigGenes = [] #To keep track of all gene IDs (ENSCAFG) that are in sig windows\n",
    "\n",
    "    for line in intersectFile:\n",
    "        line = line.rstrip() #removing extraneous whitespace characters\n",
    "        line = line.split() #delimiting \"columns\" in the file based on tabs\t\t\n",
    "        winID = line[3]\n",
    "        hit = line[7].split('_')\n",
    "        Protein = hit[0]\n",
    "        Gene = hit[1]\n",
    "        b2goID = Gene + '|' + Protein\n",
    "        ensGID = hit[2]\n",
    "        \n",
    "        if winID in ensGDict:\n",
    "            ensGDict[winID].append(ensGID)\n",
    "        else:\n",
    "            ensGDict[winID] = []\n",
    "            ensGDict[winID].append(ensGID) \n",
    "            sigGenes.append(b2goID)\n",
    "    intersectFile.close()\n",
    "    for i in sigGenes:\n",
    "        gene = i\n",
    "        b2goList.write('%s\\n' % gene)\n",
    "    \n",
    "    return ensGDict"
   ]
  },
  {
   "cell_type": "code",
   "execution_count": 7,
   "metadata": {
    "collapsed": true
   },
   "outputs": [],
   "source": [
    "def parse_FST_CDR_intersect_file():\n",
    "    #Reading the intersect file results to FST CDRs\n",
    "    outfile = ervDir + 'results/' + 'Intersect_cfERVs_with_FstCDRs.txt'\n",
    "    intersectFile = open(outfile,'r') #outfile from the intersect step above\n",
    "    # going through Ensembl bedtool intersect results file\n",
    "    fstDict = {} #ensGDict[windowID] = [gene1,gene2,gene3...]\n",
    "    fstID = ''\n",
    "    fstWindows = [] #To keep track of all gene IDs (ENSCAFG) that are in sig windows\n",
    "\n",
    "    for line in intersectFile:\n",
    "        line = line.rstrip() #removing extraneous whitespace characters\n",
    "        line = line.split() #delimiting \"columns\" in the file based on tabs\t\t\n",
    "        vstID = line[3]\n",
    "        fstID = line[7]\n",
    "\n",
    "        if vstID in fstDict:\n",
    "            fstDict[vstID].append(fstID)\n",
    "        else:\n",
    "            fstDict[vstID] = []\n",
    "            fstDict[vstID].append(fstID) \n",
    "    intersectFile.close()\n",
    "    return fstDict"
   ]
  },
  {
   "cell_type": "code",
   "execution_count": 16,
   "metadata": {
    "collapsed": false
   },
   "outputs": [
    {
     "name": "stdout",
     "output_type": "stream",
     "text": [
      "bedtools intersect -wo -a /home/ampend/kidd-lab/ampend-projects/Angela/Merged_Final_CDRs_VCDRs/results/Merged_Final_CDRs_VCDRs.bed -b /home/ampend/kidd-lab/ampend-projects/cfERVs/input/cfERV_InsertionSites_2016-12-06.txt > /home/ampend/kidd-lab/ampend-projects/cfERVs/results/Intersect_cfERV_with_MergedVCDRandCDRSet.txt\n",
      "-->2 cfERV insertions found to intersect merged CDR and VCDRs exactly\n",
      "bedtools window -w 50000 -a /home/ampend/kidd-lab/ampend-projects/Angela/Merged_Final_CDRs_VCDRs/results/Merged_Final_CDRs_VCDRs.bed -b /home/ampend/kidd-lab/ampend-projects/cfERVs/input/cfERV_InsertionSites_2016-12-06.txt > /home/ampend/kidd-lab/ampend-projects/cfERVs/results/50kb_Intersect_cfERV_with_MergedVCDRandCDRSet.txt\n",
      "-->3 cfERV insertions found to intersect merged CDR and VCDRs within 50kb\n"
     ]
    }
   ],
   "source": [
    "totalCDR_file = '/home/ampend/kidd-lab/ampend-projects/Angela/Merged_Final_CDRs_VCDRs/results/Merged_Final_CDRs_VCDRs.bed'\n",
    "erv_file = ervDir + 'input/' + 'cfERV_InsertionSites_2016-12-06.txt'\n",
    "\n",
    "cmd = 'bedtools intersect -wo -a %s -b %s > %sresults/Intersect_cfERV_with_MergedVCDRandCDRSet.txt' % (totalCDR_file, erv_file, ervDir)\n",
    "print cmd\n",
    "genutils.runCMD(cmd)\n",
    "\n",
    "#How many intersect exactly?\n",
    "f = ervDir + 'results/Intersect_cfERV_with_MergedVCDRandCDRSet.txt'\n",
    "count = count_lines(f)\n",
    "print '-->%i cfERV insertions found to intersect merged CDR and VCDRs exactly' % count\n",
    "\n",
    "cmd = 'bedtools window -w 50000 -a %s -b %s > %sresults/50kb_Intersect_cfERV_with_MergedVCDRandCDRSet.txt' % (totalCDR_file, erv_file, ervDir)\n",
    "print cmd\n",
    "genutils.runCMD(cmd)\n",
    "\n",
    "#How many intersect exactly?\n",
    "f = ervDir + 'results/50kb_Intersect_cfERV_with_MergedVCDRandCDRSet.txt'\n",
    "count = count_lines(f)\n",
    "print '-->%i cfERV insertions found to intersect merged CDR and VCDRs within 50kb' % count\n",
    "\n"
   ]
  },
  {
   "cell_type": "code",
   "execution_count": 24,
   "metadata": {
    "collapsed": false
   },
   "outputs": [
    {
     "name": "stdout",
     "output_type": "stream",
     "text": [
      "bedtools intersect -wo -a /home/ampend/kidd-lab-scratch/feichens-projects/dogs/olfactory/OR_all_sort_noU.bed -b /home/ampend/kidd-lab/ampend-projects/cfERVs/input/cfERV_InsertionSites_2016-12-06.txt > /home/ampend/kidd-lab/ampend-projects/cfERVs/results/Intersect_cfERV_with_OlfactoryReceptors.txt\n",
      "-->0 cfERV insertions found to intersect merged CDR and VCDRs exactly\n",
      "bedtools window -w 5000 -a /home/ampend/kidd-lab-scratch/feichens-projects/dogs/olfactory/OR_all_sort_noU.bed -b /home/ampend/kidd-lab/ampend-projects/cfERVs/input/cfERV_InsertionSites_2016-12-06.txt > /home/ampend/kidd-lab/ampend-projects/cfERVs/results/5kb_Intersect_cfERV_with_OlfactoryReceptors.txt\n",
      "-->1 cfERV insertions found to intersect merged CDR and VCDRs within 5kb\n",
      "bedtools window -w 50000 -a /home/ampend/kidd-lab-scratch/feichens-projects/dogs/olfactory/OR_all_sort_noU.bed -b /home/ampend/kidd-lab/ampend-projects/cfERVs/input/cfERV_InsertionSites_2016-12-06.txt > /home/ampend/kidd-lab/ampend-projects/cfERVs/results/50kb_Intersect_cfERV_with_OlfactoryReceptors.txt\n",
      "-->9 cfERV insertions found to intersect merged CDR and VCDRs within 50kb\n"
     ]
    }
   ],
   "source": [
    "olfactory_file = '/home/ampend/kidd-lab-scratch/feichens-projects/dogs/olfactory/OR_all_sort_noU.bed'\n",
    "erv_file = ervDir + 'input/' + 'cfERV_InsertionSites_2016-12-06.txt'\n",
    "\n",
    "cmd = 'bedtools intersect -wo -a %s -b %s > %sresults/Intersect_cfERV_with_OlfactoryReceptors.txt' % (olfactory_file, erv_file, ervDir)\n",
    "print cmd\n",
    "genutils.runCMD(cmd)\n",
    "\n",
    "#How many intersect exactly?\n",
    "f = ervDir + 'results/Intersect_cfERV_with_OlfactoryReceptors.txt'\n",
    "count = count_lines(f)\n",
    "print '-->%i cfERV insertions found to intersect olfactory receptors exactly' % count\n",
    "\n",
    "#Within 5kb?\n",
    "cmd = 'bedtools window -w 5000 -a %s -b %s > %sresults/5kb_Intersect_cfERV_with_OlfactoryReceptors.txt' % (olfactory_file, erv_file, ervDir)\n",
    "print cmd\n",
    "genutils.runCMD(cmd)\n",
    "\n",
    "#How many intersect Within 50kb??\n",
    "f = ervDir + 'results/5kb_Intersect_cfERV_with_OlfactoryReceptors.txt'\n",
    "count = count_lines(f)\n",
    "print '-->%i cfERV insertions found to intersect olfactory receptors within 5kb' % count\n",
    "\n",
    "\n",
    "#Within 50kb?\n",
    "cmd = 'bedtools window -w 50000 -a %s -b %s > %sresults/50kb_Intersect_cfERV_with_OlfactoryReceptors.txt' % (olfactory_file, erv_file, ervDir)\n",
    "print cmd\n",
    "genutils.runCMD(cmd)\n",
    "\n",
    "#How many intersect Within 50kb??\n",
    "f = ervDir + 'results/50kb_Intersect_cfERV_with_OlfactoryReceptors.txt'\n",
    "count = count_lines(f)\n",
    "print '-->%i cfERV insertions found to intersect olfactory receptors within 50kb' % count\n",
    "\n"
   ]
  },
  {
   "cell_type": "code",
   "execution_count": 27,
   "metadata": {
    "collapsed": false
   },
   "outputs": [
    {
     "name": "stdout",
     "output_type": "stream",
     "text": [
      "Now intersecting cfERV insertions with FST CDRs\n",
      "#Intersecting the FST and VST windows directly...\n",
      "bedtools intersect -wo -a /home/ampend/kidd-lab/ampend-projects/cfERVs/input/cfERV_InsertionSites_2016-12-06.txt -b /home/ampend/kidd-lab/ampend-projects/Angela/Re-RunningAnalysis_NewScripts/new_results/results/MergedWindows/FinalMergedCDRs/Final_CDRCoordinates_AllSNPSets_Table.bed > /home/ampend/kidd-lab/ampend-projects/cfERVs/results/Intersect_cfERVs_with_FstCDRs.txt\n",
      "-->1 cfERV insertions found to intersect FST regions\n",
      "\n",
      "#Intersecting the FST and VST windows with 50kb buffering windows...\n",
      "bedtools window -w 50000 -a /home/ampend/kidd-lab/ampend-projects/cfERVs/input/cfERV_InsertionSites_2016-12-06.txt -b /home/ampend/kidd-lab/ampend-projects/Angela/Re-RunningAnalysis_NewScripts/new_results/results/MergedWindows/FinalMergedCDRs/Final_CDRCoordinates_AllSNPSets_Table.bed > /home/ampend/kidd-lab/ampend-projects/cfERVs/results/50kbWindowIntersect_cfERVs_with_FstCDRs.txt\n",
      "-->1 cfERV insertions found to intersect FST regions with window size = 50kb\n",
      "\n",
      "#Intersecting the FST and VST windows with 200kb buffering windows...\n",
      "bedtools window -w 50000 -a /home/ampend/kidd-lab/ampend-projects/cfERVs/input/cfERV_InsertionSites_2016-12-06.txt -b /home/ampend/kidd-lab/ampend-projects/Angela/Re-RunningAnalysis_NewScripts/new_results/results/MergedWindows/FinalMergedCDRs/Final_CDRCoordinates_AllSNPSets_Table.bed > /home/ampend/kidd-lab/ampend-projects/cfERVs/results/200kbWindowIntersect_cfERVs_with_FstCDRs.txt\n",
      "-->1 cfERV insertions found to intersect FST regions with window size = 200kb\n",
      "Now intersecting VST regions with Ensembl 81 genes\n",
      "Now intersecting bedfiles...\n",
      "\n",
      "#Reading in the Ensembl 81 genes from the following file:\n",
      "/home/ampend/kidd-lab/ampend-projects/BLAST2GO/results/BLAST2GO_Ensembl81_GeneTables_WithEnscafIDsAndChrom.bed\n",
      "bedtools intersect -wo -a /home/ampend/kidd-lab/ampend-projects/cfERVs/input/cfERV_InsertionSites_2016-12-06.txt -b /home/ampend/kidd-lab/ampend-projects/BLAST2GO/results/BLAST2GO_Ensembl81_GeneTables_WithEnscafIDsAndChrom.bed > /home/ampend/kidd-lab/ampend-projects/cfERVs/results/Intersect_cfERVs_with_Ensembl81Genes.txt\n",
      "-->10 cfERV insertions found to intersect Ensembl 81 genes exactly\n",
      "bedtools window -w 5000 -a /home/ampend/kidd-lab/ampend-projects/cfERVs/input/cfERV_InsertionSites_2016-12-06.txt -b /home/ampend/kidd-lab/ampend-projects/BLAST2GO/results/BLAST2GO_Ensembl81_GeneTables_WithEnscafIDsAndChrom.bed > /home/ampend/kidd-lab/ampend-projects/cfERVs/results/5kb_Intersect_cfERVs_with_Ensembl81Genes.txt\n",
      "-->16 cfERV insertions found to intersect Ensembl 81 genes within 5kb\n",
      "bedtools window -w 50000 -a /home/ampend/kidd-lab/ampend-projects/cfERVs/input/cfERV_InsertionSites_2016-12-06.txt -b /home/ampend/kidd-lab/ampend-projects/BLAST2GO/results/BLAST2GO_Ensembl81_GeneTables_WithEnscafIDsAndChrom.bed > /home/ampend/kidd-lab/ampend-projects/cfERVs/results/50kb_Intersect_cfERVs_with_Ensembl81Genes.txt\n",
      "-->78 cfERV insertions found to intersect Ensembl 81 genes within 50kb\n",
      "Now parsing Ensembl gene intersect file:\n",
      "/home/ampend/kidd-lab/ampend-projects/cfERVs/results/50kb_Intersect_cfERVs_with_Ensembl81Genes.txt\n",
      "{'chr28_16556220': ['GSTO2', 'GSTO1', 'CFAP43'], 'chr13_16157791': ['EIF3H'], 'chr38_17036422': ['FAM177B', 'BROX', 'ENSCAFG00000013502'], 'chr12_869866': ['CDSN', 'PSORS1C2', 'TCF19', 'ENSCAFG00000000485', 'ENSCAFG00000000487', 'CCHCR1'], 'chrX_1655561': ['ARSF'], 'chr16_6873796': ['TRBV16', 'TRBV15', 'ENSCAFG00000024810', 'ENSCAFG00000003811', 'ENSCAFG00000003812', 'ENSCAFG00000028951', 'ENSCAFG00000014478'], 'chr9_29215791': ['KIF2B'], 'chr13_17413445': ['EXT1'], 'chr22_45483068': ['ENSCAFG00000028798'], 'chr10_67519229': ['PROKR1', 'APLF'], 'chr8_12837674': ['EGLN3', 'NPAS3'], 'chr32_433688': ['ENSCAFG00000032588', 'PPEF2', 'USO1'], 'chr27_44066964': ['ENSCAFG00000016001', 'DCP1B'], 'chr26_27059739': ['ENSCAFG00000032706', 'ZNF280B', 'ENSCAFG00000013587'], 'chr5_16865488': ['BUD13', 'APOA1'], 'chr28_11031902': ['SFRP5', 'GOLGA7B', 'CRTAC1', 'ZFYVE27'], 'chr38_6000019': ['GLRX2', 'TROVE2', 'UCHL5'], 'chr33_29595232': ['SMCO1', 'WDR53', 'ENSCAFG00000031170', 'RNF168', 'FBXO45'], 'chr15_32084988': ['ENSCAFG00000006152'], 'chr30_944503': ['CHRM5', 'EMC7', 'KATNBL1'], 'chr12_9415682': ['LRFN2'], 'chr9_9097765': ['EFCAB13'], 'chr2_36108332': ['PCDHB1', 'PCDHAC2', 'PCDHB2'], 'chr9_15385718': ['ENSCAFG00000010970', 'ABCA8'], 'chr26_28072473': ['ENSCAFG00000013823'], 'chr7_6132752': ['FCAMR', 'C1orf116'], 'chr22_57677039': ['MYO16'], 'chr33_5338933': ['ENSCAFG00000032143', 'ENSCAFG00000028836', 'ENSCAFG00000031167', 'ENSCAFG00000009164', 'CLDND1'], 'chr5_80814577': ['CDH1'], 'chr4_22610551': ['PSAP', 'ENSCAFG00000014229'], 'chr26_35982446': ['PRKG1'], 'chr21_7250075': ['CCDC67', 'ENSCAFG00000029851'], 'chr5_10128759': ['ENSCAFG00000032150', 'ENSCAFG00000011293']}\n",
      "\n",
      "#Now parsing the FST CDR intersect file...\n"
     ]
    }
   ],
   "source": [
    "###############################\n",
    "#1. Intersecting with FST CDRs\n",
    "###############################\n",
    "print 'Now intersecting cfERV insertions with FST CDRs'\n",
    "intersect_with_FST_CDRs(ervDir)\n",
    "\n",
    "####################################\n",
    "#2. Intersecting with Ensembl Genes\n",
    "####################################\n",
    "print 'Now intersecting VST regions with Ensembl 81 genes'\n",
    "intersect_with_Ensembl_Genes(bedfile)    \n",
    "\n",
    "########################################################\n",
    "#3. Parse bedtools intersect file against Ensembl genes\n",
    "########################################################\n",
    "intfile = ervDir + 'results/' + '50kb_Intersect_cfERVs_with_Ensembl81Genes.txt'\n",
    "print 'Now parsing Ensembl gene intersect file:\\n', intfile\n",
    "ensGDict = parse_gene_intersect_file(intfile)\n",
    "print ensGDict\n",
    "\n",
    "###################################################\n",
    "#4. Parse bedtools intersect file against FST CDRs\n",
    "###################################################\n",
    "print '\\n#Now parsing the FST CDR intersect file...'\n",
    "fstDict = parse_FST_CDR_intersect_file()"
   ]
  },
  {
   "cell_type": "code",
   "execution_count": null,
   "metadata": {
    "collapsed": true
   },
   "outputs": [],
   "source": [
    "\n",
    "\n",
    "\n",
    "    \n",
    "    ###########################################################\n",
    "    #6. Summarizing VST and Ensembl hits to output text files\n",
    "    ###########################################################\n",
    "    print 'Now generating summary text files for %s results...' % (vstType)\n",
    "    allDict = making_summary_text_files(vstType,fstDict,ensGDict)    \n",
    "    \n",
    "    ##################################################\n",
    "    #7. How many genes and FST CDRs are intersecting?\n",
    "    ##################################################\n",
    "    print 'Now finding how many genes and CDR regions intersect with the %s results...' % (vstType)\n",
    "    gene_fst_intersect_summary(allDict)\n",
    "    \n",
    "    ##################################################\n",
    "    #8. Make gene list for GO gene enrichment steps\n",
    "    ##################################################\n",
    "    #print 'Now writing outfile with the gene IDs in these windows to search for enriched GO categories...'\n",
    "    #make_gene_enrichment_list()\n",
    "    \n",
    "    \n",
    "    "
   ]
  }
 ],
 "metadata": {
  "anaconda-cloud": {},
  "kernelspec": {
   "display_name": "Python [conda root]",
   "language": "python",
   "name": "conda-root-py"
  },
  "language_info": {
   "codemirror_mode": {
    "name": "ipython",
    "version": 2
   },
   "file_extension": ".py",
   "mimetype": "text/x-python",
   "name": "python",
   "nbconvert_exporter": "python",
   "pygments_lexer": "ipython2",
   "version": "2.7.12"
  }
 },
 "nbformat": 4,
 "nbformat_minor": 1
}
