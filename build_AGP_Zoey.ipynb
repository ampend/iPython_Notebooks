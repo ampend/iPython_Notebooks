{
 "cells": [
  {
   "cell_type": "code",
   "execution_count": 1,
   "metadata": {
    "collapsed": true
   },
   "outputs": [],
   "source": [
    "#2017-04-19\n",
    "#A. Pendleton\n",
    "#This script is used to make an AGP file for Zoey. Can be built upon as new forms\n",
    "#   of contigs become assembled and incorporated into the AGP.\n",
    "\n",
    "#this uses iPython magic to make plots appear inline\n",
    "%matplotlib inline\n",
    "import matplotlib.pyplot as plt\n",
    "import scipy.stats as stats\n",
    "import pandas as pd\n",
    "import subprocess\n",
    "\n",
    "#import genutils\n",
    "import os\n",
    "import sys\n",
    "import numpy as np\n",
    "import re\n",
    "import scipy \n",
    "import matplotlib.patches as patches\n",
    "import glob"
   ]
  },
  {
   "cell_type": "markdown",
   "metadata": {},
   "source": [
    "#This script is used to make an AGP file for Zoey. Can be built upon as new contigs become assembled and incorporated into the available set for assembly."
   ]
  },
  {
   "cell_type": "code",
   "execution_count": 2,
   "metadata": {
    "collapsed": false
   },
   "outputs": [
    {
     "name": "stdout",
     "output_type": "stream",
     "text": [
      "Current working directory is:\n",
      " /home/ampend/links/kidd-lab/ampend-projects/Zoey_Genome_Project/AGP/\n",
      "Writing out AGP to file:\n",
      " <_io.TextIOWrapper name='/home/ampend/links/kidd-lab/ampend-projects/Zoey_Genome_Project/AGP/results/AGP_Zoey_Assembly_v1.txt' mode='w' encoding='UTF-8'>\n"
     ]
    }
   ],
   "source": [
    "wkDir = '/home/ampend/links/kidd-lab/ampend-projects/Zoey_Genome_Project/AGP/'\n",
    "print('Current working directory is:\\n', wkDir)\n",
    "\n",
    "agpFile = open(wkDir + 'results/AGP_Zoey_Assembly_v1.txt', 'w')\n",
    "print('Writing out AGP to file:\\n', agpFile)"
   ]
  },
  {
   "cell_type": "code",
   "execution_count": 3,
   "metadata": {
    "collapsed": false
   },
   "outputs": [
    {
     "name": "stdout",
     "output_type": "stream",
     "text": [
      "Identified coordinates for 11 primary contigs\n"
     ]
    }
   ],
   "source": [
    "#Primary contig alignments (no canu processing)\n",
    "primaryContigCoord = open(wkDir + 'input/primary.2017-04-10.txt', 'r')\n",
    "\n",
    "contigList, index = [], 0\n",
    "contigDict = {}\n",
    "\n",
    "for line in primaryContigCoord:\n",
    "    if line.startswith(\"#\") is True: #skips header line\n",
    "        continue\n",
    "    line = line.rstrip().split('\\t')\n",
    "    contigID, length, Dir, chrom, start, end = line[0:6]    \n",
    "    if 'chr18' not in chrom: #FILTERING ONLY FOR CHROM 18 FOR NOW!!! REMOVE LATER \n",
    "        continue\n",
    "    index += 1\n",
    "    contigDict[index] = [chrom,start,end,contigID,Dir,length]\n",
    "    if index>10:\n",
    "        break\n",
    "    \n",
    "primaryContigCoord.close()\n",
    "print ('Identified coordinates for %i primary contigs' % len(contigDict))\n"
   ]
  },
  {
   "cell_type": "markdown",
   "metadata": {},
   "source": [
    "Step 1. Read in coordinates from alignment file based on Mummer of primary contigs (per Jeff)\n",
    "Step 2. BLAT each contig against the contig proximal to that proximal to it"
   ]
  },
  {
   "cell_type": "code",
   "execution_count": 28,
   "metadata": {
    "collapsed": true
   },
   "outputs": [],
   "source": [
    "def write_AGP_header(agpFile): #alter for each assembly\n",
    "    agpFile.write('##agp-version 1.0\\n# ORGANISM: Canis lupus familiaris\\n# TAX_ID: 9615\\n')\n",
    "    agpFile.write('# ASSEMBLY NAME: Zoey_v1\\n# ASSEMBLY DATE: 19-April-2017\\n')\n",
    "    agpFile.write('# GENOME CENTER: U. Michigan - Kidd Lab\\n')\n",
    "    agpFile.write('# DESCRIPTION: AGP specifying the assembly of chromosome 18 from primary PacBio contigs from FALCON assembly\\n')\n",
    "def read_line():\n",
    "    #Contig 1\n",
    "    chrom1,start1,end1,contigID1,Dir1,length1 = contigDict[i][0],int(contigDict[i][1]),int(contigDict[i][2]), contigDict[i][3], contigDict[i][4], int(contigDict[i][5])\n",
    "    #Contig 2\n",
    "    chrom2,start2,end2,contigID2,Dir2,length2 = contigDict[i+1][0],int(contigDict[i+1][1]),int(contigDict[i+1][2]), contigDict[i+1][3], contigDict[i+1][4], int(contigDict[i+1][5])\n",
    "    return chrom1,start1,end1,contigID1,Dir1,length1,chrom2,start2,end2,contigID2,Dir2,length2"
   ]
  },
  {
   "cell_type": "code",
   "execution_count": 75,
   "metadata": {
    "collapsed": false
   },
   "outputs": [],
   "source": [
    "def determine_contig_overlap(end1, contigID1, Dir1, length1, end2, contigID2, Dir2, length2):\n",
    "    #How much do the contigs overlap?\n",
    "    overlap = end1 - start2\n",
    "    print('Overlap = ', overlap)\n",
    "    if overlap > 0:\n",
    "        find_overlapping_coordinates(overlap,end1, contigID1, Dir1, length1, end2, contigID2, Dir2, length2)"
   ]
  },
  {
   "cell_type": "code",
   "execution_count": 83,
   "metadata": {
    "collapsed": false
   },
   "outputs": [],
   "source": [
    "def find_overlapping_coordinates(overlap,end1, contigID1, Dir1, length1, end2, contigID2, Dir2, length2):\n",
    "    #determine coordinates to extract for BLAT\n",
    "    if 'fwd' in Dir1:\n",
    "        extract_coord1 = [length1 - overlap - 10000, length1]\n",
    "    else:\n",
    "        extract_coord1 = [1, 1 + overlap + 10000]\n",
    "    if 'fwd' in Dir2:\n",
    "        extract_coord2 = [1, 1 + overlap + 10000]\n",
    "    else:\n",
    "        extract_coord2 = [length2 - overlap - 10000, length2]\n",
    "    print (extract_coord1,extract_coord2)\n",
    "    #safety check\n",
    "    for i in range(0,1): #CHECKS = if the region to extract extends beyond the length of the contig, if so then the coordinate changes to the length of contig\n",
    "        if extract_coord1[i] > length1:\n",
    "            extract_coord1[i] = length1\n",
    "        if extract_coord2[i] > length2:\n",
    "            extract_coord2[i] = length2\n",
    "\n",
    "    if overlap < 0: #### SEND TO DIFFERENT FUNCTION LATER -- FOLLOW OVERLAPPING CONTIGS FOR NOW\n",
    "        print('Contigs do not overlap')\n",
    "    extract_fasta(contigID1,Dir1,extract_coord1,contigID2,Dir2,extract_coord2)\n",
    "###################################################################################################\n",
    "def extract_fasta(contigID1,Dir1,extract_coord1,contigID2,Dir2,extract_coord2):\n",
    "    fastaRoot = '/home/ampend/links/kidd-lab/jmkidd-projects/zoey/contig-assignment/kmer-matches/eval1/'\n",
    "    ##Defining fasta paths\n",
    "    #Contig 1\n",
    "    fasta_path1 = fastaRoot + contigID1 + '/' + contigID1 + '.fa'\n",
    "    cmd = 'samtools faidx %s %s:%i-%i  > %stemp/contig1.fa' % (fasta_path1,contigID1,extract_coord1[0],extract_coord1[1],wkDir)\n",
    "    print (cmd)\n",
    "    subprocess.call(cmd,shell=True)\n",
    "    \n",
    "    #Contig 2\n",
    "    fasta_path2 = fastaRoot + contigID2 + '/' + contigID2 + '.fa'\n",
    "    cmd = 'samtools faidx %s %s:%i-%i > %stemp/contig2.fa' % (fasta_path2,contigID2,extract_coord2[0],extract_coord2[1],wkDir)\n",
    "    print (cmd)\n",
    "    subprocess.call(cmd,shell=True)\n",
    "    \n",
    "    run_blat(wkDir)\n",
    "    \n",
    "###################################################################################################\n",
    "def run_blat(wkDir):\n",
    "    blatcmd = 'blat %stemp/contig1.fa %stemp/contig2.fa %stemp/temp.blat' % (wkDir,wkDir,wkDir)\n",
    "    print(blatcmd)\n",
    "    subprocess.call(blatcmd,shell=True)"
   ]
  },
  {
   "cell_type": "code",
   "execution_count": 84,
   "metadata": {
    "collapsed": false
   },
   "outputs": [
    {
     "name": "stdout",
     "output_type": "stream",
     "text": [
      "\n",
      "# chr18 2619 26992 CTG-1462 rc 24712\n",
      "chr18 22143 3966426 CTG-0201 rc 3968428\n",
      "Overlap =  4849\n",
      "[1, 14850] [3953579, 3968428]\n",
      "samtools faidx /home/ampend/links/kidd-lab/jmkidd-projects/zoey/contig-assignment/kmer-matches/eval1/CTG-1462/CTG-1462.fa CTG-1462:1-14850  > /home/ampend/links/kidd-lab/ampend-projects/Zoey_Genome_Project/AGP/temp/contig1.fa\n",
      "samtools faidx /home/ampend/links/kidd-lab/jmkidd-projects/zoey/contig-assignment/kmer-matches/eval1/CTG-0201/CTG-0201.fa CTG-0201:3953579-3968428 > /home/ampend/links/kidd-lab/ampend-projects/Zoey_Genome_Project/AGP/temp/contig2.fa\n",
      "blat /home/ampend/links/kidd-lab/ampend-projects/Zoey_Genome_Project/AGP/temp/contig1.fa /home/ampend/links/kidd-lab/ampend-projects/Zoey_Genome_Project/AGP/temp/contig2.fa /home/ampend/links/kidd-lab/ampend-projects/Zoey_Genome_Project/AGP/temp/temp.blat\n"
     ]
    }
   ],
   "source": [
    "#write_AGP_header(agpFile)\n",
    "for i in range(1,len(contigDict)-1):\n",
    "    chrom1,start1,end1,contigID1,Dir1,length1,chrom2,start2,end2,contigID2,Dir2,length2 = read_line()\n",
    "    #chrom1,start1,end1,contigID1,Dir1,length1 = contigDict[i][0:6] #this contig\n",
    "    #chrom2,start2,end2,contigID2,Dir2,length2 = contigDict[i+1][0:6] #next contig\n",
    "    if chrom != next_chrom: ##CHECKS = if chromID has switched\n",
    "        continue \n",
    "    print ('\\n#',chrom1,start1,end1,contigID1,Dir1,length1)\n",
    "    print (chrom2,start2,end2,contigID2,Dir2,length2)\n",
    "    \n",
    "    #Determines the overlap/orientation of the two contigs\n",
    "    determine_contig_overlap(end1,contigID1,Dir1,length1,end2,contigID2,Dir2,length2)\n",
    "    break\n",
    "    #Extracts fasta\n",
    "    extract_fasta(contigID,Dir,next_contigID,next_Dir)\n",
    "    #Runs blat\n",
    "    run_blat(fasta_path1,fasta_path2,wkDir)\n",
    "    break\n",
    "    if i > 10:\n",
    "        break\n",
    "        \n"
   ]
  }
 ],
 "metadata": {
  "anaconda-cloud": {},
  "kernelspec": {
   "display_name": "Python 3",
   "language": "python",
   "name": "python3"
  },
  "language_info": {
   "codemirror_mode": {
    "name": "ipython",
    "version": 3
   },
   "file_extension": ".py",
   "mimetype": "text/x-python",
   "name": "python",
   "nbconvert_exporter": "python",
   "pygments_lexer": "ipython3",
   "version": "3.5.2"
  }
 },
 "nbformat": 4,
 "nbformat_minor": 2
}
