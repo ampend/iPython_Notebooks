{
 "cells": [
  {
   "cell_type": "code",
   "execution_count": 6,
   "metadata": {},
   "outputs": [],
   "source": [
    "# 2018-05-01\n",
    "# A. Pendleton\n",
    "# Removal of duplicate PASA transcripts that have been processed through Transdecoder"
   ]
  },
  {
   "cell_type": "code",
   "execution_count": 7,
   "metadata": {},
   "outputs": [],
   "source": [
    "#this uses iPython magic to make plots appear inline\n",
    "%matplotlib inline\n",
    "import matplotlib.pyplot as plt\n",
    "import pandas as pd\n",
    "import subprocess\n",
    "import sys\n",
    "import numpy as np\n",
    "import matplotlib.patches as patches\n",
    "import gzip\n",
    "import fileinput\n",
    "import glob\n",
    "from scipy import stats\n",
    "import re\n",
    "from matplotlib_venn import venn3, venn3_circles\n",
    "from collections import OrderedDict\n",
    "\n",
    "\n",
    "def count_lines(f):\n",
    "    lineCount = 0\n",
    "    with open(f, 'r') as f:\n",
    "        for line in f:\n",
    "            lineCount += 1\n",
    "        return lineCount\n",
    "def runCMD(cmd):\n",
    "    val = subprocess.Popen(cmd, shell=True).wait()\n",
    "    if val == 0:\n",
    "        pass\n",
    "    else:\n",
    "        print ('command failed')\n",
    "        print (cmd)\n",
    "        sys.exit(1)\n",
    "# TO REMOVE TOP AND RIGHT AXIS OF PLOTS\n",
    "def simpleaxis(ax):\n",
    "    ax.spines['top'].set_visible(False)\n",
    "    ax.spines['right'].set_visible(False)\n",
    "    ax.get_xaxis().tick_bottom()\n",
    "    ax.get_yaxis().tick_left()"
   ]
  },
  {
   "cell_type": "code",
   "execution_count": 8,
   "metadata": {},
   "outputs": [],
   "source": [
    "###INPUT INFORMATION\n",
    "inDir = '/home/ampend/links/kidd-lab/ampend-projects/Zoey_Genome_Project/rna-seq/transdecoder/results/'\n",
    "bed_inFile = inDir + 'pasa-lite_ZoeyTrinity.pasa_assembled_alignments.fa.transdecoder.genome.bed'\n"
   ]
  },
  {
   "cell_type": "markdown",
   "metadata": {},
   "source": [
    "# Read in transcript ID data into dictionary"
   ]
  },
  {
   "cell_type": "markdown",
   "metadata": {},
   "source": [
    "### This step simply saves the coordinates and other information into a dictionary that can later be pulled out only for the gene models with the highest score (determined one cell down)"
   ]
  },
  {
   "cell_type": "code",
   "execution_count": 89,
   "metadata": {},
   "outputs": [
    {
     "name": "stdout",
     "output_type": "stream",
     "text": [
      "61202 genes added to dictionary\n",
      "198604 transcripts processed\n",
      "129903 genes added to FULL Dictionary where keys are the full length ID\n",
      "dupes =  68701\n"
     ]
    }
   ],
   "source": [
    "geneDict = {}\n",
    "fullDict = {}\n",
    "processed = []\n",
    "transcript_count, dupes = 0, 0\n",
    "\n",
    "for line in open(bed_inFile, 'r'):\n",
    "    line=line.rstrip().split()\n",
    "    if 'track' in line[0]: #skip header\n",
    "        continue\n",
    "    #Read in information on gene\n",
    "    chrom = line[0]\n",
    "\n",
    "    #Keep track of how many have been processed\n",
    "    transcript_count += 1\n",
    "    \"\"\"# For script testing:\n",
    "    if transcript_count > 10:\n",
    "        break\"\"\"\n",
    "    geneID = line[3].split(';')[1]\n",
    "    ID = line[3].replace('ID=','').split(';')[0]\n",
    "\n",
    "    exonCount = int(line[9])\n",
    "    exonLengths = line[10]\n",
    "    #If geneID not already in dictionary, then add\n",
    "    if geneID not in geneDict.keys():\n",
    "        geneDict[geneID] = []\n",
    "    geneDict[geneID].append([fullID, exonCount, exonLengths])\n",
    "    if ID in fullDict.keys():\n",
    "        dupes+=1\n",
    "        continue\n",
    "    fullDict[ID] = [line]\n",
    "print('%i genes added to dictionary' % len(geneDict.keys()))\n",
    "print('%i transcripts processed' % transcript_count)\n",
    "print('%i genes added to FULL Dictionary where keys are the full length ID' % len(fullDict.keys()))\n",
    "print('dupes = ', dupes)"
   ]
  },
  {
   "cell_type": "markdown",
   "metadata": {},
   "source": [
    "### This step goes through the transdecoder peptide file and looks through each gene model for the model with the highest score. If a higher score is found, it replaces the gene model that previously had the highest score. \n",
    "\n",
    "#### Importantly, this step also skips over peptides that were not deemed as 'complete' gene models by transdecoder (e.g. skips over the 5' or 3' partial models). "
   ]
  },
  {
   "cell_type": "code",
   "execution_count": 105,
   "metadata": {},
   "outputs": [
    {
     "name": "stdout",
     "output_type": "stream",
     "text": [
      "30170 transcripts with highest score added to the dictionary\n"
     ]
    }
   ],
   "source": [
    "peptideFile = inDir + 'pasa-lite_ZoeyTrinity.pasa_assembled_alignments.fa.transdecoder.pep'\n",
    "scoreDict = {}\n",
    "\n",
    "for line in open(peptideFile,'r'):\n",
    "    if '>' not in line: #skip those not a gene identifier\n",
    "        continue\n",
    "    if 'TCONS' in line: #not mapped\n",
    "        continue\n",
    "    if 'complete' not in line: #only want the complete gene models\n",
    "        continue\n",
    "    fullID = line.rstrip().split(' ')[0].replace('>','')\n",
    "    line = line.rstrip().split('::')\n",
    "    #print(line)\n",
    "\n",
    "    #geneID = line[1].rsplit('.',1)\n",
    "    geneID = line[1].split('.')[0] + '.' + line[1].split('.')[1]\n",
    "\n",
    "    transcriptID = line[4]\n",
    "    score = float(line[5].split(',')[1].split(' ')[0].split('=')[1])\n",
    "    \n",
    "    if geneID not in scoreDict.keys():\n",
    "        scoreDict[geneID] = ['',0,'']#['highestscoring_transcriptID','highestScore']\n",
    "    if score > scoreDict[geneID][1]:\n",
    "        scoreDict[geneID] = [transcriptID,score,fullID]\n",
    "    \n",
    "\n",
    "print('%i transcripts with highest score added to the dictionary' % len(scoreDict.keys()))"
   ]
  },
  {
   "cell_type": "markdown",
   "metadata": {},
   "source": [
    "## Generate output BED file with the non-redundant gene models"
   ]
  },
  {
   "cell_type": "code",
   "execution_count": 108,
   "metadata": {},
   "outputs": [],
   "source": [
    "#Make BED file with just the transcript IDs that have the highest score\n",
    "outfile = inDir + 'HighestScoringTranscripts_IDs.bed'\n",
    "outFile = open(outfile,'w')\n",
    "missing=[]\n",
    "added = 0\n",
    "for key in scoreDict.keys():\n",
    "    if scoreDict[key][2] not in fullDict.keys():\n",
    "        missing.append(scoreDict[key][2])\n",
    "        continue\n",
    "    info = fullDict[scoreDict[key][2]]\n",
    "    for i in info:\n",
    "        outFile.write('\\t'.join(i) + '\\n')\n",
    "        added+=1\n",
    "        continue\n",
    "outFile.close()\n"
   ]
  },
  {
   "cell_type": "code",
   "execution_count": 109,
   "metadata": {},
   "outputs": [
    {
     "name": "stdout",
     "output_type": "stream",
     "text": [
      "28889 of the largest genes added\n",
      "Reduced from 198604 transcripts\n"
     ]
    }
   ],
   "source": [
    "print('%i of the largest genes added' % added)\n",
    "print('Reduced from %i transcripts' % transcript_count)"
   ]
  },
  {
   "cell_type": "code",
   "execution_count": null,
   "metadata": {},
   "outputs": [],
   "source": []
  },
  {
   "cell_type": "code",
   "execution_count": null,
   "metadata": {},
   "outputs": [],
   "source": []
  },
  {
   "cell_type": "code",
   "execution_count": null,
   "metadata": {},
   "outputs": [],
   "source": []
  },
  {
   "cell_type": "code",
   "execution_count": null,
   "metadata": {},
   "outputs": [],
   "source": []
  }
 ],
 "metadata": {
  "kernelspec": {
   "display_name": "Python 3",
   "language": "python",
   "name": "python3"
  },
  "language_info": {
   "codemirror_mode": {
    "name": "ipython",
    "version": 3
   },
   "file_extension": ".py",
   "mimetype": "text/x-python",
   "name": "python",
   "nbconvert_exporter": "python",
   "pygments_lexer": "ipython3",
   "version": "3.5.4"
  }
 },
 "nbformat": 4,
 "nbformat_minor": 2
}
