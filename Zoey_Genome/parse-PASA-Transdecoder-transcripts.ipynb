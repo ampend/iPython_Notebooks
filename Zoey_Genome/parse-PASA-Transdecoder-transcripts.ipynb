{
 "cells": [
  {
   "cell_type": "code",
   "execution_count": 19,
   "metadata": {},
   "outputs": [],
   "source": [
    "# 2018-03-29\n",
    "# A. Pendleton\n",
    "# Removal of duplicate PASA transcripts that have been processed through Transdecoder"
   ]
  },
  {
   "cell_type": "code",
   "execution_count": 2,
   "metadata": {},
   "outputs": [],
   "source": [
    "#this uses iPython magic to make plots appear inline\n",
    "%matplotlib inline\n",
    "import matplotlib.pyplot as plt\n",
    "import pandas as pd\n",
    "import subprocess\n",
    "import sys\n",
    "import numpy as np\n",
    "import matplotlib.patches as patches\n",
    "import gzip\n",
    "import fileinput\n",
    "import glob\n",
    "from scipy import stats\n",
    "import re\n",
    "from matplotlib_venn import venn3, venn3_circles\n",
    "from collections import OrderedDict\n",
    "\n",
    "\n",
    "def count_lines(f):\n",
    "    lineCount = 0\n",
    "    with open(f, 'r') as f:\n",
    "        for line in f:\n",
    "            lineCount += 1\n",
    "        return lineCount\n",
    "def runCMD(cmd):\n",
    "    val = subprocess.Popen(cmd, shell=True).wait()\n",
    "    if val == 0:\n",
    "        pass\n",
    "    else:\n",
    "        print ('command failed')\n",
    "        print (cmd)\n",
    "        sys.exit(1)\n",
    "# TO REMOVE TOP AND RIGHT AXIS OF PLOTS\n",
    "def simpleaxis(ax):\n",
    "    ax.spines['top'].set_visible(False)\n",
    "    ax.spines['right'].set_visible(False)\n",
    "    ax.get_xaxis().tick_bottom()\n",
    "    ax.get_yaxis().tick_left()"
   ]
  },
  {
   "cell_type": "code",
   "execution_count": 42,
   "metadata": {},
   "outputs": [],
   "source": [
    "###INPUT INFORMATION\n",
    "inDir = '/home/ampend/links/kidd-lab/ampend-projects/Zoey_Genome_Project/rna-seq/transdecoder/results/'\n",
    "bed_inFile = inDir + 'pasa-lite_ZoeyTrinity.pasa_assembled_alignments.fa.transdecoder.genome.bed'\n"
   ]
  },
  {
   "cell_type": "markdown",
   "metadata": {},
   "source": [
    "# Read in transcript ID data into dictionary"
   ]
  },
  {
   "cell_type": "code",
   "execution_count": 49,
   "metadata": {},
   "outputs": [
    {
     "name": "stdout",
     "output_type": "stream",
     "text": [
      "61202 genes added to dictionary\n",
      "198604 transcripts processed\n"
     ]
    }
   ],
   "source": [
    "geneDict = {}\n",
    "processed = []\n",
    "transcript_count = 0\n",
    "\n",
    "for line in open(bed_inFile, 'r'):\n",
    "    line=line.rstrip().split()\n",
    "    if 'track' in line[0]: #skip header\n",
    "        continue\n",
    "    #Read in information on gene\n",
    "    chrom = line[0]\n",
    "\n",
    "    #Keep track of how many have been processed\n",
    "    transcript_count += 1\n",
    "    \"\"\"if transcript_count > 10:\n",
    "        break\"\"\"\n",
    "    geneID = line[3].split(';')[1]\n",
    "    fullID = line[3]\n",
    "    exonCount = int(line[9])\n",
    "    exonLengths = line[10]\n",
    "    #If geneID not already in dictionary, then add\n",
    "    if geneID not in geneDict.keys():\n",
    "        geneDict[geneID] = []\n",
    "    geneDict[geneID].append([fullID, exonCount, exonLengths])\n",
    "    \n",
    "print('%i genes added to dictionary' % len(geneDict.keys()))\n",
    "print('%i transcripts processed' % transcript_count)"
   ]
  },
  {
   "cell_type": "code",
   "execution_count": 65,
   "metadata": {},
   "outputs": [
    {
     "name": "stdout",
     "output_type": "stream",
     "text": [
      "5072 2120 78875 80995 -75923 24 ID=Gene.268735::chr3.g2424.i9::g.268735::m.268735;chr3.g2424;ORF\n",
      "4999 2120 124522 126642 -121643 24 ID=Gene.268733::chr3.g2424.i5::g.268733::m.268733;chr3.g2424;ORF\n",
      "5257 2120 124522 126642 -121385 26 ID=Gene.268699::chr3.g2424.i3::g.268699::m.268699;chr3.g2424;ORF\n",
      "5527 2120 124522 126642 -121115 26 ID=Gene.268705::chr3.g2424.i2::g.268705::m.268705;chr3.g2424;ORF\n",
      "3655 766 78875 79641 -75986 25 ID=Gene.268725::chr3.g2424.i17::g.268725::m.268725;chr3.g2424;ORF\n",
      "4892 2120 124522 126642 -121750 23 ID=Gene.268694::chr3.g2424.i7::g.268694::m.268694;chr3.g2424;ORF\n",
      "5096 2120 124522 126642 -121546 24 ID=Gene.268720::chr3.g2424.i8::g.268720::m.268720;chr3.g2424;ORF\n",
      "5770 3664 369 4033 1737 10 ID=Gene.268730::chr3.g2424.i20::g.268730::m.268730;chr3.g2424;ORF\n",
      "5126 2120 78875 80995 -75869 25 ID=Gene.268737::chr3.g2424.i10::g.268737::m.268737;chr3.g2424;ORF\n",
      "4081 766 125358 126124 -122043 26 ID=Gene.268715::chr3.g2424.i18::g.268715::m.268715;chr3.g2424;ORF\n",
      "5054 2120 125358 127478 -122424 24 ID=Gene.268691::chr3.g2424.i15::g.268691::m.268691;chr3.g2424;ORF\n",
      "5108 2120 125358 127478 -122370 25 ID=Gene.268709::chr3.g2424.i16::g.268709::m.268709;chr3.g2424;ORF\n",
      "7628 3664 2662 6326 1302 9 ID=Gene.268707::chr3.g2424.i19::g.268707::m.268707;chr3.g2424;ORF\n",
      "5203 2120 124522 126642 -121439 25 ID=Gene.268718::chr3.g2424.i4::g.268718::m.268718;chr3.g2424;ORF\n",
      "4230 766 124522 125288 -121058 27 ID=Gene.268701::chr3.g2424.i6::g.268701::m.268701;chr3.g2424;ORF\n",
      "4850 2120 125358 127478 -122628 23 ID=Gene.268688::chr3.g2424.i14::g.268688::m.268688;chr3.g2424;ORF\n",
      "5432 2120 125358 127478 -122046 26 ID=Gene.268712::chr3.g2424.i13::g.268712::m.268712;chr3.g2424;ORF\n",
      "5174 2120 125358 127478 -122304 24 ID=Gene.268727::chr3.g2424.i12::g.268727::m.268727;chr3.g2424;ORF\n",
      "5581 2120 124522 126642 -121061 27 ID=Gene.268739::chr3.g2424.i1::g.268739::m.268739;chr3.g2424;ORF\n",
      "4802 2120 78875 80995 -76193 24 ID=Gene.268703::chr3.g2424.i11::g.268703::m.268703;chr3.g2424;ORF\n",
      "4999 2120 124522 126642 -121643 24 ID=Gene.268733::chr3.g2424.i5::g.268733::m.268733;chr3.g2424;ORF\n",
      "5257 2120 124522 126642 -121385 26 ID=Gene.268699::chr3.g2424.i3::g.268699::m.268699;chr3.g2424;ORF\n",
      "5527 2120 124522 126642 -121115 26 ID=Gene.268705::chr3.g2424.i2::g.268705::m.268705;chr3.g2424;ORF\n",
      "3655 766 78875 79641 -75986 25 ID=Gene.268725::chr3.g2424.i17::g.268725::m.268725;chr3.g2424;ORF\n",
      "4892 2120 124522 126642 -121750 23 ID=Gene.268694::chr3.g2424.i7::g.268694::m.268694;chr3.g2424;ORF\n",
      "5096 2120 124522 126642 -121546 24 ID=Gene.268720::chr3.g2424.i8::g.268720::m.268720;chr3.g2424;ORF\n",
      "5770 3664 369 4033 1737 10 ID=Gene.268730::chr3.g2424.i20::g.268730::m.268730;chr3.g2424;ORF\n",
      "5126 2120 78875 80995 -75869 25 ID=Gene.268737::chr3.g2424.i10::g.268737::m.268737;chr3.g2424;ORF\n",
      "4081 766 125358 126124 -122043 26 ID=Gene.268715::chr3.g2424.i18::g.268715::m.268715;chr3.g2424;ORF\n",
      "5054 2120 125358 127478 -122424 24 ID=Gene.268691::chr3.g2424.i15::g.268691::m.268691;chr3.g2424;ORF\n",
      "5108 2120 125358 127478 -122370 25 ID=Gene.268709::chr3.g2424.i16::g.268709::m.268709;chr3.g2424;ORF\n",
      "7628 3664 2662 6326 1302 9 ID=Gene.268707::chr3.g2424.i19::g.268707::m.268707;chr3.g2424;ORF\n",
      "5203 2120 124522 126642 -121439 25 ID=Gene.268718::chr3.g2424.i4::g.268718::m.268718;chr3.g2424;ORF\n",
      "4230 766 124522 125288 -121058 27 ID=Gene.268701::chr3.g2424.i6::g.268701::m.268701;chr3.g2424;ORF\n",
      "4850 2120 125358 127478 -122628 23 ID=Gene.268688::chr3.g2424.i14::g.268688::m.268688;chr3.g2424;ORF\n",
      "5432 2120 125358 127478 -122046 26 ID=Gene.268712::chr3.g2424.i13::g.268712::m.268712;chr3.g2424;ORF\n",
      "5174 2120 125358 127478 -122304 24 ID=Gene.268727::chr3.g2424.i12::g.268727::m.268727;chr3.g2424;ORF\n",
      "5581 2120 124522 126642 -121061 27 ID=Gene.268739::chr3.g2424.i1::g.268739::m.268739;chr3.g2424;ORF\n",
      "4802 2120 78875 80995 -76193 24 ID=Gene.268703::chr3.g2424.i11::g.268703::m.268703;chr3.g2424;ORF\n",
      "399 31 2 33 366 1 ID=Gene.256627::chr3.g24240.i1::g.256627::m.256627;chr3.g24240;ORF\n"
     ]
    }
   ],
   "source": [
    "largest_geneDict = {}\n",
    "largest_noUTR_geneDict = {}\n",
    "\n",
    "for LINE in open(bed_inFile, 'r'):\n",
    "    line=LINE.rstrip().split()\n",
    "    if 'track' in line[0]: #skip header\n",
    "        continue\n",
    "    #Read in information on gene\n",
    "    chrom = line[0]\n",
    "\n",
    "    #Keep track of how many have been processed\n",
    "    transcript_count += 1\n",
    "    geneID = line[3].split(';')[1]\n",
    "    fullID = line[3]\n",
    "    exonCount = int(line[9])\n",
    "    \n",
    "    if 'chr3.g2424' not in geneID:\n",
    "        #print(length,exonCount,exonLengths,fullID)\n",
    "        continue\n",
    "    ##GET GENE LENGTH BY ADDING UP EXONS\n",
    "    if ',' in line[10]:\n",
    "        exonLengths = line[10].split(',')\n",
    "        length = 0\n",
    "        for l in exonLengths:\n",
    "            length+=int(l)\n",
    "    else:\n",
    "        length = int(line[10])\n",
    "        \n",
    "    #GET UTR LENGTHS\n",
    "    UTR5 = int(line[6])-int(line[1])\n",
    "    UTR3 = int(line[2])-int(line[7])\n",
    "    \n",
    "    UTRlength = UTR5+UTR3\n",
    "    lengthNonUTR = length-UTRlength\n",
    "    \n",
    "    if geneID not in largest_geneDict.keys():\n",
    "        largest_geneDict[geneID] = [length, line]\n",
    "    if length > int(largest_geneDict[geneID][0]):\n",
    "        largest_geneDict[geneID] = [length, line]\n",
    "    if 'chr3.g2424' in geneID:\n",
    "        print(length,UTR5,UTR3,UTRlength,lengthNonUTR,exonCount,fullID)"
   ]
  },
  {
   "cell_type": "code",
   "execution_count": 51,
   "metadata": {},
   "outputs": [
    {
     "name": "stdout",
     "output_type": "stream",
     "text": [
      "61202 of the largest genes added\n",
      "Reduced from 397208 transcripts\n"
     ]
    }
   ],
   "source": [
    "print('%i of the largest genes added' % len(largest_geneDict.keys()))\n",
    "print('Reduced from %i transcripts' % transcript_count)"
   ]
  },
  {
   "cell_type": "code",
   "execution_count": 52,
   "metadata": {},
   "outputs": [],
   "source": [
    "#WRITE TO OUTFILE\n",
    "outFile = open(inDir + '../ReducedGeneFiles_NoRedudant/' + 'ReducedTranscript_SingleLongestGene_PASA_Transdecoder.bed','w')\n",
    "\n",
    "for gene in largest_geneDict.keys():\n",
    "    outFile.write('\\t'.join(map(str,largest_geneDict[gene][1]))+'\\n')\n",
    "outFile.close()"
   ]
  },
  {
   "cell_type": "code",
   "execution_count": 55,
   "metadata": {},
   "outputs": [
    {
     "name": "stdout",
     "output_type": "stream",
     "text": [
      "[399, ['chr3', '71030992', '71031391', 'ID=Gene.256627::chr3.g24240.i1::g.256627::m.256627;chr3.g24240;ORF', '0', '-', '71031023', '71031389', '0', '1', '399', '0']]\n",
      "[7628, ['chr3', '7971229', '8006070', 'ID=Gene.268707::chr3.g2424.i19::g.268707::m.268707;chr3.g2424;ORF', '0', '-', '7974893', '8003408', '0', '9', '3876,54,100,116,201,211,73,117,2880', '0,9325,11636,16678,18794,19417,20556,22603,31961']]\n"
     ]
    }
   ],
   "source": [
    "for gene in largest_geneDict.keys():\n",
    "    if 'chr3.g2424' in gene:\n",
    "        print(largest_geneDict[gene])"
   ]
  },
  {
   "cell_type": "code",
   "execution_count": null,
   "metadata": {},
   "outputs": [],
   "source": []
  },
  {
   "cell_type": "code",
   "execution_count": null,
   "metadata": {},
   "outputs": [],
   "source": []
  },
  {
   "cell_type": "code",
   "execution_count": null,
   "metadata": {},
   "outputs": [],
   "source": []
  },
  {
   "cell_type": "code",
   "execution_count": null,
   "metadata": {},
   "outputs": [],
   "source": []
  },
  {
   "cell_type": "code",
   "execution_count": null,
   "metadata": {},
   "outputs": [],
   "source": []
  },
  {
   "cell_type": "code",
   "execution_count": null,
   "metadata": {},
   "outputs": [],
   "source": []
  },
  {
   "cell_type": "code",
   "execution_count": null,
   "metadata": {},
   "outputs": [],
   "source": []
  },
  {
   "cell_type": "code",
   "execution_count": null,
   "metadata": {},
   "outputs": [],
   "source": []
  },
  {
   "cell_type": "code",
   "execution_count": null,
   "metadata": {},
   "outputs": [],
   "source": []
  },
  {
   "cell_type": "code",
   "execution_count": null,
   "metadata": {},
   "outputs": [],
   "source": []
  },
  {
   "cell_type": "code",
   "execution_count": null,
   "metadata": {},
   "outputs": [],
   "source": []
  },
  {
   "cell_type": "code",
   "execution_count": null,
   "metadata": {},
   "outputs": [],
   "source": []
  }
 ],
 "metadata": {
  "kernelspec": {
   "display_name": "Python 3",
   "language": "python",
   "name": "python3"
  },
  "language_info": {
   "codemirror_mode": {
    "name": "ipython",
    "version": 3
   },
   "file_extension": ".py",
   "mimetype": "text/x-python",
   "name": "python",
   "nbconvert_exporter": "python",
   "pygments_lexer": "ipython3",
   "version": "3.5.4"
  }
 },
 "nbformat": 4,
 "nbformat_minor": 2
}
