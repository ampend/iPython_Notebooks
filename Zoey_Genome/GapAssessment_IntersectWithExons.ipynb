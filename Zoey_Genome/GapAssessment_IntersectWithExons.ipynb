{
 "cells": [
  {
   "cell_type": "code",
   "execution_count": 2,
   "metadata": {},
   "outputs": [],
   "source": [
    "# 2018-10-09\n",
    "# A. Pendleton\n",
    "# Intersect the Final gene set with the novel gaps that are in Zoey\n",
    "#    that were called by Feichen"
   ]
  },
  {
   "cell_type": "code",
   "execution_count": 3,
   "metadata": {},
   "outputs": [],
   "source": [
    "#this uses iPython magic to make plots appear inline\n",
    "%matplotlib inline\n",
    "import matplotlib.pyplot as plt\n",
    "import pandas as pd\n",
    "import subprocess\n",
    "import sys\n",
    "import numpy as np\n",
    "import matplotlib.patches as patches\n",
    "import gzip\n",
    "import fileinput\n",
    "import glob\n",
    "from scipy import stats\n",
    "import re\n",
    "from matplotlib_venn import venn3, venn3_circles\n",
    "from collections import OrderedDict\n",
    "\n",
    "\n",
    "def count_lines(f):\n",
    "    lineCount = 0\n",
    "    with open(f, 'r') as f:\n",
    "        for line in f:\n",
    "            lineCount += 1\n",
    "        return lineCount\n",
    "def runCMD(cmd):\n",
    "    val = subprocess.Popen(cmd, shell=True).wait()\n",
    "    if val == 0:\n",
    "        pass\n",
    "    else:\n",
    "        print ('command failed')\n",
    "        print (cmd)\n",
    "        sys.exit(1)\n",
    "# TO REMOVE TOP AND RIGHT AXIS OF PLOTS\n",
    "def simpleaxis(ax):\n",
    "    ax.spines['top'].set_visible(False)\n",
    "    ax.spines['right'].set_visible(False)\n",
    "    ax.get_xaxis().tick_bottom()\n",
    "    ax.get_yaxis().tick_left()\n",
    "#Write PBS Script\n",
    "def write_pbs_file(wkDir,cmdsFile,jobName, mem, jobCount):\n",
    "    #write PBS file\n",
    "    if '/scripts/' in wkDir:\n",
    "        wkDir = wkDir.replace('/scripts/','')\n",
    "    pbsFile = open(cmdsFile.replace('.cmds','.pbs'),'w')\n",
    "    print('Writing pbs file: %s'% pbsFile)\n",
    "    pbsFile.write('#!/bin/bash\\n')\n",
    "    pbsFile.write('#PBS -S /bin/bash\\n')\n",
    "    pbsFile.write('#PBS -V\\n')\n",
    "    pbsFile.write('#PBS -M ampend@med.umich.edu\\n')\n",
    "    pbsFile.write('#PBS -j oe\\n')\n",
    "    pbsFile.write('#PBS -N %s\\n' % jobName)\n",
    "    pbsFile.write('#PBS -o %s\\n' % (wkDir + 'logs/'))\n",
    "    pbsFile.write('#PBS -l pmem=%iG\\n' % mem)\n",
    "    pbsFile.write('#PBS -l nodes=1:ppn=1,qos=flux,walltime=100:00:00\\n')\n",
    "    pbsFile.write('##PBS -A medbsm_flux\\n')\n",
    "    pbsFile.write('##PBS -q flux\\n')\n",
    "    pbsFile.write('#PBS -A jmkidd_fluxod\\n')\n",
    "    pbsFile.write('#PBS -q fluxod\\n')\n",
    "    pbsFile.write('#PBS -t 1-%s\\n' % jobCount)\n",
    "    pbsFile.write('cd %s\\n' % (wkDir))\n",
    "    pbsFile.write('/home/ampend/links/kidd-lab/jmkidd-projects/scripts/perlUtils/run-by-id-log.pl %s %sBLAT_commands.logs $PBS_ARRAYID' % (cmdsFile,cmdsFile.replace('/scripts/','/logs/')))\n",
    "    pbsFile.close()"
   ]
  },
  {
   "cell_type": "markdown",
   "metadata": {},
   "source": [
    "# Define Inputs"
   ]
  },
  {
   "cell_type": "markdown",
   "metadata": {},
   "source": [
    "### CREATE Input 1 = Zoey Exon BED file"
   ]
  },
  {
   "cell_type": "markdown",
   "metadata": {},
   "source": [
    "##### Extract the exon coordinates from the transdecoder gff3 file which gives us exon positions for ALL genes. \n",
    "However, we only want the genes that made it into the final set (N=42,911 genes).\n",
    "\n",
    "\n",
    "So, you'll need to read in the final gene ID list first, then extract exon positions only for the genes that made it into the final list."
   ]
  },
  {
   "cell_type": "code",
   "execution_count": 10,
   "metadata": {},
   "outputs": [
    {
     "name": "stdout",
     "output_type": "stream",
     "text": [
      "Added 42911 IDs from the final gene list\n"
     ]
    }
   ],
   "source": [
    "finalDir = '/home/ampend/links/kidd-lab/ampend-projects/Zoey_Genome_Project/FINAL_GENES/'\n",
    "\n",
    "#Final list of 42,911 genes from Zoey annotations that went through annotations \n",
    "FinalGeneList = []\n",
    "finalGeneIDFile = finalDir + 'FinalGenes_IDs.txt'\n",
    "\n",
    "for line in open(finalGeneIDFile,'r'):\n",
    "    line=line.rstrip()\n",
    "    gene = line\n",
    "    FinalGeneList.append(gene)\n",
    "\n",
    "print('Added %i IDs from the final gene list' % len(FinalGeneList))"
   ]
  },
  {
   "cell_type": "code",
   "execution_count": 30,
   "metadata": {},
   "outputs": [
    {
     "name": "stdout",
     "output_type": "stream",
     "text": [
      "grep \"exon\" /home/ampend/links/kidd-lab/ampend-projects/Zoey_Genome_Project/rna-seq/version3_intron500k/transdecoder/results/pasa-lite_ZoeyTrinity.pasa_assembled_alignments.genome.gff3 > /home/ampend/links/kidd-lab/ampend-projects/Zoey_Genome_Project/rna-seq/version3_intron500k/transdecoder/results/pasa-lite_ZoeyTrinity.pasa_assembled_alignments.genome.gff3.exonsOnly\n"
     ]
    }
   ],
   "source": [
    "gffFile = '/home/ampend/links/kidd-lab/ampend-projects/Zoey_Genome_Project/rna-seq/version3_intron500k/transdecoder/results/pasa-lite_ZoeyTrinity.pasa_assembled_alignments.genome.gff3'\n",
    "\n",
    "#Use grep to only get the exons\n",
    "cmd = 'grep \"exon\" %s > %s.exonsOnly' % (gffFile,gffFile) \n",
    "print(cmd)\n",
    "runCMD(cmd)"
   ]
  },
  {
   "cell_type": "code",
   "execution_count": 32,
   "metadata": {},
   "outputs": [
    {
     "name": "stdout",
     "output_type": "stream",
     "text": [
      "10000\n",
      "20000\n",
      "30000\n",
      "40000\n",
      "50000\n",
      "60000\n",
      "70000\n",
      "80000\n",
      "90000\n",
      "100000\n",
      "110000\n",
      "120000\n",
      "130000\n",
      "140000\n",
      "150000\n",
      "160000\n",
      "170000\n",
      "180000\n",
      "190000\n",
      "200000\n",
      "Done with 206013 exons\n"
     ]
    }
   ],
   "source": [
    "gffFile = '/home/ampend/links/kidd-lab/ampend-projects/Zoey_Genome_Project/rna-seq/version3_intron500k/transdecoder/results/pasa-lite_ZoeyTrinity.pasa_assembled_alignments.genome.gff3'\n",
    "\n",
    "exonBedfile = finalDir + 'Zoey_FinalGenes_exons.bed'\n",
    "exonBedFile = open(exonBedfile,'w')\n",
    "\n",
    "parentGenes = []\n",
    "lineCount = 0\n",
    "\n",
    "for line in open(gffFile + '.exonsOnly','r'):\n",
    "    line=line.rstrip().split('\\t')\n",
    "    if len(line) < 2:\n",
    "        continue\n",
    "\n",
    "    #only interested in exons\n",
    "    if 'exon' not in line[2]:\n",
    "        continue\n",
    "\n",
    "    chrom,start,end = line[0],int(line[3])-1,int(line[4])\n",
    "    geneID = line[8].split(';')[0].replace('ID=','')\n",
    "    parentGene = line[8].split(';')[1].replace('Parent=','')\n",
    "    \n",
    "    #We only want the final genes\n",
    "    if parentGene not in FinalGeneList:\n",
    "        continue\n",
    "    lineCount+=1 \n",
    "\n",
    "    parentGenes.append(parentGene) #keep track of the genes that we end up adding to see if we are missing any later\n",
    "    exonBedFile.write('%s\\t%i\\t%i\\t%s\\n' % (chrom,start,end,geneID))\n",
    "    \n",
    "    if lineCount % 10000 == 0:\n",
    "        print(lineCount)\n",
    "    #if lineCount > 10000: # for testing\n",
    "        #break\n",
    "exonBedFile.close()\n",
    "\n",
    "print('Done with %i exons' % lineCount )\n",
    "unique_parentGenes = set(parentGenes)\n",
    "print('From %i genes' % len(set(parentGenes)))"
   ]
  },
  {
   "cell_type": "code",
   "execution_count": 39,
   "metadata": {},
   "outputs": [],
   "source": [
    "#Check that we didn't miss any exon coordinates\n",
    "for gene in FinalGeneList:\n",
    "    if gene not in unique_parentGenes:\n",
    "        print('ERROR: For some reason we are missing gene: ', gene)\n",
    "        sys.exit()"
   ]
  },
  {
   "cell_type": "markdown",
   "metadata": {},
   "source": [
    "### Input 2 = Feichen Gap BED file"
   ]
  },
  {
   "cell_type": "code",
   "execution_count": 41,
   "metadata": {},
   "outputs": [],
   "source": [
    "gapBedfile = finalDir + 'Intersect_FeichenGaps/' + 'MergedGaps_CfLiftoverToZoey_And_NovelZoeyCoord.bed'\n"
   ]
  },
  {
   "cell_type": "code",
   "execution_count": 43,
   "metadata": {},
   "outputs": [],
   "source": [
    "##########################################################################################\n",
    "##########################################################################################\n",
    "##########################################################################################"
   ]
  },
  {
   "cell_type": "markdown",
   "metadata": {},
   "source": [
    "# Intersect the final exons with the novel gaps"
   ]
  },
  {
   "cell_type": "code",
   "execution_count": 50,
   "metadata": {},
   "outputs": [
    {
     "name": "stdout",
     "output_type": "stream",
     "text": [
      "bedtools intersect -wo -a /home/ampend/links/kidd-lab/ampend-projects/Zoey_Genome_Project/FINAL_GENES/Intersect_FeichenGaps/MergedGaps_CfLiftoverToZoey_And_NovelZoeyCoord.bed -b /home/ampend/links/kidd-lab/ampend-projects/Zoey_Genome_Project/FINAL_GENES/Zoey_FinalGenes_exons.bed > /home/ampend/links/kidd-lab/ampend-projects/Zoey_Genome_Project/FINAL_GENES/Intersect_FeichenGaps/Intersect_ZoeyNovelGaps_with_ZoeyFinalGeneExons.txt\n"
     ]
    }
   ],
   "source": [
    "intersectOutfile = finalDir + 'Intersect_FeichenGaps/Intersect_ZoeyNovelGaps_with_ZoeyFinalGeneExons.txt'\n",
    "\n",
    "cmd = 'bedtools intersect -wo -a %s -b %s > %s' % (gapBedfile,exonBedfile,intersectOutfile)\n",
    "print(cmd)\n",
    "runCMD(cmd)"
   ]
  },
  {
   "cell_type": "code",
   "execution_count": 43,
   "metadata": {},
   "outputs": [],
   "source": [
    "##########################################################################################\n",
    "##########################################################################################\n",
    "##########################################################################################"
   ]
  },
  {
   "cell_type": "markdown",
   "metadata": {},
   "source": [
    "# Read in the GC content pvalues"
   ]
  },
  {
   "cell_type": "code",
   "execution_count": 49,
   "metadata": {},
   "outputs": [
    {
     "name": "stdout",
     "output_type": "stream",
     "text": [
      "added in GC pvalues for 13839 windows\n"
     ]
    }
   ],
   "source": [
    "GCbed = '/nfs/turbo/jmkiddscr/feichens-projects/Zoey_pacbio/Post_analysis/QuicKmer/ROI_index_in_bianry.bed'\n",
    "\n",
    "GCDict_pval = {}\n",
    "\n",
    "for line in open(GCbed,'r'):\n",
    "    line=line.rstrip().split('\\t')\n",
    "    ID = line[0] + ':' + line[1] + '-' + line[2]\n",
    "    GCDict_pval[ID] = float(line[5])\n",
    "    \n",
    "print('added in GC pvalues for %i windows' % len(GCDict_pval.keys()))"
   ]
  },
  {
   "cell_type": "markdown",
   "metadata": {},
   "source": [
    "### Get the pvalues for those windows that intersect with exons"
   ]
  },
  {
   "cell_type": "code",
   "execution_count": 82,
   "metadata": {},
   "outputs": [
    {
     "name": "stdout",
     "output_type": "stream",
     "text": [
      "In total 3876 gap windows have intersects with at least one exon\n",
      "\n",
      "Got the pvalues for 3422 windows that intersected with exons:\n",
      "3422 were the lifted over gaps\n",
      "0 were with novel zoey gaps\n",
      "\n",
      "No pvalues were available for 454 windows that intersected with exons\n"
     ]
    }
   ],
   "source": [
    "added = []\n",
    "couldntbeadded = []\n",
    "pvalues = [] #for plotting the pvalues later\n",
    "gapLiftPvalues, novelZoeyPvalues = [], [] \n",
    "\n",
    "for line in open(intersectOutfile,'r'):\n",
    "    line=line.rstrip().split('\\t')\n",
    "    ID = line[0] + ':' + line[1] + '-' + line[2]\n",
    "    \n",
    "    #only add the gap once for histogram plotting later on\n",
    "    if ID in added:\n",
    "        continue\n",
    "        \n",
    "    added.append(ID)\n",
    "    \n",
    "    #Unfortunately, kmers could only be called in some of the windows, so not every\n",
    "    #   one will have a pvalue associated with it\n",
    "    if ID in GCDict_pval.keys():\n",
    "        pvalue = GCDict_pval[ID]\n",
    "        pvalues.append(pvalue)\n",
    "        if '_GapLift' in line[3]:\n",
    "            gapLiftPvalues.append(pvalue)\n",
    "        if 'NovelZoey' in line[3]:\n",
    "            novelZoeyPvalues.append(pvalue)\n",
    "\n",
    "    else:\n",
    "        couldntbeadded.append(ID)\n",
    "\n",
    "print('In total %i gap windows have intersects with at least one exon\\n' % len(added))\n",
    "print('Got the pvalues for %i windows that intersected with exons:' % len(pvalues))\n",
    "print('%i were the lifted over gaps' % len(gapLiftPvalues))\n",
    "print('%i were with novel zoey gaps\\n' % len(novelZoeyPvalues))\n",
    "print('No pvalues were available for %i windows that intersected with exons' % len(couldntbeadded))\n"
   ]
  },
  {
   "cell_type": "markdown",
   "metadata": {},
   "source": [
    "### P-value histogram --- All intersects regardless of gap type"
   ]
  },
  {
   "cell_type": "code",
   "execution_count": 73,
   "metadata": {},
   "outputs": [
    {
     "data": {
      "image/png": "[encoded data removed]",
      "text/plain": [
       "<Figure size 504x360 with 1 Axes>"
      ]
     },
     "metadata": {},
     "output_type": "display_data"
    }
   ],
   "source": [
    "plt.figure(figsize=(7,5))\n",
    "\n",
    "plt.hist(pvalues,bins=150)\n",
    "plt.xlim(0,0.5)\n",
    "plt.vlines(ymin=0,ymax=3000,x=0.05,color='red')\n",
    "#Add labels and title\n",
    "plt.title('P-values from GC permutations for gaps\\n intersecting at least one exon')\n",
    "plt.xlabel('P-values',fontweight='bold')\n",
    "plt.ylabel('Count',fontweight='bold')\n",
    "plt.tight_layout()\n",
    "plt.show()"
   ]
  },
  {
   "cell_type": "markdown",
   "metadata": {},
   "source": [
    "### P-value histogram --- Only Gap Liftover type"
   ]
  },
  {
   "cell_type": "code",
   "execution_count": 90,
   "metadata": {},
   "outputs": [
    {
     "data": {
      "image/png": "[encoded data removed]",
      "text/plain": [
       "<Figure size 576x432 with 1 Axes>"
      ]
     },
     "metadata": {},
     "output_type": "display_data"
    }
   ],
   "source": [
    "plt.figure(figsize=(8,6))\n",
    "\n",
    "plt.hist(pvalues,bins=150,color='darkblue')\n",
    "plt.xlim(-0.01,0.5)\n",
    "plt.vlines(ymin=0,ymax=500,x=0.05,color='red')\n",
    "#Add labels and title\n",
    "plt.title('P-values from GC permutations for *Liftover* gaps\\n intersecting at least one exon')\n",
    "plt.xlabel('P-values',fontweight='bold')\n",
    "plt.ylabel('Count',fontweight='bold')\n",
    "plt.tight_layout()\n",
    "plt.show()"
   ]
  },
  {
   "cell_type": "code",
   "execution_count": null,
   "metadata": {},
   "outputs": [],
   "source": []
  },
  {
   "cell_type": "code",
   "execution_count": null,
   "metadata": {},
   "outputs": [],
   "source": []
  }
 ],
 "metadata": {
  "kernelspec": {
   "display_name": "Python 3",
   "language": "python",
   "name": "python3"
  },
  "language_info": {
   "codemirror_mode": {
    "name": "ipython",
    "version": 3
   },
   "file_extension": ".py",
   "mimetype": "text/x-python",
   "name": "python",
   "nbconvert_exporter": "python",
   "pygments_lexer": "ipython3",
   "version": "3.5.4"
  }
 },
 "nbformat": 4,
 "nbformat_minor": 2
}
