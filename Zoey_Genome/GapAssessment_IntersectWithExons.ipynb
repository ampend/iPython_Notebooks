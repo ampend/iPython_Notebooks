{
 "cells": [
  {
   "cell_type": "code",
   "execution_count": 1,
   "metadata": {},
   "outputs": [],
   "source": [
    "# 2018-10-16\n",
    "# A. Pendleton\n",
    "# Intersect the Final gene set with the novel gaps that are in Zoey\n",
    "#    that were called by Feichen"
   ]
  },
  {
   "cell_type": "code",
   "execution_count": 2,
   "metadata": {},
   "outputs": [],
   "source": [
    "#this uses iPython magic to make plots appear inline\n",
    "%matplotlib inline\n",
    "import matplotlib.pyplot as plt\n",
    "import pandas as pd\n",
    "import subprocess\n",
    "import sys\n",
    "import numpy as np\n",
    "import matplotlib.patches as patches\n",
    "import gzip\n",
    "import fileinput\n",
    "import glob\n",
    "from scipy import stats\n",
    "import re\n",
    "from matplotlib_venn import venn3, venn3_circles\n",
    "from collections import OrderedDict\n",
    "\n",
    "\n",
    "def count_lines(f):\n",
    "    lineCount = 0\n",
    "    with open(f, 'r') as f:\n",
    "        for line in f:\n",
    "            lineCount += 1\n",
    "        return lineCount\n",
    "def runCMD(cmd):\n",
    "    val = subprocess.Popen(cmd, shell=True).wait()\n",
    "    if val == 0:\n",
    "        pass\n",
    "    else:\n",
    "        print ('command failed')\n",
    "        print (cmd)\n",
    "        sys.exit(1)\n",
    "# TO REMOVE TOP AND RIGHT AXIS OF PLOTS\n",
    "def simpleaxis(ax):\n",
    "    ax.spines['top'].set_visible(False)\n",
    "    ax.spines['right'].set_visible(False)\n",
    "    ax.get_xaxis().tick_bottom()\n",
    "    ax.get_yaxis().tick_left()\n",
    "#Write PBS Script\n",
    "def write_pbs_file(wkDir,cmdsFile,jobName, mem, jobCount):\n",
    "    #write PBS file\n",
    "    if '/scripts/' in wkDir:\n",
    "        wkDir = wkDir.replace('/scripts/','')\n",
    "    pbsFile = open(cmdsFile.replace('.cmds','.pbs'),'w')\n",
    "    print('Writing pbs file: %s'% pbsFile)\n",
    "    pbsFile.write('#!/bin/bash\\n')\n",
    "    pbsFile.write('#PBS -S /bin/bash\\n')\n",
    "    pbsFile.write('#PBS -V\\n')\n",
    "    pbsFile.write('#PBS -M ampend@med.umich.edu\\n')\n",
    "    pbsFile.write('#PBS -j oe\\n')\n",
    "    pbsFile.write('#PBS -N %s\\n' % jobName)\n",
    "    pbsFile.write('#PBS -o %s\\n' % (wkDir + 'logs/'))\n",
    "    pbsFile.write('#PBS -l pmem=%iG\\n' % mem)\n",
    "    pbsFile.write('#PBS -l nodes=1:ppn=1,qos=flux,walltime=100:00:00\\n')\n",
    "    pbsFile.write('##PBS -A medbsm_flux\\n')\n",
    "    pbsFile.write('##PBS -q flux\\n')\n",
    "    pbsFile.write('#PBS -A jmkidd_fluxod\\n')\n",
    "    pbsFile.write('#PBS -q fluxod\\n')\n",
    "    pbsFile.write('#PBS -t 1-%s\\n' % jobCount)\n",
    "    pbsFile.write('cd %s\\n' % (wkDir))\n",
    "    pbsFile.write('/home/ampend/links/kidd-lab/jmkidd-projects/scripts/perlUtils/run-by-id-log.pl %s %sBLAT_commands.logs $PBS_ARRAYID' % (cmdsFile,cmdsFile.replace('/scripts/','/logs/')))\n",
    "    pbsFile.close()"
   ]
  },
  {
   "cell_type": "markdown",
   "metadata": {},
   "source": [
    "# Define Inputs"
   ]
  },
  {
   "cell_type": "markdown",
   "metadata": {},
   "source": [
    "### CREATE Input 1 = Zoey Exon BED file"
   ]
  },
  {
   "cell_type": "markdown",
   "metadata": {},
   "source": [
    "##### Extract the exon coordinates from the transdecoder gff3 file which gives us exon positions for ALL genes. \n",
    "However, we only want the genes that made it into the final set (N=42,911 genes).\n",
    "\n",
    "\n",
    "So, you'll need to read in the final gene ID list first, then extract exon positions only for the genes that made it into the final list."
   ]
  },
  {
   "cell_type": "code",
   "execution_count": 3,
   "metadata": {},
   "outputs": [
    {
     "name": "stdout",
     "output_type": "stream",
     "text": [
      "Added 42911 IDs from the final gene list\n"
     ]
    }
   ],
   "source": [
    "finalDir = '/home/ampend/links/kidd-lab/ampend-projects/Zoey_Genome_Project/FINAL_GENES/'\n",
    "\n",
    "#Final list of 42,911 genes from Zoey annotations that went through annotations \n",
    "FinalGeneList = []\n",
    "finalGeneIDFile = finalDir + 'FinalGenes_IDs.txt'\n",
    "\n",
    "for line in open(finalGeneIDFile,'r'):\n",
    "    line=line.rstrip()\n",
    "    gene = line\n",
    "    FinalGeneList.append(gene)\n",
    "\n",
    "print('Added %i IDs from the final gene list' % len(FinalGeneList))"
   ]
  },
  {
   "cell_type": "code",
   "execution_count": 4,
   "metadata": {},
   "outputs": [
    {
     "name": "stdout",
     "output_type": "stream",
     "text": [
      "grep \"exon\" /home/ampend/links/kidd-lab/ampend-projects/Zoey_Genome_Project/rna-seq/version3_intron500k/transdecoder/results/pasa-lite_ZoeyTrinity.pasa_assembled_alignments.genome.gff3 > /home/ampend/links/kidd-lab/ampend-projects/Zoey_Genome_Project/rna-seq/version3_intron500k/transdecoder/results/pasa-lite_ZoeyTrinity.pasa_assembled_alignments.genome.gff3.exonsOnly\n"
     ]
    }
   ],
   "source": [
    "gffFile = '/home/ampend/links/kidd-lab/ampend-projects/Zoey_Genome_Project/rna-seq/version3_intron500k/transdecoder/results/pasa-lite_ZoeyTrinity.pasa_assembled_alignments.genome.gff3'\n",
    "\n",
    "#Use grep to only get the exons\n",
    "cmd = 'grep \"exon\" %s > %s.exonsOnly' % (gffFile,gffFile) \n",
    "print(cmd)\n",
    "runCMD(cmd)"
   ]
  },
  {
   "cell_type": "markdown",
   "metadata": {},
   "source": [
    "### Only need to generate the exon bed file once. \n",
    "## TAKES A LONG TIME\n",
    "### So the below cell is hashed out and a second cell will read the bed file and save everything to the proper array"
   ]
  },
  {
   "cell_type": "code",
   "execution_count": 5,
   "metadata": {},
   "outputs": [
    {
     "data": {
      "text/plain": [
       "\"\\nexonBedFile = open(exonBedfile,'w')\\n\\nparentGenes = []\\nlineCount = 0\\n\\nfor line in open(gffFile + '.exonsOnly','r'):\\n    line=line.rstrip().split('\\t')\\n    if len(line) < 2:\\n        continue\\n\\n    #only interested in exons\\n    if 'exon' not in line[2]:\\n        continue\\n\\n    chrom,start,end = line[0],int(line[3])-1,int(line[4])\\n    geneID = line[8].split(';')[0].replace('ID=','')\\n    parentGene = line[8].split(';')[1].replace('Parent=','')\\n    \\n    #We only want the final genes. Some genes in this gff file did not make it through \\n    #   post-processing filtration steps\\n    if parentGene not in FinalGeneList:\\n        continue\\n    lineCount+=1 \\n\\n    parentGenes.append(parentGene) #keep track of the genes that we end up adding to see if we are missing any later\\n    exonBedFile.write('%s\\t%i\\t%i\\t%s\\n' % (chrom,start,end,geneID))\\n    \\n    if lineCount % 10000 == 0:\\n        print(lineCount)\\n    #if lineCount > 10000: # for testing\\n        #break\\nexonBedFile.close()\\n\\nprint('Done with %i exons' % lineCount )\\nunique_parentGenes = set(parentGenes)\\nprint('From %i genes' % len(set(parentGenes)))\""
      ]
     },
     "execution_count": 5,
     "metadata": {},
     "output_type": "execute_result"
    }
   ],
   "source": [
    "gffFile = '/home/ampend/links/kidd-lab/ampend-projects/Zoey_Genome_Project/rna-seq/version3_intron500k/transdecoder/results/pasa-lite_ZoeyTrinity.pasa_assembled_alignments.genome.gff3'\n",
    "\n",
    "exonBedfile = finalDir + 'Zoey_FinalGenes_exons.bed'\n",
    "\n",
    "\"\"\"\n",
    "exonBedFile = open(exonBedfile,'w')\n",
    "\n",
    "parentGenes = []\n",
    "lineCount = 0\n",
    "\n",
    "for line in open(gffFile + '.exonsOnly','r'):\n",
    "    line=line.rstrip().split('\\t')\n",
    "    if len(line) < 2:\n",
    "        continue\n",
    "\n",
    "    #only interested in exons\n",
    "    if 'exon' not in line[2]:\n",
    "        continue\n",
    "\n",
    "    chrom,start,end = line[0],int(line[3])-1,int(line[4])\n",
    "    geneID = line[8].split(';')[0].replace('ID=','')\n",
    "    parentGene = line[8].split(';')[1].replace('Parent=','')\n",
    "    \n",
    "    #We only want the final genes. Some genes in this gff file did not make it through \n",
    "    #   post-processing filtration steps\n",
    "    if parentGene not in FinalGeneList:\n",
    "        continue\n",
    "    lineCount+=1 \n",
    "\n",
    "    parentGenes.append(parentGene) #keep track of the genes that we end up adding to see if we are missing any later\n",
    "    exonBedFile.write('%s\\t%i\\t%i\\t%s\\n' % (chrom,start,end,geneID))\n",
    "    \n",
    "    if lineCount % 10000 == 0:\n",
    "        print(lineCount)\n",
    "    #if lineCount > 10000: # for testing\n",
    "        #break\n",
    "exonBedFile.close()\n",
    "\n",
    "print('Done with %i exons' % lineCount )\n",
    "unique_parentGenes = set(parentGenes)\n",
    "print('From %i genes' % len(set(parentGenes)))\"\"\""
   ]
  },
  {
   "cell_type": "code",
   "execution_count": 6,
   "metadata": {},
   "outputs": [
    {
     "name": "stdout",
     "output_type": "stream",
     "text": [
      "206013 exons added\n",
      "From 42911 genes\n"
     ]
    }
   ],
   "source": [
    "parentGenes = []\n",
    "\n",
    "for line in open(exonBedfile,'r'):\n",
    "    line=line.rstrip().split('\\t')\n",
    "    chrom,start,end = line[0],int(line[1]),int(line[2])\n",
    "    geneID = line[3]\n",
    "    #parentID = geneID.rsplit('.',1)[0]\n",
    "    parentID = geneID.split('.exon')[0]\n",
    "    parentGenes.append(parentID)\n",
    "    \n",
    "\n",
    "print('%i exons added' % len(parentGenes))\n",
    "unique_parentGenes = set(parentGenes)\n",
    "print('From %i genes' % len(set(parentGenes)))"
   ]
  },
  {
   "cell_type": "code",
   "execution_count": 7,
   "metadata": {},
   "outputs": [
    {
     "name": "stdout",
     "output_type": "stream",
     "text": [
      "Missing 0 genes\n"
     ]
    }
   ],
   "source": [
    "#Check that we didn't miss any exon coordinates\n",
    "missing = []\n",
    "\n",
    "for gene in FinalGeneList:\n",
    "    if gene not in unique_parentGenes:\n",
    "        #print('ERROR: For some reason we are missing gene: ', gene)\n",
    "        missing.append(gene)\n",
    "print('Missing %i genes' % len(missing))"
   ]
  },
  {
   "cell_type": "markdown",
   "metadata": {},
   "source": [
    "### Input 2 = Feichen Gap BED file"
   ]
  },
  {
   "cell_type": "code",
   "execution_count": 9,
   "metadata": {},
   "outputs": [],
   "source": [
    "gapBedfile = finalDir + 'Intersect_FeichenGaps/' + 'MergedGaps_CfLiftoverToZoey_And_NovelZoeyCoord.bed'\n"
   ]
  },
  {
   "cell_type": "code",
   "execution_count": null,
   "metadata": {},
   "outputs": [],
   "source": [
    "##########################################################################################\n",
    "##########################################################################################\n",
    "##########################################################################################"
   ]
  },
  {
   "cell_type": "markdown",
   "metadata": {},
   "source": [
    "# Intersect the final exons with the novel gaps"
   ]
  },
  {
   "cell_type": "code",
   "execution_count": 10,
   "metadata": {},
   "outputs": [
    {
     "name": "stdout",
     "output_type": "stream",
     "text": [
      "bedtools intersect -wo -a /home/ampend/links/kidd-lab/ampend-projects/Zoey_Genome_Project/FINAL_GENES/Intersect_FeichenGaps/MergedGaps_CfLiftoverToZoey_And_NovelZoeyCoord.bed -b /home/ampend/links/kidd-lab/ampend-projects/Zoey_Genome_Project/FINAL_GENES/Zoey_FinalGenes_exons.bed > /home/ampend/links/kidd-lab/ampend-projects/Zoey_Genome_Project/FINAL_GENES/Intersect_FeichenGaps/Intersect_ZoeyNovelGaps_with_ZoeyFinalGeneExons.txt\n"
     ]
    }
   ],
   "source": [
    "intersectOutfile = finalDir + 'Intersect_FeichenGaps/Intersect_ZoeyNovelGaps_with_ZoeyFinalGeneExons.txt'\n",
    "\n",
    "cmd = 'bedtools intersect -wo -a %s -b %s > %s' % (gapBedfile,exonBedfile,intersectOutfile)\n",
    "print(cmd)\n",
    "runCMD(cmd)"
   ]
  },
  {
   "cell_type": "code",
   "execution_count": null,
   "metadata": {},
   "outputs": [],
   "source": [
    "##########################################################################################\n",
    "##########################################################################################\n",
    "##########################################################################################"
   ]
  },
  {
   "cell_type": "markdown",
   "metadata": {},
   "source": [
    "# Read in the GC content pvalues"
   ]
  },
  {
   "cell_type": "code",
   "execution_count": 11,
   "metadata": {},
   "outputs": [
    {
     "name": "stdout",
     "output_type": "stream",
     "text": [
      "added in GC pvalues for 13839 windows\n"
     ]
    }
   ],
   "source": [
    "GCbed = '/nfs/turbo/jmkiddscr/feichens-projects/Zoey_pacbio/4_Post_analysis/QuicKmer/ROI_index_in_bianry.bed'\n",
    "\n",
    "GCDict_pval = {}\n",
    "\n",
    "for line in open(GCbed,'r'):\n",
    "    line=line.rstrip().split('\\t')\n",
    "    ID = line[0] + ':' + line[1] + '-' + line[2]\n",
    "    GCDict_pval[ID] = float(line[5])\n",
    "    \n",
    "print('added in GC pvalues for %i windows' % len(GCDict_pval.keys()))"
   ]
  },
  {
   "cell_type": "markdown",
   "metadata": {},
   "source": [
    "### Get the pvalues for those windows that intersect with exons"
   ]
  },
  {
   "cell_type": "code",
   "execution_count": 12,
   "metadata": {},
   "outputs": [
    {
     "name": "stdout",
     "output_type": "stream",
     "text": [
      "In total 3876 gap windows have intersects with at least one exon\n",
      "\n",
      "Got the pvalues for 3422 windows that intersected with exons:\n",
      "3422 were the lifted over gaps\n",
      "0 were with novel zoey gaps\n",
      "\n",
      "No pvalues were available for 454 windows that intersected with exons\n"
     ]
    }
   ],
   "source": [
    "added = []\n",
    "couldntbeadded = []\n",
    "pvalues = [] #for plotting the pvalues later\n",
    "gapLiftPvalues, novelZoeyPvalues = [], [] \n",
    "\n",
    "for line in open(intersectOutfile,'r'):\n",
    "    line=line.rstrip().split('\\t')\n",
    "    ID = line[0] + ':' + line[1] + '-' + line[2]\n",
    "    \n",
    "    #only add the gap once for histogram plotting later on\n",
    "    if ID in added:\n",
    "        continue\n",
    "        \n",
    "    added.append(ID)\n",
    "    \n",
    "    #Unfortunately, kmers could only be called in some of the windows, so not every\n",
    "    #   one will have a pvalue associated with it\n",
    "    if ID in GCDict_pval.keys():\n",
    "        pvalue = GCDict_pval[ID]\n",
    "        pvalues.append(pvalue)\n",
    "        if '_GapLift' in line[3]:\n",
    "            gapLiftPvalues.append(pvalue)\n",
    "        if 'NovelZoey' in line[3]:\n",
    "            novelZoeyPvalues.append(pvalue)\n",
    "\n",
    "    else:\n",
    "        couldntbeadded.append(ID)\n",
    "\n",
    "print('In total %i gap windows have intersects with at least one exon\\n' % len(added))\n",
    "print('Got the pvalues for %i windows that intersected with exons:' % len(pvalues))\n",
    "print('%i were the lifted over gaps' % len(gapLiftPvalues))\n",
    "print('%i were with novel zoey gaps\\n' % len(novelZoeyPvalues))\n",
    "print('No pvalues were available for %i windows that intersected with exons' % len(couldntbeadded))\n"
   ]
  },
  {
   "cell_type": "markdown",
   "metadata": {},
   "source": [
    "### P-value histogram --- All intersects regardless of gap type"
   ]
  },
  {
   "cell_type": "code",
   "execution_count": 13,
   "metadata": {},
   "outputs": [
    {
     "data": {
      "image/png": "[encoded data removed]",
      "text/plain": [
       "<Figure size 576x432 with 1 Axes>"
      ]
     },
     "metadata": {},
     "output_type": "display_data"
    }
   ],
   "source": [
    "plt.figure(figsize=(8,6))\n",
    "\n",
    "plt.hist(pvalues,bins=150)\n",
    "plt.xlim(-0.01,0.5)\n",
    "plt.vlines(ymin=0,ymax=3000,x=0.05,color='red')\n",
    "#Add labels and title\n",
    "plt.title('P-values from GC permutations for gaps\\n intersecting at least one exon',fontweight='bold')\n",
    "plt.xlabel('P-values',fontweight='bold')\n",
    "plt.ylabel('Count',fontweight='bold')\n",
    "plt.tight_layout()\n",
    "plt.show()"
   ]
  },
  {
   "cell_type": "markdown",
   "metadata": {},
   "source": [
    "### P-value histogram --- Only Gap Liftover type"
   ]
  },
  {
   "cell_type": "code",
   "execution_count": 15,
   "metadata": {},
   "outputs": [
    {
     "name": "stdout",
     "output_type": "stream",
     "text": [
      "Number of intersects significant = 3055  (0.892753 of windows)\n"
     ]
    },
    {
     "data": {
      "image/png": "[encoded data removed]",
      "text/plain": [
       "<Figure size 576x432 with 1 Axes>"
      ]
     },
     "metadata": {},
     "output_type": "display_data"
    }
   ],
   "source": [
    "psig = 0\n",
    "for p in pvalues:\n",
    "    if p < 0.05:\n",
    "        psig +=1\n",
    "print('Number of intersects significant = %i  (%f of windows)' % (psig,psig/float(len(pvalues))))\n",
    "\n",
    "plt.figure(figsize=(8,6))\n",
    "\n",
    "plt.hist(pvalues,bins=150,color='darkblue')\n",
    "plt.xlim(-0.01,0.5)\n",
    "plt.vlines(ymin=0,ymax=500,x=0.05,color='red')\n",
    "#Add labels and title\n",
    "plt.title('P-values from GC permutations for *Liftover* gaps\\n intersecting at least one exon',fontweight='bold')\n",
    "plt.xlabel('P-values',fontweight='bold')\n",
    "plt.ylabel('Count',fontweight='bold')\n",
    "plt.tight_layout()\n",
    "plt.show()"
   ]
  },
  {
   "cell_type": "code",
   "execution_count": null,
   "metadata": {},
   "outputs": [],
   "source": [
    "######################################################################################################\n",
    "######################################################################################################\n",
    "######################################################################################################\n",
    "######################################################################################################\n",
    "######################################################################################################\n",
    "######################################################################################################\n",
    "######################################################################################################\n",
    "######################################################################################################\n",
    "######################################################################################################\n"
   ]
  },
  {
   "cell_type": "markdown",
   "metadata": {},
   "source": [
    "# Assessing exon number bias for those in novel regions\n",
    "### We hypothesize that the novel exons are mostly in the beginning/ends of genes due to GC bias"
   ]
  },
  {
   "cell_type": "markdown",
   "metadata": {},
   "source": [
    "#### Store the N'th exon number for every gene"
   ]
  },
  {
   "cell_type": "code",
   "execution_count": 17,
   "metadata": {},
   "outputs": [
    {
     "name": "stdout",
     "output_type": "stream",
     "text": [
      "Added exon counts for the 42911 genes\n"
     ]
    }
   ],
   "source": [
    "exonCountDict = {}\n",
    "\n",
    "for line in open(exonBedfile, 'r'):\n",
    "    line=line.rstrip().split('\\t')\n",
    "    exonID = line[3]\n",
    "    exonNum = int(exonID.split('.exon')[1]) #get the exon number for this bed entry\n",
    "    geneID = exonID.split('.exon')[0] #gene identifier\n",
    "\n",
    "    if geneID in exonCountDict.keys():\n",
    "        if exonNum > exonCountDict[geneID]:\n",
    "            exonCountDict[geneID] = exonNum\n",
    "        else:\n",
    "            continue\n",
    "    else:\n",
    "        exonCountDict[geneID] = exonNum\n",
    "print('Added exon counts for the %i genes' % len(exonCountDict.keys()))"
   ]
  },
  {
   "cell_type": "markdown",
   "metadata": {},
   "source": [
    "# READING IN ALL GENE LENGTHS\n"
   ]
  },
  {
   "cell_type": "code",
   "execution_count": 18,
   "metadata": {},
   "outputs": [],
   "source": [
    "def get_all_gene_lengths(bedfile):\n",
    "    lengthDict = {}\n",
    "    for line in open(bedfile,'r'):\n",
    "        line=line.rstrip().split('\\t')\n",
    "        length = int(line[2])-int(line[1])\n",
    "        geneID = line[3].split(';')[0]\n",
    "        lengthDict[geneID] = length\n",
    "    return lengthDict\n",
    "\n",
    "#Get lengths of all genes\n",
    "zoeyFullLengthGeneBed = finalDir + 'Zoey_FinalGenes.12.bed'\n",
    "lengthDict = get_all_gene_lengths(zoeyFullLengthGeneBed)\n"
   ]
  },
  {
   "cell_type": "markdown",
   "metadata": {},
   "source": [
    "# REAL DATA\n",
    "## Intersecting non-shuffled novel gap insertions with final Zoey genes"
   ]
  },
  {
   "cell_type": "code",
   "execution_count": 77,
   "metadata": {},
   "outputs": [],
   "source": [
    "########################################################################################################\n",
    "def do_intersects(a,b,outfile):\n",
    "    cmd = 'bedtools intersect -wo -a %s -b %s > %s' % (a, b, outfile)\n",
    "    runCMD(cmd)\n",
    "\n",
    "########################################################################################\n",
    "def parse_intersect(Dict,intersectFile): \n",
    "\n",
    "    geneLengths = [] #keeping track of gene lengths\n",
    "    exonNums = []\n",
    "    genes = []\n",
    "\n",
    "    #Reading the intersect file results\n",
    "    for line in open(intersectFile,'r'):\n",
    "        line = line.rstrip().split('\\t') #removing extraneous whitespace characters\n",
    "        #Example exonID = Gene.23056::chr1.g10665.i1::g.23056::m.23056.exon9, exonNum = 9\n",
    "        exonID = line[7]\n",
    "        exonNum = int(exonID.split('.exon')[1])\n",
    "        geneID = exonID.split('.exon')[0]\n",
    "        \n",
    "        #Gene length\n",
    "        geneLength = lengthDict[geneID]\n",
    "        if geneID not in genes:\n",
    "            genes.append(geneID)\n",
    "            #Only add gene length if the gene lenght hasn't already been added\n",
    "            geneLengths.append(geneLength)\n",
    "            \n",
    "        #Store globally exonnums and genes\n",
    "        exonNums.append(exonNum)\n",
    "        \n",
    "        exonMax = exonCountDict[geneID]\n",
    "        if exonNum not in Dict.keys():\n",
    "            Dict[exonNum] = []\n",
    "            \n",
    "        Dict[exonNum].append([exonNum,exonMax,exonID,geneLength])\n",
    "            \n",
    "    return Dict, genes, geneLengths, exonNums\n",
    "########################################################################################\n",
    "def parse_shuffle_intersect(Dict,intersectFile): \n",
    "\n",
    "    geneLengths = [] #keeping track of gene lengths\n",
    "    exonNums = []\n",
    "    genes = []\n",
    "\n",
    "    #Reading the intersect file results\n",
    "    for line in open(intersectFile,'r'):\n",
    "        line = line.rstrip().split('\\t') #removing extraneous whitespace characters\n",
    "        #Example exonID = Gene.23056::chr1.g10665.i1::g.23056::m.23056.exon9, exonNum = 9\n",
    "        exonID = line[3]\n",
    "        exonNum = int(exonID.split('.exon')[1])\n",
    "        geneID = exonID.split('.exon')[0]\n",
    "        \n",
    "        #Gene length\n",
    "        geneLength = lengthDict[geneID]\n",
    "        if geneID not in genes:\n",
    "            genes.append(geneID)\n",
    "            #Only add gene length if the gene lenght hasn't already been added\n",
    "            geneLengths.append(geneLength)\n",
    "            \n",
    "        #Store globally exonnums and genes\n",
    "        exonNums.append(exonNum)\n",
    "        \n",
    "        exonMax = exonCountDict[geneID]\n",
    "        if exonNum not in Dict.keys():\n",
    "            Dict[exonNum] = []\n",
    "            \n",
    "        Dict[exonNum].append([exonNum,exonMax,exonID,geneLength])\n",
    "            \n",
    "    return Dict, genes, geneLengths, exonNums\n",
    "##########################################################################\n",
    "def get_max_exon_Counts(exonBedfile):\n",
    "    exonCountDict = {}\n",
    "\n",
    "    for line in open(exonBedfile, 'r'):\n",
    "        line=line.rstrip().split('\\t')\n",
    "        exonID = line[3]\n",
    "        exonNum = int(exonID.split('.exon')[1]) #get the exon number for this bed entry\n",
    "        geneID = exonID.split('.exon')[0] #gene identifier\n",
    "\n",
    "        if geneID in exonCountDict.keys():\n",
    "            if exonNum > exonCountDict[geneID]:\n",
    "                exonCountDict[geneID] = exonNum\n",
    "            else:\n",
    "                continue\n",
    "        else:\n",
    "            exonCountDict[geneID] = exonNum\n",
    "    print('Added exon counts for the %i genes' % len(exonCountDict.keys()))\n",
    "    return exonCountDict\n",
    "##########################################################################\n",
    "def get_all_gene_lengths(bedfile):\n",
    "    lengthDict = {}\n",
    "    for line in open(bedfile,'r'):\n",
    "        line=line.rstrip().split('\\t')\n",
    "        length = int(line[2])-int(line[1])\n",
    "        geneID = line[3].split(';')[0]\n",
    "        lengthDict[geneID] = length\n",
    "    return lengthDict\n",
    "\n",
    "##########################################################################\n",
    "#Keepint track of how long each exon is per position in gene\n",
    "def make_empty_permLengthDict():\n",
    "    positions = ['E1','E2','E3','N2','N1','N']\n",
    "    permLengthDict = {}\n",
    "    for p in positions:\n",
    "        permLengthDict[p] = []\n",
    "\n",
    "    return permLengthDict\n",
    "\n",
    "##########################################################################\n",
    "def parse_intersect_file(outfile,permLengthDict):\n",
    "    #####LOOP\n",
    "    E1,E2,E3,MIDDLE,N2,N1,N = 0,0,0,0,0,0,0\n",
    "    totalIntersects, totalPassingIntersects = 0, 0\n",
    "\n",
    "    for line in open(outfile,'r'):\n",
    "        line=line.rstrip().split('\\t')\n",
    "        #all intersects\n",
    "        totalIntersects += 1\n",
    "\n",
    "        #details on this gene\n",
    "        exonNum, geneID = int(line[7].split('.exon')[1]), line[7].split('.exon')[0]\n",
    "        maxExon =  int(exonCountDict[geneID])\n",
    "        exonLength = int(line[6]) - int(line[5])\n",
    "        distanceFromEndExon = maxExon - exonNum\n",
    "\n",
    "        #If not at least 3 exons, skip\n",
    "        if maxExon <= 3:\n",
    "            continue\n",
    "            \n",
    "        totalPassingIntersects += 1 #How many pass after exon count filtration\n",
    "            \n",
    "        if exonNum == 1: # FIRST EXON\n",
    "            E1 += 1\n",
    "            permLengthDict['E1'].append(exonLength)\n",
    "            continue\n",
    "        if exonNum == 2: # SECOND EXON\n",
    "            E2 += 1\n",
    "            permLengthDict['E2'].append(exonLength)\n",
    "            continue\n",
    "        if exonNum == 3: # THIRD EXON\n",
    "            E3 += 1\n",
    "            permLengthDict['E3'].append(exonLength)\n",
    "            continue\n",
    "        if distanceFromEndExon == 2:  # THIRD TO LAST EXON\n",
    "            N2 += 1\n",
    "            permLengthDict['N2'].append(exonLength)\n",
    "            continue\n",
    "        if distanceFromEndExon == 1:  # SECOND TO LAST EXON\n",
    "            N1 += 1\n",
    "            permLengthDict['N1'].append(exonLength)\n",
    "            continue\n",
    "        if distanceFromEndExon == 0:  # LAST EXON\n",
    "            N += 1\n",
    "            permLengthDict['N'].append(exonLength)\n",
    "            continue\n",
    "        else:\n",
    "            MIDDLE+=1\n",
    "            continue\n",
    "\n",
    "\n",
    "    return E1,E2,E3,MIDDLE,N2,N1,N,totalIntersects,totalPassingIntersects,permLengthDict\n",
    "##########################################################################\n",
    "def get_gene_lengths_from_intersect_file(outfile):\n",
    "    geneLengths, passingGeneLengths, singleExonCounts = [], [], 0\n",
    "    genes = [] #Dont want to add gene lengths multiple times, only add once\n",
    "    \n",
    "    for line in open(outfile,'r'):\n",
    "        line=line.rstrip().split('\\t')\n",
    "\n",
    "        #details on this gene\n",
    "        exonNum, geneID = int(line[7].split('.exon')[1]), line[7].split('.exon')[0]\n",
    "        geneLength = int(lengthDict[geneID])\n",
    "        maxExon =  int(exonCountDict[geneID])\n",
    "\n",
    "        #total intersect gene lengths\n",
    "        if geneID not in genes:\n",
    "            geneLengths.append(geneLength)\n",
    "            if maxExon <= 3:\n",
    "                passingGeneLengths.append(geneLength)\n",
    "                \n",
    "        genes.append(geneID)\n",
    "\n",
    "        #How many are singletons\n",
    "        if maxExon == 1:\n",
    "            singleExonCounts += 1\n",
    "\n",
    "        if maxExon <= 3:\n",
    "            continue\n",
    "\n",
    "    \n",
    "\n",
    "    return geneLengths, passingGeneLengths, singleExonCounts"
   ]
  },
  {
   "cell_type": "markdown",
   "metadata": {},
   "source": [
    "#### Store the N'th exon number for every gene"
   ]
  },
  {
   "cell_type": "code",
   "execution_count": 85,
   "metadata": {},
   "outputs": [
    {
     "name": "stdout",
     "output_type": "stream",
     "text": [
      "Added exon counts for the 42911 genes\n",
      "2056 249 130 474 81 102 272\n",
      "Proportion of exons that are Exon #1 position 0.6111771700356718\n",
      "Proportion of exons that are Nth position 0.08085612366230678\n",
      "\n",
      "Real proportion of intersecting exons \n",
      "\tthat are single exon genes:  0.25337331334332835\n"
     ]
    }
   ],
   "source": [
    "####### INPUTS ############\n",
    "#Get lengths of all genes\n",
    "zoeyFullLengthGeneBed = finalDir + 'Zoey_FinalGenes.12.bed'\n",
    "lengthDict = get_all_gene_lengths(zoeyFullLengthGeneBed)\n",
    "#Get max exon counts possible for all genes\n",
    "zoeyExonBed = finalDir + 'Zoey_FinalGenes_exons.bed'\n",
    "exonCountDict = get_max_exon_Counts(zoeyExonBed)\n",
    "\n",
    "intersectFile = finalDir + 'Intersect_FeichenGaps/Intersect_ZoeyNovelGaps_with_ZoeyFinalGeneExons.txt'\n",
    "outfile = intersectFile\n",
    "\n",
    "\n",
    "#GLOBAL FOR 1000 PERMS - number of exons in each possible position\n",
    "real_exon1,real_exon2,real_exon3,real_n2,real_n1,real_n = [],[],[],[],[],[]\n",
    "real_prop_exon1,real_prop_exon2,real_prop_exon3,real_prop_n2,real_prop_n1,real_prop_n = [],[],[],[],[],[]\n",
    "\n",
    "realLengthDict = make_empty_permLengthDict() #keep track of the lengths of the exons based on positions (E1-->N)\n",
    "\n",
    "\n",
    "# PARSE INTERSECT FILE\n",
    "E1,E2,E3,MIDDLE,N2,N1,N,totalIntersects,passing,realLengthDict = parse_intersect_file(outfile, realLengthDict)\n",
    "print(E1,E2,E3,MIDDLE,N2,N1,N)\n",
    "\n",
    "real_total_intersectCount = count_lines(intersectFile)\n",
    "real_total_fractionExonIntersecting = totalIntersects/float(possibleExons)\n",
    "real_passing_fractionExonIntersecting = passing/float(possibleExons)\n",
    "\n",
    "# ADD TO GLOBAL TALLY OF COUNTS AND FRACTION OF COUNTS\n",
    "#counts\n",
    "real_exon1, real_exon2, real_exon3, real_n2, real_n1, real_n = E1, E2, E3, N2, N1, N\n",
    "#proportion of passing intersects\n",
    "real_prop_exon1,real_prop_exon2, real_prop_exon3, real_prop_n2, real_prop_n1, real_prop_n = E1/float(passing), E2/float(passing), E3/float(passing), N2/float(passing), N1/float(passing), N/float(passing)\n",
    "\n",
    "\n",
    "geneLengths, passingGeneLengths, singleExonCounts = get_gene_lengths_from_intersect_file(outfile)\n",
    "real_geneLength = np.mean(geneLengths)\n",
    "real_passing_geneLength = np.mean(passingGeneLengths)\n",
    "real_singleExon = singleExonCounts/float(totalIntersects)\n",
    "\n",
    "print('Proportion of exons that are Exon #1 position',real_prop_exon1)    \n",
    "print('Proportion of exons that are Nth position',real_prop_n)\n",
    "print('\\nReal proportion of intersecting exons \\n\\tthat are single exon genes: ', real_singleExon)"
   ]
  },
  {
   "cell_type": "code",
   "execution_count": 28,
   "metadata": {},
   "outputs": [
    {
     "name": "stdout",
     "output_type": "stream",
     "text": [
      "2056 249 130 81 102 272\n"
     ]
    }
   ],
   "source": [
    "print(E1,E2,E3,N2,N1,N)"
   ]
  },
  {
   "cell_type": "code",
   "execution_count": null,
   "metadata": {},
   "outputs": [],
   "source": []
  },
  {
   "cell_type": "code",
   "execution_count": 33,
   "metadata": {},
   "outputs": [
    {
     "name": "stderr",
     "output_type": "stream",
     "text": [
      "/sw/lsa/centos7/python-anaconda-arc-connect/created-20170421/lib/python3.5/site-packages/matplotlib/figure.py:459: UserWarning: matplotlib is currently using a non-GUI backend, so cannot show the figure\n",
      "  \"matplotlib is currently using a non-GUI backend, \"\n"
     ]
    },
    {
     "name": "stdout",
     "output_type": "stream",
     "text": [
      "365.706712062 307.112449799 308.5 192.802469136 386.941176471 2368.81985294\n"
     ]
    },
    {
     "data": {
      "image/png": "[encoded data removed]",
      "text/plain": [
       "<Figure size 432x288 with 6 Axes>"
      ]
     },
     "metadata": {},
     "output_type": "display_data"
    }
   ],
   "source": [
    "f, axarr = plt.subplots(2, 3)\n",
    "st = f.suptitle('Exon length averages by position\\n(REAL DATA)', fontsize=\"x-large\")\n",
    "\n",
    "#Exon 1 Lengths\n",
    "axarr[0, 0].hist(realLengthDict['E1'],bins=100,color='black')\n",
    "axarr[0, 0].set_title('Exon 1')\n",
    "#Exon 2 Lengths\n",
    "axarr[0, 1].hist(realLengthDict['E2'],bins=100,color='black')\n",
    "axarr[0, 1].set_title('Exon 2')\n",
    "#Exon 3 Lengths\n",
    "axarr[0, 2].hist(realLengthDict['E3'],bins=100,color='black')\n",
    "axarr[0, 2].set_title('Exon 3')\n",
    "#Exon N-2 Lengths\n",
    "axarr[1, 0].hist(realLengthDict['N2'],bins=100,color='black')\n",
    "axarr[1, 0].set_title('Exon N-2')\n",
    "#Exon N-1 Lengths\n",
    "axarr[1, 1].hist(realLengthDict['N1'],bins=100,color='black')\n",
    "axarr[1, 1].set_title('Exon N-1')\n",
    "#Exon N Lengths\n",
    "axarr[1, 2].hist(realLengthDict['N'],bins=100,color='black')\n",
    "axarr[1, 2].set_title('Exon N')\n",
    "plt.tight_layout()\n",
    "\n",
    "st.set_y(1.0)\n",
    "f.subplots_adjust(top=0.75)\n",
    "\n",
    "plt.show()\n",
    "\n",
    "real_mean_E1_length, real_mean_E2_length, real_mean_E3_length, real_mean_N2_length, real_mean_N1_length, real_mean_N_length = np.mean(realLengthDict['E1']), np.mean(realLengthDict['E2']), np.mean(realLengthDict['E3']), np.mean(realLengthDict['N2']), np.mean(realLengthDict['N1']), np.mean(realLengthDict['N']) \n",
    "print(real_mean_E1_length, real_mean_E2_length, real_mean_E3_length, real_mean_N2_length, real_mean_N1_length, real_mean_N_length) \n"
   ]
  },
  {
   "cell_type": "markdown",
   "metadata": {},
   "source": [
    "### Plot REAL exon number bias\n",
    "### COUNTS"
   ]
  },
  {
   "cell_type": "code",
   "execution_count": 36,
   "metadata": {},
   "outputs": [
    {
     "data": {
      "image/png": "[encoded data removed]",
      "text/plain": [
       "<Figure size 576x432 with 1 Axes>"
      ]
     },
     "metadata": {},
     "output_type": "display_data"
    }
   ],
   "source": [
    "xs = ['Exon 1','Exon 2','Exon 3','Exon N-2','Exon N-1','Exon N']\n",
    "ys = [real_exon1, real_exon2, real_exon3, real_n2, real_n1, real_n]\n",
    "pos = [0,1,2,3,4,5]\n",
    "\n",
    "plt.figure(figsize=(8, 6))  # width:20, height:3\n",
    "\n",
    "names, ticks = [], []\n",
    "for p in range(0,len(pos)):\n",
    "    l = xs[p]\n",
    "    _ = plt.bar(p,int(ys[p]),width = 0.7,align='center',color='black',label=l)\n",
    "    names.append(xs[p])\n",
    "    ticks.append(p)\n",
    "\n",
    "_ =plt.xticks(ticks,names,fontsize=10)\n",
    "#_ = plt.title('Exon Count for gene models intersecting novel ROI',fontweight='bold')\n",
    "_ = plt.ylabel('Count',fontweight='bold')\n",
    "plt.tight_layout()\n",
    "plt.title('Real data')\n",
    "plt.savefig(finalDir + 'Intersect_FeichenGaps/' + 'RealData_exonposition.pdf')\n",
    "plt.show()"
   ]
  },
  {
   "cell_type": "markdown",
   "metadata": {},
   "source": [
    "### Plot REAL exon number bias\n",
    "### Proportion of intersects passing exon count filtrations"
   ]
  },
  {
   "cell_type": "code",
   "execution_count": 39,
   "metadata": {},
   "outputs": [
    {
     "data": {
      "text/plain": [
       "([0.6111771700356718,\n",
       "  0.07401902497027349,\n",
       "  0.03864447086801427,\n",
       "  0.024078478002378122,\n",
       "  0.03032104637336504,\n",
       "  0.08085612366230678],\n",
       " ['Exon 1', 'Exon 2', 'Exon 3', 'Exon N-2', 'Exon N-1', 'Exon N'])"
      ]
     },
     "execution_count": 39,
     "metadata": {},
     "output_type": "execute_result"
    }
   ],
   "source": [
    "ys, xs"
   ]
  },
  {
   "cell_type": "code",
   "execution_count": 43,
   "metadata": {},
   "outputs": [
    {
     "data": {
      "image/png": "[encoded data removed]",
      "text/plain": [
       "<Figure size 576x432 with 1 Axes>"
      ]
     },
     "metadata": {},
     "output_type": "display_data"
    }
   ],
   "source": [
    "xs = ['Exon 1','Exon 2','Exon 3','Exon N-2','Exon N-1','Exon N']\n",
    "ys = [real_prop_exon1, real_prop_exon2, real_prop_exon3, real_prop_n2, real_prop_n1, real_prop_n]\n",
    "pos = [0,1,2,3,4,5]\n",
    "\n",
    "plt.figure(figsize=(8, 6))  # width:20, height:3\n",
    "\n",
    "names, ticks = [], []\n",
    "for p in range(0,len(pos)):\n",
    "    l = xs[p]\n",
    "    _ = plt.bar(p,float(ys[p]),width = 0.7,align='center',color='black',label=l)\n",
    "    names.append(xs[p])\n",
    "    ticks.append(p)\n",
    "\n",
    "_ =plt.xticks(ticks,names,fontsize=10)\n",
    "#_ = plt.title('Exon Count for gene models intersecting novel ROI',fontweight='bold')\n",
    "_ = plt.ylabel('Proportion',fontweight='bold')\n",
    "_ = plt.xlabel('Exon Position',fontweight='bold')\n",
    "plt.tight_layout()\n",
    "plt.title('Proportion of all intersects for each exon position\\n(REAL)',fontweight='bold')\n",
    "plt.savefig(finalDir + 'Intersect_FeichenGaps/' + 'RealData_PROPORTION_exonposition.pdf')\n",
    "plt.show()"
   ]
  },
  {
   "cell_type": "code",
   "execution_count": null,
   "metadata": {},
   "outputs": [],
   "source": [
    "########################################################################################################\n",
    "########################################################################################################\n",
    "########################################################################################################\n",
    "########################################################################################################\n",
    "########################################################################################################\n",
    "########################################################################################################\n",
    "########################################################################################################\n",
    "########################################################################################################"
   ]
  },
  {
   "cell_type": "markdown",
   "metadata": {},
   "source": [
    "# *\n",
    "# Permutations\n",
    "# *"
   ]
  },
  {
   "cell_type": "code",
   "execution_count": 44,
   "metadata": {},
   "outputs": [],
   "source": [
    "#Write all xpclr sweeps to a output bedfile to be shuffled below\n",
    "finalGeneDir = '/home/ampend/links/kidd-lab/ampend-projects/Zoey_Genome_Project/FINAL_GENES/'\n",
    "gapDir = finalGeneDir + 'Intersect_FeichenGaps/'\n",
    "\n",
    "#make directory for the permutations\n",
    "permDir = gapDir + 'permutations/'\n",
    "cmd = 'mkdir -p %s' % permDir\n",
    "runCMD(cmd)\n",
    "\n",
    "#Gap file\n",
    "novel_gapBedFile = gapDir + 'MergedGaps_CfLiftoverToZoey_And_NovelZoeyCoord.bed'\n",
    "\n",
    "#Inputs\n",
    "ZoeyGapBedFile = '~/links/kidd-lab/genomes/zoey/assemblies/2.3/gaps/zoey.2.3.gaps.bed'\n",
    "ZoeyGenome = gapDir + 'Zoey2.3_AutosomesOnly.genome'\n",
    "ZoeyGeneBedFile = finalGeneDir + 'Zoey_FinalGenes_exons_chr1-38_chrX.bed' #Only genes on chr1-38,chrX (no CTG or scaffold genes)\n"
   ]
  },
  {
   "cell_type": "code",
   "execution_count": 84,
   "metadata": {},
   "outputs": [
    {
     "name": "stdout",
     "output_type": "stream",
     "text": [
      "Added exon counts for the 42911 genes\n",
      "0\n",
      "50\n",
      "100\n",
      "150\n",
      "200\n",
      "250\n",
      "300\n",
      "350\n",
      "400\n",
      "450\n",
      "500\n",
      "550\n",
      "600\n",
      "650\n",
      "700\n",
      "750\n",
      "800\n",
      "850\n",
      "900\n",
      "950\n",
      "Real single exon:  0.25337331334332835\n",
      "Permuted average single exon:  [0.20396776193428395, 0.19183168316831684, 0.22110552763819097, 0.22208955223880597, 0.1895933014354067, 0.1981076286221171, 0.1976456009913259, 0.20320855614973263, 0.20454545454545456, 0.19914215686274508, 0.19273399014778325, 0.21837708830548927, 0.20472895040369088, 0.20215956808638272, 0.20597584233947872, 0.18328358208955223, 0.1994933502216593, 0.1959739490822972, 0.20048163756773027, 0.2107594936708861, 0.2, 0.19797525309336333, 0.23076923076923078, 0.19515151515151516, 0.20326223337515684, 0.21532846715328466, 0.20581257413997628, 0.20860341779611077, 0.20526630760023937, 0.20050761421319796, 0.18593272171253822, 0.21465295629820053, 0.20533010296789825, 0.19298245614035087, 0.1983323406789756, 0.21700879765395895, 0.19829683698296838, 0.21675191815856779, 0.19650391802290537, 0.20471464019851116, 0.19718309859154928, 0.20928829915560918, 0.19902912621359223, 0.2084848484848485, 0.20977011494252873, 0.2097944377267231, 0.18746232670283303, 0.23483009708737865, 0.21061946902654868, 0.20192887281494876, 0.20965842167255594, 0.18994082840236687, 0.2088050314465409, 0.19061757719714964, 0.2255266418835192, 0.19787359716479622, 0.21668667466986793, 0.20316455696202532, 0.20278099652375434, 0.19964454976303317, 0.19225888324873097, 0.18735763097949887, 0.19337316675719718, 0.20591939546599497, 0.2100181050090525, 0.196553924696873, 0.20637785800240674, 0.19415807560137457, 0.2026618269812462, 0.20240963855421687, 0.19838308457711443, 0.2063185041908446, 0.21232876712328766, 0.1962134251290878, 0.21423905943827565, 0.20329994107248084, 0.21398176291793314, 0.202344231955583, 0.19560047562425684, 0.22394282310899344, 0.18321513002364065, 0.1960431654676259, 0.21579264617239302, 0.20024271844660194, 0.20667063728409768, 0.20658682634730538, 0.21339950372208435, 0.19732034104750304, 0.1997703788748565, 0.21714643304130163, 0.20174346201743462, 0.20651505838967424, 0.208628841607565, 0.21049562682215744, 0.19928400954653938, 0.21689785624211855, 0.18198198198198198, 0.19951040391676866, 0.21480582524271843, 0.1954842543077837, 0.19696084161309177, 0.18864577173270256, 0.18854415274463007, 0.21307506053268765, 0.19807923169267708, 0.18660287081339713, 0.1861671469740634, 0.18116805721096543, 0.20673076923076922, 0.19463087248322147, 0.19228486646884274, 0.1915024630541872, 0.1841620626151013, 0.2113676731793961, 0.21330845771144277, 0.20702634880803011, 0.20590043023970497, 0.19618055555555555, 0.21645021645021645, 0.20011983223487118, 0.21398176291793314, 0.20635910224438903, 0.20087064676616914, 0.199023199023199, 0.20820760410380204, 0.18587809293904647, 0.19267605633802817, 0.19866747425802544, 0.20399515738498789, 0.19195612431444242, 0.2226148409893993, 0.2036923076923077, 0.18723404255319148, 0.20364741641337386, 0.20733249051833122, 0.2020460358056266, 0.20669406928948914, 0.2070828331332533, 0.1955069823922283, 0.20413122721749696, 0.19451371571072318, 0.19053398058252427, 0.21407274895646988, 0.19465174129353233, 0.20351302241066022, 0.20934466019417475, 0.2233782129742962, 0.2209085252022402, 0.2083582089552239, 0.2013142174432497, 0.21646341463414634, 0.19663259170174383, 0.19743276283618583, 0.19964136282127914, 0.18249075215782984, 0.19559902200489, 0.19189511323003575, 0.1965660153937241, 0.20081018518518517, 0.195078031212485, 0.22305764411027568, 0.23299748110831234, 0.182095006090134, 0.2041564792176039, 0.21017156862745098, 0.2055359246171967, 0.2020665901262916, 0.1997563946406821, 0.1987179487179487, 0.1979964643488509, 0.20767888307155322, 0.19356833642547927, 0.20155968806238753, 0.1946230274693162, 0.22016592214422465, 0.1904487917146145, 0.2164316370324954, 0.19130434782608696, 0.20446320868516285, 0.20670037926675094, 0.20485003190810466, 0.1810126582278481, 0.21978021978021978, 0.22305045871559634, 0.18635809987819732, 0.2224188790560472, 0.20744010088272383, 0.22115997450605482, 0.19423076923076923, 0.2039191671769749, 0.21578947368421053, 0.19536231884057972, 0.1994868505452213, 0.1854265402843602, 0.21072088724584104, 0.21506024096385543, 0.19371428571428573, 0.19833729216152018, 0.19115734720416125, 0.2084592145015106, 0.2030211480362538, 0.21842586943258085, 0.21264367816091953, 0.19650391802290537, 0.20800956365809922, 0.19719133996489174, 0.21025043680838673, 0.20381406436233612, 0.21517412935323382, 0.20607122008172796, 0.19107142857142856, 0.18233082706766918, 0.1998792270531401, 0.1954492415402567, 0.1937799043062201, 0.19303604153940135, 0.20219244823386115, 0.22635561160151324, 0.21654929577464788, 0.20272783632982022, 0.1930572472594397, 0.21286831028262176, 0.21693121693121692, 0.2066326530612245, 0.2121982210927573, 0.24514563106796117, 0.21318289786223277, 0.1772885283893395, 0.19025249559600704, 0.20579874928936895, 0.20023837902264602, 0.18111254851228978, 0.20293398533007334, 0.2004621606008088, 0.20543981481481483, 0.19081272084805653, 0.20911854103343466, 0.20833333333333334, 0.18269230769230768, 0.2097170971709717, 0.20775287704421563, 0.18888888888888888, 0.2066066066066066, 0.20840950639853748, 0.21441441441441442, 0.20978196817913966, 0.19838809671419716, 0.2067137809187279, 0.1906158357771261, 0.2031534263189812, 0.2036923076923077, 0.1875, 0.20105509964830012, 0.2151394422310757, 0.21635220125786164, 0.19954128440366972, 0.1997541487400123, 0.2036923076923077, 0.21843434343434343, 0.21364452423698385, 0.22033898305084745, 0.20109024833434283, 0.18087697929354446, 0.21964612568639413, 0.2, 0.206875, 0.18540051679586564, 0.19226118500604594, 0.20408163265306123, 0.1929510155316607, 0.2014971927635683, 0.18127962085308058, 0.1987915407854985, 0.21330401319406267, 0.209373097991479, 0.197376267143709, 0.1897767332549941, 0.2105911330049261, 0.22343655130540377, 0.20221948212083848, 0.18898978433598185, 0.2156286721504113, 0.20059347181008902, 0.19134673979280925, 0.20271066588096642, 0.21154979375368296, 0.21643518518518517, 0.19056372549019607, 0.21958285052143686, 0.20034843205574912, 0.1983323406789756, 0.19810725552050473, 0.21244763614602036, 0.21775147928994082, 0.23173652694610777, 0.2088235294117647, 0.21201413427561838, 0.21720025109855617, 0.22075688073394495, 0.2125237191650854, 0.20060240963855422, 0.21493076459963878, 0.20146968769136558, 0.20189274447949526, 0.2121760096443641, 0.19223771983020013, 0.1967799642218247, 0.208628841607565, 0.21463119709794437, 0.20660146699266504, 0.20697811945594322, 0.2014607425441266, 0.19914996964177292, 0.21140731556106634, 0.21348314606741572, 0.20303951367781156, 0.1894923258559622, 0.22003376477208778, 0.20304568527918782, 0.19913952059004303, 0.18957055214723925, 0.19024088943792464, 0.19496487119437939, 0.2082574377656345, 0.18439716312056736, 0.17565217391304347, 0.2019643953345611, 0.23193916349809887, 0.19838809671419716, 0.21657910099241098, 0.20630372492836677, 0.2265717674970344, 0.2012121212121212, 0.20820385332504662, 0.21389396709323583, 0.1904487917146145, 0.18912386706948642, 0.19737663960024984, 0.18710888610763454, 0.2138291690877397, 0.1937046004842615, 0.2084130019120459, 0.1986863711001642, 0.1930835734870317, 0.19033588685916322, 0.1940126655152562, 0.19267707082833133, 0.20207570207570208, 0.19237536656891496, 0.19336670838548184, 0.17969230769230768, 0.20447284345047922, 0.22094430992736078, 0.21081409477521262, 0.19332161687170474, 0.2045990566037736, 0.2200589970501475, 0.1889269406392694, 0.19186046511627908, 0.20543981481481483, 0.19829164124466137, 0.2148664343786295, 0.19478155339805825, 0.17674418604651163, 0.19237536656891496, 0.22039072039072038, 0.2002503128911139, 0.180857310628303, 0.20212765957446807, 0.19062119366626065, 0.2088724584103512, 0.19426934097421203, 0.17724550898203592, 0.20073891625615764, 0.18458884416331225, 0.21330137807070101, 0.18072289156626506, 0.20823798627002288, 0.20448877805486285, 0.1964720194647202, 0.20278450363196127, 0.21231300345224396, 0.19454329774614473, 0.21212121212121213, 0.20744010088272383, 0.20530209617755857, 0.2249403341288783, 0.21027761370348494, 0.20906344410876132, 0.2089063523248199, 0.20186697782963828, 0.21568627450980393, 0.1952662721893491, 0.2017751479289941, 0.22002398081534771, 0.18303030303030304, 0.19102486355366888, 0.19284876905041032, 0.19604205318491033, 0.1997614788312463, 0.20670731707317072, 0.19165196942974722, 0.20540540540540542, 0.2024151811385854, 0.19675925925925927, 0.187422934648582, 0.19102486355366888, 0.19387755102040816, 0.21185372005044137, 0.20766008378216635, 0.19663259170174383, 0.1933534743202417, 0.20404521118381916, 0.20538326506729082, 0.21437578814627994, 0.2019704433497537, 0.19446153846153846, 0.2237082066869301, 0.21601941747572814, 0.1882005899705015, 0.18457943925233644, 0.2107904642409034, 0.20012353304508956, 0.20949074074074073, 0.20095980803839233, 0.20892018779342722, 0.20125, 0.20487195502810743, 0.22356495468277945, 0.22349570200573066, 0.20552147239263804, 0.18618988902589395, 0.19807923169267708, 0.19770114942528735, 0.1995177817962628, 0.2120845921450151, 0.21189591078066913, 0.197667638483965, 0.20722891566265061, 0.20245040840140024, 0.20515970515970516, 0.19865935405240706, 0.21170610211706103, 0.19899244332493704, 0.20705882352941177, 0.21780986762936222, 0.1936450839328537, 0.19654556283502084, 0.2204433497536946, 0.22153846153846155, 0.20527306967984935, 0.21795629060838748, 0.1899576527525711, 0.19781553398058252, 0.21919431279620852, 0.20410490307867732, 0.2053412462908012, 0.20630372492836677, 0.2049079754601227, 0.19925046845721425, 0.19480519480519481, 0.19580838323353295, 0.19298245614035087, 0.19725864123957093, 0.201555023923445, 0.2052980132450331, 0.17835450027609057, 0.19157530294287364, 0.19656019656019655, 0.19768115942028985, 0.1838371375694016, 0.211864406779661, 0.2238288027761712, 0.19750889679715303, 0.21526980482204364, 0.20299812617114305, 0.19291338582677164, 0.20058997050147492, 0.21346886912325286, 0.20745341614906831, 0.1991774383078731, 0.21085858585858586, 0.20870113493064313, 0.22476780185758513, 0.19012899607403252, 0.20683111954459202, 0.20173913043478262, 0.2066625539790253, 0.2205607476635514, 0.20374707259953162, 0.2098997493734336, 0.20588235294117646, 0.20186335403726707, 0.1774406332453826, 0.2056338028169014, 0.21074626865671642, 0.21109770808202655, 0.1961950059453032, 0.2130005803830528, 0.19036144578313252, 0.20833333333333334, 0.20518867924528303, 0.20626151012891344, 0.20166073546856464, 0.1961514587212911, 0.21343638525564804, 0.18282208588957055, 0.2028735632183908, 0.1852540272614622, 0.19951485748938752, 0.20979827089337175, 0.21551724137931033, 0.21286831028262176, 0.2093425605536332, 0.2140221402214022, 0.20122699386503068, 0.1978088861838101, 0.21318289786223277, 0.2129793510324484, 0.20529411764705882, 0.18952760387023335, 0.20511221945137156, 0.20168573148705599, 0.22202486678507993, 0.20509915014164307, 0.19073083778966132, 0.1967606478704259, 0.18402366863905326, 0.1951934349355217, 0.18160919540229886, 0.18940809968847352, 0.19777647747220597, 0.19940652818991098, 0.20712166172106825, 0.20158827122785583, 0.19681177191906807, 0.19790382244143034, 0.19833795013850417, 0.22157092614302462, 0.22442839951865223, 0.20048309178743962, 0.22310513447432762, 0.20733944954128442, 0.20721236405266172, 0.19575757575757577, 0.19199057714958775, 0.2168168168168168, 0.22294117647058823, 0.18828715365239296, 0.19658119658119658, 0.20847651775486828, 0.19194865810968495, 0.19112627986348124, 0.20294117647058824, 0.21104294478527608, 0.1845201238390093, 0.22125543816034804, 0.2282541640962369, 0.19421747328724073, 0.1766522544780729, 0.18704600484261502, 0.20751231527093597, 0.18734491315136476, 0.1954756380510441, 0.18733681462140991, 0.20430107526881722, 0.199023199023199, 0.1992619926199262, 0.19909208819714655, 0.1997690531177829, 0.20987654320987653, 0.19726197884256377, 0.19766009852216748, 0.20652173913043478, 0.19476744186046513, 0.22372284204345272, 0.19082672706681766, 0.2197471402769416, 0.20614828209764918, 0.20572764465225016, 0.21067738231917335, 0.18340348767288034, 0.19825978868862648, 0.2076041038020519, 0.19693396226415094, 0.2030211480362538, 0.21499707088459286, 0.197352587244284, 0.20699708454810495, 0.18593563766388557, 0.1969429747207525, 0.19803126809496235, 0.21395076201641267, 0.1899179366940211, 0.2006861063464837, 0.20904286553141516, 0.1992797118847539, 0.20753551575046325, 0.20783132530120482, 0.22111801242236026, 0.2074564040889958, 0.21375921375921375, 0.19219569015725102, 0.1900874635568513, 0.20486555697823303, 0.2064327485380117, 0.20098948670377242, 0.19358533791523483, 0.1896447922937989, 0.21532846715328466, 0.21722846441947566, 0.2032426172553561, 0.21055825242718446, 0.22735562310030394, 0.20794392523364486, 0.20483961733258302, 0.2026221692491061, 0.1952941176470588, 0.1989117291414752, 0.19759036144578312, 0.21873111782477342, 0.20737039350405997, 0.1986469864698647, 0.19575757575757577, 0.2184769038701623, 0.18882817243472982, 0.20414201183431951, 0.20729588882455124, 0.201338199513382, 0.20672782874617737, 0.20530973451327433, 0.20588235294117646, 0.2135678391959799, 0.19552058111380144, 0.19738480697384808, 0.2075358851674641, 0.2088724584103512, 0.2107121836374338, 0.20194508009153317, 0.2064116985376828, 0.1964720194647202, 0.19953051643192488, 0.19096385542168676, 0.18906064209274673, 0.19987775061124693, 0.19419237749546278, 0.19782214156079855, 0.20841063698206555, 0.21360381861575178, 0.19478260869565217, 0.2028624766645924, 0.20701754385964913, 0.20861127956337175, 0.20428826682549137, 0.20606435643564355, 0.192193968066233, 0.1955503512880562, 0.19818181818181818, 0.21692789968652038, 0.19852034525277434, 0.2023529411764706, 0.2087644552647596, 0.1946955997588909, 0.20597790773229369, 0.199310740953475, 0.21444954128440366, 0.20146520146520147, 0.2014971927635683, 0.19962686567164178, 0.18124207858048164, 0.20105509964830012, 0.205771643663739, 0.219375, 0.18626237623762376, 0.2097560975609756, 0.21450712957222567, 0.20873511060692002, 0.20650887573964496, 0.20512820512820512, 0.19267073847862298, 0.18667432510051696, 0.2088681446907818, 0.1937046004842615, 0.19176470588235295, 0.21011904761904762, 0.20303030303030303, 0.19507908611599298, 0.19738480697384808, 0.18776499091459722, 0.19827586206896552, 0.19406674907292953, 0.19574468085106383, 0.20145903479236812, 0.198856416772554, 0.19516616314199395, 0.19845971563981044, 0.19461827284105132, 0.1980440097799511, 0.20271066588096642, 0.184863523573201, 0.18009478672985782, 0.2012401352874859, 0.19706242350061198, 0.21275327771156138, 0.20887573964497042, 0.21586165772212285, 0.2066167290886392, 0.188504326328801, 0.20537313432835821, 0.20514354066985646, 0.20656479909451048, 0.19188861985472155, 0.19121004566210045, 0.17396668723010486, 0.19754601226993865, 0.22056186491332935, 0.2268546903740037, 0.20209488601355516, 0.20962634578847372, 0.19309068476249228, 0.19732246798603026, 0.2103960396039604, 0.2170263788968825, 0.1975806451612903, 0.19919401266551526, 0.20167564332734889, 0.21595946801773275, 0.20063897763578276, 0.20035252643948295, 0.20024052916416116, 0.20812182741116753, 0.19572748267898382, 0.18527607361963191, 0.20813106796116504, 0.17664493183165383, 0.19364331959976458, 0.20867526377491208, 0.1967005076142132, 0.21419753086419754, 0.18556085918854415, 0.20107398568019094, 0.21046373365041618, 0.1990604815032296, 0.19820828667413215, 0.1969872537659328, 0.20399515738498789, 0.2032426172553561, 0.18764705882352942, 0.2050837666088966, 0.1976672805402087, 0.21915285451197053, 0.20907418761496016, 0.1989467524868344, 0.21238425925925927, 0.2113095238095238, 0.1950087057457922, 0.22264875239923224, 0.19829683698296838, 0.2118591723285979, 0.19926425505824646, 0.19501822600243013, 0.2078853046594982, 0.2117224880382775, 0.20984615384615385, 0.21271239773442416, 0.20815836832633472, 0.2058472553699284, 0.21019509125235997, 0.18652849740932642, 0.20633893919793014, 0.1975, 0.18742514970059881, 0.19536817102137768, 0.18480243161094226, 0.20153061224489796, 0.19595835884874463, 0.20800485142510614, 0.2031055900621118, 0.21424109931292942, 0.19845971563981044, 0.1896059394631639, 0.20863309352517986, 0.17984308992154496, 0.20192887281494876, 0.2041851616994293, 0.19451219512195123, 0.2097560975609756, 0.20701552616446234, 0.19226044226044225, 0.20823529411764705, 0.1890930646117368, 0.20595382746051033, 0.18738845925044617, 0.2026482440990213, 0.19251992642550583, 0.20489844683393071, 0.19612590799031476, 0.21347607052896725, 0.19117647058823528, 0.20125, 0.2, 0.20318021201413428, 0.20319214241866176, 0.1862026862026862, 0.19110854503464203, 0.19762174405436014, 0.21848225214198286, 0.21046511627906977, 0.21158536585365853, 0.1983663943990665, 0.19404761904761905, 0.21657910099241098, 0.20530973451327433, 0.20918984280532044, 0.19151515151515153, 0.2067336089781453, 0.1948900772430184, 0.20249406175771972, 0.21925465838509317, 0.1974169741697417, 0.19800124921923798, 0.1922110552763819, 0.19281991893456862, 0.18863503222026948, 0.2204674668351232, 0.20710415412402167, 0.21355728854229153, 0.20381406436233612, 0.1911957950065703, 0.18030842230130487, 0.21207087486157253, 0.21572212065813529, 0.1827956989247312, 0.19041986989946777, 0.21301411909146717, 0.20502793296089386, 0.19127316198445907, 0.1925925925925926, 0.1919805589307412, 0.20024953212726138, 0.1980440097799511, 0.1986262163709216, 0.18822100789313903, 0.18658892128279883, 0.2009043927648579, 0.19801980198019803, 0.21065675340768278, 0.2115621156211562, 0.20091923834537098, 0.19472738166566805, 0.19673024523160762, 0.2012987012987013, 0.21967410983705493, 0.2, 0.19843184559710494, 0.20417910447761195, 0.19927095990279464, 0.22098765432098766, 0.21148036253776434, 0.2174185463659148, 0.2114784778540237, 0.1961904761904762, 0.22160834868017187, 0.19848661233993015, 0.19977616116396194, 0.19327217125382262, 0.17922374429223745, 0.2038060159607121, 0.22301304863582444, 0.1951364175563464, 0.18753674309229865, 0.2126126126126126, 0.21787709497206703, 0.20165582495564754, 0.18738845925044617, 0.21542857142857144, 0.19951923076923078, 0.20451843043995244, 0.22348711803475135, 0.20457209847596716, 0.20271102895871843, 0.19184652278177458, 0.2057212416311625, 0.1892706449668475, 0.20520581113801453, 0.21904761904761905, 0.2018181818181818, 0.21767889356584486, 0.2323024054982818, 0.18898104265402843, 0.22269938650306748, 0.19571683521713265, 0.20024721878862795, 0.21659278024065864, 0.19372359686179844, 0.207673568818514, 0.2023370233702337, 0.19164619164619165, 0.1990436341900777, 0.17643540669856458, 0.21463714637146372, 0.1867612293144208, 0.19343283582089552, 0.20074349442379183, 0.2072072072072072, 0.20934358367829686, 0.21553281155930162, 0.1984126984126984, 0.18992718446601942, 0.20224019912881144, 0.17947019867549668, 0.22330097087378642, 0.19263803680981595, 0.2019173157579389, 0.21214017521902379, 0.18514412416851442, 0.18231046931407943, 0.19690402476780186, 0.2130952380952381, 0.19540229885057472, 0.20340975896531452, 0.20655534941249226, 0.18727272727272729, 0.18731650029359953, 0.18614210217263652, 0.19230769230769232, 0.1956386292834891, 0.20763723150357996, 0.21071012805587894, 0.1930232558139535, 0.18496058217101274, 0.22786304604486424, 0.19461827284105132, 0.20173913043478262, 0.20782959124928038, 0.20146520146520147, 0.20137299771167047, 0.19725864123957093, 0.19616076784643072, 0.20738636363636365, 0.19411057692307693, 0.20772946859903382, 0.22398052343274497, 0.18772563176895307, 0.18347509113001215, 0.20265379975874548, 0.2165525824517735, 0.18166189111747852, 0.19708029197080293, 0.19111381618989653, 0.2060931899641577, 0.18982275586049172, 0.2020631067961165, 0.20610211706102116, 0.21058893515764426, 0.19977553310886645, 0.2040025823111685, 0.21306650971159505, 0.1975780752071383, 0.2001205545509343, 0.20123076923076924, 0.20930232558139536, 0.18358395989974938, 0.19835234474017743, 0.17306556408741877, 0.1952264381884945, 0.18269230769230768, 0.19437652811735942, 0.21445929526123936, 0.21394230769230768, 0.20106445890005914, 0.2058080808080808, 0.21262656343061345, 0.2154903185509057, 0.20394736842105263, 0.21876904326630103, 0.19032663316582915, 0.20616686819830712, 0.2083089526038619, 0.20215956808638272, 0.20838183934807916, 0.2017139090309822, 0.19817767653758542, 0.2003665241295052, 0.21348314606741572, 0.2009540846750149, 0.1958256599140577, 0.20161756210283074, 0.1812831077104179, 0.20888355342136855, 0.2060750446694461, 0.19663259170174383, 0.20139291932675565, 0.2115839243498818, 0.2109090909090909, 0.21200750469043153, 0.19631171921475313, 0.20423412204234123, 0.1944954128440367, 0.23172905525846701]\n"
     ]
    }
   ],
   "source": [
    "####### INPUTS ############\n",
    "#Get lengths of all genes\n",
    "zoeyFullLengthGeneBed = finalDir + 'Zoey_FinalGenes.12.bed'\n",
    "lengthDict = get_all_gene_lengths(zoeyFullLengthGeneBed)\n",
    "#Get max exon counts possible for all genes\n",
    "zoeyExonBed = finalDir + 'Zoey_FinalGenes_exons.bed'\n",
    "exonCountDict = get_max_exon_Counts(zoeyExonBed)\n",
    "possibleExons = count_lines(ZoeyGeneBedFile)\n",
    "\n",
    "#GLOBAL FOR 1000 PERMS - number of exons in each possible position\n",
    "perm_exon1,perm_exon2,perm_exon3,perm_n2,perm_n1,perm_n = [],[],[],[],[],[]\n",
    "perm_prop_exon1,perm_prop_exon2,perm_prop_exon3,perm_prop_n2,perm_prop_n1,perm_prop_n = [],[],[],[],[],[]\n",
    "\n",
    "#How many intersect out of possible exons, and how many that pass length criteria intersect\n",
    "perm_total_intersectCounts = []\n",
    "perm_total_fractionExonIntersecting,perm_passing_fractionExonIntersecting = [], []\n",
    "\n",
    "#Keep track of exon position lengths\n",
    "perm_singleExon = [] # what prop of perms are single exon genes\n",
    "perm_mean_E1_length, perm_mean_E2_length, perm_mean_E3_length, perm_mean_N2_length, perm_mean_N1_length, perm_mean_N_length = [], [], [], [], [], []\n",
    "perm_geneLengths, perm_passing_geneLengths = [], [] #average gene lengths\n",
    "\n",
    "for i in range(0,1000): #1000 permutations\n",
    "    permLengthDict = make_empty_permLengthDict() #keep track of the lengths of the exons based on positions (E1-->N)\n",
    "    \n",
    "    # SHUFFLE THE GAP INSERTION POSITIONS\n",
    "    shuffledFile = permDir + 'shuffle_%i.bed' % i\n",
    "    cmd = 'bedtools shuffle -excl %s -i %s -g %s > %s' % (ZoeyGapBedFile, novel_gapBedFile, ZoeyGenome, shuffledFile)\n",
    "    #runCMD(cmd)\n",
    "    \n",
    "    \n",
    "    # INTERSECT THE SHUFFLES WITH ZOEY EXONS\n",
    "    outfile = permDir + 'intersect_zoeygenes_withgaps_%i.txt' % (i)\n",
    "    #do_intersects(shuffledFile,ZoeyGeneBedFile,outfile)\n",
    "    perm_total_intersectCounts.append(count_lines(outfile))\n",
    "    \n",
    "    # PARSE INTERSECT FILE\n",
    "    E1,E2,E3,MIDDLE,N2,N1,N,totalIntersects,passing,permLengthDict = parse_intersect_file(outfile,permLengthDict)\n",
    "    #print(E1,E2,E3,MIDDLE,N2,N1,N,passing)\n",
    "\n",
    "    perm_total_fractionExonIntersecting.append(totalIntersects/float(possibleExons))\n",
    "    perm_passing_fractionExonIntersecting.append(passing/float(possibleExons))\n",
    "    \n",
    "    # ADD TO GLOBAL TALLY OF COUNTS AND FRACTION OF COUNTS\n",
    "    #counts\n",
    "    perm_exon1.append(E1), perm_exon2.append(E2), perm_exon3.append(E3), perm_n2.append(N2), perm_n1.append(N1), perm_n.append(N)\n",
    "    #proportion of passing intersects\n",
    "    perm_prop_exon1.append(E1/float(passing)), perm_prop_exon2.append(E2/float(passing)), perm_prop_exon3.append(E3/float(passing)), perm_prop_n2.append(N2/float(passing)), perm_prop_n1.append(N1/float(passing)), perm_prop_n.append(N/float(passing))\n",
    "\n",
    "    \n",
    "    # KEEP TRACK OF GENE/EXON LENGTHS\n",
    "    geneLengths, passingGeneLengths, singleExonCounts = get_gene_lengths_from_intersect_file(outfile)\n",
    "    perm_singleExon.append(singleExonCounts/float(totalIntersects))\n",
    "    perm_geneLengths.append(np.mean(geneLengths)) # regardless of exon number minimum\n",
    "    perm_passing_geneLengths.append(np.mean(passingGeneLengths)) # >3 exons\n",
    "    \n",
    "    #Add to lists for the average exon position lengths per permutation\n",
    "    perm_mean_E1_length.append(np.mean(permLengthDict['E1']))\n",
    "    perm_mean_E2_length.append(np.mean(permLengthDict['E2']))\n",
    "    perm_mean_E3_length.append(np.mean(permLengthDict['E3']))\n",
    "    perm_mean_N2_length.append(np.mean(permLengthDict['N2']))\n",
    "    perm_mean_N1_length.append(np.mean(permLengthDict['N1']))\n",
    "    perm_mean_N_length.append(np.mean(permLengthDict['N']))\n",
    "    \n",
    "    if i % 50 == 0:\n",
    "        print(i)\n",
    "    \n",
    "print('Real single exon: ', real_singleExon)\n",
    "print('Permuted average single exon: ', perm_singleExon)\n"
   ]
  },
  {
   "cell_type": "markdown",
   "metadata": {},
   "source": [
    "### Plotting the average length (N=1000) of exons in each position for genes with >3 exons that intersect with the novel gap insertions"
   ]
  },
  {
   "cell_type": "code",
   "execution_count": 46,
   "metadata": {},
   "outputs": [
    {
     "data": {
      "image/png": "[encoded data removed]",
      "text/plain": [
       "<Figure size 432x288 with 6 Axes>"
      ]
     },
     "metadata": {},
     "output_type": "display_data"
    }
   ],
   "source": [
    "f, axarr = plt.subplots(2, 3)\n",
    "st = f.suptitle('Exon length averages by position\\n(N=1000 permutations)', fontsize=\"x-large\")\n",
    "\n",
    "#Exon 1 Lengths\n",
    "axarr[0, 0].hist(perm_mean_E1_length,bins=100,color='darkgrey')\n",
    "axarr[0, 0].set_title('Exon 1')\n",
    "axarr[0, 0].vlines(np.mean(perm_mean_E1_length),0,10,color='red')\n",
    "#Exon 2 Lengths\n",
    "axarr[0, 1].hist(perm_mean_E2_length,bins=100,color='darkgrey')\n",
    "axarr[0, 1].set_title('Exon 2')\n",
    "axarr[0, 1].vlines(np.mean(perm_mean_E2_length),0,10,color='red')\n",
    "#Exon 3 Lengths\n",
    "axarr[0, 2].hist(perm_mean_E3_length,bins=100,color='darkgrey')\n",
    "axarr[0, 2].set_title('Exon 3')\n",
    "axarr[0, 2].vlines(np.mean(perm_mean_E3_length),0,10,color='red')\n",
    "#Exon N-2 Lengths\n",
    "axarr[1, 0].hist(perm_mean_N2_length,bins=100,color='darkgrey')\n",
    "axarr[1, 0].set_title('Exon N-2')\n",
    "axarr[1, 0].vlines(np.mean(perm_mean_N2_length),0,10,color='red')\n",
    "#Exon N-1 Lengths\n",
    "axarr[1, 1].hist(perm_mean_N1_length,bins=100,color='darkgrey')\n",
    "axarr[1, 1].set_title('Exon N-1')\n",
    "axarr[1, 1].vlines(np.mean(perm_mean_N1_length),0,10,color='red')\n",
    "#Exon N Lengths\n",
    "axarr[1, 2].hist(perm_mean_N_length,bins=100,color='darkgrey')\n",
    "axarr[1, 2].set_title('Exon N')\n",
    "axarr[1, 2].vlines(np.mean(perm_mean_N_length),0,10,color='red')\n",
    "\n",
    "st.set_y(1.15)\n",
    "f.subplots_adjust(top=0.75)\n",
    "\n",
    "plt.tight_layout()\n",
    "plt.show()\n",
    "    "
   ]
  },
  {
   "cell_type": "markdown",
   "metadata": {},
   "source": [
    "# Bias toward exon positions in permutations "
   ]
  },
  {
   "cell_type": "code",
   "execution_count": 47,
   "metadata": {},
   "outputs": [
    {
     "name": "stdout",
     "output_type": "stream",
     "text": [
      "exon 1, exon 2, exon 3, n-2, n-1, n\n",
      "105.022 87.207 85.325 66.212 76.465 258.351\n"
     ]
    },
    {
     "data": {
      "image/png": "[encoded data removed]",
      "text/plain": [
       "<Figure size 576x432 with 1 Axes>"
      ]
     },
     "metadata": {},
     "output_type": "display_data"
    }
   ],
   "source": [
    "mean_perm_e1 = int(np.mean(perm_exon1))\n",
    "mean_perm_e2 = int(np.mean(perm_exon2))\n",
    "mean_perm_e3 = int(np.mean(perm_exon3)) \n",
    "mean_perm_n2 = int(np.mean(perm_n2))\n",
    "mean_perm_n1 = int(np.mean(perm_n1))\n",
    "mean_perm_n = int(np.mean(perm_n))\n",
    "\n",
    "print('exon 1, exon 2, exon 3, n-2, n-1, n')\n",
    "print(np.mean(perm_exon1),np.mean(perm_exon2),np.mean(perm_exon3),np.mean(perm_n2),np.mean(perm_n1),np.mean(perm_n))\n",
    "\n",
    "xs = ['Exon 1','Exon 2','Exon 3','Exon N-2','Exon N-1','Exon N']\n",
    "#ys = [int(np.mean(perm_exon1)),int(np.mean(perm_exon2)),int(np.mean(perm_exon3)),int(np.mean(perm_n2)),int(np.mean(perm_n1)),int(np.mean(n))]\n",
    "ys = [mean_perm_e1, mean_perm_e2, mean_perm_e3, mean_perm_n2, mean_perm_n1, mean_perm_n]\n",
    "pos = [0,1,2,3,4,5]\n",
    "#labels = xs\n",
    "\n",
    "#fig, ax = plt.subplots()\n",
    "plt.figure(figsize=(8, 6))  # width:20, height:3\n",
    "\n",
    "names, ticks = [], []\n",
    "for p in range(0,len(pos)):\n",
    "    l = xs[p]\n",
    "    _ = plt.bar(p,int(ys[p]),width = 0.7,align='center',color='darkgrey',label=l)\n",
    "    names.append(xs[p])\n",
    "    ticks.append(p)\n",
    "\n",
    "_ =plt.xticks(ticks,names,fontsize=10)\n",
    "#_ = plt.title('Exon Count for gene models intersecting novel ROI',fontweight='bold')\n",
    "_ = plt.xlabel('Exon Position',fontweight='bold')\n",
    "_ = plt.ylabel('Count',fontweight='bold')\n",
    "plt.tight_layout()\n",
    "plt.title('Average counts per exon position\\n(N=1000 Permutations)',fontweight='bold')\n",
    "#plt.savefig(permDir + 'plots/Permutations_exonposition.pdf')\n",
    "plt.show()"
   ]
  },
  {
   "cell_type": "markdown",
   "metadata": {},
   "source": [
    "## Plotted as proportion"
   ]
  },
  {
   "cell_type": "code",
   "execution_count": 58,
   "metadata": {},
   "outputs": [
    {
     "name": "stdout",
     "output_type": "stream",
     "text": [
      "exon 1, exon 2, exon 3, n-2, n-1, n\n",
      "0.0873502348354 0.0725281762726 0.0709633265063 0.0550591357845 0.0635857561281 0.214938205927\n"
     ]
    },
    {
     "data": {
      "image/png": "[encoded data removed]",
      "text/plain": [
       "<Figure size 576x432 with 1 Axes>"
      ]
     },
     "metadata": {},
     "output_type": "display_data"
    }
   ],
   "source": [
    "mean_perm_prop_e1 = float(np.mean(perm_prop_exon1))\n",
    "mean_perm_prop_e2 = float(np.mean(perm_prop_exon2))\n",
    "mean_perm_prop_e3 = float(np.mean(perm_prop_exon3)) \n",
    "mean_perm_prop_n2 = float(np.mean(perm_prop_n2))\n",
    "mean_perm_prop_n1 = float(np.mean(perm_prop_n1))\n",
    "mean_perm_prop_n = float(np.mean(perm_prop_n))\n",
    "\n",
    "print('exon 1, exon 2, exon 3, n-2, n-1, n')\n",
    "print(np.mean(perm_prop_exon1),np.mean(perm_prop_exon2),np.mean(perm_prop_exon3),np.mean(perm_prop_n2),np.mean(perm_prop_n1),np.mean(perm_prop_n))\n",
    "\n",
    "xs = ['Exon 1','Exon 2','Exon 3','Exon N-2','Exon N-1','Exon N']\n",
    "#ys = [int(np.mean(perm_exon1)),int(np.mean(perm_exon2)),int(np.mean(perm_exon3)),int(np.mean(perm_n2)),int(np.mean(perm_n1)),int(np.mean(n))]\n",
    "ys = [mean_perm_prop_e1, mean_perm_prop_e2, mean_perm_prop_e3, mean_perm_prop_n2, mean_perm_prop_n1, mean_perm_prop_n]\n",
    "pos = [0,1,2,3,4,5]\n",
    "#labels = xs\n",
    "\n",
    "#fig, ax = plt.subplots()\n",
    "plt.figure(figsize=(8, 6))  # width:20, height:3\n",
    "\n",
    "names, ticks = [], []\n",
    "for p in range(0,len(pos)):\n",
    "    l = xs[p]\n",
    "    _ = plt.bar(p,float(ys[p]),width = 0.7,align='center',color='darkgrey',label=l)\n",
    "    names.append(xs[p])\n",
    "    ticks.append(p)\n",
    "\n",
    "#Add REAL points for context\n",
    "plt.plot(0, real_prop_exon1, marker='o', markersize=4, color=\"black\")\n",
    "plt.plot(1, real_prop_exon2, marker='o', markersize=4, color=\"black\")\n",
    "plt.plot(2, real_prop_exon3, marker='o', markersize=4, color=\"black\")\n",
    "plt.plot(3, real_prop_n2, marker='o', markersize=4, color=\"black\")\n",
    "plt.plot(4, real_prop_n1, marker='o', markersize=4, color=\"black\")\n",
    "plt.plot(5, real_prop_n, marker='o', markersize=4, color=\"black\")\n",
    "\n",
    "\n",
    "_ =plt.xticks(ticks,names,fontsize=10)\n",
    "#_ = plt.title('Exon Count for gene models intersecting novel ROI',fontweight='bold')\n",
    "_ = plt.xlabel('Exon Position',fontweight='bold')\n",
    "_ = plt.ylabel('Proportion',fontweight='bold')\n",
    "plt.tight_layout()\n",
    "plt.title('Average proportion of all intersects per exon position\\n(N=1000 Permutations)',fontweight='bold')\n",
    "#plt.savefig(permDir + 'plots/Permutations_exonposition.pdf')\n",
    "plt.show()"
   ]
  },
  {
   "cell_type": "markdown",
   "metadata": {},
   "source": [
    "## Histogram of the proportion of exons intersecting a gap regardless of max exon count"
   ]
  },
  {
   "cell_type": "code",
   "execution_count": 91,
   "metadata": {},
   "outputs": [
    {
     "name": "stdout",
     "output_type": "stream",
     "text": [
      "P-value =  0.0\n"
     ]
    },
    {
     "data": {
      "image/png": "[encoded data removed]",
      "text/plain": [
       "<Figure size 432x288 with 1 Axes>"
      ]
     },
     "metadata": {},
     "output_type": "display_data"
    }
   ],
   "source": [
    "higher = 0\n",
    "for r in perm_total_fractionExonIntersecting:\n",
    "    if r >= real_total_fractionExonIntersecting:\n",
    "        higher+=1\n",
    "print('P-value = ', higher/1000)\n",
    "\n",
    "plt.hist(perm_total_fractionExonIntersecting,bins=50,color='darkgrey')\n",
    "plt.xlim(real_total_fractionExonIntersecting - 0.02,real_total_fractionExonIntersecting+0.002)\n",
    "plt.vlines(real_total_fractionExonIntersecting,0,10,color='red')\n",
    "plt.title('Fraction of all Zoey exons that intersect with a gap\\n(from 1000 permutations)',fontweight='bold')\n",
    "plt.ylabel('Count')\n",
    "plt.xlabel('Fraction of Total Exons')\n",
    "plt.tight_layout()\n",
    "plt.show()\n"
   ]
  },
  {
   "cell_type": "markdown",
   "metadata": {},
   "source": [
    "### Fraction of intersecting exons that ARE AT LEAST 4 EXONS LONG"
   ]
  },
  {
   "cell_type": "code",
   "execution_count": 90,
   "metadata": {},
   "outputs": [
    {
     "name": "stdout",
     "output_type": "stream",
     "text": [
      "P-value =  0.0\n"
     ]
    },
    {
     "data": {
      "image/png": "[encoded data removed]",
      "text/plain": [
       "<Figure size 432x288 with 1 Axes>"
      ]
     },
     "metadata": {},
     "output_type": "display_data"
    }
   ],
   "source": [
    "higher = 0\n",
    "for r in perm_passing_fractionExonIntersecting:\n",
    "    if r >= real_passing_fractionExonIntersecting:\n",
    "        higher+=1\n",
    "print('P-value = ', higher/1000)\n",
    "\n",
    "plt.hist(perm_passing_fractionExonIntersecting,bins=50,color='darkgrey')\n",
    "plt.xlim(0.003,0.018)\n",
    "plt.vlines(real_passing_fractionExonIntersecting,0,10,color='red')\n",
    "plt.title('Fraction of all Zoey exons that intersect with a gap\\nand are >3 exons\\n(from 1000 permutations)',fontweight='bold')\n",
    "plt.ylabel('Count')\n",
    "plt.xlabel('Fraction of Total Exons')\n",
    "plt.tight_layout()\n",
    "plt.show()\n"
   ]
  },
  {
   "cell_type": "markdown",
   "metadata": {},
   "source": [
    "## Histogram of the length of genes intersecting gap (genes can only be counted once even if they intersect with multiple gaps)"
   ]
  },
  {
   "cell_type": "code",
   "execution_count": 81,
   "metadata": {},
   "outputs": [
    {
     "name": "stdout",
     "output_type": "stream",
     "text": [
      "P-value =  0.0\n"
     ]
    },
    {
     "data": {
      "image/png": "[encoded data removed]",
      "text/plain": [
       "<Figure size 432x288 with 1 Axes>"
      ]
     },
     "metadata": {},
     "output_type": "display_data"
    }
   ],
   "source": [
    "lower = 0\n",
    "for r in perm_geneLengths:\n",
    "    if r <= real_geneLength:\n",
    "        lower+=1\n",
    "print('P-value = ', lower/1000)\n",
    "\n",
    "plt.hist(perm_geneLengths,bins=50,color='darkred')\n",
    "plt.xlim(real_geneLength - 1000,max(perm_geneLengths)+1000)\n",
    "plt.vlines(real_geneLength,0,10,color='red')\n",
    "plt.title('Average intersecting gene lengths\\n (from 1000 permutations)',fontweight='bold')\n",
    "plt.ylabel('Count')\n",
    "plt.xlabel('Length (bp)')\n",
    "plt.text(real_geneLength-500, 12, 'Obs.', fontsize=12,fontweight='bold')\n",
    "plt.tight_layout()\n",
    "plt.show()\n"
   ]
  },
  {
   "cell_type": "markdown",
   "metadata": {},
   "source": [
    "## Total number of intersects (can count doubles)"
   ]
  },
  {
   "cell_type": "code",
   "execution_count": 88,
   "metadata": {},
   "outputs": [
    {
     "name": "stdout",
     "output_type": "stream",
     "text": [
      "P-value =  0.0\n"
     ]
    },
    {
     "data": {
      "image/png": "[encoded data removed]",
      "text/plain": [
       "<Figure size 432x288 with 1 Axes>"
      ]
     },
     "metadata": {},
     "output_type": "display_data"
    }
   ],
   "source": [
    "higher = 0\n",
    "for r in perm_total_intersectCounts:\n",
    "    if r >= real_total_intersectCount:\n",
    "        higher+=1\n",
    "print('P-value = ', higher/1000)\n",
    "\n",
    "\n",
    "plt.hist(perm_total_intersectCounts,bins=50,color='darkgreen')\n",
    "#plt.xlim(real_fractionIntersecting - 0.02,max(perm_total_fractionExonIntersecting)+0.02)\n",
    "plt.vlines(real_total_intersectCount,0,10,color='red')\n",
    "plt.title('Number of exon-gap intersections\\n (from 1000 permutations)',fontweight='bold')\n",
    "plt.ylabel('Count')\n",
    "plt.xlabel('Intersection Count')\n",
    "plt.text(real_total_intersectCount-200, 12, 'Obs.', fontsize=12,fontweight='bold')\n",
    "plt.tight_layout()\n",
    "plt.show()\n"
   ]
  },
  {
   "cell_type": "markdown",
   "metadata": {},
   "source": [
    "## Total number of single exon intersects "
   ]
  },
  {
   "cell_type": "code",
   "execution_count": 83,
   "metadata": {},
   "outputs": [
    {
     "name": "stdout",
     "output_type": "stream",
     "text": [
      "P-value =  0.0\n"
     ]
    },
    {
     "data": {
      "image/png": "[encoded data removed]",
      "text/plain": [
       "<Figure size 432x288 with 1 Axes>"
      ]
     },
     "metadata": {},
     "output_type": "display_data"
    }
   ],
   "source": [
    "higher = 0\n",
    "for r in perm_singleExon:\n",
    "    if r >= real_singleExon:\n",
    "        higher+=1\n",
    "print('P-value = ', higher/1000)\n",
    "\n",
    "plt.hist(perm_singleExon,bins=50,color='darkorange')\n",
    "#plt.xlim(real_fractionIntersecting - 0.02,max(perm_total_fractionExonIntersecting)+0.02)\n",
    "plt.vlines(real_singleExon,0,10,color='red')\n",
    "plt.title('Number of intersections with single exon genes (N=1000)',fontweight='bold')\n",
    "plt.ylabel('Count')\n",
    "plt.xlabel('Intersection Count')\n",
    "plt.text(real_singleExon-0.005, 12, 'Obs.', fontsize=12,fontweight='bold')\n",
    "plt.tight_layout()\n",
    "plt.show()\n"
   ]
  },
  {
   "cell_type": "code",
   "execution_count": null,
   "metadata": {},
   "outputs": [],
   "source": []
  },
  {
   "cell_type": "code",
   "execution_count": null,
   "metadata": {},
   "outputs": [],
   "source": []
  },
  {
   "cell_type": "code",
   "execution_count": null,
   "metadata": {},
   "outputs": [],
   "source": []
  },
  {
   "cell_type": "code",
   "execution_count": null,
   "metadata": {},
   "outputs": [],
   "source": []
  },
  {
   "cell_type": "code",
   "execution_count": null,
   "metadata": {},
   "outputs": [],
   "source": []
  },
  {
   "cell_type": "code",
   "execution_count": null,
   "metadata": {},
   "outputs": [],
   "source": []
  },
  {
   "cell_type": "code",
   "execution_count": null,
   "metadata": {},
   "outputs": [],
   "source": []
  },
  {
   "cell_type": "code",
   "execution_count": null,
   "metadata": {},
   "outputs": [],
   "source": []
  },
  {
   "cell_type": "code",
   "execution_count": null,
   "metadata": {},
   "outputs": [],
   "source": []
  },
  {
   "cell_type": "code",
   "execution_count": null,
   "metadata": {},
   "outputs": [],
   "source": []
  },
  {
   "cell_type": "code",
   "execution_count": null,
   "metadata": {},
   "outputs": [],
   "source": []
  },
  {
   "cell_type": "code",
   "execution_count": null,
   "metadata": {},
   "outputs": [],
   "source": []
  },
  {
   "cell_type": "markdown",
   "metadata": {},
   "source": [
    "# What about when only one exon from a gene can intersect with a gap"
   ]
  },
  {
   "cell_type": "code",
   "execution_count": null,
   "metadata": {},
   "outputs": [],
   "source": [
    "Dict = {}\n",
    "\n",
    "for line in open(intersectOutfile,'r'):\n",
    "    line = line.rstrip().split('\\t')\n",
    "    \n",
    "    #Determine what the max number of exons for this gene is\n",
    "    geneID = line[7].split('.exon')[0]\n",
    "    exonMax = exonCountDict[geneID]\n",
    "    \n",
    "    if geneID not in Dict.keys():\n",
    "        Dict[geneID] = {}\n",
    "        Dict[geneID]['exonMax'] = exonMax\n",
    "        Dict[geneID]['intersectingnovelregions'] = []\n",
    "        \n",
    "    Dict[geneID]['intersectingnovelregions'].append(line[7])\n",
    "    \n",
    "#######################################################################################\n",
    "\n",
    "intersectingExonNumberDict2 = {}\n",
    "dontQualify = 0\n",
    "\n",
    "for geneID in Dict.keys():\n",
    "    if len(Dict[geneID]['intersectingnovelregions']) > 1:\n",
    "        continue\n",
    "    exonMax = int(Dict[geneID]['exonMax'])\n",
    "    \n",
    "    #Skip single exon genes\n",
    "    if exonMax < 3:\n",
    "        dontQualify+=1\n",
    "        continue\n",
    "    \n",
    "    exonID = Dict[geneID]['intersectingnovelregions']\n",
    "    #Get which exon intersected with the novel region from the bedfile\n",
    "    for e in exonID:\n",
    "        exonNumIntersecting = int(e.split('.exon')[1])\n",
    "    \n",
    "    #Now store positional information for each exon\n",
    "    #If the exon is the first exon, simple, store it in key == 1\n",
    "    if exonNumIntersecting <= 3:\n",
    "        if exonNumIntersecting not in intersectingExonNumberDict2.keys():\n",
    "            intersectingExonNumberDict2[exonNumIntersecting] = []\n",
    "        intersectingExonNumberDict2[exonNumIntersecting].append([exonID,exonMax])\n",
    "        continue\n",
    "    \n",
    "    else:\n",
    "        #Distance from the end\n",
    "        distanceFromLastExon = exonMax - exonNumIntersecting\n",
    "        if distanceFromLastExon == 0:\n",
    "            exonNumIntersecting = 'N'\n",
    "        if distanceFromLastExon == 1:\n",
    "            exonNumIntersecting = 'N-1'  \n",
    "        if distanceFromLastExon == 2:\n",
    "            exonNumIntersecting = 'N-2'\n",
    "        if distanceFromLastExon > 2:\n",
    "            exonNumIntersecting = 'Middle Exon'\n",
    "        if exonNumIntersecting not in intersectingExonNumberDict2.keys():\n",
    "            intersectingExonNumberDict2[exonNumIntersecting] = []\n",
    "        intersectingExonNumberDict2[exonNumIntersecting].append([exonID,exonMax])\n",
    "print('%i gene models that intersect with novel regions dont qualify (less than three exons)' % dontQualify)        \n",
    "  \n",
    "    \n",
    "countArray2 = []\n",
    "for count in intersectingExonNumberDict2.keys():\n",
    "    if 'Middle' not in str(count):\n",
    "        countArray2.append(['Exon ' + str(count),len(intersectingExonNumberDict2[count])])\n",
    "    else:\n",
    "        \n",
    "        countArray2.append([str(count),len(intersectingExonNumberDict2[count])])\n",
    "        \n",
    "print(countArray2)\n",
    "        \n",
    "#######################################################################################\n",
    "\n",
    "#labels, ys = zip(*countArray)\n",
    "#xs = np.arange(len(labels)) \n",
    "\n",
    "xs = ['Exon 1','Exon 2','Exon 3','Middle Exon','Exon N-2','Exon N-1','Exon N']\n",
    "ys = [1931,85,64,97,13,25,139]\n",
    "pos = [0,1,2,3,4,5,6]\n",
    "#labels = xs\n",
    "\n",
    "#fig, ax = plt.subplots()\n",
    "plt.figure(figsize=(8, 6))  # width:20, height:3\n",
    "\n",
    "names, ticks = [], []\n",
    "for p in range(0,len(pos)):\n",
    "    l = xs[p]\n",
    "    _ = plt.bar(p,int(ys[p]),width = 0.7,align='center',color='darkblue',label=l)\n",
    "    names.append(xs[p])\n",
    "    ticks.append(p)\n",
    "\n",
    "_ =plt.xticks(ticks,names,fontsize=10)\n",
    "_ = plt.title('Exon Count for gene models intersecting novel ROI\\nOnly one novel exon',fontweight='bold')\n",
    "_ = plt.ylabel('Count')\n",
    "plt.tight_layout()\n",
    "plt.show()"
   ]
  },
  {
   "cell_type": "code",
   "execution_count": null,
   "metadata": {},
   "outputs": [],
   "source": []
  }
 ],
 "metadata": {
  "kernelspec": {
   "display_name": "Python 3",
   "language": "python",
   "name": "python3"
  },
  "language_info": {
   "codemirror_mode": {
    "name": "ipython",
    "version": 3
   },
   "file_extension": ".py",
   "mimetype": "text/x-python",
   "name": "python",
   "nbconvert_exporter": "python",
   "pygments_lexer": "ipython3",
   "version": "3.5.4"
  }
 },
 "nbformat": 4,
 "nbformat_minor": 2
}
