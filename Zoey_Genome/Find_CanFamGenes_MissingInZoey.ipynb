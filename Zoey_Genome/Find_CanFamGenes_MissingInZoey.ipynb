{
 "cells": [
  {
   "cell_type": "code",
   "execution_count": 1,
   "metadata": {},
   "outputs": [],
   "source": [
    "# 2018-10-2\n",
    "# A. Pendleton\n",
    "# How many Ensembl gene models are missing in our final annotations\n",
    "#    --- 500kb introns"
   ]
  },
  {
   "cell_type": "code",
   "execution_count": 2,
   "metadata": {},
   "outputs": [],
   "source": [
    "#this uses iPython magic to make plots appear inline\n",
    "%matplotlib inline\n",
    "import matplotlib.pyplot as plt\n",
    "import pandas as pd\n",
    "import subprocess\n",
    "import sys\n",
    "import numpy as np\n",
    "import matplotlib.patches as patches\n",
    "import gzip\n",
    "import fileinput\n",
    "import glob\n",
    "from scipy import stats\n",
    "import re\n",
    "from matplotlib_venn import venn3, venn3_circles\n",
    "from collections import OrderedDict\n",
    "import seaborn as sns\n",
    "\n",
    "def count_lines(f):\n",
    "    lineCount = 0\n",
    "    with open(f, 'r') as f:\n",
    "        for line in f:\n",
    "            lineCount += 1\n",
    "        return lineCount\n",
    "def runCMD(cmd):\n",
    "    val = subprocess.Popen(cmd, shell=True).wait()\n",
    "    if val == 0:\n",
    "        pass\n",
    "    else:\n",
    "        print ('command failed')\n",
    "        print (cmd)\n",
    "        sys.exit(1)\n",
    "# TO REMOVE TOP AND RIGHT AXIS OF PLOTS\n",
    "def simpleaxis(ax):\n",
    "    ax.spines['top'].set_visible(False)\n",
    "    ax.spines['right'].set_visible(False)\n",
    "    ax.get_xaxis().tick_bottom()\n",
    "    ax.get_yaxis().tick_left()"
   ]
  },
  {
   "cell_type": "markdown",
   "metadata": {},
   "source": [
    "### Working directory"
   ]
  },
  {
   "cell_type": "code",
   "execution_count": 3,
   "metadata": {},
   "outputs": [],
   "source": [
    "wkDir = '/home/ampend/links/kidd-lab/ampend-projects/Zoey_Genome_Project/rna-seq/Ensembl91Annotations-Canisfamiliaris/BLAT_EnsemblCDNA_ToZoey/'"
   ]
  },
  {
   "cell_type": "markdown",
   "metadata": {},
   "source": [
    "### How many genes are in the Ensembl 91 CanFam3.1 annotation to begin with?"
   ]
  },
  {
   "cell_type": "code",
   "execution_count": 4,
   "metadata": {},
   "outputs": [
    {
     "name": "stdout",
     "output_type": "stream",
     "text": [
      "There are 25157 ensembl genes in the CanFam Release #91\n"
     ]
    }
   ],
   "source": [
    "ensemblFasta = wkDir + '../Canis_familiaris.CanFam3.1.cds.all.fa'\n",
    "geneList = []\n",
    "\n",
    "for line in open(ensemblFasta,'r'):\n",
    "    line=line.rstrip().split()\n",
    "    if '>' in line[0]:\n",
    "        gene = line[0].replace('>','')\n",
    "        geneList.append(gene)\n",
    "    else:\n",
    "        continue\n",
    "print('There are %i ensembl genes in the CanFam Release #91' % len(geneList))"
   ]
  },
  {
   "cell_type": "markdown",
   "metadata": {},
   "source": [
    "## Get CanFam Coordinates for Ensembl 91 CDS "
   ]
  },
  {
   "cell_type": "markdown",
   "metadata": {},
   "source": [
    "### PSL Format:\n",
    "            1. matches - Number of bases that match that aren't repeats\n",
    "            2. misMatches - Number of bases that don't match\n",
    "            3. repMatches - Number of bases that match but are part of repeats\n",
    "            4. nCount - Number of \"N\" bases\n",
    "            5. qNumInsert - Number of inserts in query\n",
    "            6. qBaseInsert - Number of bases inserted in query\n",
    "            7. tNumInsert - Number of inserts in target\n",
    "            8. tBaseInsert - Number of bases inserted in target\n",
    "            9. strand - \"+\" or \"-\" for query strand. For translated alignments, second \"+\"or \"-\" is for genomic strand\n",
    "            10. qName - Query sequence name\n",
    "            11. qSize - Query sequence size.\n",
    "            12. qStart - Alignment start position in query\n",
    "            13. qEnd - Alignment end position in query\n",
    "            14. tName - Target sequence name\n",
    "            15. tSize - Target sequence size\n",
    "            16. tStart - Alignment start position in target\n",
    "            17. tEnd - Alignment end position in target\n",
    "            18. blockCount - Number of blocks in the alignment (a block contains no gaps)\n",
    "            19. blockSizes - Comma-separated list of sizes of each block. If the query is a protein and the target the genome, blockSizes are in amino acids. See below for more information on protein query PSLs.\n",
    "            20. qStarts - Comma-separated list of starting positions of each block in query\n",
    "            21. tStarts - Comma-separated list of starting positions of each block in target\n",
    "            \n",
    "## BED 12-column format\n",
    "            1. chrom\n",
    "            2. start coordinate (-1)\n",
    "            3. end coordinate\n",
    "            4. name - Label to be displayed under the feature, if turned on in \"Configure this page\".\n",
    "            5. score - A score between 0 and 1000. See track lines, below, for ways to configure the display style of scored data.\n",
    "            6. strand - defined as + (forward) or - (reverse).\n",
    "            7. thickStart - coordinate at which to start drawing the feature as a solid rectangle\n",
    "            8. thickEnd - coordinate at which to stop drawing the feature as a solid rectangle\n",
    "            9. itemRgb - an RGB colour value (e.g. 0,0,255). Only used if there is a track line with the value of itemRgb set to \"on\" (case-insensitive).\n",
    "            10. blockCount - the number of sub-elements (e.g. exons) within the feature\n",
    "            11. blockSizes - the size of these sub-elements\n",
    "            12. blockStarts - the start coordinate of each sub-element"
   ]
  },
  {
   "cell_type": "code",
   "execution_count": 5,
   "metadata": {},
   "outputs": [
    {
     "name": "stdout",
     "output_type": "stream",
     "text": [
      "Added 26099 genes to CanFam position dictionary that at least partially hit (>1/3 of length)\n",
      "Done\n"
     ]
    }
   ],
   "source": [
    "#Where the BLAT results located:\n",
    "canFamDir = '/home/ampend/links/kidd-lab/ampend-projects/Zoey_Genome_Project/rna-seq/Ensembl91Annotations-Canisfamiliaris/BLAT_EnsemblCDNA_ToCanFam/'\n",
    "blatDir = canFamDir + 'blat_results/'\n",
    "\n",
    "canFamblatDict = {} #To store all of the results from the BLATs\n",
    "\n",
    "#The gene sequences were split into multiple subsets to make the BLAT faster. \n",
    "#Read each blat output file (*psl) in with a loop\n",
    "for file in glob.glob(blatDir + 'cds*psl'):\n",
    "    for line in open(file,'r'):\n",
    "        line=line.rstrip().split('\\t')\n",
    "        hitLength, orient, chrom, start, end = int(line[0]),line[8],line[13],int(line[14]),int(line[15])\n",
    "\n",
    "        #gene information\n",
    "        geneID, shortgeneID = line[9], line[9]\n",
    "        geneLength = int(line[10])\n",
    "        \n",
    "        #alignment blocks\n",
    "        blockLengths = line[-3].split(',')\n",
    "        blocks = len(blockLengths)\n",
    "        blockSumLength = 0\n",
    "        for b in range(0,len(blockLengths)-1):\n",
    "            blockSumLength = blockSumLength + int(blockLengths[b])\n",
    "   \n",
    "        #Calculate the proportion of the hit as the sum of the blocks that align\n",
    "        propHit = float(blockSumLength)/geneLength\n",
    "        #What type of hit is it? Full/Partial/No hit\n",
    "        if propHit >= 0.9:\n",
    "            hitType = 'Full'\n",
    "        if propHit >= float(1/3) and propHit < 0.9:\n",
    "            hitType = 'Partial'\n",
    "        #Skip the genes that are not aligning with at least a third of their length\n",
    "        if propHit < float(1/3):\n",
    "            hitType = 'No hit'\n",
    "            continue\n",
    "        \n",
    "        #Add to dictionary if not in there\n",
    "        if shortgeneID not in canFamblatDict.keys():\n",
    "            canFamblatDict[shortgeneID] = ['',propHit,chrom,start,end,geneID,orient,hitType,line]\n",
    "            canFamblatDict[shortgeneID][0] = []\n",
    "            #Save first hit automatically as the best hit\n",
    "            topPropHit = propHit\n",
    "        \n",
    "        #Keep track of all proportion of hits\n",
    "        canFamblatDict[shortgeneID][0].append(propHit)\n",
    "\n",
    "        #Save it all to a dictionary\n",
    "        #Redefine the top hit (topPropHit) as propHit's value since it's now a better alignment\n",
    "        if propHit > topPropHit:\n",
    "            topPropHit = propHit\n",
    "            canFamblatDict[shortgeneID][1] = propHit\n",
    "            canFamblatDict[shortgeneID][2] = chrom\n",
    "            canFamblatDict[shortgeneID][3] = start\n",
    "            canFamblatDict[shortgeneID][4] = end\n",
    "            canFamblatDict[shortgeneID][5] = geneID\n",
    "            canFamblatDict[shortgeneID][6] = orient\n",
    "            canFamblatDict[shortgeneID][7] = hitType\n",
    "            canFamblatDict[shortgeneID][8] = line\n",
    "            #canFamblatDict[shortgeneID][9] = blocks\n",
    "    \n",
    "print('Added %i genes to CanFam position dictionary that at least partially hit (>1/3 of length)' % (len(canFamblatDict.keys())))\n",
    "print('Done')    "
   ]
  },
  {
   "cell_type": "markdown",
   "metadata": {},
   "source": [
    "## Parsing CanFam Ensembl 91 CDS BLAT results to Zoey2.3 assembly"
   ]
  },
  {
   "cell_type": "code",
   "execution_count": 6,
   "metadata": {},
   "outputs": [
    {
     "name": "stdout",
     "output_type": "stream",
     "text": [
      "Added 26039 genes to dictionary that at least partially hit (>1/3 of length)\n",
      "Done\n"
     ]
    }
   ],
   "source": [
    "#Where the BLAT results located:\n",
    "blatDir = wkDir + 'blat_results/'\n",
    "\n",
    "blatDict = {} #To store all of the results from the BLATs\n",
    "noHitsToZoey = [] #Store the no hits to zoey2.3\n",
    "\n",
    "#The gene sequences were split into multiple subsets to make the BLAT faster. \n",
    "#Read each blat output file (*psl) in with a loop\n",
    "for file in glob.glob(blatDir + 'cds*psl'):\n",
    "    for line in open(file,'r'):\n",
    "        line=line.rstrip().split()\n",
    "        hitLength, orient, chrom, start, end = int(line[0]),line[8],line[13],int(line[14]),int(line[15])\n",
    "\n",
    "        #gene information\n",
    "        geneID, shortgeneID = line[9], line[9]\n",
    "        geneLength = int(line[10])\n",
    "        \n",
    "        #alignment blocks\n",
    "        blockLengths = line[-3].split(',')\n",
    "        blockSumLength = 0\n",
    "        for b in range(0,len(blockLengths)-1):\n",
    "            blockSumLength = blockSumLength + int(blockLengths[b])\n",
    "   \n",
    "        #Calculate the proportion of the hit as the sum of the blocks that align\n",
    "        propHit = float(blockSumLength)/geneLength\n",
    "        #What type of hit is it? Full/Partial/No hit\n",
    "        if propHit >= 0.9:\n",
    "            hitType = 'Full'\n",
    "        if propHit >= float(1/3) and propHit < 0.9:\n",
    "            hitType = 'Partial'\n",
    "        #Skip the genes that are not aligning with at least a third of their length\n",
    "        if propHit < float(1/3):\n",
    "            hitType = 'No hit'\n",
    "            continue\n",
    "        \n",
    "        #Add to dictionary if not in there\n",
    "        if shortgeneID not in blatDict.keys():\n",
    "            blatDict[shortgeneID] = ['',propHit,chrom,start,end,geneID,orient,hitType,line]\n",
    "            blatDict[shortgeneID][0] = []\n",
    "            #Save first hit automatically as the best hit\n",
    "            topPropHit = propHit\n",
    "        \n",
    "        #Keep track of all proportion of hits\n",
    "        blatDict[shortgeneID][0].append(propHit)\n",
    "\n",
    "        #Save it all to a dictionary\n",
    "        #Redefine the top hit (topPropHit) as propHit's value since it's now a better alignment\n",
    "        if propHit > topPropHit:\n",
    "            topPropHit = propHit\n",
    "            blatDict[shortgeneID][1] = propHit\n",
    "            blatDict[shortgeneID][2] = chrom\n",
    "            blatDict[shortgeneID][3] = start\n",
    "            blatDict[shortgeneID][4] = end\n",
    "            blatDict[shortgeneID][5] = geneID\n",
    "            blatDict[shortgeneID][6] = orient\n",
    "            blatDict[shortgeneID][7] = hitType\n",
    "            blatDict[shortgeneID][8] = line\n",
    "    \n",
    "    \n",
    "print('Added %i genes to dictionary that at least partially hit (>1/3 of length)' % (len(blatDict.keys())))\n",
    "print('Done')    "
   ]
  },
  {
   "cell_type": "markdown",
   "metadata": {},
   "source": [
    "### Make UCSC track of the canfam ensembl CDNA mapping to zoey2.3"
   ]
  },
  {
   "cell_type": "code",
   "execution_count": 11,
   "metadata": {},
   "outputs": [
    {
     "name": "stdout",
     "output_type": "stream",
     "text": [
      "mkdir -p /home/ampend/links/kidd-lab/ampend-projects/Zoey_Genome_Project/rna-seq/Ensembl91Annotations-Canisfamiliaris/BLAT_EnsemblCDNA_ToZoey/UCSC_Tracks\n",
      "sort -k1,1 -k2,2n /home/ampend/links/kidd-lab/ampend-projects/Zoey_Genome_Project/rna-seq/Ensembl91Annotations-Canisfamiliaris/BLAT_EnsemblCDNA_ToZoey/UCSC_Tracks/EnsemblCDNA_ToZoey.12.bed > /home/ampend/links/kidd-lab/ampend-projects/Zoey_Genome_Project/rna-seq/Ensembl91Annotations-Canisfamiliaris/BLAT_EnsemblCDNA_ToZoey/UCSC_Tracks/EnsemblCDNA_ToZoey.12.sorted.bed\n",
      "bedToBigBed /home/ampend/links/kidd-lab/ampend-projects/Zoey_Genome_Project/rna-seq/Ensembl91Annotations-Canisfamiliaris/BLAT_EnsemblCDNA_ToZoey/UCSC_Tracks/EnsemblCDNA_ToZoey.12.sorted.bed ~/links/kidd-lab/genomes/zoey/assemblies/2.3/ref/zoey.2.3.chrom.sizes /home/ampend/links/kidd-lab/ampend-projects/Zoey_Genome_Project/rna-seq/Ensembl91Annotations-Canisfamiliaris/BLAT_EnsemblCDNA_ToZoey/UCSC_Tracks/EnsemblCDNA_ToZoey.12.sorted.bb\n"
     ]
    }
   ],
   "source": [
    "## Want PSL columns: 14, 15, 16, 10, \"0\", 9, 15, 16, \"COLOR\", 18,19,20\n",
    "cmd = 'mkdir -p %sUCSC_Tracks' % wkDir\n",
    "print(cmd)\n",
    "runCMD(cmd)\n",
    "\n",
    "bedfile = '%sUCSC_Tracks/EnsemblCDNA_ToZoey.12.bed' % wkDir\n",
    "bedFile = open(bedfile, 'w')\n",
    "\n",
    "for gene in blatDict.keys():\n",
    "    line = blatDict[gene][8]\n",
    "\n",
    "    if blatDict[gene][7] == 'Full': ### Partial hits = black\n",
    "        color = '0,0,0'\n",
    "    if blatDict[gene][7] == 'Partial':  ### Partial hits = gray\n",
    "        color = '128,128,128'\n",
    "    if blatDict[gene][7] == 'No hit': ### Cannot place one that does not hit\n",
    "        continue \n",
    "    \n",
    "    #write out\n",
    "    bedFile.write('%s\\t%s\\t%s\\t%s\\t%s\\t%s\\t%s\\t%s\\t%s\\t%s\\t%s\\t%s\\n' % (line[13],line[15],line[16],line[9],'0',line[8],line[15],line[16],color,line[17],line[18],line[19]))\n",
    "    \n",
    "bedFile.close()\n",
    "\n",
    "#Sort the bedfile\n",
    "cmd = 'sort -k1,1 -k2,2n %s > %s' % (bedfile,bedfile.replace('.bed','.sorted.bed'))\n",
    "print(cmd)\n",
    "runCMD(cmd)\n",
    "\n",
    "#Convert to bigbed with bedtools\n",
    "chromFile = '~/links/kidd-lab/genomes/zoey/assemblies/2.3/ref/zoey.2.3.chrom.sizes'\n",
    "cmd = 'bedToBigBed %s %s %s' % (bedfile.replace('.bed','.sorted.bed'),chromFile,bedfile.replace('.bed','.sorted.bb'))\n",
    "print(cmd)\n",
    "runCMD(cmd)\n"
   ]
  },
  {
   "cell_type": "markdown",
   "metadata": {},
   "source": [
    "# Integrate all data into one dictionary"
   ]
  },
  {
   "cell_type": "code",
   "execution_count": 7,
   "metadata": {},
   "outputs": [],
   "source": [
    "\n",
    "geneDict = {}\n",
    "\n",
    "for gene in geneList:\n",
    "    geneDict[gene] = {}\n",
    "\n",
    "    #Get CANFAM CDS -->Zoey BLAT INFORMATION\n",
    "    if gene in blatDict.keys():\n",
    "        geneDict[gene]['FullGeneID'] = blatDict[gene][5]\n",
    "        geneDict[gene]['Zoey_AlignmentStatus'] = blatDict[gene][7]\n",
    "        geneDict[gene]['Zoey_Chrom'] = blatDict[gene][2]\n",
    "        geneDict[gene]['Zoey_Start'] = blatDict[gene][3]\n",
    "        geneDict[gene]['Zoey_End'] = blatDict[gene][4]\n",
    "        geneDict[gene]['Zoey_PropAlign'] = blatDict[gene][1]\n",
    "        geneDict[gene]['Zoey_Strand'] = blatDict[gene][2]\n",
    "    else:\n",
    "        geneDict[gene]['FullGeneID'] = ''\n",
    "        geneDict[gene]['Zoey_AlignmentStatus'] = 'No hit'\n",
    "        geneDict[gene]['Zoey_Chrom'] = ''\n",
    "        geneDict[gene]['Zoey_Start'] = ''\n",
    "        geneDict[gene]['Zoey_End'] = ''\n",
    "        geneDict[gene]['Zoey_PropAlign'] = ''\n",
    "        geneDict[gene]['Zoey_Strand'] = ''   \n",
    "    \n",
    "    #Get CANFAM CDS --> CANFAM BLAT INFORMATION\n",
    "    if gene in canFamblatDict.keys():\n",
    "        geneDict[gene]['CanFam_AlignmentStatus'] = canFamblatDict[gene][7]\n",
    "        geneDict[gene]['CanFam_Chrom'] = canFamblatDict[gene][2]\n",
    "        geneDict[gene]['CanFam_Start'] = canFamblatDict[gene][3]\n",
    "        geneDict[gene]['CanFam_End'] = canFamblatDict[gene][4]\n",
    "        geneDict[gene]['CanFam_PropAlign'] = canFamblatDict[gene][1]\n",
    "        geneDict[gene]['CanFam_Strand'] = canFamblatDict[gene][2]\n",
    "    else:\n",
    "        geneDict[gene]['CanFam_AlignmentStatus'] = 'No hit'\n",
    "        geneDict[gene]['CanFam_Chrom'] = ''\n",
    "        geneDict[gene]['CanFam_Start'] = ''\n",
    "        geneDict[gene]['CanFam_End'] = ''\n",
    "        geneDict[gene]['CanFam_PropAlign'] = ''\n",
    "        geneDict[gene]['CanFam_Strand'] = ''  "
   ]
  },
  {
   "cell_type": "code",
   "execution_count": 8,
   "metadata": {},
   "outputs": [],
   "source": [
    "\"\"\"dataOrder = ['FullGeneID','Zoey_Chrom','Zoey_Start','Zoey_End','Zoey_Strand','GeneLength',\n",
    "            'CanFam_AlignmentStatus','CanFam_Chrom','CanFam_Start','CanFam_End','CanFam_Strand','CanFam_PropAlign',\n",
    "            'B2GO_Status','B2GO_GeneSymbol','B2GO_TopHitDesc','B2GO_HitCount','B2GO_HitEvalue','B2GO_MeanHitSimilarity',\n",
    "            'B2GO_GOs','B2GO_GOsDesc','B2GO_EnzymeCode','B2GO_EnzymeCodeDesc',\n",
    "            'Interpro_Domains','Interpro_GOs','Interpro_GOsDesc',\n",
    "            'Kalisto_ExpressionStatus','Kalisto_LibrariesExpression']\"\"\"\n",
    "dataOrder = ['FullGeneID','Zoey_AlignmentStatus','Zoey_Chrom','Zoey_Start','Zoey_End','Zoey_Strand',\n",
    "            'CanFam_AlignmentStatus','CanFam_Chrom','CanFam_Start','CanFam_End','CanFam_Strand','CanFam_PropAlign']\n",
    "\n",
    "\n",
    "#OUTFILE:\n",
    "geneOutfile = open(wkDir + 'EnsemblGenes_HitToZoey2.3.txt','w')\n",
    "\n",
    "#What are the headers for each column? Use array above\n",
    "headerLine = []\n",
    "headerLine.append('ShortGeneID')\n",
    "for dataColumn in dataOrder:\n",
    "    headerLine.append(dataColumn)\n",
    "geneOutfile.write('\\t'.join(headerLine) + '\\n')\n",
    "    \n",
    "for gene in geneDict.keys():\n",
    "    data = []\n",
    "    data.append(gene)\n",
    "    for dataColumn in dataOrder:\n",
    "        data.append(str(geneDict[gene][dataColumn]))\n",
    "    geneOutfile.write('\\t'.join(data) + '\\n')\n",
    "    \n",
    "geneOutfile.close()"
   ]
  },
  {
   "cell_type": "markdown",
   "metadata": {},
   "source": [
    "# Pie chart of hits/missingness"
   ]
  },
  {
   "cell_type": "code",
   "execution_count": 9,
   "metadata": {},
   "outputs": [
    {
     "name": "stdout",
     "output_type": "stream",
     "text": [
      "count sum = (NoHit, Partials, Hits) (68, 215, 24874)\n"
     ]
    },
    {
     "data": {
      "image/png": "[encoded data removed]",
      "text/plain": [
       "<Figure size 432x288 with 1 Axes>"
      ]
     },
     "metadata": {},
     "output_type": "display_data"
    }
   ],
   "source": [
    "# BLAT TO CANFAM\n",
    "NoHit, Partials, Hits = 0,0,0\n",
    "for gene in geneDict.keys():    \n",
    "    if geneDict[gene]['Zoey_AlignmentStatus'] == 'No hit':\n",
    "        NoHit += 1\n",
    "        continue\n",
    "    if geneDict[gene]['Zoey_AlignmentStatus'] == 'Partial':\n",
    "        Partials += 1\n",
    "        continue\n",
    "    if geneDict[gene]['Zoey_AlignmentStatus'] == 'Full':\n",
    "        Hits += 1\n",
    "        continue\n",
    "\n",
    "    else:\n",
    "        print('ERROR: What else is there?')\n",
    "        print(gene,geneDict[gene])\n",
    "print('count sum = (NoHit, Partials, Hits)', (NoHit, Partials, Hits))\n",
    "\n",
    "#Make pie chart\n",
    "labels = 'No CanFam Hit', 'Partial', 'Hit'\n",
    "sizes = [NoHit, Partials, Hits]\n",
    "colors = ['gold', 'lightcoral', 'lightskyblue']\n",
    "explode = (0, 0, 0.4)  # explode 1st slice\n",
    "# Plot\n",
    "plt.pie(sizes, explode=explode, labels=labels, colors=colors,\n",
    "        autopct='%1.1f%%', shadow=True, startangle=320)\n",
    "plt.title('Alignment status of All De Novo Genes', fontweight='bold') \n",
    "plt.axis('equal')\n",
    "plt.show()"
   ]
  },
  {
   "cell_type": "markdown",
   "metadata": {},
   "source": [
    "## What genes are missing?"
   ]
  },
  {
   "cell_type": "code",
   "execution_count": 10,
   "metadata": {},
   "outputs": [
    {
     "name": "stdout",
     "output_type": "stream",
     "text": [
      "ENSCAFT00000037367.2\tchrUn:83971564-71295284\n",
      "\n",
      "ENSCAFT00000023044.3\tchrUn:83971564-71294268\n",
      "\n",
      "ENSCAFT00000037896.2\tchrUn:83971564-23042744\n",
      "\n",
      "ENSCAFT00000009695.2\tchr21:50858623-26733314\n",
      "\n",
      "ENSCAFT00000049067.1\tchr21:50858623-44542118\n",
      "\n",
      "ENSCAFT00000043311.1\tchr7:80974532-80967386\n",
      "\n",
      "ENSCAFT00000047259.1\tchrUn:83971564-4075220\n",
      "\n",
      "ENSCAFT00000046784.1\tchrX:123869142-44845510\n",
      "\n",
      "ENSCAFT00000045059.2\tchrUn:83971564-12495146\n",
      "\n",
      "ENSCAFT00000046285.1\tchr3:91889043-11492173\n",
      "\n",
      "ENSCAFT00000044771.1\tchrUn:83971564-18786854\n",
      "\n",
      "ENSCAFT00000048737.1\tchrUn:83971564-66092001\n",
      "\n",
      "ENSCAFT00000025548.3\tchr4:88276631-34817305\n",
      "\n",
      "ENSCAFT00000043634.1\tchrUn:83971564-23677823\n",
      "\n",
      "ENSCAFT00000038338.2\tchrUn:83971564-65458449\n",
      "\n",
      "ENSCAFT00000048789.2\tchr18:55844845-45137691\n",
      "\n",
      "ENSCAFT00000020445.1\tchr38:23914537-21268000\n",
      "\n",
      "ENSCAFT00000020426.3\tchr38:23914537-21270891\n",
      "\n",
      "ENSCAFT00000039621.3\tchrUn:83971564-3420314\n",
      "\n",
      "ENSCAFT00000038678.2\tchr21:50858623-26751557\n",
      "\n",
      "ENSCAFT00000043198.1\tchrX:123869142-72309822\n",
      "\n",
      "ENSCAFT00000044429.1\tchr5:88915250-38618533\n",
      "\n",
      "ENSCAFT00000039632.2\tchrUn:83971564-3424596\n",
      "\n",
      "ENSCAFT00000044608.1\tchrUn:83971564-12495146\n",
      "\n",
      "ENSCAFT00000021499.3\tchr27:45876710-35953660\n",
      "\n",
      "ENSCAFT00000044827.1\tchrUn:83971564-4080782\n",
      "\n",
      "ENSCAFT00000038616.1\tchrUn:83971564-11048726\n",
      "\n",
      "ENSCAFT00000006211.3\tchr2:85426708-18193818\n",
      "\n",
      "ENSCAFT00000048561.1\tchrUn:83971564-22551870\n",
      "\n",
      "ENSCAFT00000044924.1\tchrUn:83971564-22550619\n",
      "\n",
      "ENSCAFT00000000376.3\tchr11:74389097-3388400\n",
      "\n",
      "ENSCAFT00000035531.3\tchr2:85426708-4819150\n",
      "\n",
      "ENSCAFT00000017502.3\tchr34:42124431-11935942\n",
      "\n",
      "ENSCAFT00000048821.2\tchrUn:83971564-3443121\n",
      "\n",
      "ENSCAFT00000006933.3\tchrX:123869142-4755054\n",
      "\n",
      "ENSCAFT00000047190.1\tchr32:38810281-22124570\n",
      "\n",
      "ENSCAFT00000046326.1\tchrUn:83971564-4060366\n",
      "\n",
      "ENSCAFT00000046510.1\tchrUn:83971564-67759678\n",
      "\n",
      "ENSCAFT00000049648.2\tchr2:85426708-4819150\n",
      "\n",
      "ENSCAFT00000036792.2\tchr17:64289059-21567210\n",
      "\n",
      "ENSCAFT00000047905.1\tchr7:80974532-80964806\n",
      "\n",
      "ENSCAFT00000044753.1\tchr38:23914537-21268001\n",
      "\n",
      "ENSCAFT00000038344.2\tchrUn:83971564-65458443\n",
      "\n",
      "ENSCAFT00000039684.2\tchrUn:83971564-66130442\n",
      "\n",
      "ENSCAFT00000045431.1\tchrUn:83971564-71294268\n",
      "\n",
      "ENSCAFT00000045703.1\tchrUn:83971564-3421567\n",
      "\n",
      "ENSCAFT00000045474.1\tchrUn:83971564-19379309\n",
      "\n",
      "ENSCAFT00000044850.1\tchrUn:83971564-14113054\n",
      "\n",
      "ENSCAFT00000039013.2\tchrUn:83971564-4075164\n",
      "\n",
      "ENSCAFT00000045336.1\tchrUn:83971564-19379309\n",
      "\n",
      "ENSCAFT00000035315.2\tchr26:38964690-25571076\n",
      "\n",
      "ENSCAFT00000043650.1\tchr2:85426708-18181214\n",
      "\n",
      "ENSCAFT00000019277.3\tchr35:26524999-26178594\n",
      "\n",
      "ENSCAFT00000037219.2\tchr17:64289059-21676349\n",
      "\n",
      "ENSCAFT00000036352.2\tchrUn:83971564-8175670\n",
      "\n",
      "ENSCAFT00000049841.1\tchrUn:83971564-23679291\n",
      "\n",
      "ENSCAFT00000047022.1\tchr15:64190966-7875598\n",
      "\n",
      "ENSCAFT00000024069.3\tchrX:123869142-77312404\n",
      "\n",
      "ENSCAFT00000044657.1\tchrUn:83971564-4075220\n",
      "\n",
      "ENSCAFT00000023969.3\tchrUn:83971564-3443761\n",
      "\n",
      "ENSCAFT00000038533.2\tchr17:64289059-21545692\n",
      "\n"
     ]
    }
   ],
   "source": [
    "for gene in geneDict.keys():    \n",
    "    if geneDict[gene]['Zoey_AlignmentStatus'] == 'No hit' and geneDict[gene]['CanFam_Chrom'] != '':\n",
    "        print('%s\\t%s:%i-%i\\n'%(str(gene),str(geneDict[gene]['CanFam_Chrom']),int(geneDict[gene]['CanFam_Start']),int(geneDict[gene]['CanFam_End'])))\n",
    "        "
   ]
  },
  {
   "cell_type": "markdown",
   "metadata": {},
   "source": [
    "# What chromosomes are the missing genes found on?"
   ]
  },
  {
   "cell_type": "code",
   "execution_count": 11,
   "metadata": {},
   "outputs": [
    {
     "name": "stdout",
     "output_type": "stream",
     "text": [
      " 7\n",
      "chrUn 31\n",
      "chr21 3\n",
      "chr15 1\n",
      "chr11 1\n",
      "chr4 1\n",
      "chr18 1\n",
      "chr7 2\n",
      "chr27 1\n",
      "chr32 1\n",
      "chrX 4\n",
      "chr26 1\n",
      "chr38 3\n",
      "chr35 1\n",
      "chr17 3\n",
      "chr2 4\n",
      "chr5 1\n",
      "chr3 1\n",
      "chr34 1\n"
     ]
    }
   ],
   "source": [
    "nohit_chroms = []\n",
    "\n",
    "for gene in geneDict.keys():    \n",
    "    if geneDict[gene]['Zoey_AlignmentStatus'] == 'No hit':\n",
    "        nohit_chroms.append(geneDict[gene]['CanFam_Chrom'])\n",
    "\n",
    "for chrom in list(set(nohit_chroms)):\n",
    "    print(chrom,nohit_chroms.count(chrom))"
   ]
  },
  {
   "cell_type": "code",
   "execution_count": null,
   "metadata": {},
   "outputs": [],
   "source": []
  },
  {
   "cell_type": "code",
   "execution_count": 12,
   "metadata": {},
   "outputs": [
    {
     "name": "stdout",
     "output_type": "stream",
     "text": [
      "42911 Zoey final gene models added to dictionary\n"
     ]
    }
   ],
   "source": [
    "#Dictionary of Zoey genes\n",
    "# 100kb\n",
    "#WRONG- finalZoeyCDS = '/home/ampend/links/kidd-lab/ampend-projects/Zoey_Genome_Project/rna-seq/NonRedundant_NoRMIntersect_FilteredGeneSet/TotalSet_NoRMSingleExons_AllMultiExons_cds.fa'\n",
    "# 500kb: \n",
    "finalZoeyCDS = '/home/ampend/links/kidd-lab/ampend-projects/Zoey_Genome_Project/FINAL_GENES/Zoey_FinalGenes.cds.fa'\n",
    "\n",
    "ZOEYgeneDict = {}\n",
    "ZOEYgeneList = []\n",
    "\n",
    "for line in open(finalZoeyCDS,'r'):\n",
    "    if '>' not in line: #only want identifer\n",
    "        continue\n",
    "    line=line.rstrip().replace('>','')\n",
    "    shortID = line.split('::')[1]\n",
    "    ZOEYgeneDict[shortID] = []\n",
    "    ZOEYgeneList.append(shortID)\n",
    "\n",
    "print('%i Zoey final gene models added to dictionary' % len(ZOEYgeneList))\n"
   ]
  },
  {
   "cell_type": "code",
   "execution_count": null,
   "metadata": {},
   "outputs": [],
   "source": []
  },
  {
   "cell_type": "markdown",
   "metadata": {},
   "source": []
  },
  {
   "cell_type": "code",
   "execution_count": null,
   "metadata": {},
   "outputs": [],
   "source": []
  },
  {
   "cell_type": "code",
   "execution_count": null,
   "metadata": {},
   "outputs": [],
   "source": []
  },
  {
   "cell_type": "code",
   "execution_count": null,
   "metadata": {},
   "outputs": [],
   "source": []
  },
  {
   "cell_type": "code",
   "execution_count": null,
   "metadata": {},
   "outputs": [],
   "source": []
  },
  {
   "cell_type": "code",
   "execution_count": null,
   "metadata": {},
   "outputs": [],
   "source": []
  },
  {
   "cell_type": "code",
   "execution_count": null,
   "metadata": {},
   "outputs": [],
   "source": []
  },
  {
   "cell_type": "code",
   "execution_count": null,
   "metadata": {},
   "outputs": [],
   "source": []
  },
  {
   "cell_type": "code",
   "execution_count": null,
   "metadata": {},
   "outputs": [],
   "source": []
  },
  {
   "cell_type": "code",
   "execution_count": null,
   "metadata": {},
   "outputs": [],
   "source": []
  },
  {
   "cell_type": "code",
   "execution_count": null,
   "metadata": {},
   "outputs": [],
   "source": []
  }
 ],
 "metadata": {
  "kernelspec": {
   "display_name": "Python 3",
   "language": "python",
   "name": "python3"
  },
  "language_info": {
   "codemirror_mode": {
    "name": "ipython",
    "version": 3
   },
   "file_extension": ".py",
   "mimetype": "text/x-python",
   "name": "python",
   "nbconvert_exporter": "python",
   "pygments_lexer": "ipython3",
   "version": "3.5.4"
  }
 },
 "nbformat": 4,
 "nbformat_minor": 2
}
