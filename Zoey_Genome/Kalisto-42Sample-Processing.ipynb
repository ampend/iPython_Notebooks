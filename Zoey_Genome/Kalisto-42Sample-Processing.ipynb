{
 "cells": [
  {
   "cell_type": "code",
   "execution_count": 2,
   "metadata": {},
   "outputs": [],
   "source": [
    "# 2018-09-20\n",
    "# A. Pendleton\n",
    "# Processing Kallisto Transcript Assessments\n",
    "#    500kb max intron de novo transcrips"
   ]
  },
  {
   "cell_type": "code",
   "execution_count": 3,
   "metadata": {},
   "outputs": [],
   "source": [
    "#this uses iPython magic to make plots appear inline\n",
    "%matplotlib inline\n",
    "import matplotlib.pyplot as plt\n",
    "import pandas as pd\n",
    "import subprocess\n",
    "import sys\n",
    "import numpy as np\n",
    "import matplotlib.patches as patches\n",
    "import gzip\n",
    "import fileinput\n",
    "import glob\n",
    "from scipy import stats\n",
    "import re\n",
    "from matplotlib_venn import venn3, venn3_circles\n",
    "from collections import OrderedDict\n",
    "\n",
    "\n",
    "def count_lines(f):\n",
    "    lineCount = 0\n",
    "    with open(f, 'r') as f:\n",
    "        for line in f:\n",
    "            lineCount += 1\n",
    "        return lineCount\n",
    "def runCMD(cmd):\n",
    "    val = subprocess.Popen(cmd, shell=True).wait()\n",
    "    if val == 0:\n",
    "        pass\n",
    "    else:\n",
    "        print ('command failed')\n",
    "        print (cmd)\n",
    "        sys.exit(1)\n",
    "# TO REMOVE TOP AND RIGHT AXIS OF PLOTS\n",
    "def simpleaxis(ax):\n",
    "    ax.spines['top'].set_visible(False)\n",
    "    ax.spines['right'].set_visible(False)\n",
    "    ax.get_xaxis().tick_bottom()\n",
    "    ax.get_yaxis().tick_left()"
   ]
  },
  {
   "cell_type": "code",
   "execution_count": 4,
   "metadata": {},
   "outputs": [],
   "source": [
    "def get_sample_info():\n",
    "    #Reading in the RNA-Seq library IDs\n",
    "    sampleInfo = '/home/ampend/links/kidd-lab/ampend-projects/Novel_Sequence_Analysis/rna-seq/SampleInfoTable.txt'\n",
    "    sampleDict, tissueDict, samples = {}, {}, []\n",
    "\n",
    "    for line in open(sampleInfo, 'r'):\n",
    "        if 'Bio' in line: #skips header\n",
    "            continue\n",
    "        line=line.rstrip().split()\n",
    "        ID = line[4]\n",
    "        #Rename some tissues to shorter name\n",
    "        tissue = line[5]\n",
    "        \n",
    "        if 'SmoothMuscle' in tissue:\n",
    "            shortTissue = 'SM'\n",
    "        if 'Unidentified' in tissue:\n",
    "            shortTissue = 'NA'\n",
    "        if 'Blood' in tissue:\n",
    "            shortTissue = 'BL'\n",
    "        if 'Brain' in tissue:\n",
    "            shortTissue = 'BR'\n",
    "        if 'Heart' in tissue:\n",
    "            shortTissue = 'HT'\n",
    "        if 'Ovary' in tissue:\n",
    "            shortTissue = 'OV'\n",
    "        if 'Skin' in tissue:\n",
    "            shortTissue = 'SK'\n",
    "        if 'Kidney' in tissue:\n",
    "            shortTissue = 'KD'\n",
    "        if 'Testis' in tissue:\n",
    "            shortTissue = 'TS'\n",
    "        if 'Liver' in tissue:\n",
    "            shortTissue = 'LV'\n",
    "        if 'Lung' in tissue:\n",
    "            shortTissue = 'LG'\n",
    "        sampleDict[ID] = []\n",
    "        sampleDict[ID].append(tissue)\n",
    "        sampleDict[ID].append(shortTissue)\n",
    "        samples.append(ID)\n",
    "        \n",
    "        if tissue not in tissueDict.keys():\n",
    "            tissueDict[tissue] = []\n",
    "        tissueDict[tissue].append(ID)\n",
    "\n",
    "    print('%i samples added to a sample array from the following tissues:\\n' % len(samples))\n",
    "\n",
    "    genomes = ['zoey-2.3','canFam3.1-noY']\n",
    "\n",
    "    for tissue in tissueDict.keys():\n",
    "        print(tissue)\n",
    "\n",
    "    return sampleDict, tissueDict, genomes\n",
    "\n"
   ]
  },
  {
   "cell_type": "markdown",
   "metadata": {},
   "source": [
    "## Reading in Library/Sample Information"
   ]
  },
  {
   "cell_type": "code",
   "execution_count": 5,
   "metadata": {},
   "outputs": [
    {
     "name": "stdout",
     "output_type": "stream",
     "text": [
      "42 samples added to a sample array from the following tissues:\n",
      "\n",
      "Brain\n",
      "Blood\n",
      "Ovary\n",
      "Lung\n",
      "Skin\n",
      "Liver\n",
      "Kidney\n",
      "Testis\n",
      "Heart\n",
      "Unidentified\n",
      "SmoothMuscle\n"
     ]
    }
   ],
   "source": [
    "#Reading in library information\n",
    "sampleDict, tissueDict, genomes = get_sample_info()\n",
    "\n",
    "samples=[]\n",
    "for key in sampleDict.keys():\n",
    "    samples.append(key)"
   ]
  },
  {
   "cell_type": "markdown",
   "metadata": {},
   "source": [
    "## Reading in Kallisto Results"
   ]
  },
  {
   "cell_type": "code",
   "execution_count": 6,
   "metadata": {},
   "outputs": [],
   "source": [
    "# function to count elements within given range\n",
    "def countInRange(arr, n, x, y):\n",
    "    # initialize result\n",
    "    count = 0 \n",
    "    for i in range(n):\n",
    "        # check if element is in range\n",
    "        if (arr[i] >= x and arr[i] < y):\n",
    "            count += 1\n",
    "    return count\n",
    "def plot_sample_tpms(arr,sampleID,plotFile):\n",
    "    #PLOT\n",
    "    fig = plt.figure(figsize=(12, 8)) #Set up subplots for below distributions\n",
    "    ax = fig.add_subplot(111)\n",
    "    _ = plt.hist(tpms, 1500, facecolor='green', alpha=0.75)\n",
    "    plt.title('Zoey Transcript TPMs - Sample %s' % sample)\n",
    "    plt.xlabel('TPM')\n",
    "    plt.ylabel('Count')\n",
    "    plt.xlim(1,10000)\n",
    "    plt.ylim(0,200)\n",
    "    simpleaxis(ax)\n",
    "    plt.tight_layout()\n",
    "    plt.savefig(plotFile,transparent=True) #save    \n",
    "    \n",
    "    #Print out stats\n",
    "    print('\\n####Sample -- %s' % sample)\n",
    "    print('Minimum TPM = ', min(tpms))\n",
    "    print('Maximum TPM = ', max(tpms))\n",
    "    print('Average TPM = ', np.mean(tpms))\n",
    "    print('Median TPM = ', np.median(tpms))\n",
    "\n",
    "def get_size_ranges(arr):\n",
    "    count = countInRange(tpms, len(tpms), 0, .9999)\n",
    "    print('%i less than 1.0 tpm' % count)\n",
    "    \n",
    "    count = countInRange(tpms, len(tpms), 1, 10)\n",
    "    print('%i between 1-10 tpm' % count)\n",
    "    \n",
    "    count = countInRange(tpms, len(tpms), 10, 50)\n",
    "    print('%i less than 10-50 tpm' % count)\n",
    "    \n",
    "    count = countInRange(tpms, len(tpms), 50, 100)\n",
    "    print('%i between 50-100 tpm' % count)\n",
    "    \n",
    "    count = countInRange(tpms, len(tpms), 100, 150)\n",
    "    print('%i between 100-150 tpm' % count)\n",
    "    \n",
    "    count = countInRange(tpms, len(tpms), 150, 200)\n",
    "    print('%i between 150-200 tpm' % count)\n",
    "    \n",
    "    count = countInRange(tpms, len(tpms), 200, 250)\n",
    "    print('%i between 200-250 tpm' % count)\n",
    "    \n",
    "    count = countInRange(tpms, len(tpms), 250, 300)\n",
    "    print('%i between 250-300 tpm' % count)\n",
    "    \n",
    "    count = countInRange(tpms, len(tpms), 300, 350)\n",
    "    print('%i between 300-350 tpm' % count)\n",
    "    \n",
    "    count = countInRange(tpms, len(tpms), 350, 1000000000)\n",
    "    print('%i over 350 tpm' % count)"
   ]
  },
  {
   "cell_type": "code",
   "execution_count": 7,
   "metadata": {},
   "outputs": [
    {
     "data": {
      "text/plain": [
       "\"##100kb introns\\nkalDir = '/home/ampend/links/kidd-lab/ampend-projects/Zoey_Genome_Project/rna-seq/Kalisto/'\\nresultsDir = kalDir + 'results/'\\n\\nsamplesProcessed = []\\nfor files in glob.glob(resultsDir + 'SRR*'):\\n    samplesProcessed.append(files.replace(resultsDir,''))\\n    \\nprint('%i samples processed through Kallisto' % len(samplesProcessed))\""
      ]
     },
     "execution_count": 7,
     "metadata": {},
     "output_type": "execute_result"
    }
   ],
   "source": [
    "\"\"\"\n",
    "OLD DATA\n",
    "kalDir = '/home/ampend/links/kidd-lab/ampend-projects/Zoey_Genome_Project/rna-seq/Trinity_RNA-Seq_Analysis/trinity_alignments/zoey-2.3/Kalisto/'\n",
    "resultsDir = kalDir + 'results/'\n",
    "\n",
    "samplesProcessed = []\n",
    "for files in glob.glob(resultsDir + 'SRR*'):\n",
    "    samplesProcessed.append(files.replace(resultsDir,''))\n",
    "    \n",
    "print('%i samples processed through Kallisto' % len(samplesProcessed))\n",
    "\"\"\"\n",
    "\n",
    "\"\"\"##100kb introns\n",
    "kalDir = '/home/ampend/links/kidd-lab/ampend-projects/Zoey_Genome_Project/rna-seq/Kalisto/'\n",
    "resultsDir = kalDir + 'results/'\n",
    "\n",
    "samplesProcessed = []\n",
    "for files in glob.glob(resultsDir + 'SRR*'):\n",
    "    samplesProcessed.append(files.replace(resultsDir,''))\n",
    "    \n",
    "print('%i samples processed through Kallisto' % len(samplesProcessed))\"\"\"\n"
   ]
  },
  {
   "cell_type": "code",
   "execution_count": 8,
   "metadata": {},
   "outputs": [
    {
     "name": "stdout",
     "output_type": "stream",
     "text": [
      "42 samples processed through Kallisto\n"
     ]
    }
   ],
   "source": [
    "#500kb introns\n",
    "kalDir = '/home/ampend/links/kidd-lab/ampend-projects/Zoey_Genome_Project/rna-seq/version3_intron500k/Kalisto/'\n",
    "resultsDir = kalDir + 'results/'\n",
    "\n",
    "samplesProcessed = []\n",
    "for files in glob.glob(resultsDir + 'SRR*'):\n",
    "    samplesProcessed.append(files.replace(resultsDir,''))\n",
    "    \n",
    "print('%i samples processed through Kallisto' % len(samplesProcessed))"
   ]
  },
  {
   "cell_type": "code",
   "execution_count": 9,
   "metadata": {
    "scrolled": false
   },
   "outputs": [
    {
     "name": "stdout",
     "output_type": "stream",
     "text": [
      "SRR388764\n",
      "SRR388740\n",
      "SRR388754\n",
      "SRR388755\n",
      "SRR388739\n",
      "SRR388748\n",
      "SRR388763\n",
      "SRR388745\n",
      "SRR388752\n",
      "SRR543733\n",
      "SRR388736\n",
      "SRR388743\n",
      "SRR388738\n",
      "SRR388747\n",
      "SRR388744\n",
      "SRR388761\n",
      "SRR388751\n",
      "SRR388737\n",
      "SRR388734\n",
      "SRR388766\n",
      "SRR388749\n",
      "SRR536884\n",
      "SRR388762\n",
      "SRR388756\n",
      "SRR388757\n",
      "SRR388742\n",
      "SRR388759\n",
      "SRR536882\n",
      "SRR388735\n",
      "SRR388746\n",
      "SRR388741\n",
      "SRR536881\n",
      "SRR543732\n",
      "SRR388765\n",
      "SRR388753\n",
      "SRR543734\n",
      "SRR388758\n",
      "SRR388760\n",
      "SRR536885\n",
      "SRR543735\n",
      "SRR536883\n",
      "SRR388750\n"
     ]
    }
   ],
   "source": [
    "#CALCULATE STATS AND DRAW PLOTS PER SAMPLE\n",
    "sampleCount = 0\n",
    "\n",
    "tpmDict = {}\n",
    "\n",
    "plotDir = resultsDir + '../plots/'\n",
    "cmd = 'mkdir -p %s' % plotDir #Generate the directory in case it already isn't there\n",
    "runCMD(cmd)\n",
    "\n",
    "for sample in samplesProcessed:\n",
    "    tpms = [] #clear per sample\n",
    "    sampleCount += 1\n",
    "    print(sample)\n",
    "    \n",
    "    inFile = resultsDir + sample + '/' + 'abundance.tsv'\n",
    "    for line in open(inFile,'r'):\n",
    "        if 'target_id' in line:\n",
    "            continue\n",
    "        line=line.rstrip().split('\\t')\n",
    "        transcript = line[0]\n",
    "        tpm = float(line[4])\n",
    "        #if only the first sample, create key for the gene\n",
    "        if sampleCount == 1:\n",
    "            #0 = library expression TPMs, Pass/Fail CD-Hit\n",
    "            tpmDict[transcript] = [[],'Fail','','','','']\n",
    "        #If expressed at tpm > 1, add to dictionary\n",
    "        if tpm > 1.0:\n",
    "            tpmDict[transcript][0].append(tpm) #add TPM to total dictionary      \n",
    "        tpms.append(tpm) #add TPM to per saple array for stats (below)\n",
    "    \n",
    "    #Plot the TPM distribution\n",
    "    plotFile = plotDir + sample + '_TPM_Histogram.png'\n",
    "    \n",
    "    ###UNCHECK THESE WHEN DOING FIRST ANALYSIS -- TAKES A WHILE\n",
    "    #plot_sample_tpms(tpms,sample,plotFile)\n",
    "    #get_size_ranges(tpms)\n",
    "    "
   ]
  },
  {
   "cell_type": "markdown",
   "metadata": {},
   "source": [
    "### Identify how many transcripts are NOT expressed in at least one library with TPM >1\n"
   ]
  },
  {
   "cell_type": "code",
   "execution_count": 10,
   "metadata": {},
   "outputs": [
    {
     "name": "stdout",
     "output_type": "stream",
     "text": [
      "2067 (4.548555%) transcripts expressed in ZERO libraries\n",
      "43376 (95.451445%) transcripts expressed in ONE or more library\n",
      "42459 (93.433532%) transcripts expressed in TWO or more libraries\n",
      "41424 (91.155954%) transcripts expressed in THREE or more libraries\n",
      "25098 (55.229628%) transcripts expressed in TEN or more libraries\n",
      "3272 (7.200229%) transcripts expressed in ALL libraries\n"
     ]
    }
   ],
   "source": [
    "count0,count1,count2,count3,count10,countAll = 0,0,0,0,0,0\n",
    "counts = []\n",
    "#outFileDir = '/home/ampend/links/kidd-lab/ampend-projects/Zoey_Genome_Project/rna-seq/Kalisto/results/'\n",
    "outFileDir = '/home/ampend/links/kidd-lab/ampend-projects/Zoey_Genome_Project/rna-seq/version3_intron500k/Kalisto/results/'\n",
    "outfile = outFileDir + 'ExpressedInAtLeastOneSample_KallistoTPMEstimates_TrinityTranscripts.txt'\n",
    "outfile2 = outFileDir + 'ExpressedInAtLeastTWOSample_KallistoTPMEstimates_TrinityTranscripts.txt'\n",
    "outfile2 = outFileDir + 'ExpressedInAtLeastTHREESample_KallistoTPMEstimates_TrinityTranscripts.txt'\n",
    "\n",
    "outFile = open(outfile,'w')\n",
    "outFile2 = open(outfile2,'w')\n",
    "\n",
    "\n",
    "for transcript in tpmDict:\n",
    "    libraryCount = len(tpmDict[transcript][0])\n",
    "    if libraryCount == 0:\n",
    "        count0+=1\n",
    "    if libraryCount >= 1:\n",
    "        count1+=1\n",
    "        outFile.write(transcript + '\\n')\n",
    "    if libraryCount >= 2:\n",
    "        count2+=1\n",
    "        outFile2.write(transcript + '\\n')\n",
    "    if libraryCount >= 3:\n",
    "        count3+=1\n",
    "        outFile2.write(transcript + '\\n')\n",
    "    if libraryCount >= 10:\n",
    "        count10+=1\n",
    "    if libraryCount == 42:\n",
    "        countAll += 1\n",
    "    counts.append(libraryCount)\n",
    "outFile.close()\n",
    "outFile2.close()\n",
    "\n",
    "print('%i (%f%%) transcripts expressed in ZERO libraries' % (count0,100*float(count0)/len(tpmDict.keys())))\n",
    "print('%i (%f%%) transcripts expressed in ONE or more library' % (count1,100*float(count1)/len(tpmDict.keys())))\n",
    "print('%i (%f%%) transcripts expressed in TWO or more libraries' % (count2,100*float(count2)/len(tpmDict.keys())))\n",
    "print('%i (%f%%) transcripts expressed in THREE or more libraries'% (count3,100*float(count3)/len(tpmDict.keys())))\n",
    "print('%i (%f%%) transcripts expressed in TEN or more libraries'% (count10,100*float(count10)/len(tpmDict.keys())))\n",
    "print('%i (%f%%) transcripts expressed in ALL libraries'% (countAll,100*float(countAll)/len(tpmDict.keys())))\n"
   ]
  },
  {
   "cell_type": "code",
   "execution_count": 10,
   "metadata": {},
   "outputs": [
    {
     "data": {
      "image/png": "[encoded data removed]",
      "text/plain": [
       "<Figure size 504x360 with 1 Axes>"
      ]
     },
     "metadata": {},
     "output_type": "display_data"
    }
   ],
   "source": [
    "fig = plt.figure(figsize=(7, 5)) #Set up subplots for below distributions\n",
    "ax = fig.add_subplot(111)\n",
    "_ = plt.hist(counts, 20, facecolor='darkorange', alpha=0.75)\n",
    "plt.title('Zoey de novo Gene Expression \\n (All RNA-Seq Libraries)',fontweight='bold')\n",
    "plt.xlabel(' in Libraries with TPM > 1.0',fontweight='bold')\n",
    "plt.ylabel('Transcript Count',fontweight='bold')\n",
    "plt.xlim(0,42)\n",
    "simpleaxis(ax)\n",
    "plt.tight_layout()\n",
    "#plt.savefig(plotFile,transparent=True) #save"
   ]
  },
  {
   "cell_type": "markdown",
   "metadata": {},
   "source": [
    "## Expression patterns based off of Transdecoder scores and definitions"
   ]
  },
  {
   "cell_type": "code",
   "execution_count": 11,
   "metadata": {},
   "outputs": [
    {
     "name": "stdout",
     "output_type": "stream",
     "text": [
      "45443 gene models added to pepDict\n"
     ]
    }
   ],
   "source": [
    "geneFile = '/home/ampend/links/kidd-lab/ampend-projects/Zoey_Genome_Project/rna-seq/version3_intron500k/transdecoder/results/pasa-lite_ZoeyTrinity.pasa_assembled_alignments.fa.transdecoder.pep'\n",
    "pepDict = {}\n",
    "\n",
    "for line in open(geneFile,'r'):\n",
    "    if '>' not in line: #info is in the seq id > line\n",
    "        continue\n",
    "    line=line.rstrip().split(' ')\n",
    "\n",
    "    gene = line[0].replace('>','')\n",
    "    orfType = line[4].split(':')[1]\n",
    "    length = int(line[5].split(':')[1])\n",
    "    orient = line[6].split(',')[0].replace('(','').replace(')','')\n",
    "    score = float(line[6].split('=')[1])\n",
    "    \n",
    "    if gene in tpmDict.keys():\n",
    "        pepDict[gene] = {}\n",
    "        pepDict[gene]['orfType'] = orfType\n",
    "        pepDict[gene]['length'] = length\n",
    "        pepDict[gene]['orient'] = orient\n",
    "        pepDict[gene]['score'] = score\n",
    "        #pepDict[gene]['expValues'] = tpmDict[gene][0]\n",
    "        pepDict[gene]['libExpCount'] = len(tpmDict[gene][0])\n",
    "        \n",
    "        #Calculate average exp == sum of all TPMs / 42 (42 total libraries)\n",
    "        sumExp = 0\n",
    "        for i in range(0,len(tpmDict[gene][0])):\n",
    "            sumExp += i\n",
    "\n",
    "        pepDict[gene]['avgExpTPM'] = sumExp/42.\n",
    "print('%i gene models added to pepDict' % len(pepDict.keys()))"
   ]
  },
  {
   "cell_type": "markdown",
   "metadata": {},
   "source": [
    "# Testing bar chart"
   ]
  },
  {
   "cell_type": "code",
   "execution_count": 18,
   "metadata": {},
   "outputs": [
    {
     "name": "stdout",
     "output_type": "stream",
     "text": [
      "complete =  22620\n",
      "internal =  5953\n",
      "five prime =  13424\n",
      "three prime =  3446\n"
     ]
    }
   ],
   "source": [
    "fiveprime,threeprime,internal,complete = [], [], [], []\n",
    "\n",
    "for gene in pepDict.keys():\n",
    "    if 'complete' in pepDict[gene]['orfType']:\n",
    "        complete.append(pepDict[gene]['libExpCount'])\n",
    "    if 'internal' in pepDict[gene]['orfType']:\n",
    "        internal.append(pepDict[gene]['libExpCount'])\n",
    "    if '5' in pepDict[gene]['orfType']:\n",
    "        fiveprime.append(pepDict[gene]['libExpCount'])\n",
    "    if '3' in pepDict[gene]['orfType']:\n",
    "        threeprime.append(pepDict[gene]['libExpCount'])\n",
    "\n",
    "print('complete = ',len(complete))\n",
    "print('internal = ',len(internal))\n",
    "print('five prime = ',len(fiveprime))\n",
    "print('three prime = ',len(threeprime))\n",
    "\n",
    "#df = pd.DataFrame({'fiveprime':fiveprime, 'threeprime':threeprime, 'complete':complete, 'internal':internal})\n",
    "\n",
    "my_dict = dict( A = complete, B = internal, C= threeprime, D = fiveprime) \n",
    "df = pd.DataFrame.from_dict(my_dict, orient='index')\n"
   ]
  },
  {
   "cell_type": "code",
   "execution_count": 22,
   "metadata": {},
   "outputs": [
    {
     "data": {
      "text/html": [
       "<div>\n",
       "<style scoped>\n",
       "    .dataframe tbody tr th:only-of-type {\n",
       "        vertical-align: middle;\n",
       "    }\n",
       "\n",
       "    .dataframe tbody tr th {\n",
       "        vertical-align: top;\n",
       "    }\n",
       "\n",
       "    .dataframe thead th {\n",
       "        text-align: right;\n",
       "    }\n",
       "</style>\n",
       "<table border=\"1\" class=\"dataframe\">\n",
       "  <thead>\n",
       "    <tr style=\"text-align: right;\">\n",
       "      <th></th>\n",
       "      <th>complete</th>\n",
       "      <th>internal</th>\n",
       "      <th>fiveprime</th>\n",
       "      <th>threeprime</th>\n",
       "    </tr>\n",
       "  </thead>\n",
       "  <tbody>\n",
       "    <tr>\n",
       "      <th>0</th>\n",
       "      <td>0.0</td>\n",
       "      <td>9.0</td>\n",
       "      <td>6.0</td>\n",
       "      <td>42.0</td>\n",
       "    </tr>\n",
       "    <tr>\n",
       "      <th>1</th>\n",
       "      <td>36.0</td>\n",
       "      <td>23.0</td>\n",
       "      <td>6.0</td>\n",
       "      <td>0.0</td>\n",
       "    </tr>\n",
       "    <tr>\n",
       "      <th>2</th>\n",
       "      <td>7.0</td>\n",
       "      <td>11.0</td>\n",
       "      <td>15.0</td>\n",
       "      <td>6.0</td>\n",
       "    </tr>\n",
       "    <tr>\n",
       "      <th>3</th>\n",
       "      <td>7.0</td>\n",
       "      <td>6.0</td>\n",
       "      <td>39.0</td>\n",
       "      <td>26.0</td>\n",
       "    </tr>\n",
       "    <tr>\n",
       "      <th>4</th>\n",
       "      <td>9.0</td>\n",
       "      <td>29.0</td>\n",
       "      <td>9.0</td>\n",
       "      <td>16.0</td>\n",
       "    </tr>\n",
       "  </tbody>\n",
       "</table>\n",
       "</div>"
      ],
      "text/plain": [
       "   complete  internal  fiveprime  threeprime\n",
       "0       0.0       9.0        6.0        42.0\n",
       "1      36.0      23.0        6.0         0.0\n",
       "2       7.0      11.0       15.0         6.0\n",
       "3       7.0       6.0       39.0        26.0\n",
       "4       9.0      29.0        9.0        16.0"
      ]
     },
     "execution_count": 22,
     "metadata": {},
     "output_type": "execute_result"
    }
   ],
   "source": [
    "df2 = df.transpose()\n",
    "df2.columns = ['complete','internal','fiveprime','threeprime']\n",
    "df2.head()"
   ]
  },
  {
   "cell_type": "code",
   "execution_count": 23,
   "metadata": {},
   "outputs": [
    {
     "data": {
      "text/plain": [
       "array([[<matplotlib.axes._subplots.AxesSubplot object at 0x2b16c4b96048>,\n",
       "        <matplotlib.axes._subplots.AxesSubplot object at 0x2b16c4bc4470>],\n",
       "       [<matplotlib.axes._subplots.AxesSubplot object at 0x2b16c4bddac8>,\n",
       "        <matplotlib.axes._subplots.AxesSubplot object at 0x2b16c4bfa198>]], dtype=object)"
      ]
     },
     "execution_count": 23,
     "metadata": {},
     "output_type": "execute_result"
    },
    {
     "data": {
      "image/png": "[encoded data removed]",
      "text/plain": [
       "<Figure size 432x288 with 4 Axes>"
      ]
     },
     "metadata": {},
     "output_type": "display_data"
    }
   ],
   "source": [
    "df2.hist()"
   ]
  },
  {
   "cell_type": "code",
   "execution_count": 12,
   "metadata": {},
   "outputs": [],
   "source": [
    "df = pd.DataFrame(pepDict)\n",
    "\n",
    "df_t = df.transpose()\n",
    "\n",
    "grouped_type = df_t.groupby('orfType')"
   ]
  },
  {
   "cell_type": "code",
   "execution_count": null,
   "metadata": {},
   "outputs": [
    {
     "ename": "KeyboardInterrupt",
     "evalue": "",
     "output_type": "error",
     "traceback": [
      "\u001b[0;31m---------------------------------------------------------------------------\u001b[0m",
      "\u001b[0;31mKeyboardInterrupt\u001b[0m                         Traceback (most recent call last)",
      "\u001b[0;32m<ipython-input-13-877996988245>\u001b[0m in \u001b[0;36m<module>\u001b[0;34m()\u001b[0m\n\u001b[1;32m      1\u001b[0m \u001b[0;31m#grouped_type['libExpCount'].plot(kind='hist', bins=42, xlim=(0,42),alpha=0.2, normed = True, legend=True)\u001b[0m\u001b[0;34m\u001b[0m\u001b[0;34m\u001b[0m\u001b[0m\n\u001b[1;32m      2\u001b[0m \u001b[0;34m\u001b[0m\u001b[0m\n\u001b[0;32m----> 3\u001b[0;31m \u001b[0mgrouped_type\u001b[0m\u001b[0;34m[\u001b[0m\u001b[0;34m'libExpCount'\u001b[0m\u001b[0;34m]\u001b[0m\u001b[0;34m.\u001b[0m\u001b[0mplot\u001b[0m\u001b[0;34m(\u001b[0m\u001b[0mkind\u001b[0m\u001b[0;34m=\u001b[0m\u001b[0;34m'bar'\u001b[0m\u001b[0;34m,\u001b[0m \u001b[0mstacked\u001b[0m\u001b[0;34m=\u001b[0m\u001b[0;32mFalse\u001b[0m\u001b[0;34m,\u001b[0m \u001b[0mlegend\u001b[0m\u001b[0;34m=\u001b[0m\u001b[0;32mTrue\u001b[0m\u001b[0;34m)\u001b[0m\u001b[0;34m\u001b[0m\u001b[0m\n\u001b[0m",
      "\u001b[0;32m/sw/lsa/centos7/python-anaconda-arc-connect/created-20170421/lib/python3.5/site-packages/pandas/core/groupby/groupby.py\u001b[0m in \u001b[0;36m__call__\u001b[0;34m(self, *args, **kwargs)\u001b[0m\n\u001b[1;32m    541\u001b[0m             \u001b[0;32mreturn\u001b[0m \u001b[0mself\u001b[0m\u001b[0;34m.\u001b[0m\u001b[0mplot\u001b[0m\u001b[0;34m(\u001b[0m\u001b[0;34m*\u001b[0m\u001b[0margs\u001b[0m\u001b[0;34m,\u001b[0m \u001b[0;34m**\u001b[0m\u001b[0mkwargs\u001b[0m\u001b[0;34m)\u001b[0m\u001b[0;34m\u001b[0m\u001b[0m\n\u001b[1;32m    542\u001b[0m         \u001b[0mf\u001b[0m\u001b[0;34m.\u001b[0m\u001b[0m__name__\u001b[0m \u001b[0;34m=\u001b[0m \u001b[0;34m'plot'\u001b[0m\u001b[0;34m\u001b[0m\u001b[0m\n\u001b[0;32m--> 543\u001b[0;31m         \u001b[0;32mreturn\u001b[0m \u001b[0mself\u001b[0m\u001b[0;34m.\u001b[0m\u001b[0m_groupby\u001b[0m\u001b[0;34m.\u001b[0m\u001b[0mapply\u001b[0m\u001b[0;34m(\u001b[0m\u001b[0mf\u001b[0m\u001b[0;34m)\u001b[0m\u001b[0;34m\u001b[0m\u001b[0m\n\u001b[0m\u001b[1;32m    544\u001b[0m \u001b[0;34m\u001b[0m\u001b[0m\n\u001b[1;32m    545\u001b[0m     \u001b[0;32mdef\u001b[0m \u001b[0m__getattr__\u001b[0m\u001b[0;34m(\u001b[0m\u001b[0mself\u001b[0m\u001b[0;34m,\u001b[0m \u001b[0mname\u001b[0m\u001b[0;34m)\u001b[0m\u001b[0;34m:\u001b[0m\u001b[0;34m\u001b[0m\u001b[0m\n",
      "\u001b[0;32m/sw/lsa/centos7/python-anaconda-arc-connect/created-20170421/lib/python3.5/site-packages/pandas/core/groupby/groupby.py\u001b[0m in \u001b[0;36mapply\u001b[0;34m(self, func, *args, **kwargs)\u001b[0m\n\u001b[1;32m   3467\u001b[0m                       examples=_apply_docs['series_examples']))\n\u001b[1;32m   3468\u001b[0m     \u001b[0;32mdef\u001b[0m \u001b[0mapply\u001b[0m\u001b[0;34m(\u001b[0m\u001b[0mself\u001b[0m\u001b[0;34m,\u001b[0m \u001b[0mfunc\u001b[0m\u001b[0;34m,\u001b[0m \u001b[0;34m*\u001b[0m\u001b[0margs\u001b[0m\u001b[0;34m,\u001b[0m \u001b[0;34m**\u001b[0m\u001b[0mkwargs\u001b[0m\u001b[0;34m)\u001b[0m\u001b[0;34m:\u001b[0m\u001b[0;34m\u001b[0m\u001b[0m\n\u001b[0;32m-> 3469\u001b[0;31m         \u001b[0;32mreturn\u001b[0m \u001b[0msuper\u001b[0m\u001b[0;34m(\u001b[0m\u001b[0mSeriesGroupBy\u001b[0m\u001b[0;34m,\u001b[0m \u001b[0mself\u001b[0m\u001b[0;34m)\u001b[0m\u001b[0;34m.\u001b[0m\u001b[0mapply\u001b[0m\u001b[0;34m(\u001b[0m\u001b[0mfunc\u001b[0m\u001b[0;34m,\u001b[0m \u001b[0;34m*\u001b[0m\u001b[0margs\u001b[0m\u001b[0;34m,\u001b[0m \u001b[0;34m**\u001b[0m\u001b[0mkwargs\u001b[0m\u001b[0;34m)\u001b[0m\u001b[0;34m\u001b[0m\u001b[0m\n\u001b[0m\u001b[1;32m   3470\u001b[0m \u001b[0;34m\u001b[0m\u001b[0m\n\u001b[1;32m   3471\u001b[0m     \u001b[0;34m@\u001b[0m\u001b[0mAppender\u001b[0m\u001b[0;34m(\u001b[0m\u001b[0m_agg_doc\u001b[0m\u001b[0;34m)\u001b[0m\u001b[0;34m\u001b[0m\u001b[0m\n",
      "\u001b[0;32m/sw/lsa/centos7/python-anaconda-arc-connect/created-20170421/lib/python3.5/site-packages/pandas/core/groupby/groupby.py\u001b[0m in \u001b[0;36mapply\u001b[0;34m(self, func, *args, **kwargs)\u001b[0m\n\u001b[1;32m    916\u001b[0m         \u001b[0;32mwith\u001b[0m \u001b[0moption_context\u001b[0m\u001b[0;34m(\u001b[0m\u001b[0;34m'mode.chained_assignment'\u001b[0m\u001b[0;34m,\u001b[0m \u001b[0;32mNone\u001b[0m\u001b[0;34m)\u001b[0m\u001b[0;34m:\u001b[0m\u001b[0;34m\u001b[0m\u001b[0m\n\u001b[1;32m    917\u001b[0m             \u001b[0;32mtry\u001b[0m\u001b[0;34m:\u001b[0m\u001b[0;34m\u001b[0m\u001b[0m\n\u001b[0;32m--> 918\u001b[0;31m                 \u001b[0mresult\u001b[0m \u001b[0;34m=\u001b[0m \u001b[0mself\u001b[0m\u001b[0;34m.\u001b[0m\u001b[0m_python_apply_general\u001b[0m\u001b[0;34m(\u001b[0m\u001b[0mf\u001b[0m\u001b[0;34m)\u001b[0m\u001b[0;34m\u001b[0m\u001b[0m\n\u001b[0m\u001b[1;32m    919\u001b[0m             \u001b[0;32mexcept\u001b[0m \u001b[0mException\u001b[0m\u001b[0;34m:\u001b[0m\u001b[0;34m\u001b[0m\u001b[0m\n\u001b[1;32m    920\u001b[0m \u001b[0;34m\u001b[0m\u001b[0m\n",
      "\u001b[0;32m/sw/lsa/centos7/python-anaconda-arc-connect/created-20170421/lib/python3.5/site-packages/pandas/core/groupby/groupby.py\u001b[0m in \u001b[0;36m_python_apply_general\u001b[0;34m(self, f)\u001b[0m\n\u001b[1;32m    934\u001b[0m     \u001b[0;32mdef\u001b[0m \u001b[0m_python_apply_general\u001b[0m\u001b[0;34m(\u001b[0m\u001b[0mself\u001b[0m\u001b[0;34m,\u001b[0m \u001b[0mf\u001b[0m\u001b[0;34m)\u001b[0m\u001b[0;34m:\u001b[0m\u001b[0;34m\u001b[0m\u001b[0m\n\u001b[1;32m    935\u001b[0m         keys, values, mutated = self.grouper.apply(f, self._selected_obj,\n\u001b[0;32m--> 936\u001b[0;31m                                                    self.axis)\n\u001b[0m\u001b[1;32m    937\u001b[0m \u001b[0;34m\u001b[0m\u001b[0m\n\u001b[1;32m    938\u001b[0m         return self._wrap_applied_output(\n",
      "\u001b[0;32m/sw/lsa/centos7/python-anaconda-arc-connect/created-20170421/lib/python3.5/site-packages/pandas/core/groupby/groupby.py\u001b[0m in \u001b[0;36mapply\u001b[0;34m(self, f, data, axis)\u001b[0m\n\u001b[1;32m   2271\u001b[0m             \u001b[0;31m# group might be modified\u001b[0m\u001b[0;34m\u001b[0m\u001b[0;34m\u001b[0m\u001b[0m\n\u001b[1;32m   2272\u001b[0m             \u001b[0mgroup_axes\u001b[0m \u001b[0;34m=\u001b[0m \u001b[0m_get_axes\u001b[0m\u001b[0;34m(\u001b[0m\u001b[0mgroup\u001b[0m\u001b[0;34m)\u001b[0m\u001b[0;34m\u001b[0m\u001b[0m\n\u001b[0;32m-> 2273\u001b[0;31m             \u001b[0mres\u001b[0m \u001b[0;34m=\u001b[0m \u001b[0mf\u001b[0m\u001b[0;34m(\u001b[0m\u001b[0mgroup\u001b[0m\u001b[0;34m)\u001b[0m\u001b[0;34m\u001b[0m\u001b[0m\n\u001b[0m\u001b[1;32m   2274\u001b[0m             \u001b[0;32mif\u001b[0m \u001b[0;32mnot\u001b[0m \u001b[0m_is_indexed_like\u001b[0m\u001b[0;34m(\u001b[0m\u001b[0mres\u001b[0m\u001b[0;34m,\u001b[0m \u001b[0mgroup_axes\u001b[0m\u001b[0;34m)\u001b[0m\u001b[0;34m:\u001b[0m\u001b[0;34m\u001b[0m\u001b[0m\n\u001b[1;32m   2275\u001b[0m                 \u001b[0mmutated\u001b[0m \u001b[0;34m=\u001b[0m \u001b[0;32mTrue\u001b[0m\u001b[0;34m\u001b[0m\u001b[0m\n",
      "\u001b[0;32m/sw/lsa/centos7/python-anaconda-arc-connect/created-20170421/lib/python3.5/site-packages/pandas/core/groupby/groupby.py\u001b[0m in \u001b[0;36mf\u001b[0;34m(self)\u001b[0m\n\u001b[1;32m    539\u001b[0m     \u001b[0;32mdef\u001b[0m \u001b[0m__call__\u001b[0m\u001b[0;34m(\u001b[0m\u001b[0mself\u001b[0m\u001b[0;34m,\u001b[0m \u001b[0;34m*\u001b[0m\u001b[0margs\u001b[0m\u001b[0;34m,\u001b[0m \u001b[0;34m**\u001b[0m\u001b[0mkwargs\u001b[0m\u001b[0;34m)\u001b[0m\u001b[0;34m:\u001b[0m\u001b[0;34m\u001b[0m\u001b[0m\n\u001b[1;32m    540\u001b[0m         \u001b[0;32mdef\u001b[0m \u001b[0mf\u001b[0m\u001b[0;34m(\u001b[0m\u001b[0mself\u001b[0m\u001b[0;34m)\u001b[0m\u001b[0;34m:\u001b[0m\u001b[0;34m\u001b[0m\u001b[0m\n\u001b[0;32m--> 541\u001b[0;31m             \u001b[0;32mreturn\u001b[0m \u001b[0mself\u001b[0m\u001b[0;34m.\u001b[0m\u001b[0mplot\u001b[0m\u001b[0;34m(\u001b[0m\u001b[0;34m*\u001b[0m\u001b[0margs\u001b[0m\u001b[0;34m,\u001b[0m \u001b[0;34m**\u001b[0m\u001b[0mkwargs\u001b[0m\u001b[0;34m)\u001b[0m\u001b[0;34m\u001b[0m\u001b[0m\n\u001b[0m\u001b[1;32m    542\u001b[0m         \u001b[0mf\u001b[0m\u001b[0;34m.\u001b[0m\u001b[0m__name__\u001b[0m \u001b[0;34m=\u001b[0m \u001b[0;34m'plot'\u001b[0m\u001b[0;34m\u001b[0m\u001b[0m\n\u001b[1;32m    543\u001b[0m         \u001b[0;32mreturn\u001b[0m \u001b[0mself\u001b[0m\u001b[0;34m.\u001b[0m\u001b[0m_groupby\u001b[0m\u001b[0;34m.\u001b[0m\u001b[0mapply\u001b[0m\u001b[0;34m(\u001b[0m\u001b[0mf\u001b[0m\u001b[0;34m)\u001b[0m\u001b[0;34m\u001b[0m\u001b[0m\n",
      "\u001b[0;32m/sw/lsa/centos7/python-anaconda-arc-connect/created-20170421/lib/python3.5/site-packages/pandas/plotting/_core.py\u001b[0m in \u001b[0;36m__call__\u001b[0;34m(self, kind, ax, figsize, use_index, title, grid, legend, style, logx, logy, loglog, xticks, yticks, xlim, ylim, rot, fontsize, colormap, table, yerr, xerr, label, secondary_y, **kwds)\u001b[0m\n\u001b[1;32m   2739\u001b[0m                            \u001b[0mcolormap\u001b[0m\u001b[0;34m=\u001b[0m\u001b[0mcolormap\u001b[0m\u001b[0;34m,\u001b[0m \u001b[0mtable\u001b[0m\u001b[0;34m=\u001b[0m\u001b[0mtable\u001b[0m\u001b[0;34m,\u001b[0m \u001b[0myerr\u001b[0m\u001b[0;34m=\u001b[0m\u001b[0myerr\u001b[0m\u001b[0;34m,\u001b[0m\u001b[0;34m\u001b[0m\u001b[0m\n\u001b[1;32m   2740\u001b[0m                            \u001b[0mxerr\u001b[0m\u001b[0;34m=\u001b[0m\u001b[0mxerr\u001b[0m\u001b[0;34m,\u001b[0m \u001b[0mlabel\u001b[0m\u001b[0;34m=\u001b[0m\u001b[0mlabel\u001b[0m\u001b[0;34m,\u001b[0m \u001b[0msecondary_y\u001b[0m\u001b[0;34m=\u001b[0m\u001b[0msecondary_y\u001b[0m\u001b[0;34m,\u001b[0m\u001b[0;34m\u001b[0m\u001b[0m\n\u001b[0;32m-> 2741\u001b[0;31m                            **kwds)\n\u001b[0m\u001b[1;32m   2742\u001b[0m     \u001b[0m__call__\u001b[0m\u001b[0;34m.\u001b[0m\u001b[0m__doc__\u001b[0m \u001b[0;34m=\u001b[0m \u001b[0mplot_series\u001b[0m\u001b[0;34m.\u001b[0m\u001b[0m__doc__\u001b[0m\u001b[0;34m\u001b[0m\u001b[0m\n\u001b[1;32m   2743\u001b[0m \u001b[0;34m\u001b[0m\u001b[0m\n",
      "\u001b[0;32m/sw/lsa/centos7/python-anaconda-arc-connect/created-20170421/lib/python3.5/site-packages/pandas/plotting/_core.py\u001b[0m in \u001b[0;36mplot_series\u001b[0;34m(data, kind, ax, figsize, use_index, title, grid, legend, style, logx, logy, loglog, xticks, yticks, xlim, ylim, rot, fontsize, colormap, table, yerr, xerr, label, secondary_y, **kwds)\u001b[0m\n\u001b[1;32m   2000\u001b[0m                  \u001b[0myerr\u001b[0m\u001b[0;34m=\u001b[0m\u001b[0myerr\u001b[0m\u001b[0;34m,\u001b[0m \u001b[0mxerr\u001b[0m\u001b[0;34m=\u001b[0m\u001b[0mxerr\u001b[0m\u001b[0;34m,\u001b[0m\u001b[0;34m\u001b[0m\u001b[0m\n\u001b[1;32m   2001\u001b[0m                  \u001b[0mlabel\u001b[0m\u001b[0;34m=\u001b[0m\u001b[0mlabel\u001b[0m\u001b[0;34m,\u001b[0m \u001b[0msecondary_y\u001b[0m\u001b[0;34m=\u001b[0m\u001b[0msecondary_y\u001b[0m\u001b[0;34m,\u001b[0m\u001b[0;34m\u001b[0m\u001b[0m\n\u001b[0;32m-> 2002\u001b[0;31m                  **kwds)\n\u001b[0m\u001b[1;32m   2003\u001b[0m \u001b[0;34m\u001b[0m\u001b[0m\n\u001b[1;32m   2004\u001b[0m \u001b[0;34m\u001b[0m\u001b[0m\n",
      "\u001b[0;32m/sw/lsa/centos7/python-anaconda-arc-connect/created-20170421/lib/python3.5/site-packages/pandas/plotting/_core.py\u001b[0m in \u001b[0;36m_plot\u001b[0;34m(data, x, y, subplots, ax, kind, **kwds)\u001b[0m\n\u001b[1;32m   1802\u001b[0m         \u001b[0mplot_obj\u001b[0m \u001b[0;34m=\u001b[0m \u001b[0mklass\u001b[0m\u001b[0;34m(\u001b[0m\u001b[0mdata\u001b[0m\u001b[0;34m,\u001b[0m \u001b[0msubplots\u001b[0m\u001b[0;34m=\u001b[0m\u001b[0msubplots\u001b[0m\u001b[0;34m,\u001b[0m \u001b[0max\u001b[0m\u001b[0;34m=\u001b[0m\u001b[0max\u001b[0m\u001b[0;34m,\u001b[0m \u001b[0mkind\u001b[0m\u001b[0;34m=\u001b[0m\u001b[0mkind\u001b[0m\u001b[0;34m,\u001b[0m \u001b[0;34m**\u001b[0m\u001b[0mkwds\u001b[0m\u001b[0;34m)\u001b[0m\u001b[0;34m\u001b[0m\u001b[0m\n\u001b[1;32m   1803\u001b[0m \u001b[0;34m\u001b[0m\u001b[0m\n\u001b[0;32m-> 1804\u001b[0;31m     \u001b[0mplot_obj\u001b[0m\u001b[0;34m.\u001b[0m\u001b[0mgenerate\u001b[0m\u001b[0;34m(\u001b[0m\u001b[0;34m)\u001b[0m\u001b[0;34m\u001b[0m\u001b[0m\n\u001b[0m\u001b[1;32m   1805\u001b[0m     \u001b[0mplot_obj\u001b[0m\u001b[0;34m.\u001b[0m\u001b[0mdraw\u001b[0m\u001b[0;34m(\u001b[0m\u001b[0;34m)\u001b[0m\u001b[0;34m\u001b[0m\u001b[0m\n\u001b[1;32m   1806\u001b[0m     \u001b[0;32mreturn\u001b[0m \u001b[0mplot_obj\u001b[0m\u001b[0;34m.\u001b[0m\u001b[0mresult\u001b[0m\u001b[0;34m\u001b[0m\u001b[0m\n",
      "\u001b[0;32m/sw/lsa/centos7/python-anaconda-arc-connect/created-20170421/lib/python3.5/site-packages/pandas/plotting/_core.py\u001b[0m in \u001b[0;36mgenerate\u001b[0;34m(self)\u001b[0m\n\u001b[1;32m    265\u001b[0m         \u001b[0;32mfor\u001b[0m \u001b[0max\u001b[0m \u001b[0;32min\u001b[0m \u001b[0mself\u001b[0m\u001b[0;34m.\u001b[0m\u001b[0maxes\u001b[0m\u001b[0;34m:\u001b[0m\u001b[0;34m\u001b[0m\u001b[0m\n\u001b[1;32m    266\u001b[0m             \u001b[0mself\u001b[0m\u001b[0;34m.\u001b[0m\u001b[0m_post_plot_logic_common\u001b[0m\u001b[0;34m(\u001b[0m\u001b[0max\u001b[0m\u001b[0;34m,\u001b[0m \u001b[0mself\u001b[0m\u001b[0;34m.\u001b[0m\u001b[0mdata\u001b[0m\u001b[0;34m)\u001b[0m\u001b[0;34m\u001b[0m\u001b[0m\n\u001b[0;32m--> 267\u001b[0;31m             \u001b[0mself\u001b[0m\u001b[0;34m.\u001b[0m\u001b[0m_post_plot_logic\u001b[0m\u001b[0;34m(\u001b[0m\u001b[0max\u001b[0m\u001b[0;34m,\u001b[0m \u001b[0mself\u001b[0m\u001b[0;34m.\u001b[0m\u001b[0mdata\u001b[0m\u001b[0;34m)\u001b[0m\u001b[0;34m\u001b[0m\u001b[0m\n\u001b[0m\u001b[1;32m    268\u001b[0m \u001b[0;34m\u001b[0m\u001b[0m\n\u001b[1;32m    269\u001b[0m     \u001b[0;32mdef\u001b[0m \u001b[0m_args_adjust\u001b[0m\u001b[0;34m(\u001b[0m\u001b[0mself\u001b[0m\u001b[0;34m)\u001b[0m\u001b[0;34m:\u001b[0m\u001b[0;34m\u001b[0m\u001b[0m\n",
      "\u001b[0;32m/sw/lsa/centos7/python-anaconda-arc-connect/created-20170421/lib/python3.5/site-packages/pandas/plotting/_core.py\u001b[0m in \u001b[0;36m_post_plot_logic\u001b[0;34m(self, ax, data)\u001b[0m\n\u001b[1;32m   1276\u001b[0m         \u001b[0me_edge\u001b[0m \u001b[0;34m=\u001b[0m \u001b[0mself\u001b[0m\u001b[0;34m.\u001b[0m\u001b[0max_pos\u001b[0m\u001b[0;34m[\u001b[0m\u001b[0;34m-\u001b[0m\u001b[0;36m1\u001b[0m\u001b[0;34m]\u001b[0m \u001b[0;34m+\u001b[0m \u001b[0;36m0.25\u001b[0m \u001b[0;34m+\u001b[0m \u001b[0mself\u001b[0m\u001b[0;34m.\u001b[0m\u001b[0mbar_width\u001b[0m \u001b[0;34m+\u001b[0m \u001b[0mself\u001b[0m\u001b[0;34m.\u001b[0m\u001b[0mlim_offset\u001b[0m\u001b[0;34m\u001b[0m\u001b[0m\n\u001b[1;32m   1277\u001b[0m \u001b[0;34m\u001b[0m\u001b[0m\n\u001b[0;32m-> 1278\u001b[0;31m         \u001b[0mself\u001b[0m\u001b[0;34m.\u001b[0m\u001b[0m_decorate_ticks\u001b[0m\u001b[0;34m(\u001b[0m\u001b[0max\u001b[0m\u001b[0;34m,\u001b[0m \u001b[0mname\u001b[0m\u001b[0;34m,\u001b[0m \u001b[0mstr_index\u001b[0m\u001b[0;34m,\u001b[0m \u001b[0ms_edge\u001b[0m\u001b[0;34m,\u001b[0m \u001b[0me_edge\u001b[0m\u001b[0;34m)\u001b[0m\u001b[0;34m\u001b[0m\u001b[0m\n\u001b[0m\u001b[1;32m   1279\u001b[0m \u001b[0;34m\u001b[0m\u001b[0m\n\u001b[1;32m   1280\u001b[0m     \u001b[0;32mdef\u001b[0m \u001b[0m_decorate_ticks\u001b[0m\u001b[0;34m(\u001b[0m\u001b[0mself\u001b[0m\u001b[0;34m,\u001b[0m \u001b[0max\u001b[0m\u001b[0;34m,\u001b[0m \u001b[0mname\u001b[0m\u001b[0;34m,\u001b[0m \u001b[0mticklabels\u001b[0m\u001b[0;34m,\u001b[0m \u001b[0mstart_edge\u001b[0m\u001b[0;34m,\u001b[0m \u001b[0mend_edge\u001b[0m\u001b[0;34m)\u001b[0m\u001b[0;34m:\u001b[0m\u001b[0;34m\u001b[0m\u001b[0m\n",
      "\u001b[0;32m/sw/lsa/centos7/python-anaconda-arc-connect/created-20170421/lib/python3.5/site-packages/pandas/plotting/_core.py\u001b[0m in \u001b[0;36m_decorate_ticks\u001b[0;34m(self, ax, name, ticklabels, start_edge, end_edge)\u001b[0m\n\u001b[1;32m   1280\u001b[0m     \u001b[0;32mdef\u001b[0m \u001b[0m_decorate_ticks\u001b[0m\u001b[0;34m(\u001b[0m\u001b[0mself\u001b[0m\u001b[0;34m,\u001b[0m \u001b[0max\u001b[0m\u001b[0;34m,\u001b[0m \u001b[0mname\u001b[0m\u001b[0;34m,\u001b[0m \u001b[0mticklabels\u001b[0m\u001b[0;34m,\u001b[0m \u001b[0mstart_edge\u001b[0m\u001b[0;34m,\u001b[0m \u001b[0mend_edge\u001b[0m\u001b[0;34m)\u001b[0m\u001b[0;34m:\u001b[0m\u001b[0;34m\u001b[0m\u001b[0m\n\u001b[1;32m   1281\u001b[0m         \u001b[0max\u001b[0m\u001b[0;34m.\u001b[0m\u001b[0mset_xlim\u001b[0m\u001b[0;34m(\u001b[0m\u001b[0;34m(\u001b[0m\u001b[0mstart_edge\u001b[0m\u001b[0;34m,\u001b[0m \u001b[0mend_edge\u001b[0m\u001b[0;34m)\u001b[0m\u001b[0;34m)\u001b[0m\u001b[0;34m\u001b[0m\u001b[0m\n\u001b[0;32m-> 1282\u001b[0;31m         \u001b[0max\u001b[0m\u001b[0;34m.\u001b[0m\u001b[0mset_xticks\u001b[0m\u001b[0;34m(\u001b[0m\u001b[0mself\u001b[0m\u001b[0;34m.\u001b[0m\u001b[0mtick_pos\u001b[0m\u001b[0;34m)\u001b[0m\u001b[0;34m\u001b[0m\u001b[0m\n\u001b[0m\u001b[1;32m   1283\u001b[0m         \u001b[0max\u001b[0m\u001b[0;34m.\u001b[0m\u001b[0mset_xticklabels\u001b[0m\u001b[0;34m(\u001b[0m\u001b[0mticklabels\u001b[0m\u001b[0;34m)\u001b[0m\u001b[0;34m\u001b[0m\u001b[0m\n\u001b[1;32m   1284\u001b[0m         \u001b[0;32mif\u001b[0m \u001b[0mname\u001b[0m \u001b[0;32mis\u001b[0m \u001b[0;32mnot\u001b[0m \u001b[0;32mNone\u001b[0m \u001b[0;32mand\u001b[0m \u001b[0mself\u001b[0m\u001b[0;34m.\u001b[0m\u001b[0muse_index\u001b[0m\u001b[0;34m:\u001b[0m\u001b[0;34m\u001b[0m\u001b[0m\n",
      "\u001b[0;32m/sw/lsa/centos7/python-anaconda-arc-connect/created-20170421/lib/python3.5/site-packages/matplotlib/axes/_base.py\u001b[0m in \u001b[0;36mset_xticks\u001b[0;34m(self, ticks, minor)\u001b[0m\n\u001b[1;32m   3206\u001b[0m             \u001b[0mDefault\u001b[0m \u001b[0;32mis\u001b[0m\u001b[0;31m \u001b[0m\u001b[0;31m`\u001b[0m\u001b[0;31m`\u001b[0m\u001b[0;32mFalse\u001b[0m\u001b[0;31m`\u001b[0m\u001b[0;31m`\u001b[0m\u001b[0;34m.\u001b[0m\u001b[0;34m\u001b[0m\u001b[0m\n\u001b[1;32m   3207\u001b[0m         \"\"\"\n\u001b[0;32m-> 3208\u001b[0;31m         \u001b[0mret\u001b[0m \u001b[0;34m=\u001b[0m \u001b[0mself\u001b[0m\u001b[0;34m.\u001b[0m\u001b[0mxaxis\u001b[0m\u001b[0;34m.\u001b[0m\u001b[0mset_ticks\u001b[0m\u001b[0;34m(\u001b[0m\u001b[0mticks\u001b[0m\u001b[0;34m,\u001b[0m \u001b[0mminor\u001b[0m\u001b[0;34m=\u001b[0m\u001b[0mminor\u001b[0m\u001b[0;34m)\u001b[0m\u001b[0;34m\u001b[0m\u001b[0m\n\u001b[0m\u001b[1;32m   3209\u001b[0m         \u001b[0mself\u001b[0m\u001b[0;34m.\u001b[0m\u001b[0mstale\u001b[0m \u001b[0;34m=\u001b[0m \u001b[0;32mTrue\u001b[0m\u001b[0;34m\u001b[0m\u001b[0m\n\u001b[1;32m   3210\u001b[0m         \u001b[0;32mreturn\u001b[0m \u001b[0mret\u001b[0m\u001b[0;34m\u001b[0m\u001b[0m\n",
      "\u001b[0;32m/sw/lsa/centos7/python-anaconda-arc-connect/created-20170421/lib/python3.5/site-packages/matplotlib/axis.py\u001b[0m in \u001b[0;36mset_ticks\u001b[0;34m(self, ticks, minor)\u001b[0m\n\u001b[1;32m   1688\u001b[0m         \u001b[0;32melse\u001b[0m\u001b[0;34m:\u001b[0m\u001b[0;34m\u001b[0m\u001b[0m\n\u001b[1;32m   1689\u001b[0m             \u001b[0mself\u001b[0m\u001b[0;34m.\u001b[0m\u001b[0mset_major_locator\u001b[0m\u001b[0;34m(\u001b[0m\u001b[0mmticker\u001b[0m\u001b[0;34m.\u001b[0m\u001b[0mFixedLocator\u001b[0m\u001b[0;34m(\u001b[0m\u001b[0mticks\u001b[0m\u001b[0;34m)\u001b[0m\u001b[0;34m)\u001b[0m\u001b[0;34m\u001b[0m\u001b[0m\n\u001b[0;32m-> 1690\u001b[0;31m             \u001b[0;32mreturn\u001b[0m \u001b[0mself\u001b[0m\u001b[0;34m.\u001b[0m\u001b[0mget_major_ticks\u001b[0m\u001b[0;34m(\u001b[0m\u001b[0mlen\u001b[0m\u001b[0;34m(\u001b[0m\u001b[0mticks\u001b[0m\u001b[0;34m)\u001b[0m\u001b[0;34m)\u001b[0m\u001b[0;34m\u001b[0m\u001b[0m\n\u001b[0m\u001b[1;32m   1691\u001b[0m \u001b[0;34m\u001b[0m\u001b[0m\n\u001b[1;32m   1692\u001b[0m     \u001b[0;32mdef\u001b[0m \u001b[0m_get_tick_boxes_siblings\u001b[0m\u001b[0;34m(\u001b[0m\u001b[0mself\u001b[0m\u001b[0;34m,\u001b[0m \u001b[0mxdir\u001b[0m\u001b[0;34m,\u001b[0m \u001b[0mrenderer\u001b[0m\u001b[0;34m)\u001b[0m\u001b[0;34m:\u001b[0m\u001b[0;34m\u001b[0m\u001b[0m\n",
      "\u001b[0;32m/sw/lsa/centos7/python-anaconda-arc-connect/created-20170421/lib/python3.5/site-packages/matplotlib/axis.py\u001b[0m in \u001b[0;36mget_major_ticks\u001b[0;34m(self, numticks)\u001b[0m\n\u001b[1;32m   1398\u001b[0m         \u001b[0;32mwhile\u001b[0m \u001b[0mlen\u001b[0m\u001b[0;34m(\u001b[0m\u001b[0mself\u001b[0m\u001b[0;34m.\u001b[0m\u001b[0mmajorTicks\u001b[0m\u001b[0;34m)\u001b[0m \u001b[0;34m<\u001b[0m \u001b[0mnumticks\u001b[0m\u001b[0;34m:\u001b[0m\u001b[0;34m\u001b[0m\u001b[0m\n\u001b[1;32m   1399\u001b[0m             \u001b[0;31m# update the new tick label properties from the old\u001b[0m\u001b[0;34m\u001b[0m\u001b[0;34m\u001b[0m\u001b[0m\n\u001b[0;32m-> 1400\u001b[0;31m             \u001b[0mtick\u001b[0m \u001b[0;34m=\u001b[0m \u001b[0mself\u001b[0m\u001b[0;34m.\u001b[0m\u001b[0m_get_tick\u001b[0m\u001b[0;34m(\u001b[0m\u001b[0mmajor\u001b[0m\u001b[0;34m=\u001b[0m\u001b[0;32mTrue\u001b[0m\u001b[0;34m)\u001b[0m\u001b[0;34m\u001b[0m\u001b[0m\n\u001b[0m\u001b[1;32m   1401\u001b[0m             \u001b[0mself\u001b[0m\u001b[0;34m.\u001b[0m\u001b[0mmajorTicks\u001b[0m\u001b[0;34m.\u001b[0m\u001b[0mappend\u001b[0m\u001b[0;34m(\u001b[0m\u001b[0mtick\u001b[0m\u001b[0;34m)\u001b[0m\u001b[0;34m\u001b[0m\u001b[0m\n\u001b[1;32m   1402\u001b[0m             \u001b[0;32mif\u001b[0m \u001b[0mself\u001b[0m\u001b[0;34m.\u001b[0m\u001b[0m_gridOnMajor\u001b[0m\u001b[0;34m:\u001b[0m\u001b[0;34m\u001b[0m\u001b[0m\n",
      "\u001b[0;32m/sw/lsa/centos7/python-anaconda-arc-connect/created-20170421/lib/python3.5/site-packages/matplotlib/axis.py\u001b[0m in \u001b[0;36m_get_tick\u001b[0;34m(self, major)\u001b[0m\n\u001b[1;32m   1790\u001b[0m         \u001b[0;32melse\u001b[0m\u001b[0;34m:\u001b[0m\u001b[0;34m\u001b[0m\u001b[0m\n\u001b[1;32m   1791\u001b[0m             \u001b[0mtick_kw\u001b[0m \u001b[0;34m=\u001b[0m \u001b[0mself\u001b[0m\u001b[0;34m.\u001b[0m\u001b[0m_minor_tick_kw\u001b[0m\u001b[0;34m\u001b[0m\u001b[0m\n\u001b[0;32m-> 1792\u001b[0;31m         \u001b[0;32mreturn\u001b[0m \u001b[0mXTick\u001b[0m\u001b[0;34m(\u001b[0m\u001b[0mself\u001b[0m\u001b[0;34m.\u001b[0m\u001b[0maxes\u001b[0m\u001b[0;34m,\u001b[0m \u001b[0;36m0\u001b[0m\u001b[0;34m,\u001b[0m \u001b[0;34m''\u001b[0m\u001b[0;34m,\u001b[0m \u001b[0mmajor\u001b[0m\u001b[0;34m=\u001b[0m\u001b[0mmajor\u001b[0m\u001b[0;34m,\u001b[0m \u001b[0;34m**\u001b[0m\u001b[0mtick_kw\u001b[0m\u001b[0;34m)\u001b[0m\u001b[0;34m\u001b[0m\u001b[0m\n\u001b[0m\u001b[1;32m   1793\u001b[0m \u001b[0;34m\u001b[0m\u001b[0m\n\u001b[1;32m   1794\u001b[0m     \u001b[0;32mdef\u001b[0m \u001b[0m_get_label\u001b[0m\u001b[0;34m(\u001b[0m\u001b[0mself\u001b[0m\u001b[0;34m)\u001b[0m\u001b[0;34m:\u001b[0m\u001b[0;34m\u001b[0m\u001b[0m\n",
      "\u001b[0;32m/sw/lsa/centos7/python-anaconda-arc-connect/created-20170421/lib/python3.5/site-packages/matplotlib/axis.py\u001b[0m in \u001b[0;36m__init__\u001b[0;34m(self, axes, loc, label, size, width, color, tickdir, pad, labelsize, labelcolor, zorder, gridOn, tick1On, tick2On, label1On, label2On, major, labelrotation, grid_color, grid_linestyle, grid_linewidth, grid_alpha, **kw)\u001b[0m\n\u001b[1;32m    180\u001b[0m         \u001b[0mself\u001b[0m\u001b[0;34m.\u001b[0m\u001b[0mlabel1\u001b[0m \u001b[0;34m=\u001b[0m \u001b[0mself\u001b[0m\u001b[0;34m.\u001b[0m\u001b[0m_get_text1\u001b[0m\u001b[0;34m(\u001b[0m\u001b[0;34m)\u001b[0m\u001b[0;34m\u001b[0m\u001b[0m\n\u001b[1;32m    181\u001b[0m         \u001b[0mself\u001b[0m\u001b[0;34m.\u001b[0m\u001b[0mlabel\u001b[0m \u001b[0;34m=\u001b[0m \u001b[0mself\u001b[0m\u001b[0;34m.\u001b[0m\u001b[0mlabel1\u001b[0m  \u001b[0;31m# legacy name\u001b[0m\u001b[0;34m\u001b[0m\u001b[0m\n\u001b[0;32m--> 182\u001b[0;31m         \u001b[0mself\u001b[0m\u001b[0;34m.\u001b[0m\u001b[0mlabel2\u001b[0m \u001b[0;34m=\u001b[0m \u001b[0mself\u001b[0m\u001b[0;34m.\u001b[0m\u001b[0m_get_text2\u001b[0m\u001b[0;34m(\u001b[0m\u001b[0;34m)\u001b[0m\u001b[0;34m\u001b[0m\u001b[0m\n\u001b[0m\u001b[1;32m    183\u001b[0m \u001b[0;34m\u001b[0m\u001b[0m\n\u001b[1;32m    184\u001b[0m         \u001b[0mself\u001b[0m\u001b[0;34m.\u001b[0m\u001b[0mgridOn\u001b[0m \u001b[0;34m=\u001b[0m \u001b[0mgridOn\u001b[0m\u001b[0;34m\u001b[0m\u001b[0m\n",
      "\u001b[0;32m/sw/lsa/centos7/python-anaconda-arc-connect/created-20170421/lib/python3.5/site-packages/matplotlib/axis.py\u001b[0m in \u001b[0;36m_get_text2\u001b[0;34m(self)\u001b[0m\n\u001b[1;32m    457\u001b[0m         t = mtext.Text(\n\u001b[1;32m    458\u001b[0m             \u001b[0mx\u001b[0m\u001b[0;34m=\u001b[0m\u001b[0;36m0\u001b[0m\u001b[0;34m,\u001b[0m \u001b[0my\u001b[0m\u001b[0;34m=\u001b[0m\u001b[0;36m1\u001b[0m\u001b[0;34m,\u001b[0m\u001b[0;34m\u001b[0m\u001b[0m\n\u001b[0;32m--> 459\u001b[0;31m             \u001b[0mfontproperties\u001b[0m\u001b[0;34m=\u001b[0m\u001b[0mfont_manager\u001b[0m\u001b[0;34m.\u001b[0m\u001b[0mFontProperties\u001b[0m\u001b[0;34m(\u001b[0m\u001b[0msize\u001b[0m\u001b[0;34m=\u001b[0m\u001b[0mself\u001b[0m\u001b[0;34m.\u001b[0m\u001b[0m_labelsize\u001b[0m\u001b[0;34m)\u001b[0m\u001b[0;34m,\u001b[0m\u001b[0;34m\u001b[0m\u001b[0m\n\u001b[0m\u001b[1;32m    460\u001b[0m             \u001b[0mcolor\u001b[0m\u001b[0;34m=\u001b[0m\u001b[0mself\u001b[0m\u001b[0;34m.\u001b[0m\u001b[0m_labelcolor\u001b[0m\u001b[0;34m,\u001b[0m\u001b[0;34m\u001b[0m\u001b[0m\n\u001b[1;32m    461\u001b[0m             \u001b[0mverticalalignment\u001b[0m\u001b[0;34m=\u001b[0m\u001b[0mvert\u001b[0m\u001b[0;34m,\u001b[0m\u001b[0;34m\u001b[0m\u001b[0m\n",
      "\u001b[0;32m/sw/lsa/centos7/python-anaconda-arc-connect/created-20170421/lib/python3.5/site-packages/matplotlib/font_manager.py\u001b[0m in \u001b[0;36m__init__\u001b[0;34m(self, family, style, variant, weight, stretch, size, fname, _init)\u001b[0m\n\u001b[1;32m    676\u001b[0m         \u001b[0mself\u001b[0m\u001b[0;34m.\u001b[0m\u001b[0m_slant\u001b[0m \u001b[0;34m=\u001b[0m \u001b[0mrcParams\u001b[0m\u001b[0;34m[\u001b[0m\u001b[0;34m'font.style'\u001b[0m\u001b[0;34m]\u001b[0m\u001b[0;34m\u001b[0m\u001b[0m\n\u001b[1;32m    677\u001b[0m         \u001b[0mself\u001b[0m\u001b[0;34m.\u001b[0m\u001b[0m_variant\u001b[0m \u001b[0;34m=\u001b[0m \u001b[0mrcParams\u001b[0m\u001b[0;34m[\u001b[0m\u001b[0;34m'font.variant'\u001b[0m\u001b[0;34m]\u001b[0m\u001b[0;34m\u001b[0m\u001b[0m\n\u001b[0;32m--> 678\u001b[0;31m         \u001b[0mself\u001b[0m\u001b[0;34m.\u001b[0m\u001b[0m_weight\u001b[0m \u001b[0;34m=\u001b[0m \u001b[0mrcParams\u001b[0m\u001b[0;34m[\u001b[0m\u001b[0;34m'font.weight'\u001b[0m\u001b[0;34m]\u001b[0m\u001b[0;34m\u001b[0m\u001b[0m\n\u001b[0m\u001b[1;32m    679\u001b[0m         \u001b[0mself\u001b[0m\u001b[0;34m.\u001b[0m\u001b[0m_stretch\u001b[0m \u001b[0;34m=\u001b[0m \u001b[0mrcParams\u001b[0m\u001b[0;34m[\u001b[0m\u001b[0;34m'font.stretch'\u001b[0m\u001b[0;34m]\u001b[0m\u001b[0;34m\u001b[0m\u001b[0m\n\u001b[1;32m    680\u001b[0m         \u001b[0mself\u001b[0m\u001b[0;34m.\u001b[0m\u001b[0m_size\u001b[0m \u001b[0;34m=\u001b[0m \u001b[0mrcParams\u001b[0m\u001b[0;34m[\u001b[0m\u001b[0;34m'font.size'\u001b[0m\u001b[0;34m]\u001b[0m\u001b[0;34m\u001b[0m\u001b[0m\n",
      "\u001b[0;32m/sw/lsa/centos7/python-anaconda-arc-connect/created-20170421/lib/python3.5/site-packages/matplotlib/__init__.py\u001b[0m in \u001b[0;36m__getitem__\u001b[0;34m(self, key)\u001b[0m\n\u001b[1;32m    931\u001b[0m     \u001b[0;32mdef\u001b[0m \u001b[0m__getitem__\u001b[0m\u001b[0;34m(\u001b[0m\u001b[0mself\u001b[0m\u001b[0;34m,\u001b[0m \u001b[0mkey\u001b[0m\u001b[0;34m)\u001b[0m\u001b[0;34m:\u001b[0m\u001b[0;34m\u001b[0m\u001b[0m\n\u001b[1;32m    932\u001b[0m         \u001b[0minverse_alt\u001b[0m \u001b[0;34m=\u001b[0m \u001b[0;32mNone\u001b[0m\u001b[0;34m\u001b[0m\u001b[0m\n\u001b[0;32m--> 933\u001b[0;31m         \u001b[0;32mif\u001b[0m \u001b[0mkey\u001b[0m \u001b[0;32min\u001b[0m \u001b[0m_deprecated_map\u001b[0m\u001b[0;34m:\u001b[0m\u001b[0;34m\u001b[0m\u001b[0m\n\u001b[0m\u001b[1;32m    934\u001b[0m             \u001b[0malt_key\u001b[0m\u001b[0;34m,\u001b[0m \u001b[0malt_val\u001b[0m\u001b[0;34m,\u001b[0m \u001b[0minverse_alt\u001b[0m \u001b[0;34m=\u001b[0m \u001b[0m_deprecated_map\u001b[0m\u001b[0;34m[\u001b[0m\u001b[0mkey\u001b[0m\u001b[0;34m]\u001b[0m\u001b[0;34m\u001b[0m\u001b[0m\n\u001b[1;32m    935\u001b[0m             warnings.warn(self.msg_depr % (key, alt_key),\n",
      "\u001b[0;31mKeyboardInterrupt\u001b[0m: "
     ]
    }
   ],
   "source": [
    "#grouped_type['libExpCount'].plot(kind='hist', bins=42, xlim=(0,42),alpha=0.2, normed = True, legend=True)\n",
    "\n",
    "grouped_type['libExpCount'].plot(kind='bar', stacked=False, legend=True)"
   ]
  }
 ],
 "metadata": {
  "kernelspec": {
   "display_name": "Python 3",
   "language": "python",
   "name": "python3"
  }
 },
 "nbformat": 4,
 "nbformat_minor": 2
}
