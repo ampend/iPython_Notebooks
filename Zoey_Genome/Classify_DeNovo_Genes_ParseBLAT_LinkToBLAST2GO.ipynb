{
 "cells": [
  {
   "cell_type": "code",
   "execution_count": 180,
   "metadata": {},
   "outputs": [],
   "source": [
    "# 2018-06-11\n",
    "# A. Pendleton\n",
    "# Parsing the BLATs of the high scoring, non-redundant de novo genes from Zoey2.3\n",
    "#    against CanFam3.1 to identify which are novel to Zoey, or already partially/fully\n",
    "#    captured in the CanFam3.1 assembly\n",
    "# Then, these are linked to the BLAST2GO "
   ]
  },
  {
   "cell_type": "code",
   "execution_count": 2,
   "metadata": {},
   "outputs": [],
   "source": [
    "#this uses iPython magic to make plots appear inline\n",
    "%matplotlib inline\n",
    "import matplotlib.pyplot as plt\n",
    "import pandas as pd\n",
    "import subprocess\n",
    "import sys\n",
    "import numpy as np\n",
    "import matplotlib.patches as patches\n",
    "import gzip\n",
    "import fileinput\n",
    "import glob\n",
    "from scipy import stats\n",
    "import re\n",
    "from matplotlib_venn import venn3, venn3_circles\n",
    "from collections import OrderedDict\n",
    "\n",
    "\n",
    "def count_lines(f):\n",
    "    lineCount = 0\n",
    "    with open(f, 'r') as f:\n",
    "        for line in f:\n",
    "            lineCount += 1\n",
    "        return lineCount\n",
    "def runCMD(cmd):\n",
    "    val = subprocess.Popen(cmd, shell=True).wait()\n",
    "    if val == 0:\n",
    "        pass\n",
    "    else:\n",
    "        print ('command failed')\n",
    "        print (cmd)\n",
    "        sys.exit(1)\n",
    "# TO REMOVE TOP AND RIGHT AXIS OF PLOTS\n",
    "def simpleaxis(ax):\n",
    "    ax.spines['top'].set_visible(False)\n",
    "    ax.spines['right'].set_visible(False)\n",
    "    ax.get_xaxis().tick_bottom()\n",
    "    ax.get_yaxis().tick_left()"
   ]
  },
  {
   "cell_type": "code",
   "execution_count": 57,
   "metadata": {},
   "outputs": [],
   "source": [
    "# Final Gene directory to keep the parsed gene model information\n",
    "finalDir = '/home/ampend/links/kidd-lab/ampend-projects/Zoey_Genome_Project/FINAL_GENES/'"
   ]
  },
  {
   "cell_type": "markdown",
   "metadata": {},
   "source": [
    "# Create dictionary with ALL gene models as keys"
   ]
  },
  {
   "cell_type": "code",
   "execution_count": 4,
   "metadata": {},
   "outputs": [
    {
     "name": "stdout",
     "output_type": "stream",
     "text": [
      "24667 gene models added to dictionary\n"
     ]
    }
   ],
   "source": [
    "totalGeneFile = '/home/ampend/links/kidd-lab/ampend-projects/Zoey_Genome_Project/rna-seq/NonRedundant_NoRMIntersect_FilteredGeneSet/input/TotalSet_NoRMSingleExons_AllMultiExons_cds.fa'\n",
    "\n",
    "geneDict = {}\n",
    "geneList = []\n",
    "\n",
    "for line in open(totalGeneFile,'r'):\n",
    "    if '>' not in line: #only want identifer\n",
    "        continue\n",
    "    line=line.rstrip().replace('>','')\n",
    "    shortID = line.split('::')[1]\n",
    "    geneDict[shortID] = []\n",
    "    geneList.append(shortID)\n",
    "\n",
    "print('%i gene models added to dictionary' % len(geneList))\n"
   ]
  },
  {
   "cell_type": "markdown",
   "metadata": {},
   "source": [
    "# GET ZOEY COORDINATES FOR ALL GENE MODELS"
   ]
  },
  {
   "cell_type": "code",
   "execution_count": 66,
   "metadata": {},
   "outputs": [
    {
     "name": "stdout",
     "output_type": "stream",
     "text": [
      "Added 24667 gene coordinates to dictionary and output file\n"
     ]
    }
   ],
   "source": [
    "geneBed = '/home/ampend/links/kidd-lab/ampend-projects/Zoey_Genome_Project/rna-seq/NonRedundant_NoRMIntersect_FilteredGeneSet/input/HighestScoringTranscripts_IDs.bed'\n",
    "zoeyCoordDict = {}\n",
    "newBed = open(finalDir + 'Zoey_FinalGenes.12.bed', 'w')\n",
    "count = 0\n",
    "\n",
    "for LINE in open(geneBed,'r'):\n",
    "    line=LINE.rstrip().split('\\t')\n",
    "    shortID = line[3].split('::')[1]\n",
    "    \n",
    "    #We only want the genes that passed all of our subsequent filtration, so make sure each gene \n",
    "    #   is in our geneList array\n",
    "    if shortID not in geneList:\n",
    "        continue\n",
    "    zoey_chrom, zoey_start, zoey_end, zoey_strand = line[0], line[1], line[2], line[5]\n",
    "    zoeyCoordDict[shortID] = [zoey_chrom,zoey_start,zoey_end, zoey_strand]\n",
    "    \n",
    "    #write all of this out to bedfile\n",
    "    newBed.write('%s' % LINE)\n",
    "    count += 1\n",
    "\n",
    "    \n",
    "print('Added %i gene coordinates to dictionary and output file' % count)\n",
    "newBed.close()    \n",
    "    "
   ]
  },
  {
   "cell_type": "markdown",
   "metadata": {},
   "source": [
    "# BLAT TO CANFAM3\n",
    "### Reading in the BLAT results against CanFam"
   ]
  },
  {
   "cell_type": "code",
   "execution_count": 146,
   "metadata": {},
   "outputs": [
    {
     "ename": "IndexError",
     "evalue": "list index out of range",
     "output_type": "error",
     "traceback": [
      "\u001b[0;31m---------------------------------------------------------------------------\u001b[0m",
      "\u001b[0;31mIndexError\u001b[0m                                Traceback (most recent call last)",
      "\u001b[0;32m<ipython-input-146-6946653d13af>\u001b[0m in \u001b[0;36m<module>\u001b[0;34m()\u001b[0m\n\u001b[1;32m     24\u001b[0m \u001b[0;34m\u001b[0m\u001b[0m\n\u001b[1;32m     25\u001b[0m         \u001b[0;31m#gene information\u001b[0m\u001b[0;34m\u001b[0m\u001b[0;34m\u001b[0m\u001b[0m\n\u001b[0;32m---> 26\u001b[0;31m         \u001b[0mgeneID\u001b[0m\u001b[0;34m,\u001b[0m \u001b[0mshortgeneID\u001b[0m \u001b[0;34m=\u001b[0m \u001b[0mline\u001b[0m\u001b[0;34m[\u001b[0m\u001b[0;36m13\u001b[0m\u001b[0;34m]\u001b[0m\u001b[0;34m,\u001b[0m \u001b[0mline\u001b[0m\u001b[0;34m[\u001b[0m\u001b[0;36m13\u001b[0m\u001b[0;34m]\u001b[0m\u001b[0;34m.\u001b[0m\u001b[0msplit\u001b[0m\u001b[0;34m(\u001b[0m\u001b[0;34m'::'\u001b[0m\u001b[0;34m)\u001b[0m\u001b[0;34m[\u001b[0m\u001b[0;36m1\u001b[0m\u001b[0;34m]\u001b[0m\u001b[0;34m\u001b[0m\u001b[0m\n\u001b[0m\u001b[1;32m     27\u001b[0m         \u001b[0mgeneLength\u001b[0m \u001b[0;34m=\u001b[0m \u001b[0mint\u001b[0m\u001b[0;34m(\u001b[0m\u001b[0mline\u001b[0m\u001b[0;34m[\u001b[0m\u001b[0;36m14\u001b[0m\u001b[0;34m]\u001b[0m\u001b[0;34m)\u001b[0m\u001b[0;34m\u001b[0m\u001b[0m\n\u001b[1;32m     28\u001b[0m \u001b[0;34m\u001b[0m\u001b[0m\n",
      "\u001b[0;31mIndexError\u001b[0m: list index out of range"
     ]
    }
   ],
   "source": [
    "\"\"\"#Where are all the BLAT results\n",
    "#blatDir = '/home/ampend/links/kidd-lab/ampend-projects/Zoey_Genome_Project/rna-seq/NonRedundant_NoRMIntersect_FilteredGeneSet/BLAT_to_CanFam/'\n",
    "blatDir = '/home/ampend/links/kidd-lab/ampend-projects/Zoey_Genome_Project/rna-seq/NonRedundant_NoRMIntersect_FilteredGeneSet/BLAT_to_CanFam/blat_results/'\n",
    "\n",
    "count = 0 #Keeping track of how many \n",
    "blatDict = {} #To store all of the results from the BLATs\n",
    "\n",
    "#The gene sequences were split into multiple subsets to make the BLAT faster. \n",
    "#Read each blat output file (*psl) in with a loop\n",
    "#for file in glob.glob(blatDir+ 'results/' + 'cds*psl'):\n",
    "for file in glob.glob(blatDir + 'cds*psl'):\n",
    "    if '14500' not in file:\n",
    "        continue\n",
    "        \n",
    "    lineCount = 0\n",
    "    miss = 0\n",
    "    for line in open(file,'r'):\n",
    "        lineCount += 1\n",
    "        #BLAT results don't start until the sixth line in PSL files, so ignore lines above line #6\n",
    "        #if lineCount < 6:\n",
    "        #    continue\n",
    "        line=line.rstrip().split()\n",
    "        hitLength, orient, chrom, start, end = int(line[0]),line[8],line[9],int(line[11]),int(line[12])\n",
    "        \n",
    "        #gene information\n",
    "        geneID, shortgeneID = line[13], line[13].split('::')[1]\n",
    "        geneLength = int(line[14])\n",
    "        \n",
    "        #alignment blocks\n",
    "        blockLengths = line[-3].split(',')\n",
    "        blockSumLength = 0\n",
    "        for b in range(0,len(blockLengths)-1):\n",
    "            blockSumLength = blockSumLength + int(blockLengths[b])\n",
    "   \n",
    "        #Calculate the proportion of the hit as the sum of the blocks that align\n",
    "        propHit = float(blockSumLength)/geneLength\n",
    "        #What type of hit is it? Full/Partial/No hit\n",
    "        if propHit >= 0.9:\n",
    "            hitType = 'Full'\n",
    "        if propHit >= float(1/3) and propHit < 0.9:\n",
    "            hitType = 'Partial'\n",
    "        #Skip the genes that are not aligning with at least a third of their length\n",
    "        if propHit < float(1/3):\n",
    "            hitType = 'No hit'\n",
    "            continue\n",
    "        \n",
    "        #Add to dictionary if not in there\n",
    "        if shortgeneID not in blatDict.keys():\n",
    "            blatDict[shortgeneID] = ['',propHit,chrom,start,end,geneID,orient,hitType,line]\n",
    "            blatDict[shortgeneID][0] = []\n",
    "            #Save first hit automatically as the best hit\n",
    "            topPropHit = propHit\n",
    "        \n",
    "        #Keep track of all proportion of hits\n",
    "        blatDict[shortgeneID][0].append(propHit)\n",
    "\n",
    "        #Save it all to a dictionary\n",
    "        if propHit > topPropHit:\n",
    "            #Redefine the top hit (topPropHit) as propHit's value since it's now larger\n",
    "            topPropHit = propHit\n",
    "            blatDict[shortgeneID][1] = propHit\n",
    "            blatDict[shortgeneID][2] = chrom\n",
    "            blatDict[shortgeneID][3] = start\n",
    "            blatDict[shortgeneID][4] = end\n",
    "            blatDict[shortgeneID][5] = geneID\n",
    "            blatDict[shortgeneID][6] = orient\n",
    "            blatDict[shortgeneID][7] = hitType\n",
    "            blatDict[shortgeneID][8] = line\n",
    "    #break\n",
    "print('Added %i genes to dictionary that at least partially hit (>1/3 of length)' % (len(blatDict.keys())))\n",
    "print('Done')    \"\"\""
   ]
  },
  {
   "cell_type": "code",
   "execution_count": 169,
   "metadata": {},
   "outputs": [
    {
     "name": "stdout",
     "output_type": "stream",
     "text": [
      "Added 24572 genes to dictionary that at least partially hit (>1/3 of length)\n",
      "Done\n"
     ]
    }
   ],
   "source": [
    "#Where the BLAT results located:\n",
    "blatDir = '/home/ampend/links/kidd-lab/ampend-projects/Zoey_Genome_Project/rna-seq/NonRedundant_NoRMIntersect_FilteredGeneSet/BLAT_to_CanFam/blat_results/'\n",
    "\n",
    "blatDict = {} #To store all of the results from the BLATs\n",
    "\n",
    "#The gene sequences were split into multiple subsets to make the BLAT faster. \n",
    "#Read each blat output file (*psl) in with a loop\n",
    "for file in glob.glob(blatDir + 'cds*psl'):\n",
    "    for line in open(file,'r'):\n",
    "        line=line.rstrip().split()\n",
    "        hitLength, orient, chrom, start, end = int(line[0]),line[8],line[13],int(line[14]),int(line[15])\n",
    "        \n",
    "        #gene information\n",
    "        geneID, shortgeneID = line[9], line[9].split('::')[1]\n",
    "        geneLength = int(line[10])\n",
    "        \n",
    "        #alignment blocks\n",
    "        blockLengths = line[-3].split(',')\n",
    "        blockSumLength = 0\n",
    "        for b in range(0,len(blockLengths)-1):\n",
    "            blockSumLength = blockSumLength + int(blockLengths[b])\n",
    "   \n",
    "        #Calculate the proportion of the hit as the sum of the blocks that align\n",
    "        propHit = float(blockSumLength)/geneLength\n",
    "        #What type of hit is it? Full/Partial/No hit\n",
    "        if propHit >= 0.9:\n",
    "            hitType = 'Full'\n",
    "        if propHit >= float(1/3) and propHit < 0.9:\n",
    "            hitType = 'Partial'\n",
    "        #Skip the genes that are not aligning with at least a third of their length\n",
    "        if propHit < float(1/3):\n",
    "            hitType = 'No hit'\n",
    "            continue\n",
    "        \n",
    "        #Add to dictionary if not in there\n",
    "        if shortgeneID not in blatDict.keys():\n",
    "            blatDict[shortgeneID] = ['',propHit,chrom,start,end,geneID,orient,hitType,line]\n",
    "            blatDict[shortgeneID][0] = []\n",
    "            #Save first hit automatically as the best hit\n",
    "            topPropHit = propHit\n",
    "        \n",
    "        #Keep track of all proportion of hits\n",
    "        blatDict[shortgeneID][0].append(propHit)\n",
    "\n",
    "        #Save it all to a dictionary\n",
    "        if propHit > topPropHit:\n",
    "            #Redefine the top hit (topPropHit) as propHit's value since it's now a better alignment\n",
    "            topPropHit = propHit\n",
    "            blatDict[shortgeneID][1] = propHit\n",
    "            blatDict[shortgeneID][2] = chrom\n",
    "            blatDict[shortgeneID][3] = start\n",
    "            blatDict[shortgeneID][4] = end\n",
    "            blatDict[shortgeneID][5] = geneID\n",
    "            blatDict[shortgeneID][6] = orient\n",
    "            blatDict[shortgeneID][7] = hitType\n",
    "            blatDict[shortgeneID][8] = line\n",
    "    #break #for testing first file\n",
    "print('Added %i genes to dictionary that at least partially hit (>1/3 of length)' % (len(blatDict.keys())))\n",
    "print('Done')    "
   ]
  },
  {
   "cell_type": "markdown",
   "metadata": {},
   "source": [
    "# BLAST2GO\n",
    "#### Now that we have read all of the BLAT results into a dictionary. \n",
    "#### We next need to read in the BLAST2GO Data to link genes-function"
   ]
  },
  {
   "cell_type": "code",
   "execution_count": 151,
   "metadata": {},
   "outputs": [
    {
     "name": "stdout",
     "output_type": "stream",
     "text": [
      "Added 24666 BLAST2GO genes into b2GoDict\n"
     ]
    }
   ],
   "source": [
    "blast2GODir = '/home/ampend/links/kidd-lab/ampend-projects/Zoey_Genome_Project/BLAST2GO/BLAST2GO_Results/MERGED_Total/'\n",
    "b2Gofile = blast2GODir + 'Total_BLAST2GO_table.txt'\n",
    "b2GoDict = {}\n",
    "count = 0\n",
    "\n",
    "for line in open(b2Gofile,'r'):\n",
    "    if 'Tags' in line: #Skips header\n",
    "        continue\n",
    "    line=line.rstrip().split('\\t')#split line by tab\n",
    "    count +=1 \n",
    "\n",
    "    #Get the gene ID\n",
    "    if 'scaffold' not in line[2] and 'blat' not in line[2]:\n",
    "        shortID = line[2].split('_')[1]\n",
    "    if 'scaffold' in line[2] or 'blat' in line[2]:\n",
    "        shortID = line[2].split('_')[1] + '_' + line[2].split('_')[2]\n",
    "\n",
    "        \n",
    "    #Column 2 details if the gene has been BLASTED/MAPPED/ANNOTATED\n",
    "    #NO BLAST HIT:\n",
    "    if 'NO-BLAST' in line[1]:\n",
    "        status = 'No BLAST Hit'\n",
    "        b2GoDict[shortID] = [status, '',int(line[4]),'','','','','','', '']\n",
    "        continue\n",
    "    \n",
    "    #ONLY WILL HAVE INFORMATION ABOUT TOP BLAST HIT, NO ANNOTATION INFO\n",
    "    hitDesc, length, hitCount, evalue, sim_mean = line[3], int(line[4]), int(line[5]), line[6], float(line[7]), \n",
    "\n",
    "    if 'BLASTED' in line[1] and 'MAPPED' not in line[1] and 'ANNOTATED' not in line[1]:\n",
    "        status = 'BLAST only'\n",
    "        GOs, GODesc = '', ''\n",
    "    \n",
    "    #WILL HAVE GO INFORMATION FOR THOSE CLASSIFIED AS HAVING BEEN MAPPED AND/OR ANNOTATED\n",
    "    if 'BLASTED' in line[1] and 'MAPPED' in line[1] and 'ANNOTATED' not in line[1]:\n",
    "        status = 'Putative'\n",
    "        GOs, GODesc = line[9], line[10]\n",
    "    if 'ANNOTATED' in line[1]:\n",
    "        status = 'Annotated'\n",
    "        GOs, GODesc = line[9], line[10]\n",
    "        \n",
    "    #Add the enzyme code information for lines that HAVE that information\n",
    "    if 'EC:' in line:\n",
    "        EC, ECDesc = line[9], line[10]\n",
    "    else:\n",
    "        EC, ECDesc = '', ''\n",
    "    \n",
    "    \n",
    "    #CREATE DICTIONARY TO STORE ALL THIS\n",
    "    b2GoDict[shortID] = [status, hitDesc,length,hitCount,evalue,sim_mean,GOs,GODesc,EC, ECDesc]\n",
    "    \n",
    "print('Added %i BLAST2GO genes into b2GoDict' % len(b2GoDict.keys()))\n"
   ]
  },
  {
   "cell_type": "markdown",
   "metadata": {},
   "source": [
    "# Kalisto\n",
    "### Incorporation of expression quantification data"
   ]
  },
  {
   "cell_type": "code",
   "execution_count": 161,
   "metadata": {},
   "outputs": [
    {
     "name": "stdout",
     "output_type": "stream",
     "text": [
      "42 samples processed through Kallisto\n"
     ]
    }
   ],
   "source": [
    "kalDir = '/home/ampend/links/kidd-lab/ampend-projects/Zoey_Genome_Project/rna-seq/Kalisto/'\n",
    "resultsDir = kalDir + 'results/'\n",
    "\n",
    "samplesProcessed = []\n",
    "for files in glob.glob(resultsDir + 'SRR*'):\n",
    "    samplesProcessed.append(files.replace(resultsDir,''))\n",
    "    \n",
    "print('%i samples processed through Kallisto' % len(samplesProcessed))"
   ]
  },
  {
   "cell_type": "code",
   "execution_count": 166,
   "metadata": {},
   "outputs": [
    {
     "name": "stdout",
     "output_type": "stream",
     "text": [
      "42 samples processed\n"
     ]
    }
   ],
   "source": [
    "#CALCULATE STATS AND DRAW PLOTS PER SAMPLE\n",
    "sampleCount = 0\n",
    "\n",
    "tpmDict = {}\n",
    "\n",
    "for sample in samplesProcessed:\n",
    "    tpms = [] #clear per sample\n",
    "    sampleCount += 1\n",
    "    \n",
    "    inFile = resultsDir + sample + '/' + 'abundance.tsv'\n",
    "    for line in open(inFile,'r'):\n",
    "        if 'target_id' in line:\n",
    "            continue\n",
    "        line=line.rstrip().split('\\t')\n",
    "        shortID = line[0].split('::')[1]\n",
    "        tpm = float(line[4])\n",
    "\n",
    "        #if only the first sample, create key for the gene\n",
    "        if sampleCount == 1:\n",
    "            #0 = library expression TPMs, Pass/Fail CD-Hit\n",
    "            tpmDict[shortID] = [[],'Fail','','','','']\n",
    "        #If expressed at tpm > 1, add to dictionary\n",
    "        if tpm > 1.0:\n",
    "            tpmDict[shortID][0].append(tpm) #add TPM to total dictionary      \n",
    "        tpms.append(tpm) #add TPM to per saple array for stats (below)\n",
    "print('%i samples processed' % sampleCount)"
   ]
  },
  {
   "cell_type": "code",
   "execution_count": 167,
   "metadata": {},
   "outputs": [
    {
     "name": "stdout",
     "output_type": "stream",
     "text": [
      "[[5.10648, 7.52636, 5.5407, 11.1552, 19.3872, 1.32424, 17.414, 226.251, 1.60572, 1.65545, 184.701, 1.29266, 11.4023, 23.9484, 1.29205, 5.11234, 1.25175, 22.8769, 7.01007, 3.96775, 2.68321, 18.6196, 21.1695, 1.35946, 20.1831, 210.09, 3.4584, 1.46049, 8.62191], 'Fail', '', '', '', '']\n"
     ]
    }
   ],
   "source": [
    "for gene in geneList:\n",
    "    libraryCount = 0\n",
    "    for i in tpmDict[gene][0]:\n",
    "        if i > 1:\n",
    "            libraryCount += 1\n",
    "    geneDict[gene]['Kalisto_LibrariesExpression'] = libraryCount\n",
    "    if libraryCount > 1:\n",
    "        geneDict[gene]['Expressed_Status'] = 'Expressed'\n",
    "    break"
   ]
  },
  {
   "cell_type": "markdown",
   "metadata": {},
   "source": [
    "## Gene Names --> Gene Symbols\n",
    "#### BLAST2GO  PRO output a GFF file that can be parsed to get the gene symbols"
   ]
  },
  {
   "cell_type": "code",
   "execution_count": 262,
   "metadata": {},
   "outputs": [
    {
     "name": "stdout",
     "output_type": "stream",
     "text": [
      "Added 24475 annotated genes and gene symbols to symbolDict\n"
     ]
    }
   ],
   "source": [
    "gffFile = '/home/ampend/links/kidd-lab/ampend-projects/Zoey_Genome_Project/BLAST2GO/BLAST2GO_Results/MERGED_Total/Total_BLAST2GO.gff'\n",
    "symbolDict = {}\n",
    "\n",
    "for line in open(gffFile,'r'):\n",
    "    if '#' in line: #skip header\n",
    "        continue\n",
    "    line=line.rstrip().split('\\t')\n",
    "    \n",
    "    shortID = line[0].split('_')[1]\n",
    "    \n",
    "    info = line[8].split(';')\n",
    "    \n",
    "    symbolDict[shortID] = []\n",
    "    geneSymbol = shortID #default\n",
    "    \n",
    "    #Dearch the GFF info line if there is a gene Symbol\n",
    "    for i in range(2,len(info)):\n",
    "        if 'Gene' in info[i]:\n",
    "            geneSymbol = info[i].split(' ')[1].replace('\"','')\n",
    "            if '_' in geneSymbol: #these are mostly hypothetical proteins in the other species\n",
    "                continue\n",
    "            #Make all letters upper-case\n",
    "            geneSymbol = geneSymbol.upper()\n",
    "            \n",
    "            #Eliminate those that are not specific. Will add them back if there's nothing else\n",
    "            if 'LOC' in geneSymbol:\n",
    "                continue\n",
    "            if 'A0A' in geneSymbol: #there may be other top gene Symbols you want to look at first\n",
    "                continue\n",
    "            if 'DKFZ' in geneSymbol:\n",
    "                continue\n",
    "\n",
    "            if geneSymbol in symbolDict[shortID]: #Dont add if it's already in there \n",
    "                continue\n",
    "            symbolDict[shortID].append(geneSymbol)\n",
    "    if len(symbolDict[shortID]) == 0:\n",
    "        if geneSymbol != shortID: #If there was something else from the loop above, just go with this instead of the generic gene ID\n",
    "            symbolDict[shortID].append(geneSymbol) #even if it has a _ in the name\n",
    "            continue\n",
    "        else: #If no other symbols were available for this locus, then just name the gene the last gene Symbol given to the gene\n",
    "            geneSymbol = shortID\n",
    "            symbolDict[shortID].append(geneSymbol)\n",
    "\n",
    "    #For testing:\n",
    "    \"\"\"if len(symbolDict.keys()) > 29:\n",
    "        break\"\"\"\n",
    "print('Added %i annotated genes and gene symbols to symbolDict' % len(symbolDict.keys()))\n",
    "\n",
    "\n"
   ]
  },
  {
   "cell_type": "markdown",
   "metadata": {},
   "source": [
    "# Integrate the Mapping Data, Novelty Status (hits to CanFam), and Annotations (BLAST2GO) into one large datafile"
   ]
  },
  {
   "cell_type": "code",
   "execution_count": 263,
   "metadata": {},
   "outputs": [
    {
     "name": "stdout",
     "output_type": "stream",
     "text": [
      "Added 24667 genes to the final, total dictionary (geneDict) \n"
     ]
    }
   ],
   "source": [
    "geneDict = {}\n",
    "\n",
    "for gene in geneList:\n",
    "    geneDict[gene] = {}\n",
    "\n",
    "      \n",
    "    #Get Zoey coordinates for gene\n",
    "    if gene in zoeyCoordDict.keys():\n",
    "        geneDict[gene]['Zoey_Chrom'] = zoeyCoordDict[gene][0]\n",
    "        geneDict[gene]['Zoey_Start'] = zoeyCoordDict[gene][1]\n",
    "        geneDict[gene]['Zoey_End'] = zoeyCoordDict[gene][2]\n",
    "        geneDict[gene]['Zoey_Strand'] = zoeyCoordDict[gene][3]\n",
    "    else:\n",
    "        print('ERROR CHECK: Why is this not in Zoeys dictionary?')\n",
    "    \n",
    "    #Get CANFAM BLAT INFORMATION\n",
    "    if gene in blatDict.keys():\n",
    "        geneDict[gene]['FullGeneID'] = blatDict[gene][5]\n",
    "        geneDict[gene]['CanFam_AlignmentStatus'] = blatDict[gene][7]\n",
    "        geneDict[gene]['CanFam_Chrom'] = blatDict[gene][2]\n",
    "        geneDict[gene]['CanFam_Start'] = blatDict[gene][3]\n",
    "        geneDict[gene]['CanFam_End'] = blatDict[gene][4]\n",
    "        geneDict[gene]['CanFam_PropAlign'] = blatDict[gene][1]\n",
    "        geneDict[gene]['CanFam_Strand'] = blatDict[gene][2]\n",
    "    else:\n",
    "        geneDict[gene]['FullGeneID'] = ''\n",
    "        geneDict[gene]['CanFam_AlignmentStatus'] = 'No hit'\n",
    "        geneDict[gene]['CanFam_Chrom'] = ''\n",
    "        geneDict[gene]['CanFam_Start'] = ''\n",
    "        geneDict[gene]['CanFam_End'] = ''\n",
    "        geneDict[gene]['CanFam_PropAlign'] = ''\n",
    "        geneDict[gene]['CanFam_Strand'] = ''      \n",
    "    \n",
    "    #Get Annotation information, if available\n",
    "    if gene in b2GoDict.keys():\n",
    "        #b2GoDict[shortID] = [status, hitDesc,length,hitCount,evalue,sim_mean,GOs,GODesc,EC, ECDesc]\n",
    "        geneDict[gene]['B2GO_Status'] = b2GoDict[gene][0]\n",
    "        geneDict[gene]['B2GO_TopHitDesc'] = b2GoDict[gene][1]\n",
    "        geneDict[gene]['GeneLength'] = b2GoDict[gene][2]\n",
    "        geneDict[gene]['B2GO_HitCount'] = b2GoDict[gene][3]\n",
    "        geneDict[gene]['B2GO_HitEvalue'] = b2GoDict[gene][4]\n",
    "        geneDict[gene]['B2GO_MeanHitSimilarity'] = b2GoDict[gene][5]\n",
    "        geneDict[gene]['B2GO_GOs'] = b2GoDict[gene][6]\n",
    "        geneDict[gene]['B2GO_GOsDesc'] = b2GoDict[gene][7]\n",
    "        geneDict[gene]['B2GO_EnzymeCode'] = b2GoDict[gene][8]\n",
    "        geneDict[gene]['B2GO_EnzymeCodeDesc'] = b2GoDict[gene][9]\n",
    "    else:\n",
    "        geneDict[gene]['B2GO_Status'] = ''\n",
    "        geneDict[gene]['B2GO_TopHitDesc'] = ''\n",
    "        geneDict[gene]['GeneLength'] = ''\n",
    "        geneDict[gene]['B2GO_HitCount'] = ''\n",
    "        geneDict[gene]['B2GO_HitEvalue'] = ''\n",
    "        geneDict[gene]['B2GO_MeanHitSimilarity'] = ''\n",
    "        geneDict[gene]['B2GO_GOs'] = ''\n",
    "        geneDict[gene]['B2GO_GOsDesc'] = ''\n",
    "        geneDict[gene]['B2GO_EnzymeCode'] = ''\n",
    "        geneDict[gene]['B2GO_EnzymeCodeDesc'] = ''        \n",
    "\n",
    "    #EXPRESSION DATA = KALISTO\n",
    "    libraryCount = 0\n",
    "    for i in tpmDict[gene][0]:\n",
    "        if i > 1:\n",
    "            libraryCount += 1\n",
    "    geneDict[gene]['Kalisto_LibrariesExpression'] = libraryCount\n",
    "    if libraryCount > 1:\n",
    "        geneDict[gene]['Kalisto_ExpressionStatus'] = 'Expressed'\n",
    "    else:\n",
    "        geneDict[gene]['Kalisto_ExpressionStatus'] = 'Not Expressed'\n",
    "    \n",
    "    #GENE SYMBOLS = BLAST2GO GFF OUTPUT FILE\n",
    "    if gene in symbolDict.keys():\n",
    "        geneDict[gene]['B2GO_GeneSymbol'] = ', '.join(symbolDict[gene])\n",
    "    else:\n",
    "        geneDict[gene]['B2GO_GeneSymbol'] = gene\n",
    "\n",
    "        \n",
    "print('Added %i genes to the final, total dictionary (geneDict) ' % len(geneDict.keys()))\n",
    "    \n"
   ]
  },
  {
   "cell_type": "markdown",
   "metadata": {},
   "source": [
    "#### Write the dictionary to an outfile with header line"
   ]
  },
  {
   "cell_type": "code",
   "execution_count": 264,
   "metadata": {},
   "outputs": [],
   "source": [
    "dataOrder = ['Zoey_Chrom','Zoey_Start','Zoey_End','Zoey_Strand','GeneLength',\n",
    "            'CanFam_AlignmentStatus','CanFam_Chrom','CanFam_Start','CanFam_End','CanFam_Strand','CanFam_PropAlign',\n",
    "            'B2GO_Status','B2GO_GeneSymbol','B2GO_TopHitDesc','B2GO_HitCount','B2GO_HitEvalue','B2GO_MeanHitSimilarity',\n",
    "            'B2GO_GOs','B2GO_GOsDesc','B2GO_EnzymeCode','B2GO_EnzymeCodeDesc',\n",
    "             'Kalisto_ExpressionStatus','Kalisto_LibrariesExpression']\n",
    "\n",
    "#OUTFILE:\n",
    "geneOutfile = open(finalDir + 'FinalDeNovoGenes_ZoeyCoord_CanfamCoord_BLAST2GO.txt','w')\n",
    "\n",
    "#What are the headers for each column? Use array above\n",
    "headerLine = []\n",
    "headerLine.append('ShortGeneID')\n",
    "for dataColumn in dataOrder:\n",
    "    headerLine.append(dataColumn)\n",
    "geneOutfile.write('\\t'.join(headerLine) + '\\n')\n",
    "    \n",
    "for gene in geneDict.keys():\n",
    "    data = []\n",
    "    data.append(gene)\n",
    "    for dataColumn in dataOrder:\n",
    "        data.append(str(geneDict[gene][dataColumn]))\n",
    "    geneOutfile.write('\\t'.join(data) + '\\n')\n",
    "    \n",
    "geneOutfile.close()"
   ]
  },
  {
   "cell_type": "code",
   "execution_count": 100,
   "metadata": {},
   "outputs": [],
   "source": [
    "################################################################################################\n",
    "################################################################################################"
   ]
  },
  {
   "cell_type": "markdown",
   "metadata": {},
   "source": [
    "# Descriptive Stats"
   ]
  },
  {
   "cell_type": "code",
   "execution_count": 160,
   "metadata": {},
   "outputs": [
    {
     "name": "stdout",
     "output_type": "stream",
     "text": [
      "pleckstrin homology-like domain family A member 3 chr7 1432189 1435670\n",
      "inositol polyphosphate multikinase isoform X2 chr4 10641132 10701629\n",
      "N-myc proto-oncogene protein chr17 11707594 11709897\n",
      "NF-kappa-B inhibitor epsilon chr12 12677108 12680230\n",
      "Krueppel-like factor 13 chr3 37539800 37590825\n",
      "twist-related protein 1 chr14 33412636 33414301\n",
      "E3 ubiquitin-protein ligase RNF149 chr10 42202755 42228971\n",
      "olfactory receptor 51F2-like chr21 27107585 27112328\n",
      "transmembrane protein 186 chr6 33376147 33378245\n",
      "pleckstrin homology domain-containing family M member 1 chr9 10913426 10960713\n",
      "transcriptional repressor scratch 1 chr13 37929168 37933153\n",
      "tail-anchored protein insertion receptor WRB isoform X2 chr31 33528128 33538722\n",
      "peroxisomal N(1)-acetyl-spermine/spermidine oxidase chr28 41076531 41087693\n",
      "transcription factor HES-1 chr23 52667361 52670001\n",
      "serine/threonine-protein kinase LMTK3 chr1 107962668 107982004\n",
      "amino-terminal enhancer of split isoform X1 chr20 55903906 55912933\n",
      "calcineurin B homologous protein 2 chr6 22072358 22076573\n",
      "forkhead box protein Q1 chr35 1687529 1689802\n",
      "probable G-protein coupled receptor 27 chr20 19994030 19995848\n",
      "uncharacterized membrane protein C19orf24 homolog chr20 57317971 57319581\n",
      "homeobox protein Nkx-2.1 isoform X2 chr8 14895924 14899860\n",
      "disks large-associated protein 3 chr15 7122337 7124451\n",
      "transmembrane protein 145 chr1 112234913 112235922\n",
      "potassium voltage-gated channel subfamily C member 3 chr1 106549027 106564754\n",
      "DNA-binding protein inhibitor ID-2 chr17 5947862 5950411\n",
      "UPF0450 protein C17orf58 homolog isoform X3 chr9 13188518 13195604\n",
      "cyclin-dependent kinase inhibitor 1C chr18 46985893 46988423\n",
      "Krueppel-like factor 2 chr20 45905623 45907361\n",
      "mitochondrial glutamate carrier 1 chr18 25902572 25907325\n",
      "Krueppel-like factor 2 chr20 45904826 45907388\n",
      "E3 SUMO-protein ligase KIAA1586 homolog isoform X1 chr12 24256576 24266845\n",
      "count sum =  95\n"
     ]
    },
    {
     "data": {
      "image/png": "[encoded data removed]",
      "text/plain": [
       "<Figure size 432x288 with 1 Axes>"
      ]
     },
     "metadata": {},
     "output_type": "display_data"
    }
   ],
   "source": [
    "NoB2GO, BlastOnly, MappedOnly, Annotated = 0,0,0,0\n",
    "for gene in geneDict.keys():\n",
    "    if 'No hit' in geneDict[gene]['CanFam_AlignmentStatus']:\n",
    "        if geneDict[gene]['B2GO_Status'] == 'No BLAST Hit':\n",
    "            NoB2GO += 1\n",
    "            continue\n",
    "        if geneDict[gene]['B2GO_Status'] == 'BLAST only':\n",
    "            BlastOnly += 1\n",
    "            continue\n",
    "        if geneDict[gene]['B2GO_Status'] == 'Putative':\n",
    "            MappedOnly += 1\n",
    "            continue\n",
    "        if geneDict[gene]['B2GO_Status'] == 'Annotated':\n",
    "            Annotated += 1\n",
    "            print(geneDict[gene]['B2GO_TopHitDesc'],geneDict[gene]['Zoey_Chrom'],geneDict[gene]['Zoey_Start'],geneDict[gene]['Zoey_End'])\n",
    "            continue\n",
    "        else:\n",
    "            print('ERROR: What else is there?')\n",
    "            print(gene,geneDict[gene])\n",
    "print('count sum = ', (NoB2GO + BlastOnly + MappedOnly+ Annotated))\n",
    "            \n",
    "#Make pie chart\n",
    "labels = 'No BLAST Hit', 'BLAST Hit Only', 'Putative', 'Annotated'\n",
    "sizes = [NoB2GO, BlastOnly, MappedOnly, Annotated]\n",
    "colors = ['gold', 'yellowgreen', 'lightcoral', 'lightskyblue']\n",
    "explode = (0, 0, 0, 0.1)  # explode 4th slice\n",
    "# Plot\n",
    "plt.pie(sizes, explode=explode, labels=labels, colors=colors,\n",
    "        autopct='%1.1f%%', shadow=True, startangle=140)\n",
    "plt.title('Annotation status of Genes with No CanFam Alignment', fontweight='bold') \n",
    "plt.axis('equal')\n",
    "plt.show()"
   ]
  },
  {
   "cell_type": "code",
   "execution_count": null,
   "metadata": {},
   "outputs": [],
   "source": []
  }
 ],
 "metadata": {
  "kernelspec": {
   "display_name": "Python 3",
   "language": "python",
   "name": "python3"
  },
  "language_info": {
   "codemirror_mode": {
    "name": "ipython",
    "version": 3
   },
   "file_extension": ".py",
   "mimetype": "text/x-python",
   "name": "python",
   "nbconvert_exporter": "python",
   "pygments_lexer": "ipython3",
   "version": "3.5.4"
  }
 },
 "nbformat": 4,
 "nbformat_minor": 2
}
