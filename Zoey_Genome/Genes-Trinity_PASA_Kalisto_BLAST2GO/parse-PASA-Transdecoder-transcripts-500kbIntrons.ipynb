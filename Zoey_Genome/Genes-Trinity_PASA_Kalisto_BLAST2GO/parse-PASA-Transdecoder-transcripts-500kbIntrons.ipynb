{
 "cells": [
  {
   "cell_type": "code",
   "execution_count": 1,
   "metadata": {},
   "outputs": [],
   "source": [
    "# 2018-09-18\n",
    "# A. Pendleton\n",
    "# Removal of duplicate PASA transcripts that have been processed through Transdecoder\n",
    "#    and generating the resulting FASTA file with only the transcripts that passed"
   ]
  },
  {
   "cell_type": "code",
   "execution_count": 2,
   "metadata": {},
   "outputs": [],
   "source": [
    "#this uses iPython magic to make plots appear inline\n",
    "%matplotlib inline\n",
    "import matplotlib.pyplot as plt\n",
    "import pandas as pd\n",
    "import subprocess\n",
    "import sys\n",
    "import numpy as np\n",
    "import matplotlib.patches as patches\n",
    "import gzip\n",
    "import fileinput\n",
    "import glob\n",
    "from scipy import stats\n",
    "import re\n",
    "from matplotlib_venn import venn3, venn3_circles\n",
    "from collections import OrderedDict\n",
    "\n",
    "\n",
    "def count_lines(f):\n",
    "    lineCount = 0\n",
    "    with open(f, 'r') as f:\n",
    "        for line in f:\n",
    "            lineCount += 1\n",
    "        return lineCount\n",
    "def runCMD(cmd):\n",
    "    val = subprocess.Popen(cmd, shell=True).wait()\n",
    "    if val == 0:\n",
    "        pass\n",
    "    else:\n",
    "        print ('command failed')\n",
    "        print (cmd)\n",
    "        sys.exit(1)\n",
    "# TO REMOVE TOP AND RIGHT AXIS OF PLOTS\n",
    "def simpleaxis(ax):\n",
    "    ax.spines['top'].set_visible(False)\n",
    "    ax.spines['right'].set_visible(False)\n",
    "    ax.get_xaxis().tick_bottom()\n",
    "    ax.get_yaxis().tick_left()"
   ]
  },
  {
   "cell_type": "code",
   "execution_count": 3,
   "metadata": {},
   "outputs": [],
   "source": [
    "###INPUT INFORMATION\n",
    "#For testing\n",
    "baseDir = '/home/ampend/links/kidd-lab/ampend-projects/Zoey_Genome_Project/rna-seq/version3_intron500k/'\n",
    "\n",
    "inDir = '/home/ampend/links/kidd-lab/ampend-projects/Zoey_Genome_Project/rna-seq/version3_intron500k/transdecoder/results/'\n",
    "\n",
    "bed_inFile = inDir + 'pasa-lite_ZoeyTrinity.pasa_assembled_alignments.fa.transdecoder.genome.bed'\n"
   ]
  },
  {
   "cell_type": "markdown",
   "metadata": {},
   "source": [
    "# Get Transdecoder results"
   ]
  },
  {
   "cell_type": "code",
   "execution_count": 4,
   "metadata": {},
   "outputs": [
    {
     "name": "stdout",
     "output_type": "stream",
     "text": [
      "Parsing:  /home/ampend/links/kidd-lab/ampend-projects/Zoey_Genome_Project/rna-seq/version3_intron500k/transdecoder/results/pasa-lite_ZoeyTrinity.pasa_assembled_alignments.fa.transdecoder.pep\n",
      "138107 transcripts added\n"
     ]
    }
   ],
   "source": [
    "pepFile = inDir + 'pasa-lite_ZoeyTrinity.pasa_assembled_alignments.fa.transdecoder.pep'\n",
    "print('Parsing: ', pepFile)\n",
    "\n",
    "pepDict = {}\n",
    "\n",
    "for line in open(pepFile,'r'):\n",
    "    line=line.rstrip().split(' ')\n",
    "    if '>' not in line[0]:\n",
    "        continue\n",
    "    ID = line[1]\n",
    "    orfType = line[4].split(':')[1]\n",
    "    length = int(line[5].split(':')[1])\n",
    "    orient = line[6].split(',')[0].replace('(','').replace(')','')\n",
    "    score = float(line[6].split('=')[1])\n",
    "\n",
    "    pepDict[ID] = {}\n",
    "    pepDict[ID]['orfType'] = orfType\n",
    "    pepDict[ID]['length'] = length\n",
    "    pepDict[ID]['orient'] = orient\n",
    "    pepDict[ID]['score'] = score\n",
    "    \n",
    "print('%i transcripts added' % len(pepDict.keys()))\n",
    "\n"
   ]
  },
  {
   "cell_type": "code",
   "execution_count": null,
   "metadata": {},
   "outputs": [],
   "source": [
    "# 100k introns had 138073 transcripts added\n",
    "# 500k introns had 138107 transcripts added\n"
   ]
  },
  {
   "cell_type": "markdown",
   "metadata": {},
   "source": [
    "### Plot transdecoder transcript status"
   ]
  },
  {
   "cell_type": "code",
   "execution_count": 6,
   "metadata": {},
   "outputs": [
    {
     "name": "stdout",
     "output_type": "stream",
     "text": [
      "count sum = (3prime_partial, 5prime_partial, internal, complete ) (9925, 32477, 83164, 12541)\n"
     ]
    },
    {
     "data": {
      "image/png": "[encoded data removed]",
      "text/plain": [
       "<Figure size 432x288 with 1 Axes>"
      ]
     },
     "metadata": {},
     "output_type": "display_data"
    }
   ],
   "source": [
    "threeprime,fiveprime,internal,complete = 0, 0, 0, 0\n",
    "\n",
    "for gene in pepDict.keys():    \n",
    "    if pepDict[gene]['orfType'] == '3prime_partial':\n",
    "        threeprime += 1\n",
    "        continue\n",
    "    if pepDict[gene]['orfType'] == '5prime_partial':\n",
    "        fiveprime += 1\n",
    "        continue\n",
    "    if pepDict[gene]['orfType'] == 'complete':\n",
    "        internal += 1\n",
    "        continue\n",
    "    if pepDict[gene]['orfType'] == 'internal':\n",
    "        complete += 1\n",
    "        continue\n",
    "    else:\n",
    "        print('ERROR: What else is there?')\n",
    "        print(gene,pepDict[gene])\n",
    "\n",
    "print('count sum = (3prime_partial, 5prime_partial, internal, complete )', (threeprime, fiveprime, internal, complete))\n",
    "\n",
    "\n",
    "#Make pie chart\n",
    "labels = '3\\' partial', '5\\' partial', 'Internal', 'Complete'\n",
    "sizes = [threeprime, fiveprime, internal, complete]\n",
    "colors = ['gold', 'lightcoral', 'lightskyblue', 'lightgreen']\n",
    "explode = (0, 0, 0, 0.4)  # explode 1st slice\n",
    "# Plot\n",
    "plt.pie(sizes, explode=explode, labels=labels, colors=colors,\n",
    "        autopct='%1.1f%%', shadow=True, startangle=320)\n",
    "plt.title('Transdecoder Status of ALL De Novo Genes', fontweight='bold') \n",
    "plt.axis('equal')\n",
    "plt.show()"
   ]
  },
  {
   "cell_type": "markdown",
   "metadata": {},
   "source": [
    "### Plot transdecoder transcript length histograms"
   ]
  },
  {
   "cell_type": "code",
   "execution_count": 7,
   "metadata": {},
   "outputs": [
    {
     "name": "stdout",
     "output_type": "stream",
     "text": [
      "Min/max of peptide lengths (aa) =  100 10563\n",
      "Average peptide lengths (aa) =  364.925919758\n",
      "Median of peptide lengths (aa) =  216.0\n"
     ]
    },
    {
     "data": {
      "image/png": "[encoded data removed]",
      "text/plain": [
       "<Figure size 432x288 with 1 Axes>"
      ]
     },
     "metadata": {},
     "output_type": "display_data"
    }
   ],
   "source": [
    "lengths = []\n",
    "\n",
    "for gene in pepDict.keys():\n",
    "    lengths.append(pepDict[gene]['length'])\n",
    "    \n",
    "plt.hist(lengths,bins=100)\n",
    "plt.tight_layout()\n",
    "plt.title('Transcript length of ALL Transdecoder transcripts')\n",
    "plt.xlabel('Length (aa)')\n",
    "plt.ylabel('Count')\n",
    "plt.show\n",
    "\n",
    "plt.hist(lengths,bins=100)\n",
    "plt.tight_layout()\n",
    "plt.title('Transcript length of ALL Transdecoder transcripts (Zoom)')\n",
    "plt.xlabel('Length (aa)')\n",
    "plt.ylabel('Count')\n",
    "plt.xlim(0,4000)\n",
    "plt.show\n",
    "\n",
    "print('Min/max of peptide lengths (aa) = ', min(lengths), max(lengths))\n",
    "print('Average peptide lengths (aa) = ', np.mean(lengths))\n",
    "print('Median of peptide lengths (aa) = ', np.median(lengths))"
   ]
  },
  {
   "cell_type": "markdown",
   "metadata": {},
   "source": [
    "# Read in transcript ID data into dictionary"
   ]
  },
  {
   "cell_type": "markdown",
   "metadata": {},
   "source": [
    "### This step simply saves the coordinates and other information into a dictionary that can later be pulled out only for the gene models with the highest score (determined one cell down)"
   ]
  },
  {
   "cell_type": "code",
   "execution_count": 93,
   "metadata": {},
   "outputs": [
    {
     "name": "stdout",
     "output_type": "stream",
     "text": [
      "62079 genes added to dictionary\n",
      "199841 transcripts processed\n",
      "130960 genes added to FULL Dictionary where keys are the full length ID\n",
      "dupes =  68881\n"
     ]
    }
   ],
   "source": [
    "geneDict = {}\n",
    "fullDict = {}\n",
    "processed = []\n",
    "transcript_count, dupes = 0, 0\n",
    "\n",
    "for LINE in open(bed_inFile, 'r'):\n",
    "    line=LINE.rstrip().split()\n",
    "    if 'track' in line[0]: #skip header\n",
    "        continue\n",
    "    #Read in information on gene\n",
    "    chrom = line[0]\n",
    "\n",
    "    #Keep track of how many have been processed\n",
    "    transcript_count += 1\n",
    "    fullID = line[3]\n",
    "    geneID = line[3].split(';')[1]\n",
    "\n",
    "    ID = line[3].replace('ID=','').split(';')[0]\n",
    "\n",
    "    exonCount = int(line[9])\n",
    "    exonLengths = line[10]\n",
    "    #If geneID not already in dictionary, then add\n",
    "    if geneID not in geneDict.keys():\n",
    "        geneDict[geneID] = []\n",
    "    geneDict[geneID].append([fullID, exonCount, exonLengths])\n",
    "    \n",
    "    if ID in fullDict.keys():\n",
    "        dupes+=1\n",
    "        continue\n",
    "    line[3] = line[3].replace('ID=','')\n",
    "    fullDict[ID] = [line]\n",
    "print('%i genes added to dictionary' % len(geneDict.keys()))\n",
    "print('%i transcripts processed' % transcript_count)\n",
    "print('%i genes added to FULL Dictionary where keys are the full length ID' % len(fullDict.keys()))\n",
    "print('dupes = ', dupes)"
   ]
  },
  {
   "cell_type": "markdown",
   "metadata": {},
   "source": [
    "### This step goes through the transdecoder peptide file and looks through each gene model for the model with the highest score. If a higher score is found, it replaces the gene model that previously had the highest score. \n",
    "\n",
    "#### Importantly, this step also skips over peptides that were not deemed as 'complete' gene models by transdecoder (e.g. skips over the 5' or 3' partial models). "
   ]
  },
  {
   "cell_type": "code",
   "execution_count": 94,
   "metadata": {},
   "outputs": [
    {
     "name": "stdout",
     "output_type": "stream",
     "text": [
      "61877 transcripts with highest score added to the dictionary\n",
      "{'score': 1024.15, 'fullID': 'Gene.267788::chr3.g10348.i2::g.267788::m.267788', 'transcriptID': 'Gene.267788::chr3.g10348.i2::g.267788', 'length': 4902, 'orftype': '5prime_partial'}\n",
      "{'allTypes': ['5prime_partial', 'complete', 'complete', 'complete', '3prime_partial', 'complete', 'complete', 'complete', '3prime_partial', '5prime_partial', '3prime_partial', '3prime_partial', '3prime_partial', '5prime_partial', '5prime_partial', '5prime_partial', '5prime_partial', 'complete', 'complete', 'complete'], 'allscores': [957.36, 166.98, 221.02, 153.3, 167.13, 39.39, 166.98, 155.03, 81.86, 1024.15, 53.22, 36.18, 684.62, 1023.62, 1023.69, 1023.15, 805.71, 22.35, 153.3, 222.75], 'alllengths': [4693, 931, 1089, 817, 829, 231, 931, 854, 387, 4902, 243, 168, 3330, 4897, 4901, 4896, 3893, 156, 817, 1126]}\n"
     ]
    }
   ],
   "source": [
    "peptideFile = inDir + 'pasa-lite_ZoeyTrinity.pasa_assembled_alignments.fa.transdecoder.pep'\n",
    "scoreDict = {} #Only keep top scorer\n",
    "allDict = {}  #Keep data for all\n",
    "\n",
    "\n",
    "for line in open(peptideFile,'r'):\n",
    "    if '>' not in line: #skip those not a gene identifier\n",
    "        continue\n",
    "    \"\"\"if 'TCONS' in line: #not mapped\n",
    "        continue\"\"\"\n",
    "    \"\"\"if 'complete' not in line: #only want the complete gene models\n",
    "        continue\"\"\"\n",
    "    fullID = line.rstrip().split(' ')[0].replace('>','')\n",
    "    line = line.rstrip().split(' ')\n",
    "    transcriptID = line[1] ### VERY SPECIFIC\n",
    "    #gene ID = transcript ID if 'TCONS' is in line\n",
    "    if 'TCONS' in line[1]:\n",
    "        geneID = transcriptID\n",
    "    else:\n",
    "        geneID = line[1].split('::')[1].split('.')[0] + '.' + line[1].split('::')[1].split('.')[1] ### NON SPECIFIC -- CAN BE REDUNDANT\n",
    "\n",
    "    transcriptID = line[1] #line[4]\n",
    "    score = float(line[6].split('=')[1])  ###SCORE\n",
    "    Length = int(line[5].split(':')[1])\n",
    "    Type = line[4].split(':')[1]\n",
    "\n",
    "    \n",
    "    if geneID not in scoreDict.keys():\n",
    "        scoreDict[geneID] = {} #First appearance of geneID automatically top scorer\n",
    "        scoreDict[geneID]['transcriptID'] = transcriptID\n",
    "        scoreDict[geneID]['score'] = score\n",
    "        scoreDict[geneID]['fullID'] = fullID\n",
    "        scoreDict[geneID]['orftype'] = Type\n",
    "        scoreDict[geneID]['length'] = Length\n",
    "\n",
    "    if geneID not in allDict.keys():\n",
    "        #CLEAR FOR STORING ALL INFO PER GENE, NOT JUST TOP\n",
    "        allDict[geneID] = {}\n",
    "        allDict[geneID]['allscores'] = []\n",
    "        allDict[geneID]['alllengths'] = []\n",
    "        allDict[geneID]['allTypes'] = []\n",
    "        \n",
    "    if score > scoreDict[geneID]['score']:\n",
    "        scoreDict[geneID]['transcriptID'] = transcriptID\n",
    "        scoreDict[geneID]['score'] = score\n",
    "        scoreDict[geneID]['fullID'] = fullID  \n",
    "        scoreDict[geneID]['orftype'] = Type\n",
    "        scoreDict[geneID]['length'] = Length\n",
    "    #STORE FOR ALL\n",
    "    allDict[geneID]['allscores'].append(score)\n",
    "    allDict[geneID]['alllengths'].append(Length)\n",
    "    allDict[geneID]['allTypes'].append(Type)  \n",
    "    \n",
    "print('%i transcripts with highest score added to the dictionary' % len(scoreDict.keys()))\n",
    "\n",
    "print(scoreDict['chr3.g10348'])\n",
    "print(allDict['chr3.g10348'])"
   ]
  },
  {
   "cell_type": "code",
   "execution_count": 69,
   "metadata": {},
   "outputs": [
    {
     "data": {
      "image/png": "[encoded data removed]",
      "text/plain": [
       "<Figure size 432x288 with 1 Axes>"
      ]
     },
     "metadata": {},
     "output_type": "display_data"
    },
    {
     "data": {
      "text/plain": [
       "<Figure size 432x288 with 0 Axes>"
      ]
     },
     "metadata": {},
     "output_type": "display_data"
    }
   ],
   "source": [
    "count = 0\n",
    "for geneID in allDict.keys():\n",
    "    if 'chr3.g10348' not in geneID:\n",
    "        continue\n",
    "    if len(allDict[geneID]['alllengths']) < 4:\n",
    "        continue\n",
    "    count += 1\n",
    "    plt.scatter(allDict[geneID]['allscores'],allDict[geneID]['alllengths'])\n",
    "    plt.title('%s' % geneID)\n",
    "    plt.show()\n",
    "    plt.gcf().clear()\n",
    "    \n",
    "    if count > 15:\n",
    "        break"
   ]
  },
  {
   "cell_type": "markdown",
   "metadata": {},
   "source": [
    "## Generate output BED file with the non-redundant gene models"
   ]
  },
  {
   "cell_type": "code",
   "execution_count": 95,
   "metadata": {},
   "outputs": [
    {
     "name": "stdout",
     "output_type": "stream",
     "text": [
      "/home/ampend/links/kidd-lab/ampend-projects/Zoey_Genome_Project/rna-seq/version3_intron500k/transdecoder/results/\n",
      "/home/ampend/links/kidd-lab/ampend-projects/Zoey_Genome_Project/rna-seq/version3_intron500k/transdecoder/results/HighestScoringTranscripts_IDs.bed\n",
      "mkdir -p /home/ampend/links/kidd-lab/ampend-projects/Zoey_Genome_Project/rna-seq/version3_intron500k/transdecoder/results/../ReducedGeneFiles_NoRedudant\n",
      "mkdir -p /home/ampend/links/kidd-lab/ampend-projects/Zoey_Genome_Project/rna-seq/version3_intron500k/transdecoder/results/../ReducedGeneFiles_NoRedudant/IntersectWithRepeatElements/\n",
      "59768 of the highest scoring genes added\n",
      "\t40560 of which are single exons\n",
      "Reduced from 130960 transcripts\n",
      "2109 are missing\n"
     ]
    }
   ],
   "source": [
    "#Make BED file with just the transcript IDs that have the highest score\n",
    "print(inDir)\n",
    "outfile = inDir + 'HighestScoringTranscripts_IDs.bed'\n",
    "outFile = open(outfile,'w')\n",
    "print(outfile)\n",
    "\n",
    "#Make directories\n",
    "cmd = 'mkdir -p %s../ReducedGeneFiles_NoRedudant' % inDir\n",
    "print(cmd)\n",
    "runCMD(cmd)\n",
    "#make outdir\n",
    "outDir = '%s../ReducedGeneFiles_NoRedudant/IntersectWithRepeatElements/' % inDir\n",
    "cmd = 'mkdir -p %s' % outDir #conditionally make this output directory\n",
    "print(cmd)\n",
    "runCMD(cmd)\n",
    "\n",
    "singleExonFile = open(outDir + 'singleExons_highestscoringtranscripts.bed','w')\n",
    "nonSingleExonFile = open(outDir + '../multiExons_highestscoringtranscripts.bed','w')\n",
    "nonSingleExonIDFile = open(outDir + '../multiExons_highestscoringtranscripts_IDs.txt','w')\n",
    "\n",
    "missing=[]\n",
    "added,singleExon = 0, 0\n",
    "for key in scoreDict.keys():\n",
    "    \"\"\"if 'chr3.g10348' not in key:\n",
    "        continue\"\"\"\n",
    "    topHit = scoreDict[key]['fullID']\n",
    "    if topHit not in fullDict.keys():\n",
    "        missing.append(key)\n",
    "        continue\n",
    "    info = fullDict[topHit]\n",
    "    \n",
    "    for i in info:\n",
    "        outFile.write('\\t'.join(i) + '\\n')\n",
    "        added+=1\n",
    "        exonCount = int(i[9])\n",
    "        if exonCount == 1:\n",
    "            singleExonFile.write('\\t'.join(i) + '\\n')\n",
    "            singleExon += 1\n",
    "        else:\n",
    "            nonSingleExonFile.write('\\t'.join(i) + '\\n')\n",
    "            nonSingleExonIDFile.write('%s\\n' % i[3].split(';')[0].replace('ID=',''))\n",
    "outFile.close()\n",
    "singleExonFile.close()\n",
    "nonSingleExonFile.close()\n",
    "nonSingleExonIDFile.close()\n",
    "\n",
    "#STATS\n",
    "print('%i of the highest scoring genes added' % added)\n",
    "print('\\t%i of which are single exons' % singleExon)\n",
    "print('Reduced from %i transcripts' % len(fullDict.keys()))\n",
    "print('%i are missing' % len(missing))"
   ]
  },
  {
   "cell_type": "code",
   "execution_count": 96,
   "metadata": {},
   "outputs": [
    {
     "data": {
      "text/plain": [
       "['chr24.g12075',\n",
       " 'chr34.g1204',\n",
       " 'chr18.g16497',\n",
       " 'chr15.g17075',\n",
       " 'chr9.g16090',\n",
       " 'chr16.g1716',\n",
       " 'chr1.g4229',\n",
       " 'chr2.g17917',\n",
       " 'chr2.g13283',\n",
       " 'chr13.g9982']"
      ]
     },
     "execution_count": 96,
     "metadata": {},
     "output_type": "execute_result"
    }
   ],
   "source": [
    "missing[0:10]"
   ]
  },
  {
   "cell_type": "markdown",
   "metadata": {},
   "source": [
    "### Intersect the single exons with LINEs -- to eliminate those that correspond\n",
    "\n"
   ]
  },
  {
   "cell_type": "code",
   "execution_count": 97,
   "metadata": {},
   "outputs": [
    {
     "name": "stdout",
     "output_type": "stream",
     "text": [
      "bedtools intersect -wo -a /home/ampend/links/kidd-lab/ampend-projects/Zoey_Genome_Project/rna-seq/version3_intron500k/transdecoder/results/../ReducedGeneFiles_NoRedudant/IntersectWithRepeatElements/singleExons_highestscoringtranscripts.bed -b /home/ampend/links/kidd-lab/ampend-projects/Zoey_Genome_Project/rna-seq/transdecoder/ReducedGeneFiles_NoRedudant/zoey2.3.rmsk.LINE_SINE_LTR.bed > /home/ampend/links/kidd-lab/ampend-projects/Zoey_Genome_Project/rna-seq/version3_intron500k/transdecoder/results/../ReducedGeneFiles_NoRedudant/IntersectWithRepeatElements/INTERSECT_singleExonsHighestScoring_with_ZoeyLINE_SINE_LTR.txt\n"
     ]
    }
   ],
   "source": [
    "outDir = '%s../ReducedGeneFiles_NoRedudant/IntersectWithRepeatElements/' % inDir\n",
    "singleExonFile = outDir + 'singleExons_highestscoringtranscripts.bed'\n",
    "zoeyL1File = '/home/ampend/links/kidd-lab/genomes/zoey/assemblies/2.3/rm-tracks/zoey2.3.rmsk.LINE.bed'\n",
    "zoeyLINESINELTRFile = '/home/ampend/links/kidd-lab/ampend-projects/Zoey_Genome_Project/rna-seq/transdecoder/ReducedGeneFiles_NoRedudant/zoey2.3.rmsk.LINE_SINE_LTR.bed'\n",
    "\n",
    "#Write command to do intersect\n",
    "cmd = 'bedtools intersect -wo -a %s -b %s > %sINTERSECT_singleExonsHighestScoring_with_ZoeyLINE_SINE_LTR.txt' % (singleExonFile,zoeyLINESINELTRFile,outDir)\n",
    "print(cmd)\n",
    "runCMD(cmd)\n"
   ]
  },
  {
   "cell_type": "code",
   "execution_count": 98,
   "metadata": {},
   "outputs": [
    {
     "name": "stdout",
     "output_type": "stream",
     "text": [
      "Parsing intersect file:\n",
      " /home/ampend/links/kidd-lab/ampend-projects/Zoey_Genome_Project/rna-seq/version3_intron500k/transdecoder/results/../ReducedGeneFiles_NoRedudant/IntersectWithRepeatElements/INTERSECT_singleExonsHighestScoring_with_ZoeyLINE_SINE_LTR.txt\n",
      "27067 of the 45859 total intersects do not intersect with the exons\n"
     ]
    }
   ],
   "source": [
    "intersectFile = outDir + 'INTERSECT_singleExonsHighestScoring_with_ZoeyLINE_SINE_LTR.txt'\n",
    "print('Parsing intersect file:\\n',intersectFile)\n",
    "intDict = {}\n",
    "\n",
    "totalIntersectCount, noExonIntersectCount = 0, 0 #for keeping track \n",
    "\n",
    "for line in open(intersectFile,'r'):\n",
    "    #FIRST SET INTERSECT == FALSE\n",
    "    intersect = False\n",
    "    totalIntersectCount += 1\n",
    "    \n",
    "    line = line.rstrip() #removing extraneous whitespace characters\n",
    "    line = line.split('\\t') #delimiting \"columns\" in the file based on tabs\t\t\n",
    "    winID = line[3]\n",
    "    linelength = len(line)\n",
    "\n",
    "    #Save gene info to dictionary if first time seeing it\n",
    "    gene = line[3] #GENE\n",
    "    geneStart, geneEnd = int(line[1]), int(line[2])\n",
    "    exonStart, exonEnd = int(line[6]), int(line[7])\n",
    "    lengthOfGene = geneEnd - geneStart\n",
    "    lengthOfSingleExon = exonEnd - exonStart\n",
    "    if gene not in intDict.keys():\n",
    "        #0 = gene, #1 = length of gene, #2 = length of single exon\n",
    "        #3 = all IDs of intersecting elements\n",
    "        #4 = all lengths of intersecting elements\n",
    "        #5 = all lengths of intersecting elements with EXONS only\n",
    "        #6 = sum of all intersecting bp (set to zero)\n",
    "        #7 = sum of all intersecting bp WITH EXONS only (set to zero)\n",
    "        #8 = Prop of all GENE intersection (set to zero)\n",
    "        #9 = proportion of all EXON intersection (sum of intersecting bp / length of single exon) (set to zero)\n",
    "        #10 all the line information from the intersect file to use later to write out pass/fail exons\n",
    "        #11 whether the gene passes/fails (determined in step below - default = Fail)\n",
    "        intDict[gene] = [gene, lengthOfGene, lengthOfSingleExon, [], [], [], 0, 0, 0, 0, line[0:11], 'Fail']\n",
    "     \n",
    "    #DETERMINE IF RM ELEMENT INTERSECTS WITH EXON AT ALL\n",
    "    RMstart = int(line[13])\n",
    "    RMend = int(line[14])\n",
    "    \n",
    "    \"\"\" #Illustration of below intersect with Exon (E) and Repeat element (R)\n",
    "    RRRRRRRRR\n",
    "         EEEEEEEEEE\n",
    "    \"\"\"\n",
    "    if RMstart <= exonStart and exonStart <= RMend and exonStart <= RMend:\n",
    "        lengthOfIntersectWithExon = RMend - exonStart \n",
    "        intersect = True\n",
    "    \n",
    "    \"\"\" #Illustration of below intersect with Exon (E) and Repeat element (R)\n",
    "    EEEEEEEEEE\n",
    "        RRRRRRRRR\n",
    "    \"\"\"\n",
    "    if exonStart <= RMstart and exonEnd <= RMend and RMstart <= exonEnd:\n",
    "        lengthOfIntersectWithExon = exonEnd - RMstart  \n",
    "        intersect = True\n",
    "    \n",
    "    \"\"\" #Illustration of below intersect with Exon (E) and Repeat element (R)\n",
    "    EEEEEEEEEEEEEEEEEEEEE\n",
    "           RRRRRRRRRR\n",
    "    \"\"\"\n",
    "    if exonStart <= RMstart and exonEnd >= RMend:\n",
    "        lengthOfIntersectWithExon = RMend - RMstart \n",
    "        intersect = True\n",
    "    \n",
    "    \"\"\" #Illustration of below intersect with Exon (E) and Repeat element (R)\n",
    "    RRRRRRRRRRRRRRRRRRRRRRRRR\n",
    "           EEEEEEEEEE\n",
    "    \"\"\"    \n",
    "    if RMstart <= exonStart and RMend >= exonEnd:\n",
    "        lengthOfIntersectWithExon = exonEnd - exonStart \n",
    "        intersect = True\n",
    "    \n",
    "    #Only want to add up the intersecting data for RMs intersecting EXONS\n",
    "    if intersect is False:\n",
    "        noExonIntersectCount+=1\n",
    "        lengthOfIntersectWithExon = 0\n",
    "        #continue\n",
    "    \n",
    "    intersectingElement = str(line[linelength-14])\n",
    "    lengthOfGeneIntersect = int(line[linelength-1]) #WITH WHOLE GENE\n",
    "\n",
    "    \n",
    "    #propOfGeneIntersecting = float(lengthOfIntersect/lengthOfGene)\n",
    "    propOfGeneIntersecting = float(lengthOfIntersectWithExon/lengthOfSingleExon)\n",
    "    \n",
    "    #Add info to dictionary\n",
    "    intDict[gene][3].append(intersectingElement)\n",
    "    intDict[gene][4].append(lengthOfGeneIntersect)\n",
    "    intDict[gene][5].append(lengthOfIntersectWithExon)\n",
    "print('%i of the %i total intersects do not intersect with the exons' % (noExonIntersectCount,totalIntersectCount))\n",
    "\n"
   ]
  },
  {
   "cell_type": "markdown",
   "metadata": {},
   "source": [
    "### Now go through each threshold of intersect proportion of alignment and generate outfiles for the transcripts that pass/fail at each threshold"
   ]
  },
  {
   "cell_type": "code",
   "execution_count": 99,
   "metadata": {
    "scrolled": true
   },
   "outputs": [
    {
     "name": "stdout",
     "output_type": "stream",
     "text": [
      "## Threshold = 0.000100\n",
      "15760 of the 40560 single exon genes intersect LINEs/SINEs/LTRs with more than 0.000100 of their length\n",
      "7621 of the 40560 single exon genes PASS intersect thresholds\n",
      "\n",
      "## Threshold = 0.050000\n",
      "15014 of the 40560 single exon genes intersect LINEs/SINEs/LTRs with more than 0.050000 of their length\n",
      "8367 of the 40560 single exon genes PASS intersect thresholds\n",
      "\n",
      "## Threshold = 0.100000\n",
      "14325 of the 40560 single exon genes intersect LINEs/SINEs/LTRs with more than 0.100000 of their length\n",
      "9056 of the 40560 single exon genes PASS intersect thresholds\n",
      "\n",
      "## Threshold = 0.333300\n",
      "11276 of the 40560 single exon genes intersect LINEs/SINEs/LTRs with more than 0.333300 of their length\n",
      "12105 of the 40560 single exon genes PASS intersect thresholds\n",
      "\n",
      "## Threshold = 0.500000\n",
      "9592 of the 40560 single exon genes intersect LINEs/SINEs/LTRs with more than 0.500000 of their length\n",
      "13789 of the 40560 single exon genes PASS intersect thresholds\n",
      "\n",
      "## Threshold = 0.666600\n",
      "8450 of the 40560 single exon genes intersect LINEs/SINEs/LTRs with more than 0.666600 of their length\n",
      "14931 of the 40560 single exon genes PASS intersect thresholds\n",
      "\n",
      "## Threshold = 0.750000\n",
      "8044 of the 40560 single exon genes intersect LINEs/SINEs/LTRs with more than 0.750000 of their length\n",
      "15337 of the 40560 single exon genes PASS intersect thresholds\n",
      "\n"
     ]
    }
   ],
   "source": [
    "#INTERSECT THRESHOLD\n",
    "thresholds = [0.0001, 0.05, 0.1, 0.3333, 0.5, 0.6666, 0.75]\n",
    "#threshold = 0.5\n",
    "\n",
    "for threshold in thresholds:\n",
    "    passIDs, failIDs = [], []\n",
    "    passFile = open(outDir + 'SingleExon_PassRMIntersect_%fthreshold.txt' % threshold,'w')\n",
    "    failFile = open(outDir + 'SingleExon_FailRMIntersect_%fthreshold.txt' % threshold,'w')\n",
    "    count = 0\n",
    "\n",
    "    for gene in intDict.keys():\n",
    "        #Calculate how much of exon is covered by RMs\n",
    "        GENEintersectSum = np.sum(intDict[gene][4])\n",
    "        EXONintersectSum = np.sum(intDict[gene][5])\n",
    "        intDict[gene][6] = GENEintersectSum\n",
    "        intDict[gene][7] = EXONintersectSum\n",
    "        #Now calculate what this sum is as a proportion of the exon length\n",
    "        propOfExonIntersecting = float(EXONintersectSum/intDict[gene][2])\n",
    "        intDict[gene][9] = propOfExonIntersecting\n",
    "        #What would this be compared to with proportion of gene covered?\n",
    "        propOfGeneIntersecting = float(GENEintersectSum/intDict[gene][1])\n",
    "        intDict[gene][8] = propOfGeneIntersecting\n",
    "\n",
    "        if propOfGeneIntersecting < 0.5 and propOfExonIntersecting > 0.5:\n",
    "            count +=1\n",
    "            coord = intDict[gene][10][0]+':'+str(intDict[gene][10][1])+'-'+str(intDict[gene][10][2])\n",
    "            \"\"\"print(coord)\n",
    "            print(gene)\n",
    "            print('gene length', intDict[gene][1])\n",
    "            print('exon length', intDict[gene][2])\n",
    "            print('gene intersect sum',GENEintersectSum)\n",
    "            print('exon intersect sum',EXONintersectSum)\n",
    "            print(propOfGeneIntersecting,propOfExonIntersecting,'\\n')\"\"\"\n",
    "\n",
    "        #Check if greater than threshold\n",
    "        if propOfExonIntersecting < threshold:\n",
    "            passFile.write('\\t'.join(intDict[gene][10]) + '\\n')\n",
    "            passIDs.append(gene)\n",
    "            intDict[gene][11] = 'Pass'\n",
    "        else:\n",
    "            failIDs.append(gene)\n",
    "            failFile.write('\\t'.join(intDict[gene][10]) + '\\n')\n",
    "    passFile.close()\n",
    "    failFile.close()\n",
    "    \n",
    "    print('## Threshold = %f' % threshold)\n",
    "    print('%i of the %i single exon genes intersect LINEs/SINEs/LTRs with more than %f of their length' % (len(set(failIDs)),singleExon,threshold))\n",
    "    print('%i of the %i single exon genes PASS intersect thresholds\\n' % (len(set(passIDs)),singleExon))\n"
   ]
  },
  {
   "cell_type": "markdown",
   "metadata": {},
   "source": [
    "### Now generate two FASTA files for the threshold you want to go with that contains 1) those transcripts that PASS at that cutoff 2) those transcripts that FAIL at that cutoff"
   ]
  },
  {
   "cell_type": "markdown",
   "metadata": {},
   "source": [
    "#### Make ID list of only those single exon genes that pass at cutoff"
   ]
  },
  {
   "cell_type": "code",
   "execution_count": 100,
   "metadata": {},
   "outputs": [
    {
     "name": "stdout",
     "output_type": "stream",
     "text": [
      "cut -f 4 /home/ampend/links/kidd-lab/ampend-projects/Zoey_Genome_Project/rna-seq/version3_intron500k/transdecoder/results/../ReducedGeneFiles_NoRedudant/IntersectWithRepeatElements/SingleExon_PassRMIntersect_0.100000threshold.txt > /home/ampend/links/kidd-lab/ampend-projects/Zoey_Genome_Project/rna-seq/version3_intron500k/transdecoder/results/../ReducedGeneFiles_NoRedudant/IntersectWithRepeatElements/SingleExon_PassRMIntersect_0.100000threshold_IDs.txt\n",
      "\n",
      "9056 single exons pass this cutoff and had their IDs written out\n"
     ]
    }
   ],
   "source": [
    "threshold = 0.1 #******\n",
    "\n",
    "inFile = outDir + 'SingleExon_PassRMIntersect_%fthreshold.txt' % threshold\n",
    "outFile = outDir + 'SingleExon_PassRMIntersect_%fthreshold_IDs.txt' % threshold\n",
    "\n",
    "cmd = 'cut -f 4 %s > %s' % (inFile,outFile)\n",
    "print(cmd)\n",
    "runCMD(cmd)\n",
    "\n",
    "lineCount = count_lines(outFile)\n",
    "print('\\n%i single exons pass this cutoff and had their IDs written out' % lineCount)"
   ]
  },
  {
   "cell_type": "code",
   "execution_count": 101,
   "metadata": {},
   "outputs": [
    {
     "name": "stdout",
     "output_type": "stream",
     "text": [
      "Wrote out IDs for 9056 passing single exon transcripts\n",
      "mkdir -p /home/ampend/links/kidd-lab/ampend-projects/Zoey_Genome_Project/rna-seq/version3_intron500k/NonRedundant_NoRMIntersect_FilteredGeneSet/\n",
      "#Copying to new directory\n",
      "cp /home/ampend/links/kidd-lab/ampend-projects/Zoey_Genome_Project/rna-seq/version3_intron500k/transdecoder/results/../ReducedGeneFiles_NoRedudant/IntersectWithRepeatElements/SingleExon_PassRMIntersect_0.100000threshold_IDs.txt /home/ampend/links/kidd-lab/ampend-projects/Zoey_Genome_Project/rna-seq/version3_intron500k/NonRedundant_NoRMIntersect_FilteredGeneSet/\n"
     ]
    }
   ],
   "source": [
    "#INTERSECT THRESHOLD\n",
    "threshold = 0.1 #*******\n",
    "\n",
    "passfileIDs = outDir + 'SingleExon_PassRMIntersect_%fthreshold_IDs.txt' % threshold\n",
    "passFileIDs = open(passfileIDs, 'w')\n",
    "count = 0\n",
    "\n",
    "failfileIDs = outDir + 'SingleExon_FailRMIntersect_%fthreshold_IDs.txt' % threshold\n",
    "failFileIDs = open(failfileIDs, 'w')\n",
    "\n",
    "for gene in intDict.keys():\n",
    "    ID = gene.split(';')[0] #TO MATCH THE FASTA FILE WE WANT TO EXTRACT FROM\n",
    "\n",
    "    #Calculate how much of exon is covered by RMs\n",
    "    GENEintersectSum = np.sum(intDict[gene][4])\n",
    "    EXONintersectSum = np.sum(intDict[gene][5])\n",
    "    intDict[gene][6] = GENEintersectSum\n",
    "    intDict[gene][7] = EXONintersectSum\n",
    "    #Now calculate what this sum is as a proportion of the exon length\n",
    "    propOfExonIntersecting = float(EXONintersectSum/intDict[gene][2])\n",
    "    intDict[gene][9] = propOfExonIntersecting\n",
    "    #What would this be compared to with proportion of gene covered?\n",
    "    propOfGeneIntersecting = float(GENEintersectSum/intDict[gene][1])\n",
    "    intDict[gene][8] = propOfGeneIntersecting\n",
    "\n",
    "    #Check if greater than threshold\n",
    "    if propOfExonIntersecting < threshold:\n",
    "        passFileIDs.write('%s\\n' % ID.replace('ID=',''))\n",
    "        count+=1        \n",
    "    else:\n",
    "        failFileIDs.write('%s\\n' % ID.replace('ID=',''))\n",
    "passFileIDs.close()\n",
    "failFileIDs.close()\n",
    "print('Wrote out IDs for %i passing single exon transcripts' % count)\n",
    "\n",
    "### Copy to new directory for only the passing genes\n",
    "nonRedundDir = baseDir + 'NonRedundant_NoRMIntersect_FilteredGeneSet/'\n",
    "cmd = 'mkdir -p %s' % nonRedundDir #conditionally make output directory\n",
    "print(cmd)\n",
    "runCMD(cmd)\n",
    "\n",
    "\n",
    "print('#Copying to new directory')\n",
    "cmd = 'cp %s %s' % (passfileIDs,nonRedundDir)\n",
    "runCMD(cmd)\n",
    "print(cmd)\n"
   ]
  },
  {
   "cell_type": "markdown",
   "metadata": {},
   "source": [
    "#### Copying the multi exon file to same directory"
   ]
  },
  {
   "cell_type": "code",
   "execution_count": 102,
   "metadata": {},
   "outputs": [
    {
     "name": "stdout",
     "output_type": "stream",
     "text": [
      "#Copying to new directory\n",
      "cp /home/ampend/links/kidd-lab/ampend-projects/Zoey_Genome_Project/rna-seq/version3_intron500k/transdecoder/results/../ReducedGeneFiles_NoRedudant/IntersectWithRepeatElements/../multiExons_highestscoringtranscripts_IDs.txt /home/ampend/links/kidd-lab/ampend-projects/Zoey_Genome_Project/rna-seq/version3_intron500k/NonRedundant_NoRMIntersect_FilteredGeneSet/\n"
     ]
    }
   ],
   "source": [
    "print('#Copying to new directory')\n",
    "multiExon = outDir + '../multiExons_highestscoringtranscripts_IDs.txt'\n",
    "\n",
    "cmd = 'cp %s %s' % (multiExon,nonRedundDir)\n",
    "runCMD(cmd)\n",
    "print(cmd)\n",
    "\n"
   ]
  },
  {
   "cell_type": "markdown",
   "metadata": {},
   "source": [
    "### Now need to get all the transcript IDs (multi and single exon) genes that pass the cut off --- can use FGREP from the total highest scoring transcript file to get the file transcript list, using the *FAILING* genes as what to fgrep -v (all but == -v)"
   ]
  },
  {
   "cell_type": "code",
   "execution_count": 103,
   "metadata": {},
   "outputs": [
    {
     "name": "stdout",
     "output_type": "stream",
     "text": [
      "fgrep -v -f /home/ampend/links/kidd-lab/ampend-projects/Zoey_Genome_Project/rna-seq/version3_intron500k/transdecoder/results/../ReducedGeneFiles_NoRedudant/IntersectWithRepeatElements/SingleExon_FailRMIntersect_0.100000threshold_IDs.txt /home/ampend/links/kidd-lab/ampend-projects/Zoey_Genome_Project/rna-seq/version3_intron500k/transdecoder/results/HighestScoringTranscripts_IDs.bed | cut -f 4 | sed 's/ID=//' > /home/ampend/links/kidd-lab/ampend-projects/Zoey_Genome_Project/rna-seq/version3_intron500k/NonRedundant_NoRMIntersect_FilteredGeneSet/temp_IDs.txt\n",
      "45443 total genes remain after eliminating single exons with too much RM\n",
      "fgrep -f /home/ampend/links/kidd-lab/ampend-projects/Zoey_Genome_Project/rna-seq/version3_intron500k/NonRedundant_NoRMIntersect_FilteredGeneSet/temp_IDs.txt /home/ampend/links/kidd-lab/ampend-projects/Zoey_Genome_Project/rna-seq/version3_intron500k/transdecoder/results/pasa-lite_ZoeyTrinity.pasa_assembled_alignments.fa.transdecoder.genome.bed | sort | uniq > /home/ampend/links/kidd-lab/ampend-projects/Zoey_Genome_Project/rna-seq/version3_intron500k/NonRedundant_NoRMIntersect_FilteredGeneSet/TotalSet_NoRMSingleExons_AllMultiExons.bed\n"
     ]
    }
   ],
   "source": [
    "#Use fgrep to get the all IDs that are NOT in the failing RM threshold file\n",
    "\n",
    "cmd = 'fgrep -v -f %sSingleExon_FailRMIntersect_%fthreshold_IDs.txt %sHighestScoringTranscripts_IDs.bed | cut -f 4 | sed \\'s/ID=//\\' > %stemp_IDs.txt' % (outDir,threshold,inDir,nonRedundDir)\n",
    "print(cmd)\n",
    "runCMD(cmd)\n",
    "\n",
    "temp_IDfile = nonRedundDir + 'temp_IDs.txt'\n",
    "IDfile = open(nonRedundDir + 'TotalSet_NoRMSingleExons_AllMultiExons_IDs.txt','w')\n",
    "for line in open(temp_IDfile,'r'):\n",
    "    line=line.rstrip()\n",
    "    ID = line.split(';')[0]\n",
    "    IDfile.write('%s\\n' % ID)\n",
    "IDfile.close()\n",
    "\n",
    "lineCount = count_lines('%sTotalSet_NoRMSingleExons_AllMultiExons_IDs.txt' % nonRedundDir)\n",
    "print('%i total genes remain after eliminating single exons with too much RM' % lineCount)\n",
    "\n",
    "#Get BED coordinates from transdecoder file\n",
    "DIR = '/home/ampend/links/kidd-lab/ampend-projects/Zoey_Genome_Project/rna-seq/version3_intron500k/transdecoder/results/'\n",
    "fullBed = DIR + 'pasa-lite_ZoeyTrinity.pasa_assembled_alignments.fa.transdecoder.genome.bed' #all transdecoder bed coordinates\n",
    "cmd = 'fgrep -f %s %s | sort | uniq > %sTotalSet_NoRMSingleExons_AllMultiExons.bed' % (temp_IDfile, fullBed, nonRedundDir) \n",
    "print(cmd)\n",
    "runCMD(cmd)\n",
    "\n",
    "#remove temp file\n",
    "cmd = 'rm %s' % temp_IDfile\n",
    "runCMD(cmd)"
   ]
  },
  {
   "cell_type": "markdown",
   "metadata": {},
   "source": [
    "## Index the total fasta file from transdecoder so you can extract by ID"
   ]
  },
  {
   "cell_type": "code",
   "execution_count": 104,
   "metadata": {},
   "outputs": [
    {
     "name": "stdout",
     "output_type": "stream",
     "text": [
      "samtools faidx /home/ampend/links/kidd-lab/ampend-projects/Zoey_Genome_Project/rna-seq/version3_intron500k/transdecoder/results/pasa-lite_ZoeyTrinity.pasa_assembled_alignments.fa.transdecoder.pep\n",
      "samtools faidx /home/ampend/links/kidd-lab/ampend-projects/Zoey_Genome_Project/rna-seq/version3_intron500k/transdecoder/results/pasa-lite_ZoeyTrinity.pasa_assembled_alignments.fa.transdecoder.cds\n"
     ]
    }
   ],
   "source": [
    "pepFasta = inDir + 'pasa-lite_ZoeyTrinity.pasa_assembled_alignments.fa.transdecoder.pep'\n",
    "cdsFasta = inDir + 'pasa-lite_ZoeyTrinity.pasa_assembled_alignments.fa.transdecoder.cds'\n",
    "\n",
    "#indexing the peptide fasta file\n",
    "cmd = 'samtools faidx %s' % pepFasta\n",
    "runCMD(cmd)\n",
    "print(cmd)\n",
    "\n",
    "#indexing the CDS fasta file\n",
    "cmd = 'samtools faidx %s' % cdsFasta\n",
    "runCMD(cmd)\n",
    "print(cmd)"
   ]
  },
  {
   "cell_type": "markdown",
   "metadata": {},
   "source": [
    "### Getting the FASTA "
   ]
  },
  {
   "cell_type": "code",
   "execution_count": 105,
   "metadata": {},
   "outputs": [
    {
     "name": "stdout",
     "output_type": "stream",
     "text": [
      "xargs samtools faidx /home/ampend/links/kidd-lab/ampend-projects/Zoey_Genome_Project/rna-seq/version3_intron500k/transdecoder/results/pasa-lite_ZoeyTrinity.pasa_assembled_alignments.fa.transdecoder.pep < /home/ampend/links/kidd-lab/ampend-projects/Zoey_Genome_Project/rna-seq/version3_intron500k/NonRedundant_NoRMIntersect_FilteredGeneSet/TotalSet_NoRMSingleExons_AllMultiExons_IDs.txt > /home/ampend/links/kidd-lab/ampend-projects/Zoey_Genome_Project/rna-seq/version3_intron500k/NonRedundant_NoRMIntersect_FilteredGeneSet/TotalSet_NoRMSingleExons_AllMultiExons_pep.fa\n",
      "samtools faidx /home/ampend/links/kidd-lab/ampend-projects/Zoey_Genome_Project/rna-seq/version3_intron500k/NonRedundant_NoRMIntersect_FilteredGeneSet/TotalSet_NoRMSingleExons_AllMultiExons_pep.fa\n",
      "xargs samtools faidx /home/ampend/links/kidd-lab/ampend-projects/Zoey_Genome_Project/rna-seq/version3_intron500k/transdecoder/results/pasa-lite_ZoeyTrinity.pasa_assembled_alignments.fa.transdecoder.cds < /home/ampend/links/kidd-lab/ampend-projects/Zoey_Genome_Project/rna-seq/version3_intron500k/NonRedundant_NoRMIntersect_FilteredGeneSet/TotalSet_NoRMSingleExons_AllMultiExons_IDs.txt > /home/ampend/links/kidd-lab/ampend-projects/Zoey_Genome_Project/rna-seq/version3_intron500k/NonRedundant_NoRMIntersect_FilteredGeneSet/TotalSet_NoRMSingleExons_AllMultiExons_cds.fa\n",
      "samtools faidx /home/ampend/links/kidd-lab/ampend-projects/Zoey_Genome_Project/rna-seq/version3_intron500k/NonRedundant_NoRMIntersect_FilteredGeneSet/TotalSet_NoRMSingleExons_AllMultiExons_cds.fa\n"
     ]
    }
   ],
   "source": [
    "#using the ID file generated above to extract from the fasta file\n",
    "#__Example Usage__\n",
    "# xargs samtools faidx test.fa < names.txt\n",
    "\n",
    "##PEPTIDE FASTA\n",
    "IDFile = nonRedundDir + 'TotalSet_NoRMSingleExons_AllMultiExons_IDs.txt'\n",
    "outFasta = IDFile.replace('_IDs.txt','_pep.fa')\n",
    "\n",
    "cmd = 'xargs samtools faidx %s < %s > %s' % (pepFasta,IDFile,outFasta)\n",
    "print(cmd)\n",
    "runCMD(cmd)\n",
    "\n",
    "cmd = 'samtools faidx %s' % outFasta\n",
    "print(cmd)\n",
    "runCMD(cmd)\n",
    "\n",
    "##CDS FASTA\n",
    "outFasta = IDFile.replace('_IDs.txt','_cds.fa')\n",
    "\n",
    "cmd = 'xargs samtools faidx %s < %s > %s' % (cdsFasta,IDFile,outFasta)\n",
    "print(cmd)\n",
    "runCMD(cmd)\n",
    "\n",
    "cmd = 'samtools faidx %s' % outFasta\n",
    "print(cmd)\n",
    "runCMD(cmd)"
   ]
  },
  {
   "cell_type": "code",
   "execution_count": 66,
   "metadata": {},
   "outputs": [
    {
     "data": {
      "text/plain": [
       "'/home/ampend/links/kidd-lab/ampend-projects/Zoey_Genome_Project/rna-seq/version3_intron500k/NonRedundant_NoRMIntersect_FilteredGeneSet/'"
      ]
     },
     "execution_count": 66,
     "metadata": {},
     "output_type": "execute_result"
    }
   ],
   "source": [
    "nonRedundDir"
   ]
  },
  {
   "cell_type": "markdown",
   "metadata": {},
   "source": [
    "## How many genes are there in the final set?"
   ]
  },
  {
   "cell_type": "code",
   "execution_count": 89,
   "metadata": {},
   "outputs": [
    {
     "name": "stdout",
     "output_type": "stream",
     "text": [
      "45443 transcripts in the final, nonredundant, nonRM transcript set\n"
     ]
    }
   ],
   "source": [
    "lineCount = count_lines(IDFile)\n",
    "print('%i transcripts in the final, nonredundant, nonRM transcript set' % lineCount)"
   ]
  },
  {
   "cell_type": "markdown",
   "metadata": {},
   "source": [
    "# Make bed file of the final gene models"
   ]
  },
  {
   "cell_type": "code",
   "execution_count": null,
   "metadata": {},
   "outputs": [],
   "source": [
    "cmd = 'fgrep -f '"
   ]
  }
 ],
 "metadata": {
  "kernelspec": {
   "display_name": "Python 3",
   "language": "python",
   "name": "python3"
  },
  "language_info": {
   "codemirror_mode": {
    "name": "ipython",
    "version": 3
   },
   "file_extension": ".py",
   "mimetype": "text/x-python",
   "name": "python",
   "nbconvert_exporter": "python",
   "pygments_lexer": "ipython3",
   "version": "3.5.4"
  }
 },
 "nbformat": 4,
 "nbformat_minor": 2
}
