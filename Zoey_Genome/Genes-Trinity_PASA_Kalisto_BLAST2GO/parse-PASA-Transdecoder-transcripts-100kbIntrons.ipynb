{
 "cells": [
  {
   "cell_type": "code",
   "execution_count": 4,
   "metadata": {},
   "outputs": [],
   "source": [
    "# 2018-07-12\n",
    "# A. Pendleton\n",
    "# Removal of duplicate PASA transcripts that have been processed through Transdecoder\n",
    "#    and generating the resulting FASTA file with only the transcripts that passed"
   ]
  },
  {
   "cell_type": "code",
   "execution_count": 5,
   "metadata": {},
   "outputs": [],
   "source": [
    "#this uses iPython magic to make plots appear inline\n",
    "%matplotlib inline\n",
    "import matplotlib.pyplot as plt\n",
    "import pandas as pd\n",
    "import subprocess\n",
    "import sys\n",
    "import numpy as np\n",
    "import matplotlib.patches as patches\n",
    "import gzip\n",
    "import fileinput\n",
    "import glob\n",
    "from scipy import stats\n",
    "import re\n",
    "from matplotlib_venn import venn3, venn3_circles\n",
    "from collections import OrderedDict\n",
    "\n",
    "\n",
    "def count_lines(f):\n",
    "    lineCount = 0\n",
    "    with open(f, 'r') as f:\n",
    "        for line in f:\n",
    "            lineCount += 1\n",
    "        return lineCount\n",
    "def runCMD(cmd):\n",
    "    val = subprocess.Popen(cmd, shell=True).wait()\n",
    "    if val == 0:\n",
    "        pass\n",
    "    else:\n",
    "        print ('command failed')\n",
    "        print (cmd)\n",
    "        sys.exit(1)\n",
    "# TO REMOVE TOP AND RIGHT AXIS OF PLOTS\n",
    "def simpleaxis(ax):\n",
    "    ax.spines['top'].set_visible(False)\n",
    "    ax.spines['right'].set_visible(False)\n",
    "    ax.get_xaxis().tick_bottom()\n",
    "    ax.get_yaxis().tick_left()"
   ]
  },
  {
   "cell_type": "code",
   "execution_count": 6,
   "metadata": {},
   "outputs": [],
   "source": [
    "###INPUT INFORMATION\n",
    "inDir = '/home/ampend/links/kidd-lab/ampend-projects/Zoey_Genome_Project/rna-seq/transdecoder/version_2/results/'\n",
    "bed_inFile = inDir + 'pasa-lite_ZoeyTrinity.pasa_assembled_alignments.fa.transdecoder.genome.bed'\n"
   ]
  },
  {
   "cell_type": "markdown",
   "metadata": {},
   "source": [
    "# Read in transcript ID data into dictionary"
   ]
  },
  {
   "cell_type": "markdown",
   "metadata": {},
   "source": [
    "### This step simply saves the coordinates and other information into a dictionary that can later be pulled out only for the gene models with the highest score (determined one cell down)"
   ]
  },
  {
   "cell_type": "code",
   "execution_count": 7,
   "metadata": {},
   "outputs": [
    {
     "name": "stdout",
     "output_type": "stream",
     "text": [
      "62049 genes added to dictionary\n",
      "199821 transcripts processed\n",
      "130935 genes added to FULL Dictionary where keys are the full length ID\n",
      "dupes =  68886\n"
     ]
    }
   ],
   "source": [
    "geneDict = {}\n",
    "fullDict = {}\n",
    "processed = []\n",
    "transcript_count, dupes = 0, 0\n",
    "\n",
    "for LINE in open(bed_inFile, 'r'):\n",
    "    line=LINE.rstrip().split()\n",
    "    if 'track' in line[0]: #skip header\n",
    "        continue\n",
    "    #Read in information on gene\n",
    "    chrom = line[0]\n",
    "\n",
    "    #Keep track of how many have been processed\n",
    "    transcript_count += 1\n",
    "    fullID = line[3]\n",
    "    geneID = line[3].split(';')[1]\n",
    "    ID = line[3].replace('ID=','').split(';')[0]\n",
    "\n",
    "    exonCount = int(line[9])\n",
    "    exonLengths = line[10]\n",
    "    #If geneID not already in dictionary, then add\n",
    "    if geneID not in geneDict.keys():\n",
    "        geneDict[geneID] = []\n",
    "    geneDict[geneID].append([fullID, exonCount, exonLengths])\n",
    "    \n",
    "    if 'chr20.g27627' in LINE:\n",
    "        print(line)\n",
    "    \n",
    "    if ID in fullDict.keys():\n",
    "        dupes+=1\n",
    "        continue\n",
    "    fullDict[ID] = [line]\n",
    "print('%i genes added to dictionary' % len(geneDict.keys()))\n",
    "print('%i transcripts processed' % transcript_count)\n",
    "print('%i genes added to FULL Dictionary where keys are the full length ID' % len(fullDict.keys()))\n",
    "print('dupes = ', dupes)"
   ]
  },
  {
   "cell_type": "markdown",
   "metadata": {},
   "source": [
    "### This step goes through the transdecoder peptide file and looks through each gene model for the model with the highest score. If a higher score is found, it replaces the gene model that previously had the highest score. \n",
    "\n",
    "#### Importantly, this step also skips over peptides that were not deemed as 'complete' gene models by transdecoder (e.g. skips over the 5' or 3' partial models). "
   ]
  },
  {
   "cell_type": "code",
   "execution_count": 8,
   "metadata": {},
   "outputs": [
    {
     "name": "stdout",
     "output_type": "stream",
     "text": [
      "30492 transcripts with highest score added to the dictionary\n"
     ]
    }
   ],
   "source": [
    "peptideFile = inDir + 'pasa-lite_ZoeyTrinity.pasa_assembled_alignments.fa.transdecoder.pep'\n",
    "scoreDict = {}\n",
    "\n",
    "for line in open(peptideFile,'r'):\n",
    "    if '>' not in line: #skip those not a gene identifier\n",
    "        continue\n",
    "    if 'TCONS' in line: #not mapped\n",
    "        continue\n",
    "    if 'complete' not in line: #only want the complete gene models\n",
    "        continue\n",
    "    fullID = line.rstrip().split(' ')[0].replace('>','')\n",
    "    line = line.rstrip().split('::')\n",
    "    #print(line)\n",
    "\n",
    "    #geneID = line[1].rsplit('.',1)\n",
    "    geneID = line[1].split('.')[0] + '.' + line[1].split('.')[1]\n",
    "\n",
    "    transcriptID = line[4]\n",
    "    score = float(line[5].split(',')[1].split(' ')[0].split('=')[1])\n",
    "    \n",
    "    if geneID not in scoreDict.keys():\n",
    "        scoreDict[geneID] = ['',0,'']#['highestscoring_transcriptID','highestScore']\n",
    "    if score > scoreDict[geneID][1]:\n",
    "        scoreDict[geneID] = [transcriptID,score,fullID]\n",
    "    \n",
    "\n",
    "print('%i transcripts with highest score added to the dictionary' % len(scoreDict.keys()))"
   ]
  },
  {
   "cell_type": "markdown",
   "metadata": {},
   "source": [
    "## Generate output BED file with the non-redundant gene models"
   ]
  },
  {
   "cell_type": "code",
   "execution_count": 37,
   "metadata": {},
   "outputs": [
    {
     "name": "stdout",
     "output_type": "stream",
     "text": [
      "/home/ampend/links/kidd-lab/ampend-projects/Zoey_Genome_Project/rna-seq/transdecoder/version_2/results/\n",
      "/home/ampend/links/kidd-lab/ampend-projects/Zoey_Genome_Project/rna-seq/transdecoder/version_2/results/HighestScoringTranscripts_IDs.bed\n",
      "29192 of the highest scoring genes added\n",
      "\t14923 of which are single exons\n",
      "Reduced from 130935 transcripts\n"
     ]
    }
   ],
   "source": [
    "#Make BED file with just the transcript IDs that have the highest score\n",
    "print(inDir)\n",
    "outfile = inDir + 'HighestScoringTranscripts_IDs.bed'\n",
    "outFile = open(outfile,'w')\n",
    "print(outfile)\n",
    "\n",
    "outDir = '/home/ampend/links/kidd-lab/ampend-projects/Zoey_Genome_Project/rna-seq/transdecoder/version_2/ReducedGeneFiles_NoRedudant/IntersectWithRepeatElements/'\n",
    "cmd = 'mkdir -p %s' % outDir #conditionally make this output directory\n",
    "runCMD(cmd)\n",
    "\n",
    "singleExonFile = open(outDir + 'singleExons_highestscoringtranscripts.bed','w')\n",
    "nonSingleExonFile = open(outDir + '../multiExons_highestscoringtranscripts.bed','w')\n",
    "nonSingleExonIDFile = open(outDir + '../multiExons_highestscoringtranscripts_IDs.txt','w')\n",
    "\n",
    "missing=[]\n",
    "added,singleExon = 0, 0\n",
    "for key in scoreDict.keys():\n",
    "    if scoreDict[key][2] not in fullDict.keys():\n",
    "        missing.append(scoreDict[key][2])\n",
    "        continue\n",
    "    info = fullDict[scoreDict[key][2]]\n",
    "    for i in info:\n",
    "        outFile.write('\\t'.join(i) + '\\n')\n",
    "        added+=1\n",
    "        exonCount = int(i[9])\n",
    "        if exonCount == 1:\n",
    "            singleExonFile.write('\\t'.join(i) + '\\n')\n",
    "            singleExon += 1\n",
    "        else:\n",
    "            nonSingleExonFile.write('\\t'.join(i) + '\\n')\n",
    "            nonSingleExonIDFile.write('%s\\n' % i[3].split(';')[0].replace('ID=',''))\n",
    "outFile.close()\n",
    "singleExonFile.close()\n",
    "nonSingleExonFile.close()\n",
    "nonSingleExonIDFile.close()\n",
    "\n",
    "#STATS\n",
    "print('%i of the highest scoring genes added' % added)\n",
    "print('\\t%i of which are single exons' % singleExon)\n",
    "print('Reduced from %i transcripts' % len(fullDict.keys()))"
   ]
  },
  {
   "cell_type": "markdown",
   "metadata": {},
   "source": [
    "### Intersect the single exons with LINEs -- to eliminate those that correspond\n",
    "\n"
   ]
  },
  {
   "cell_type": "code",
   "execution_count": 14,
   "metadata": {},
   "outputs": [
    {
     "name": "stdout",
     "output_type": "stream",
     "text": [
      "bedtools intersect -wo -a /home/ampend/links/kidd-lab/ampend-projects/Zoey_Genome_Project/rna-seq/transdecoder/version_2/ReducedGeneFiles_NoRedudant/IntersectWithRepeatElements/singleExons_highestscoringtranscripts.bed -b /home/ampend/links/kidd-lab/ampend-projects/Zoey_Genome_Project/rna-seq/transdecoder/ReducedGeneFiles_NoRedudant/zoey2.3.rmsk.LINE_SINE_LTR.bed > /home/ampend/links/kidd-lab/ampend-projects/Zoey_Genome_Project/rna-seq/transdecoder/version_2/ReducedGeneFiles_NoRedudant/IntersectWithRepeatElements/INTERSECT_singleExonsHighestScoring_with_ZoeyLINE_SINE_LTR.txt\n"
     ]
    }
   ],
   "source": [
    "outDir = '/home/ampend/links/kidd-lab/ampend-projects/Zoey_Genome_Project/rna-seq/transdecoder/version_2/ReducedGeneFiles_NoRedudant/IntersectWithRepeatElements/'\n",
    "singleExonFile = outDir + 'singleExons_highestscoringtranscripts.bed'\n",
    "zoeyL1File = '/home/ampend/links/kidd-lab/genomes/zoey/assemblies/2.3/rm-tracks/zoey2.3.rmsk.LINE.bed'\n",
    "zoeyLINESINELTRFile = '/home/ampend/links/kidd-lab/ampend-projects/Zoey_Genome_Project/rna-seq/transdecoder/ReducedGeneFiles_NoRedudant/zoey2.3.rmsk.LINE_SINE_LTR.bed'\n",
    "\n",
    "#Write command to do intersect\n",
    "cmd = 'bedtools intersect -wo -a %s -b %s > %sINTERSECT_singleExonsHighestScoring_with_ZoeyLINE_SINE_LTR.txt' % (singleExonFile,zoeyLINESINELTRFile,outDir)\n",
    "print(cmd)\n",
    "runCMD(cmd)\n"
   ]
  },
  {
   "cell_type": "code",
   "execution_count": 32,
   "metadata": {},
   "outputs": [
    {
     "name": "stdout",
     "output_type": "stream",
     "text": [
      "Parsing intersect file:\n",
      " /home/ampend/links/kidd-lab/ampend-projects/Zoey_Genome_Project/rna-seq/transdecoder/version_2/ReducedGeneFiles_NoRedudant/IntersectWithRepeatElements/INTERSECT_singleExonsHighestScoring_with_ZoeyLINE_SINE_LTR.txt\n",
      "20038 of the 26225 total intersects do not intersect with the exons\n"
     ]
    }
   ],
   "source": [
    "intersectFile = outDir + 'INTERSECT_singleExonsHighestScoring_with_ZoeyLINE_SINE_LTR.txt'\n",
    "print('Parsing intersect file:\\n',intersectFile)\n",
    "intDict = {}\n",
    "\n",
    "totalIntersectCount, noExonIntersectCount = 0, 0 #for keeping track \n",
    "\n",
    "for line in open(intersectFile,'r'):\n",
    "    #FIRST SET INTERSECT == FALSE\n",
    "    intersect = False\n",
    "    totalIntersectCount += 1\n",
    "    \n",
    "    line = line.rstrip() #removing extraneous whitespace characters\n",
    "    line = line.split('\\t') #delimiting \"columns\" in the file based on tabs\t\t\n",
    "    winID = line[3]\n",
    "    linelength = len(line)\n",
    "\n",
    "    #Save gene info to dictionary if first time seeing it\n",
    "    gene = line[3] #GENE\n",
    "    geneStart, geneEnd = int(line[1]), int(line[2])\n",
    "    exonStart, exonEnd = int(line[6]), int(line[7])\n",
    "    lengthOfGene = geneEnd - geneStart\n",
    "    lengthOfSingleExon = exonEnd - exonStart\n",
    "    if gene not in intDict.keys():\n",
    "        #0 = gene, #1 = length of gene, #2 = length of single exon\n",
    "        #3 = all IDs of intersecting elements\n",
    "        #4 = all lengths of intersecting elements\n",
    "        #5 = all lengths of intersecting elements with EXONS only\n",
    "        #6 = sum of all intersecting bp (set to zero)\n",
    "        #7 = sum of all intersecting bp WITH EXONS only (set to zero)\n",
    "        #8 = Prop of all GENE intersection (set to zero)\n",
    "        #9 = proportion of all EXON intersection (sum of intersecting bp / length of single exon) (set to zero)\n",
    "        #10 all the line information from the intersect file to use later to write out pass/fail exons\n",
    "        #11 whether the gene passes/fails (determined in step below - default = Fail)\n",
    "        intDict[gene] = [gene, lengthOfGene, lengthOfSingleExon, [], [], [], 0, 0, 0, 0, line[0:11], 'Fail']\n",
    "     \n",
    "    #DETERMINE IF RM ELEMENT INTERSECTS WITH EXON AT ALL\n",
    "    RMstart = int(line[13])\n",
    "    RMend = int(line[14])\n",
    "    \n",
    "    \"\"\" #Illustration of below intersect with Exon (E) and Repeat element (R)\n",
    "    RRRRRRRRR\n",
    "         EEEEEEEEEE\n",
    "    \"\"\"\n",
    "    if RMstart <= exonStart and exonStart <= RMend and exonStart <= RMend:\n",
    "        lengthOfIntersectWithExon = RMend - exonStart \n",
    "        intersect = True\n",
    "    \n",
    "    \"\"\" #Illustration of below intersect with Exon (E) and Repeat element (R)\n",
    "    EEEEEEEEEE\n",
    "        RRRRRRRRR\n",
    "    \"\"\"\n",
    "    if exonStart <= RMstart and exonEnd <= RMend and RMstart <= exonEnd:\n",
    "        lengthOfIntersectWithExon = exonEnd - RMstart  \n",
    "        intersect = True\n",
    "    \n",
    "    \"\"\" #Illustration of below intersect with Exon (E) and Repeat element (R)\n",
    "    EEEEEEEEEEEEEEEEEEEEE\n",
    "           RRRRRRRRRR\n",
    "    \"\"\"\n",
    "    if exonStart <= RMstart and exonEnd >= RMend:\n",
    "        lengthOfIntersectWithExon = RMend - RMstart \n",
    "        intersect = True\n",
    "    \n",
    "    \"\"\" #Illustration of below intersect with Exon (E) and Repeat element (R)\n",
    "    RRRRRRRRRRRRRRRRRRRRRRRRR\n",
    "           EEEEEEEEEE\n",
    "    \"\"\"    \n",
    "    if RMstart <= exonStart and RMend >= exonEnd:\n",
    "        lengthOfIntersectWithExon = exonEnd - exonStart \n",
    "        intersect = True\n",
    "    \n",
    "    #Only want to add up the intersecting data for RMs intersecting EXONS\n",
    "    if intersect is False:\n",
    "        noExonIntersectCount+=1\n",
    "        lengthOfIntersectWithExon = 0\n",
    "        #continue\n",
    "    \n",
    "    intersectingElement = str(line[linelength-14])\n",
    "    lengthOfGeneIntersect = int(line[linelength-1]) #WITH WHOLE GENE\n",
    "\n",
    "    \n",
    "    #propOfGeneIntersecting = float(lengthOfIntersect/lengthOfGene)\n",
    "    propOfGeneIntersecting = float(lengthOfIntersectWithExon/lengthOfSingleExon)\n",
    "    \n",
    "    #Add info to dictionary\n",
    "    intDict[gene][3].append(intersectingElement)\n",
    "    intDict[gene][4].append(lengthOfGeneIntersect)\n",
    "    intDict[gene][5].append(lengthOfIntersectWithExon)\n",
    "print('%i of the %i total intersects do not intersect with the exons' % (noExonIntersectCount,totalIntersectCount))\n",
    "\n"
   ]
  },
  {
   "cell_type": "markdown",
   "metadata": {},
   "source": [
    "### Now go through each threshold of intersect proportion of alignment and generate outfiles for the transcripts that pass/fail at each threshold"
   ]
  },
  {
   "cell_type": "code",
   "execution_count": 16,
   "metadata": {
    "scrolled": true
   },
   "outputs": [
    {
     "name": "stdout",
     "output_type": "stream",
     "text": [
      "## Threshold = 0.000100\n",
      "4878 of the 14923 single exon genes intersect LINEs/SINEs/LTRs with more than 0.000100 of their length\n",
      "5044 of the 14923 single exon genes PASS intersect thresholds\n",
      "\n",
      "## Threshold = 0.050000\n",
      "4590 of the 14923 single exon genes intersect LINEs/SINEs/LTRs with more than 0.050000 of their length\n",
      "5332 of the 14923 single exon genes PASS intersect thresholds\n",
      "\n",
      "## Threshold = 0.100000\n",
      "4301 of the 14923 single exon genes intersect LINEs/SINEs/LTRs with more than 0.100000 of their length\n",
      "5621 of the 14923 single exon genes PASS intersect thresholds\n",
      "\n",
      "## Threshold = 0.333300\n",
      "3015 of the 14923 single exon genes intersect LINEs/SINEs/LTRs with more than 0.333300 of their length\n",
      "6907 of the 14923 single exon genes PASS intersect thresholds\n",
      "\n",
      "## Threshold = 0.500000\n",
      "2272 of the 14923 single exon genes intersect LINEs/SINEs/LTRs with more than 0.500000 of their length\n",
      "7650 of the 14923 single exon genes PASS intersect thresholds\n",
      "\n",
      "## Threshold = 0.666600\n",
      "1771 of the 14923 single exon genes intersect LINEs/SINEs/LTRs with more than 0.666600 of their length\n",
      "8151 of the 14923 single exon genes PASS intersect thresholds\n",
      "\n",
      "## Threshold = 0.750000\n",
      "1580 of the 14923 single exon genes intersect LINEs/SINEs/LTRs with more than 0.750000 of their length\n",
      "8342 of the 14923 single exon genes PASS intersect thresholds\n",
      "\n"
     ]
    }
   ],
   "source": [
    "#INTERSECT THRESHOLD\n",
    "thresholds = [0.0001, 0.05, 0.1, 0.3333, 0.5, 0.6666, 0.75]\n",
    "#threshold = 0.5\n",
    "\n",
    "for threshold in thresholds:\n",
    "    passIDs, failIDs = [], []\n",
    "    passFile = open(outDir + 'SingleExon_PassRMIntersect_%fthreshold.txt' % threshold,'w')\n",
    "    failFile = open(outDir + 'SingleExon_FailRMIntersect_%fthreshold.txt' % threshold,'w')\n",
    "    count = 0\n",
    "\n",
    "    for gene in intDict.keys():\n",
    "        #Calculate how much of exon is covered by RMs\n",
    "        GENEintersectSum = np.sum(intDict[gene][4])\n",
    "        EXONintersectSum = np.sum(intDict[gene][5])\n",
    "        intDict[gene][6] = GENEintersectSum\n",
    "        intDict[gene][7] = EXONintersectSum\n",
    "        #Now calculate what this sum is as a proportion of the exon length\n",
    "        propOfExonIntersecting = float(EXONintersectSum/intDict[gene][2])\n",
    "        intDict[gene][9] = propOfExonIntersecting\n",
    "        #What would this be compared to with proportion of gene covered?\n",
    "        propOfGeneIntersecting = float(GENEintersectSum/intDict[gene][1])\n",
    "        intDict[gene][8] = propOfGeneIntersecting\n",
    "\n",
    "        if propOfGeneIntersecting < 0.5 and propOfExonIntersecting > 0.5:\n",
    "            count +=1\n",
    "            coord = intDict[gene][10][0]+':'+str(intDict[gene][10][1])+'-'+str(intDict[gene][10][2])\n",
    "            \"\"\"print(coord)\n",
    "            print(gene)\n",
    "            print('gene length', intDict[gene][1])\n",
    "            print('exon length', intDict[gene][2])\n",
    "            print('gene intersect sum',GENEintersectSum)\n",
    "            print('exon intersect sum',EXONintersectSum)\n",
    "            print(propOfGeneIntersecting,propOfExonIntersecting,'\\n')\"\"\"\n",
    "\n",
    "        #Check if greater than threshold\n",
    "        if propOfExonIntersecting < threshold:\n",
    "            passFile.write('\\t'.join(intDict[gene][10]) + '\\n')\n",
    "            passIDs.append(gene)\n",
    "            intDict[gene][11] = 'Pass'\n",
    "        else:\n",
    "            failIDs.append(gene)\n",
    "            failFile.write('\\t'.join(intDict[gene][10]) + '\\n')\n",
    "    passFile.close()\n",
    "    failFile.close()\n",
    "    \n",
    "    print('## Threshold = %f' % threshold)\n",
    "    print('%i of the %i single exon genes intersect LINEs/SINEs/LTRs with more than %f of their length' % (len(set(failIDs)),singleExon,threshold))\n",
    "    print('%i of the %i single exon genes PASS intersect thresholds\\n' % (len(set(passIDs)),singleExon))\n"
   ]
  },
  {
   "cell_type": "markdown",
   "metadata": {},
   "source": [
    "### Now generate two FASTA files for the threshold you want to go with that contains 1) those transcripts that PASS at that cutoff 2) those transcripts that FAIL at that cutoff"
   ]
  },
  {
   "cell_type": "markdown",
   "metadata": {},
   "source": [
    "#### Make ID list of only those single exon genes that pass at cutoff"
   ]
  },
  {
   "cell_type": "code",
   "execution_count": 41,
   "metadata": {},
   "outputs": [
    {
     "name": "stdout",
     "output_type": "stream",
     "text": [
      "cut -f 4 /home/ampend/links/kidd-lab/ampend-projects/Zoey_Genome_Project/rna-seq/transdecoder/version_2/ReducedGeneFiles_NoRedudant/IntersectWithRepeatElements/SingleExon_PassRMIntersect_0.100000threshold.txt > /home/ampend/links/kidd-lab/ampend-projects/Zoey_Genome_Project/rna-seq/transdecoder/version_2/ReducedGeneFiles_NoRedudant/IntersectWithRepeatElements/SingleExon_PassRMIntersect_0.100000threshold_IDs.txt\n",
      "\n",
      "5621 single exons pass this cutoff and had their IDs written out\n"
     ]
    }
   ],
   "source": [
    "threshold = 0.1 #******\n",
    "\n",
    "inFile = outDir + 'SingleExon_PassRMIntersect_%fthreshold.txt' % threshold\n",
    "outFile = outDir + 'SingleExon_PassRMIntersect_%fthreshold_IDs.txt' % threshold\n",
    "\n",
    "cmd = 'cut -f 4 %s > %s' % (inFile,outFile)\n",
    "print(cmd)\n",
    "runCMD(cmd)\n",
    "\n",
    "lineCount = count_lines(outFile)\n",
    "print('\\n%i single exons pass this cutoff and had their IDs written out' % lineCount)"
   ]
  },
  {
   "cell_type": "code",
   "execution_count": 49,
   "metadata": {},
   "outputs": [
    {
     "name": "stdout",
     "output_type": "stream",
     "text": [
      "Wrote out IDs for 5621 passing single exon transcripts\n",
      "mkdir -p /home/ampend/links/kidd-lab/ampend-projects/Zoey_Genome_Project/rna-seq/NonRedundant_NoRMIntersect_FilteredGeneSet/version_2/\n",
      "#Copying to new directory\n",
      "cp /home/ampend/links/kidd-lab/ampend-projects/Zoey_Genome_Project/rna-seq/transdecoder/version_2/ReducedGeneFiles_NoRedudant/IntersectWithRepeatElements/SingleExon_PassRMIntersect_0.100000threshold_IDs.txt /home/ampend/links/kidd-lab/ampend-projects/Zoey_Genome_Project/rna-seq/NonRedundant_NoRMIntersect_FilteredGeneSet/version_2/\n"
     ]
    }
   ],
   "source": [
    "#INTERSECT THRESHOLD\n",
    "threshold = 0.1 #*******\n",
    "\n",
    "passfileIDs = outDir + 'SingleExon_PassRMIntersect_%fthreshold_IDs.txt' % threshold\n",
    "passFileIDs = open(passfileIDs, 'w')\n",
    "count = 0\n",
    "\n",
    "failfileIDs = outDir + 'SingleExon_FailRMIntersect_%fthreshold_IDs.txt' % threshold\n",
    "failFileIDs = open(failfileIDs, 'w')\n",
    "\n",
    "for gene in intDict.keys():\n",
    "    ID = gene.split(';')[0] #TO MATCH THE FASTA FILE WE WANT TO EXTRACT FROM\n",
    "\n",
    "    #Calculate how much of exon is covered by RMs\n",
    "    GENEintersectSum = np.sum(intDict[gene][4])\n",
    "    EXONintersectSum = np.sum(intDict[gene][5])\n",
    "    intDict[gene][6] = GENEintersectSum\n",
    "    intDict[gene][7] = EXONintersectSum\n",
    "    #Now calculate what this sum is as a proportion of the exon length\n",
    "    propOfExonIntersecting = float(EXONintersectSum/intDict[gene][2])\n",
    "    intDict[gene][9] = propOfExonIntersecting\n",
    "    #What would this be compared to with proportion of gene covered?\n",
    "    propOfGeneIntersecting = float(GENEintersectSum/intDict[gene][1])\n",
    "    intDict[gene][8] = propOfGeneIntersecting\n",
    "\n",
    "    #Check if greater than threshold\n",
    "    if propOfExonIntersecting < threshold:\n",
    "        passFileIDs.write('%s\\n' % ID.replace('ID=',''))\n",
    "        count+=1        \n",
    "    else:\n",
    "        failFileIDs.write('%s\\n' % ID.replace('ID=',''))\n",
    "passFileIDs.close()\n",
    "failFileIDs.close()\n",
    "print('Wrote out IDs for %i passing single exon transcripts' % count)\n",
    "\n",
    "### Copy to new directory for only the passing genes\n",
    "nonRedundDir = '/home/ampend/links/kidd-lab/ampend-projects/Zoey_Genome_Project/rna-seq/NonRedundant_NoRMIntersect_FilteredGeneSet/version_2/'\n",
    "cmd = 'mkdir -p %s' % nonRedundDir #conditionally make output directory\n",
    "print(cmd)\n",
    "runCMD(cmd)\n",
    "\n",
    "\n",
    "print('#Copying to new directory')\n",
    "cmd = 'cp %s %s' % (passfileIDs,nonRedundDir)\n",
    "runCMD(cmd)\n",
    "print(cmd)\n"
   ]
  },
  {
   "cell_type": "markdown",
   "metadata": {},
   "source": [
    "#### Copying the multi exon file to same directory"
   ]
  },
  {
   "cell_type": "code",
   "execution_count": 43,
   "metadata": {},
   "outputs": [
    {
     "name": "stdout",
     "output_type": "stream",
     "text": [
      "#Copying to new directory\n",
      "cp /home/ampend/links/kidd-lab/ampend-projects/Zoey_Genome_Project/rna-seq/transdecoder/version_2/ReducedGeneFiles_NoRedudant/IntersectWithRepeatElements/../multiExons_highestscoringtranscripts_IDs.txt /home/ampend/links/kidd-lab/ampend-projects/Zoey_Genome_Project/rna-seq/NonRedundant_NoRMIntersect_FilteredGeneSet/version_2/\n"
     ]
    }
   ],
   "source": [
    "print('#Copying to new directory')\n",
    "multiExon = outDir + '../multiExons_highestscoringtranscripts_IDs.txt'\n",
    "\n",
    "cmd = 'cp %s %s' % (multiExon,nonRedundDir)\n",
    "runCMD(cmd)\n",
    "print(cmd)\n",
    "\n"
   ]
  },
  {
   "cell_type": "markdown",
   "metadata": {},
   "source": [
    "### Now need to get all the transcript IDs (multi and single exon) genes that pass the cut off --- can use FGREP from the total highest scoring transcript file to get the file transcript list, using the *FAILING* genes as what to fgrep -v (all but == -v)"
   ]
  },
  {
   "cell_type": "code",
   "execution_count": 50,
   "metadata": {},
   "outputs": [
    {
     "name": "stdout",
     "output_type": "stream",
     "text": [
      "fgrep -v -f /home/ampend/links/kidd-lab/ampend-projects/Zoey_Genome_Project/rna-seq/transdecoder/version_2/ReducedGeneFiles_NoRedudant/IntersectWithRepeatElements/SingleExon_FailRMIntersect_0.100000threshold_IDs.txt /home/ampend/links/kidd-lab/ampend-projects/Zoey_Genome_Project/rna-seq/transdecoder/version_2/results/HighestScoringTranscripts_IDs.bed | cut -f 4 > /home/ampend/links/kidd-lab/ampend-projects/Zoey_Genome_Project/rna-seq/NonRedundant_NoRMIntersect_FilteredGeneSet/version_2/TotalSet_NoRMSingleExons_AllMultiExons_IDs.txt\n",
      "24891 total genes remain after eliminating single exons with too much RM\n"
     ]
    }
   ],
   "source": [
    "#Use fgrep to get the all IDs that are NOT in the failing RM threshold file\n",
    "\n",
    "cmd = 'fgrep -v -f %sSingleExon_FailRMIntersect_%fthreshold_IDs.txt %sHighestScoringTranscripts_IDs.bed | cut -f 4 > %sTotalSet_NoRMSingleExons_AllMultiExons_IDs.txt' % (outDir,threshold,inDir,nonRedundDir)\n",
    "print(cmd)\n",
    "runCMD(cmd)\n",
    "\n",
    "lineCount = count_lines('%sTotalSet_NoRMSingleExons_AllMultiExons_IDs.txt' % nonRedundDir)\n",
    "print('%i total genes remain after eliminating single exons with too much RM' % lineCount)"
   ]
  },
  {
   "cell_type": "markdown",
   "metadata": {},
   "source": [
    "## Index the total fasta file from transdecoder so you can extract by ID"
   ]
  },
  {
   "cell_type": "code",
   "execution_count": 51,
   "metadata": {},
   "outputs": [
    {
     "name": "stdout",
     "output_type": "stream",
     "text": [
      "samtools faidx /home/ampend/links/kidd-lab/ampend-projects/Zoey_Genome_Project/rna-seq/transdecoder/version_2/results/pasa-lite_ZoeyTrinity.pasa_assembled_alignments.fa.transdecoder.pep\n",
      "samtools faidx /home/ampend/links/kidd-lab/ampend-projects/Zoey_Genome_Project/rna-seq/transdecoder/version_2/results/pasa-lite_ZoeyTrinity.pasa_assembled_alignments.fa.transdecoder.cds\n"
     ]
    }
   ],
   "source": [
    "transDDir = '/home/ampend/links/kidd-lab/ampend-projects/Zoey_Genome_Project/rna-seq/transdecoder/version_2/results/'\n",
    "pepFasta = transDDir + 'pasa-lite_ZoeyTrinity.pasa_assembled_alignments.fa.transdecoder.pep'\n",
    "cdsFasta = transDDir + 'pasa-lite_ZoeyTrinity.pasa_assembled_alignments.fa.transdecoder.cds'\n",
    "\n",
    "#indexing the peptide fasta file\n",
    "cmd = 'samtools faidx %s' % pepFasta\n",
    "runCMD(cmd)\n",
    "print(cmd)\n",
    "\n",
    "#indexing the CDS fasta file\n",
    "cmd = 'samtools faidx %s' % cdsFasta\n",
    "runCMD(cmd)\n",
    "print(cmd)"
   ]
  },
  {
   "cell_type": "markdown",
   "metadata": {},
   "source": [
    "### Getting the FASTA "
   ]
  },
  {
   "cell_type": "code",
   "execution_count": 54,
   "metadata": {},
   "outputs": [
    {
     "name": "stdout",
     "output_type": "stream",
     "text": [
      "xargs samtools faidx /home/ampend/links/kidd-lab/ampend-projects/Zoey_Genome_Project/rna-seq/transdecoder/version_2/results/pasa-lite_ZoeyTrinity.pasa_assembled_alignments.fa.transdecoder.pep < /home/ampend/links/kidd-lab/ampend-projects/Zoey_Genome_Project/rna-seq/NonRedundant_NoRMIntersect_FilteredGeneSet/version_2/TotalSet_NoRMSingleExons_AllMultiExons_IDs.txt > /home/ampend/links/kidd-lab/ampend-projects/Zoey_Genome_Project/rna-seq/NonRedundant_NoRMIntersect_FilteredGeneSet/version_2/TotalSet_NoRMSingleExons_AllMultiExons_pep.fa\n",
      "samtools faidx /home/ampend/links/kidd-lab/ampend-projects/Zoey_Genome_Project/rna-seq/NonRedundant_NoRMIntersect_FilteredGeneSet/version_2/TotalSet_NoRMSingleExons_AllMultiExons_pep.fa\n",
      "xargs samtools faidx /home/ampend/links/kidd-lab/ampend-projects/Zoey_Genome_Project/rna-seq/transdecoder/version_2/results/pasa-lite_ZoeyTrinity.pasa_assembled_alignments.fa.transdecoder.cds < /home/ampend/links/kidd-lab/ampend-projects/Zoey_Genome_Project/rna-seq/NonRedundant_NoRMIntersect_FilteredGeneSet/version_2/TotalSet_NoRMSingleExons_AllMultiExons_IDs.txt > /home/ampend/links/kidd-lab/ampend-projects/Zoey_Genome_Project/rna-seq/NonRedundant_NoRMIntersect_FilteredGeneSet/version_2/TotalSet_NoRMSingleExons_AllMultiExons_cds.fa\n",
      "samtools faidx /home/ampend/links/kidd-lab/ampend-projects/Zoey_Genome_Project/rna-seq/NonRedundant_NoRMIntersect_FilteredGeneSet/version_2/TotalSet_NoRMSingleExons_AllMultiExons_cds.fa\n"
     ]
    }
   ],
   "source": [
    "#using the ID file generated above to extract from the fasta file\n",
    "#__Example Usage__\n",
    "# xargs samtools faidx test.fa < names.txt\n",
    "\n",
    "##PEPTIDE FASTA\n",
    "IDFile = nonRedundDir + 'TotalSet_NoRMSingleExons_AllMultiExons_IDs.txt'\n",
    "outFasta = IDFile.replace('_IDs.txt','_pep.fa')\n",
    "\n",
    "cmd = 'xargs samtools faidx %s < %s > %s' % (pepFasta,IDFile,outFasta)\n",
    "print(cmd)\n",
    "#runCMD(cmd)\n",
    "\n",
    "cmd = 'samtools faidx %s' % outFasta\n",
    "print(cmd)\n",
    "#runCMD(cmd)\n",
    "\n",
    "##CDS FASTA\n",
    "outFasta = IDFile.replace('_IDs.txt','_cds.fa')\n",
    "\n",
    "cmd = 'xargs samtools faidx %s < %s > %s' % (cdsFasta,IDFile,outFasta)\n",
    "print(cmd)\n",
    "#runCMD(cmd)\n",
    "\n",
    "cmd = 'samtools faidx %s' % outFasta\n",
    "print(cmd)\n",
    "#runCMD(cmd)"
   ]
  },
  {
   "cell_type": "markdown",
   "metadata": {},
   "source": [
    "## How many genes are there in the final set?"
   ]
  },
  {
   "cell_type": "code",
   "execution_count": 55,
   "metadata": {},
   "outputs": [
    {
     "name": "stdout",
     "output_type": "stream",
     "text": [
      "24891 transcripts in the final, nonredundant, nonRM transcript set\n"
     ]
    }
   ],
   "source": [
    "lineCount = count_lines(IDFile)\n",
    "print('%i transcripts in the final, nonredundant, nonRM transcript set' % lineCount)"
   ]
  },
  {
   "cell_type": "code",
   "execution_count": null,
   "metadata": {},
   "outputs": [],
   "source": []
  },
  {
   "cell_type": "code",
   "execution_count": null,
   "metadata": {},
   "outputs": [],
   "source": []
  },
  {
   "cell_type": "code",
   "execution_count": null,
   "metadata": {},
   "outputs": [],
   "source": []
  },
  {
   "cell_type": "code",
   "execution_count": null,
   "metadata": {},
   "outputs": [],
   "source": []
  },
  {
   "cell_type": "code",
   "execution_count": null,
   "metadata": {},
   "outputs": [],
   "source": []
  },
  {
   "cell_type": "code",
   "execution_count": 212,
   "metadata": {},
   "outputs": [
    {
     "name": "stdout",
     "output_type": "stream",
     "text": [
      "ID=Gene.148105::chr2.g22285.i1::g.148105::m.148105;chr2.g22285;ORF \n",
      " chr2:56821343-56824318 \n",
      " BP overlap = 106 \n",
      "Prop Overlap of Exon with RM = 0.2994350282485876 \n",
      "\n",
      "ID=Gene.333527::chr5.g24367.i1::g.333527::m.333527;chr5.g24367;ORF \n",
      " chr5:56932344-56933172 \n",
      " BP overlap = 132 \n",
      "Prop Overlap of Exon with RM = 0.42718446601941745 \n",
      "\n",
      "ID=Gene.417427::chr9.g22752.i1::g.417427::m.417427;chr9.g22752;ORF \n",
      " chr9:40426435-40427940 \n",
      " BP overlap = 216 \n",
      "Prop Overlap of Exon with RM = 0.47058823529411764 \n",
      "\n",
      "ID=Gene.362173::chr6.g12517.i1::g.362173::m.362173;chr6.g12517;ORF \n",
      " chr6:22521552-22522615 \n",
      " BP overlap = 178 \n",
      "Prop Overlap of Exon with RM = 0.4529262086513995 \n",
      "\n",
      "ID=Gene.192525::chr21.g3854.i1::g.192525::m.192525;chr21.g3854;ORF \n",
      " chr21:20571489-20572755 \n",
      " BP overlap = 163 \n",
      "Prop Overlap of Exon with RM = 0.4054726368159204 \n",
      "\n",
      "ID=Gene.162622::chr20.g9661.i1::g.162622::m.162622;chr20.g9661;ORF \n",
      " chr20:25324980-25325645 \n",
      " BP overlap = 151 \n",
      "Prop Overlap of Exon with RM = 0.4793650793650794 \n",
      "\n",
      "ID=Gene.138211::chr2.g22720.i1::g.138211::m.138211;chr2.g22720;ORF \n",
      " chr2:57675037-57676420 \n",
      " BP overlap = 136 \n",
      "Prop Overlap of Exon with RM = 0.41590214067278286 \n",
      "\n",
      "ID=Gene.32572::chr1.g38518.i1::g.32572::m.32572;chr1.g38518;ORF \n",
      " chr1:110699159-110700011 \n",
      " BP overlap = 189 \n",
      "Prop Overlap of Exon with RM = 0.39622641509433965 \n",
      "\n",
      "ID=Gene.442022::chr9.g22751.i1::g.442022::m.442022;chr9.g22751;ORF \n",
      " chr9:40418405-40421651 \n",
      " BP overlap = 92 \n",
      "Prop Overlap of Exon with RM = 0.2713864306784661 \n",
      "\n",
      "ID=Gene.451576::chrX.g25560.i1::g.451576::m.451576;chrX.g25560;ORF \n",
      " chrX:94506709-94507930 \n",
      " BP overlap = 106 \n",
      "Prop Overlap of Exon with RM = 0.3212121212121212 \n",
      "\n",
      "ID=Gene.427286::chr9.g32873.i1::g.427286::m.427286;chr9.g32873;ORF \n",
      " chr9:55321223-55324045 \n",
      " BP overlap = 109 \n",
      "Prop Overlap of Exon with RM = 0.35973597359735976 \n",
      "\n"
     ]
    }
   ],
   "source": [
    "count = 0\n",
    "for gene in intDict.keys():\n",
    "    if intDict[gene][8] != 'Fail':\n",
    "        if intDict[gene][6] > 0.25:\n",
    "            coord = intDict[gene][7][0]+':'+str(intDict[gene][7][1])+'-'+str(intDict[gene][7][2])\n",
    "            print(gene,'\\n',coord,'\\n','BP overlap =', intDict[gene][5], '\\nProp Overlap of Exon with RM =', intDict[gene][6],'\\n')\n",
    "            count+=1\n",
    "            if count > 10:\n",
    "                break"
   ]
  },
  {
   "cell_type": "code",
   "execution_count": null,
   "metadata": {},
   "outputs": [],
   "source": []
  },
  {
   "cell_type": "code",
   "execution_count": null,
   "metadata": {},
   "outputs": [],
   "source": []
  },
  {
   "cell_type": "code",
   "execution_count": null,
   "metadata": {},
   "outputs": [],
   "source": []
  },
  {
   "cell_type": "code",
   "execution_count": null,
   "metadata": {},
   "outputs": [],
   "source": []
  },
  {
   "cell_type": "code",
   "execution_count": null,
   "metadata": {},
   "outputs": [],
   "source": []
  }
 ],
 "metadata": {
  "kernelspec": {
   "display_name": "Python 3",
   "language": "python",
   "name": "python3"
  },
  "language_info": {
   "codemirror_mode": {
    "name": "ipython",
    "version": 3
   },
   "file_extension": ".py",
   "mimetype": "text/x-python",
   "name": "python",
   "nbconvert_exporter": "python",
   "pygments_lexer": "ipython3",
   "version": "3.5.4"
  }
 },
 "nbformat": 4,
 "nbformat_minor": 2
}
