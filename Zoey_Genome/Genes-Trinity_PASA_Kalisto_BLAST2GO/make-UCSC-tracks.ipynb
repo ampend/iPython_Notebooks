{
 "cells": [
  {
   "cell_type": "code",
   "execution_count": 1,
   "metadata": {},
   "outputs": [],
   "source": [
    "# 2018-09-18\n",
    "# A. Pendleton\n",
    "# Generating UCSC tracks for:\n",
    "#     - Raw Trinity gene models\n",
    "#     - Transdecoder processed gene models\n",
    "#     - Reduced gene models based on Transdecoder scores\n",
    "#     - Kallisto tracks with expression bar charts"
   ]
  },
  {
   "cell_type": "code",
   "execution_count": 2,
   "metadata": {},
   "outputs": [],
   "source": [
    "#this uses iPython magic to make plots appear inline\n",
    "%matplotlib inline\n",
    "import matplotlib.pyplot as plt\n",
    "import pandas as pd\n",
    "import subprocess\n",
    "import sys\n",
    "import numpy as np\n",
    "import matplotlib.patches as patches\n",
    "import gzip\n",
    "import fileinput\n",
    "import glob\n",
    "from scipy import stats\n",
    "import re\n",
    "from matplotlib_venn import venn3, venn3_circles\n",
    "from collections import OrderedDict\n",
    "\n",
    "\n",
    "def count_lines(f):\n",
    "    lineCount = 0\n",
    "    with open(f, 'r') as f:\n",
    "        for line in f:\n",
    "            lineCount += 1\n",
    "        return lineCount\n",
    "def runCMD(cmd):\n",
    "    val = subprocess.Popen(cmd, shell=True).wait()\n",
    "    if val == 0:\n",
    "        pass\n",
    "    else:\n",
    "        print ('command failed')\n",
    "        print (cmd)\n",
    "        sys.exit(1)\n",
    "# TO REMOVE TOP AND RIGHT AXIS OF PLOTS\n",
    "def simpleaxis(ax):\n",
    "    ax.spines['top'].set_visible(False)\n",
    "    ax.spines['right'].set_visible(False)\n",
    "    ax.get_xaxis().tick_bottom()\n",
    "    ax.get_yaxis().tick_left()"
   ]
  },
  {
   "cell_type": "code",
   "execution_count": 3,
   "metadata": {},
   "outputs": [],
   "source": [
    "def write_pbs_file(wkDir,cmdsFile,jobName, mem, jobCount):\n",
    "    #write PBS file\n",
    "    if '/scripts/' in wkDir:\n",
    "        wkDir = wkDir.replace('/scripts/','')\n",
    "    pbsFile = open(cmdsFile.replace('.cmds','.pbs'),'w')\n",
    "    print('Writing pbs file: %s'% pbsFile)\n",
    "    pbsFile.write('#!/bin/bash\\n')\n",
    "    pbsFile.write('#PBS -S /bin/bash\\n')\n",
    "    pbsFile.write('#PBS -V\\n')\n",
    "    pbsFile.write('#PBS -M ampend@med.umich.edu\\n')\n",
    "    pbsFile.write('#PBS -j oe\\n')\n",
    "    pbsFile.write('#PBS -N %s\\n' % jobName)\n",
    "    pbsFile.write('#PBS -o %s\\n' % (wkDir + 'logs/'))\n",
    "    pbsFile.write('#PBS -l pmem=%iG\\n' % mem)\n",
    "    pbsFile.write('#PBS -l nodes=1:ppn=1,qos=flux,walltime=100:00:00\\n')\n",
    "    pbsFile.write('##PBS -A medbsm_flux\\n')\n",
    "    pbsFile.write('##PBS -q flux\\n')\n",
    "    pbsFile.write('#PBS -A jmkidd_fluxod\\n')\n",
    "    pbsFile.write('#PBS -q fluxod\\n')\n",
    "    pbsFile.write('#PBS -t 1-%s\\n' % jobCount)\n",
    "    pbsFile.write('cd %s\\n' % (wkDir))\n",
    "    pbsFile.write('/home/ampend/links/kidd-lab/jmkidd-projects/scripts/perlUtils/run-by-id-log.pl %s %sBLAT_commands.logs $PBS_ARRAYID' % (cmdsFile,cmdsFile.replace('/scripts/','/logs/')))\n",
    "    pbsFile.close()"
   ]
  },
  {
   "cell_type": "code",
   "execution_count": 4,
   "metadata": {},
   "outputs": [],
   "source": [
    "trackDir = '/home/ampend/links/kidd-lab/ampend-projects/Zoey_Genome_Project/UCSC_Tracks/Genes/'\n",
    "\n",
    "zoeyChromSizeFile = '/home/ampend/links/kidd-lab/genomes/zoey/assemblies/2.3/ref/zoey.2.3.chrom.sizes'"
   ]
  },
  {
   "cell_type": "markdown",
   "metadata": {},
   "source": [
    "# Raw Trinity Outputs"
   ]
  },
  {
   "cell_type": "markdown",
   "metadata": {},
   "source": [
    "### Trinity genome-guided transcripts were BLATted against Zoey2.3 to get coordinates and parsed to select only the top hit for each predicted transcript. Below is the generation of tracks for the genome-guided BLAT top hits:"
   ]
  },
  {
   "cell_type": "code",
   "execution_count": null,
   "metadata": {},
   "outputs": [],
   "source": [
    "#sorted bed file\n",
    "trinFile = '/home/ampend/links/kidd-lab/ampend-projects/Zoey_Genome_Project/rna-seq/Trinity_RNA-Seq_Analysis/trinity_alignments/zoey-2.3/AllLibraries_trinity/BLAT/Merged_BLAT_results/Total_TopHitsOnly_BLAT_zoey-2.3_Zoey_Trinity_sorted.12.bed'\n",
    "\n",
    "\n",
    "\n",
    "cmd = 'bedToBigBed %s %s %s' % (zoeyChromSizeFile)\n",
    "\n",
    "\n"
   ]
  },
  {
   "cell_type": "code",
   "execution_count": null,
   "metadata": {},
   "outputs": [],
   "source": []
  },
  {
   "cell_type": "markdown",
   "metadata": {},
   "source": [
    "# PASA GTF "
   ]
  },
  {
   "cell_type": "markdown",
   "metadata": {},
   "source": [
    "#The PASA GTF File is here: \n",
    "'/home/ampend/links/kidd-lab/ampend-projects/Zoey_Genome_Project/rna-seq/version3_intron500k/PASA_Processing/pasa-lite_assemblyAssembler_results/pasa-lite_ZoeyTrinity.pasa_assembled_alignments.gtf'\n",
    "\n",
    "#It was converted to BED file coordinates in zoey coordinates by transdecoder's first step:\n",
    "/home/ampend/links/kidd-lab/ampend-projects/Zoey_Genome_Project/rna-seq/version3_intron500k/transdecoder/results/pasa-lite_ZoeyTrinity.pasa_assembled_alignments.fa.transdecoder.genome.bed"
   ]
  },
  {
   "cell_type": "code",
   "execution_count": null,
   "metadata": {},
   "outputs": [],
   "source": [
    "transDir = '/home/ampend/links/kidd-lab/ampend-projects/Zoey_Genome_Project/rna-seq/version3_intron500k/transdecoder/'\n",
    "\n",
    "transBed = transDir + 'pasa-lite_ZoeyTrinity.pasa_assembled_alignments.fa.transdecoder.genome.bed'"
   ]
  },
  {
   "cell_type": "code",
   "execution_count": null,
   "metadata": {},
   "outputs": [],
   "source": []
  },
  {
   "cell_type": "code",
   "execution_count": null,
   "metadata": {},
   "outputs": [],
   "source": []
  },
  {
   "cell_type": "code",
   "execution_count": null,
   "metadata": {},
   "outputs": [],
   "source": []
  },
  {
   "cell_type": "code",
   "execution_count": null,
   "metadata": {},
   "outputs": [],
   "source": [
    "transDir = '/home/ampend/links/kidd-lab/ampend-projects/Zoey_Genome_Project/rna-seq/version3_intron500k/transdecoder/'\n",
    "\n",
    "peptideFile = transDir + 'pasa-lite_ZoeyTrinity.pasa_assembled_alignments.fa.transdecoder.pep'\n",
    "scoreDict = {}\n",
    "\n",
    "for line in open(peptideFile,'r'):\n",
    "    if '>' not in line: #skip those not a gene identifier\n",
    "        continue\n",
    "    \"\"\"if 'TCONS' in line: #not mapped\n",
    "        continue\"\"\"\n",
    "    if 'complete' not in line: #only want the complete gene models\n",
    "        continue\n",
    "    fullID = line.rstrip().split(' ')[0].replace('>','')\n",
    "    line = line.rstrip().split('::')\n",
    "    #print(line)\n",
    "\n",
    "    #geneID = line[1].rsplit('.',1)\n",
    "    geneID = line[1].split('.')[0] + '.' + line[1].split('.')[1]\n",
    "\n",
    "    transcriptID = line[4]\n",
    "    score = float(line[5].split(',')[1].split(' ')[0].split('=')[1])\n",
    "    \n",
    "    if geneID not in scoreDict.keys():\n",
    "        scoreDict[geneID] = ['',0,'']#['highestscoring_transcriptID','highestScore']\n",
    "    if score > scoreDict[geneID][1]:\n",
    "        scoreDict[geneID] = [transcriptID,score,fullID]\n",
    "    \n",
    "\n",
    "print('%i transcripts with highest score added to the dictionary' % len(scoreDict.keys()))"
   ]
  },
  {
   "cell_type": "code",
   "execution_count": 47,
   "metadata": {},
   "outputs": [
    {
     "name": "stdout",
     "output_type": "stream",
     "text": [
      "bedSort /home/ampend/links/kidd-lab/ampend-projects/Zoey_Genome_Project/rna-seq/version3_intron500k/transdecoder/results/pasa-lite_ZoeyTrinity.pasa_assembled_alignments.fa.transdecoder.genome.bed /home/ampend/links/kidd-lab/ampend-projects/Zoey_Genome_Project/rna-seq/version3_intron500k/transdecoder/results/pasa-lite_ZoeyTrinity.pasa_assembled_alignments.fa.transdecoder.genome.bed.sorted\n",
      "command failed\n",
      "bedSort /home/ampend/links/kidd-lab/ampend-projects/Zoey_Genome_Project/rna-seq/version3_intron500k/transdecoder/results/pasa-lite_ZoeyTrinity.pasa_assembled_alignments.fa.transdecoder.genome.bed /home/ampend/links/kidd-lab/ampend-projects/Zoey_Genome_Project/rna-seq/version3_intron500k/transdecoder/results/pasa-lite_ZoeyTrinity.pasa_assembled_alignments.fa.transdecoder.genome.bed.sorted\n"
     ]
    },
    {
     "ename": "SystemExit",
     "evalue": "1",
     "output_type": "error",
     "traceback": [
      "An exception has occurred, use %tb to see the full traceback.\n",
      "\u001b[0;31mSystemExit\u001b[0m\u001b[0;31m:\u001b[0m 1\n"
     ]
    },
    {
     "name": "stderr",
     "output_type": "stream",
     "text": [
      "/sw/lsa/centos7/python-anaconda-arc-connect/created-20170421/lib/python3.5/site-packages/IPython/core/interactiveshell.py:2969: UserWarning: To exit: use 'exit', 'quit', or Ctrl-D.\n",
      "  warn(\"To exit: use 'exit', 'quit', or Ctrl-D.\", stacklevel=1)\n"
     ]
    }
   ],
   "source": [
    "transDir = '/home/ampend/links/kidd-lab/ampend-projects/Zoey_Genome_Project/rna-seq/version3_intron500k/transdecoder/'\n",
    "transBed = '/home/ampend/links/kidd-lab/ampend-projects/Zoey_Genome_Project/rna-seq/version3_intron500k/transdecoder/results/pasa-lite_ZoeyTrinity.pasa_assembled_alignments.fa.transdecoder.genome.bed'\n",
    "\n",
    "\n",
    "#Sort transbed\n",
    "cmd = 'bedSort %s %s.sorted' % (transBed,transBed)\n",
    "print(cmd)\n",
    "runCMD(cmd)\n",
    "\n",
    "#Make bigBed\n",
    "cmd = 'bedToBigBed %s %s %s.bb' % (transBed,zoeyChromSizeFile,transBed.replace('.bed','.bb'))\n",
    "print(cmd)\n",
    "runCMD(cmd)\n"
   ]
  },
  {
   "cell_type": "code",
   "execution_count": null,
   "metadata": {},
   "outputs": [],
   "source": []
  },
  {
   "cell_type": "code",
   "execution_count": null,
   "metadata": {},
   "outputs": [],
   "source": []
  },
  {
   "cell_type": "markdown",
   "metadata": {},
   "source": [
    "# Transdecoder Outputs"
   ]
  },
  {
   "cell_type": "code",
   "execution_count": 7,
   "metadata": {},
   "outputs": [
    {
     "name": "stdout",
     "output_type": "stream",
     "text": [
      "cat /home/ampend/links/kidd-lab/ampend-projects/Zoey_Genome_Project/rna-seq/version3_intron500k/transdecoder/results/pasa-lite_ZoeyTrinity.pasa_assembled_alignments.fa.transdecoder.genome.bed | sort | uniq | grep -v gff3 | sed 's/ID=//g' > /home/ampend/links/kidd-lab/ampend-projects/Zoey_Genome_Project/rna-seq/version3_intron500k/transdecoder/results/BED\n",
      "bedSort /home/ampend/links/kidd-lab/ampend-projects/Zoey_Genome_Project/rna-seq/version3_intron500k/transdecoder/results/BED /home/ampend/links/kidd-lab/ampend-projects/Zoey_Genome_Project/rna-seq/version3_intron500k/transdecoder/results/pasa-lite_ZoeyTrinity.pasa_assembled_alignments.fa.transdecoder.genome.bed.sorted\n",
      "rm /home/ampend/links/kidd-lab/ampend-projects/Zoey_Genome_Project/rna-seq/version3_intron500k/transdecoder/results/BED\n",
      "bedToBigBed /home/ampend/links/kidd-lab/ampend-projects/Zoey_Genome_Project/rna-seq/version3_intron500k/transdecoder/results/pasa-lite_ZoeyTrinity.pasa_assembled_alignments.fa.transdecoder.genome.bed.sorted /home/ampend/links/kidd-lab/genomes/zoey/assemblies/2.3/ref/zoey.2.3.chrom.sizes /home/ampend/links/kidd-lab/ampend-projects/Zoey_Genome_Project/rna-seq/version3_intron500k/transdecoder/results/pasa-lite_ZoeyTrinity.pasa_assembled_alignments.fa.transdecoder.genome.bed.bb\n",
      "cp /home/ampend/links/kidd-lab/ampend-projects/Zoey_Genome_Project/rna-seq/version3_intron500k/transdecoder/results/pasa-lite_ZoeyTrinity.pasa_assembled_alignments.fa.transdecoder.genome.bed.bb /home/ampend/links/kidd-lab/ampend-projects/Zoey_Genome_Project/UCSC_Tracks/Genes/\n"
     ]
    }
   ],
   "source": [
    "transDir = '/home/ampend/links/kidd-lab/ampend-projects/Zoey_Genome_Project/rna-seq/version3_intron500k/transdecoder/results/'\n",
    "\n",
    "transBed = transDir + 'pasa-lite_ZoeyTrinity.pasa_assembled_alignments.fa.transdecoder.genome.bed'\n",
    "\n",
    "#Remove offending header line AND get IDs \n",
    "cmd = 'cat %s | sort | uniq | grep -v gff3 | sed \\'s/ID=//g\\' > %sBED' % (transBed,transDir)\n",
    "print(cmd)\n",
    "runCMD(cmd)\n",
    "\n",
    "#Sort temp BED file\n",
    "cmd = 'bedSort %sBED %s' % (transDir,transBed + '.sorted')\n",
    "print(cmd)\n",
    "runCMD(cmd)\n",
    "\n",
    "#Remove temp bed file\n",
    "cmd = 'rm %sBED' % transDir\n",
    "runCMD(cmd)\n",
    "print(cmd)\n",
    "\n",
    "#Make into bigBed\n",
    "cmd = 'bedToBigBed %s %s %s' % (transBed + '.sorted',zoeyChromSizeFile,transBed + '.bb')\n",
    "runCMD(cmd)\n",
    "print(cmd)\n",
    "\n",
    "#Copy into tracks directory\n",
    "cmd = 'cp %s %s' % (transBed + '.bb',trackDir)\n",
    "runCMD(cmd)\n",
    "print(cmd)"
   ]
  },
  {
   "cell_type": "markdown",
   "metadata": {},
   "source": [
    "# Reduced Transdecoder Output"
   ]
  },
  {
   "cell_type": "code",
   "execution_count": 11,
   "metadata": {},
   "outputs": [
    {
     "name": "stdout",
     "output_type": "stream",
     "text": [
      "sed -i 's/ID=//g' /home/ampend/links/kidd-lab/ampend-projects/Zoey_Genome_Project/rna-seq/version3_intron500k/NonRedundant_NoRMIntersect_FilteredGeneSet/TotalSet_NoRMSingleExons_AllMultiExons.bed\n",
      "bedSort /home/ampend/links/kidd-lab/ampend-projects/Zoey_Genome_Project/rna-seq/version3_intron500k/NonRedundant_NoRMIntersect_FilteredGeneSet/TotalSet_NoRMSingleExons_AllMultiExons.bed /home/ampend/links/kidd-lab/ampend-projects/Zoey_Genome_Project/rna-seq/version3_intron500k/NonRedundant_NoRMIntersect_FilteredGeneSet/TotalSet_NoRMSingleExons_AllMultiExons.bed.sorted\n",
      "bedToBigBed /home/ampend/links/kidd-lab/ampend-projects/Zoey_Genome_Project/rna-seq/version3_intron500k/NonRedundant_NoRMIntersect_FilteredGeneSet/TotalSet_NoRMSingleExons_AllMultiExons.bed.sorted /home/ampend/links/kidd-lab/genomes/zoey/assemblies/2.3/ref/zoey.2.3.chrom.sizes /home/ampend/links/kidd-lab/ampend-projects/Zoey_Genome_Project/rna-seq/version3_intron500k/NonRedundant_NoRMIntersect_FilteredGeneSet/TotalSet_NoRMSingleExons_AllMultiExons.bed.bb\n",
      "cp /home/ampend/links/kidd-lab/ampend-projects/Zoey_Genome_Project/rna-seq/version3_intron500k/NonRedundant_NoRMIntersect_FilteredGeneSet/TotalSet_NoRMSingleExons_AllMultiExons.bed.bb /home/ampend/links/kidd-lab/ampend-projects/Zoey_Genome_Project/UCSC_Tracks/Genes/\n"
     ]
    }
   ],
   "source": [
    "transRedDir = '/home/ampend/links/kidd-lab/ampend-projects/Zoey_Genome_Project/rna-seq/version3_intron500k/NonRedundant_NoRMIntersect_FilteredGeneSet/'\n",
    "\n",
    "transBed = transRedDir + 'TotalSet_NoRMSingleExons_AllMultiExons.bed'\n",
    "\n",
    "#Remove offending labels\n",
    "cmd = 'sed -i \\'s/ID=//g\\' %s' % (transBed)\n",
    "print(cmd)\n",
    "runCMD(cmd)\n",
    "\n",
    "#Sort  BED file\n",
    "cmd = 'bedSort %s %s' % (transBed,transBed + '.sorted')\n",
    "print(cmd)\n",
    "runCMD(cmd)\n",
    "\n",
    "#Make into bigBed\n",
    "cmd = 'bedToBigBed %s %s %s' % (transBed + '.sorted',zoeyChromSizeFile,transBed + '.bb')\n",
    "runCMD(cmd)\n",
    "print(cmd)\n",
    "\n",
    "#Copy into tracks directory\n",
    "cmd = 'cp %s %s' % (transBed + '.bb',trackDir)\n",
    "runCMD(cmd)\n",
    "print(cmd)"
   ]
  },
  {
   "cell_type": "markdown",
   "metadata": {},
   "source": [
    "# Make Final Genes"
   ]
  },
  {
   "cell_type": "code",
   "execution_count": 16,
   "metadata": {},
   "outputs": [
    {
     "name": "stdout",
     "output_type": "stream",
     "text": [
      "bedSort /home/ampend/links/kidd-lab/ampend-projects/Zoey_Genome_Project/UCSC_Tracks/Genes/TEMP_FinalDeNovoGenes.bed /home/ampend/links/kidd-lab/ampend-projects/Zoey_Genome_Project/UCSC_Tracks/Genes/TEMP_FinalDeNovoGenes.bed.sorted\n",
      "bedToBigBed /home/ampend/links/kidd-lab/ampend-projects/Zoey_Genome_Project/UCSC_Tracks/Genes/TEMP_FinalDeNovoGenes.bed.sorted /home/ampend/links/kidd-lab/genomes/zoey/assemblies/2.3/ref/zoey.2.3.chrom.sizes /home/ampend/links/kidd-lab/ampend-projects/Zoey_Genome_Project/UCSC_Tracks/Genes/TEMP_FinalDeNovoGenes.bed.bb\n"
     ]
    }
   ],
   "source": [
    "\n",
    "finalBed = trackDir + 'TEMP_FinalDeNovoGenes.bed'\n",
    "\n",
    "\n",
    "#Sort  BED file\n",
    "cmd = 'bedSort %s %s' % (finalBed,finalBed + '.sorted')\n",
    "print(cmd)\n",
    "runCMD(cmd)\n",
    "\n",
    "#Make into bigBed\n",
    "cmd = 'bedToBigBed %s %s %s' % (finalBed + '.sorted',zoeyChromSizeFile,finalBed + '.bb')\n",
    "runCMD(cmd)\n",
    "print(cmd)\n",
    "\n"
   ]
  }
 ],
 "metadata": {
  "kernelspec": {
   "display_name": "Python 3",
   "language": "python",
   "name": "python3"
  },
  "language_info": {
   "codemirror_mode": {
    "name": "ipython",
    "version": 3
   },
   "file_extension": ".py",
   "mimetype": "text/x-python",
   "name": "python",
   "nbconvert_exporter": "python",
   "pygments_lexer": "ipython3",
   "version": "3.5.4"
  }
 },
 "nbformat": 4,
 "nbformat_minor": 2
}
