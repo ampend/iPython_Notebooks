{
 "cells": [
  {
   "cell_type": "code",
   "execution_count": 1,
   "metadata": {},
   "outputs": [],
   "source": [
    "# 2018-07-16\n",
    "# A. Pendleton\n",
    "# Generating the per tissue bar chart tracks and\n",
    "#    gene model tracks for the final gene models"
   ]
  },
  {
   "cell_type": "code",
   "execution_count": 2,
   "metadata": {},
   "outputs": [],
   "source": [
    "#this uses iPython magic to make plots appear inline\n",
    "%matplotlib inline\n",
    "import matplotlib.pyplot as plt\n",
    "import pandas as pd\n",
    "import subprocess\n",
    "import sys\n",
    "import numpy as np\n",
    "import matplotlib.patches as patches\n",
    "import gzip\n",
    "import fileinput\n",
    "import glob\n",
    "from scipy import stats\n",
    "import re\n",
    "from matplotlib_venn import venn3, venn3_circles\n",
    "from collections import OrderedDict\n",
    "\n",
    "\n",
    "def count_lines(f):\n",
    "    lineCount = 0\n",
    "    with open(f, 'r') as f:\n",
    "        for line in f:\n",
    "            lineCount += 1\n",
    "        return lineCount\n",
    "def runCMD(cmd):\n",
    "    val = subprocess.Popen(cmd, shell=True).wait()\n",
    "    if val == 0:\n",
    "        pass\n",
    "    else:\n",
    "        print ('command failed')\n",
    "        print (cmd)\n",
    "        sys.exit(1)\n",
    "# TO REMOVE TOP AND RIGHT AXIS OF PLOTS\n",
    "def simpleaxis(ax):\n",
    "    ax.spines['top'].set_visible(False)\n",
    "    ax.spines['right'].set_visible(False)\n",
    "    ax.get_xaxis().tick_bottom()\n",
    "    ax.get_yaxis().tick_left()"
   ]
  },
  {
   "cell_type": "code",
   "execution_count": 3,
   "metadata": {},
   "outputs": [],
   "source": [
    "def get_sample_info():\n",
    "    #Reading in the RNA-Seq library IDs\n",
    "    sampleInfo = '/home/ampend/links/kidd-lab/ampend-projects/Novel_Sequence_Analysis/rna-seq/SampleInfoTable.txt'\n",
    "    sampleDict, tissueDict, samples = {}, {}, []\n",
    "\n",
    "    for line in open(sampleInfo, 'r'):\n",
    "        if 'Bio' in line: #skips header\n",
    "            continue\n",
    "        line=line.rstrip().split()\n",
    "        ID = line[4]\n",
    "        #Rename some tissues to shorter name\n",
    "        tissue = line[5]\n",
    "        \n",
    "        if 'SmoothMuscle' in tissue:\n",
    "            shortTissue = 'SM'\n",
    "        if 'Unidentified' in tissue:\n",
    "            shortTissue = 'NA'\n",
    "        if 'Blood' in tissue:\n",
    "            shortTissue = 'BL'\n",
    "        if 'Brain' in tissue:\n",
    "            shortTissue = 'BR'\n",
    "        if 'Heart' in tissue:\n",
    "            shortTissue = 'HT'\n",
    "        if 'Ovary' in tissue:\n",
    "            shortTissue = 'OV'\n",
    "        if 'Skin' in tissue:\n",
    "            shortTissue = 'SK'\n",
    "        if 'Kidney' in tissue:\n",
    "            shortTissue = 'KD'\n",
    "        if 'Testis' in tissue:\n",
    "            shortTissue = 'TS'\n",
    "        if 'Liver' in tissue:\n",
    "            shortTissue = 'LV'\n",
    "        if 'Lung' in tissue:\n",
    "            shortTissue = 'LG'\n",
    "        sampleDict[ID] = []\n",
    "        sampleDict[ID].append(tissue)\n",
    "        sampleDict[ID].append(shortTissue)\n",
    "        samples.append(ID)\n",
    "        \n",
    "        if tissue not in tissueDict.keys():\n",
    "            tissueDict[tissue] = []\n",
    "        tissueDict[tissue].append(ID)\n",
    "\n",
    "    print('%i samples added to a sample array from the following tissues:\\n' % len(samples))\n",
    "\n",
    "    genomes = ['zoey-2.3','canFam3.1-noY']\n",
    "\n",
    "    for tissue in tissueDict.keys():\n",
    "        print(tissue)\n",
    "\n",
    "    return sampleDict, tissueDict, genomes\n",
    "\n"
   ]
  },
  {
   "cell_type": "markdown",
   "metadata": {},
   "source": [
    "## Reading in Library/Sample Information"
   ]
  },
  {
   "cell_type": "code",
   "execution_count": 4,
   "metadata": {},
   "outputs": [
    {
     "name": "stdout",
     "output_type": "stream",
     "text": [
      "42 samples added to a sample array from the following tissues:\n",
      "\n",
      "Unidentified\n",
      "Skin\n",
      "Kidney\n",
      "Brain\n",
      "Heart\n",
      "Testis\n",
      "Liver\n",
      "Blood\n",
      "SmoothMuscle\n",
      "Ovary\n",
      "Lung\n"
     ]
    }
   ],
   "source": [
    "#Reading in library information\n",
    "sampleDict, tissueDict, genomes = get_sample_info()\n",
    "\n",
    "samples,tissues=[],[]\n",
    "\n",
    "for key in sampleDict.keys():\n",
    "    samples.append(key)\n",
    "for tissue in tissueDict.keys():\n",
    "    tissues.append(tissue)"
   ]
  },
  {
   "cell_type": "markdown",
   "metadata": {},
   "source": [
    "## Reading in Kallisto Results"
   ]
  },
  {
   "cell_type": "code",
   "execution_count": 9,
   "metadata": {},
   "outputs": [
    {
     "name": "stdout",
     "output_type": "stream",
     "text": [
      "Unidentified\n",
      "Skin\n",
      "Kidney\n",
      "Brain\n",
      "Heart\n",
      "Testis\n",
      "Liver\n",
      "Blood\n",
      "SmoothMuscle\n",
      "Ovary\n",
      "Lung\n"
     ]
    }
   ],
   "source": [
    "#CALCULATE STATS AND DRAW PLOTS PER SAMPLE\n",
    "tissueCount = 0\n",
    "\n",
    "tpmDict = {}\n",
    "\n",
    "kalDir = '/home/ampend/links/kidd-lab/ampend-projects/Zoey_Genome_Project/rna-seq/Kalisto/'\n",
    "resultsDir = kalDir + 'results/'\n",
    "\n",
    "\n",
    "for tissue in tissueDict.keys():\n",
    "    print(tissue)\n",
    "\n",
    "    inFile = resultsDir + tissue + '/' + 'abundance.tsv'\n",
    "    for line in open(inFile,'r'):\n",
    "        if 'target_id' in line: #skip header\n",
    "            continue\n",
    "        line=line.rstrip().split('\\t')\n",
    "        transcript = line[0]\n",
    "        shortID = line[0].split('::')[1]\n",
    "        tpm = float(line[4])\n",
    "        \n",
    "        #create a key for each gene ID / short ID\n",
    "        if shortID not in tpmDict.keys(): #\n",
    "            tpmDict[shortID] = {}\n",
    "        \n",
    "        #If tissue has not been seen before, create \n",
    "        if tissue not in tpmDict[shortID].keys():\n",
    "            tpmDict[shortID][tissue] = 0.0\n",
    "        \n",
    "        tpmDict[shortID][tissue] = tpm #add TPM to the tissue value   \n",
    "    \n",
    "   "
   ]
  },
  {
   "cell_type": "markdown",
   "metadata": {},
   "source": [
    "# MAKING UCSC TRACKS"
   ]
  },
  {
   "cell_type": "markdown",
   "metadata": {},
   "source": [
    "## Set colors for the tracks per tissue type"
   ]
  },
  {
   "cell_type": "code",
   "execution_count": 11,
   "metadata": {},
   "outputs": [],
   "source": [
    "Ovary = 'rgb(255, 179, 255)'\n",
    "Heart = 'rgb(255, 0, 191)'\n",
    "Blood = 'rgb(204, 51, 0)'\n",
    "Liver = 'rgb(255, 166, 77)'\n",
    "Testis = 'rgb(179, 179, 204)'\n",
    "Brain = 'rgb(255, 255, 0)'\n",
    "SmoothMuscle = 'rgb(153, 51, 255)'\n",
    "Unidentified = 'rgb(0, 0, 0)'\n",
    "Skin = 'rgb(0, 102, 255)'\n",
    "Kidney = 'rgb(191, 128, 64)'\n",
    "Lung = 'rgb(0, 153, 51)'\n"
   ]
  },
  {
   "cell_type": "markdown",
   "metadata": {},
   "source": [
    "# GET ZOEY2.3 COORDINATE  OF EACH GENE FROM BED FILE"
   ]
  },
  {
   "cell_type": "code",
   "execution_count": 14,
   "metadata": {},
   "outputs": [
    {
     "name": "stdout",
     "output_type": "stream",
     "text": [
      "added coordinates in zoey2.3 to 24891 genes \n"
     ]
    }
   ],
   "source": [
    "bedFile = '/home/ampend/links/kidd-lab/ampend-projects/Zoey_Genome_Project/rna-seq/NonRedundant_NoRMIntersect_FilteredGeneSet/TotalSet_NoRMSingleExons_AllMultiExons.bed'\n",
    "\n",
    "posDict = {}\n",
    "\n",
    "for line in open(bedFile,'r'):\n",
    "    line=line.rstrip().split('\\t')\n",
    "    gene = line[3]\n",
    "    shortID = line[3].split('::')[1]\n",
    "    chrom,start,end = line[0],line[1],line[2]\n",
    "    orient = str(line[5])\n",
    "\n",
    "    if shortID not in posDict.keys():\n",
    "        posDict[shortID] = {}\n",
    "        posDict[shortID] = [chrom,start,end,gene,orient]\n",
    "    else:\n",
    "        print('Error -- redundant gene model -- Check')\n",
    "        print(shortID)\n",
    "        break\n",
    "print('added coordinates in zoey2.3 to %i genes ' % len(posDict.keys()))\n"
   ]
  },
  {
   "cell_type": "markdown",
   "metadata": {},
   "source": [
    "# GET TPMS PER GENE FROM KALISTO ABUNDANCE TSV FILES"
   ]
  },
  {
   "cell_type": "code",
   "execution_count": 17,
   "metadata": {},
   "outputs": [
    {
     "name": "stdout",
     "output_type": "stream",
     "text": [
      "Added expression data from 24891 gene IDs\n"
     ]
    }
   ],
   "source": [
    "#CALCULATE STATS AND DRAW PLOTS PER SAMPLE\n",
    "tissueCount = 0\n",
    "\n",
    "tpmDict = {}\n",
    "\n",
    "kalDir = '/home/ampend/links/kidd-lab/ampend-projects/Zoey_Genome_Project/rna-seq/Kalisto/'\n",
    "resultsDir = kalDir + 'results/'\n",
    "\n",
    "for tissue in tissueDict.keys():\n",
    "    tissueCount += 1\n",
    "    tpms = []\n",
    "    \n",
    "    inFile = resultsDir + tissue + '/' + 'abundance.tsv'\n",
    "    for line in open(inFile,'r'):\n",
    "        if 'target_id' in line:\n",
    "            continue\n",
    "        line=line.rstrip().split('\\t')\n",
    "        transcript = line[0]\n",
    "        shortID = line[0].split('::')[1]\n",
    "        tpm = float(line[4])\n",
    "        #if only the first sample, create key for the gene\n",
    "        if tissueCount == 1:\n",
    "            #0 = ALL library expression TPMs\n",
    "            #1 = Only libraries with TPM > 1.0\n",
    "            tpmDict[shortID] = [[],[]]\n",
    "        tpmDict[shortID][0].append(tpm) #add TPM to total dictionary      \n",
    "        \n",
    "        #If expressed at tpm > 1, add to dictionary\n",
    "        if tpm > 1.0:\n",
    "            tpmDict[shortID][1].append(tpm) #add TPM to total dictionary      \n",
    "print('Added expression data from %i gene IDs' % len(tpmDict.keys()))\n",
    "   "
   ]
  },
  {
   "cell_type": "markdown",
   "metadata": {},
   "source": [
    "# MAKING UCSC TRACK"
   ]
  },
  {
   "cell_type": "code",
   "execution_count": 18,
   "metadata": {},
   "outputs": [],
   "source": [
    "kalDir = '/home/ampend/links/kidd-lab/ampend-projects/Zoey_Genome_Project/rna-seq/Kalisto/'\n",
    "trackDir = kalDir + 'UCSC_Tracks/'\n",
    "resultsDir = kalDir + 'results/'\n",
    "\n",
    "trackFile = open(trackDir + 'ForUCSC_PerTissueExpression.barChart','w')\n",
    "for gene in tpmDict.keys():\n",
    "    chrom,start,end,orient = posDict[gene][0],posDict[gene][1],posDict[gene][2],posDict[gene][4]\n",
    "    tpms = ','.join(map(str, tpmDict[gene][0])) \n",
    "    score = '999' #default\n",
    "    trackFile.write('%s\\t%s\\t%s\\t%s\\t%s\\t%s\\t%s\\t%i\\t%s\\n' % (chrom,start,end,gene,score,orient,gene,len(tpmDict[gene][0]),tpms))\n",
    "    #chr14 95086227 95158010 ENSG00000100697.10 999 - DICER1 5 10.94,11.60,8.00,6.69,4.89 93153 26789\n",
    "\n",
    "trackFile.close()"
   ]
  },
  {
   "cell_type": "markdown",
   "metadata": {},
   "source": [
    "# SORTING AND CONVERTING TO BB"
   ]
  },
  {
   "cell_type": "code",
   "execution_count": 23,
   "metadata": {},
   "outputs": [
    {
     "name": "stdout",
     "output_type": "stream",
     "text": [
      "bedSort /home/ampend/links/kidd-lab/ampend-projects/Zoey_Genome_Project/rna-seq/Kalisto/UCSC_Tracks/ForUCSC_PerTissueExpression.barChart /home/ampend/links/kidd-lab/ampend-projects/Zoey_Genome_Project/rna-seq/Kalisto/UCSC_Tracks/ForUCSC_PerTissueExpression.barChart.sorted\n",
      "bedToBigBed -bedFields=4 /home/ampend/links/kidd-lab/ampend-projects/Zoey_Genome_Project/rna-seq/Kalisto/UCSC_Tracks/ForUCSC_PerTissueExpression.barChart.sorted /home/ampend/links/kidd-lab/ampend-projects/Zoey_Genome_Project/rna-seq/Kalisto/UCSC_Tracks/zoey.2.3.chrom.sizes /home/ampend/links/kidd-lab/ampend-projects/Zoey_Genome_Project/rna-seq/Kalisto/UCSC_Tracks/ForUCSC_PerTissueExpression.barChart.sorted.bb\n"
     ]
    }
   ],
   "source": [
    "trackfile = trackDir + 'ForUCSC_PerTissueExpression.barChart'\n",
    "\n",
    "#SORT BEDFILE OF UCSC TRACKS\n",
    "cmd = 'bedSort %s %s.sorted' % (trackfile,trackfile)\n",
    "print(cmd)\n",
    "runCMD(cmd)\n",
    "\n",
    "#Make into BB file \n",
    "chromFile = trackDir + 'zoey.2.3.chrom.sizes'\n",
    "cmd = 'bedToBigBed -bedFields=4 %s.sorted %s %s.sorted.bb' % (trackfile, chromFile, trackfile)\n",
    "print(cmd)\n",
    "runCMD(cmd)"
   ]
  },
  {
   "cell_type": "code",
   "execution_count": 24,
   "metadata": {},
   "outputs": [],
   "source": [
    "#DONE"
   ]
  }
 ],
 "metadata": {
  "kernelspec": {
   "display_name": "Python 3",
   "language": "python",
   "name": "python3"
  },
  "language_info": {
   "codemirror_mode": {
    "name": "ipython",
    "version": 3
   },
   "file_extension": ".py",
   "mimetype": "text/x-python",
   "name": "python",
   "nbconvert_exporter": "python",
   "pygments_lexer": "ipython3",
   "version": "3.5.4"
  }
 },
 "nbformat": 4,
 "nbformat_minor": 2
}
