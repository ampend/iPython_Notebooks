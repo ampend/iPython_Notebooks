{
 "cells": [
  {
   "cell_type": "code",
   "execution_count": 1,
   "metadata": {},
   "outputs": [],
   "source": [
    "# 2018-09-20\n",
    "# A. Pendleton\n",
    "# Link gene models from version 3 (500kb introns) to version 2 (100 kb introns)"
   ]
  },
  {
   "cell_type": "code",
   "execution_count": 53,
   "metadata": {},
   "outputs": [],
   "source": [
    "#this uses iPython magic to make plots appear inline\n",
    "%matplotlib inline\n",
    "import matplotlib.pyplot as plt\n",
    "import pandas as pd\n",
    "import subprocess\n",
    "import sys\n",
    "import numpy as np\n",
    "import matplotlib.patches as patches\n",
    "import gzip\n",
    "import fileinput\n",
    "import glob\n",
    "from scipy import stats\n",
    "import re\n",
    "from matplotlib_venn import venn3, venn3_circles\n",
    "from collections import OrderedDict\n",
    "\n",
    "\n",
    "def count_lines(f):\n",
    "    lineCount = 0\n",
    "    with open(f, 'r') as f:\n",
    "        for line in f:\n",
    "            lineCount += 1\n",
    "        return lineCount\n",
    "def runCMD(cmd):\n",
    "    #print(cmd)\n",
    "    val = subprocess.Popen(cmd, shell=True).wait()\n",
    "    if val == 0:\n",
    "        pass\n",
    "    else:\n",
    "        print ('command failed')\n",
    "        print (cmd)\n",
    "        sys.exit(1)\n",
    "# TO REMOVE TOP AND RIGHT AXIS OF PLOTS\n",
    "def simpleaxis(ax):\n",
    "    ax.spines['top'].set_visible(False)\n",
    "    ax.spines['right'].set_visible(False)\n",
    "    ax.get_xaxis().tick_bottom()\n",
    "    ax.get_yaxis().tick_left()"
   ]
  },
  {
   "cell_type": "markdown",
   "metadata": {},
   "source": [
    "# Define inputs"
   ]
  },
  {
   "cell_type": "code",
   "execution_count": 4,
   "metadata": {},
   "outputs": [],
   "source": [
    "v2Dir = '/home/ampend/links/kidd-lab/ampend-projects/Zoey_Genome_Project/rna-seq/NonRedundant_NoRMIntersect_FilteredGeneSet/'\n",
    "v2CDSFile = v2Dir + 'TotalSet_NoRMSingleExons_AllMultiExons_cds.fa'\n",
    "\n",
    "v3Dir = '/home/ampend/links/kidd-lab/ampend-projects/Zoey_Genome_Project/rna-seq/version3_intron500k/NonRedundant_NoRMIntersect_FilteredGeneSet/'\n",
    "v3CDSFile = v3Dir + 'TotalSet_NoRMSingleExons_AllMultiExons_cds.fa'\n"
   ]
  },
  {
   "cell_type": "markdown",
   "metadata": {},
   "source": [
    "# Set working directory for linking v2 to v3"
   ]
  },
  {
   "cell_type": "code",
   "execution_count": 6,
   "metadata": {},
   "outputs": [],
   "source": [
    "wkDir = '/home/ampend/links/kidd-lab/ampend-projects/Zoey_Genome_Project/rna-seq/version3_intron500k/LinkToVersion2Models/'"
   ]
  },
  {
   "cell_type": "markdown",
   "metadata": {},
   "source": [
    "# BLAT commands"
   ]
  },
  {
   "cell_type": "code",
   "execution_count": 8,
   "metadata": {},
   "outputs": [
    {
     "name": "stdout",
     "output_type": "stream",
     "text": [
      "faToTwoBit /home/ampend/links/kidd-lab/ampend-projects/Zoey_Genome_Project/rna-seq/NonRedundant_NoRMIntersect_FilteredGeneSet/TotalSet_NoRMSingleExons_AllMultiExons_cds.fa /home/ampend/links/kidd-lab/ampend-projects/Zoey_Genome_Project/rna-seq/NonRedundant_NoRMIntersect_FilteredGeneSet/TotalSet_NoRMSingleExons_AllMultiExons_cds.fa.2bit\n",
      "blat /home/ampend/links/kidd-lab/ampend-projects/Zoey_Genome_Project/rna-seq/NonRedundant_NoRMIntersect_FilteredGeneSet/TotalSet_NoRMSingleExons_AllMultiExons_cds.fa.2bit /home/ampend/links/kidd-lab/ampend-projects/Zoey_Genome_Project/rna-seq/version3_intron500k/NonRedundant_NoRMIntersect_FilteredGeneSet/TotalSet_NoRMSingleExons_AllMultiExons_cds.fa /home/ampend/links/kidd-lab/ampend-projects/Zoey_Genome_Project/rna-seq/version3_intron500k/LinkToVersion2Models/BLAT_version3_against_version2.psl\n"
     ]
    }
   ],
   "source": [
    "# fatotwobit version2 to make database\n",
    "cmd = 'faToTwoBit %s %s.2bit' % (v2CDSFile,v2CDSFile)\n",
    "print(cmd)\n",
    "#runCMD(cmd)\n",
    "\n",
    "#BLAT\n",
    "blatFile = wkDir + 'BLAT_version3_against_version2.psl' #desired output file\n",
    "cmd = 'blat %s.2bit %s %s' % (v2CDSFile,v3CDSFile,blatFile)\n",
    "print(cmd)\n",
    "#runCMD(cmd)\n"
   ]
  },
  {
   "cell_type": "markdown",
   "metadata": {},
   "source": [
    "# Create list of all version 3 (500kb intron) genes"
   ]
  },
  {
   "cell_type": "code",
   "execution_count": 37,
   "metadata": {},
   "outputs": [
    {
     "name": "stdout",
     "output_type": "stream",
     "text": [
      "45443 v3 genes (500kb introns) added to dictionary\n"
     ]
    }
   ],
   "source": [
    "v3Genes = []\n",
    "\n",
    "for line in open(v3CDSFile,'r'):\n",
    "    if '>' not in line: #only want fasta headers which have the gene IDs in them\n",
    "        continue\n",
    "    line = line.rstrip()\n",
    "    line = line.replace('>','') #remove > symbol\n",
    "    \n",
    "    v3Genes.append(line)\n",
    "print('%i v3 genes (500kb introns) added to dictionary' % len(v3Genes))"
   ]
  },
  {
   "cell_type": "markdown",
   "metadata": {},
   "source": [
    "# Parse BLAT file to link the gene models"
   ]
  },
  {
   "cell_type": "code",
   "execution_count": 23,
   "metadata": {},
   "outputs": [
    {
     "name": "stdout",
     "output_type": "stream",
     "text": [
      "22209 v3 genes (500kb introns) could be linked to v2 genes\n"
     ]
    }
   ],
   "source": [
    "linkDict = {}\n",
    "\n",
    "for line in open(blatFile,'r'):\n",
    "    line = line.rstrip().split()\n",
    "    #skip header lines\n",
    "    if 'psLayout' in line or len(line) == 0 or 'match' in line[0] or '-' in line[0]:\n",
    "        continue\n",
    "    \n",
    "    hitScore = int(line[0])\n",
    "    strand = line[8]\n",
    "    \n",
    "    v3Gene = line[9] # QUERY\n",
    "    v3Length,v3Start,v3End = int(line[10]),int(line[11]),int(line[12])\n",
    "\n",
    "    v2Gene = line[13] # DATABASE GENE\n",
    "    v2Length,v2Start,v2End = int(line[14]),int(line[15]),int(line[16])\n",
    "    \n",
    "    ####FILTRATIONS\n",
    "    #BLOCK COUNT\n",
    "    blockCount = int(line[17])\n",
    "    if blockCount != 1:\n",
    "        continue\n",
    "    \n",
    "    #Must be same length\n",
    "    if v3Length != v2Length:\n",
    "        continue\n",
    "    \n",
    "    #Score must equal length of both genes\n",
    "    if hitScore != v3Length:\n",
    "        continue\n",
    "    \n",
    "    linkDict[v3Gene] = v2Gene\n",
    "    #print(line) \n",
    "    #break\n",
    "\n",
    "print('%i v3 genes (500kb introns) could be linked to v2 genes' % len(linkDict.keys()))"
   ]
  },
  {
   "cell_type": "markdown",
   "metadata": {},
   "source": [
    "# Determine which v3 genes do not have a match in v2"
   ]
  },
  {
   "cell_type": "code",
   "execution_count": 40,
   "metadata": {},
   "outputs": [
    {
     "name": "stdout",
     "output_type": "stream",
     "text": [
      "22209/45443 genes have a match in version 2\n",
      "23234/45443 genes DO NOT have a match in version 2\n"
     ]
    }
   ],
   "source": [
    "linkFile = open(wkDir + 'Link_Version3Genes_Version2Genes.txt','w')\n",
    "hasPairing, noPairing = 0, 0\n",
    "\n",
    "\n",
    "for gene in v3Genes:\n",
    "    if gene not in linkDict.keys():\n",
    "        linkFile.write('%s\\tNA\\n' % (gene))\n",
    "        noPairing+=1\n",
    "    else:\n",
    "        linkFile.write('%s\\t%s\\n' % (gene,linkDict[gene]) )\n",
    "        hasPairing+=1\n",
    "linkFile.close()\n",
    "\n",
    "print('%i/%i genes have a match in version 2' % (hasPairing,len(v3Genes)))\n",
    "print('%i/%i genes DO NOT have a match in version 2' % (noPairing,len(v3Genes)))\n",
    "    "
   ]
  },
  {
   "cell_type": "markdown",
   "metadata": {},
   "source": [
    "# BLAST"
   ]
  },
  {
   "cell_type": "markdown",
   "metadata": {},
   "source": [
    "### Define inputs"
   ]
  },
  {
   "cell_type": "code",
   "execution_count": 63,
   "metadata": {},
   "outputs": [
    {
     "name": "stdout",
     "output_type": "stream",
     "text": [
      "mkdir -p /home/ampend/links/kidd-lab/ampend-projects/Zoey_Genome_Project/rna-seq/version3_intron500k/BLAST2GO/input/\n",
      "mkdir -p /home/ampend/links/kidd-lab/ampend-projects/Zoey_Genome_Project/rna-seq/version3_intron500k/BLAST2GO/input/split_fastas/\n",
      "mkdir -p /home/ampend/links/kidd-lab/ampend-projects/Zoey_Genome_Project/rna-seq/version3_intron500k/BLAST2GO/blastp_results/\n",
      "mkdir -p /home/ampend/links/kidd-lab/ampend-projects/Zoey_Genome_Project/rna-seq/version3_intron500k/BLAST2GO/scripts/\n"
     ]
    }
   ],
   "source": [
    "blastDir = '/home/ampend/links/kidd-lab/ampend-projects/Zoey_Genome_Project/rna-seq/version3_intron500k/BLAST2GO/'\n",
    "\n",
    "cmd = 'mkdir -p %sinput/' % blastDir\n",
    "print(cmd)\n",
    "runCMD(cmd)\n",
    "\n",
    "\n",
    "#Create directory for split fastas\n",
    "fastaOutDir = blastDir + 'input/' + 'split_fastas/'\n",
    "cmd = 'mkdir -p %s' % fastaOutDir\n",
    "print(cmd)\n",
    "runCMD(cmd)\n",
    "\n",
    "#Out directory for BLAST results\n",
    "blastpDir = blastDir + 'blastp_results/'\n",
    "cmd = 'mkdir -p %s' % blastpDir\n",
    "print(cmd)\n",
    "runCMD(cmd)\n",
    "\n",
    "#Scripts directory to write all the blastp commands to\n",
    "scriptsDir = blastDir + 'scripts/'\n",
    "cmd = 'mkdir -p %s' % scriptsDir\n",
    "print(cmd)\n",
    "runCMD(cmd)"
   ]
  },
  {
   "cell_type": "markdown",
   "metadata": {},
   "source": [
    "### Split peptide fasta file into individual fasta files"
   ]
  },
  {
   "cell_type": "code",
   "execution_count": null,
   "metadata": {},
   "outputs": [],
   "source": [
    "#FASTA information\n",
    "fastaFile = v3CDSFile.replace('.cds','.pep')\n",
    "\n",
    "commandsfile = scriptsDir + 'blastp_commands.cmds'\n",
    "commandsFile = open(commandsfile, 'w')\n",
    "\n",
    "sequenceCount = 0\n",
    "copied,wroteCommand=0,0\n",
    "\n",
    "for line in open(fastaFile,'r'):\n",
    "    line = line.rstrip() \n",
    "    if '>' in line and sequenceCount > 0: #close the fasta file if it's the next fasta seq\n",
    "        fastaOut.close()\n",
    "\n",
    "    if '>' in line: #create new fasta file\n",
    "        sequenceCount += 1 #add one to sequence counts\n",
    "        #format so that the gene ID doesn't have \"ID=\" or anything after \n",
    "        #         the first semi colon or else blastp wont work\n",
    "        geneID = line.replace('>','') \n",
    "        if 'ID=' in geneID:\n",
    "            geneID = geneID.replace('ID=','')\n",
    "\n",
    "        #Creating fasta out file just with one sequence\n",
    "        fasta_out = fastaOutDir + geneID + '.fa'\n",
    "        fastaOut = open(fasta_out, 'w')\n",
    "        fastaOut.write('>%s\\n' % geneID)  #writes the gene ID line only here\n",
    "\n",
    "        ###ONLY WRITE BLASTP COMMAND IF NOT ALREADY DONE IN VERSION 2\n",
    "        if geneID in linkDict.keys(): #if gene has mate in version 2\n",
    "            originalBLASTpDir = '/home/ampend/links/kidd-lab/ampend-projects/Zoey_Genome_Project/BLAST2GO/version2_intron100k/blastp_results/'\n",
    "            #Copy previous XML file to version3 directory\n",
    "            ## AND\n",
    "            ##Rename to the version 3 gene\n",
    "            cmd = 'cp %s%s.xml %s%s.xml' % (originalBLASTpDir,linkDict[geneID],blastpDir,geneID)\n",
    "            runCMD(cmd)\n",
    "            copied+=1\n",
    "        \n",
    "        else:#WRITE COMMAND TO COMMAND FILE since gene wasn't blasted previously\n",
    "            cmd = 'blastp -db ~/links/kidd-lab-scratch/blastdb/nr -outfmt 5 -evalue 1e-3 -word_size 3 -show_gis -max_hsps_per_subject 20 -num_threads 5 -max_target_seqs 20 -out %s%s.xml -query %s' % (blastpDir, geneID, fasta_out)\n",
    "            commandsFile.write('%s\\n' % cmd)\n",
    "            wroteCommand +=1\n",
    "\n",
    "    else:\n",
    "        fastaOut.write('%s\\n' % line)\n",
    "\n",
    "\n",
    "fastaOut.close()\n",
    "commandsFile.close()\n",
    "\n",
    "print ('Processed %d fasta sequences' % sequenceCount)\n",
    "print('Copied xml files from %i sequences' % copied)\n",
    "print('Wrote commands for %i sequences' % wroteCommand)\n"
   ]
  }
 ],
 "metadata": {
  "kernelspec": {
   "display_name": "Python 3",
   "language": "python",
   "name": "python3"
  },
  "language_info": {
   "codemirror_mode": {
    "name": "ipython",
    "version": 3
   },
   "file_extension": ".py",
   "mimetype": "text/x-python",
   "name": "python",
   "nbconvert_exporter": "python",
   "pygments_lexer": "ipython3",
   "version": "3.5.4"
  }
 },
 "nbformat": 4,
 "nbformat_minor": 2
}
