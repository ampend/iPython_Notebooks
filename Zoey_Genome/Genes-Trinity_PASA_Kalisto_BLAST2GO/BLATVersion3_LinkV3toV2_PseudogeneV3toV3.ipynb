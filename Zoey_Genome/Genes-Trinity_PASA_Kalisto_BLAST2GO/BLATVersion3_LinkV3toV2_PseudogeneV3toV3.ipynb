{
 "cells": [
  {
   "cell_type": "code",
   "execution_count": 1,
   "metadata": {},
   "outputs": [],
   "source": [
    "# 2018-09-20\n",
    "# A. Pendleton\n",
    "# Link gene models from version 3 (500kb introns) to version 2 (100 kb introns)"
   ]
  },
  {
   "cell_type": "code",
   "execution_count": 71,
   "metadata": {},
   "outputs": [],
   "source": [
    "#this uses iPython magic to make plots appear inline\n",
    "%matplotlib inline\n",
    "import matplotlib.pyplot as plt\n",
    "import pandas as pd\n",
    "import subprocess\n",
    "import sys\n",
    "import numpy as np\n",
    "import matplotlib.patches as patches\n",
    "import gzip\n",
    "import fileinput\n",
    "import glob\n",
    "from scipy import stats\n",
    "import re\n",
    "from matplotlib_venn import venn3, venn3_circles\n",
    "from collections import OrderedDict\n",
    "\n",
    "\n",
    "def count_lines(f):\n",
    "    lineCount = 0\n",
    "    with open(f, 'r') as f:\n",
    "        for line in f:\n",
    "            lineCount += 1\n",
    "        return lineCount\n",
    "def runCMD(cmd):\n",
    "    #print(cmd)\n",
    "    val = subprocess.Popen(cmd, shell=True).wait()\n",
    "    if val == 0:\n",
    "        pass\n",
    "    else:\n",
    "        print ('command failed')\n",
    "        print (cmd)\n",
    "        sys.exit(1)\n",
    "# TO REMOVE TOP AND RIGHT AXIS OF PLOTS\n",
    "def simpleaxis(ax):\n",
    "    ax.spines['top'].set_visible(False)\n",
    "    ax.spines['right'].set_visible(False)\n",
    "    ax.get_xaxis().tick_bottom()\n",
    "    ax.get_yaxis().tick_left()\n",
    "def write_pbs_file(wkDir,cmdsFile,jobName, mem, jobCount):\n",
    "    #write PBS file\n",
    "    if '/scripts/' in wkDir:\n",
    "        wkDir = wkDir.replace('/scripts/','')\n",
    "    pbsFile = open(cmdsFile.replace('.cmds','.pbs'),'w')\n",
    "    print('Writing pbs file: %s'% pbsFile)\n",
    "    pbsFile.write('#!/bin/bash\\n')\n",
    "    pbsFile.write('#PBS -S /bin/bash\\n')\n",
    "    pbsFile.write('#PBS -V\\n')\n",
    "    pbsFile.write('#PBS -M ampend@med.umich.edu\\n')\n",
    "    pbsFile.write('#PBS -j oe\\n')\n",
    "    pbsFile.write('#PBS -N %s\\n' % jobName)\n",
    "    pbsFile.write('#PBS -o %s\\n' % (wkDir + 'logs/'))\n",
    "    pbsFile.write('#PBS -l pmem=%iG\\n' % mem)\n",
    "    pbsFile.write('#PBS -l nodes=1:ppn=1,qos=flux,walltime=100:00:00\\n')\n",
    "    pbsFile.write('##PBS -A medbsm_flux\\n')\n",
    "    pbsFile.write('##PBS -q flux\\n')\n",
    "    pbsFile.write('#PBS -A jmkidd_fluxod\\n')\n",
    "    pbsFile.write('#PBS -q fluxod\\n')\n",
    "    pbsFile.write('#PBS -t 1-%s\\n' % jobCount)\n",
    "    pbsFile.write('cd %s\\n' % (wkDir))\n",
    "    pbsFile.write('/home/ampend/links/kidd-lab/jmkidd-projects/scripts/perlUtils/run-by-id-log.pl %s %sBLAT_commands.logs $PBS_ARRAYID' % (cmdsFile,cmdsFile.replace('/scripts/','/logs/')))\n",
    "    pbsFile.close()"
   ]
  },
  {
   "cell_type": "markdown",
   "metadata": {},
   "source": [
    "# Define inputs"
   ]
  },
  {
   "cell_type": "code",
   "execution_count": 4,
   "metadata": {},
   "outputs": [],
   "source": [
    "v2Dir = '/home/ampend/links/kidd-lab/ampend-projects/Zoey_Genome_Project/rna-seq/NonRedundant_NoRMIntersect_FilteredGeneSet/'\n",
    "v2CDSFile = v2Dir + 'TotalSet_NoRMSingleExons_AllMultiExons_cds.fa'\n",
    "\n",
    "v3Dir = '/home/ampend/links/kidd-lab/ampend-projects/Zoey_Genome_Project/rna-seq/version3_intron500k/NonRedundant_NoRMIntersect_FilteredGeneSet/'\n",
    "v3CDSFile = v3Dir + 'TotalSet_NoRMSingleExons_AllMultiExons_cds.fa'\n"
   ]
  },
  {
   "cell_type": "markdown",
   "metadata": {},
   "source": [
    "# Set working directory for linking v2 to v3"
   ]
  },
  {
   "cell_type": "code",
   "execution_count": 6,
   "metadata": {},
   "outputs": [],
   "source": [
    "wkDir = '/home/ampend/links/kidd-lab/ampend-projects/Zoey_Genome_Project/rna-seq/version3_intron500k/LinkToVersion2Models/'"
   ]
  },
  {
   "cell_type": "markdown",
   "metadata": {},
   "source": [
    "# BLAT commands"
   ]
  },
  {
   "cell_type": "code",
   "execution_count": 8,
   "metadata": {},
   "outputs": [
    {
     "name": "stdout",
     "output_type": "stream",
     "text": [
      "faToTwoBit /home/ampend/links/kidd-lab/ampend-projects/Zoey_Genome_Project/rna-seq/NonRedundant_NoRMIntersect_FilteredGeneSet/TotalSet_NoRMSingleExons_AllMultiExons_cds.fa /home/ampend/links/kidd-lab/ampend-projects/Zoey_Genome_Project/rna-seq/NonRedundant_NoRMIntersect_FilteredGeneSet/TotalSet_NoRMSingleExons_AllMultiExons_cds.fa.2bit\n",
      "blat /home/ampend/links/kidd-lab/ampend-projects/Zoey_Genome_Project/rna-seq/NonRedundant_NoRMIntersect_FilteredGeneSet/TotalSet_NoRMSingleExons_AllMultiExons_cds.fa.2bit /home/ampend/links/kidd-lab/ampend-projects/Zoey_Genome_Project/rna-seq/version3_intron500k/NonRedundant_NoRMIntersect_FilteredGeneSet/TotalSet_NoRMSingleExons_AllMultiExons_cds.fa /home/ampend/links/kidd-lab/ampend-projects/Zoey_Genome_Project/rna-seq/version3_intron500k/LinkToVersion2Models/BLAT_version3_against_version2.psl\n"
     ]
    }
   ],
   "source": [
    "# fatotwobit version2 to make database\n",
    "cmd = 'faToTwoBit %s %s.2bit' % (v2CDSFile,v2CDSFile)\n",
    "print(cmd)\n",
    "#runCMD(cmd)\n",
    "\n",
    "#BLAT\n",
    "blatFile = wkDir + 'BLAT_version3_against_version2.psl' #desired output file\n",
    "cmd = 'blat %s.2bit %s %s' % (v2CDSFile,v3CDSFile,blatFile)\n",
    "print(cmd)\n",
    "#runCMD(cmd)\n"
   ]
  },
  {
   "cell_type": "markdown",
   "metadata": {},
   "source": [
    "# Create list of all version 3 (500kb intron) genes"
   ]
  },
  {
   "cell_type": "code",
   "execution_count": 37,
   "metadata": {},
   "outputs": [
    {
     "name": "stdout",
     "output_type": "stream",
     "text": [
      "45443 v3 genes (500kb introns) added to dictionary\n"
     ]
    }
   ],
   "source": [
    "v3Genes = []\n",
    "\n",
    "for line in open(v3CDSFile,'r'):\n",
    "    if '>' not in line: #only want fasta headers which have the gene IDs in them\n",
    "        continue\n",
    "    line = line.rstrip()\n",
    "    line = line.replace('>','') #remove > symbol\n",
    "    \n",
    "    v3Genes.append(line)\n",
    "print('%i v3 genes (500kb introns) added to dictionary' % len(v3Genes))"
   ]
  },
  {
   "cell_type": "markdown",
   "metadata": {},
   "source": [
    "# Parse BLAT file to link the gene models"
   ]
  },
  {
   "cell_type": "code",
   "execution_count": 23,
   "metadata": {},
   "outputs": [
    {
     "name": "stdout",
     "output_type": "stream",
     "text": [
      "22209 v3 genes (500kb introns) could be linked to v2 genes\n"
     ]
    }
   ],
   "source": [
    "linkDict = {}\n",
    "\n",
    "for line in open(blatFile,'r'):\n",
    "    line = line.rstrip().split()\n",
    "    #skip header lines\n",
    "    if 'psLayout' in line or len(line) == 0 or 'match' in line[0] or '-' in line[0]:\n",
    "        continue\n",
    "    \n",
    "    hitScore = int(line[0])\n",
    "    strand = line[8]\n",
    "    \n",
    "    v3Gene = line[9] # QUERY\n",
    "    v3Length,v3Start,v3End = int(line[10]),int(line[11]),int(line[12])\n",
    "\n",
    "    v2Gene = line[13] # DATABASE GENE\n",
    "    v2Length,v2Start,v2End = int(line[14]),int(line[15]),int(line[16])\n",
    "    \n",
    "    ####FILTRATIONS\n",
    "    #BLOCK COUNT\n",
    "    blockCount = int(line[17])\n",
    "    if blockCount != 1:\n",
    "        continue\n",
    "    \n",
    "    #Must be same length\n",
    "    if v3Length != v2Length:\n",
    "        continue\n",
    "    \n",
    "    #Score must equal length of both genes\n",
    "    if hitScore != v3Length:\n",
    "        continue\n",
    "    \n",
    "    linkDict[v3Gene] = v2Gene\n",
    "    #print(line) \n",
    "    #break\n",
    "\n",
    "print('%i v3 genes (500kb introns) could be linked to v2 genes' % len(linkDict.keys()))"
   ]
  },
  {
   "cell_type": "markdown",
   "metadata": {},
   "source": [
    "# Determine which v3 genes do not have a match in v2"
   ]
  },
  {
   "cell_type": "code",
   "execution_count": 40,
   "metadata": {},
   "outputs": [
    {
     "name": "stdout",
     "output_type": "stream",
     "text": [
      "22209/45443 genes have a match in version 2\n",
      "23234/45443 genes DO NOT have a match in version 2\n"
     ]
    }
   ],
   "source": [
    "linkFile = open(wkDir + 'Link_Version3Genes_Version2Genes.txt','w')\n",
    "hasPairing, noPairing = 0, 0\n",
    "\n",
    "\n",
    "for gene in v3Genes:\n",
    "    if gene not in linkDict.keys():\n",
    "        linkFile.write('%s\\tNA\\n' % (gene))\n",
    "        noPairing+=1\n",
    "    else:\n",
    "        linkFile.write('%s\\t%s\\n' % (gene,linkDict[gene]) )\n",
    "        hasPairing+=1\n",
    "linkFile.close()\n",
    "\n",
    "print('%i/%i genes have a match in version 2' % (hasPairing,len(v3Genes)))\n",
    "print('%i/%i genes DO NOT have a match in version 2' % (noPairing,len(v3Genes)))\n",
    "    "
   ]
  },
  {
   "cell_type": "markdown",
   "metadata": {},
   "source": [
    "# BLAT all v all  ---- Pseudogene search"
   ]
  },
  {
   "cell_type": "code",
   "execution_count": 87,
   "metadata": {},
   "outputs": [
    {
     "name": "stdout",
     "output_type": "stream",
     "text": [
      "mkdir -p /home/ampend/links/kidd-lab/ampend-projects/Zoey_Genome_Project/rna-seq/version3_intron500k/NonRedundant_NoRMIntersect_FilteredGeneSet/../Pseudogene_Search/\n",
      "faToTwoBit /home/ampend/links/kidd-lab/ampend-projects/Zoey_Genome_Project/rna-seq/version3_intron500k/NonRedundant_NoRMIntersect_FilteredGeneSet/TotalSet_NoRMSingleExons_AllMultiExons_cds.fa /home/ampend/links/kidd-lab/ampend-projects/Zoey_Genome_Project/rna-seq/version3_intron500k/NonRedundant_NoRMIntersect_FilteredGeneSet/TotalSet_NoRMSingleExons_AllMultiExons_cds.fa.2bit\n",
      "blat /home/ampend/links/kidd-lab/ampend-projects/Zoey_Genome_Project/rna-seq/version3_intron500k/NonRedundant_NoRMIntersect_FilteredGeneSet/TotalSet_NoRMSingleExons_AllMultiExons_cds.fa.2bit /home/ampend/links/kidd-lab/ampend-projects/Zoey_Genome_Project/rna-seq/version3_intron500k/NonRedundant_NoRMIntersect_FilteredGeneSet/TotalSet_NoRMSingleExons_AllMultiExons_cds.fa /home/ampend/links/kidd-lab/ampend-projects/Zoey_Genome_Project/rna-seq/version3_intron500k/NonRedundant_NoRMIntersect_FilteredGeneSet/../Pseudogene_Search/BLAT_V3CDS_v_V3CDS.psl\n",
      "BLAT Done!!!!\n"
     ]
    }
   ],
   "source": [
    "#Make directory for these steps\n",
    "psDir = '%s../Pseudogene_Search/' % v3Dir\n",
    "cmd = 'mkdir -p %s' % psDir\n",
    "print(cmd)\n",
    "runCMD(cmd)\n",
    "\n",
    "#Generate two-bit file of the v3 cds fasta\n",
    "cmd = 'faToTwoBit %s %s.2bit' % (v3CDSFile,v3CDSFile)\n",
    "print(cmd)\n",
    "runCMD(cmd)\n",
    "\n",
    "#BLAT v3 2bit versus v3 CDS\n",
    "blatOutFile = '%sBLAT_V3CDS_v_V3CDS.psl'  % psDir\n",
    "cmd = 'blat %s.2bit %s %s' % (v3CDSFile,v3CDSFile,blatOutFile)\n",
    "print(cmd)\n",
    "#runCMD(cmd)\n",
    "\n",
    "print('BLAT Done!!!!')"
   ]
  },
  {
   "cell_type": "markdown",
   "metadata": {},
   "source": [
    "### Generate EXON and INTRON ONLY bed files"
   ]
  },
  {
   "cell_type": "code",
   "execution_count": 200,
   "metadata": {},
   "outputs": [],
   "source": [
    "nonRedundant_v3Bed = '/home/ampend/links/kidd-lab/ampend-projects/Zoey_Genome_Project/rna-seq/version3_intron500k/NonRedundant_NoRMIntersect_FilteredGeneSet/TotalSet_NoRMSingleExons_AllMultiExons.bed'\n",
    "exons_nonRedv3_bed = open(nonRedundant_v3Bed.replace('.bed','.exons.bed'),'w')\n",
    "introns_nonRedv3_bed = open(nonRedundant_v3Bed.replace('.bed','.introns.bed'),'w')\n",
    "\n",
    "for line in open(nonRedundant_v3Bed,'r'):\n",
    "    if 'track' in line:\n",
    "        continue\n",
    "    line=line.rstrip().split('\\t')\n",
    "    chrom,start,end,strand = line[0],int(line[1]),int(line[2]),line[5]\n",
    "    geneID = line[3].replace('ID=','').split(';')[0]\n",
    "    \n",
    "    exonCount = int(line[9])# == blockCount\n",
    "    exonLengths = line[10].split(',')\n",
    "    exonStarts = line[11].split(',')\n",
    "    blockOverallStart,blockOverallEnd = int(line[6]),int(line[7])\n",
    "    \n",
    "    #WRITE OUT THE EXONS\n",
    "    exonStartList = []\n",
    "    for i in range(0,exonCount):\n",
    "        #Exon coordinates\n",
    "        exS = start + int(exonStarts[i])\n",
    "        exE = start + int(exonStarts[i]) + int(exonLengths[i])\n",
    "        exons_nonRedv3_bed.write('%s\\t%i\\t%i\\t%s_exon%i\\n' % (chrom,exS,exE,geneID,(i+1)))\n",
    "        exonStartList.append(exS)\n",
    "        \n",
    "        #Intron coordinates\n",
    "        if i == 0: #can only calculate once we're at exon 1 or more\n",
    "            continue\n",
    "        inS,inE = int(exonStartList[i-1])+1,int(exonStartList[i])-1\n",
    "        introns_nonRedv3_bed.write('%s\\t%i\\t%i\\t%s_intron%i\\n' % (chrom,inS,inE,geneID,(i+1)))\n",
    "\n",
    "    \n",
    "exons_nonRedv3_bed.close()\n",
    "introns_nonRedv3_bed.close()\n"
   ]
  },
  {
   "cell_type": "markdown",
   "metadata": {},
   "source": [
    "### Read BED file to find number of exons for each gene model"
   ]
  },
  {
   "cell_type": "code",
   "execution_count": 276,
   "metadata": {},
   "outputs": [
    {
     "name": "stdout",
     "output_type": "stream",
     "text": [
      "45443 genes added to dictionary\n",
      "Added status of 45443 genes\n"
     ]
    }
   ],
   "source": [
    "nonRedundant_v3Bed = '/home/ampend/links/kidd-lab/ampend-projects/Zoey_Genome_Project/rna-seq/version3_intron500k/NonRedundant_NoRMIntersect_FilteredGeneSet/TotalSet_NoRMSingleExons_AllMultiExons.bed'\n",
    "exonDict = {}\n",
    "\n",
    "for LINE in open(nonRedundant_v3Bed, 'r'):\n",
    "    line=LINE.rstrip().split()\n",
    "    if 'track' in line[0]: #skip header\n",
    "        continue\n",
    "    #Read in information on gene\n",
    "    geneID = line[3].replace('ID=','').split(';')[0]\n",
    "    shortID = line[3].split(';')[1]\n",
    "    chrom,start,end,strand,info = line[0],int(line[1]),int(line[2]),line[5],line\n",
    "    \n",
    "    exonCount = int(line[9])\n",
    "    exonLengths = line[10]\n",
    "    #If geneID not already in dictionary, then add\n",
    "    if geneID not in exonDict.keys():\n",
    "        exonDict[geneID] = {}\n",
    "        exonDict[geneID]['exonCount'] = exonCount\n",
    "        exonDict[geneID]['exonLength'] = exonLengths\n",
    "        exonDict[geneID]['chrom'] = chrom\n",
    "        exonDict[geneID]['start'] = start\n",
    "        exonDict[geneID]['end'] = end\n",
    "        exonDict[geneID]['strand'] = strand\n",
    "        exonDict[geneID]['info'] = info\n",
    "        exonDict[geneID]['perfectHits'] = []\n",
    "print('%i genes added to dictionary' % len(exonDict.keys()))\n",
    "\n",
    "v3_pepFile = '/home/ampend/links/kidd-lab/ampend-projects/Zoey_Genome_Project/rna-seq/version3_intron500k/transdecoder/results/pasa-lite_ZoeyTrinity.pasa_assembled_alignments.fa.transdecoder.pep'\n",
    "\n",
    "missingFromBed,count = [], 0\n",
    "for line in open(v3_pepFile,'r'):\n",
    "    if '>' not in line:\n",
    "        continue\n",
    "    line = line.rstrip().split()\n",
    "    geneID = line[0].replace('>','')\n",
    "    status = line[3].split(':')[1]\n",
    "    if geneID in exonDict.keys():\n",
    "        exonDict[geneID]['status'] = status\n",
    "        count+=1\n",
    "print('Added status of %i genes' % count)\n",
    "    "
   ]
  },
  {
   "cell_type": "markdown",
   "metadata": {},
   "source": [
    "### Intersect CDS bed with CDS bed (reciprocal) to find intersecting gene models"
   ]
  },
  {
   "cell_type": "code",
   "execution_count": 293,
   "metadata": {},
   "outputs": [
    {
     "name": "stdout",
     "output_type": "stream",
     "text": [
      "/home/ampend/links/kidd-lab/ampend-projects/Zoey_Genome_Project/rna-seq/version3_intron500k/NonRedundant_NoRMIntersect_FilteredGeneSet/../Pseudogene_Search/Intersect_Version3_ExonsVExons.txt\n",
      "bedtools intersect -wo -a /home/ampend/links/kidd-lab/ampend-projects/Zoey_Genome_Project/rna-seq/version3_intron500k/NonRedundant_NoRMIntersect_FilteredGeneSet/TotalSet_NoRMSingleExons_AllMultiExons.exons.bed -b /home/ampend/links/kidd-lab/ampend-projects/Zoey_Genome_Project/rna-seq/version3_intron500k/NonRedundant_NoRMIntersect_FilteredGeneSet/TotalSet_NoRMSingleExons_AllMultiExons.exons.bed > /home/ampend/links/kidd-lab/ampend-projects/Zoey_Genome_Project/rna-seq/version3_intron500k/NonRedundant_NoRMIntersect_FilteredGeneSet/../Pseudogene_Search/Intersect_Version3_ExonsVExons.txt\n",
      "['chr4', '29719707', '29721387', 'Gene.315437::chr4.g12627.i1::g.315437::m.315437_exon1', 'chr4', '29717687', '29721404', 'Gene.312042::chr4.g12621.i1::g.312042::m.312042_exon1', '1680']\n",
      "1.0 0.4519774011299435\n",
      "5prime_partial\n",
      "complete\n"
     ]
    },
    {
     "ename": "TypeError",
     "evalue": "not enough arguments for format string",
     "output_type": "error",
     "traceback": [
      "\u001b[0;31m---------------------------------------------------------------------------\u001b[0m",
      "\u001b[0;31mTypeError\u001b[0m                                 Traceback (most recent call last)",
      "\u001b[0;32m<ipython-input-293-d63573a282bc>\u001b[0m in \u001b[0;36m<module>\u001b[0;34m()\u001b[0m\n\u001b[1;32m     53\u001b[0m                 \u001b[0;32mif\u001b[0m \u001b[0mgene1\u001b[0m \u001b[0;32mnot\u001b[0m \u001b[0;32min\u001b[0m \u001b[0mSKIP_THESE_GENE_MODELS2\u001b[0m \u001b[0;32mand\u001b[0m \u001b[0mgene2\u001b[0m \u001b[0;32mnot\u001b[0m \u001b[0;32min\u001b[0m \u001b[0mSKIP_THESE_GENE_MODELS2\u001b[0m\u001b[0;34m:\u001b[0m\u001b[0;34m\u001b[0m\u001b[0m\n\u001b[1;32m     54\u001b[0m                     \u001b[0mSKIP_THESE_GENE_MODELS2\u001b[0m\u001b[0;34m.\u001b[0m\u001b[0mappend\u001b[0m\u001b[0;34m(\u001b[0m\u001b[0mgene1\u001b[0m\u001b[0;34m)\u001b[0m\u001b[0;34m\u001b[0m\u001b[0m\n\u001b[0;32m---> 55\u001b[0;31m \u001b[0mprint\u001b[0m\u001b[0;34m(\u001b[0m\u001b[0;34m'%i single exon gene models have >95% overlap with another single exon gene and should be ignored'\u001b[0m \u001b[0;34m%\u001b[0m \u001b[0mlen\u001b[0m\u001b[0;34m(\u001b[0m\u001b[0mSKIP_THESE_GENE_MODELS\u001b[0m\u001b[0;34m)\u001b[0m\u001b[0;34m)\u001b[0m\u001b[0;34m\u001b[0m\u001b[0m\n\u001b[0m\u001b[1;32m     56\u001b[0m \u001b[0mprint\u001b[0m\u001b[0;34m(\u001b[0m\u001b[0;34m'%i single exon gene models have RECIPROCAL >95% overlaps with another single exon gene and should be ignored'\u001b[0m \u001b[0;34m%\u001b[0m \u001b[0mlen\u001b[0m\u001b[0;34m(\u001b[0m\u001b[0mSKIP_THESE_GENE_MODELS2\u001b[0m\u001b[0;34m)\u001b[0m\u001b[0;34m)\u001b[0m\u001b[0;34m\u001b[0m\u001b[0m\n",
      "\u001b[0;31mTypeError\u001b[0m: not enough arguments for format string"
     ]
    }
   ],
   "source": [
    "exons_nonRedv3_bed = nonRedundant_v3Bed.replace('.bed','.exons.bed')\n",
    "exonIntersectFile = psDir + 'Intersect_Version3_ExonsVExons.txt'\n",
    "print(exonIntersectFile)\n",
    "\n",
    "cmd = 'bedtools intersect -wo -a %s -b %s > %s' % (exons_nonRedv3_bed,exons_nonRedv3_bed,exonIntersectFile)\n",
    "print(cmd)\n",
    "#runCMD(cmd)\n",
    "\n",
    "SKIP_THESE_GENE_MODELS = []\n",
    "SKIP_THESE_GENE_MODELS2 = []\n",
    "\n",
    "for line in open(exonIntersectFile,'r'):\n",
    "    line=line.rstrip().split('\\t')\n",
    "    gene1,gene2 = line[3].split('_exon')[0],line[7].split('_exon')[0]\n",
    "    length_gene1, length_gene2 = int(line[2])-int(line[1]), int(line[6])-int(line[5])\n",
    "    \n",
    "    if gene1 == gene2: #Skip self-self hits\n",
    "        continue\n",
    "    if gene1 not in exonDict.keys(): #Only want the gene models \n",
    "        print('ERROR: Why is this gene not in dictionary?')\n",
    "        continue\n",
    "\n",
    "    if 'Gene.315437::chr4.g12627.i1::g.315437::m.315437' in gene1:\n",
    "        print(line)\n",
    "        propOfGene1Hit = int(line[-1])/length_gene1\n",
    "        propOfGene2Hit = int(line[-1])/length_gene2\n",
    "        print(propOfGene1Hit,propOfGene2Hit)\n",
    "        print(exonDict[gene1]['status'])\n",
    "        print(exonDict[gene2]['status'])\n",
    "    #WE ONLY WANT SINGLE EXON GENE COMPARISONS\n",
    "    gene1_exonCount = exonDict[gene1]['exonCount']\n",
    "    gene2_exonCount = exonDict[gene2]['exonCount']\n",
    "    if gene1_exonCount == 1 and gene2_exonCount == 1: #Only are interested in single exon gene models    \n",
    "        #ONLY WANT HITS THAT ALIGN TO MOST OF THE SINGLE EXON MODELS (>90%)\n",
    "        propOfGene1Hit = int(line[-1])/length_gene1\n",
    "        propOfGene2Hit = int(line[-1])/length_gene2\n",
    "\n",
    "        if propOfGene1Hit > .9:# and propOfGene2Hit > .9:\n",
    "            \n",
    "            #WANT TO SKIP MODELS THAT ARE SMALLER THAN THEIR OVERLAPPING HIT\n",
    "            if length_gene1 <= length_gene2:\n",
    "                \n",
    "                #ADD GENE MODEL ID ONLY ONCE\n",
    "                if gene1 not in SKIP_THESE_GENE_MODELS and gene2 not in SKIP_THESE_GENE_MODELS:\n",
    "                    SKIP_THESE_GENE_MODELS.append(gene1)\n",
    "        \n",
    "        if propOfGene1Hit > .9 and propOfGene2Hit > .9:\n",
    "            \n",
    "            #WANT TO SKIP MODELS THAT ARE SMALLER THAN THEIR OVERLAPPING HIT\n",
    "            if length_gene1 <= length_gene2:\n",
    "                \n",
    "                #ADD GENE MODEL ID ONLY ONCE\n",
    "                if gene1 not in SKIP_THESE_GENE_MODELS2 and gene2 not in SKIP_THESE_GENE_MODELS2:\n",
    "                    SKIP_THESE_GENE_MODELS2.append(gene1)\n",
    "print('%i single exon gene models have >95% overlap with another single exon gene and should be ignored' % len(SKIP_THESE_GENE_MODELS))\n",
    "print('%i single exon gene models have RECIPROCAL >95% overlaps with another single exon gene and should be ignored' % len(SKIP_THESE_GENE_MODELS2))\n"
   ]
  },
  {
   "cell_type": "code",
   "execution_count": 272,
   "metadata": {},
   "outputs": [
    {
     "name": "stdout",
     "output_type": "stream",
     "text": [
      "\n",
      "#  Gene.41096::chr10.g913.i1::g.41096::m.41096\n",
      "{'status': 'complete', 'chrom': 'chr10', 'strand': '+', 'end': 1136730, 'exonLength': '2289', 'info': ['chr10', '1134441', '1136730', 'Gene.41096::chr10.g913.i1::g.41096::m.41096;chr10.g913;ORF', '0', '+', '1135622', '1135943', '0', '1', '2289', '0'], 'start': 1134441, 'exonCount': 1}\n",
      "chr10:1134441-1136730\n",
      "\n",
      "#  Gene.47792::chr10.g5090.i1::g.47792::m.47792\n",
      "{'status': 'complete', 'chrom': 'chr10', 'strand': '-', 'end': 11575751, 'exonLength': '3192', 'info': ['chr10', '11572559', '11575751', 'Gene.47792::chr10.g5090.i1::g.47792::m.47792;chr10.g5090;ORF', '0', '-', '11574890', '11575730', '0', '1', '3192', '0'], 'start': 11572559, 'exonCount': 1}\n",
      "chr10:11572559-11575751\n",
      "\n",
      "#  Gene.38047::chr10.g5363.i1::g.38047::m.38047\n",
      "{'status': '3prime_partial', 'chrom': 'chr10', 'strand': '+', 'end': 12185014, 'exonLength': '361', 'info': ['chr10', '12184653', '12185014', 'Gene.38047::chr10.g5363.i1::g.38047::m.38047;chr10.g5363;ORF', '0', '+', '12184680', '12185013', '0', '1', '361', '0'], 'start': 12184653, 'exonCount': 1}\n",
      "chr10:12184653-12185014\n",
      "\n",
      "#  Gene.43255::chr10.g5736.i1::g.43255::m.43255\n",
      "{'status': '5prime_partial', 'chrom': 'chr10', 'strand': '+', 'end': 13134495, 'exonLength': '969', 'info': ['chr10', '13133526', '13134495', 'Gene.43255::chr10.g5736.i1::g.43255::m.43255;chr10.g5736;ORF', '0', '+', '13133527', '13134172', '0', '1', '969', '0'], 'start': 13133526, 'exonCount': 1}\n",
      "chr10:13133526-13134495\n",
      "\n",
      "#  Gene.49047::chr10.g7.i1::g.49047::m.49047\n",
      "{'status': 'internal', 'chrom': 'chr10', 'strand': '-', 'end': 15320, 'exonLength': '560', 'info': ['chr10', '14760', '15320', 'Gene.49047::chr10.g7.i1::g.49047::m.49047;chr10.g7;ORF', '0', '-', '14761', '15319', '0', '1', '560', '0'], 'start': 14760, 'exonCount': 1}\n",
      "chr10:14760-15320\n",
      "\n",
      "#  Gene.42761::chr10.g6158.i1::g.42761::m.42761\n",
      "{'status': '3prime_partial', 'chrom': 'chr10', 'strand': '-', 'end': 15360257, 'exonLength': '2858', 'info': ['chr10', '15357399', '15360257', 'Gene.42761::chr10.g6158.i1::g.42761::m.42761;chr10.g6158;ORF', '0', '-', '15357400', '15359737', '0', '1', '2858', '0'], 'start': 15357399, 'exonCount': 1}\n",
      "chr10:15357399-15360257\n"
     ]
    }
   ],
   "source": [
    "count = 0\n",
    "\n",
    "for gene in SKIP_THESE_GENE_MODELS:\n",
    "    if gene not in SKIP_THESE_GENE_MODELS2:\n",
    "        count +=1\n",
    "        print('\\n# ',gene)\n",
    "        print(exonDict[gene])\n",
    "        print('%s:%s-%s'%(exonDict[gene]['chrom'],exonDict[gene]['start'],exonDict[gene]['end']))\n",
    "        \n",
    "    if count >5:\n",
    "        break"
   ]
  },
  {
   "cell_type": "markdown",
   "metadata": {},
   "source": [
    "### Parse BLAT file and see how many single exons have perfect hits to another gene model"
   ]
  },
  {
   "cell_type": "code",
   "execution_count": 281,
   "metadata": {},
   "outputs": [
    {
     "name": "stdout",
     "output_type": "stream",
     "text": [
      "6685 gene models added to SKIP_THESE_GENE_MODELS3\n"
     ]
    }
   ],
   "source": [
    "allvall_blatFile = blatOutFile\n",
    "GENE_MODELS_PERFECT_HITS_POSSIBLE_PSEUDOGENES = []\n",
    "\n",
    "for line in open(allvall_blatFile,'r'):\n",
    "    line = line.rstrip().split()\n",
    "    #skip header lines\n",
    "    if 'psLayout' in line or len(line) == 0 or 'match' in line[0] or '-' in line[0]:\n",
    "        continue\n",
    "    hitScore = int(line[0])\n",
    "    strand = line[8]\n",
    "    # QUERY GENE INFO\n",
    "    queryGene = line[9] \n",
    "    queryLength,queryStart,queryEnd = int(line[10]),int(line[11]),int(line[12])\n",
    "    # DATABASE GENE INFO\n",
    "    dbGene = line[13] \n",
    "    dbLength,dbStart,dbEnd = int(line[14]),int(line[15]),int(line[16])\n",
    "    blockCount = int(line[17])\n",
    "    \n",
    "    #__CALCULATIONS__#\n",
    "    hitThreshold = 0.95 #>95% of length == strong hit\n",
    "    propHit = hitScore/queryLength\n",
    "    \n",
    "    #__FILTRATIONS__#\n",
    "    #Ignore any that are self hits\n",
    "    if queryGene == dbGene:\n",
    "        continue\n",
    "    \n",
    "    #Ignore any where the query is not a single exon gene\n",
    "    if exonDict[queryGene]['exonCount'] != 1:\n",
    "        continue\n",
    "\n",
    "    #Score must equal length of both genes\n",
    "    if propHit < hitThreshold:\n",
    "        continue\n",
    "    if queryGene in SKIP_THESE_GENE_MODELS or dbGene in SKIP_THESE_GENE_MODELS:\n",
    "        continue\n",
    "    \n",
    "    #Add the other hitting gene to the dictionary\n",
    "    exonDict[queryGene]['perfectHits'].append([dbGene,propHit])\n",
    "\n",
    "    GENE_MODELS_PERFECT_HITS_POSSIBLE_PSEUDOGENES.append(queryGene)\n",
    "    #break\n",
    "print('%i gene models added to SKIP_THESE_GENE_MODELS3' % len(GENE_MODELS_PERFECT_HITS_POSSIBLE_PSEUDOGENES))   \n",
    "\n"
   ]
  },
  {
   "cell_type": "code",
   "execution_count": 292,
   "metadata": {},
   "outputs": [
    {
     "name": "stdout",
     "output_type": "stream",
     "text": [
      "6685\n"
     ]
    },
    {
     "data": {
      "image/png": "[encoded data removed]",
      "text/plain": [
       "<Figure size 432x288 with 1 Axes>"
      ]
     },
     "metadata": {},
     "output_type": "display_data"
    }
   ],
   "source": [
    "lengths_singleExonsPerfectHits = []\n",
    "\n",
    "for gene in GENE_MODELS_PERFECT_HITS_POSSIBLE_PSEUDOGENES:\n",
    "    length = exonDict[gene]['end']-exonDict[gene]['start']\n",
    "    lengths_singleExonsPerfectHits.append(length)\n",
    "\n",
    "print(len(lengths_singleExonsPerfectHits))\n",
    "\n",
    "plt.hist(lengths_singleExonsPerfectHits,bins=1000)\n",
    "plt.xlim(200,2000)\n",
    "plt.tight_layout()\n",
    "plt.show()"
   ]
  },
  {
   "cell_type": "markdown",
   "metadata": {},
   "source": [
    "    #print(line)\n",
    "    #print('#Query: ',queryGene)\n",
    "    #print(exonDict[queryGene])\n",
    "    ##print('%s:%s-%s'%(exonDict[queryGene]['chrom'],exonDict[queryGene]['start'],exonDict[queryGene]['end']))\n",
    "    #print('\\n#DB: ',dbGene)\n",
    "    #print(exonDict[dbGene])\n",
    "    #print('%s:%s-%s'%(exonDict[dbGene]['chrom'],exonDict[dbGene]['start'],exonDict[dbGene]['end']))\n",
    "\n",
    "\n",
    "\"\"\"else:\n",
    "    sameCoordStatus = determine_if_same_coords(exonDict,queryGene,dbGene)\n",
    "    if sameCoordStatus == True:\n",
    "        if dbGene in sameCoordPerfHits:\n",
    "            continue\n",
    "        else:\n",
    "            sameCoordPerfHits.append(dbGene)\n",
    "            continue\n",
    "    if exonDict[queryGene]['chrom'] != exonDict[dbGene]['chrom']:\n",
    "        continue\n",
    "\n",
    "    print('Strong hit:',propHit)\n",
    "    print('Coord status:',sameCoordStatus)\n",
    "    print(str(line) + '\\n') \n",
    "    print(exonDict[queryGene])\n",
    "    print(exonDict[queryGene]['chrom'],exonDict[queryGene]['start'],exonDict[queryGene]['end'])\n",
    "    print(exonDict[dbGene])\n",
    "    print(exonDict[dbGene]['chrom'],exonDict[dbGene]['start'],exonDict[dbGene]['end'])\n",
    "    break\"\"\"\n"
   ]
  },
  {
   "cell_type": "markdown",
   "metadata": {},
   "source": [
    "# BLAST for BLAST2GO"
   ]
  },
  {
   "cell_type": "markdown",
   "metadata": {},
   "source": [
    "### Define inputs"
   ]
  },
  {
   "cell_type": "code",
   "execution_count": 63,
   "metadata": {},
   "outputs": [
    {
     "name": "stdout",
     "output_type": "stream",
     "text": [
      "mkdir -p /home/ampend/links/kidd-lab/ampend-projects/Zoey_Genome_Project/rna-seq/version3_intron500k/BLAST2GO/input/\n",
      "mkdir -p /home/ampend/links/kidd-lab/ampend-projects/Zoey_Genome_Project/rna-seq/version3_intron500k/BLAST2GO/input/split_fastas/\n",
      "mkdir -p /home/ampend/links/kidd-lab/ampend-projects/Zoey_Genome_Project/rna-seq/version3_intron500k/BLAST2GO/blastp_results/\n",
      "mkdir -p /home/ampend/links/kidd-lab/ampend-projects/Zoey_Genome_Project/rna-seq/version3_intron500k/BLAST2GO/scripts/\n"
     ]
    }
   ],
   "source": [
    "blastDir = '/home/ampend/links/kidd-lab/ampend-projects/Zoey_Genome_Project/rna-seq/version3_intron500k/BLAST2GO/'\n",
    "\n",
    "cmd = 'mkdir -p %sinput/' % blastDir\n",
    "print(cmd)\n",
    "runCMD(cmd)\n",
    "\n",
    "#Create directory for split fastas\n",
    "fastaOutDir = blastDir + 'input/' + 'split_fastas/'\n",
    "cmd = 'mkdir -p %s' % fastaOutDir\n",
    "print(cmd)\n",
    "runCMD(cmd)\n",
    "\n",
    "#Out directory for BLAST results\n",
    "blastpDir = blastDir + 'blastp_results/'\n",
    "cmd = 'mkdir -p %s' % blastpDir\n",
    "print(cmd)\n",
    "runCMD(cmd)\n",
    "\n",
    "#Scripts directory to write all the blastp commands to\n",
    "scriptsDir = blastDir + 'scripts/'\n",
    "cmd = 'mkdir -p %s' % scriptsDir\n",
    "print(cmd)\n",
    "runCMD(cmd)"
   ]
  },
  {
   "cell_type": "markdown",
   "metadata": {},
   "source": [
    "### Split peptide fasta file into individual fasta files"
   ]
  },
  {
   "cell_type": "code",
   "execution_count": 66,
   "metadata": {},
   "outputs": [
    {
     "name": "stdout",
     "output_type": "stream",
     "text": [
      "Processed 45443 fasta sequences\n",
      "Copied xml files from 22209 sequences\n",
      "Wrote commands for 23234 sequences\n"
     ]
    }
   ],
   "source": [
    "#FASTA information\n",
    "fastaFile = v3CDSFile.replace('.cds','.pep')\n",
    "\n",
    "commandsfile = scriptsDir + 'blastp_commands.cmds'\n",
    "commandsFile = open(commandsfile, 'w')\n",
    "\n",
    "sequenceCount = 0\n",
    "copied,wroteCommand=0,0\n",
    "\n",
    "for line in open(fastaFile,'r'):\n",
    "    line = line.rstrip() \n",
    "    if '>' in line and sequenceCount > 0: #close the fasta file if it's the next fasta seq\n",
    "        fastaOut.close()\n",
    "\n",
    "    if '>' in line: #create new fasta file\n",
    "        sequenceCount += 1 #add one to sequence counts\n",
    "        #format so that the gene ID doesn't have \"ID=\" or anything after \n",
    "        #         the first semi colon or else blastp wont work\n",
    "        geneID = line.replace('>','') \n",
    "        if 'ID=' in geneID:\n",
    "            geneID = geneID.replace('ID=','')\n",
    "\n",
    "        #Creating fasta out file just with one sequence\n",
    "        fasta_out = fastaOutDir + geneID + '.fa'\n",
    "        fastaOut = open(fasta_out, 'w')\n",
    "        fastaOut.write('>%s\\n' % geneID)  #writes the gene ID line only here\n",
    "\n",
    "        ###ONLY WRITE BLASTP COMMAND IF NOT ALREADY DONE IN VERSION 2\n",
    "        if geneID in linkDict.keys(): #if gene has mate in version 2\n",
    "            originalBLASTpDir = '/home/ampend/links/kidd-lab/ampend-projects/Zoey_Genome_Project/BLAST2GO/version2_intron100k/blastp_results/'\n",
    "            #Copy previous XML file to version3 directory\n",
    "            ## AND\n",
    "            ##Rename to the version 3 gene\n",
    "            cmd = 'cp %s%s.xml %s%s.xml' % (originalBLASTpDir,linkDict[geneID],blastpDir,geneID)\n",
    "            runCMD(cmd)\n",
    "            copied+=1\n",
    "        \n",
    "        else:#WRITE COMMAND TO COMMAND FILE since gene wasn't blasted previously\n",
    "            cmd = 'blastp -db ~/links/kidd-lab-scratch/blastdb/nr -outfmt 5 -evalue 1e-3 -word_size 3 -show_gis -max_hsps_per_subject 20 -num_threads 5 -max_target_seqs 20 -out %s%s.xml -query %s' % (blastpDir, geneID, fasta_out)\n",
    "            commandsFile.write('%s\\n' % cmd)\n",
    "            wroteCommand +=1\n",
    "\n",
    "    else:\n",
    "        fastaOut.write('%s\\n' % line)\n",
    "\n",
    "\n",
    "fastaOut.close()\n",
    "commandsFile.close()\n",
    "\n",
    "print ('Processed %d fasta sequences' % sequenceCount)\n",
    "print('Copied xml files from %i sequences' % copied)\n",
    "print('Wrote commands for %i sequences' % wroteCommand)\n"
   ]
  },
  {
   "cell_type": "markdown",
   "metadata": {},
   "source": [
    "### Write PBS file to submit the jobs"
   ]
  },
  {
   "cell_type": "code",
   "execution_count": 72,
   "metadata": {},
   "outputs": [
    {
     "name": "stdout",
     "output_type": "stream",
     "text": [
      "Writing pbs file: <_io.TextIOWrapper name='/home/ampend/links/kidd-lab/ampend-projects/Zoey_Genome_Project/rna-seq/version3_intron500k/BLAST2GO/scripts/blastp_commands.pbs' mode='w' encoding='UTF-8'>\n"
     ]
    }
   ],
   "source": [
    "#Write pbs script for blatting\n",
    "jobName = 'blat_zoey'\n",
    "mem = 10\n",
    "jobCount = wroteCommand\n",
    "\n",
    "write_pbs_file(scriptsDir,commandsfile,jobName, mem, jobCount)\n",
    "\n"
   ]
  },
  {
   "cell_type": "code",
   "execution_count": null,
   "metadata": {},
   "outputs": [],
   "source": []
  },
  {
   "cell_type": "code",
   "execution_count": null,
   "metadata": {},
   "outputs": [],
   "source": []
  },
  {
   "cell_type": "code",
   "execution_count": null,
   "metadata": {},
   "outputs": [],
   "source": []
  },
  {
   "cell_type": "code",
   "execution_count": null,
   "metadata": {},
   "outputs": [],
   "source": []
  },
  {
   "cell_type": "code",
   "execution_count": null,
   "metadata": {},
   "outputs": [],
   "source": []
  },
  {
   "cell_type": "code",
   "execution_count": null,
   "metadata": {},
   "outputs": [],
   "source": []
  },
  {
   "cell_type": "code",
   "execution_count": null,
   "metadata": {},
   "outputs": [],
   "source": []
  },
  {
   "cell_type": "code",
   "execution_count": null,
   "metadata": {},
   "outputs": [],
   "source": []
  },
  {
   "cell_type": "code",
   "execution_count": null,
   "metadata": {},
   "outputs": [],
   "source": []
  },
  {
   "cell_type": "code",
   "execution_count": null,
   "metadata": {},
   "outputs": [],
   "source": []
  },
  {
   "cell_type": "code",
   "execution_count": 141,
   "metadata": {},
   "outputs": [],
   "source": [
    "def determine_if_same_coords(exonDict,queryGene,dbGene):\n",
    "    queryChrom,queryStart,queryEnd = exonDict[queryGene]['chrom'],exonDict[queryGene]['start'],exonDict[queryGene]['end']\n",
    "    dbChrom,dbStart,dbEnd = exonDict[dbGene]['chrom'],exonDict[dbGene]['start'],exonDict[dbGene]['end']\n",
    "    \n",
    "    sameCoordStatus = False #DEFAULT\n",
    "    \n",
    "    #Def can't be same if chromosomes are different\n",
    "    if queryChrom != dbChrom:\n",
    "        return False\n",
    "\n",
    "    if queryStart == dbStart and queryEnd == dbEnd:\n",
    "        return True\n",
    "    \n",
    "    ###IF THE QUERY IS FULLY WITHIN THE DATABASE GENE\n",
    "    #DB ===============================\n",
    "    #Q          =================\n",
    "    if queryStart >= dbStart and queryEnd <= dbEnd:\n",
    "        return True\n",
    "    \n",
    "    startDifferential = abs(dbStart-queryStart)\n",
    "    endDifferential = abs(dbEnd-queryEnd)\n",
    "    if startDifferential < 10 or endDifferential < 10:\n",
    "        return True\n",
    "    \n",
    "    return sameCoordStatus"
   ]
  }
 ],
 "metadata": {
  "kernelspec": {
   "display_name": "Python 3",
   "language": "python",
   "name": "python3"
  },
  "language_info": {
   "codemirror_mode": {
    "name": "ipython",
    "version": 3
   },
   "file_extension": ".py",
   "mimetype": "text/x-python",
   "name": "python",
   "nbconvert_exporter": "python",
   "pygments_lexer": "ipython3",
   "version": "3.5.4"
  }
 },
 "nbformat": 4,
 "nbformat_minor": 2
}
