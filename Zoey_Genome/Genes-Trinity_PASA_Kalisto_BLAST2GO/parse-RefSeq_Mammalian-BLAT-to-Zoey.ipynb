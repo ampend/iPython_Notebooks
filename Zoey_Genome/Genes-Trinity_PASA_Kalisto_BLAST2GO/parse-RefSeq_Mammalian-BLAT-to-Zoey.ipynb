{
 "cells": [
  {
   "cell_type": "code",
   "execution_count": 1,
   "metadata": {},
   "outputs": [],
   "source": [
    "# 2018-05-16\n",
    "# A. Pendleton\n",
    "# Parsing the BLATs of the non-predicted RefSeq (release #87) mammalian genes against the zoey2.3 genome"
   ]
  },
  {
   "cell_type": "code",
   "execution_count": 2,
   "metadata": {},
   "outputs": [],
   "source": [
    "#this uses iPython magic to make plots appear inline\n",
    "%matplotlib inline\n",
    "import matplotlib.pyplot as plt\n",
    "import pandas as pd\n",
    "import subprocess\n",
    "import sys\n",
    "import numpy as np\n",
    "import matplotlib.patches as patches\n",
    "import gzip\n",
    "import fileinput\n",
    "import glob\n",
    "from scipy import stats\n",
    "import re\n",
    "from matplotlib_venn import venn3, venn3_circles\n",
    "from collections import OrderedDict\n",
    "\n",
    "\n",
    "def count_lines(f):\n",
    "    lineCount = 0\n",
    "    with open(f, 'r') as f:\n",
    "        for line in f:\n",
    "            lineCount += 1\n",
    "        return lineCount\n",
    "def runCMD(cmd):\n",
    "    val = subprocess.Popen(cmd, shell=True).wait()\n",
    "    if val == 0:\n",
    "        pass\n",
    "    else:\n",
    "        print ('command failed')\n",
    "        print (cmd)\n",
    "        sys.exit(1)\n",
    "# TO REMOVE TOP AND RIGHT AXIS OF PLOTS\n",
    "def simpleaxis(ax):\n",
    "    ax.spines['top'].set_visible(False)\n",
    "    ax.spines['right'].set_visible(False)\n",
    "    ax.get_xaxis().tick_bottom()\n",
    "    ax.get_yaxis().tick_left()"
   ]
  },
  {
   "cell_type": "markdown",
   "metadata": {},
   "source": [
    "# First read in the list of IDs to link the RefSeq ID to the gene name"
   ]
  },
  {
   "cell_type": "code",
   "execution_count": 8,
   "metadata": {},
   "outputs": [
    {
     "name": "stdout",
     "output_type": "stream",
     "text": [
      "171160 genes processed \n"
     ]
    }
   ],
   "source": [
    "refSeqDir = '/nfs/turbo/jmkidddata/ampend-projects/annotations_genes/refseq-mammalian-release87/'\n",
    "refSeqFile = refSeqDir + 'NonPredicted_refseq87_TotalIDs.txt'\n",
    "\n",
    "refDict = {}\n",
    "count = 0\n",
    "\n",
    "for line in open(refSeqFile,'r'):\n",
    "    count +=1 \n",
    "    line=line.replace('>','')\n",
    "    #print(line.rstrip())\n",
    "    refID = line.split(' ')[0] #Refseq ID\n",
    "    fullDesc = line.split(' ')[1]\n",
    "    #Get gene name (alias)\n",
    "    #geneName = re.findall('\\((.+)\\),', line)[-1]\n",
    "    #print(line)\n",
    "    if '(' in line:\n",
    "        g = re.search(\"\\((\\S*)\\),\", line)\n",
    "        G = str(g.group(0))\n",
    "        geneName = G.replace('(','').replace(')','').replace(',','')\n",
    "        #print(G,geneName)\n",
    "    else:\n",
    "        geneName = ''\n",
    "    #Get the gene description\n",
    "    Detail = line.split(' ')[-1]\n",
    "\n",
    "    #TEST = d.lastgroup()\n",
    "    if refID in refDict.keys():\n",
    "        print('Error: redundant refseq ID = ', refID)\n",
    "        break\n",
    "    else:\n",
    "        refDict[refID] = [line, geneName, Detail]\n",
    "\n",
    "    #if count > 100:\n",
    "    #    break\n",
    "print('%i genes processed ' % count)"
   ]
  },
  {
   "cell_type": "code",
   "execution_count": null,
   "metadata": {},
   "outputs": [],
   "source": [
    "IDFile = open(refSeqDir + 'RefSeqID_to_GeneName_conversion.txt','w')\n",
    "\n",
    "for refID in refDict.keys():\n",
    "    print(refID)\n",
    "    print(refDict[refID])\n",
    "    IDFile.write()\n",
    "    break\n",
    "IDFile.close()"
   ]
  },
  {
   "cell_type": "markdown",
   "metadata": {},
   "source": [
    "# Parsing in the BLAT results"
   ]
  },
  {
   "cell_type": "markdown",
   "metadata": {},
   "source": [
    "#Methods per UCSC:\n",
    "\n",
    "\n",
    "\n",
    "The RNAs were aligned against the dog genome using blat; those with an alignment of less than 15% were discarded. When a single RNA aligned in multiple places, the alignment having the highest base identity was identified. Only alignments having a base identity level within 0.5% of the best and at least 25% base identity with the genomic sequence were kept.\n",
    "\n"
   ]
  },
  {
   "cell_type": "code",
   "execution_count": 44,
   "metadata": {},
   "outputs": [
    {
     "name": "stdout",
     "output_type": "stream",
     "text": [
      "57292 top hits in dictionary\n",
      "4802932 hits (top + close hits) in array\n"
     ]
    }
   ],
   "source": [
    "blatDir = '/home/ampend/links/kidd-lab/ampend-projects/Zoey_Genome_Project/annotations/BLAT_with_RefSeqMammalian/results/'\n",
    "\n",
    "blatDict = {}\n",
    "allHits = []\n",
    "seqCount = 0 \n",
    "\n",
    "for file in glob.glob(blatDir + '*.psl'):\n",
    "    #print(file)\n",
    "    for line in open(file,'r'):\n",
    "        seqCount += 1\n",
    "        \n",
    "        line=line.rstrip().split()\n",
    "        score,orient,gene,geneLength = int(line[0]),line[8],line[9],int(line[10])\n",
    "        chrom,start,end = line[13],int(line[15]),int(line[16]) \n",
    "        \n",
    "        blockCount = int(line[17])\n",
    "        blocks = line[18].split(',')\n",
    "        \n",
    "        blockSum = 0\n",
    "        for i in range(0,len(blocks)-1):\n",
    "            j = int(blocks[i])\n",
    "            blockSum = blockSum + j\n",
    "        \n",
    "        propHit = float(blockSum / geneLength)\n",
    "        #skip all \"hits\" with less than 15% of length alignment (from adding up blocks)\n",
    "        if propHit < 0.15:\n",
    "            continue\n",
    "\n",
    "        #First hit automatically gets saved since it has a higher propHit than required (15%)\n",
    "        if gene not in blatDict.keys():\n",
    "            blatDict[gene] = []\n",
    "            blatDict[gene] = [chrom,start,end,gene,orient,geneLength,blockSum,propHit,blockCount,line[18],line[19]]\n",
    "            continue\n",
    "        \n",
    "        #amount different between this hit and top hit\n",
    "        bestHit = blatDict[gene][7]\n",
    "        propDifference = abs(propHit - bestHit)\n",
    "        \n",
    "        #if the hit is better than the best hit\n",
    "        if propDifference < 0.5 and propHit > 0.25:\n",
    "            allHits.append([chrom,start,end,gene,orient,geneLength,blockSum,propHit,blockCount,line[18],line[19]])\n",
    "        \n",
    "    \n",
    "    for key in blatDict.keys():\n",
    "        info = allHits.append(blatDict[key])\n",
    "    #break\n",
    "\n",
    "print('%i top hits in dictionary' % len(blatDict.keys()))\n",
    "print('%i hits (top + close hits) in array' % len(allHits))"
   ]
  },
  {
   "cell_type": "code",
   "execution_count": null,
   "metadata": {},
   "outputs": [],
   "source": []
  },
  {
   "cell_type": "code",
   "execution_count": null,
   "metadata": {},
   "outputs": [],
   "source": []
  },
  {
   "cell_type": "code",
   "execution_count": null,
   "metadata": {},
   "outputs": [],
   "source": []
  },
  {
   "cell_type": "code",
   "execution_count": null,
   "metadata": {},
   "outputs": [],
   "source": []
  },
  {
   "cell_type": "code",
   "execution_count": null,
   "metadata": {},
   "outputs": [],
   "source": []
  },
  {
   "cell_type": "code",
   "execution_count": null,
   "metadata": {},
   "outputs": [],
   "source": []
  },
  {
   "cell_type": "code",
   "execution_count": null,
   "metadata": {},
   "outputs": [],
   "source": []
  },
  {
   "cell_type": "code",
   "execution_count": null,
   "metadata": {},
   "outputs": [],
   "source": []
  }
 ],
 "metadata": {
  "kernelspec": {
   "display_name": "Python 3",
   "language": "python",
   "name": "python3"
  },
  "language_info": {
   "codemirror_mode": {
    "name": "ipython",
    "version": 3
   },
   "file_extension": ".py",
   "mimetype": "text/x-python",
   "name": "python",
   "nbconvert_exporter": "python",
   "pygments_lexer": "ipython3",
   "version": "3.5.4"
  }
 },
 "nbformat": 4,
 "nbformat_minor": 2
}
