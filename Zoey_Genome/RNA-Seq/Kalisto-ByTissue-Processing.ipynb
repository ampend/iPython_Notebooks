{
 "cells": [
  {
   "cell_type": "code",
   "execution_count": 8,
   "metadata": {},
   "outputs": [],
   "source": [
    "# 2018-07-13\n",
    "# A. Pendleton\n",
    "# Processing Kallisto Transcript Assessments\n",
    "# By tissue (merged samples per tissue)\n",
    "# -- PASA transcripts with 100kb max intron size"
   ]
  },
  {
   "cell_type": "code",
   "execution_count": 9,
   "metadata": {},
   "outputs": [],
   "source": [
    "#this uses iPython magic to make plots appear inline\n",
    "%matplotlib inline\n",
    "import matplotlib.pyplot as plt\n",
    "import pandas as pd\n",
    "import subprocess\n",
    "import sys\n",
    "import numpy as np\n",
    "import matplotlib.patches as patches\n",
    "import gzip\n",
    "import fileinput\n",
    "import glob\n",
    "from scipy import stats\n",
    "import re\n",
    "from matplotlib_venn import venn3, venn3_circles\n",
    "from collections import OrderedDict\n",
    "\n",
    "\n",
    "def count_lines(f):\n",
    "    lineCount = 0\n",
    "    with open(f, 'r') as f:\n",
    "        for line in f:\n",
    "            lineCount += 1\n",
    "        return lineCount\n",
    "def runCMD(cmd):\n",
    "    val = subprocess.Popen(cmd, shell=True).wait()\n",
    "    if val == 0:\n",
    "        pass\n",
    "    else:\n",
    "        print ('command failed')\n",
    "        print (cmd)\n",
    "        sys.exit(1)\n",
    "# TO REMOVE TOP AND RIGHT AXIS OF PLOTS\n",
    "def simpleaxis(ax):\n",
    "    ax.spines['top'].set_visible(False)\n",
    "    ax.spines['right'].set_visible(False)\n",
    "    ax.get_xaxis().tick_bottom()\n",
    "    ax.get_yaxis().tick_left()"
   ]
  },
  {
   "cell_type": "code",
   "execution_count": 10,
   "metadata": {},
   "outputs": [],
   "source": [
    "def get_sample_info():\n",
    "    #Reading in the RNA-Seq library IDs\n",
    "    sampleInfo = '/home/ampend/links/kidd-lab/ampend-projects/Novel_Sequence_Analysis/rna-seq/SampleInfoTable.txt'\n",
    "    sampleDict, tissueDict, samples = {}, {}, []\n",
    "\n",
    "    for line in open(sampleInfo, 'r'):\n",
    "        if 'Bio' in line: #skips header\n",
    "            continue\n",
    "        line=line.rstrip().split()\n",
    "        ID = line[4]\n",
    "        #Rename some tissues to shorter name\n",
    "        tissue = line[5]\n",
    "        \n",
    "        if 'SmoothMuscle' in tissue:\n",
    "            shortTissue = 'SM'\n",
    "        if 'Unidentified' in tissue:\n",
    "            shortTissue = 'NA'\n",
    "        if 'Blood' in tissue:\n",
    "            shortTissue = 'BL'\n",
    "        if 'Brain' in tissue:\n",
    "            shortTissue = 'BR'\n",
    "        if 'Heart' in tissue:\n",
    "            shortTissue = 'HT'\n",
    "        if 'Ovary' in tissue:\n",
    "            shortTissue = 'OV'\n",
    "        if 'Skin' in tissue:\n",
    "            shortTissue = 'SK'\n",
    "        if 'Kidney' in tissue:\n",
    "            shortTissue = 'KD'\n",
    "        if 'Testis' in tissue:\n",
    "            shortTissue = 'TS'\n",
    "        if 'Liver' in tissue:\n",
    "            shortTissue = 'LV'\n",
    "        if 'Lung' in tissue:\n",
    "            shortTissue = 'LG'\n",
    "        sampleDict[ID] = []\n",
    "        sampleDict[ID].append(tissue)\n",
    "        sampleDict[ID].append(shortTissue)\n",
    "        samples.append(ID)\n",
    "        \n",
    "        if tissue not in tissueDict.keys():\n",
    "            tissueDict[tissue] = []\n",
    "        tissueDict[tissue].append(ID)\n",
    "\n",
    "    print('%i samples added to a sample array from the following tissues:\\n' % len(samples))\n",
    "\n",
    "    genomes = ['zoey-2.3','canFam3.1-noY']\n",
    "\n",
    "    for tissue in tissueDict.keys():\n",
    "        print(tissue)\n",
    "\n",
    "    return sampleDict, tissueDict, genomes\n",
    "\n"
   ]
  },
  {
   "cell_type": "markdown",
   "metadata": {},
   "source": [
    "## Reading in Library/Sample Information"
   ]
  },
  {
   "cell_type": "code",
   "execution_count": 14,
   "metadata": {},
   "outputs": [
    {
     "name": "stdout",
     "output_type": "stream",
     "text": [
      "42 samples added to a sample array from the following tissues:\n",
      "\n",
      "Heart\n",
      "SmoothMuscle\n",
      "Unidentified\n",
      "Kidney\n",
      "Skin\n",
      "Testis\n",
      "Lung\n",
      "Ovary\n",
      "Blood\n",
      "Liver\n",
      "Brain\n"
     ]
    }
   ],
   "source": [
    "#Reading in library information\n",
    "sampleDict, tissueDict, genomes = get_sample_info()\n",
    "\n",
    "samples,tissues=[],[]\n",
    "\n",
    "for key in sampleDict.keys():\n",
    "    samples.append(key)\n",
    "for tissue in tissueDict.keys():\n",
    "    tissues.append(tissue)"
   ]
  },
  {
   "cell_type": "markdown",
   "metadata": {},
   "source": [
    "## Reading in Kallisto Results"
   ]
  },
  {
   "cell_type": "code",
   "execution_count": 12,
   "metadata": {},
   "outputs": [],
   "source": [
    "# function to count elements within given range\n",
    "def countInRange(arr, n, x, y):\n",
    "    # initialize result\n",
    "    count = 0 \n",
    "    for i in range(n):\n",
    "        # check if element is in range\n",
    "        if (arr[i] >= x and arr[i] < y):\n",
    "            count += 1\n",
    "    return count\n",
    "def plot_tissue_tpms(arr,tissue,plotFile):\n",
    "    #PLOT\n",
    "    fig = plt.figure(figsize=(12, 8)) #Set up subplots for below distributions\n",
    "    ax = fig.add_subplot(111)\n",
    "    _ = plt.hist(tpms, 1500, facecolor='green', alpha=0.75)\n",
    "    plt.title('Zoey Transcript TPMs - %s' % tissue)\n",
    "    plt.xlabel('TPM')\n",
    "    plt.ylabel('Count')\n",
    "    plt.xlim(1,10000)\n",
    "    plt.ylim(0,200)\n",
    "    simpleaxis(ax)\n",
    "    plt.tight_layout()\n",
    "    plt.savefig(plotFile,transparent=True) #save    \n",
    "    \n",
    "    #Print out stats\n",
    "    print('\\n####Tissue -- %s' % tissue)\n",
    "    print('Minimum TPM = ', min(tpms))\n",
    "    print('Maximum TPM = ', max(tpms))\n",
    "    print('Average TPM = ', np.mean(tpms))\n",
    "    print('Median TPM = ', np.median(tpms))\n",
    "\n",
    "def get_size_ranges(arr):\n",
    "    count = countInRange(tpms, len(tpms), 0, .9999)\n",
    "    print('%i less than 1.0 tpm' % count)\n",
    "    \n",
    "    count = countInRange(tpms, len(tpms), 1, 10)\n",
    "    print('%i between 1-10 tpm' % count)\n",
    "    \n",
    "    count = countInRange(tpms, len(tpms), 10, 50)\n",
    "    print('%i less than 10-50 tpm' % count)\n",
    "    \n",
    "    count = countInRange(tpms, len(tpms), 50, 100)\n",
    "    print('%i between 50-100 tpm' % count)\n",
    "    \n",
    "    count = countInRange(tpms, len(tpms), 100, 150)\n",
    "    print('%i between 100-150 tpm' % count)\n",
    "    \n",
    "    count = countInRange(tpms, len(tpms), 150, 200)\n",
    "    print('%i between 150-200 tpm' % count)\n",
    "    \n",
    "    count = countInRange(tpms, len(tpms), 200, 250)\n",
    "    print('%i between 200-250 tpm' % count)\n",
    "    \n",
    "    count = countInRange(tpms, len(tpms), 250, 300)\n",
    "    print('%i between 250-300 tpm' % count)\n",
    "    \n",
    "    count = countInRange(tpms, len(tpms), 300, 350)\n",
    "    print('%i between 300-350 tpm' % count)\n",
    "    \n",
    "    count = countInRange(tpms, len(tpms), 350, 1000000000)\n",
    "    print('%i over 350 tpm' % count)"
   ]
  },
  {
   "cell_type": "code",
   "execution_count": 13,
   "metadata": {},
   "outputs": [
    {
     "name": "stdout",
     "output_type": "stream",
     "text": [
      "42 samples processed through Kallisto\n"
     ]
    }
   ],
   "source": [
    "\"\"\"\n",
    "OLD DATA\n",
    "kalDir = '/home/ampend/links/kidd-lab/ampend-projects/Zoey_Genome_Project/rna-seq/Trinity_RNA-Seq_Analysis/trinity_alignments/zoey-2.3/Kalisto/'\n",
    "resultsDir = kalDir + 'results/'\n",
    "\n",
    "samplesProcessed = []\n",
    "for files in glob.glob(resultsDir + 'SRR*'):\n",
    "    samplesProcessed.append(files.replace(resultsDir,''))\n",
    "    \n",
    "print('%i samples processed through Kallisto' % len(samplesProcessed))\n",
    "\"\"\""
   ]
  },
  {
   "cell_type": "code",
   "execution_count": 16,
   "metadata": {},
   "outputs": [
    {
     "ename": "NameError",
     "evalue": "name 'resultsDir' is not defined",
     "output_type": "error",
     "traceback": [
      "\u001b[0;31m---------------------------------------------------------------------------\u001b[0m",
      "\u001b[0;31mNameError\u001b[0m                                 Traceback (most recent call last)",
      "\u001b[0;32m<ipython-input-16-6f358497e2d6>\u001b[0m in \u001b[0;36m<module>\u001b[0;34m()\u001b[0m\n\u001b[1;32m      3\u001b[0m \u001b[0;32mfor\u001b[0m \u001b[0mtissue\u001b[0m \u001b[0;32min\u001b[0m \u001b[0mtissues\u001b[0m\u001b[0;34m:\u001b[0m\u001b[0;34m\u001b[0m\u001b[0m\n\u001b[1;32m      4\u001b[0m     \u001b[0mtissuesProcessed\u001b[0m\u001b[0;34m.\u001b[0m\u001b[0mappend\u001b[0m\u001b[0;34m(\u001b[0m\u001b[0mtissue\u001b[0m\u001b[0;34m)\u001b[0m\u001b[0;34m\u001b[0m\u001b[0m\n\u001b[0;32m----> 5\u001b[0;31m \u001b[0;32mfor\u001b[0m \u001b[0mfiles\u001b[0m \u001b[0;32min\u001b[0m \u001b[0mglob\u001b[0m\u001b[0;34m.\u001b[0m\u001b[0mglob\u001b[0m\u001b[0;34m(\u001b[0m\u001b[0mresultsDir\u001b[0m \u001b[0;34m+\u001b[0m \u001b[0;34m'SRR*'\u001b[0m\u001b[0;34m)\u001b[0m\u001b[0;34m:\u001b[0m\u001b[0;34m\u001b[0m\u001b[0m\n\u001b[0m\u001b[1;32m      6\u001b[0m     \u001b[0msamplesProcessed\u001b[0m\u001b[0;34m.\u001b[0m\u001b[0mappend\u001b[0m\u001b[0;34m(\u001b[0m\u001b[0mfiles\u001b[0m\u001b[0;34m.\u001b[0m\u001b[0mreplace\u001b[0m\u001b[0;34m(\u001b[0m\u001b[0mresultsDir\u001b[0m\u001b[0;34m,\u001b[0m\u001b[0;34m''\u001b[0m\u001b[0;34m)\u001b[0m\u001b[0;34m)\u001b[0m\u001b[0;34m\u001b[0m\u001b[0m\n\u001b[1;32m      7\u001b[0m \u001b[0;34m\u001b[0m\u001b[0m\n",
      "\u001b[0;31mNameError\u001b[0m: name 'resultsDir' is not defined"
     ]
    }
   ],
   "source": [
    "\n",
    "tissuesProcessed = []\n",
    "for tissue in tissues:\n",
    "    tissuesProcessed.append(tissue)\n",
    "for files in glob.glob(resultsDir + 'SRR*'):\n",
    "    samplesProcessed.append(files.replace(resultsDir,''))\n",
    "    \n",
    "print('%i samples processed through Kallisto' % len(tissuesProcessed))"
   ]
  },
  {
   "cell_type": "code",
   "execution_count": 18,
   "metadata": {
    "scrolled": false
   },
   "outputs": [
    {
     "name": "stdout",
     "output_type": "stream",
     "text": [
      "\n",
      "####Tissue -- Heart\n",
      "Minimum TPM =  0.0\n",
      "Maximum TPM =  42238.3\n",
      "Average TPM =  40.1751658602\n",
      "Median TPM =  1.0773\n",
      "12241 less than 1.0 tpm\n",
      "5873 between 1-10 tpm\n",
      "4435 less than 10-50 tpm\n",
      "1024 between 50-100 tpm\n",
      "395 between 100-150 tpm\n",
      "214 between 150-200 tpm\n",
      "150 between 200-250 tpm\n",
      "84 between 250-300 tpm\n",
      "73 between 300-350 tpm\n",
      "402 over 350 tpm\n",
      "\n",
      "####Tissue -- SmoothMuscle\n",
      "Minimum TPM =  0.0\n",
      "Maximum TPM =  106218.0\n",
      "Average TPM =  40.1751762515\n",
      "Median TPM =  0.568984\n",
      "14295 less than 1.0 tpm\n",
      "5697 between 1-10 tpm\n",
      "3251 less than 10-50 tpm\n",
      "754 between 50-100 tpm\n",
      "245 between 100-150 tpm\n",
      "115 between 150-200 tpm\n",
      "81 between 200-250 tpm\n",
      "77 between 250-300 tpm\n",
      "52 between 300-350 tpm\n",
      "324 over 350 tpm\n",
      "\n",
      "####Tissue -- Unidentified\n",
      "Minimum TPM =  0.0\n",
      "Maximum TPM =  61691.2\n",
      "Average TPM =  40.1751693813\n",
      "Median TPM =  2.96408\n",
      "7985 less than 1.0 tpm\n",
      "9081 between 1-10 tpm\n",
      "5380 less than 10-50 tpm\n",
      "1190 between 50-100 tpm\n",
      "402 between 100-150 tpm\n",
      "216 between 150-200 tpm\n",
      "118 between 200-250 tpm\n",
      "72 between 250-300 tpm\n",
      "80 between 300-350 tpm\n",
      "367 over 350 tpm\n",
      "\n",
      "####Tissue -- Kidney\n",
      "Minimum TPM =  0.0\n",
      "Maximum TPM =  15019.5\n",
      "Average TPM =  40.1751642283\n",
      "Median TPM =  2.09697\n",
      "10854 less than 1.0 tpm\n",
      "6212 between 1-10 tpm\n",
      "4937 less than 10-50 tpm\n",
      "1273 between 50-100 tpm\n",
      "478 between 100-150 tpm\n",
      "280 between 150-200 tpm\n",
      "158 between 200-250 tpm\n",
      "102 between 250-300 tpm\n",
      "99 between 300-350 tpm\n",
      "498 over 350 tpm\n",
      "\n",
      "####Tissue -- Skin\n",
      "Minimum TPM =  0.0\n",
      "Maximum TPM =  22701.2\n",
      "Average TPM =  40.1751610573\n",
      "Median TPM =  2.01592\n",
      "10415 less than 1.0 tpm\n",
      "8006 between 1-10 tpm\n",
      "4509 less than 10-50 tpm\n",
      "880 between 50-100 tpm\n",
      "320 between 100-150 tpm\n",
      "158 between 150-200 tpm\n",
      "115 between 200-250 tpm\n",
      "78 between 250-300 tpm\n",
      "44 between 300-350 tpm\n",
      "365 over 350 tpm\n",
      "\n",
      "####Tissue -- Testis\n",
      "Minimum TPM =  0.0\n",
      "Maximum TPM =  9608.46\n",
      "Average TPM =  40.1751636282\n",
      "Median TPM =  3.03289\n",
      "9841 less than 1.0 tpm\n",
      "6065 between 1-10 tpm\n",
      "5372 less than 10-50 tpm\n",
      "1583 between 50-100 tpm\n",
      "681 between 100-150 tpm\n",
      "358 between 150-200 tpm\n",
      "210 between 200-250 tpm\n",
      "153 between 250-300 tpm\n",
      "105 between 300-350 tpm\n",
      "523 over 350 tpm\n",
      "\n",
      "####Tissue -- Lung\n",
      "Minimum TPM =  0.0\n",
      "Maximum TPM =  39191.0\n",
      "Average TPM =  40.1751657686\n",
      "Median TPM =  3.14973\n",
      "9639 less than 1.0 tpm\n",
      "6443 between 1-10 tpm\n",
      "6039 less than 10-50 tpm\n",
      "1344 between 50-100 tpm\n",
      "455 between 100-150 tpm\n",
      "255 between 150-200 tpm\n",
      "180 between 200-250 tpm\n",
      "91 between 250-300 tpm\n",
      "58 between 300-350 tpm\n",
      "387 over 350 tpm\n",
      "\n",
      "####Tissue -- Ovary\n",
      "Minimum TPM =  0.0\n",
      "Maximum TPM =  22089.9\n",
      "Average TPM =  40.175168031\n",
      "Median TPM =  3.48269\n",
      "8808 less than 1.0 tpm\n",
      "7522 between 1-10 tpm\n",
      "5843 less than 10-50 tpm\n",
      "1303 between 50-100 tpm\n",
      "488 between 100-150 tpm\n",
      "224 between 150-200 tpm\n",
      "157 between 200-250 tpm\n",
      "121 between 250-300 tpm\n",
      "61 between 300-350 tpm\n",
      "363 over 350 tpm\n",
      "\n",
      "####Tissue -- Blood\n",
      "Minimum TPM =  0.0\n",
      "Maximum TPM =  279438.0\n",
      "Average TPM =  40.1751613183\n",
      "Median TPM =  0.218841\n",
      "16548 less than 1.0 tpm\n",
      "5696 between 1-10 tpm\n",
      "1902 less than 10-50 tpm\n",
      "325 between 50-100 tpm\n",
      "114 between 100-150 tpm\n",
      "69 between 150-200 tpm\n",
      "41 between 200-250 tpm\n",
      "35 between 250-300 tpm\n",
      "27 between 300-350 tpm\n",
      "134 over 350 tpm\n",
      "\n",
      "####Tissue -- Liver\n",
      "Minimum TPM =  0.0\n",
      "Maximum TPM =  62497.5\n",
      "Average TPM =  40.1751635877\n",
      "Median TPM =  0.769239\n",
      "13215 less than 1.0 tpm\n",
      "6349 between 1-10 tpm\n",
      "3510 less than 10-50 tpm\n",
      "749 between 50-100 tpm\n",
      "289 between 100-150 tpm\n",
      "174 between 150-200 tpm\n",
      "118 between 200-250 tpm\n",
      "63 between 250-300 tpm\n",
      "48 between 300-350 tpm\n",
      "376 over 350 tpm\n",
      "\n",
      "####Tissue -- Brain\n",
      "Minimum TPM =  0.0\n",
      "Maximum TPM =  9215.53\n",
      "Average TPM =  40.1751667258\n",
      "Median TPM =  4.59365\n",
      "8298 less than 1.0 tpm\n",
      "6971 between 1-10 tpm\n",
      "6116 less than 10-50 tpm\n",
      "1666 between 50-100 tpm\n",
      "625 between 100-150 tpm\n",
      "341 between 150-200 tpm\n",
      "186 between 200-250 tpm\n",
      "115 between 250-300 tpm\n",
      "89 between 300-350 tpm\n",
      "484 over 350 tpm\n"
     ]
    },
    {
     "data": {
      "image/png": "[encoded data removed]",
      "text/plain": [
       "<Figure size 864x576 with 1 Axes>"
      ]
     },
     "metadata": {},
     "output_type": "display_data"
    },
    {
     "data": {
      "image/png": "[encoded data removed]",
      "text/plain": [
       "<Figure size 864x576 with 1 Axes>"
      ]
     },
     "metadata": {},
     "output_type": "display_data"
    },
    {
     "data": {
      "image/png": "[encoded data removed]",
      "text/plain": [
       "<Figure size 864x576 with 1 Axes>"
      ]
     },
     "metadata": {},
     "output_type": "display_data"
    },
    {
     "data": {
      "image/png": "[encoded data removed]",
      "text/plain": [
       "<Figure size 864x576 with 1 Axes>"
      ]
     },
     "metadata": {},
     "output_type": "display_data"
    },
    {
     "data": {
      "image/png": "[encoded data removed]",
      "text/plain": [
       "<Figure size 864x576 with 1 Axes>"
      ]
     },
     "metadata": {},
     "output_type": "display_data"
    },
    {
     "data": {
      "image/png": "[encoded data removed]",
      "text/plain": [
       "<Figure size 864x576 with 1 Axes>"
      ]
     },
     "metadata": {},
     "output_type": "display_data"
    },
    {
     "data": {
      "image/png": "[encoded data removed]",
      "text/plain": [
       "<Figure size 864x576 with 1 Axes>"
      ]
     },
     "metadata": {},
     "output_type": "display_data"
    },
    {
     "data": {
      "image/png": "[encoded data removed]",
      "text/plain": [
       "<Figure size 864x576 with 1 Axes>"
      ]
     },
     "metadata": {},
     "output_type": "display_data"
    },
    {
     "data": {
      "image/png": "[encoded data removed]",
      "text/plain": [
       "<Figure size 864x576 with 1 Axes>"
      ]
     },
     "metadata": {},
     "output_type": "display_data"
    },
    {
     "data": {
      "image/png": "[encoded data removed]",
      "text/plain": [
       "<Figure size 864x576 with 1 Axes>"
      ]
     },
     "metadata": {},
     "output_type": "display_data"
    },
    {
     "data": {
      "image/png": "[encoded data removed]",
      "text/plain": [
       "<Figure size 864x576 with 1 Axes>"
      ]
     },
     "metadata": {},
     "output_type": "display_data"
    }
   ],
   "source": [
    "#CALCULATE STATS AND DRAW PLOTS PER SAMPLE\n",
    "tissueCount = 0\n",
    "\n",
    "tpmDict = {}\n",
    "\n",
    "kalDir = '/home/ampend/links/kidd-lab/ampend-projects/Zoey_Genome_Project/rna-seq/Kalisto/'\n",
    "resultsDir = kalDir + 'results/'\n",
    "\n",
    "\n",
    "plotDir = resultsDir + '../plots/'\n",
    "for tissue in tissueDict.keys():\n",
    "    tissueCount += 1\n",
    "    tpms = []\n",
    "    \n",
    "    inFile = resultsDir + tissue + '/' + 'abundance.tsv'\n",
    "    for line in open(inFile,'r'):\n",
    "        if 'target_id' in line:\n",
    "            continue\n",
    "        line=line.rstrip().split('\\t')\n",
    "        transcript = line[0]\n",
    "        shortID = line[0].split('::')[1]\n",
    "        tpm = float(line[4])\n",
    "        #if only the first sample, create key for the gene\n",
    "        if tissueCount == 1:\n",
    "            #0 = ALL library expression TPMs\n",
    "            #1 = Only libraries with TPM > 1.0\n",
    "            tpmDict[shortID] = [[],[]]\n",
    "        tpmDict[shortID][0].append(tpm) #add TPM to total dictionary      \n",
    "        \n",
    "        #If expressed at tpm > 1, add to dictionary\n",
    "        if tpm > 1.0:\n",
    "            tpmDict[shortID][1].append(tpm) #add TPM to total dictionary      \n",
    "\n",
    "        tpms.append(tpm) #add TPM to per saple array for stats (below)\n",
    "    \n",
    "    #Plot the TPM distribution\n",
    "    plotFile = plotDir + tissue + '_TPM_Histogram.png'\n",
    "    plot_tissue_tpms(tpms,tissue,plotFile)\n",
    "    \n",
    "    get_size_ranges(tpmDict[shortID][0])\n",
    "   "
   ]
  },
  {
   "cell_type": "markdown",
   "metadata": {},
   "source": [
    "### Identify how many transcripts are NOT expressed in at least one library with TPM >1\n"
   ]
  },
  {
   "cell_type": "code",
   "execution_count": 19,
   "metadata": {},
   "outputs": [
    {
     "name": "stdout",
     "output_type": "stream",
     "text": [
      "23565 transcripts expressed in ONE or more library\n",
      "20935 transcripts expressed in TWO or more libraries\n",
      "17783 transcripts expressed in THREE or more libraries\n",
      "6174 transcripts expressed in ALL libraries\n"
     ]
    }
   ],
   "source": [
    "count1,count2,count3,count10,countAll = 0,0,0,0,0\n",
    "counts = []\n",
    "outFileDir = '/home/ampend/links/kidd-lab/ampend-projects/Zoey_Genome_Project/rna-seq/Kalisto/results/'\n",
    "\"\"\"outfile = outFileDir + 'ExpressedInAtLeastOneSample_KallistoTPMEstimates_TrinityTranscripts.txt'\n",
    "outfile2 = outFileDir + 'ExpressedInAtLeastTWOSample_KallistoTPMEstimates_TrinityTranscripts.txt'\n",
    "outfile2 = outFileDir + 'ExpressedInAtLeastTHREESample_KallistoTPMEstimates_TrinityTranscripts.txt'\n",
    "\n",
    "outFile = open(outfile,'w')\n",
    "outFile2 = open(outfile2,'w')\n",
    "\"\"\"\n",
    "\n",
    "for transcript in tpmDict:\n",
    "    libraryCount = len(tpmDict[transcript][1])\n",
    "    if libraryCount >= 1:\n",
    "        count1+=1\n",
    "        #outFile.write(transcript + '\\n')\n",
    "    if libraryCount >= 2:\n",
    "        count2+=1\n",
    "        #outFile2.write(transcript + '\\n')\n",
    "    if libraryCount >= 3:\n",
    "        count3+=1\n",
    "        #outFile2.write(transcript + '\\n')\n",
    "    if libraryCount == 11:\n",
    "        countAll += 1\n",
    "    counts.append(libraryCount)\n",
    "\n",
    "print('%i transcripts expressed in ONE or more library' % count1)\n",
    "print('%i transcripts expressed in TWO or more libraries' % count2)\n",
    "print('%i transcripts expressed in THREE or more libraries'% count3)\n",
    "print('%i transcripts expressed in ALL libraries'% countAll)\n",
    "\n",
    "\n",
    "#outFile.close()\n",
    "#outFile2.close()\n"
   ]
  },
  {
   "cell_type": "code",
   "execution_count": 20,
   "metadata": {},
   "outputs": [
    {
     "data": {
      "image/png": "[encoded data removed]",
      "text/plain": [
       "<Figure size 504x360 with 1 Axes>"
      ]
     },
     "metadata": {},
     "output_type": "display_data"
    }
   ],
   "source": [
    "fig = plt.figure(figsize=(7, 5)) #Set up subplots for below distributions\n",
    "ax = fig.add_subplot(111)\n",
    "_ = plt.hist(counts, 12, facecolor='blue', alpha=0.75)\n",
    "plt.title('Zoey Transcript TPMs - All tissues',fontweight='bold')\n",
    "plt.xlabel('TPM',fontweight='bold')\n",
    "plt.ylabel('Count',fontweight='bold')\n",
    "plt.xlim(0,11)\n",
    "simpleaxis(ax)\n",
    "plt.tight_layout()\n",
    "#plt.savefig(plotFile,transparent=True) #save"
   ]
  },
  {
   "cell_type": "markdown",
   "metadata": {},
   "source": [
    "# Making UCSC Track for Per Tissue Kallisto Results"
   ]
  },
  {
   "cell_type": "markdown",
   "metadata": {},
   "source": [
    "track type=barChart name=\"barChart Example One\" description=\"A barChart file\" barChartBars=\"adiposeSubcut breastMamTissue colonTransverse muscleSkeletal wholeBlood\" visibility=pack\n",
    "browser position chr14:95,086,228-95,158,010\n",
    "chr14\t95086227\t95158010\tENSG00000100697.10\t999\t-\tDICER1\t5\t10.94,11.60,8.00,6.69,4.89\n",
    "chr14\t95181939\t95319906\tENSG00000165959.7\t999\t-\tCLMN\t5\t7.08,9.53,9.32,1.38,1.68\n",
    "chr14\t95417493\t95475836\tENSG00000176438.8\t999\t-\tSYNE3\t5\t7.29,3.73,0.74,0.35,1.39\n"
   ]
  },
  {
   "cell_type": "markdown",
   "metadata": {},
   "source": [
    "### First need to find out where each transcript is... make a dictionary with gene as key"
   ]
  },
  {
   "cell_type": "code",
   "execution_count": 1,
   "metadata": {},
   "outputs": [
    {
     "name": "stdout",
     "output_type": "stream",
     "text": [
      "added coordinates in zoey2.3 to 24891 genes \n"
     ]
    }
   ],
   "source": [
    "bedFile = '/home/ampend/links/kidd-lab/ampend-projects/Zoey_Genome_Project/rna-seq/NonRedundant_NoRMIntersect_FilteredGeneSet/TotalSet_NoRMSingleExons_AllMultiExons.bed'\n",
    "\n",
    "posDict = {}\n",
    "\n",
    "for line in open(bedFile,'r'):\n",
    "    line=line.rstrip().split('\\t')\n",
    "    gene = line[3]\n",
    "    shortID = line[3].split('::')[1]\n",
    "    chrom,start,end = line[0],line[1],line[2]\n",
    "    orient = str(line[5])\n",
    "\n",
    "    if shortID not in posDict.keys():\n",
    "        posDict[shortID] = {}\n",
    "        posDict[shortID] = [chrom,start,end,gene,orient]\n",
    "    else:\n",
    "        print('Error -- redundant gene model -- Check')\n",
    "        print(shortID)\n",
    "        break\n",
    "print('added coordinates in zoey2.3 to %i genes ' % len(posDict.keys()))\n"
   ]
  },
  {
   "cell_type": "code",
   "execution_count": 4,
   "metadata": {},
   "outputs": [
    {
     "ename": "NameError",
     "evalue": "name 'tpmDict' is not defined",
     "output_type": "error",
     "traceback": [
      "\u001b[0;31m---------------------------------------------------------------------------\u001b[0m",
      "\u001b[0;31mNameError\u001b[0m                                 Traceback (most recent call last)",
      "\u001b[0;32m<ipython-input-4-d400a24fd580>\u001b[0m in \u001b[0;36m<module>\u001b[0;34m()\u001b[0m\n\u001b[1;32m      4\u001b[0m \u001b[0;34m\u001b[0m\u001b[0m\n\u001b[1;32m      5\u001b[0m \u001b[0mtrackFile\u001b[0m \u001b[0;34m=\u001b[0m \u001b[0mopen\u001b[0m\u001b[0;34m(\u001b[0m\u001b[0mtrackDir\u001b[0m \u001b[0;34m+\u001b[0m \u001b[0;34m'ForUCSC_PerTissueExpression.barChart'\u001b[0m\u001b[0;34m,\u001b[0m\u001b[0;34m'w'\u001b[0m\u001b[0;34m)\u001b[0m\u001b[0;34m\u001b[0m\u001b[0m\n\u001b[0;32m----> 6\u001b[0;31m \u001b[0;32mfor\u001b[0m \u001b[0mgene\u001b[0m \u001b[0;32min\u001b[0m \u001b[0mtpmDict\u001b[0m\u001b[0;34m.\u001b[0m\u001b[0mkeys\u001b[0m\u001b[0;34m(\u001b[0m\u001b[0;34m)\u001b[0m\u001b[0;34m:\u001b[0m\u001b[0;34m\u001b[0m\u001b[0m\n\u001b[0m\u001b[1;32m      7\u001b[0m     \u001b[0mchrom\u001b[0m\u001b[0;34m,\u001b[0m\u001b[0mstart\u001b[0m\u001b[0;34m,\u001b[0m\u001b[0mend\u001b[0m\u001b[0;34m,\u001b[0m\u001b[0morient\u001b[0m \u001b[0;34m=\u001b[0m \u001b[0mposDict\u001b[0m\u001b[0;34m[\u001b[0m\u001b[0mgene\u001b[0m\u001b[0;34m]\u001b[0m\u001b[0;34m[\u001b[0m\u001b[0;36m0\u001b[0m\u001b[0;34m]\u001b[0m\u001b[0;34m,\u001b[0m\u001b[0mposDict\u001b[0m\u001b[0;34m[\u001b[0m\u001b[0mgene\u001b[0m\u001b[0;34m]\u001b[0m\u001b[0;34m[\u001b[0m\u001b[0;36m1\u001b[0m\u001b[0;34m]\u001b[0m\u001b[0;34m,\u001b[0m\u001b[0mposDict\u001b[0m\u001b[0;34m[\u001b[0m\u001b[0mgene\u001b[0m\u001b[0;34m]\u001b[0m\u001b[0;34m[\u001b[0m\u001b[0;36m2\u001b[0m\u001b[0;34m]\u001b[0m\u001b[0;34m,\u001b[0m\u001b[0mposDict\u001b[0m\u001b[0;34m[\u001b[0m\u001b[0mgene\u001b[0m\u001b[0;34m]\u001b[0m\u001b[0;34m[\u001b[0m\u001b[0;36m4\u001b[0m\u001b[0;34m]\u001b[0m\u001b[0;34m\u001b[0m\u001b[0m\n\u001b[1;32m      8\u001b[0m     \u001b[0mtpms\u001b[0m \u001b[0;34m=\u001b[0m \u001b[0;34m','\u001b[0m\u001b[0;34m.\u001b[0m\u001b[0mjoin\u001b[0m\u001b[0;34m(\u001b[0m\u001b[0mmap\u001b[0m\u001b[0;34m(\u001b[0m\u001b[0mstr\u001b[0m\u001b[0;34m,\u001b[0m \u001b[0mtpmDict\u001b[0m\u001b[0;34m[\u001b[0m\u001b[0mgene\u001b[0m\u001b[0;34m]\u001b[0m\u001b[0;34m[\u001b[0m\u001b[0;36m0\u001b[0m\u001b[0;34m]\u001b[0m\u001b[0;34m)\u001b[0m\u001b[0;34m)\u001b[0m\u001b[0;34m\u001b[0m\u001b[0m\n",
      "\u001b[0;31mNameError\u001b[0m: name 'tpmDict' is not defined"
     ]
    }
   ],
   "source": [
    "kalDir = '/home/ampend/links/kidd-lab/ampend-projects/Zoey_Genome_Project/rna-seq/Kalisto/'\n",
    "trackDir = kalDir + 'UCSC_Tracks/'\n",
    "resultsDir = kalDir + 'results/'\n",
    "\n",
    "trackFile = open(trackDir + 'ForUCSC_PerTissueExpression.barChart','w')\n",
    "for gene in tpmDict.keys():\n",
    "    chrom,start,end,orient = posDict[gene][0],posDict[gene][1],posDict[gene][2],posDict[gene][4]\n",
    "    tpms = ','.join(map(str, tpmDict[gene][0])) \n",
    "    score = '999' #default\n",
    "    trackFile.write('%s\\t%s\\t%s\\t%s\\t%s\\t%s\\t%s\\t%i\\t%s\\n' % (chrom,start,end,gene,score,orient,gene,len(tpmDict[gene][0]),tpms))\n",
    "    #chr14 95086227 95158010 ENSG00000100697.10 999 - DICER1 5 10.94,11.60,8.00,6.69,4.89 93153 26789\n",
    "\n",
    "trackFile.close()"
   ]
  },
  {
   "cell_type": "code",
   "execution_count": null,
   "metadata": {},
   "outputs": [],
   "source": []
  },
  {
   "cell_type": "code",
   "execution_count": null,
   "metadata": {},
   "outputs": [],
   "source": []
  },
  {
   "cell_type": "code",
   "execution_count": null,
   "metadata": {},
   "outputs": [],
   "source": []
  },
  {
   "cell_type": "code",
   "execution_count": null,
   "metadata": {},
   "outputs": [],
   "source": []
  },
  {
   "cell_type": "code",
   "execution_count": null,
   "metadata": {},
   "outputs": [],
   "source": []
  },
  {
   "cell_type": "code",
   "execution_count": null,
   "metadata": {},
   "outputs": [],
   "source": []
  },
  {
   "cell_type": "code",
   "execution_count": null,
   "metadata": {},
   "outputs": [],
   "source": []
  },
  {
   "cell_type": "code",
   "execution_count": null,
   "metadata": {},
   "outputs": [],
   "source": []
  },
  {
   "cell_type": "code",
   "execution_count": null,
   "metadata": {},
   "outputs": [],
   "source": []
  },
  {
   "cell_type": "markdown",
   "metadata": {},
   "source": [
    "# CD-HIT-EST Clustering"
   ]
  },
  {
   "cell_type": "code",
   "execution_count": 25,
   "metadata": {},
   "outputs": [
    {
     "name": "stdout",
     "output_type": "stream",
     "text": [
      "xargs samtools faidx /home/ampend/links/kidd-lab/ampend-projects/Zoey_Genome_Project/rna-seq/Trinity_RNA-Seq_Analysis/trinity_alignments/zoey-2.3/AllLibraries_trinity/Trinity-GG.fasta < /home/ampend/links/kidd-lab/ampend-projects/Zoey_Genome_Project/rna-seq/Trinity_RNA-Seq_Analysis/trinity_alignments/zoey-2.3/Kalisto/results/ExpressedInAtLeastTWOSample_KallistoTPMEstimates_TrinityTranscripts.txt >> /home/ampend/links/kidd-lab/ampend-projects/Zoey_Genome_Project/rna-seq/Trinity_RNA-Seq_Analysis/trinity_alignments/zoey-2.3/Kalisto/results/ExpressedInAtLeastTWOSample_KallistoTPMEstimates_TrinityTranscripts.fa\n"
     ]
    }
   ],
   "source": [
    "## Write commands to perform CD-HIT-EST on transcripts expressed in at least 2/42 libraries\n",
    "outDir = '/home/ampend/links/kidd-lab/ampend-projects/Zoey_Genome_Project/rna-seq/Trinity_RNA-Seq_Analysis/trinity_alignments/zoey-2.3/CD-HIT-EST/'\n",
    "\n",
    "cmdFile = open(outDir + 'scripts/' + 'CD-HIT-EST_Commands_ExpressedInAtLeast2Libraries.cmds','w')\n",
    "\n",
    "#I generated an index file for this fasta file using samtools faidx Trinity-GG.fasta\n",
    "trinityFastaIndexFile = '/home/ampend/links/kidd-lab/ampend-projects/Zoey_Genome_Project/rna-seq/Trinity_RNA-Seq_Analysis/trinity_alignments/zoey-2.3/AllLibraries_trinity/Trinity-GG.fasta.fai'\n",
    "\n",
    "#Generated from above-- are expressed in 2+ libraries\n",
    "desiredFastaFile = outfile2\n",
    "\n",
    "#Output FASTA file of expressed in 2+ libraries \n",
    "outFasta = outfile2.replace('.txt','.fa')\n",
    "\n",
    "#make input file\n",
    "cmd = 'xargs samtools faidx %s < %s >> %s' % (trinityFastaIndexFile.replace('.fai',''),outfile2,outFasta)\n",
    "print(cmd)\n",
    "runCMD(cmd)\n",
    "\n"
   ]
  },
  {
   "cell_type": "code",
   "execution_count": 27,
   "metadata": {},
   "outputs": [
    {
     "name": "stdout",
     "output_type": "stream",
     "text": [
      "cd-hit-est -i /home/ampend/links/kidd-lab/ampend-projects/Zoey_Genome_Project/rna-seq/Trinity_RNA-Seq_Analysis/trinity_alignments/zoey-2.3/Kalisto/results/ExpressedInAtLeastTWOSample_KallistoTPMEstimates_TrinityTranscripts.fa -o /home/ampend/links/kidd-lab/ampend-projects/Zoey_Genome_Project/rna-seq/Trinity_RNA-Seq_Analysis/trinity_alignments/zoey-2.3/CD-HIT-EST/results/Zoey-Trinity_Expressed2LibrariesOrMore_c90_n8 -c 0.90 -n 8 -M 2000 \n"
     ]
    }
   ],
   "source": [
    "#where to write\n",
    "outDir = '/home/ampend/links/kidd-lab/ampend-projects/Zoey_Genome_Project/rna-seq/Trinity_RNA-Seq_Analysis/trinity_alignments/zoey-2.3/CD-HIT-EST/results/'\n",
    "\n",
    "cmd = 'cd-hit-est '\n",
    "cmd += '-i %s ' % outFasta\n",
    "cmd += '-o %sZoey-Trinity_Expressed2LibrariesOrMore_c90_n8 ' % outDir\n",
    "cmd += '-c 0.90 -n 8 -M 2000 '\n",
    "print(cmd)\n",
    "#-o /nfs/turbo/jmkiddscr/ampend-projects/Zoey_Genome_Project/CD-HIT/results/Zoey-Trinity_c90_n8.out -c 0.90 -n 8 -M 2000' | qsub -l mem=8gb,walltime=300:00:0 -q fluxod -A jmkidd_fluxod -N Zoey_CD-HIT-EST_trinity_c90_n8 -j oe -V \n"
   ]
  },
  {
   "cell_type": "markdown",
   "metadata": {},
   "source": [
    "## How many transcripts expressed in at least one library are eliminated through CD-HIT-EST clustering?"
   ]
  },
  {
   "cell_type": "markdown",
   "metadata": {},
   "source": [
    "#### Read in CD-HIT-EST results"
   ]
  },
  {
   "cell_type": "code",
   "execution_count": 12,
   "metadata": {},
   "outputs": [
    {
     "name": "stdout",
     "output_type": "stream",
     "text": [
      "TRINITY_DN69561_c0_g1_i1\n",
      "1 missing\n"
     ]
    }
   ],
   "source": [
    "cdHitDir = '/home/ampend/links/kidd-lab-scratch/ampend-projects/Zoey_Genome_Project/CD-HIT/results/'\n",
    "\n",
    "inFile = cdHitDir + 'Zoey-Trinity_c95_n8.out' #95% identity\n",
    "\n",
    "missing = []\n",
    "\n",
    "for line in open(inFile,'r'):\n",
    "    line=line.rstrip().split()\n",
    "    if '>TRIN' not in line[0]:\n",
    "        continue\n",
    "    transcript = line[0].replace('>','')\n",
    "    #cdHit95List.append(transcript)\n",
    "    if transcript in tpmDict.keys():\n",
    "        tpmDict[transcript][1] = 'Pass'\n",
    "    else:\n",
    "        missing.append(transcript)\n",
    "        print(transcript)\n",
    "        break\n",
    "#print('%i transcripts added to list that remained after filtration of transcripts >95%% identical' % len(cdHit95List))\n",
    "print('%i missing' % len(missing))\n",
    "\n"
   ]
  },
  {
   "cell_type": "markdown",
   "metadata": {},
   "source": [
    "#### How many of the expressed transcripts remain after eliminating those from the CD-HIT-EST results"
   ]
  },
  {
   "cell_type": "code",
   "execution_count": null,
   "metadata": {},
   "outputs": [],
   "source": [
    "Pass,Fail = 0,0 \n",
    "\n",
    "for transcript in tpmDict:\n",
    "    if 'Pass' == tpmDict[transcript][1]:\n",
    "        Pass+=1 \n",
    "    else:\n",
    "        Fail+=1\n",
    "print('%i transcripts pass CD-HIT-EST 95% filtration' % Pass)\n",
    "print('%i transcripts FAIL CD-HIT-EST 95% filtration' % Fail)\n"
   ]
  },
  {
   "cell_type": "code",
   "execution_count": null,
   "metadata": {},
   "outputs": [],
   "source": [
    "\n"
   ]
  },
  {
   "cell_type": "code",
   "execution_count": null,
   "metadata": {},
   "outputs": [],
   "source": []
  },
  {
   "cell_type": "code",
   "execution_count": null,
   "metadata": {},
   "outputs": [],
   "source": []
  },
  {
   "cell_type": "markdown",
   "metadata": {},
   "source": [
    "# UCSC TRACKS"
   ]
  },
  {
   "cell_type": "markdown",
   "metadata": {},
   "source": [
    "### Define color scheme for TPMs for UCSC tracks"
   ]
  },
  {
   "cell_type": "code",
   "execution_count": 1,
   "metadata": {},
   "outputs": [],
   "source": [
    "## Defining the color scheme baed on TPMs \n",
    "tpm_ranges = [(0,1),(1,10),(10,50),(50,100),(100,150),(150,200),(200,250),(250,300),(300,350),(350,1000000000000)]\n",
    "colors = ['grey','black','blue','darkgreen','limegreen','orangeyellow','darkorange','red','darkred','pink']\n",
    "rgb = [(166, 166, 166),(0, 0, 0),(0, 102, 0),(255, 153, 0),(0, 255, 0),(204, 153, 0),(255, 102, 0),(255, 0, 0),(153, 0, 51),(204, 0, 153)]"
   ]
  },
  {
   "cell_type": "markdown",
   "metadata": {},
   "source": [
    "## Defining Paths to Trinity Outputs"
   ]
  },
  {
   "cell_type": "code",
   "execution_count": 5,
   "metadata": {},
   "outputs": [],
   "source": [
    "trinBlatDir = '/home/ampend/links/kidd-lab/ampend-projects/Zoey_Genome_Project/rna-seq/Trinity_RNA-Seq_Analysis/trinity_alignments/zoey-2.3/AllLibraries_trinity/BLAT/'\n",
    "\n"
   ]
  },
  {
   "cell_type": "code",
   "execution_count": null,
   "metadata": {},
   "outputs": [],
   "source": []
  },
  {
   "cell_type": "code",
   "execution_count": null,
   "metadata": {},
   "outputs": [],
   "source": []
  },
  {
   "cell_type": "code",
   "execution_count": null,
   "metadata": {},
   "outputs": [],
   "source": []
  },
  {
   "cell_type": "code",
   "execution_count": null,
   "metadata": {},
   "outputs": [],
   "source": []
  },
  {
   "cell_type": "code",
   "execution_count": null,
   "metadata": {},
   "outputs": [],
   "source": []
  },
  {
   "cell_type": "code",
   "execution_count": null,
   "metadata": {},
   "outputs": [],
   "source": []
  },
  {
   "cell_type": "code",
   "execution_count": null,
   "metadata": {},
   "outputs": [],
   "source": []
  },
  {
   "cell_type": "code",
   "execution_count": null,
   "metadata": {},
   "outputs": [],
   "source": []
  },
  {
   "cell_type": "code",
   "execution_count": null,
   "metadata": {},
   "outputs": [],
   "source": []
  },
  {
   "cell_type": "code",
   "execution_count": null,
   "metadata": {},
   "outputs": [],
   "source": []
  },
  {
   "cell_type": "code",
   "execution_count": null,
   "metadata": {},
   "outputs": [],
   "source": []
  },
  {
   "cell_type": "code",
   "execution_count": null,
   "metadata": {},
   "outputs": [],
   "source": []
  },
  {
   "cell_type": "code",
   "execution_count": null,
   "metadata": {},
   "outputs": [],
   "source": []
  },
  {
   "cell_type": "code",
   "execution_count": null,
   "metadata": {},
   "outputs": [],
   "source": []
  },
  {
   "cell_type": "code",
   "execution_count": null,
   "metadata": {},
   "outputs": [],
   "source": []
  },
  {
   "cell_type": "code",
   "execution_count": null,
   "metadata": {},
   "outputs": [],
   "source": []
  },
  {
   "cell_type": "code",
   "execution_count": null,
   "metadata": {},
   "outputs": [],
   "source": []
  },
  {
   "cell_type": "code",
   "execution_count": null,
   "metadata": {},
   "outputs": [],
   "source": []
  },
  {
   "cell_type": "code",
   "execution_count": null,
   "metadata": {},
   "outputs": [],
   "source": []
  },
  {
   "cell_type": "code",
   "execution_count": null,
   "metadata": {},
   "outputs": [],
   "source": []
  },
  {
   "cell_type": "code",
   "execution_count": null,
   "metadata": {},
   "outputs": [],
   "source": []
  },
  {
   "cell_type": "code",
   "execution_count": null,
   "metadata": {},
   "outputs": [],
   "source": []
  },
  {
   "cell_type": "code",
   "execution_count": null,
   "metadata": {},
   "outputs": [],
   "source": []
  },
  {
   "cell_type": "code",
   "execution_count": null,
   "metadata": {},
   "outputs": [],
   "source": []
  },
  {
   "cell_type": "code",
   "execution_count": null,
   "metadata": {},
   "outputs": [],
   "source": [
    "def make_cmap(colors, position=None, bit=False):\n",
    "    '''\n",
    "    make_cmap takes a list of tuples which contain RGB values. The RGB\n",
    "    values may either be in 8-bit [0 to 255] (in which bit must be set to\n",
    "    True when called) or arithmetic [0 to 1] (default). make_cmap returns\n",
    "    a cmap with equally spaced colors.\n",
    "    Arrange your tuples so that the first color is the lowest value for the\n",
    "    colorbar and the last is the highest.\n",
    "    position contains values from 0 to 1 to dictate the location of each color.\n",
    "    '''\n",
    "    import matplotlib as mpl\n",
    "    import numpy as np\n",
    "    bit_rgb = np.linspace(0,1,256)\n",
    "    if position == None:\n",
    "        position = np.linspace(0,1,len(colors))\n",
    "    else:\n",
    "        if len(position) != len(colors):\n",
    "            sys.exit(\"position length must be the same as colors\")\n",
    "        elif position[0] != 0 or position[-1] != 1:\n",
    "            sys.exit(\"position must start with 0 and end with 1\")\n",
    "    if bit:\n",
    "        for i in range(len(colors)):\n",
    "            colors[i] = (bit_rgb[colors[i][0]],\n",
    "                         bit_rgb[colors[i][1]],\n",
    "                         bit_rgb[colors[i][2]])\n",
    "    cdict = {'red':[], 'green':[], 'blue':[]}\n",
    "    for pos, color in zip(position, colors):\n",
    "        cdict['red'].append((pos, color[0], color[0]))\n",
    "        cdict['green'].append((pos, color[1], color[1]))\n",
    "        cdict['blue'].append((pos, color[2], color[2]))\n",
    "\n",
    "    cmap = mpl.colors.LinearSegmentedColormap('my_colormap',cdict,256)\n",
    "    return cmap\n",
    "\n",
    "### An example of how to use make_cmap\n",
    "import matplotlib.pyplot as plt\n",
    "import numpy as np\n",
    "\n",
    "fig = plt.figure()\n",
    "ax = fig.add_subplot(311)\n",
    "### Create a list of RGB tuples\n",
    "colors = [(255,0,0), (255,255,0), (255,255,255), (0,157,0), (0,0,255)] # This example uses the 8-bit RGB\n",
    "### Call the function make_cmap which returns your colormap\n",
    "my_cmap = make_cmap(colors, bit=True)\n",
    "### Use your colormap\n",
    "plt.pcolor(np.random.rand(25,50), cmap=my_cmap)\n",
    "plt.colorbar()\n",
    "\n",
    "ax = fig.add_subplot(312)\n",
    "colors = [(1,1,1), (0.5,0,0)] # This example uses the arithmetic RGB\n",
    "### If you are only going to use your colormap once you can\n",
    "### take out a step.\n",
    "plt.pcolor(np.random.rand(25,50), cmap=make_cmap(colors))\n",
    "plt.colorbar()\n",
    "\n",
    "ax = fig.add_subplot(313)\n",
    "### Create an array or list of positions from 0 to 1.\n",
    "position = [0, 0.3, 1]\n",
    "plt.pcolor(np.random.rand(25,50), cmap=make_cmap(colors, position=position))\n",
    "plt.colorbar()\n",
    "\n",
    "plt.show()"
   ]
  },
  {
   "cell_type": "code",
   "execution_count": null,
   "metadata": {},
   "outputs": [],
   "source": []
  },
  {
   "cell_type": "code",
   "execution_count": null,
   "metadata": {},
   "outputs": [],
   "source": []
  }
 ],
 "metadata": {
  "kernelspec": {
   "display_name": "Python 3",
   "language": "python",
   "name": "python3"
  },
  "language_info": {
   "codemirror_mode": {
    "name": "ipython",
    "version": 3
   },
   "file_extension": ".py",
   "mimetype": "text/x-python",
   "name": "python",
   "nbconvert_exporter": "python",
   "pygments_lexer": "ipython3",
   "version": "3.5.4"
  }
 },
 "nbformat": 4,
 "nbformat_minor": 2
}
