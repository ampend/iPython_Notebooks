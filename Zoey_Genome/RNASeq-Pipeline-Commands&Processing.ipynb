{
 "cells": [
  {
   "cell_type": "code",
   "execution_count": 74,
   "metadata": {},
   "outputs": [],
   "source": [
    "# 2018-02-08\n",
    "# A. Pendleton\n",
    "# Calculating RNA-Seq stats"
   ]
  },
  {
   "cell_type": "code",
   "execution_count": 75,
   "metadata": {},
   "outputs": [],
   "source": [
    "#this uses iPython magic to make plots appear inline\n",
    "%matplotlib inline\n",
    "import matplotlib.pyplot as plt\n",
    "import pandas as pd\n",
    "import subprocess\n",
    "import sys\n",
    "import numpy as np\n",
    "import matplotlib.patches as patches\n",
    "import gzip\n",
    "import fileinput\n",
    "import glob\n",
    "from scipy import stats\n",
    "import re\n",
    "from matplotlib_venn import venn3, venn3_circles\n",
    "\n",
    "def count_lines(f):\n",
    "    lineCount = 0\n",
    "    with open(f, 'r') as f:\n",
    "        for line in f:\n",
    "            lineCount += 1\n",
    "        return lineCount\n",
    "def runCMD(cmd):\n",
    "    val = subprocess.Popen(cmd, shell=True).wait()\n",
    "    if val == 0:\n",
    "        pass\n",
    "    else:\n",
    "        print ('command failed')\n",
    "        print (cmd)\n",
    "        sys.exit(1)\n",
    "def write_pbs_lines(scriptsDir,sample,cmdFile,wkDir,name,mem):\n",
    "    #WRITE PBS SCRIPT\n",
    "    cmdFile.write('#!/bin/bash\\n')\n",
    "    cmdFile.write('#PBS -S /bin/bash\\n')\n",
    "    cmdFile.write('#PBS -V\\n')\n",
    "    cmdFile.write('#PBS -M ampend@med.umich.edu\\n')\n",
    "    cmdFile.write('#PBS -j oe\\n')\n",
    "    cmdFile.write('#PBS -N %s_%s\\n' % (sample,name))\n",
    "    cmdFile.write('#PBS -o /home/ampend/links/kidd-lab-scratch/ampend-projects/Zoey_Genome_Project/rna-seq/logs/\\n')\n",
    "    cmdFile.write('#PBS -l pmem=%sG\\n' % mem)\n",
    "    cmdFile.write('#PBS -l nodes=1:ppn=1,qos=flux,walltime=100:00:00\\n')\n",
    "    cmdFile.write('##PBS -A medbsm_flux\\n')\n",
    "    cmdFile.write('##PBS -q flux\\n')\t\n",
    "    cmdFile.write('#PBS -A jmkidd_fluxod\\n')\n",
    "    cmdFile.write('#PBS -q fluxod\\n')\n",
    "    cmdFile.write('cd %s\\n' % wkDir)\n",
    "    cmdFile.write('\\n\\n')\n",
    "def write_pbs_task_lines(scriptsDir,sample,pbsFile,wkDir,name,mem,taskCount,cmdfile):\n",
    "    #WRITE PBS SCRIPT\n",
    "    pbsFile.write('#!/bin/bash\\n')\n",
    "    pbsFile.write('#PBS -S /bin/bash\\n')\n",
    "    pbsFile.write('#PBS -V\\n')\n",
    "    pbsFile.write('#PBS -M ampend@med.umich.edu\\n')\n",
    "    pbsFile.write('#PBS -j oe\\n')\n",
    "    pbsFile.write('#PBS -N %s_%s\\n' % (sample,name))\n",
    "    pbsFile.write('#PBS -o /home/ampend/links/kidd-lab-scratch/ampend-projects/Zoey_Genome_Project/rna-seq/logs/\\n')\n",
    "    pbsFile.write('#PBS -l pmem=%sG\\n' % mem)\n",
    "    pbsFile.write('#PBS -l nodes=1:ppn=1,qos=flux,walltime=100:00:00\\n')\n",
    "    pbsFile.write('##PBS -A medbsm_flux\\n')\n",
    "    pbsFile.write('##PBS -q flux\\n')\n",
    "    pbsFile.write('#PBS -A jmkidd_fluxod\\n')\n",
    "    pbsFile.write('#PBS -q fluxod\\n')\n",
    "    pbsFile.write('#PBS -t 1-%i\\n' % (taskCount))\n",
    "    \n",
    "    pbsFile.write('cd %s\\n' % wkDir)\n",
    "    pbsFile.write('/home/ampend/links/kidd-lab/jmkidd-projects/scripts/perlUtils/run-by-id-log.pl %s %s $PBS_ARRAYID' % (cmdfile,cmdfile.replace('/scripts/','/logs/')))\n",
    "    pbsFile.write('\\n\\n')"
   ]
  },
  {
   "cell_type": "markdown",
   "metadata": {},
   "source": [
    "### What samples and genomes are you processing?"
   ]
  },
  {
   "cell_type": "code",
   "execution_count": 76,
   "metadata": {},
   "outputs": [
    {
     "name": "stdout",
     "output_type": "stream",
     "text": [
      "42 samples added to a sample array from the following tissues:\n",
      "\n",
      "Blood\n",
      "Skin\n",
      "Ovary\n",
      "Kidney\n",
      "Liver\n",
      "SmoothMuscle\n",
      "Testis\n",
      "Lung\n",
      "Unidentified\n",
      "Brain\n",
      "Heart\n"
     ]
    }
   ],
   "source": [
    "#Reading in the RNA-Seq library IDs\n",
    "sampleInfo = '/home/ampend/links/kidd-lab/ampend-projects/Novel_Sequence_Analysis/rna-seq/SampleInfoTable.txt'\n",
    "samples = []\n",
    "sampleDict = {}\n",
    "\n",
    "for line in open(sampleInfo, 'r'):\n",
    "    if 'Bio' in line: #skips header\n",
    "        continue\n",
    "    line=line.rstrip().split()\n",
    "    ID = line[4]\n",
    "    tissue = line[5]\n",
    "    samples.append(ID)\n",
    "    if tissue not in sampleDict.keys():\n",
    "        sampleDict[tissue] = []\n",
    "    sampleDict[tissue].append(ID)\n",
    "    \n",
    "print('%i samples added to a sample array from the following tissues:\\n' % len(samples))\n",
    "\n",
    "genomes = ['zoey-2.3','canFam3.1-noY']\n",
    "\n",
    "for tissue in sampleDict.keys():\n",
    "    print(tissue)\n"
   ]
  },
  {
   "cell_type": "code",
   "execution_count": 4,
   "metadata": {},
   "outputs": [],
   "source": [
    "scriptsDir = '/home/ampend/links/kidd-lab-scratch/ampend-projects/Zoey_Genome_Project/rna-seq/scripts/'"
   ]
  },
  {
   "cell_type": "markdown",
   "metadata": {},
   "source": [
    "### Run fastqc on the raw FASTQ files"
   ]
  },
  {
   "cell_type": "code",
   "execution_count": 59,
   "metadata": {},
   "outputs": [],
   "source": [
    "fqDir = '/home/ampend/links/kidd-lab-scratch/ampend-projects/Zoey_Genome_Project/rna-seq/input/RawFASTQ/'\n",
    "fqcDir = '/home/ampend/links/kidd-lab-scratch/ampend-projects/Zoey_Genome_Project/rna-seq/input/fastqc/fastqc_initial/'\n",
    "\n",
    "for sample in samples:\n",
    "    cmdFile = open(scriptsDir + 'fastqc/initial/' + '%s_initial_fastqc_commands.cmds' % (sample),'w')\n",
    "    mem='6'\n",
    "    write_pbs_lines(scriptsDir,sample,cmdFile,fqDir,'fastqc_initial',mem)\n",
    "\n",
    "    #READ ONE\n",
    "    cmd = 'gunzip %s%s_1.fastq.gz' % (fqDir,sample)\n",
    "    cmdFile.write(cmd + '\\n')    \n",
    "    cmd = 'fastqc %s%s_1.fastq -o %s' % (fqDir,sample,fqcDir)\n",
    "    cmdFile.write(cmd + '\\n')\n",
    "    cmd = 'gzip %s%s_1.fastq' % (fqDir,sample)\n",
    "    cmdFile.write(cmd + '\\n')\n",
    "    #READ TWO\n",
    "    cmd = 'gunzip %s%s_2.fastq.gz' % (fqDir,sample)\n",
    "    cmdFile.write(cmd + '\\n')\n",
    "    cmd = 'fastqc %s%s_2.fastq -o %s' % (fqDir,sample,fqcDir)\n",
    "    cmdFile.write(cmd + '\\n')\n",
    "    cmd = 'gzip %s%s_2.fastq' % (fqDir,sample)\n",
    "    cmdFile.write(cmd + '\\n')\n",
    "    \n",
    "    cmdFile.close()    \n",
    "    \n",
    "    "
   ]
  },
  {
   "cell_type": "markdown",
   "metadata": {},
   "source": [
    "### Run Rcorrector on the raw FASTQ files"
   ]
  },
  {
   "cell_type": "code",
   "execution_count": 70,
   "metadata": {},
   "outputs": [],
   "source": [
    "fqDir = '/home/ampend/links/kidd-lab-scratch/ampend-projects/Zoey_Genome_Project/rna-seq/input/RawFASTQ/'\n",
    "\n",
    "cmdFile = open(scriptsDir + 'Rcorrector_commands.cmds','w')\n",
    "mem='10'\n",
    "write_pbs_lines(scriptsDir,'RCorrector',cmdFile,fqDir,'total',mem)\n",
    "\n",
    "for sample in samples:\n",
    "    cmd = 'perl /home/ampend/links/kidd-lab-scratch/ampend-projects/rCorrector/Rcorrector/run_rcorrector.pl -1 %s%s_1.fastq.gz -2 %s%s_2.fastq.gz' % (fqDir,sample,fqDir,sample)\n",
    "    cmdFile.write(cmd + '\\n')    \n",
    "    \n",
    "cmdFile.close()    \n",
    "    "
   ]
  },
  {
   "cell_type": "markdown",
   "metadata": {},
   "source": [
    "##### Check that they all finished"
   ]
  },
  {
   "cell_type": "code",
   "execution_count": 30,
   "metadata": {},
   "outputs": [
    {
     "name": "stdout",
     "output_type": "stream",
     "text": [
      "SRR536884_2\n"
     ]
    }
   ],
   "source": [
    "Dir = '/home/ampend/links/kidd-lab-scratch/ampend-projects/Zoey_Genome_Project/rna-seq/input/Rcorrected_FASTQ/'\n",
    "done = []\n",
    "\n",
    "for file in glob.glob(Dir + '*cor.fq.gz'):\n",
    "    sample = file.replace(Dir,'').split('.')[0]\n",
    "    done.append(sample)\n",
    "\n",
    "pairs = [1,2]\n",
    "\n",
    "for pair in pairs:\n",
    "    for sample in samples:\n",
    "        f = sample + '_' + str(pair)\n",
    "        if f in done:\n",
    "            continue\n",
    "        else:\n",
    "            print(f)"
   ]
  },
  {
   "cell_type": "markdown",
   "metadata": {},
   "source": [
    "### Fix Rcorrector FASTQ outputs with custom script"
   ]
  },
  {
   "cell_type": "code",
   "execution_count": 77,
   "metadata": {},
   "outputs": [],
   "source": [
    "fqDir = '/home/ampend/links/kidd-lab-scratch/ampend-projects/Zoey_Genome_Project/rna-seq/input/Rcorrected_FASTQ/'\n",
    "\n",
    "#write PBS\n",
    "cmdfile = scriptsDir + 'FixRcorrFastq_commands.pbs'\n",
    "cmdFile = open(scriptsDir + 'FixRcorrFastq_commands.pbs','w')\n",
    "mem='10'\n",
    "write_pbs_lines(scriptsDir,'FixRCorrector',cmdFile,fqDir,'total',mem)\n",
    "cmdFile.write('/home/jmkidd/links/kidd-lab/jmkidd-projects/scripts/perlUtils/run-by-id-log.pl %s %s $PBS_ARRAYID' % (cmdfile.replace('pbs','cmds'),cmdfile.replace('.pbs','.logs').replace('/scripts/','/logs/')))\n",
    "cmdFile.close()\n",
    "\n",
    "#write commands file\n",
    "cmdFile = open(scriptsDir + 'FixRcorrFastq_commands.cmds','w')\n",
    "for sample in samples:\n",
    "    cmd = 'python /home/ampend/links/kidd-lab-scratch/ampend-projects/Zoey_Genome_Project/rna-seq/scripts/filterUncorrectabledPEfastq.py -1 %s%s_1.cor.fq.gz -2 %s%s_2.cor.fq.gz -o fixed 2>&1 -s %s' % (fqDir,sample,fqDir,sample,sample)\n",
    "    cmdFile.write(cmd + '\\n')     \n",
    "cmdFile.close()    \n",
    "    "
   ]
  },
  {
   "cell_type": "markdown",
   "metadata": {},
   "source": [
    "### Run fastqc on Fixed Rcorrector FASTQ outputs"
   ]
  },
  {
   "cell_type": "code",
   "execution_count": 7,
   "metadata": {},
   "outputs": [],
   "source": [
    "fqDir = '/home/ampend/links/kidd-lab-scratch/ampend-projects/Zoey_Genome_Project/rna-seq/input/Fixed_Rcorrected_FASTQ/'\n",
    "fqcDir = '/home/ampend/links/kidd-lab-scratch/ampend-projects/Zoey_Genome_Project/rna-seq/input/fastqc/Fixed_RcorrectedFASTQ_fastqc/'\n",
    "\n",
    "for sample in samples:\n",
    "    cmdFile = open(scriptsDir + 'fastqc/Fixed_Rcorrected/' + '%s_Rcorrected_fastqc_commands.cmds' % (sample),'w')\n",
    "    mem='6'\n",
    "    write_pbs_lines(scriptsDir,sample,cmdFile,fqDir,'fastqc_FixRcorr',mem)\n",
    "\n",
    "    #READ ONE\n",
    "    cmd = 'gunzip %sfixed_%s_1.cor.fq.gz' % (fqDir,sample)\n",
    "    cmdFile.write(cmd + '\\n')    \n",
    "    cmd = 'fastqc %sfixed_%s_1.cor.fq -o %s' % (fqDir,sample,fqcDir)\n",
    "    cmdFile.write(cmd + '\\n')\n",
    "    cmd = 'gzip %sfixed_%s_1.cor.fq' % (fqDir,sample)\n",
    "    cmdFile.write(cmd + '\\n')\n",
    "    #READ TWO\n",
    "    cmd = 'gunzip %sfixed_%s_2.cor.fq.gz' % (fqDir,sample)\n",
    "    cmdFile.write(cmd + '\\n')    \n",
    "    cmd = 'fastqc %sfixed_%s_2.cor.fq -o %s' % (fqDir,sample,fqcDir)\n",
    "    cmdFile.write(cmd + '\\n')\n",
    "    cmd = 'gzip %sfixed_%s_2.cor.fq' % (fqDir,sample)\n",
    "    cmdFile.write(cmd + '\\n')\n",
    "    \n",
    "    cmdFile.close()    \n",
    "    \n",
    "    "
   ]
  },
  {
   "cell_type": "markdown",
   "metadata": {},
   "source": [
    "### Trimmomatic clean ups based on the fastqc run above"
   ]
  },
  {
   "cell_type": "markdown",
   "metadata": {},
   "source": [
    "Example commands:\n",
    "module load trimmomatic\n",
    "\n",
    "java -jar ${TRIMM_JAR}/trimmomatic-0.36.jar \\\n",
    "PE SRR388741_1.fastq.gz SRR388741_2.fastq.gz -baseout SRR388741_sorted \\\n",
    "LEADING:10 SLIDINGWINDOW:4:20 MINLEN:50\n"
   ]
  },
  {
   "cell_type": "code",
   "execution_count": 23,
   "metadata": {},
   "outputs": [],
   "source": [
    "#Write PBS file\n",
    "cmdfile = scriptsDir + 'Trimmomatic_commands.pbs'\n",
    "cmdFile = open(cmdfile,'w')\n",
    "mem='8'\n",
    "taskCount = 42\n",
    "write_pbs_task_lines(scriptsDir,'total',cmdFile,fqDir,'trimmomatic',mem,taskCount)\n",
    "cmdFile.write('module load trimmomatic\\n')\n",
    "cmdFile.write('/home/jmkidd/links/kidd-lab/jmkidd-projects/scripts/perlUtils/run-by-id-log.pl %s %s $PBS_ARRAYID\\n' % (cmdfile.replace('pbs','cmds'),cmdfile.replace('.pbs','.logs').replace('/scripts/','/logs/')))\n",
    "cmdFile.close()\n",
    "\n",
    "\n",
    "##########################################################################\n",
    "#Write commands file\n",
    "fqDir = '/home/ampend/links/kidd-lab-scratch/ampend-projects/Zoey_Genome_Project/rna-seq/input/Fixed_Rcorrected_FASTQ/'\n",
    "fqOutDir = '/home/ampend/links/kidd-lab-scratch/ampend-projects/Zoey_Genome_Project/rna-seq/input/Trimmomatic_Fixed_Rcorrected_FASTQ/'\n",
    "\n",
    "cmdFile = open(scriptsDir + 'Trimmomatic_commands.cmds','w')\n",
    "for sample in samples:\n",
    "    cmd = 'java -jar ${TRIMM_JAR}/trimmomatic-0.36.jar PE %sfixed_%s_1.cor.fq.gz %sfixed_%s_2.cor.fq.gz -baseout %sfixed_%s_cor_trim LEADING:10 SLIDINGWINDOW:4:20 MINLEN:50' % (fqDir,sample,fqDir,sample,fqOutDir,sample)\n",
    "    cmdFile.write('%s\\n' % cmd)\n",
    "cmdFile.close()\n",
    "\n"
   ]
  },
  {
   "cell_type": "markdown",
   "metadata": {},
   "source": [
    "### Append /1 and /2 to the fixed Rcorrected reads"
   ]
  },
  {
   "cell_type": "code",
   "execution_count": 28,
   "metadata": {},
   "outputs": [],
   "source": [
    "fastqInDir = '/home/ampend/links/kidd-lab-scratch/ampend-projects/Zoey_Genome_Project/rna-seq/input/Trimmomatic_Fixed_Rcorrected_FASTQ/'\n",
    "fastqOutDir = '/home/ampend/links/kidd-lab-scratch/ampend-projects/Zoey_Genome_Project/rna-seq/input/Fastool_Trimmomatic_Fixed_Rcorrected_FASTQ/'\n",
    "\n",
    "for sample in samples:\n",
    "    cmdFile = open(scriptsDir + 'fastool/' + '%s_fastool_commands.cmds' % sample, 'w')\n",
    "    mem = '10'\n",
    "    write_pbs_lines(scriptsDir,sample,cmdFile,fqDir,'fastool_TrimFixRcorr',mem)\n",
    "\n",
    "    #load module\n",
    "    cmd = 'module load fastool'\n",
    "    cmdFile.write('%s\\n' % cmd)\n",
    "\n",
    "    ###FASTOOL \n",
    "    ###Writing commands to unzip the starting FASTQ file\n",
    "    cmd = 'gunzip %sfixed_%s_cor_trim_1P.gz' % (fastqInDir,sample)\n",
    "    cmdFile.write('%s\\n' % cmd)\n",
    "    cmd = 'gunzip %sfixed_%s_cor_trim_2P.gz' % (fastqInDir,sample)\n",
    "    cmdFile.write('%s\\n' % cmd)\n",
    "\n",
    "    ###Writing commands to convert the FASTQ files into proper format\n",
    "    cmd = 'fastool --append /1 %sfixed_%s_cor_trim_1P > %s%s_Rcorrected_filtered_formatted_1P.fq' % (fastqInDir,sample,fastqOutDir,sample)\n",
    "    cmdFile.write('%s\\n' % cmd)\n",
    "    cmd = 'fastool --append /2 %sfixed_%s_cor_trim_2P > %s%s_Rcorrected_filtered_formatted_2P.fq' % (fastqInDir,sample,fastqOutDir,sample)\n",
    "    cmdFile.write('%s\\n' % cmd)\n",
    "\n",
    "    #Commands to change the '>' symbol that fastool adds into a '@' symbol for the first line\n",
    "    cmd = 'sed -i \\'s/>%s/@%s/g\\' %s%s_Rcorrected_filtered_formatted_1P.fq' % (sample,sample,fastqOutDir,sample)\n",
    "    cmdFile.write('%s\\n' % cmd)\n",
    "    cmd = 'sed -i \\'s/>%s/@%s/g\\' %s%s_Rcorrected_filtered_formatted_2P.fq' % (sample,sample,fastqOutDir,sample)\n",
    "    cmdFile.write('%s\\n' % cmd)\n",
    "\n",
    "    #Writing commands to re-zip the starting FASTQ file\n",
    "    cmd = 'gzip %s%s_Rcorrected_filtered_1P*' % (fastqInDir,sample)\n",
    "    cmdFile.write('%s\\n' % cmd)\n",
    "    cmd = 'gzip %s%s_Rcorrected_filtered_2P*' % (fastqInDir,sample)\n",
    "    cmdFile.write('%s\\n' % cmd)\n",
    "    \n",
    "    cmdFile.close()\n"
   ]
  },
  {
   "cell_type": "code",
   "execution_count": null,
   "metadata": {},
   "outputs": [],
   "source": [
    "### Run FASTQC on the trimmomatic processed fastq files"
   ]
  },
  {
   "cell_type": "code",
   "execution_count": 49,
   "metadata": {},
   "outputs": [],
   "source": [
    "fqDir = '/home/ampend/links/kidd-lab-scratch/ampend-projects/Zoey_Genome_Project/rna-seq/input/Trimmomatic_Fixed_Rcorrected_FASTQ/'\n",
    "fqcDir = '/home/ampend/links/kidd-lab-scratch/ampend-projects/Zoey_Genome_Project/rna-seq/input/fastqc/trimmomatic-processed/'\n",
    "\n",
    "for sample in samples:\n",
    "    cmdFile = open(scriptsDir + 'fastqc/trimmomatic-processed/' + '%s_trimmomatic-processed_fastqc_commands.cmds' % (sample),'w')\n",
    "    mem='6'\n",
    "    write_pbs_lines(scriptsDir,sample,cmdFile,fqDir,'fastqc_trimmo',mem)\n",
    "\n",
    "    #READ ONE\n",
    "    cmd = 'gunzip %sfixed_%s_cor_trim_1P.gz' % (fqDir,sample)\n",
    "    cmdFile.write(cmd + '\\n')    \n",
    "    cmd = 'fastqc %sfixed_%s_cor_trim_1P -o %s' % (fqDir,sample,fqcDir)\n",
    "    cmdFile.write(cmd + '\\n')\n",
    "    cmd = 'gzip %sfixed_%s_cor_trim_1P' % (fqDir,sample)\n",
    "    cmdFile.write(cmd + '\\n')\n",
    "    #READ TWO\n",
    "    cmd = 'gunzip %sfixed_%s_cor_trim_2P.gz' % (fqDir,sample)\n",
    "    cmdFile.write(cmd + '\\n')\n",
    "    cmd = 'fastqc %sfixed_%s_cor_trim_2P -o %s' % (fqDir,sample,fqcDir)\n",
    "    cmdFile.write(cmd + '\\n')\n",
    "    cmd = 'gzip %sfixed_%s_cor_trim_2P' % (fqDir,sample)\n",
    "    cmdFile.write(cmd + '\\n')\n",
    "    \n",
    "    cmdFile.close()    \n",
    "    \n",
    "    "
   ]
  },
  {
   "cell_type": "code",
   "execution_count": null,
   "metadata": {},
   "outputs": [],
   "source": [
    "### Run FASTQC on the formatted-trimmomatic-Rcorrected fastq"
   ]
  },
  {
   "cell_type": "code",
   "execution_count": 101,
   "metadata": {},
   "outputs": [],
   "source": [
    "fqDir = '/home/ampend/links/kidd-lab-scratch/ampend-projects/Zoey_Genome_Project/rna-seq/input/Fastool_Trimmomatic_Fixed_Rcorrected_FASTQ/'\n",
    "fqcDir = '/home/ampend/links/kidd-lab-scratch/ampend-projects/Zoey_Genome_Project/rna-seq/input/fastqc/formatted/'\n",
    "\n",
    "for sample in samples:\n",
    "    cmdFile = open(scriptsDir + 'fastqc/formatted/' + '%s_formatted_fastqc_commands.cmds' % (sample),'w')\n",
    "    mem='6'\n",
    "    write_pbs_lines(scriptsDir,sample,cmdFile,fqDir,'fastqc_formatted',mem)\n",
    "\n",
    "    #READ ONE\n",
    "    cmd = 'gunzip %s%s_Rcorrected_filtered_formatted_1P.fq.gz' % (fqDir,sample)\n",
    "    cmdFile.write(cmd + '\\n')    \n",
    "    cmd = 'fastqc %s%s_Rcorrected_filtered_formatted_1P.fq -o %s' % (fqDir,sample,fqDir)\n",
    "    cmdFile.write(cmd + '\\n')\n",
    "    cmd = 'gzip %s%s_Rcorrected_filtered_formatted_1P.fq' % (fqDir,sample)\n",
    "    cmdFile.write(cmd + '\\n')\n",
    "    #READ TWO\n",
    "    cmd = 'gunzip %s%s_Rcorrected_filtered_formatted_2P.fq.gz' % (fqDir,sample)\n",
    "    cmdFile.write(cmd + '\\n')    \n",
    "    cmd = 'fastqc %s%s_Rcorrected_filtered_formatted_2P.fq -o %s' % (fqDir,sample,fqDir)\n",
    "    cmdFile.write(cmd + '\\n')\n",
    "    cmd = 'gzip %s%s_Rcorrected_filtered_formatted_2P.fq' % (fqDir,sample)\n",
    "    cmdFile.write(cmd + '\\n')\n",
    "\n",
    "    cmdFile.close()    \n",
    "    \n",
    "    "
   ]
  },
  {
   "cell_type": "code",
   "execution_count": 93,
   "metadata": {},
   "outputs": [],
   "source": [
    "### Freedman script to remove fastqc high abundance sequences"
   ]
  },
  {
   "cell_type": "code",
   "execution_count": 103,
   "metadata": {},
   "outputs": [],
   "source": [
    "fqDir = '/home/ampend/links/kidd-lab-scratch/ampend-projects/Zoey_Genome_Project/rna-seq/input/Fastool_Trimmomatic_Fixed_Rcorrected_FASTQ/'\n",
    "\n",
    "#write PBS\n",
    "cmdfile = scriptsDir + 'removeFastqcSeq_commands.pbs'\n",
    "cmdFile = open(cmdfile,'w')\n",
    "mem='2'\n",
    "write_pbs_lines(scriptsDir,'RemoveSeq',cmdFile,fqDir,'total',mem)\n",
    "cmdFile.write('/home/jmkidd/links/kidd-lab/jmkidd-projects/scripts/perlUtils/run-by-id-log.pl %s %s $PBS_ARRAYID' % (cmdfile.replace('pbs','cmds'),cmdfile.replace('.pbs','.logs').replace('/scripts/','/logs/')))\n",
    "cmdFile.close()\n",
    "\n",
    "#write commands file\n",
    "cmdFile = open(cmdfile.replace('.pbs','.cmds'),'w')\n",
    "outDir = '/home/ampend/links/kidd-lab-scratch/ampend-projects/Zoey_Genome_Project/rna-seq/input/OverRepRemoved_Fastool_Trimmomatic_Fixed_Rcorrected_FASTQ/'\n",
    "for sample in samples:\n",
    "    cmd = 'python /home/ampend/links/kidd-lab-scratch/ampend-projects/Zoey_Genome_Project/rna-seq/scripts/RemoveFastqcOverrepSequenceReads.py '\n",
    "    cmd += '-1 %s%s_Rcorrected_filtered_formatted_1P.fq.gz ' % (fqDir,sample)\n",
    "    cmd += '-2 %s%s_Rcorrected_filtered_formatted_2P.fq.gz ' % (fqDir,sample)\n",
    "    cmd += '-outDir %s' % (outDir)\n",
    "    cmdFile.write(cmd + '\\n')     \n",
    "cmdFile.close()    \n",
    "    "
   ]
  },
  {
   "cell_type": "markdown",
   "metadata": {},
   "source": [
    "### Write GSNAP commands"
   ]
  },
  {
   "cell_type": "code",
   "execution_count": 43,
   "metadata": {},
   "outputs": [],
   "source": [
    "fastqOutDir = '/home/ampend/links/kidd-lab-scratch/ampend-projects/Zoey_Genome_Project/rna-seq/input/Fastool_Trimmomatic_Fixed_Rcorrected_FASTQ/'\n",
    "\n",
    "for sample in samples:\t\n",
    "    for genome in genomes:\n",
    "        #Create command file for just one sample at a time\n",
    "        if 'zoey' in genome:\n",
    "            cmdFile = open(scriptsDir + 'Zoey-GSNAP-Rcorrected/' + '%s_%s_GSNAP-processing.cmds' % (genome,sample),'w')\n",
    "        else:\n",
    "            cmdFile = open(scriptsDir + 'CanFam-GSNAP-Rcorrected/' + '%s_%s_GSNAP-processing.cmds' % (genome,sample),'w')\n",
    "        mem = '15'\n",
    "        write_pbs_lines(scriptsDir,genome + '_' + sample,cmdFile,fastqOutDir,'gsnap',mem)\n",
    "\n",
    "        #Writing commands to align using GSNAP-GMAP\n",
    "        gsnapDir = '/home/ampend/links/kidd-lab/ampend-projects/Zoey_Genome_Project/rna-seq/GMAP-GSNAP/'\n",
    "        gsnapOutDir = '/home/ampend/links/kidd-lab-scratch/ampend-projects/Zoey_Genome_Project/rna-seq/Alignments_GSNAP/'\n",
    "        ####RUN GSNAP/GMAP\n",
    "        cmd = '%sbin/gsnap -d %s -D %sgenomes/%s -n 10 --quiet-if-excessive -m 5 -A sam -N 1 -o %s%s_Rcorrected/%s_m5_gsnap.sam %s%s_Rcorrected_filtered_formatted_1P.fq %s%s_Rcorrected_filtered_formatted_2P.fq' % (gsnapDir,genome,gsnapDir,genome,gsnapOutDir,genome,sample,fastqOutDir,sample,fastqOutDir,sample)\n",
    "        cmdFile.write('%s\\n' % cmd)\n",
    "        cmdFile.close\n",
    "\n",
    "        ####MAKE BAM FILE FROM GSNAP OUTFILE\n",
    "        cmd = 'samtools view -bS %s%s_Rcorrected/%s_m5_gsnap.sam | samtools sort - %s%s_Rcorrected/%s_m5_gsnap_sorted' % (gsnapOutDir,genome,sample,gsnapOutDir,genome,sample)\n",
    "        cmdFile.write('%s\\n' % cmd)\n",
    "\n",
    "        \n",
    "        ##########################################################\n",
    "        ##########################################################\n",
    "        #WRITE TRINITY COMMANDS\n",
    "        if 'zoey' in genome:\n",
    "            cmdFile = open(scriptsDir + 'Zoey-Trinity-Rcorrected/' + '%s_%s_Trinity-processing.cmds' % (genome,sample),'w')\n",
    "        else:\n",
    "            cmdFile = open(scriptsDir + 'CanFam-Trinity-Rcorrected/' + '%s_%s_Trinity-processing.cmds' % (genome,sample),'w')\n",
    "\n",
    "        write_pbs_lines(scriptsDir,sample,cmdFile,fastqOutDir,'%s_trin_pipe' % genome,'20')\n",
    "        ###CREATE TRINITY OUTPUT DIRECTOR\n",
    "        trinityOutDir = '/home/ampend/links/kidd-lab-scratch/ampend-projects/Zoey_Genome_Project/rna-seq/Trinity_RNA-Seq_Analysis/trinity_alignments/' + '%s/%s_trinity/' % (genome,sample)\t\t\n",
    "        cmd = 'mkdir -p %s' % (trinityOutDir)\n",
    "        cmdFile.write('%s\\n' % cmd)\n",
    "\n",
    "        ###GUNZIP INPUT BAM FILE\n",
    "        bamfile = '%s%s/%s_m5_gsnap_sorted' % (gsnapOutDir,genome,sample)\n",
    "        cmd = 'gunzip %s.gz' % bamfile\n",
    "        cmdFile.write('#%s\\n' % cmd)\t\n",
    "\n",
    "        ####RUN TRINITY\n",
    "        cmd = 'Trinity --seqType fq --max_memory 10G --left %s%s_filtered_formatted_1P.fq --right %s%s_filtered_formatted_2P.fq --min_contig_length 200 --output %s --genome_guided_bam %s%s_reformatted/%s_m5_gsnap_sorted.bam --genome_guided_max_intron 200000' % (fastqOutDir,sample,fastqOutDir,sample,trinityOutDir,gsnapOutDir,genome,sample)\n",
    "        cmdFile.write('#%s\\n' % cmd)\t\n",
    "\n",
    "        ###GZIP INPUT BAM FILE\n",
    "        cmd = 'gzip %s' % bamfile\n",
    "        cmdFile.write('#%s\\n' % cmd)\t\n",
    "\n",
    "        #break ## just do zoey for now and see if it works\n",
    "        #Gzip the re-formatted FASTQ output files once GSNAP is done\n",
    "        cmd = 'gzip %s%s_filtered_formatted_1P.fq' % (fastqOutDir,sample)\n",
    "        cmdFile.write('#%s\\n' % cmd)\n",
    "        cmd = 'gzip %s%s_filtered_formatted_2P.fq' % (fastqOutDir,sample)\n",
    "        cmdFile.write('#%s\\n' % cmd)\t\n",
    "\n",
    "        cmdFile.close\n"
   ]
  },
  {
   "cell_type": "markdown",
   "metadata": {},
   "source": [
    "#### N=1 so that there is only one hit per read"
   ]
  },
  {
   "cell_type": "code",
   "execution_count": 45,
   "metadata": {},
   "outputs": [],
   "source": [
    "fastqOutDir = '/home/ampend/links/kidd-lab-scratch/ampend-projects/Zoey_Genome_Project/rna-seq/input/Fastool_Trimmomatic_Fixed_Rcorrected_FASTQ/'\n",
    "\n",
    "for sample in samples:\t\n",
    "    for genome in genomes:\n",
    "        #Create command file for just one sample at a time\n",
    "        if 'zoey' in genome:\n",
    "            cmdFile = open(scriptsDir + 'Zoey-GSNAP-Rcorrected_n1/' + '%s_%s_GSNAP-processing.cmds' % (genome,sample),'w')\n",
    "        else:\n",
    "            cmdFile = open(scriptsDir + 'CanFam-GSNAP-Rcorrected_n1/' + '%s_%s_GSNAP-processing.cmds' % (genome,sample),'w')\n",
    "        mem = '15'\n",
    "        write_pbs_lines(scriptsDir,genome + '_' + sample,cmdFile,fastqOutDir,'gsnap_n1',mem)\n",
    "\n",
    "        #Writing commands to align using GSNAP-GMAP\n",
    "        gsnapDir = '/home/ampend/links/kidd-lab/ampend-projects/Zoey_Genome_Project/rna-seq/GMAP-GSNAP/'\n",
    "        gsnapOutDir = '/home/ampend/links/kidd-lab-scratch/ampend-projects/Zoey_Genome_Project/rna-seq/Alignments_GSNAP/%s_Rcorrected_n1/' % genome\n",
    "        ####RUN GSNAP/GMAP\n",
    "        cmd = '%sbin/gsnap -d %s -D %sgenomes/%s -n 1 --quiet-if-excessive -m 5 -A sam -N 1 -o %s%s_m5_gsnap.sam %s%s_Rcorrected_filtered_formatted_1P.fq %s%s_Rcorrected_filtered_formatted_2P.fq' % (gsnapDir,genome,gsnapDir,genome,gsnapOutDir,sample,fastqOutDir,sample,fastqOutDir,sample)\n",
    "        cmdFile.write('%s\\n' % cmd)\n",
    "        cmdFile.close\n",
    "\n",
    "        ####MAKE BAM FILE FROM GSNAP OUTFILE\n",
    "        cmd = 'samtools view -bS %s%s_m5_gsnap.sam | samtools sort - %s%s_m5_gsnap_sorted' % (gsnapOutDir,sample,gsnapOutDir,sample)\n",
    "        cmdFile.write('%s\\n' % cmd)\n",
    "\n",
    "        \n",
    "        ##########################################################\n",
    "        ##########################################################\n",
    "        #WRITE TRINITY COMMANDS\n",
    "        if 'zoey' in genome:\n",
    "            cmdFile = open(scriptsDir + 'Zoey-Trinity-Rcorrected/' + '%s_%s_n1_Trinity-processing.cmds' % (genome,sample),'w')\n",
    "        else:\n",
    "            cmdFile = open(scriptsDir + 'CanFam-Trinity-Rcorrected/' + '%s_%s_n1_Trinity-processing.cmds' % (genome,sample),'w')\n",
    "\n",
    "        write_pbs_lines(scriptsDir,sample,cmdFile,fastqOutDir,'%s_trin_pipe' % genome,'20')\n",
    "        ###CREATE TRINITY OUTPUT DIRECTOR\n",
    "        trinityOutDir = '/home/ampend/links/kidd-lab-scratch/ampend-projects/Zoey_Genome_Project/rna-seq/Trinity_RNA-Seq_Analysis/trinity_alignments/' + '%s/%s_trinity/' % (genome,sample)\t\t\n",
    "        cmd = 'mkdir -p %s' % (trinityOutDir)\n",
    "        cmdFile.write('%s\\n' % cmd)\n",
    "\n",
    "        ###GUNZIP INPUT BAM FILE\n",
    "        bamfile = '%s%s_m5_gsnap_sorted' % (gsnapOutDir,sample)\n",
    "        cmd = 'gunzip %s.gz' % bamfile\n",
    "        cmdFile.write('#%s\\n' % cmd)\t\n",
    "\n",
    "        ####RUN TRINITY\n",
    "        cmd = 'Trinity --seqType fq --max_memory 10G --left %s%s_filtered_formatted_1P.fq --right %s%s_filtered_formatted_2P.fq --min_contig_length 200 --output %s --genome_guided_bam %s%s_m5_gsnap_sorted.bam --genome_guided_max_intron 200000' % (fastqOutDir,sample,fastqOutDir,sample,trinityOutDir,gsnapOutDir,sample)\n",
    "        cmdFile.write('#%s\\n' % cmd)\t\n",
    "\n",
    "        ###GZIP INPUT BAM FILE\n",
    "        cmd = 'gzip %s' % bamfile\n",
    "        cmdFile.write('#%s\\n' % cmd)\t\n",
    "\n",
    "        #break ## just do zoey for now and see if it works\n",
    "        #Gzip the re-formatted FASTQ output files once GSNAP is done\n",
    "        cmd = 'gzip %s%s_filtered_formatted_1P.fq' % (fastqOutDir,sample)\n",
    "        cmdFile.write('#%s\\n' % cmd)\n",
    "        cmd = 'gzip %s%s_filtered_formatted_2P.fq' % (fastqOutDir,sample)\n",
    "        cmdFile.write('#%s\\n' % cmd)\t\n",
    "\n",
    "        cmdFile.close\n"
   ]
  },
  {
   "cell_type": "code",
   "execution_count": 108,
   "metadata": {},
   "outputs": [],
   "source": [
    "#### Gsnap for the overrep seqs removed\n",
    "fastqOutDir = '/home/ampend/links/kidd-lab-scratch/ampend-projects/Zoey_Genome_Project/rna-seq/input/OverRepRemoved_Fastool_Trimmomatic_Fixed_Rcorrected_FASTQ/'\n",
    "\n",
    "for sample in samples:\t\n",
    "    for genome in genomes:\n",
    "        #Create command file for just one sample at a time\n",
    "        if 'zoey' in genome:\n",
    "            cmdFile = open(scriptsDir + 'Zoey-GSNAP-Rcorrected-Overrep_n1/' + '%s_%s_GSNAP-processing.cmds' % (genome,sample),'w')\n",
    "        else:\n",
    "            cmdFile = open(scriptsDir + 'CanFam-GSNAP-Rcorrected-Overrep_n1/' + '%s_%s_GSNAP-processing.cmds' % (genome,sample),'w')\n",
    "        mem = '15'\n",
    "        write_pbs_lines(scriptsDir,genome + '_' + sample,cmdFile,fastqOutDir,'gsnap_n1',mem)\n",
    "\n",
    "        #Writing commands to align using GSNAP-GMAP\n",
    "        gsnapDir = '/home/ampend/links/kidd-lab/ampend-projects/Zoey_Genome_Project/rna-seq/GMAP-GSNAP/'\n",
    "        gsnapOutDir = '/home/ampend/links/kidd-lab-scratch/ampend-projects/Zoey_Genome_Project/rna-seq/Alignments_GSNAP/%s_Rcorrected_OverRep_n1/' % genome\n",
    "        \n",
    "        #GUNZIP THE FQ FILES\n",
    "        cmd = 'gunzip %s%s_Rcorrected_filtered_formatted_1P_rmoverrep.fq.gz' % (fastqOutDir,sample)\n",
    "        cmdFile.write('%s\\n' % cmd)\n",
    "        cmd = 'gunzip %s%s_Rcorrected_filtered_formatted_2P_rmoverrep.fq.gz' % (fastqOutDir,sample)\n",
    "        cmdFile.write('%s\\n' % cmd)        \n",
    "        \n",
    "        ####RUN GSNAP/GMAP\n",
    "        cmd = '%sbin/gsnap -d %s -D %sgenomes/%s -n 1 --quiet-if-excessive -m 5 -A sam -N 1 -o %s%s_m5_gsnap.sam %s%s_Rcorrected_filtered_formatted_1P_rmoverrep.fq %s%s_Rcorrected_filtered_formatted_2P_rmoverrep.fq' % (gsnapDir,genome,gsnapDir,genome,gsnapOutDir,sample,fastqOutDir,sample,fastqOutDir,sample)\n",
    "        cmdFile.write('%s\\n' % cmd)\n",
    "\n",
    "        ####MAKE BAM FILE FROM GSNAP OUTFILE\n",
    "        cmd = 'samtools view -bS %s%s_m5_gsnap.sam | samtools sort - %s%s_m5_gsnap_sorted' % (gsnapOutDir,sample,gsnapOutDir,sample)\n",
    "        cmdFile.write('%s\\n' % cmd)\n",
    "\n",
    "        #ZIP THE FQ FILES\n",
    "        cmd = 'gzip %s%s_Rcorrected_filtered_formatted_1P_rmoverrep.fq' % (fastqOutDir,sample)\n",
    "        cmdFile.write('%s\\n' % cmd)\n",
    "        cmd = 'gzip %s%s_Rcorrected_filtered_formatted_2P_rmoverrep.fq' % (fastqOutDir,sample)\n",
    "        cmdFile.write('%s\\n' % cmd)       \n",
    "        \n",
    "        cmdFile.close\n"
   ]
  },
  {
   "cell_type": "code",
   "execution_count": 50,
   "metadata": {},
   "outputs": [],
   "source": [
    "## Calculate flagstats for bam files using each GSNAP threshold"
   ]
  },
  {
   "cell_type": "code",
   "execution_count": 61,
   "metadata": {},
   "outputs": [],
   "source": [
    "inDir = '/home/ampend/links/kidd-lab-scratch/ampend-projects/Zoey_Genome_Project/rna-seq/Alignments_GSNAP/'\n",
    "scriptDir = '/home/ampend/links/kidd-lab-scratch/ampend-projects/Zoey_Genome_Project/rna-seq/scripts/'\n",
    "taskCount = 0 \n",
    "cmdfile = scriptDir + 'flagstat_commands.cmds'\n",
    "cmdFile = open(cmdfile, 'w')\n",
    "\n",
    "#Write commands file\n",
    "for genome in genomes:\n",
    "    for sample in samples:\n",
    "        bamDir = inDir + '%s_Rcorrected/' % genome\n",
    "        taskCount += 1\n",
    "        cmd = 'samtools flagstat %s%s_m5_gsnap_sorted.bam > %s%s_m5_gsnap_sorted.flagstat' % (bamDir,sample,bamDir,sample)\n",
    "        cmdFile.write('%s\\n' % cmd)\n",
    "cmdFile.close()\n",
    "    \n",
    "#Write PBS file\n",
    "pbsfile = cmdfile.replace('.cmds','.pbs')\n",
    "pbsFile = open(pbsfile,'w')\n",
    "mem='2'\n",
    "write_pbs_task_lines(scriptsDir,'total',pbsFile,inDir,'flagstat',mem,taskCount,cmdfile)\n",
    "pbsFile.write('/home/ampend/links/kidd-lab/jmkidd-projects/scripts/perlUtils/run-by-id-log.pl %s %s $PBS_ARRAYID\\n' % (cmdfile.replace('pbs','cmds'),cmdfile.replace('.pbs','.logs').replace('/scripts/','/logs/')))\n",
    "pbsFile.close()\n",
    "\n"
   ]
  },
  {
   "cell_type": "markdown",
   "metadata": {},
   "source": [
    "## Cufflinks  by Tissue"
   ]
  },
  {
   "cell_type": "code",
   "execution_count": 73,
   "metadata": {},
   "outputs": [],
   "source": [
    "inDir = '/home/ampend/links/kidd-lab-scratch/ampend-projects/Zoey_Genome_Project/rna-seq/Alignments_GSNAP/'\n",
    "scriptDir = '/home/ampend/links/kidd-lab-scratch/ampend-projects/Zoey_Genome_Project/rna-seq/scripts/'\n",
    "taskCount = 0 \n",
    "cmdfile = scriptDir + 'cufflinks_commands_bytissue.cmds'\n",
    "cmdFile = open(cmdfile, 'w')\n",
    "\n",
    "#Write commands file\n",
    "for genome in genomes:\n",
    "    cufflinksDir = '/home/ampend/links/kidd-lab-scratch/ampend-projects/Zoey_Genome_Project/rna-seq/Cufflinks_GSNAPAlignments/'\n",
    "    for sample in samples:\n",
    "        bamDir = inDir + '%s_Rcorrected/' % genome\n",
    "        taskCount += 1\n",
    "        cmd = 'mkdir -p %s%s && cufflinks -o %s%s_Rcorrected/%s/ %s%s_m5_gsnap_sorted.bam' % (cufflinksDir,sample,cufflinksDir,genome,sample,bamDir,sample)\n",
    "        cmdFile.write('%s\\n' % cmd)\n",
    "cmdFile.close()\n",
    "    \n",
    "#Write PBS file\n",
    "pbsfile = cmdfile.replace('.cmds','.pbs')\n",
    "pbsFile = open(pbsfile,'w')\n",
    "mem='6'\n",
    "write_pbs_task_lines(scriptsDir,'total',pbsFile,inDir,'cuff_n10',mem,taskCount,cmdfile)\n",
    "pbsFile.close()"
   ]
  },
  {
   "cell_type": "code",
   "execution_count": 78,
   "metadata": {},
   "outputs": [],
   "source": [
    "inDir = '/home/ampend/links/kidd-lab-scratch/ampend-projects/Zoey_Genome_Project/rna-seq/Alignments_GSNAP/'\n",
    "scriptDir = '/home/ampend/links/kidd-lab-scratch/ampend-projects/Zoey_Genome_Project/rna-seq/scripts/'\n",
    "taskCount = 0 \n",
    "\n",
    "\n",
    "#Write commands file\n",
    "for genome in genomes:\n",
    "    cmdfile = scriptDir + genome + '_Cufflinks_n1_OverRepRem.cmds'\n",
    "    cmdFile = open(cmdfile, 'w')\n",
    "    cufflinksDir = '/home/ampend/links/kidd-lab-scratch/ampend-projects/Zoey_Genome_Project/rna-seq/Cufflinks_GSNAPAlignments/%s_Rcorrected_n1/' % genome\n",
    "    for sample in samples:\n",
    "        bamDir = inDir + '%s_Rcorrected_OverRep_n1/' % genome\n",
    "        taskCount += 1\n",
    "        cmd = 'mkdir -p %s%s && cufflinks -o %s%s/ %s%s_m5_gsnap_sorted.bam' % (cufflinksDir,sample,cufflinksDir,sample,bamDir,sample)\n",
    "        cmdFile.write('%s\\n' % cmd)\n",
    "    cmdFile.close()\n",
    "\n",
    "    #Write PBS file\n",
    "    pbsfile = cmdfile.replace('.cmds','.pbs')\n",
    "    pbsFile = open(pbsfile,'w')\n",
    "    mem='6'\n",
    "    write_pbs_task_lines(scriptsDir,'%s' % genome,pbsFile,inDir,'cuff_n1',mem,taskCount,cmdfile)\n",
    "    \n",
    "    pbsFile.close()\n",
    "    \n"
   ]
  },
  {
   "cell_type": "code",
   "execution_count": 6,
   "metadata": {},
   "outputs": [],
   "source": [
    "##########################################################################################\n",
    "##########################################################################################\n",
    "##########################################################################################"
   ]
  },
  {
   "cell_type": "markdown",
   "metadata": {},
   "source": [
    "# Merge GSNAP BAMs by tissue and all together"
   ]
  },
  {
   "cell_type": "code",
   "execution_count": 37,
   "metadata": {},
   "outputs": [
    {
     "name": "stdout",
     "output_type": "stream",
     "text": [
      "\n",
      "Genome: zoey-2.3\n",
      "\n",
      "Genome: canFam3.1-noY\n"
     ]
    }
   ],
   "source": [
    "#We want to merge the BAMs by tissue first, and then all together \n",
    "scriptsDir = '/home/ampend/links/kidd-lab-scratch/ampend-projects/Zoey_Genome_Project/rna-seq/scripts/'\n",
    "cmdfile = scriptsDir + 'MergeBAMs.cmds'\n",
    "cmdFile = open(cmdfile,'w')\n",
    "cmdFile.write('module load bamtools\\n')\n",
    "\n",
    "taskCount = 0\n",
    "for genome in genomes:\n",
    "    print('\\nGenome: %s' % genome)\n",
    "    scriptDir = '/home/ampend/links/kidd-lab-scratch/ampend-projects/Zoey_Genome_Project/rna-seq/scripts/Cufflinks/%s/' % genome\n",
    "    for tissue in sampleDict.keys():\n",
    "        taskCount += 1 \n",
    "        gsnapDir = '/home/ampend/links/kidd-lab-scratch/ampend-projects/Zoey_Genome_Project/rna-seq/Alignments_GSNAP/%s_Rcorrected/' % genome\n",
    "        cmd = 'bamtools merge -out %sMerged_%s_%s_m5_gsnap_sorted.bam ' % (gsnapDir,genome,tissue)\n",
    "        for sample in sampleDict[tissue]:\n",
    "            bamFile = gsnapDir + sample + '_m5_gsnap_sorted.bam'\n",
    "            cmd += '-in %s ' % bamFile\n",
    "        cmdFile.write('%s\\n' % cmd)\n",
    "\n",
    "cmdFile.close()\n",
    "\n",
    "pbsFile = open(scriptsDir + 'MergeBAMs.pbs','w')\n",
    "mem=10\n",
    "write_pbs_task_lines(scriptsDir,'total',pbsFile,scriptsDir,'merge_bams',mem,taskCount,cmdfile)\n",
    "pbsFile.close()"
   ]
  },
  {
   "cell_type": "code",
   "execution_count": 89,
   "metadata": {},
   "outputs": [
    {
     "name": "stdout",
     "output_type": "stream",
     "text": [
      "bamtools merge -in /home/ampend/links/kidd-lab-scratch/ampend-projects/Zoey_Genome_Project/rna-seq/Alignments_GSNAP/zoey-2.3_Rcorrected_n1/SRR388734_m5_gsnap_sorted.bam -in /home/ampend/links/kidd-lab-scratch/ampend-projects/Zoey_Genome_Project/rna-seq/Alignments_GSNAP/zoey-2.3_Rcorrected_n1/SRR388735_m5_gsnap_sorted.bam -in /home/ampend/links/kidd-lab-scratch/ampend-projects/Zoey_Genome_Project/rna-seq/Alignments_GSNAP/zoey-2.3_Rcorrected_n1/SRR388747_m5_gsnap_sorted.bam -in /home/ampend/links/kidd-lab-scratch/ampend-projects/Zoey_Genome_Project/rna-seq/Alignments_GSNAP/zoey-2.3_Rcorrected_n1/SRR388736_m5_gsnap_sorted.bam -in /home/ampend/links/kidd-lab-scratch/ampend-projects/Zoey_Genome_Project/rna-seq/Alignments_GSNAP/zoey-2.3_Rcorrected_n1/SRR388741_m5_gsnap_sorted.bam -in /home/ampend/links/kidd-lab-scratch/ampend-projects/Zoey_Genome_Project/rna-seq/Alignments_GSNAP/zoey-2.3_Rcorrected_n1/SRR388752_m5_gsnap_sorted.bam -in /home/ampend/links/kidd-lab-scratch/ampend-projects/Zoey_Genome_Project/rna-seq/Alignments_GSNAP/zoey-2.3_Rcorrected_n1/SRR388737_m5_gsnap_sorted.bam -in /home/ampend/links/kidd-lab-scratch/ampend-projects/Zoey_Genome_Project/rna-seq/Alignments_GSNAP/zoey-2.3_Rcorrected_n1/SRR388740_m5_gsnap_sorted.bam -in /home/ampend/links/kidd-lab-scratch/ampend-projects/Zoey_Genome_Project/rna-seq/Alignments_GSNAP/zoey-2.3_Rcorrected_n1/SRR388766_m5_gsnap_sorted.bam -in /home/ampend/links/kidd-lab-scratch/ampend-projects/Zoey_Genome_Project/rna-seq/Alignments_GSNAP/zoey-2.3_Rcorrected_n1/SRR388738_m5_gsnap_sorted.bam -in /home/ampend/links/kidd-lab-scratch/ampend-projects/Zoey_Genome_Project/rna-seq/Alignments_GSNAP/zoey-2.3_Rcorrected_n1/SRR388751_m5_gsnap_sorted.bam -in /home/ampend/links/kidd-lab-scratch/ampend-projects/Zoey_Genome_Project/rna-seq/Alignments_GSNAP/zoey-2.3_Rcorrected_n1/SRR388760_m5_gsnap_sorted.bam -in /home/ampend/links/kidd-lab-scratch/ampend-projects/Zoey_Genome_Project/rna-seq/Alignments_GSNAP/zoey-2.3_Rcorrected_n1/SRR388739_m5_gsnap_sorted.bam -in /home/ampend/links/kidd-lab-scratch/ampend-projects/Zoey_Genome_Project/rna-seq/Alignments_GSNAP/zoey-2.3_Rcorrected_n1/SRR388748_m5_gsnap_sorted.bam -in /home/ampend/links/kidd-lab-scratch/ampend-projects/Zoey_Genome_Project/rna-seq/Alignments_GSNAP/zoey-2.3_Rcorrected_n1/SRR388759_m5_gsnap_sorted.bam -in /home/ampend/links/kidd-lab-scratch/ampend-projects/Zoey_Genome_Project/rna-seq/Alignments_GSNAP/zoey-2.3_Rcorrected_n1/SRR388742_m5_gsnap_sorted.bam -in /home/ampend/links/kidd-lab-scratch/ampend-projects/Zoey_Genome_Project/rna-seq/Alignments_GSNAP/zoey-2.3_Rcorrected_n1/SRR388756_m5_gsnap_sorted.bam -in /home/ampend/links/kidd-lab-scratch/ampend-projects/Zoey_Genome_Project/rna-seq/Alignments_GSNAP/zoey-2.3_Rcorrected_n1/SRR388764_m5_gsnap_sorted.bam -in /home/ampend/links/kidd-lab-scratch/ampend-projects/Zoey_Genome_Project/rna-seq/Alignments_GSNAP/zoey-2.3_Rcorrected_n1/SRR388743_m5_gsnap_sorted.bam -in /home/ampend/links/kidd-lab-scratch/ampend-projects/Zoey_Genome_Project/rna-seq/Alignments_GSNAP/zoey-2.3_Rcorrected_n1/SRR388744_m5_gsnap_sorted.bam -in /home/ampend/links/kidd-lab-scratch/ampend-projects/Zoey_Genome_Project/rna-seq/Alignments_GSNAP/zoey-2.3_Rcorrected_n1/SRR388761_m5_gsnap_sorted.bam -in /home/ampend/links/kidd-lab-scratch/ampend-projects/Zoey_Genome_Project/rna-seq/Alignments_GSNAP/zoey-2.3_Rcorrected_n1/SRR388745_m5_gsnap_sorted.bam -in /home/ampend/links/kidd-lab-scratch/ampend-projects/Zoey_Genome_Project/rna-seq/Alignments_GSNAP/zoey-2.3_Rcorrected_n1/SRR388750_m5_gsnap_sorted.bam -in /home/ampend/links/kidd-lab-scratch/ampend-projects/Zoey_Genome_Project/rna-seq/Alignments_GSNAP/zoey-2.3_Rcorrected_n1/SRR388762_m5_gsnap_sorted.bam -in /home/ampend/links/kidd-lab-scratch/ampend-projects/Zoey_Genome_Project/rna-seq/Alignments_GSNAP/zoey-2.3_Rcorrected_n1/SRR388746_m5_gsnap_sorted.bam -in /home/ampend/links/kidd-lab-scratch/ampend-projects/Zoey_Genome_Project/rna-seq/Alignments_GSNAP/zoey-2.3_Rcorrected_n1/SRR388755_m5_gsnap_sorted.bam -in /home/ampend/links/kidd-lab-scratch/ampend-projects/Zoey_Genome_Project/rna-seq/Alignments_GSNAP/zoey-2.3_Rcorrected_n1/SRR388758_m5_gsnap_sorted.bam -in /home/ampend/links/kidd-lab-scratch/ampend-projects/Zoey_Genome_Project/rna-seq/Alignments_GSNAP/zoey-2.3_Rcorrected_n1/SRR388749_m5_gsnap_sorted.bam -in /home/ampend/links/kidd-lab-scratch/ampend-projects/Zoey_Genome_Project/rna-seq/Alignments_GSNAP/zoey-2.3_Rcorrected_n1/SRR388753_m5_gsnap_sorted.bam -in /home/ampend/links/kidd-lab-scratch/ampend-projects/Zoey_Genome_Project/rna-seq/Alignments_GSNAP/zoey-2.3_Rcorrected_n1/SRR388757_m5_gsnap_sorted.bam -in /home/ampend/links/kidd-lab-scratch/ampend-projects/Zoey_Genome_Project/rna-seq/Alignments_GSNAP/zoey-2.3_Rcorrected_n1/SRR388754_m5_gsnap_sorted.bam -in /home/ampend/links/kidd-lab-scratch/ampend-projects/Zoey_Genome_Project/rna-seq/Alignments_GSNAP/zoey-2.3_Rcorrected_n1/SRR388763_m5_gsnap_sorted.bam -in /home/ampend/links/kidd-lab-scratch/ampend-projects/Zoey_Genome_Project/rna-seq/Alignments_GSNAP/zoey-2.3_Rcorrected_n1/SRR388765_m5_gsnap_sorted.bam -in /home/ampend/links/kidd-lab-scratch/ampend-projects/Zoey_Genome_Project/rna-seq/Alignments_GSNAP/zoey-2.3_Rcorrected_n1/SRR536881_m5_gsnap_sorted.bam -in /home/ampend/links/kidd-lab-scratch/ampend-projects/Zoey_Genome_Project/rna-seq/Alignments_GSNAP/zoey-2.3_Rcorrected_n1/SRR536883_m5_gsnap_sorted.bam -in /home/ampend/links/kidd-lab-scratch/ampend-projects/Zoey_Genome_Project/rna-seq/Alignments_GSNAP/zoey-2.3_Rcorrected_n1/SRR543733_m5_gsnap_sorted.bam -in /home/ampend/links/kidd-lab-scratch/ampend-projects/Zoey_Genome_Project/rna-seq/Alignments_GSNAP/zoey-2.3_Rcorrected_n1/SRR536884_m5_gsnap_sorted.bam -in /home/ampend/links/kidd-lab-scratch/ampend-projects/Zoey_Genome_Project/rna-seq/Alignments_GSNAP/zoey-2.3_Rcorrected_n1/SRR543732_m5_gsnap_sorted.bam -in /home/ampend/links/kidd-lab-scratch/ampend-projects/Zoey_Genome_Project/rna-seq/Alignments_GSNAP/zoey-2.3_Rcorrected_n1/SRR543734_m5_gsnap_sorted.bam -in /home/ampend/links/kidd-lab-scratch/ampend-projects/Zoey_Genome_Project/rna-seq/Alignments_GSNAP/zoey-2.3_Rcorrected_n1/SRR536882_m5_gsnap_sorted.bam -in /home/ampend/links/kidd-lab-scratch/ampend-projects/Zoey_Genome_Project/rna-seq/Alignments_GSNAP/zoey-2.3_Rcorrected_n1/SRR536885_m5_gsnap_sorted.bam -in /home/ampend/links/kidd-lab-scratch/ampend-projects/Zoey_Genome_Project/rna-seq/Alignments_GSNAP/zoey-2.3_Rcorrected_n1/SRR543735_m5_gsnap_sorted.bam -out /home/ampend/links/kidd-lab-scratch/ampend-projects/Zoey_Genome_Project/rna-seq/Alignments_GSNAP/zoey-2.3_Rcorrected_n1/Merged_AllTissues_m5_gsnap.bam && samtools sort /home/ampend/links/kidd-lab-scratch/ampend-projects/Zoey_Genome_Project/rna-seq/Alignments_GSNAP/zoey-2.3_Rcorrected_n1/Merged_AllTissues_m5_gsnap.bam /home/ampend/links/kidd-lab-scratch/ampend-projects/Zoey_Genome_Project/rna-seq/Alignments_GSNAP/zoey-2.3_Rcorrected_n1/Merged_AllTissues_m5_gsnap.sorted && rm /home/ampend/links/kidd-lab-scratch/ampend-projects/Zoey_Genome_Project/rna-seq/Alignments_GSNAP/zoey-2.3_Rcorrected_n1/Merged_AllTissues_m5_gsnap.bam\n",
      "bamtools merge -in /home/ampend/links/kidd-lab-scratch/ampend-projects/Zoey_Genome_Project/rna-seq/Alignments_GSNAP/canFam3.1-noY_Rcorrected_n1/SRR388734_m5_gsnap_sorted.bam -in /home/ampend/links/kidd-lab-scratch/ampend-projects/Zoey_Genome_Project/rna-seq/Alignments_GSNAP/canFam3.1-noY_Rcorrected_n1/SRR388735_m5_gsnap_sorted.bam -in /home/ampend/links/kidd-lab-scratch/ampend-projects/Zoey_Genome_Project/rna-seq/Alignments_GSNAP/canFam3.1-noY_Rcorrected_n1/SRR388747_m5_gsnap_sorted.bam -in /home/ampend/links/kidd-lab-scratch/ampend-projects/Zoey_Genome_Project/rna-seq/Alignments_GSNAP/canFam3.1-noY_Rcorrected_n1/SRR388736_m5_gsnap_sorted.bam -in /home/ampend/links/kidd-lab-scratch/ampend-projects/Zoey_Genome_Project/rna-seq/Alignments_GSNAP/canFam3.1-noY_Rcorrected_n1/SRR388741_m5_gsnap_sorted.bam -in /home/ampend/links/kidd-lab-scratch/ampend-projects/Zoey_Genome_Project/rna-seq/Alignments_GSNAP/canFam3.1-noY_Rcorrected_n1/SRR388752_m5_gsnap_sorted.bam -in /home/ampend/links/kidd-lab-scratch/ampend-projects/Zoey_Genome_Project/rna-seq/Alignments_GSNAP/canFam3.1-noY_Rcorrected_n1/SRR388737_m5_gsnap_sorted.bam -in /home/ampend/links/kidd-lab-scratch/ampend-projects/Zoey_Genome_Project/rna-seq/Alignments_GSNAP/canFam3.1-noY_Rcorrected_n1/SRR388740_m5_gsnap_sorted.bam -in /home/ampend/links/kidd-lab-scratch/ampend-projects/Zoey_Genome_Project/rna-seq/Alignments_GSNAP/canFam3.1-noY_Rcorrected_n1/SRR388766_m5_gsnap_sorted.bam -in /home/ampend/links/kidd-lab-scratch/ampend-projects/Zoey_Genome_Project/rna-seq/Alignments_GSNAP/canFam3.1-noY_Rcorrected_n1/SRR388738_m5_gsnap_sorted.bam -in /home/ampend/links/kidd-lab-scratch/ampend-projects/Zoey_Genome_Project/rna-seq/Alignments_GSNAP/canFam3.1-noY_Rcorrected_n1/SRR388751_m5_gsnap_sorted.bam -in /home/ampend/links/kidd-lab-scratch/ampend-projects/Zoey_Genome_Project/rna-seq/Alignments_GSNAP/canFam3.1-noY_Rcorrected_n1/SRR388760_m5_gsnap_sorted.bam -in /home/ampend/links/kidd-lab-scratch/ampend-projects/Zoey_Genome_Project/rna-seq/Alignments_GSNAP/canFam3.1-noY_Rcorrected_n1/SRR388739_m5_gsnap_sorted.bam -in /home/ampend/links/kidd-lab-scratch/ampend-projects/Zoey_Genome_Project/rna-seq/Alignments_GSNAP/canFam3.1-noY_Rcorrected_n1/SRR388748_m5_gsnap_sorted.bam -in /home/ampend/links/kidd-lab-scratch/ampend-projects/Zoey_Genome_Project/rna-seq/Alignments_GSNAP/canFam3.1-noY_Rcorrected_n1/SRR388759_m5_gsnap_sorted.bam -in /home/ampend/links/kidd-lab-scratch/ampend-projects/Zoey_Genome_Project/rna-seq/Alignments_GSNAP/canFam3.1-noY_Rcorrected_n1/SRR388742_m5_gsnap_sorted.bam -in /home/ampend/links/kidd-lab-scratch/ampend-projects/Zoey_Genome_Project/rna-seq/Alignments_GSNAP/canFam3.1-noY_Rcorrected_n1/SRR388756_m5_gsnap_sorted.bam -in /home/ampend/links/kidd-lab-scratch/ampend-projects/Zoey_Genome_Project/rna-seq/Alignments_GSNAP/canFam3.1-noY_Rcorrected_n1/SRR388764_m5_gsnap_sorted.bam -in /home/ampend/links/kidd-lab-scratch/ampend-projects/Zoey_Genome_Project/rna-seq/Alignments_GSNAP/canFam3.1-noY_Rcorrected_n1/SRR388743_m5_gsnap_sorted.bam -in /home/ampend/links/kidd-lab-scratch/ampend-projects/Zoey_Genome_Project/rna-seq/Alignments_GSNAP/canFam3.1-noY_Rcorrected_n1/SRR388744_m5_gsnap_sorted.bam -in /home/ampend/links/kidd-lab-scratch/ampend-projects/Zoey_Genome_Project/rna-seq/Alignments_GSNAP/canFam3.1-noY_Rcorrected_n1/SRR388761_m5_gsnap_sorted.bam -in /home/ampend/links/kidd-lab-scratch/ampend-projects/Zoey_Genome_Project/rna-seq/Alignments_GSNAP/canFam3.1-noY_Rcorrected_n1/SRR388745_m5_gsnap_sorted.bam -in /home/ampend/links/kidd-lab-scratch/ampend-projects/Zoey_Genome_Project/rna-seq/Alignments_GSNAP/canFam3.1-noY_Rcorrected_n1/SRR388750_m5_gsnap_sorted.bam -in /home/ampend/links/kidd-lab-scratch/ampend-projects/Zoey_Genome_Project/rna-seq/Alignments_GSNAP/canFam3.1-noY_Rcorrected_n1/SRR388762_m5_gsnap_sorted.bam -in /home/ampend/links/kidd-lab-scratch/ampend-projects/Zoey_Genome_Project/rna-seq/Alignments_GSNAP/canFam3.1-noY_Rcorrected_n1/SRR388746_m5_gsnap_sorted.bam -in /home/ampend/links/kidd-lab-scratch/ampend-projects/Zoey_Genome_Project/rna-seq/Alignments_GSNAP/canFam3.1-noY_Rcorrected_n1/SRR388755_m5_gsnap_sorted.bam -in /home/ampend/links/kidd-lab-scratch/ampend-projects/Zoey_Genome_Project/rna-seq/Alignments_GSNAP/canFam3.1-noY_Rcorrected_n1/SRR388758_m5_gsnap_sorted.bam -in /home/ampend/links/kidd-lab-scratch/ampend-projects/Zoey_Genome_Project/rna-seq/Alignments_GSNAP/canFam3.1-noY_Rcorrected_n1/SRR388749_m5_gsnap_sorted.bam -in /home/ampend/links/kidd-lab-scratch/ampend-projects/Zoey_Genome_Project/rna-seq/Alignments_GSNAP/canFam3.1-noY_Rcorrected_n1/SRR388753_m5_gsnap_sorted.bam -in /home/ampend/links/kidd-lab-scratch/ampend-projects/Zoey_Genome_Project/rna-seq/Alignments_GSNAP/canFam3.1-noY_Rcorrected_n1/SRR388757_m5_gsnap_sorted.bam -in /home/ampend/links/kidd-lab-scratch/ampend-projects/Zoey_Genome_Project/rna-seq/Alignments_GSNAP/canFam3.1-noY_Rcorrected_n1/SRR388754_m5_gsnap_sorted.bam -in /home/ampend/links/kidd-lab-scratch/ampend-projects/Zoey_Genome_Project/rna-seq/Alignments_GSNAP/canFam3.1-noY_Rcorrected_n1/SRR388763_m5_gsnap_sorted.bam -in /home/ampend/links/kidd-lab-scratch/ampend-projects/Zoey_Genome_Project/rna-seq/Alignments_GSNAP/canFam3.1-noY_Rcorrected_n1/SRR388765_m5_gsnap_sorted.bam -in /home/ampend/links/kidd-lab-scratch/ampend-projects/Zoey_Genome_Project/rna-seq/Alignments_GSNAP/canFam3.1-noY_Rcorrected_n1/SRR536881_m5_gsnap_sorted.bam -in /home/ampend/links/kidd-lab-scratch/ampend-projects/Zoey_Genome_Project/rna-seq/Alignments_GSNAP/canFam3.1-noY_Rcorrected_n1/SRR536883_m5_gsnap_sorted.bam -in /home/ampend/links/kidd-lab-scratch/ampend-projects/Zoey_Genome_Project/rna-seq/Alignments_GSNAP/canFam3.1-noY_Rcorrected_n1/SRR543733_m5_gsnap_sorted.bam -in /home/ampend/links/kidd-lab-scratch/ampend-projects/Zoey_Genome_Project/rna-seq/Alignments_GSNAP/canFam3.1-noY_Rcorrected_n1/SRR536884_m5_gsnap_sorted.bam -in /home/ampend/links/kidd-lab-scratch/ampend-projects/Zoey_Genome_Project/rna-seq/Alignments_GSNAP/canFam3.1-noY_Rcorrected_n1/SRR543732_m5_gsnap_sorted.bam -in /home/ampend/links/kidd-lab-scratch/ampend-projects/Zoey_Genome_Project/rna-seq/Alignments_GSNAP/canFam3.1-noY_Rcorrected_n1/SRR543734_m5_gsnap_sorted.bam -in /home/ampend/links/kidd-lab-scratch/ampend-projects/Zoey_Genome_Project/rna-seq/Alignments_GSNAP/canFam3.1-noY_Rcorrected_n1/SRR536882_m5_gsnap_sorted.bam -in /home/ampend/links/kidd-lab-scratch/ampend-projects/Zoey_Genome_Project/rna-seq/Alignments_GSNAP/canFam3.1-noY_Rcorrected_n1/SRR536885_m5_gsnap_sorted.bam -in /home/ampend/links/kidd-lab-scratch/ampend-projects/Zoey_Genome_Project/rna-seq/Alignments_GSNAP/canFam3.1-noY_Rcorrected_n1/SRR543735_m5_gsnap_sorted.bam -out /home/ampend/links/kidd-lab-scratch/ampend-projects/Zoey_Genome_Project/rna-seq/Alignments_GSNAP/canFam3.1-noY_Rcorrected_n1/Merged_AllTissues_m5_gsnap.bam && samtools sort /home/ampend/links/kidd-lab-scratch/ampend-projects/Zoey_Genome_Project/rna-seq/Alignments_GSNAP/canFam3.1-noY_Rcorrected_n1/Merged_AllTissues_m5_gsnap.bam /home/ampend/links/kidd-lab-scratch/ampend-projects/Zoey_Genome_Project/rna-seq/Alignments_GSNAP/canFam3.1-noY_Rcorrected_n1/Merged_AllTissues_m5_gsnap.sorted && rm /home/ampend/links/kidd-lab-scratch/ampend-projects/Zoey_Genome_Project/rna-seq/Alignments_GSNAP/canFam3.1-noY_Rcorrected_n1/Merged_AllTissues_m5_gsnap.bam\n"
     ]
    }
   ],
   "source": [
    "for genome in genomes:\n",
    "    bamDir = '/home/ampend/links/kidd-lab-scratch/ampend-projects/Zoey_Genome_Project/rna-seq/Alignments_GSNAP/%s_Rcorrected_n1/' % genome\n",
    "\n",
    "    #MERGE\n",
    "    cmd = 'bamtools merge '\n",
    "    for sample in samples:\n",
    "        cmd += '-in %s%s_m5_gsnap_sorted.bam ' % (bamDir,sample)\n",
    "    cmd += '-out %sMerged_AllTissues_m5_gsnap.bam ' % bamDir\n",
    "\n",
    "    #SORT\n",
    "    cmd += '&& samtools sort %sMerged_AllTissues_m5_gsnap.bam %sMerged_AllTissues_m5_gsnap.sorted ' % (bamDir,bamDir)\n",
    "    \n",
    "    #REMOVE UNSORTED\n",
    "    cmd += '&& rm %sMerged_AllTissues_m5_gsnap.bam' % bamDir\n",
    "    print(cmd)\n",
    "    "
   ]
  },
  {
   "cell_type": "code",
   "execution_count": null,
   "metadata": {},
   "outputs": [],
   "source": []
  },
  {
   "cell_type": "code",
   "execution_count": null,
   "metadata": {},
   "outputs": [],
   "source": []
  },
  {
   "cell_type": "markdown",
   "metadata": {},
   "source": [
    "## Cuffmerge by tissue"
   ]
  },
  {
   "cell_type": "code",
   "execution_count": 92,
   "metadata": {},
   "outputs": [
    {
     "name": "stdout",
     "output_type": "stream",
     "text": [
      "SRR388749\n",
      "SRR388753\n",
      "SRR388757\n",
      "Blood\n"
     ]
    },
    {
     "ename": "SystemExit",
     "evalue": "",
     "output_type": "error",
     "traceback": [
      "An exception has occurred, use %tb to see the full traceback.\n",
      "\u001b[0;31mSystemExit\u001b[0m\n"
     ]
    },
    {
     "name": "stderr",
     "output_type": "stream",
     "text": [
      "/sw/lsa/centos7/python-anaconda-arc-connect/created-20170421/lib/python3.5/site-packages/IPython/core/interactiveshell.py:2918: UserWarning: To exit: use 'exit', 'quit', or Ctrl-D.\n",
      "  warn(\"To exit: use 'exit', 'quit', or Ctrl-D.\", stacklevel=1)\n"
     ]
    }
   ],
   "source": [
    "inDir = '/home/ampend/links/kidd-lab-scratch/ampend-projects/Zoey_Genome_Project/rna-seq/Alignments_GSNAP/'\n",
    "scriptDir = '/home/ampend/links/kidd-lab-scratch/ampend-projects/Zoey_Genome_Project/rna-seq/scripts/'\n",
    "taskCount = 0 \n",
    "\n",
    "#Write commands file\n",
    "for genome in genomes:\n",
    "    cmdfile = scriptDir + genome + '_Cuffmerge_n1.cmds'\n",
    "    cmdFile = open(cmdfile, 'w')\n",
    "    cufflinksDir = '/home/ampend/links/kidd-lab-scratch/ampend-projects/Zoey_Genome_Project/rna-seq/Cufflinks_GSNAPAlignments/%s_Rcorrected_n1/' % genome\n",
    "    for tissue in sampleDict.keys():\n",
    "        for sample in sampleDict[tissue]:\n",
    "            print(sample)\n",
    "        sys.exit()\n",
    "        bamDir = inDir + '%s_Rcorrected_n1/' % genome\n",
    "        taskCount += 1\n",
    "        cmd = 'mkdir -p %s%s && cufflinks -o %s%s/ %s%s_m5_gsnap_sorted.bam' % (cufflinksDir,sample,cufflinksDir,sample,bamDir,sample)\n",
    "        cmdFile.write('%s\\n' % cmd)\n",
    "    cmdFile.close()\n",
    "\n",
    "    #Write PBS file\n",
    "    pbsfile = cmdfile.replace('.cmds','.pbs')\n",
    "    pbsFile = open(pbsfile,'w')\n",
    "    mem='6'\n",
    "    write_pbs_task_lines(scriptsDir,'%s' % genome,pbsFile,inDir,'cuff_n1',mem,taskCount,cmdfile)\n",
    "    \n",
    "    pbsFile.close()\n",
    "    \n"
   ]
  },
  {
   "cell_type": "code",
   "execution_count": null,
   "metadata": {},
   "outputs": [],
   "source": []
  },
  {
   "cell_type": "code",
   "execution_count": null,
   "metadata": {},
   "outputs": [],
   "source": []
  },
  {
   "cell_type": "code",
   "execution_count": null,
   "metadata": {},
   "outputs": [],
   "source": []
  },
  {
   "cell_type": "code",
   "execution_count": null,
   "metadata": {},
   "outputs": [],
   "source": []
  },
  {
   "cell_type": "code",
   "execution_count": null,
   "metadata": {},
   "outputs": [],
   "source": []
  },
  {
   "cell_type": "code",
   "execution_count": null,
   "metadata": {},
   "outputs": [],
   "source": []
  },
  {
   "cell_type": "code",
   "execution_count": null,
   "metadata": {},
   "outputs": [],
   "source": []
  },
  {
   "cell_type": "code",
   "execution_count": null,
   "metadata": {},
   "outputs": [],
   "source": []
  },
  {
   "cell_type": "code",
   "execution_count": null,
   "metadata": {},
   "outputs": [],
   "source": []
  },
  {
   "cell_type": "code",
   "execution_count": 3,
   "metadata": {},
   "outputs": [],
   "source": [
    "cmdFile = open('/home/ampend/links/kidd-lab-scratch/ampend-projects/Zoey_Genome_Project/VALOR/scripts/' + 'CANFAM_calc_insertsize.cmds','w')\n",
    "fosmidPath = '/home/ampend/links/kidd-lab/hoffmakl-projects/zoeyRef_valor/input/'\n",
    "outDir = '/home/ampend/links/kidd-lab-scratch/ampend-projects/Zoey_Genome_Project/VALOR/input/canfam_alignments/insert_size_stats/'\n",
    "\n",
    "for i in range(1,193):\n",
    "    #Make the pool number always be three digits long\n",
    "    i = str(i)\n",
    "    if len(i) < 2:\n",
    "        i = '00' + i \n",
    "    if len(i) == 2:\n",
    "        i = '0' + i\n",
    "    #picard command:\n",
    "    cmd = 'java -jar $CLASSPATH/picard.jar CollectInsertSizeMetrics I=%sZoey_%s.markdup.bam O=%sZoey_%s_insert_size.txt H=%sZoey_%s_insert_size_histogram.pdf M=0.5' % (fosmidPath, i, outDir, i, outDir, i)\n",
    "    cmdFile.write('%s\\n' % cmd)\n",
    "\n",
    "cmdFile.close()"
   ]
  },
  {
   "cell_type": "code",
   "execution_count": 4,
   "metadata": {},
   "outputs": [
    {
     "name": "stdout",
     "output_type": "stream",
     "text": [
      "## htsjdk.samtools.metrics.StringHeader\n"
     ]
    },
    {
     "ename": "NameError",
     "evalue": "name 'sys' is not defined",
     "output_type": "error",
     "traceback": [
      "\u001b[0;31m---------------------------------------------------------------------------\u001b[0m",
      "\u001b[0;31mNameError\u001b[0m                                 Traceback (most recent call last)",
      "\u001b[0;32m<ipython-input-4-491f2b0971b5>\u001b[0m in \u001b[0;36m<module>\u001b[0;34m()\u001b[0m\n\u001b[1;32m     13\u001b[0m         \u001b[0mline\u001b[0m\u001b[0;34m=\u001b[0m\u001b[0mline\u001b[0m\u001b[0;34m.\u001b[0m\u001b[0mrstrip\u001b[0m\u001b[0;34m(\u001b[0m\u001b[0;34m)\u001b[0m\u001b[0;34m\u001b[0m\u001b[0m\n\u001b[1;32m     14\u001b[0m         \u001b[0mprint\u001b[0m\u001b[0;34m(\u001b[0m\u001b[0mline\u001b[0m\u001b[0;34m)\u001b[0m\u001b[0;34m\u001b[0m\u001b[0m\n\u001b[0;32m---> 15\u001b[0;31m         \u001b[0msys\u001b[0m\u001b[0;34m.\u001b[0m\u001b[0mexit\u001b[0m\u001b[0;34m(\u001b[0m\u001b[0;34m)\u001b[0m\u001b[0;34m\u001b[0m\u001b[0m\n\u001b[0m",
      "\u001b[0;31mNameError\u001b[0m: name 'sys' is not defined"
     ]
    }
   ],
   "source": [
    "outDir = '/home/ampend/links/kidd-lab-scratch/ampend-projects/Zoey_Genome_Project/VALOR/input/canfam_alignments/insert_size_stats/'\n",
    "\n",
    "for i in range(1,193):\n",
    "    #Make the pool number always be three digits long\n",
    "    i = str(i)\n",
    "    if len(i) < 2:\n",
    "        i = '00' + i \n",
    "    if len(i) == 2:\n",
    "        i = '0' + i\n",
    "    \n",
    "    file = outDir + 'Zoey_184_insert_size.txt'\n",
    "    for line in open(file,'r'):\n",
    "        line=line.rstrip()\n",
    "        print(line)\n",
    "        sys.exit()"
   ]
  },
  {
   "cell_type": "code",
   "execution_count": 5,
   "metadata": {},
   "outputs": [],
   "source": [
    "import sys"
   ]
  },
  {
   "cell_type": "code",
   "execution_count": null,
   "metadata": {},
   "outputs": [],
   "source": []
  },
  {
   "cell_type": "code",
   "execution_count": null,
   "metadata": {},
   "outputs": [],
   "source": []
  },
  {
   "cell_type": "code",
   "execution_count": null,
   "metadata": {},
   "outputs": [],
   "source": []
  },
  {
   "cell_type": "code",
   "execution_count": null,
   "metadata": {},
   "outputs": [],
   "source": []
  },
  {
   "cell_type": "code",
   "execution_count": null,
   "metadata": {},
   "outputs": [],
   "source": []
  },
  {
   "cell_type": "code",
   "execution_count": null,
   "metadata": {},
   "outputs": [],
   "source": []
  },
  {
   "cell_type": "code",
   "execution_count": 10,
   "metadata": {},
   "outputs": [
    {
     "name": "stdout",
     "output_type": "stream",
     "text": [
      "Counts dictionary has 42 samples\n"
     ]
    }
   ],
   "source": [
    "#Set up empty table / dict \n",
    "counts = {}\n",
    "#0 = left raw reads, #1 = right raw reads\n",
    "#2 = filtered/formatted left reads,  #3 = filtered/formatted right reads, \n",
    "#4 = completed, sorted Zoey BAM, #5 = completed, sorted canFam BAM, \n",
    "\n",
    "numberOfIndices = 5\n",
    "\n",
    "for sample in samples:\n",
    "    counts[sample] = ['','','','','','']\n",
    "print('Counts dictionary has %i samples' % len(counts.keys()))    "
   ]
  },
  {
   "cell_type": "markdown",
   "metadata": {},
   "source": [
    "## Checking that the Raw FASTQ files have equal L and R reads prior to filtration"
   ]
  },
  {
   "cell_type": "code",
   "execution_count": 26,
   "metadata": {},
   "outputs": [],
   "source": [
    "fastqDir = '/home/ampend/links/kidd-lab/ampend-projects/Novel_Sequence_Analysis/rna-seq/input/fastq/'\n",
    "rawDir = fastqDir + 'RawFASTQ/'\n",
    "fastqcDir = fastqDir + 'fastqc_files/' #outdir for fastqc to write its info\n",
    "\n",
    "countFile = open(fastqDir + 'ReadCounts_RawFASTQ.txt','w')\n",
    "for sample in samples:\n",
    "    for i in range(1,3): #files _1 and _2 == F and R, respectively\n",
    "        file = rawDir + sample + '_%i.fastq.gz' % (i)\n",
    "        \n",
    "        cmd = 'echo \"%s_%i\" >> %sRawReadCounts.txt' % (sample,i,fastqDir)\n",
    "        runCMD(cmd)\n",
    "        \n",
    "        cmd = 'zcat %s | wc -l >> %sRawReadCounts.txt' % (file,fastqDir)\n",
    "        runCMD(cmd)\n",
    "    countFile.close()"
   ]
  },
  {
   "cell_type": "code",
   "execution_count": 53,
   "metadata": {},
   "outputs": [],
   "source": [
    "for line in open('/home/ampend/links/kidd-lab/ampend-projects/Novel_Sequence_Analysis/rna-seq/input/fastq/ReadCounts_RawFASTQ.txt','r'):\n",
    "    line=line.rstrip().split()\n",
    "    if 'SRR' in line[0]:\n",
    "        sample = line[0].split('_')[0]\n",
    "        continue\n",
    "    if sample not in counts.keys():\n",
    "        counts[sample][0] = int(line[0])/4\n",
    "        continue\n",
    "    else:\n",
    "        counts[sample][1] = int(line[0])/4\n",
    "for sample in counts.keys():\n",
    "    read1,read2 = counts[sample][0],counts[sample][0]\n",
    "    if read1 != read2:\n",
    "        print(sample,counts[sample])\n",
    "###ALL GOOD\n"
   ]
  },
  {
   "cell_type": "markdown",
   "metadata": {},
   "source": [
    "## Calculating the number of reads left after filtration"
   ]
  },
  {
   "cell_type": "code",
   "execution_count": null,
   "metadata": {},
   "outputs": [],
   "source": [
    "filtDir = fastqDir + 'FormattedFastool_FilteredFASTQ_Trimmomatic/'\n",
    "\n",
    "countFile = open(fastqDir + 'ReadCounts_FilteredFormatted.txt','w')\n",
    "for sample in samples:\n",
    "    for i in range(1,3): #files _1 and _2 == F and R, respectively\n",
    "        file = filtDir + sample + '_filtered_formatted_%iP.fq' % (i)\n",
    "        \n",
    "        cmd = 'echo \"%s_%i\" >> %sReadCounts_FilteredFormatted.txt' % (sample,i,fastqDir)\n",
    "        runCMD(cmd)\n",
    "        \n",
    "        cmd = 'wc -l %s >> %sReadCounts_FilteredFormatted.txt' % (file,fastqDir)\n",
    "        runCMD(cmd)\n",
    "countFile.close()"
   ]
  },
  {
   "cell_type": "code",
   "execution_count": 7,
   "metadata": {},
   "outputs": [],
   "source": [
    "counts = {}\n",
    "for line in open('/home/ampend/links/kidd-lab/ampend-projects/Novel_Sequence_Analysis/rna-seq/input/fastq/ReadCounts_RawFASTQ.txt','r'):\n",
    "    line=line.rstrip().split()\n",
    "    if 'SRR' in line[0]:\n",
    "        sample = line[0].split('_')[0]\n",
    "        continue\n",
    "    if '_1' in line[0]:\n",
    "        counts[sample][2] = int(line[0])/4\n",
    "    if '_2' in line[0]:\n",
    "        counts[sample][3] = int(line[0])/4\n",
    "for sample in counts.keys():\n",
    "    read1,read2 = counts[sample][2],counts[sample][3]\n",
    "    if read1 != read2:\n",
    "        print(sample,counts[sample])\n",
    "###ALL GOOD\n"
   ]
  },
  {
   "cell_type": "markdown",
   "metadata": {},
   "source": [
    "## Checking RNA-Seq libraries that need to be aligned with GSNAP still"
   ]
  },
  {
   "cell_type": "code",
   "execution_count": 11,
   "metadata": {},
   "outputs": [],
   "source": [
    "alignmentDir = '/home/ampend/links/kidd-lab-scratch/ampend-projects/Zoey_Genome_Project/rna-seq/Alignments_GSNAP/'\n",
    "\n",
    "for genome in genomes:\n",
    "    for sample in samples:\n",
    "        for file in glob.glob(alignmentDir + genome + '_reformatted/' + '*sorted.bam*'):\n",
    "            if sample in file:\n",
    "                if 'zoey' in genome:\n",
    "                    counts[sample][4] = True\n",
    "                else:\n",
    "                    counts[sample][5] = True"
   ]
  },
  {
   "cell_type": "code",
   "execution_count": 16,
   "metadata": {},
   "outputs": [
    {
     "name": "stdout",
     "output_type": "stream",
     "text": [
      "zoey-2.3_SRR543734_GSNAP-processing.cmds\n",
      "zoey-2.3_SRR388760_GSNAP-processing.cmds\n",
      "2\n",
      "*_SRR388734_GSNAP-processing.cmds\n",
      "*_SRR543734_GSNAP-processing.cmds\n",
      "*_SRR543732_GSNAP-processing.cmds\n",
      "*_SRR388738_GSNAP-processing.cmds\n",
      "*_SRR543735_GSNAP-processing.cmds\n",
      "*_SRR388751_GSNAP-processing.cmds\n",
      "*_SRR536881_GSNAP-processing.cmds\n",
      "*_SRR388760_GSNAP-processing.cmds\n",
      "*_SRR536885_GSNAP-processing.cmds\n",
      "*_SRR536884_GSNAP-processing.cmds\n",
      "10\n"
     ]
    }
   ],
   "source": [
    "#WHAT ZOEY COMMAND FILES SHOULD WE SUBMIT\n",
    "count=0\n",
    "for sample in counts.keys():\n",
    "    if counts[sample][4] != True:\n",
    "        print('zoey-2.3_%s_GSNAP-processing.cmds' %sample)\n",
    "        count+=1\n",
    "print(count)\n",
    "\n",
    "#WHAT CANFAM COMMAND FILES SHOULD WE SUBMIT\n",
    "count=0\n",
    "for sample in counts.keys():\n",
    "    if counts[sample][5] != True:\n",
    "        print('*_%s_GSNAP-processing.cmds' %sample)\n",
    "        count+=1\n",
    "print(count)"
   ]
  },
  {
   "cell_type": "code",
   "execution_count": 17,
   "metadata": {},
   "outputs": [],
   "source": [
    "###########################################################"
   ]
  },
  {
   "cell_type": "markdown",
   "metadata": {},
   "source": [
    "# Trinity Stats"
   ]
  },
  {
   "cell_type": "code",
   "execution_count": 18,
   "metadata": {},
   "outputs": [],
   "source": [
    "trinDir = '/home/ampend/links/kidd-lab-scratch/ampend-projects/Zoey_Genome_Project/rna-seq/Trinity_RNA-Seq_Analysis/trinity_alignments/no-genome-guided/'"
   ]
  },
  {
   "cell_type": "code",
   "execution_count": null,
   "metadata": {},
   "outputs": [],
   "source": [
    "for sample in samples:\n",
    "    for file in glob.glob(trinDir + sample + '/' + )"
   ]
  },
  {
   "cell_type": "code",
   "execution_count": 25,
   "metadata": {},
   "outputs": [],
   "source": [
    "scriptsDir = '/home/ampend/links/kidd-lab-scratch/ampend-projects/Zoey_Genome_Project/rna-seq/scripts/'"
   ]
  },
  {
   "cell_type": "markdown",
   "metadata": {},
   "source": [
    "### Fix Rcorrector fastq files"
   ]
  },
  {
   "cell_type": "code",
   "execution_count": 54,
   "metadata": {},
   "outputs": [],
   "source": [
    "fqDir = '/home/ampend/links/kidd-lab-scratch/ampend-projects/Zoey_Genome_Project/rna-seq/input/RawFASTQ/'\n",
    "\n",
    "cmdFile = open(scriptsDir + 'FixRcorrFastq_commands.cmds','w')\n",
    "mem='10'\n",
    "write_pbs_lines(scriptsDir,'FixRCorrector',cmdFile,fqDir,'total',mem)\n",
    "\n",
    "for sample in samples:\n",
    "    cmd = 'python /home/ampend/links/kidd-lab-scratch/ampend-projects/Zoey_Genome_Project/rna-seq/scripts/filterUncorrectabledPEfastq.py -1 %s%s.cor.fq.gz -2 %s%s.cor.fq.gz -o fixed 2>&1' % (fqDir,sample,fqDir,sample)\n",
    "    cmdFile.write(cmd + '\\n')    \n",
    "    \n",
    "cmdFile.close()    \n",
    "    "
   ]
  }
 ],
 "metadata": {
  "kernelspec": {
   "display_name": "Python 3",
   "language": "python",
   "name": "python3"
  },
  "language_info": {
   "codemirror_mode": {
    "name": "ipython",
    "version": 3
   },
   "file_extension": ".py",
   "mimetype": "text/x-python",
   "name": "python",
   "nbconvert_exporter": "python",
   "pygments_lexer": "ipython3",
   "version": "3.5.4"
  }
 },
 "nbformat": 4,
 "nbformat_minor": 2
}
