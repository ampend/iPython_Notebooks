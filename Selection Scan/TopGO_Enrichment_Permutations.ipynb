{
 "cells": [
  {
   "cell_type": "code",
   "execution_count": 1,
   "metadata": {},
   "outputs": [],
   "source": [
    "## A. Pendleton\n",
    "## 2018-04-06\n",
    "## Processing the final XP-CLR windows which have been shuffled 1000 times. \n",
    "## Enrichments through TopGO will be completed for each permutation and then we'll see what the enrichments are\n",
    "## P-values are calculated as number of times a permuted p-value from TopGO was observed less than observed \n",
    "##       from our real data\n",
    "## This data was given to Jeff to then calculate Q and FDR\n",
    "## This script then takes his Q values and integrates the data into a summary Excel style table to become \n",
    "##       a Supplementary table, as well as a summary table with total statistics of GO categories at \n",
    "##       each filtration step"
   ]
  },
  {
   "cell_type": "code",
   "execution_count": 2,
   "metadata": {},
   "outputs": [],
   "source": [
    "#this uses iPython magic to make plots appear inline\n",
    "%matplotlib inline\n",
    "import matplotlib.pyplot as plt\n",
    "import pandas as pd\n",
    "import subprocess\n",
    "import sys\n",
    "import numpy as np\n",
    "import matplotlib.patches as patches\n",
    "import glob\n",
    "import gzip\n",
    "import fileinput\n",
    "import time\n",
    "import datetime\n",
    "from scipy import stats\n",
    "\n",
    "def count_lines(f):\n",
    "    lineCount = 0\n",
    "    with open(f, 'r') as f:\n",
    "        for line in f:\n",
    "            lineCount += 1\n",
    "        return lineCount\n",
    "def runCMD(cmd):\n",
    "    val = subprocess.Popen(cmd, shell=True).wait()\n",
    "    if val == 0:\n",
    "        pass\n",
    "    else:\n",
    "        print ('command failed')\n",
    "        print (cmd)\n",
    "        sys.exit(1)"
   ]
  },
  {
   "cell_type": "markdown",
   "metadata": {},
   "source": [
    "# Saving REAL GO enrichments "
   ]
  },
  {
   "cell_type": "code",
   "execution_count": 3,
   "metadata": {},
   "outputs": [
    {
     "name": "stdout",
     "output_type": "stream",
     "text": [
      "\n",
      "19856 genes read into gene-protein ID array\n",
      "49395 GO categories added to full name dictionary\n"
     ]
    }
   ],
   "source": [
    "################################################################################################################\n",
    "def make_topgo_dict(totalTopGoFile):\n",
    "    outputs = ['Observed_Total_GeneCounts_%s_BP.txt' % stat,'Observed_Total_GeneCounts_%s_CC.txt' % stat,'Observed_Total_GeneCounts_%s_MF.txt' % stat]\n",
    "    topgoDir = '/home/ampend/links/kidd-lab/ampend-projects/Angela/XP-CLR/topgo_permutations/'\n",
    "    topGODict={}\n",
    "\n",
    "    for output in outputs:\n",
    "        inFile = topgoDir + output\n",
    "        for line in open(inFile,'r'):\n",
    "            line=line.rstrip().split('\\t')\n",
    "            if 'GO:' not in line[1]:\n",
    "                continue\n",
    "            GOID = line[1]\n",
    "            topGODict[GOID] = line\n",
    "    print('%i enriched gene categories added to topGoDict' % len(topGODict))\n",
    "    return topGODict\n",
    "################################################################################################################\n",
    "def get_full_BLASTGO_category_names():\n",
    "    #print ('#I downloaded ALL GO ontology categories from the geneontology.org website from the link:')\n",
    "    #print ('http://purl.obolibrary.org/obo/go.obo')\n",
    "    b2goDir = '/home/ampend/links/kidd-lab/ampend-projects/BLAST2GO/'\n",
    "    fullGONameDatabase = b2goDir + 'Full_GO_Ontology_Database.obo'\n",
    "    nameDict = {}\n",
    "    for line in open(fullGONameDatabase,'r'):\n",
    "        line=line.rstrip()\n",
    "        if 'id:' in line:\n",
    "            line = line.replace('id: ','')\n",
    "            GOID = line\n",
    "            nameDict[GOID] = ''\n",
    "        if 'name:' in line:\n",
    "            line = line.replace('name: ','')\n",
    "            goName = line\n",
    "            nameDict[GOID] = goName\n",
    "    print('%i GO categories added to full name dictionary' % len(nameDict.keys()))       \n",
    "    return nameDict\n",
    "################################################################################################################\n",
    "geneTable = '/home/ampend/links/kidd-lab/ampend-projects/BLAST2GO/results/BLAST2GO_GeneTables_WithEnscafIDsAndChrom.txt'\n",
    "#Saving gene-protein links that were processed with BLAST2GO to array\n",
    "TotEnsGene = {}\n",
    "\n",
    "for line in open(geneTable,'r'):\n",
    "    line = line.rstrip().split()\n",
    "    ensG,ensP,chrom,start,end,geneName = line[1],line[0],line[5],line[6],line[7],line[8]\n",
    "    TotEnsGene[ensG] = [ensG,ensP,chrom,start,end,geneName]\n",
    "print ('\\n%i genes read into gene-protein ID array' % len(TotEnsGene))\n",
    "\n",
    "nameDict = get_full_BLASTGO_category_names()"
   ]
  },
  {
   "cell_type": "markdown",
   "metadata": {},
   "source": [
    "# Processing permutations of random gene shuffles\n",
    "# And writing respective topGO scripts for each"
   ]
  },
  {
   "cell_type": "code",
   "execution_count": 4,
   "metadata": {},
   "outputs": [],
   "source": [
    "########################################################################################\n",
    "def do_window_intersects(a,b,windowSize,outfile):\n",
    "    cmd = 'bedtools window -w %i -a %s -b %s > %s' % (windowSize, a, b, outfile)\n",
    "    #print(cmd)\n",
    "    runCMD(cmd)\n",
    "########################################################################################################\n",
    "def parse_shuffle_intersect(Dict,intfile,linelength): \n",
    "    intersectFile = open(intfile,'r') #outfile from the intersect step with ensembl 81 genes\n",
    "    ensID = ''\n",
    "    sigGenes = [] #To keep track of all gene IDs (ENSCAFG) that are in sig windows\n",
    "    geneLengths = [] #keeping track of gene lengths\n",
    "    \n",
    "    #Reading the intersect file results\n",
    "    for line in intersectFile:\n",
    "        line = line.rstrip() #removing extraneous whitespace characters\n",
    "        line = line.split('\\t') #delimiting \"columns\" in the file based on tabs\t\t\n",
    "        winID = line[3]\n",
    "        \n",
    "        if '_' in line[linelength+3]: #hit column\n",
    "            hit = line[linelength+3].split('_')\n",
    "            Protein = hit[0]\n",
    "            Gene = hit[1]\n",
    "            b2goID = Gene + '|' + Protein\n",
    "            ensGID = hit[2]\n",
    "        else:\n",
    "            ensGID = line[linelength+3]\n",
    "        if winID in Dict.keys():\n",
    "            Dict[winID].append(ensGID)\n",
    "        else:\n",
    "            Dict[winID] = []\n",
    "            Dict[winID].append(ensGID) \n",
    "        if b2goID not in sigGenes: \n",
    "            sigGenes.append(b2goID)\n",
    "            geneLength = int(line[linelength+2]) - int(line[linelength+1])\n",
    "            geneLengths.append(geneLength)\n",
    "    intersectFile.close()  \n",
    "    \n",
    "    return Dict, sigGenes, geneLengths"
   ]
  },
  {
   "cell_type": "markdown",
   "metadata": {},
   "source": [
    "# XPCLR - SHUFFLING PERMUTATIONS"
   ]
  },
  {
   "cell_type": "code",
   "execution_count": 6,
   "metadata": {},
   "outputs": [],
   "source": [
    "#Write all xpclr sweeps to a output bedfile to be shuffled below\n",
    "outDir = '/home/ampend/links/kidd-lab/ampend-projects/Angela/XP-CLR/results/Campbell_No-MAF-Filter/50kbWindow_2kbGrid/Dogs_v_Wolves/SignificantWindows/'\n",
    "# OLD - NO HP FILTRATION === xpclrBedFile = outDir + '1Window_FinalXP-CLR_Windows.4.bed'\n",
    "xpclrBedFile = outDir + '1Window_FinalXP-CLR_HpFiltered_DeltaHpFiltered_Windows.4.bed'\n",
    "canFamGenome = '/home/ampend/links/kidd-lab/ampend-projects/cfERVs/GenePermutations/input/Cf3_AutosomesOnly.genome'\n",
    "#gapBed = '/home/ampend/links/kidd-lab/ampend-projects/cfERVs/GenePermutations/input/CF3_gaps.bed'\n",
    "\n",
    "for line in open(xpclrBedFile,'r'): #Determine what column intersect hits would be in\n",
    "    linelength=len(line.rstrip().split())\n",
    "    break\n",
    "\n",
    "#Do 1000 bedtools shuffles WITHOUT regard to gaps\n",
    "windowHitCounts, geneHitCounts  = [], []\n",
    "total_geneLengths, perm_averageGeneLengths = [], []\n",
    "for i in range(0,10000):\n",
    "    #Shuffle the coordinates\n",
    "    shuffledFile = '/home/ampend/links/kidd-lab/ampend-projects/Angela/XP-CLR/permutations/shuffle_%i.txt' % (i)\n",
    "    cmd = 'bedtools shuffle -i %s -g %s > %s' % (xpclrBedFile,canFamGenome, shuffledFile)\n",
    "    runCMD(cmd)\n",
    "\n",
    "    #Intersect with Ensembl gene models\n",
    "    windowSize = int(50000)\n",
    "    genebedfile = '/home/ampend/links/kidd-lab/ampend-projects/BLAST2GO/results/BLAST2GO_Ensembl81_GeneTables_WithEnscafIDsAndChrom.bed'\n",
    "    outFile = '/home/ampend/links/kidd-lab/ampend-projects/Angela/XP-CLR/permutations/intersect_ensembl_50kb_%i.txt' % (i)\n",
    "    do_window_intersects(shuffledFile,genebedfile,int(windowSize),outFile)\n",
    "    \n",
    "    #Parse the intersect file with Ensembl genes from above\n",
    "    ensGDict = {}\n",
    "    ensGDict,sigGenes,geneLengths = parse_shuffle_intersect(ensGDict,outFile,linelength)\n",
    "    \n",
    "    ##Write the B2GO IDs to an output file for subsequent TopGO enrichments\n",
    "    topGOGeneFile = open('/home/ampend/links/kidd-lab/ampend-projects/Angela/XP-CLR/permutations/ensemblGeneIDs_50kb_%i.txt' % i,'w')\n",
    "    for g in sigGenes:\n",
    "        topGOGeneFile.write('%s\\n' % g)\n",
    "    topGOGeneFile.close()\n",
    "    \n",
    "    ##Keeping track of gene lengths and how many windows have genes\n",
    "    windowHitCounts.append(len(ensGDict.keys())) #How many sweeps intersect with at least one gene\n",
    "    geneHitCounts.append(len(sigGenes)) #How many genes are within 50kb\n",
    "    for k in geneLengths:\n",
    "        total_geneLengths.append(k)\n",
    "    perm_averageGeneLengths.append(np.mean(geneLengths))\n",
    "    #break"
   ]
  },
  {
   "cell_type": "markdown",
   "metadata": {},
   "source": [
    "### TopGO Script for permutations"
   ]
  },
  {
   "cell_type": "code",
   "execution_count": 5,
   "metadata": {},
   "outputs": [],
   "source": [
    "#Defining the paths to necessary files for the topGO scripts\n",
    "topgoDir = '/home/ampend/links/kidd-lab/ampend-projects/Angela/XP-CLR/topgo_permutations/'\n",
    "inputDir = topgoDir + 'input/'\n",
    "outDir = topgoDir + 'results/'\n",
    "\n",
    "#geneIDTotalFile = inputDir + 'Input_TOPGO_17860AnnotatedGenes.txt'\n",
    "geneIDTotalFile = '/home/ampend/links/kidd-lab/ampend-projects/BLAST2GO/results/Input_TOPGO_AnnotatedGenes_NOchrX_NOchrM_NOchrUn.txt'\n",
    "\n",
    "\n",
    "categories = ['BP','CC','MF']\n",
    "stats = ['Weight01','Elim','ParentChild']\n",
    "outDir = '/home/ampend/links/kidd-lab/ampend-projects/Angela/XP-CLR/topgo_permutations/results/'\n",
    "\n",
    "for stat in stats:\n",
    "    for perm in range(0,10000):\n",
    "        topGoScript = open(topgoDir + 'scripts/' + 'topgo_permutation_%i_%s.R' % (perm,stat), 'w')\n",
    "        inputGeneFile = '/home/ampend/links/kidd-lab/ampend-projects/Angela/XP-CLR/permutations/ensemblGeneIDs_50kb_%i.txt' % perm\n",
    "        \n",
    "        topGoScript.write('#1. Initiating topGO\\n')\n",
    "        topGoScript.write('library(\"topGO\")\\n\\n')\n",
    "\n",
    "        topGoScript.write('#2. Reading in the .annot file in proper format for TopGO that I generated.\\n')\n",
    "        topGoScript.write('#This contains the information for 17,860 annotated genes from BLAST2GO\\n')\n",
    "        topGoScript.write('geneID2GO <- readMappings(file = \"%s\")\\n' % geneIDTotalFile)  \n",
    "        topGoScript.write('geneUniverse <- names(geneID2GO)\\n\\n')\n",
    "\n",
    "        topGoScript.write('#3. Read in a list of interesting genes from a file\\n')\n",
    "        topGoScript.write('#File format = list of gene IDs, one per line\\n')\n",
    "        topGoScript.write('genesOfInterest <- read.table(\"%s\",header=FALSE)\\n' % inputGeneFile)\n",
    "        topGoScript.write('genesOfInterest <- as.character(genesOfInterest$V1)\\n')\n",
    "        topGoScript.write('geneList <- factor(as.integer(geneUniverse %in% genesOfInterest))\\n')\n",
    "        topGoScript.write('names(geneList) <- geneUniverse\\n\\n')\n",
    "\n",
    "        for category in categories:\n",
    "            topGoScript.write('##CATEGORY %s\\n' % category)\n",
    "            topGoScript.write('#4. build the GOdata object in topGO\\n')\n",
    "            topGoScript.write('myGOdata <- new(\"topGOdata\", description=\"1Window_Final_XP-CLR\", ontology=\"%s\", allGenes=geneList,  annot = annFUN.gene2GO, gene2GO = geneID2GO)\\n\\n' % category)\n",
    "\n",
    "            topGoScript.write('#5. run the Fisher\\'s exact tests in different ways...\\n')\n",
    "            topGoScript.write('resultClassic <- runTest(myGOdata, algorithm=\"classic\", statistic=\"fisher\")\\n')\n",
    "            topGoScript.write('resultElim <- runTest(myGOdata, algorithm=\"elim\", statistic=\"fisher\")\\n')\n",
    "            topGoScript.write('resultWeight01 <- runTest(myGOdata, algorithm=\"weight01\", statistic=\"fisher\")\\n')\n",
    "            topGoScript.write('resultParentChild <- runTest(myGOdata, algorithm=\"parentchild\", statistic=\"fisher\")\\n\\n')\n",
    "            topGoScript.write('numGOTotal = length(usedGO(object = myGOdata)) \\n')\n",
    "\n",
    "            topGoScript.write('#6. Write TOTAL file out\\n')\n",
    "            total_outputFile = outDir + 'TopGO_%s_%s_TOTAL_%i.txt' % (category,stat,perm)                  \n",
    "            topGoScript.write('tab.All <- GenTable(myGOdata, %s = result%s, topNodes = numGOTotal)\\n' % (stat,stat))\n",
    "            topGoScript.write('write.table(tab.All,\\'%s\\',quote=FALSE,sep=\\'\\t\\')\\n' % total_outputFile)    \n",
    "\n",
    "            \"\"\"topGoScript.write('#7b. See how many results we get where weight01 gives a P-value <= 0.05:\\n')\n",
    "            topGoScript.write('#%s\\n' % stat)\n",
    "            topGoScript.write('#AT 0.05\\n')\n",
    "            topGoScript.write('mysummary <- summary(attributes(result%s)$score <= 0.05)\\n' % stat)\n",
    "            topGoScript.write('numsignif <- as.integer(mysummary[[3]]) # how many terms is it true that P <= 0.05\\n')\n",
    "            topGoScript.write('#Putting together those that were sig\\n')\n",
    "            topGoScript.write('allRes <- GenTable(myGOdata, classicFisher = resultClassic, elimFisher = resultElim, weight01Fisher = resultWeight01, parentchildFisher = resultParentChild, orderBy = \"parentchildFisher\", ranksOf = \"classicFisher\", topNodes = numsignif)\\n\\n')\n",
    "                        \n",
    "            outputFile = outDir + 'TopGO_%s_%s_p05_%i.txt' % (stat,category,perm)                  \n",
    "            topGoScript.write('#Write table of significant %s GO terms in file below:\\n' % stat)\n",
    "            topGoScript.write('output_file05 = \\'%s\\' \\n' % outputFile)\n",
    "            topGoScript.write('write.table(x = allRes, file = output_file05, quote=FALSE, sep = \"\\t\")\\n\\n')\n",
    "\n",
    "            topGoScript.write('#8b. Print out the genes that are annotated with the significantly enriched GO terms:\\n')\n",
    "            topGoScript.write('myterms <- allRes$GO.ID\\n')\n",
    "            topGoScript.write('mygenes <- genesInTerm(myGOdata, myterms)\\n')\n",
    "\n",
    "            outputFile2 = outDir + 'TopGO_%s_%s_p05_%i_genes.txt' % (stat,category,perm)                  \n",
    "            topGoScript.write('output_file05_2 = \\'%s\\' \\n\\n' % outputFile2)\n",
    "\n",
    "            topGoScript.write('for (i in 1:length(myterms))\\n')\n",
    "            topGoScript.write('{\\n')\n",
    "            topGoScript.write('\\tmyterm <- myterms[i]\\n')\n",
    "            topGoScript.write('\\tmygenesforterm <- mygenes[myterm][[1]]\\n')\n",
    "            topGoScript.write('\\tmyfactor <- mygenesforterm %in% genesOfInterest # find the genes that are in the list of genes of interest\\n')\n",
    "            topGoScript.write('\\tmygenesforterm2 <- mygenesforterm[myfactor == TRUE] \\n')\n",
    "            topGoScript.write('\\tmygenesforterm2 <- paste(mygenesforterm2, collapse=\\',\\')\\n')\n",
    "            topGoScript.write('\\tprint(paste(myterm,mygenesforterm2))\\n')\n",
    "            topGoScript.write('\\tnewline = paste(myterm,mygenesforterm2)\\n')\n",
    "            topGoScript.write('\\twrite.table(newline, file = output_file05_2, row.names =    FALSE, append = TRUE, col.names = FALSE)\\n')\n",
    "            topGoScript.write('}\\n\\n')\n",
    "            \"\"\"\n",
    "        topGoScript.close()\n",
    "\n",
    "#SAVING COMMANDS TO OUTFILE\n",
    "topgoDir = '/home/ampend/links/kidd-lab/ampend-projects/Angela/XP-CLR/topgo_permutations/'\n",
    "stats = ['Weight01','Elim','ParentChild']\n",
    "cmdsFile = open(topgoDir + 'scripts/' + 'topGo.cmds', 'w')\n",
    "for stat in stats:\n",
    "    for perm in range(0,10000):\n",
    "        cmdsFile.write('Rscript %sscripts/topgo_permutation_%i_%s.R\\n' % (topgoDir, perm,stat))\n",
    "cmdsFile.close()\n",
    "    "
   ]
  },
  {
   "cell_type": "markdown",
   "metadata": {},
   "source": [
    "# Saving permutation enrichments to dictionary\n",
    "# to compare with real enrichment data\n",
    "# #**P-VALUES**#"
   ]
  },
  {
   "cell_type": "code",
   "execution_count": 5,
   "metadata": {},
   "outputs": [],
   "source": [
    "def check_real_data(topGODict,permPDict,permGeneCountDict,nameDict,outFile):\n",
    "    nonZeroCategoryCount = 0\n",
    "    all_pvalues,nonZeroCounts_pvalues,medianFiltered_pvalues,pDict = [], [], [], {}\n",
    "    sigCategories, nonZeroCounts_sigCategories = [], []\n",
    "    passes = {}\n",
    "    totalEnrichments,nonZeroCounts_totalEnrichments = [], []\n",
    "\n",
    "    outFile.write('GO ID\\tGO Description\\tGene Count in Genome\\tGene Count in Observed\\tAvg Gene Count in Permutations\\tFold Enrichment\\tObserved P-value\\tAvg Perm P-value\\tMedian Perm P-Value\\tMin Perm P-Value\\tMax Perm P-value\\tSimulation Informed P-value (# Lower than Obs P/1000)\\n')\n",
    "\n",
    "    for key in topGODict.keys():\n",
    "        if key not in permPDict.keys():\n",
    "            continue\n",
    "        obs_count = int(topGODict[key][4]) #how many observed in REAL XP-CLR data\n",
    "        obs_pvalue = float(topGODict[key][6]) #how many observed in REAL XP-CLR data\n",
    "        higherThanObsCount = 0 #to keep track of permuted gene counts higher than observed\n",
    "        lowerThanObsP = 0 #keep track of permuted pvalues lower than observed\n",
    "        \n",
    "        #COUNTS ---- Go through all permutation counts and see if it's higher than the observed\n",
    "        \"\"\"for perm_count in permGeneCountDict[key]:\n",
    "            if perm_count >= obs_count:\n",
    "                higherThanObsCount += 1\"\"\"\n",
    "        avgPermCounts = np.mean(permGeneCountDict[key])\n",
    "        #print('avgPermCounts',avgPermCounts)\n",
    "        \n",
    "        #PVALUE ---- Go through all permutation counts and see if it's *LOWER* than the observed \n",
    "        for pvalue in permPDict[key]:\n",
    "            if pvalue <= obs_pvalue:\n",
    "                lowerThanObsP += 1\n",
    "        avgPermP = np.mean(permPDict[key])\n",
    "        medianPermP = np.median(permPDict[key])\n",
    "        minPermP = min(permPDict[key])\n",
    "        maxPermP = max(permPDict[key])\n",
    "        \n",
    "        #Rate *or p-value* is the number of times the permutatino was <= observed pvalue\n",
    "        #         divided by permutation count (here = 1000)\n",
    "        rate = float((lowerThanObsP + 1)/(len(permPDict[key])+1)) # rate = perm p-value\n",
    "        pvalues.append(rate) # rate = perm p-value\n",
    "        pDict[key] = rate # rate = perm p-value\n",
    "\n",
    "        #Enrichment = average of observations\n",
    "        totalEnrichments.append([rate,(obs_count/np.mean(permGeneCountDict[key])),key])\n",
    "        \n",
    "        #Keep track of all p-values\n",
    "        all_pvalues.append(rate) \n",
    "        \n",
    "        #Now keeping track of the categories that have more than one XP-CLR gene in them\n",
    "        if obs_count > 0:\n",
    "            nonZeroCategoryCount += 1\n",
    "            if minPermP != 1.0:\n",
    "                nonZeroCounts_pvalues.append(rate)\n",
    "                if medianPermP != 1.0:\n",
    "                    medianFiltered_pvalues.append(rate)\n",
    "            nonZeroCounts_totalEnrichments.append([rate,(obs_count/np.mean(permGeneCountDict[key])),key])\n",
    "\n",
    "        #SUMMARY OUTFILE\n",
    "        if key in nameDict.keys():\n",
    "            fullName = nameDict[key]\n",
    "        else:\n",
    "            fullName = topGODict[key][2]\n",
    "\n",
    "        outFile.write('%s\\t%s\\t%s\\t%i\\t%f\\t%f\\t%f\\t%f\\t%f\\t%f\\t%f\\t%f\\n' % (key,fullName,topGODict[key][3],obs_count,avgPermCounts,obs_count/avgPermCounts,obs_pvalue,avgPermP,medianPermP,minPermP,maxPermP,rate))       \n",
    "    #outFile.close()\n",
    "    return all_pvalues, nonZeroCounts_pvalues, nonZeroCounts_totalEnrichments, medianFiltered_pvalues\n"
   ]
  },
  {
   "cell_type": "markdown",
   "metadata": {},
   "source": [
    "# Process outputs from TOPGO"
   ]
  },
  {
   "cell_type": "markdown",
   "metadata": {},
   "source": [
    "## Parent-Child"
   ]
  },
  {
   "cell_type": "code",
   "execution_count": 12,
   "metadata": {
    "scrolled": true
   },
   "outputs": [
    {
     "name": "stdout",
     "output_type": "stream",
     "text": [
      "#### REAL DATA\n",
      "19958 enriched gene categories added to topGoDict\n",
      "49395 GO categories added to full name dictionary\n",
      "\n",
      "\n",
      "#### PERMUTED DATA\n",
      "\n",
      "\n",
      "#BP\tParentChild\n"
     ]
    },
    {
     "data": {
      "image/png": "[encoded data removed]",
      "text/plain": [
       "<Figure size 432x288 with 1 Axes>"
      ]
     },
     "metadata": {},
     "output_type": "display_data"
    },
    {
     "data": {
      "image/png": "[encoded data removed]",
      "text/plain": [
       "<Figure size 432x288 with 1 Axes>"
      ]
     },
     "metadata": {},
     "output_type": "display_data"
    },
    {
     "name": "stdout",
     "output_type": "stream",
     "text": [
      "1000 permutations added for processing\n",
      "14164 GO IDs added to permutation count dictionary\n",
      "14164 GO IDs added to permutation p-value dictionary\n",
      "\n",
      "\n",
      "#CC\tParentChild\n"
     ]
    },
    {
     "data": {
      "image/png": "[encoded data removed]",
      "text/plain": [
       "<Figure size 432x288 with 1 Axes>"
      ]
     },
     "metadata": {},
     "output_type": "display_data"
    },
    {
     "data": {
      "image/png": "[encoded data removed]",
      "text/plain": [
       "<Figure size 432x288 with 1 Axes>"
      ]
     },
     "metadata": {},
     "output_type": "display_data"
    },
    {
     "name": "stdout",
     "output_type": "stream",
     "text": [
      "1000 permutations added for processing\n",
      "1704 GO IDs added to permutation count dictionary\n",
      "1704 GO IDs added to permutation p-value dictionary\n",
      "\n",
      "\n",
      "#MF\tParentChild\n"
     ]
    },
    {
     "data": {
      "image/png": "[encoded data removed]",
      "text/plain": [
       "<Figure size 432x288 with 1 Axes>"
      ]
     },
     "metadata": {},
     "output_type": "display_data"
    },
    {
     "data": {
      "image/png": "[encoded data removed]",
      "text/plain": [
       "<Figure size 432x288 with 1 Axes>"
      ]
     },
     "metadata": {},
     "output_type": "display_data"
    },
    {
     "name": "stdout",
     "output_type": "stream",
     "text": [
      "1000 permutations added for processing\n",
      "4090 GO IDs added to permutation count dictionary\n",
      "4090 GO IDs added to permutation p-value dictionary\n"
     ]
    }
   ],
   "source": [
    "# REAL DATA\n",
    "print('#### REAL DATA')\n",
    "#*********\n",
    "#Which stat output are you processing    #stat = 'Elim'  #stat = 'ParentChild' or #stat = 'Weight01'\n",
    "#stat = 'Weight01'\n",
    "#stat = 'Elim'\n",
    "stat = 'ParentChild'\n",
    "#*********\n",
    "\n",
    "topGoDir = '/home/ampend/links/kidd-lab/ampend-projects/Angela/XP-CLR/topgo_permutations/'\n",
    "mergedOutFile =topGoDir + 'Merged_1Window_FinalXP-CLR_50KbWindowIntersect_SimulationThreshold_EnrichmentTable_Pvalue=0.05_TopGOOutput_%s_Genes_BP_MF_CC.txt' % stat\n",
    "\n",
    "topGODict = make_topgo_dict(mergedOutFile)\n",
    "\n",
    "nameDict = get_full_BLASTGO_category_names()\n",
    "\n",
    "############################################################################################################\n",
    "# PERMUTED DATA\n",
    "\n",
    "print('\\n\\n#### PERMUTED DATA')\n",
    "categories = ['BP','CC','MF']\n",
    "\n",
    "inDir = '/home/ampend/links/kidd-lab/ampend-projects/Angela/XP-CLR/topgo_permutations/results/' \n",
    "outDir = '/home/ampend/links/kidd-lab/ampend-projects/Angela/XP-CLR/topgo_permutations/'\n",
    "pValuesTotal,nonZero_pValuesTotal = [], []\n",
    "\n",
    "for category in categories:\n",
    "    permGeneCountDict,permPDict = {}, {} #Clear variables per category\n",
    "    outFile = open(outDir + 'SummaryTable_TopGO_%s_%s.txt' % (stat,category), 'w') #Make outfile JUST for the category\n",
    "    perms,pvalues = [],[]\n",
    "    \n",
    "    for perm in range(0,1000):\n",
    "        perms.append(perm)\n",
    "        infile = inDir + 'TopGO_%s_%s_TOTAL_%i.txt' % (category, stat, perm)\n",
    "\n",
    "        for line in open(infile,'r'):\n",
    "            line=line.rstrip().split('\\t')\n",
    "            if 'GO.ID' in line[0]: # skip header\n",
    "                continue\n",
    "            GOcat = line[1]\n",
    "            #Keep track of counts\n",
    "            observedCount = int(line[4])\n",
    "            if GOcat not in permGeneCountDict.keys():\n",
    "                permGeneCountDict[GOcat] = []          \n",
    "            permGeneCountDict[GOcat].append(observedCount)\n",
    "            \n",
    "            #Keep track of pvalues\n",
    "            if '< ' in line[6]:\n",
    "                pvalue = float('1e-30')\n",
    "                continue\n",
    "            else:\n",
    "                pvalue = float(line[6])\n",
    "            if GOcat not in permPDict.keys():\n",
    "                permPDict[GOcat] = []\n",
    "            permPDict[GOcat].append(pvalue)\n",
    "\n",
    "    pValuesTotal.append(pvalues) #Keeping track of ALL pvalues, regardless of gene count\n",
    "    #Generate summary file by checking what each GO term looks like in real vs permuted data\n",
    "    all_pvalues,nonZeroCounts_pvalues, nonZeroCounts_totalEnrichments, medianFiltered_pvalues = check_real_data(topGODict,permPDict,permGeneCountDict,nameDict,outFile)\n",
    "    outFile.close()\n",
    "            \n",
    "    print('\\n\\n#%s\\t%s' % (category, stat))\n",
    "    plt.hist(all_pvalues,25,facecolor='red')\n",
    "    plt.title('%s -- %s NonZero/MinP Filtered (%i GOs)' % (stat,category,len(all_pvalues)))\n",
    "    plt.show()\n",
    "    \n",
    "    plt.hist(nonZeroCounts_pvalues,25)\n",
    "    plt.title('%s -- %s NonZero/MinP Filtered (%i GOs)' % (stat,category,len(nonZeroCounts_pvalues)))\n",
    "    plt.show()\n",
    "    \n",
    "    print('%i permutations added for processing' % len(perms))\n",
    "    print('%i GO IDs added to permutation count dictionary' % len(permGeneCountDict.keys()))\n",
    "    print('%i GO IDs added to permutation p-value dictionary' % len(permPDict.keys()))\n",
    "      \n",
    "    "
   ]
  },
  {
   "cell_type": "markdown",
   "metadata": {},
   "source": [
    "# On your own, you must run the following steps for each STAT (parent-child,elim,weight01):\n",
    "1. python /home/ampend/links/kidd-lab/ampend-projects/Angela/XP-CLR/topgo_permutations/parse_scripts/filter-files-STAT.py\n",
    "2. Download on to your computer\n",
    "3. Run the following script: Qvalue-STAT.R\n",
    "4. Upload the resulting qvalue tables per category (BP,CC,MF) back to Flux\n",
    "5. THEN process the steps below\n",
    "    "
   ]
  },
  {
   "cell_type": "markdown",
   "metadata": {},
   "source": [
    "# What categories are significant after permutations?"
   ]
  },
  {
   "cell_type": "code",
   "execution_count": 9,
   "metadata": {},
   "outputs": [
    {
     "name": "stdout",
     "output_type": "stream",
     "text": [
      "Added 429 genes intersecting with XP-CLR regions to xpGeneDict\n"
     ]
    }
   ],
   "source": [
    "xpGeneDict = {}\n",
    "\n",
    "geneIntersectFileXPCLR = '/home/ampend/links/kidd-lab/ampend-projects/Angela/XP-CLR/results/Campbell_No-MAF-Filter/50kbWindow_2kbGrid/Dogs_v_Wolves/SignificantWindows/1Window_Intersect_With_Ensembl81Genes_50kbWindow.txt'\n",
    "\n",
    "for line in open(geneIntersectFileXPCLR,'r'):\n",
    "    line=line.rstrip().split('\\t')\n",
    "    XPCLR = line[3]\n",
    "    gene = line[12]\n",
    "    ensG,geneName = gene.split('_')[1],gene.split('_')[2]\n",
    "    if ensG not in xpGeneDict.keys():\n",
    "        xpGeneDict[ensG] = []\n",
    "    #xpGeneDict[ensG].append([XPCLR,ensG,geneName,IDs])\n",
    "    #xpGeneDict[ensG].append([XPCLR,ensG,geneName])\n",
    "    xpGeneDict[ensG].append(XPCLR)\n",
    "print('Added %i genes intersecting with XP-CLR regions to xpGeneDict' % len(xpGeneDict.keys()))\n"
   ]
  },
  {
   "cell_type": "code",
   "execution_count": 10,
   "metadata": {},
   "outputs": [
    {
     "name": "stdout",
     "output_type": "stream",
     "text": [
      "\n",
      "19856 genes read into gene-protein ID array\n"
     ]
    }
   ],
   "source": [
    "def get_permDict(inDir,categories):\n",
    "    permDict = {}\n",
    "    for category in categories:\n",
    "        permFile = inDir + 'SummaryTable_TopGO_%s_%s.txt' % (stat,category)\n",
    "\n",
    "        for line in open(permFile, 'r'):\n",
    "            line=line.rstrip().split('\\t')\n",
    "            if 'Description' in line[1]: #skip header \n",
    "                continue\n",
    "            permDict[line[0]] = line\n",
    "    \n",
    "    return permDict\n",
    "#########################################################################################################\n",
    "def create_xpGeneDict():\n",
    "    xpGeneDict = {}\n",
    "\n",
    "    geneIntersectFileXPCLR = '/home/ampend/links/kidd-lab/ampend-projects/Angela/XP-CLR/results/Campbell_No-MAF-Filter/50kbWindow_2kbGrid/Dogs_v_Wolves/SignificantWindows/1Window_Intersect_With_Ensembl81Genes_50kbWindow.txt'\n",
    "\n",
    "    for line in open(geneIntersectFileXPCLR,'r'):\n",
    "        line=line.rstrip().split('\\t')\n",
    "        XPCLR = line[3]\n",
    "        gene = line[12]\n",
    "        ensG,geneName = gene.split('_')[1],gene.split('_')[2]\n",
    "        if ensG not in xpGeneDict.keys():\n",
    "            xpGeneDict[ensG] = []\n",
    "        #xpGeneDict[ensG].append([XPCLR,ensG,geneName,IDs])\n",
    "        xpGeneDict[ensG].append([XPCLR,ensG,geneName])\n",
    "\n",
    "    print('Added %i genes intersecting with XP-CLR regions to xpGeneDict' % len(xpGeneDict.keys()))\n",
    "    return xpGeneDict\n",
    "#########################################################################################################\n",
    "def create_GOGeneDict(stat,categories):\n",
    "    #goGeneFile = '/home/ampend/links/kidd-lab/ampend-projects/BLAST2GO/results/Input_TOPGO_AnnotatedGenes_NOchrX_NOchrM_NOchrUn.txt'\n",
    "    geneGODict = {} #All canfam genes and the categories they are in\n",
    "    categories = ['BP','CC','MF']\n",
    "\n",
    "    GOgeneDict = {}\n",
    "    for category in categories:\n",
    "        inDir = '/home/ampend/links/kidd-lab/ampend-projects/Angela/XP-CLR/topgo_permutations/'\n",
    "        goGeneFile = inDir + 'Observed_Total_GeneCounts_%s_%s_Genes.txt' % (stat,category)\n",
    "        for line in open(goGeneFile,'r'):\n",
    "            line=line.replace('\"','')\n",
    "            line = line.rstrip().split()\n",
    "            if len(line) < 2: #Some categories have no genes, because they aren't in dog\n",
    "                continue\n",
    "            ID = line[0]\n",
    "            genes = line[1].split(',')\n",
    "            for gene in genes:\n",
    "                ensG = gene.split('|')[0]\n",
    "                #Save with GO as key\n",
    "                if ID not in GOgeneDict.keys():\n",
    "                    GOgeneDict[ID] = []\n",
    "                GOgeneDict[ID].append(ensG)\n",
    "                #Save with EnsG as key\n",
    "                if ensG not in geneGODict.keys():\n",
    "                    geneGODict[ensG] = []\n",
    "                geneGODict[ensG].append(ID)\n",
    "\n",
    "    print('%i GO-Gene connections added' % (len(GOgeneDict.keys())))\n",
    "    return geneGODict,GOgeneDict\n",
    "#########################################################################################################\n",
    "def get_ensembl_IDs(GOID):\n",
    "    genes = []\n",
    "    for ID in GOgeneDict.keys():\n",
    "        if ID != GOID:\n",
    "            continue\n",
    "        for gene in GOgeneDict[ID]:\n",
    "            if gene in xpGeneDict.keys() and gene not in genes:\n",
    "                genes.append(gene)\n",
    "    GENES = ', '.join(genes)\n",
    "    geneCount=len(genes)\n",
    "    return GENES,geneCount\n",
    "#########################################################################################################\n",
    "def get_gene_names(genes):\n",
    "    GENES = genes.split(', ')\n",
    "    geneNames = []\n",
    "    for gene in GENES:\n",
    "        geneName = TotEnsGene[gene][5]\n",
    "        geneNames.append(geneName)\n",
    "    geneNames = ', '.join(geneNames)\n",
    "    return geneNames\n",
    "#########################################################################################################\n",
    "\n",
    "geneTable = '/home/ampend/links/kidd-lab/ampend-projects/BLAST2GO/results/BLAST2GO_GeneTables_WithEnscafIDsAndChrom.txt'\n",
    "#Saving gene-protein links that were processed with BLAST2GO to array\n",
    "TotEnsGene = {}\n",
    "\n",
    "for line in open(geneTable,'r'):\n",
    "    line = line.rstrip().split()\n",
    "    ensG,ensP,chrom,start,end,geneName = line[1],line[0],line[5],line[6],line[7],line[8]\n",
    "    TotEnsGene[ensG] = [ensG,ensP,chrom,start,end,geneName]\n",
    "print ('\\n%i genes read into gene-protein ID array' % len(TotEnsGene))\n"
   ]
  },
  {
   "cell_type": "code",
   "execution_count": 11,
   "metadata": {},
   "outputs": [
    {
     "name": "stdout",
     "output_type": "stream",
     "text": [
      "Added 429 genes intersecting with XP-CLR regions to xpGeneDict\n",
      "5380 GO-Gene connections added\n",
      "### ParentChild\n",
      "# BP\n",
      "431 significant GO terms found for ParentChild\n",
      "352 signifcant GO terms had genome gene Count > 1\n",
      "232 significant GO terms with more than one XP-CLR locus\n",
      "225 significantGO terms had XP-CLR gene count > 1\n",
      "FINAL sig BP = 225\n",
      "# CC\n",
      "71 significant GO terms found for ParentChild\n",
      "65 signifcant GO terms had genome gene Count > 1\n",
      "52 significant GO terms with more than one XP-CLR locus\n",
      "52 significantGO terms had XP-CLR gene count > 1\n",
      "FINAL sig CC = 52\n",
      "# MF\n",
      "134 significant GO terms found for ParentChild\n",
      "99 signifcant GO terms had genome gene Count > 1\n",
      "51 significant GO terms with more than one XP-CLR locus\n",
      "50 significantGO terms had XP-CLR gene count > 1\n",
      "FINAL sig MF = 50\n"
     ]
    }
   ],
   "source": [
    "inDir = '/home/ampend/links/kidd-lab/ampend-projects/Angela/XP-CLR/topgo_permutations/'\n",
    "categories = ['BP','CC','MF']\n",
    "\n",
    "xpGeneDict = create_xpGeneDict()\n",
    "stat = 'ParentChild'\n",
    "\n",
    "#Save permutation information to dictionary\n",
    "permDict = get_permDict(inDir,categories)\n",
    "\n",
    "sigDict,permHits = {}, {}\n",
    "\n",
    "#Get gene/GO/XP-CLR dictionaries\n",
    "geneGODict,GOgeneDict = create_GOGeneDict(stat,categories)\n",
    "\n",
    "print('### %s' % stat)\n",
    "SIG = []\n",
    "for category in categories:\n",
    "    sig, notOneXPCount, genomeCountGreaterThan1, xpGeneCountGreaterThan1 = [], 0, 0, 0\n",
    "    print('# %s' % category)\n",
    "    inFile = inDir + '%s.%s.qvals.txt' % (category,stat)\n",
    "    for line in open(inFile,'r'):\n",
    "        line=line.rstrip().split()\n",
    "        if 'V1' in line[0]: #skip header\n",
    "            continue\n",
    "\n",
    "        GOID, pvalue, qvalue = line[1], float(line[4]), float(line[5])\n",
    "\n",
    "        if pvalue >= 0.05: #skip those that aren't significant\n",
    "            continue\n",
    "        sig.append(GOID) #This means these are significant\n",
    "\n",
    "        #Now, determine what the observed/permutation stats were\n",
    "        desc,genomeCount,obsCount,obsP = topGODict[GOID][2],topGODict[GOID][3],topGODict[GOID][4],topGODict[GOID][6]\n",
    "        if GOID in nameDict.keys():\n",
    "            desc = nameDict[GOID]\n",
    "        permP = permDict[GOID][11] #rate from above (# < obs P + 1 / 1000 + 1)\n",
    "        minP,maxP,avgP = float(permDict[GOID][8]),float(permDict[GOID][9]),float(permDict[GOID][10])\n",
    "        avgPermGeneCount, enrichment = float(permDict[GOID][4]), float(permDict[GOID][5])\n",
    "\n",
    "        #Get XP-CLR Region\n",
    "        xpclrs = []\n",
    "        if GOID not in GOgeneDict.keys():\n",
    "            missingGO.append(GOID)\n",
    "            continue\n",
    "        for key in GOgeneDict[GOID]:\n",
    "            if key in xpGeneDict.keys():\n",
    "                 for i in range(0,len(xpGeneDict[key])):\n",
    "                    xp = xpGeneDict[key][i][0]\n",
    "                    if xp not in xpclrs:\n",
    "                        xpclrs.append(xp)\n",
    "        XPCLRS = ', '.join(xpclrs)\n",
    "        uniqueXPCLRs = len(set(xpclrs))\n",
    "        permHits[GOID] = [category]\n",
    "        \n",
    "        if int(genomeCount) > 1:\n",
    "            genomeCountGreaterThan1 += 1\n",
    "            #Must be in more than one XP-CLR and cannot be observed once in genome to begin with\n",
    "            if uniqueXPCLRs > 1: \n",
    "                notOneXPCount += 1\n",
    "                #Find the ensembl IDs in those loci\n",
    "                genes,geneCount = get_ensembl_IDs(GOID)\n",
    "                \n",
    "                geneNames = get_gene_names(genes)\n",
    "                #Must be represented by more than one gene (a long gene can span multiple XP-CLRs)\n",
    "                if geneCount > 1:\n",
    "                    xpGeneCountGreaterThan1 += 1\n",
    "                    #SAVE INTO DICTIONARY\n",
    "                    if GOID in sigDict.keys():\n",
    "                        sigDict[GOID][0] = sigDict[GOID][0] + '/%s' % category\n",
    "                    else:\n",
    "                        sigDict[GOID] = [category,GOID,desc,genomeCount,obsCount,avgPermGeneCount,enrichment,obsP,qvalue,permP,XPCLRS,uniqueXPCLRs,genes,geneNames,geneCount]\n",
    "\n",
    "    print('%i significant GO terms found for %s' % (len(sig),stat))\n",
    "    print('%i signifcant GO terms had genome gene Count > 1' % (genomeCountGreaterThan1))\n",
    "    print('%i significant GO terms with more than one XP-CLR locus' % notOneXPCount)\n",
    "    print('%i significantGO terms had XP-CLR gene count > 1' % xpGeneCountGreaterThan1)\n",
    "    print('FINAL sig %s = %i' % (category,xpGeneCountGreaterThan1 ))\n",
    "    for s in sig:\n",
    "        SIG.append(s)\n",
    "#Now write out\n",
    "outFile = open(inDir + 'SIGONLY_SummaryTable_TopGO_%s_BP_MF_CC.txt' % (stat), 'w')\n",
    "header = ['GO category','GO ID','GO Description','Genes In Genome','Gene Count Observed in XP-CLR Set','Average Gene Count Observed in Permutations','Fold Enrichment (Observed Count/Average Permuted Count)','Raw Parent-Child TopGO P-Value','Q-value','Permuted P (Number of Permutations < Observed P Value +1 / Permutation Rounds + 1)','XP-CLR Loci With Genes in Category','Number of XP-CLR Loci','Ensembl IDs in XP-CLR loci','Genes in XP-CLR Loci','Number of genes']\n",
    "outFile.write(\"\\t\".join(map(str,header))+'\\n')\n",
    "for keys in sigDict.keys(): #Now loops through each \n",
    "    outFile.write(\"\\t\".join(map(str,sigDict[keys])))\n",
    "    outFile.write(\"\\n\")\n",
    "outFile.close()\n",
    "   \n",
    "    "
   ]
  },
  {
   "cell_type": "markdown",
   "metadata": {},
   "source": [
    "## Compare Non-Permuted vs Permuted Enriched GO Category Sets"
   ]
  },
  {
   "cell_type": "code",
   "execution_count": 19,
   "metadata": {},
   "outputs": [
    {
     "name": "stdout",
     "output_type": "stream",
     "text": [
      "19955 GO IDs added to dictionary\n"
     ]
    }
   ],
   "source": [
    "#Get GO-Category associations\n",
    "goCats = {}\n",
    "stat = 'ParentChild'\n",
    "\n",
    "inDir = '/home/ampend/links/kidd-lab/ampend-projects/Angela/XP-CLR/topgo_permutations/'\n",
    "\n",
    "for category in categories:\n",
    "    inFile = inDir + 'SummaryTable_TopGO_%s_%s.txt' % (stat,category)\n",
    "    for line in open(inFile,'r'):\n",
    "        line=line.rstrip().split('\\t')\n",
    "        if 'GO ID' in line[0]: #skip header\n",
    "            continue\n",
    "        GOID = line[1]\n",
    "        if GOID in goCats.keys():\n",
    "            CAT = goCats[GOID] + '/' + category\n",
    "        else:\n",
    "            CAT = category\n",
    "        goCats[GOID] = CAT\n",
    "print('%i GO IDs added to dictionary' % len(goCats.keys()))"
   ]
  },
  {
   "cell_type": "markdown",
   "metadata": {},
   "source": [
    "#### OBSERVED - Raw - NON-PERMUTED:\n"
   ]
  },
  {
   "cell_type": "code",
   "execution_count": 20,
   "metadata": {},
   "outputs": [
    {
     "name": "stdout",
     "output_type": "stream",
     "text": [
      "204 significant raw,unpermuted categories\n"
     ]
    }
   ],
   "source": [
    "### OBSERVED - Raw - NON-PERMUTED:\n",
    "stat = 'ParentChild'\n",
    "\n",
    "inDir = '/home/ampend/links/kidd-lab/ampend-projects/Angela/XP-CLR/topgo_permutations/'\n",
    "rawCats = {}\n",
    "for category in categories:\n",
    "    inFile = inDir + 'Observed_Total_GeneCounts_%s_%s.txt' % (stat,category)\n",
    "    for line in open(inFile,'r'):\n",
    "        line=line.rstrip().split('\\t')\n",
    "        if 'GO.ID' in line[0]: #skip header\n",
    "            continue\n",
    "        GOID = line[1]\n",
    "        pvalue = float(line[6])\n",
    "        if pvalue >= 0.05: #We only want significant\n",
    "            continue\n",
    "        #What XP-CLR loci represent these genes?\n",
    "        #Get XP-CLR Region\n",
    "        xpclrs = []\n",
    "        if GOID not in GOgeneDict.keys():\n",
    "            missingGO.append(GOID)\n",
    "            continue\n",
    "        for key in GOgeneDict[GOID]:\n",
    "            if key in xpGeneDict.keys():\n",
    "                 for i in xpGeneDict[key]:\n",
    "                    xpclrs.append(i[0])\n",
    "        XPCLRS = ', '.join(xpclrs)\n",
    "        uniqueXPCLRs = len(set(xpclrs))\n",
    "        #What XP-CLR genes are in GOID? \n",
    "        genes,geneCount = get_ensembl_IDs(GOID)\n",
    "        if geneCount == 1:\n",
    "            continue\n",
    "        rawCats[GOID] = []\n",
    "        rawCats[GOID] = [GOID,category,geneCount,uniqueXPCLRs]\n",
    "\n",
    "print('%i significant raw,unpermuted categories' % len(rawCats))\n"
   ]
  },
  {
   "cell_type": "markdown",
   "metadata": {},
   "source": [
    "### Comparisons\n"
   ]
  },
  {
   "cell_type": "code",
   "execution_count": 21,
   "metadata": {},
   "outputs": [
    {
     "name": "stdout",
     "output_type": "stream",
     "text": [
      "204 sig TOTAL raw categories\n",
      "636 sig TOTAL permuted categories\n",
      "\n",
      "14 categories only found in raw parent-child topgo set\n",
      "446 categories only found in permuted set\n",
      "190 categories found in both sets\n",
      "\n",
      "201 categories with >2 in RAW\n",
      "327 categories with >2 in PERMUTED\n",
      "\n",
      "14 categories only found in raw parent-child topgo -- 2 or more XP-CLR\n",
      "140 categories only found in permuted set -- 2 or more XP-CLR\n",
      "187 categories found in both sets -- 2 or more XP-CLR\n"
     ]
    }
   ],
   "source": [
    "compareList = []\n",
    "both,raw,permuted = 0,0,0\n",
    "both2,raw2,permuted2 = 0,0,0\n",
    "rawOver2Total = 0\n",
    "\n",
    "for GOID in rawCats.keys():\n",
    "    if GOID in SIG: #If in the total, nonxpclr count required sig hits\n",
    "        compareList.append([GOID,'Both'])\n",
    "        both+=1\n",
    "        if int(rawCats[GOID][3]) > 1:\n",
    "            both2 +=1\n",
    "    else:\n",
    "        compareList.append([GOID,'Raw'])\n",
    "        raw+=1\n",
    "        if int(rawCats[GOID][3]) > 1:\n",
    "            raw2 +=1\n",
    "    #GET TOTAL NUMBER OF RAW WITH XPCLR COUNTS > 1\n",
    "    if int(rawCats[GOID][3]) > 1:\n",
    "        rawOver2Total += 1\n",
    "\n",
    "permOver2Total = len(sigDict.keys())\n",
    "for GOID in SIG:\n",
    "    if GOID not in rawCats.keys():\n",
    "        compareList.append([GOID,'Permuted'])\n",
    "        permuted+=1\n",
    "        if GOID in sigDict.keys():\n",
    "            permuted2 += 1\n",
    "            \n",
    "print('%i sig TOTAL raw categories' % len(rawCats.keys()))\n",
    "print('%i sig TOTAL permuted categories\\n' % len(permHits.keys()))\n",
    "\n",
    "print('%i categories only found in raw parent-child topgo set' % raw)\n",
    "print('%i categories only found in permuted set' % permuted)\n",
    "print('%i categories found in both sets\\n' % both)\n",
    "\n",
    "print('%i categories with >2 in RAW' % rawOver2Total)\n",
    "print('%i categories with >2 in PERMUTED\\n' % permOver2Total) \n",
    "\n",
    "print('%i categories only found in raw parent-child topgo -- 2 or more XP-CLR' % raw2)\n",
    "print('%i categories only found in permuted set -- 2 or more XP-CLR' % permuted2)\n",
    "print('%i categories found in both sets -- 2 or more XP-CLR' % both2)\n",
    "\n"
   ]
  },
  {
   "cell_type": "code",
   "execution_count": 42,
   "metadata": {},
   "outputs": [],
   "source": [
    "from matplotlib_venn import venn2, venn2_circles\n"
   ]
  },
  {
   "cell_type": "code",
   "execution_count": 53,
   "metadata": {},
   "outputs": [
    {
     "data": {
      "image/png": "[encoded data removed]",
      "text/plain": [
       "<Figure size 576x576 with 1 Axes>"
      ]
     },
     "metadata": {},
     "output_type": "display_data"
    },
    {
     "data": {
      "image/png": "[encoded data removed]",
      "text/plain": [
       "<Figure size 576x576 with 1 Axes>"
      ]
     },
     "metadata": {},
     "output_type": "display_data"
    }
   ],
   "source": [
    "font = {'family' : 'sans',\n",
    "        'weight' : 'regular',\n",
    "        'size'   : 14}\n",
    "plt.rc('font', **font)\n",
    "#######################################\n",
    "plt.figure(figsize=(8,8))\n",
    "s = (1,1,1)\n",
    "c = venn2(subsets = s, set_labels = ('Raw Parent-Child','Permuted Parent-Child'))\n",
    "c.get_label_by_id('10').set_text(raw)\n",
    "c.get_patch_by_id('10').set_color('#006699')\n",
    "c.get_label_by_id('11').set_text(both)\n",
    "c.get_patch_by_id('11').set_color('#00cc99')\n",
    "c.get_label_by_id('01').set_text(permuted)\n",
    "c.get_patch_by_id('01').set_color('#00cc00')\n",
    "plt.title(\"Significant Categories (BP+MF+CC)\",fontsize=15,fontweight=\"bold\")\n",
    "plt.show()\n",
    "###########################################\n",
    "\n",
    "plt.figure(figsize=(8,8))\n",
    "s = (1,1,1)\n",
    "c = venn2(subsets = s, set_labels = ('Raw Parent-Child','Permuted Parent-Child'))\n",
    "c.get_label_by_id('10').set_text(raw2)\n",
    "c.get_patch_by_id('10').set_color('#006699')\n",
    "c.get_label_by_id('11').set_text(both2)\n",
    "c.get_patch_by_id('11').set_color('#00cc99')\n",
    "c.get_label_by_id('01').set_text(permuted2)\n",
    "c.get_patch_by_id('01').set_color('#00cc00')\n",
    "plt.title(\"Significant Categories with Two \\nor More XP-CLR Loci(BP+MF+CC)\",fontsize=16,fontweight=\"bold\")\n",
    "plt.show()"
   ]
  },
  {
   "cell_type": "code",
   "execution_count": 22,
   "metadata": {},
   "outputs": [
    {
     "name": "stdout",
     "output_type": "stream",
     "text": [
      "328 significant raw,unpermuted categories\n"
     ]
    }
   ],
   "source": [
    "### OBSERVED - Raw - NON-PERMUTED:\n",
    "stat = 'ParentChild'\n",
    "\n",
    "inDir = '/home/ampend/links/kidd-lab/ampend-projects/Angela/XP-CLR/topgo_permutations/'\n",
    "permCats = []\n",
    "inFile = inDir + 'SIGONLY_SummaryTable_TopGO_%s_BP_MF_CC.txt' % (stat)\n",
    "for line in open(inFile,'r'):\n",
    "    line=line.rstrip().split('\\t')\n",
    "    if 'Enrich' in line: #skip header\n",
    "        continue\n",
    "    GOID = line[1]\n",
    "    permCats.append(GOID)\n",
    "print('%i significant raw,unpermuted categories' % len(permCats))\n",
    "\n"
   ]
  },
  {
   "cell_type": "markdown",
   "metadata": {},
   "source": [
    "# SEARCHING FOR MANUSCRIPT WRITING"
   ]
  },
  {
   "cell_type": "code",
   "execution_count": 23,
   "metadata": {},
   "outputs": [
    {
     "name": "stdout",
     "output_type": "stream",
     "text": [
      "Added 246 xpclr loci with ranks to dictionary\n"
     ]
    }
   ],
   "source": [
    "xrankFile = '/home/ampend/links/kidd-lab/ampend-projects/Angela/XP-CLR/results/final-xpclr-formanuscript-ranks.txt'\n",
    "xrankDict = {}\n",
    "\n",
    "for line in open(xrankFile,'r'):\n",
    "    if 'Window' in line:\n",
    "        continue\n",
    "    line=line.rstrip().split()\n",
    "    xrankDict[line[0]] = int(line[3])\n",
    "print('Added %i xpclr loci with ranks to dictionary' % len(xrankDict.keys()))\n"
   ]
  },
  {
   "cell_type": "markdown",
   "metadata": {},
   "source": [
    "### SEARCH = GO description\n",
    "#### Provides GOs, genes, and XP-CLR loci with GO description keyword \n"
   ]
  },
  {
   "cell_type": "code",
   "execution_count": 32,
   "metadata": {},
   "outputs": [
    {
     "name": "stdout",
     "output_type": "stream",
     "text": [
      "\n",
      "# GO:0060021 palate development 0.819181\n",
      "SATB2 XP-CLR_244 -- Rank # 131\n"
     ]
    }
   ],
   "source": [
    "keyword = 'palate'\n",
    "\n",
    "for ID in nameDict.keys():\n",
    "    if ID not in GOgeneDict.keys():\n",
    "        continue\n",
    "    if keyword in nameDict[ID].lower():\n",
    "        if float(permDict[ID][11]) < 0.05:\n",
    "            print('\\n#',ID, nameDict[ID],permDict[ID][11],'**********')\n",
    "        else:\n",
    "            print('\\n#',ID, nameDict[ID],permDict[ID][11])\n",
    "        for gene in GOgeneDict[ID]:\n",
    "            print(TotEnsGene[gene][5],xpGeneDict[gene][0][0],'-- Rank #', xrankDict[xpGeneDict[gene][0][0]])"
   ]
  },
  {
   "cell_type": "markdown",
   "metadata": {},
   "source": [
    "### Find GO terms that a given gene belongs to\n",
    "#### Great for searching top-ranked XP-CLR loci genes\n"
   ]
  },
  {
   "cell_type": "code",
   "execution_count": 26,
   "metadata": {},
   "outputs": [
    {
     "name": "stdout",
     "output_type": "stream",
     "text": [
      "[['XP-CLR_243', 'ENSCAFG00000010947', 'BOLL']]\n",
      "# ENSCAFG00000010947 ENSCAFG00000010947\n",
      "GO:0045727 positive regulation of translation 0.073926\n",
      "GO:0006412 translation 0.055944\n",
      "GO:0010628 positive regulation of gene expression 0.268731\n",
      "GO:0045948 positive regulation of translational initiation 0.232767\n",
      "GO:0008152 metabolic process 0.248751\n",
      "GO:0006413 translational initiation 0.241758\n",
      "GO:0006417 regulation of translation 0.113886\n",
      "GO:0019222 regulation of metabolic process 0.284715\n",
      "GO:0009891 positive regulation of biosynthetic process 0.312687\n",
      "GO:0009893 positive regulation of metabolic process 0.800200\n",
      "GO:0048522 positive regulation of cellular process 0.166833\n",
      "GO:0048518 positive regulation of biological process 0.098901\n",
      "GO:0009889 regulation of biosynthetic process 0.562438\n",
      "GO:0010556 regulation of macromolecule biosynthetic process 0.526474\n",
      "GO:0010557 positive regulation of macromolecule biosynthetic process 0.242757\n",
      "GO:0032268 regulation of cellular protein metabolic process 0.895105\n",
      "GO:0032270 positive regulation of cellular protein metabolic process 0.938062\n",
      "GO:0043170 macromolecule metabolic process 0.538462\n",
      "GO:0010604 positive regulation of macromolecule metabolic process 0.859141\n",
      "GO:0010608 posttranscriptional regulation of gene expression 0.052947\n",
      "GO:0019538 protein metabolic process 0.959041\n",
      "GO:0080090 regulation of primary metabolic process 0.670330\n",
      "GO:0044260 cellular macromolecule metabolic process 0.078921\n",
      "GO:0044267 cellular protein metabolic process 0.658342\n",
      "GO:0044271 cellular nitrogen compound biosynthetic process 0.531469\n",
      "GO:0034250 positive regulation of cellular amide metabolic process 0.037962\n",
      "GO:0044249 cellular biosynthetic process 0.834166\n",
      "GO:0044237 cellular metabolic process 0.213786\n",
      "GO:0044238 primary metabolic process 0.792208\n",
      "GO:0034248 regulation of cellular amide metabolic process 0.121878\n",
      "GO:2000112 regulation of cellular macromolecule biosynthetic process 0.572428\n",
      "GO:0009987 cellular process 0.066933\n",
      "GO:0006446 regulation of translational initiation 0.723277\n",
      "GO:0009058 biosynthetic process 0.637363\n",
      "GO:0009059 macromolecule biosynthetic process 0.544456\n",
      "GO:0043603 cellular amide metabolic process 0.031968\n",
      "GO:0043604 amide biosynthetic process 0.136863\n",
      "GO:0034641 cellular nitrogen compound metabolic process 0.099900\n",
      "GO:0034645 cellular macromolecule biosynthetic process 0.847153\n",
      "GO:0010467 gene expression 0.216783\n",
      "GO:0010468 regulation of gene expression 0.616384\n",
      "GO:0008150 biological_process 1.000000\n",
      "GO:0006807 nitrogen compound metabolic process 0.896104\n",
      "GO:0060255 regulation of macromolecule metabolic process 0.658342\n",
      "GO:0031323 regulation of cellular metabolic process 0.705295\n",
      "GO:0031325 positive regulation of cellular metabolic process 0.896104\n",
      "GO:0031326 regulation of cellular biosynthetic process 0.430569\n",
      "GO:0031328 positive regulation of cellular biosynthetic process 0.206793\n",
      "GO:0006518 peptide metabolic process 0.004995\n",
      "GO:0050794 regulation of cellular process 0.844156\n",
      "GO:0051171 regulation of nitrogen compound metabolic process 0.697303\n",
      "GO:0051173 positive regulation of nitrogen compound metabolic process 0.853147\n",
      "GO:0043043 peptide biosynthetic process 0.045954\n",
      "GO:0050789 regulation of biological process 0.361638\n",
      "GO:0051246 regulation of protein metabolic process 0.790210\n",
      "GO:0051247 positive regulation of protein metabolic process 0.901099\n",
      "GO:1901564 organonitrogen compound metabolic process 0.944056\n",
      "GO:1901566 organonitrogen compound biosynthetic process 0.196803\n",
      "GO:0071704 organic substance metabolic process 0.674326\n",
      "GO:1901576 organic substance biosynthetic process 0.696304\n",
      "GO:0065007 biological regulation 0.302697\n",
      "GO:0008494 translation activator activity 0.118881\n",
      "GO:0045182 translation regulator activity 0.040959\n",
      "GO:0000166 nucleotide binding 0.397602\n",
      "GO:0003676 nucleic acid binding 0.917083\n",
      "GO:0005488 binding 0.171828\n",
      "GO:0036094 small molecule binding 0.073926\n",
      "GO:0097159 organic cyclic compound binding 0.211788\n",
      "GO:1901363 heterocyclic compound binding 0.193806\n",
      "GO:0090079 translation regulator activity, nucleic acid binding 0.031968\n",
      "GO:1901265 nucleoside phosphate binding 0.120879\n",
      "GO:0003674 molecular_function 1.000000\n",
      "GO:0005737 cytoplasm 0.232767\n",
      "GO:0005622 intracellular 0.005994\n",
      "GO:0005575 cellular_component 1.000000\n",
      "GO:0005623 cell 0.056943\n",
      "GO:0044464 cell part 0.044955\n",
      "GO:0044424 intracellular part 0.003996\n"
     ]
    }
   ],
   "source": [
    "GeneOfInterest = 'BOLL'\n",
    "\n",
    "for gene in xpGeneDict:\n",
    "    for i in xpGeneDict[gene]:\n",
    "        if GeneOfInterest in i[2]:\n",
    "            print(xpGeneDict[gene])\n",
    "            ensG = i[1]\n",
    "            print('#',gene,ensG)\n",
    "            for GO in geneGODict[ensG]:\n",
    "                print(GO,nameDict[GO],permDict[GO][11])\n"
   ]
  },
  {
   "cell_type": "markdown",
   "metadata": {},
   "source": [
    "## Looking through the XP-CLR genes for genes of interest "
   ]
  },
  {
   "cell_type": "code",
   "execution_count": 552,
   "metadata": {},
   "outputs": [
    {
     "name": "stdout",
     "output_type": "stream",
     "text": [
      "Added the 429 genes from XP-CLR loci to an array\n"
     ]
    }
   ],
   "source": [
    "#Saving the Gene IDs from XP-CLR loci to an array\n",
    "GOGENELIST = []\n",
    "for gene in xpGeneDict.keys():\n",
    "    if gene in GOGENELIST:\n",
    "        continue\n",
    "    GOGENELIST.append(TotEnsGene[gene][5])\n",
    "print('Added the %i genes from XP-CLR loci to an array' % len(GOGENELIST))"
   ]
  },
  {
   "cell_type": "code",
   "execution_count": 553,
   "metadata": {},
   "outputs": [
    {
     "name": "stdout",
     "output_type": "stream",
     "text": [
      "ENSCAFG00000028557\n"
     ]
    }
   ],
   "source": [
    "for xp in xpGeneDict.keys():\n",
    "    print(xp)\n",
    "    break"
   ]
  },
  {
   "cell_type": "code",
   "execution_count": 554,
   "metadata": {},
   "outputs": [
    {
     "name": "stdout",
     "output_type": "stream",
     "text": [
      "429\n"
     ]
    }
   ],
   "source": []
  },
  {
   "cell_type": "code",
   "execution_count": null,
   "metadata": {},
   "outputs": [],
   "source": []
  },
  {
   "cell_type": "code",
   "execution_count": null,
   "metadata": {},
   "outputs": [],
   "source": []
  },
  {
   "cell_type": "code",
   "execution_count": null,
   "metadata": {},
   "outputs": [],
   "source": []
  },
  {
   "cell_type": "code",
   "execution_count": null,
   "metadata": {},
   "outputs": [],
   "source": []
  },
  {
   "cell_type": "code",
   "execution_count": null,
   "metadata": {},
   "outputs": [],
   "source": []
  },
  {
   "cell_type": "code",
   "execution_count": null,
   "metadata": {},
   "outputs": [],
   "source": []
  },
  {
   "cell_type": "markdown",
   "metadata": {},
   "source": [
    "######## EXTRAS ALL BELOW THIS ############\n",
    "# IGNORE"
   ]
  },
  {
   "cell_type": "code",
   "execution_count": 82,
   "metadata": {},
   "outputs": [],
   "source": [
    "\"\"\"def check_real_data(topGODict,permPDict,permGeneCountDict,nameDict,outFile):\n",
    "    nonZeroCategoryCount = 0\n",
    "    pvalues,nonZeroCounts_pvalues,pDict = [], [], {}\n",
    "    sigCategories, nonZeroCounts_sigCategories = [], []\n",
    "    passes = {}\n",
    "    totalEnrichments,nonZeroCounts_totalEnrichments = [], []\n",
    "\n",
    "    #outFile.write('GO ID\\tGO Description\\tGene Count in Genome\\tGene Count in Observed\\tAvg Gene Count in Permutations\\tFold Enrichment\\tObserved P-value\\tAvg Perm P-value\\tMin Perm P-Value\\tMax Perm P-value\\tSimulation Informed P-value (# Lower than Obs P/1000)\\tAll Permutation Observations Array\\n')\n",
    "    outFile.write('GO ID\\tGO Description\\tGene Count in Genome\\tGene Count in Observed\\tAvg Gene Count in Permutations\\tFold Enrichment\\tObserved P-value\\tAvg Perm P-value\\tMin Perm P-Value\\tMax Perm P-value\\tSimulation Informed P-value (# Lower than Obs P/1000)\\n')\n",
    "\n",
    "    for key in topGODict.keys():\n",
    "        if key not in permPDict.keys():\n",
    "            continue\n",
    "        if 'GO:0032147' not in key:\n",
    "            continue\n",
    "        print(key)\n",
    "        print(topGODict[key])\n",
    "        obs_count = int(topGODict[key][4]) #how many observed in REAL XP-CLR data\n",
    "        obs_pvalue = float(topGODict[key][6]) #how many observed in REAL XP-CLR data\n",
    "        print('obs_count = ',obs_count)\n",
    "        print('obs_pvalue = ',obs_pvalue)\n",
    "        higherThanObsCount = 0 #to keep track of permuted gene counts higher than observed\n",
    "        lowerThanObsP = 0 #keep track of permuted pvalues lower than observed\n",
    "        \n",
    "        #COUNTS ---- Go through all permutation counts and see if it's higher than the observed\n",
    "        \"\"\"for perm_count in permGeneCountDict[key]:\n",
    "            if perm_count >= obs_count:\n",
    "                higherThanObsCount += 1\"\"\"\n",
    "        avgPermCounts = np.mean(permGeneCountDict[key])\n",
    "        print('avgPermCounts',avgPermCounts)\n",
    "        \n",
    "        #PVALUE ---- Go through all permutation counts and see if it's *LOWER* than the observed \n",
    "        print('Smaller:')\n",
    "        for pvalue in permPDict[key]:\n",
    "            if pvalue <= obs_pvalue:\n",
    "                lowerThanObsP += 1\n",
    "                print(pvalue)\n",
    "        avgPermP = np.mean(permPDict[key])\n",
    "        minPermP = min(permPDict[key])\n",
    "        maxPermP = max(permPDict[key])\n",
    "        print('avgPermP,minPermP,maxPermP = ', avgPermP,minPermP,maxPermP)\n",
    "        \n",
    "        #Rate *or p-value* is the number of times the permutatino was <= observed pvalue\n",
    "        #         divided by permutation count (here = 1000)\n",
    "        rate = float((lowerThanObsP + 1)/(len(permPDict[key])+1)) # rate = perm p-value\n",
    "        print('rate = float((lowerThanObsP + 1)/(len(permPDict[key])+1))')\n",
    "        print('rate = float((%i + 1)/((%i)+1))' % (lowerThanObsP,len(permPDict[key])))\n",
    "        print('rate = ', rate)\n",
    "        pvalues.append(rate) # rate = perm p-value\n",
    "        pDict[key] = rate # rate = perm p-value\n",
    "\n",
    "        #Enrichment = average of observations\n",
    "        totalEnrichments.append([rate,(obs_count/np.mean(permGeneCountDict[key])),key])\n",
    "        \n",
    "        #Now keeping track of the categories that have more than one XP-CLR gene in them\n",
    "        if obs_count > 0:\n",
    "            nonZeroCategoryCount += 1\n",
    "            nonZeroCounts_pvalues.append(rate)\n",
    "            nonZeroCounts_totalEnrichments.append([rate,(obs_count/np.mean(permGeneCountDict[key])),key])\n",
    "\n",
    "        #SUMMARY OUTFILE\n",
    "        if key in nameDict.keys():\n",
    "            fullName = nameDict[key]\n",
    "        else:\n",
    "            fullName = topGODict[key][2]\n",
    "\n",
    "        #outFile.write('%s\\t%s\\t%s\\t%i\\t%f\\t%f\\t%f\\t%f\\t%f\\t%f\\t%f\\t%s\\n' % (key,fullName,topGODict[key][3],obs_count,avgPermCounts,obs_count/avgPermCounts,obs_pvalue,avgPermP,minPermP,maxPermP,rate,permGeneCountDict[key]))        \n",
    "        outFile.write('%s\\t%s\\t%s\\t%i\\t%f\\t%f\\t%f\\t%f\\t%f\\t%f\\t%f\\n' % (key,fullName,topGODict[key][3],obs_count,avgPermCounts,obs_count/avgPermCounts,obs_pvalue,avgPermP,minPermP,maxPermP,rate))       \n",
    "    #outFile.close()\n",
    "\"\"\""
   ]
  },
  {
   "cell_type": "code",
   "execution_count": 327,
   "metadata": {},
   "outputs": [
    {
     "name": "stdout",
     "output_type": "stream",
     "text": [
      "<_io.TextIOWrapper name='/home/ampend/links/kidd-lab/ampend-projects/Angela/XP-CLR/topgo_permutations/Rscript_Weight01.R' mode='w' encoding='UTF-8'>\n",
      "<_io.TextIOWrapper name='/home/ampend/links/kidd-lab/ampend-projects/Angela/XP-CLR/topgo_permutations/Rscript_Elim.R' mode='w' encoding='UTF-8'>\n",
      "<_io.TextIOWrapper name='/home/ampend/links/kidd-lab/ampend-projects/Angela/XP-CLR/topgo_permutations/Rscript_ParentChild.R' mode='w' encoding='UTF-8'>\n"
     ]
    }
   ],
   "source": [
    "Dir = '/home/ampend/links/kidd-lab/ampend-projects/Angela/XP-CLR/topgo_permutations/'\n",
    "for stat in stats:\n",
    "    Rscript = open(Dir + 'Rscript_%s.R' % (stat),'w')\n",
    "    print(Rscript)\n",
    "    Rscript.write('library(qvalue)\\n')\n",
    "    Rscript.write('setwd(dir = \"%s\")\\n' % scriptDir)\n",
    "    for category in categories:\n",
    "        #Rscript.write('\\n###### %s ######\\n' % category)\n",
    "        Rscript.write('pdf(file=\"%sRscript_%s_%s_plots.pdf\")\\n' % (Dir,stat,category))\n",
    "        Rscript.write('d<-read.table(\\'%sSummaryTable_TopGO_%s_%s.txt.selp.go\\',sep=\\'\\t\\')\\n' % (Dir,stat,category))\n",
    "        Rscript.write('p<-d$V2\\n')\n",
    "        Rscript.write('q<-qvalue(p = p)\\n')\n",
    "        Rscript.write('d$pvalues = q$pvalues\\n')\n",
    "        Rscript.write('d$qvalues = q$qvalues\\n')\n",
    "        Rscript.write('hist(d$qvalues,breaks=40)\\n')\n",
    "        Rscript.write('hist(q,breaks=40)\\n')\n",
    "        Rscript.write('write.table(x = d, file = \\'%s%s.%s.qvals.txt\\', quote=FALSE, sep = \"\\t\")\\n' % (Dir,category,stat))\n",
    "        Rscript.write('print(summary(q))\\n')\n",
    "        Rscript.write('print(\\'FDR at p=0.05:\\n\\')\\n')\n",
    "        Rscript.write('print(max(q$qvalues[q$pvalues <= 0.05]))\\n')\n",
    "        Rscript.write('qobj <- qvalue(p = d$pvalues)\\n')\n",
    "        Rscript.write('plot(qobj)\\n')\n",
    "        Rscript.write('dev.off()\\n')\n",
    "    Rscript.close()\n",
    "\n"
   ]
  },
  {
   "cell_type": "code",
   "execution_count": null,
   "metadata": {},
   "outputs": [],
   "source": [
    "topGoDir = '/home/ampend/links/kidd-lab/ampend-projects/Angela/XP-CLR/results/Campbell_No-MAF-Filter/50kbWindow_2kbGrid/Dogs_v_Wolves/SignificantWindows/TopGO/'\n",
    "\n",
    "#Define outfile to keep track of topGO annotations\n",
    "annotationFile = open(topGoDir + 'PERMUTEDp05_1Window_AnnotatedTopGO_EnrichedGenes_50kb_FinalXP-CLR_SimulationThreshold.txt','w')\n",
    "\n",
    "insGeneGODict = {}\n",
    "#Set-up inputs\n",
    "nameDict = get_full_BLASTGO_category_names()\n",
    "enDict = make_ens_transcript_map_dict()\n",
    "hpoDict = get_humanphenotypes()\n",
    "xpclrGeneDict = make_xpclr_gene_dict()\n",
    "\n",
    "#Now begin processing\n",
    "#outputs = ['1Window_FinalXP-CLR_50KbWindowIntersect_SimulationThreshold_EnrichmentTable_Pvalue=0.05_BP_TopGOOutput_ParentChild_Genes.txt','1Window_FinalXP-CLR_50KbWindowIntersect_SimulationThreshold_EnrichmentTable_Pvalue=0.05_MF_TopGOOutput_ParentChild_Genes.txt','1Window_FinalXP-CLR_50KbWindowIntersect_SimulationThreshold_EnrichmentTable_Pvalue=0.05_CC_TopGOOutput_ParentChild_Genes.txt']\n",
    "count=0\n",
    "GODone = []\n",
    "#for topGoGeneFile in outputs:\n",
    "topGoGeneFile = open(topGoDir + 'Merged_1Window_FinalXP-CLR_50KbWindowIntersect_SimulationThreshold_EnrichmentTable_Pvalue=0.05_TopGOOutput_ParentChild_Genes_BP_MF_CC.txt','r')\n",
    "for line in topGoGeneFile:\n",
    "    line=line.replace('\"','')\n",
    "    line=line.rstrip().split(' ')\n",
    "    if 'GO:' not in line[0]: #skips headers\n",
    "        continue\n",
    "    GOID = line[0]\n",
    "    geneLists = line[1]\n",
    "    genes = geneLists.split(',')\n",
    "\n",
    "    ###PERMUTATION DATA\n",
    "    #Get how many observed in permutations\n",
    "    if GOID not in permGODict.keys():\n",
    "        obsPerm = 0\n",
    "    else:\n",
    "        obsPerm = len(permGODict[GOID])\n",
    "    #IF LESS THAN 50 then you are significantly depleted in permuted dataset\n",
    "    if obsPerm >= 50:\n",
    "        #WE DONT WANT THESE SO CONTINUE ON\n",
    "        continue\n",
    "\n",
    "    #get the info for the category\n",
    "    if GOID not in topGODict.keys() or GOID in GODone:\n",
    "        continue\n",
    "    GODone.append(GOID)\n",
    "    topGOInfo = topGODict[GOID]\n",
    "\n",
    "    #get full name of GO category\n",
    "    if GOID in nameDict.keys(): \n",
    "        topGOInfo[2] = nameDict[GOID]\n",
    "    genomeCount, setCount, pvalue1,pvalue2 =  topGOInfo[3],topGOInfo[4],float(topGOInfo[8]),float(topGOInfo[9])\n",
    "    for i in range(0,len(topGOInfo)):\n",
    "        annotationFile.write('%s\\t' % topGOInfo[i])\n",
    "    #What genes are annotated for this GO category\n",
    "    ensGList, insList, geneNames, count = [], [], [], 0\n",
    "    uniqueInsertionList = [] #Clear to keep track of how many unique insertions are found for this category\n",
    "    for gene in genes:\n",
    "        ensG,engP = gene.split('|')[0],gene.split('|')[1]\n",
    "        ensGList.append(ensG)\n",
    "        #print(ensG)\n",
    "        #What insertions do these correspond to\n",
    "        insertion = xpclrGeneDict[ensG]\n",
    "        insList.append(insertion)\n",
    "        geneName = TotEnsGene[ensG][5]\n",
    "        geneNames.append(geneName)\n",
    "        if insertion not in uniqueInsertionList:\n",
    "            uniqueInsertionList.append(insertion)\n",
    "    y = \", \".join(map(str, ensGList))\n",
    "    annotationFile.write('%s\\t' % (y))\n",
    "    y = \", \".join(map(str, geneNames))\n",
    "    annotationFile.write('%s\\t' % (y))\n",
    "    y = \", \".join(map(str, insList))\n",
    "    annotationFile.write('%s\\t' % (y))\n",
    "    #Number of Unique insertions\n",
    "    annotationFile.write('%i\\t' % (len(uniqueInsertionList)))\n",
    "    annotationFile.write('%i\\n' % (obsPerm))\n",
    "    #break\n",
    "annotationFile.close()"
   ]
  },
  {
   "cell_type": "code",
   "execution_count": null,
   "metadata": {},
   "outputs": [],
   "source": [
    "topgoDir = '/home/ampend/links/kidd-lab/ampend-projects/Angela/XP-CLR/results/Campbell_No-MAF-Filter/50kbWindow_2kbGrid/Dogs_v_Wolves/SignificantWindows/TopGO/'\n",
    "inFile = topgoDir + 'PERMUTEDp05_1Window_AnnotatedTopGO_EnrichedGenes_50kb_FinalXP-CLR_SimulationThreshold.txt'\n",
    "\n",
    "goArray,nonsingleGoArray = [],[]\n",
    "\n",
    "for line in open(inFile,'r'):\n",
    "    line=line.rstrip().split('\\t')\n",
    "    if 'GO.ID' in line[0]:\n",
    "        continue\n",
    "\n",
    "    GO,desc,p = line[1],line[2],float(line[10])\n",
    "    log_p = np.log2(p) * -1\n",
    "    goArray.append([desc,log_p])\n",
    "    colCount = len(line)\n",
    "    if int(line[colCount-2]) > 1:\n",
    "        nonsingleGoArray.append([desc,log_p])\n",
    "print('%i filtered GO categories to plot' % len(goArray))\n",
    "print('%i filtered GO categories to plot that are non-singletons (>1 XP-CLR locus)' % len(nonsingleGoArray))\n",
    "\n"
   ]
  },
  {
   "cell_type": "code",
   "execution_count": null,
   "metadata": {},
   "outputs": [],
   "source": [
    "GOdf = pd.DataFrame(goArray)\n",
    "GOdf.columns = ['GO Description', 'log2p']\n",
    "sort_GOdf = GOdf.sort_values(by=['log2p'],ascending=False)\n",
    "sort_GOdf.index = sort_GOdf['GO Description']\n",
    "\n",
    "##NON SINGLETONS\n",
    "df = pd.DataFrame(nonsingleGoArray)\n",
    "df.columns = ['GO Description', 'log2p']\n",
    "sort_GOdf_nonsingle = df.sort_values(by=['log2p'],ascending=False)\n",
    "sort_GOdf_nonsingle.index = sort_GOdf_nonsingle['GO Description']\n"
   ]
  },
  {
   "cell_type": "code",
   "execution_count": null,
   "metadata": {},
   "outputs": [],
   "source": [
    "#ax = sort_GOdf['log2p'][0:35].plot.barh(x=sort_GOdf['log2p'], y=sort_GOdf['GO Description'],stacked=False,figsize=(18,12),color='seagreen',fontsize=17)\n",
    "fig = plt.figure(figsize=(10, 14)) #Set up subplots for below distributions\n",
    "ax = fig.add_subplot(111)\n",
    "ax = sort_GOdf_nonsingle['log2p'][0:49].plot.barh(x=sort_GOdf_nonsingle['log2p'], y=sort_GOdf_nonsingle['GO Description'],stacked=False,figsize=(18,12),color='seagreen',fontsize=17)\n",
    "ax.set_xlabel(\"-log2(P)\",fontweight=\"bold\",fontsize=16)\n",
    "ax.set_ylabel(\"GO Description\",fontweight=\"bold\",fontsize=16)\n",
    "plt.tight_layout()\n",
    "plt.savefig(topgoDir + 'TopCategories_log2Pvalue_Plot.pdf', dpi = 300,transparent=True)\n"
   ]
  },
  {
   "cell_type": "code",
   "execution_count": null,
   "metadata": {},
   "outputs": [],
   "source": [
    "sort_GOdf[0:1]"
   ]
  },
  {
   "cell_type": "code",
   "execution_count": null,
   "metadata": {},
   "outputs": [],
   "source": [
    "##############################################################################\n",
    "\n",
    "##############################################################################"
   ]
  },
  {
   "cell_type": "code",
   "execution_count": null,
   "metadata": {},
   "outputs": [],
   "source": []
  },
  {
   "cell_type": "code",
   "execution_count": null,
   "metadata": {},
   "outputs": [],
   "source": []
  },
  {
   "cell_type": "code",
   "execution_count": null,
   "metadata": {},
   "outputs": [],
   "source": []
  },
  {
   "cell_type": "code",
   "execution_count": null,
   "metadata": {},
   "outputs": [],
   "source": []
  },
  {
   "cell_type": "code",
   "execution_count": null,
   "metadata": {},
   "outputs": [],
   "source": []
  },
  {
   "cell_type": "code",
   "execution_count": null,
   "metadata": {},
   "outputs": [],
   "source": []
  },
  {
   "cell_type": "code",
   "execution_count": null,
   "metadata": {},
   "outputs": [],
   "source": []
  },
  {
   "cell_type": "code",
   "execution_count": null,
   "metadata": {},
   "outputs": [],
   "source": []
  },
  {
   "cell_type": "markdown",
   "metadata": {},
   "source": [
    "# FST"
   ]
  },
  {
   "cell_type": "code",
   "execution_count": null,
   "metadata": {},
   "outputs": [],
   "source": [
    "#Write all xpclr sweeps to a output bedfile to be shuffled below\n",
    "outDir = '/home/ampend/links/kidd-lab/ampend-projects/Angela/XP-CLR/results/Campbell_No-MAF-Filter/50kbWindow_2kbGrid/Dogs_v_Wolves/SignificantWindows/'\n",
    "# OLD - NO HP FILTRATION === xpclrBedFile = outDir + '1Window_FinalXP-CLR_Windows.4.bed'\n",
    "fstBedFile = '/home/ampend/links/kidd-lab/ampend-projects/Angela/Re-RunningAnalysis_NewScripts/FINAL_results/MergedOverlapping_HpandDeltaHpFiltered_Sliding_TotalSIGFstCalls_AutoXPar_54callset.bed'\n",
    "canFamGenome = '/home/ampend/links/kidd-lab/ampend-projects/cfERVs/GenePermutations/input/Cf3_AutosomesOnly.genome'\n",
    "#gapBed = '/home/ampend/links/kidd-lab/ampend-projects/cfERVs/GenePermutations/input/CF3_gaps.bed'\n",
    "\n",
    "for line in open(fstBedFile,'r'): #Determine what column intersect hits would be in\n",
    "    linelength=len(line.rstrip().split())\n",
    "    break\n",
    "\n",
    "#Do 1000 bedtools shuffles WITHOUT regard to gaps\n",
    "windowHitCounts, geneHitCounts  = [], []\n",
    "total_geneLengths, perm_averageGeneLengths = [], []\n",
    "for i in range(0,1000):\n",
    "    #Shuffle the coordinates\n",
    "    shuffledFile = '/home/ampend/links/kidd-lab/ampend-projects/Angela/Re-RunningAnalysis_NewScripts/FINAL_results/permutations/shuffle_%i.txt' % (i)\n",
    "    cmd = 'bedtools shuffle -i %s -g %s > %s' % (fstBedFile,canFamGenome, shuffledFile)\n",
    "    runCMD(cmd)\n",
    "    \n",
    "    #Intersect with Ensembl gene models\n",
    "    windowSize = int(50000)\n",
    "    genebedfile = '/home/ampend/links/kidd-lab/ampend-projects/BLAST2GO/results/BLAST2GO_Ensembl81_GeneTables_WithEnscafIDsAndChrom.bed'\n",
    "    outFile = '/home/ampend/links/kidd-lab/ampend-projects/Angela/Re-RunningAnalysis_NewScripts/FINAL_results/permutations/intersect_ensembl_50kb_%i.txt' % (i)\n",
    "    do_window_intersects(shuffledFile,genebedfile,int(windowSize),outFile)\n",
    "    \n",
    "    #Parse the intersect file with Ensembl genes from above\n",
    "    ensGDict = {}\n",
    "    ensGDict,sigGenes,geneLengths = parse_shuffle_intersect(ensGDict,outFile,linelength)\n",
    "    \n",
    "    ##Write the B2GO IDs to an output file for subsequent TopGO enrichments\n",
    "    topGOGeneFile = open('/home/ampend/links/kidd-lab/ampend-projects/Angela/Re-RunningAnalysis_NewScripts/FINAL_results/permutations/ensemblGeneIDs_50kb_%i.txt' % i,'w')\n",
    "    for g in sigGenes:\n",
    "        topGOGeneFile.write('%s\\n' % g)\n",
    "    topGOGeneFile.close()\n",
    "    \n",
    "    ##Keeping track of gene lengths and how many windows have genes\n",
    "    windowHitCounts.append(len(ensGDict.keys())) #How many sweeps intersect with at least one gene\n",
    "    geneHitCounts.append(len(sigGenes)) #How many genes are within 50kb\n",
    "    for k in geneLengths:\n",
    "        total_geneLengths.append(k)\n",
    "    perm_averageGeneLengths.append(np.mean(geneLengths))\n",
    "    #break"
   ]
  },
  {
   "cell_type": "code",
   "execution_count": null,
   "metadata": {},
   "outputs": [],
   "source": [
    "#Defining the paths to necessary files for the topGO scripts\n",
    "topgoDir = '/home/ampend/links/kidd-lab/ampend-projects/Angela/Re-RunningAnalysis_NewScripts/FINAL_results/topgo_permutations/'\n",
    "inputDir = topgoDir + 'input/'\n",
    "outDir = topgoDir + 'results/'\n",
    "\n",
    "geneIDTotalFile = '/home/ampend/links/kidd-lab/ampend-projects/Angela/XP-CLR/topgo_permutations/input/Input_TOPGO_17860AnnotatedGenes.txt'\n",
    "\n"
   ]
  },
  {
   "cell_type": "code",
   "execution_count": null,
   "metadata": {},
   "outputs": [],
   "source": [
    "categories = ['BP','CC','MF']\n",
    "\n",
    "for perm in range(0,1000):\n",
    "    topGoScript = open(topgoDir + 'scripts/' + 'topgo_permutation_%i.R' % perm, 'w')\n",
    "    inputGeneFile = '/home/ampend/links/kidd-lab/ampend-projects/Angela/XP-CLR/permutations/ensemblGeneIDs_50kb_%i.txt' % perm\n",
    "\n",
    "    \n",
    "    topGoScript.write('#1. Initiating topGO\\n')\n",
    "    topGoScript.write('library(\"topGO\")\\n\\n')\n",
    "    \n",
    "    topGoScript.write('#2. Reading in the .annot file in proper format for TopGO that I generated.\\n')\n",
    "    topGoScript.write('#This contains the information for 17,860 annotated genes from BLAST2GO\\n')\n",
    "    topGoScript.write('geneID2GO <- readMappings(file = \"%s\")\\n' % geneIDTotalFile)  \n",
    "    topGoScript.write('geneUniverse <- names(geneID2GO)\\n\\n')\n",
    "\n",
    "    topGoScript.write('#3. Read in a list of interesting genes from a file\\n')\n",
    "    topGoScript.write('#File format = list of gene IDs, one per line\\n')\n",
    "    topGoScript.write('genesOfInterest <- read.table(\"%s\",header=FALSE)\\n' % inputGeneFile)\n",
    "    topGoScript.write('genesOfInterest <- as.character(genesOfInterest$V1)\\n')\n",
    "    topGoScript.write('geneList <- factor(as.integer(geneUniverse %in% genesOfInterest))\\n')\n",
    "    topGoScript.write('names(geneList) <- geneUniverse\\n\\n')\n",
    "\n",
    "    for category in categories:\n",
    "        topGoScript.write('##CATEGORY %s\\n' % category)\n",
    "        topGoScript.write('#4. build the GOdata object in topGO\\n')\n",
    "        topGoScript.write('myGOdata <- new(\"topGOdata\", description=\"1Window_Final_XP-CLR\", ontology=\"%s\", allGenes=geneList,  annot = annFUN.gene2GO, gene2GO = geneID2GO)\\n\\n' % category)\n",
    "\n",
    "        topGoScript.write('#5. run the Fisher\\'s exact tests in different ways...\\n')\n",
    "        topGoScript.write('resultClassic <- runTest(myGOdata, algorithm=\"classic\", statistic=\"fisher\")\\n')\n",
    "        topGoScript.write('resultElim <- runTest(myGOdata, algorithm=\"elim\", statistic=\"fisher\")\\n')\n",
    "        topGoScript.write('resultTopgo <- runTest(myGOdata, algorithm=\"weight01\", statistic=\"fisher\")\\n')\n",
    "        topGoScript.write('resultParentchild <- runTest(myGOdata, algorithm=\"parentchild\", statistic=\"fisher\")\\n\\n')\n",
    "    \n",
    "        topGoScript.write('#6b. See how many results we get where weight01 gives a P-value <= 0.05:\\n')\n",
    "        topGoScript.write('#Parent-Child\\n')\n",
    "        topGoScript.write('#AT 0.05\\n')\n",
    "        topGoScript.write('mysummary <- summary(attributes(resultParentchild)$score <= 0.05)\\n')\n",
    "        topGoScript.write('numsignif <- as.integer(mysummary[[3]]) # how many terms is it true that P <= 0.05\\n')\n",
    "        topGoScript.write('#Putting together those that were sig\\n')\n",
    "        topGoScript.write('allRes <- GenTable(myGOdata, classicFisher = resultClassic, elimFisher = resultElim, topgoFisher = resultTopgo, parentchildFisher = resultParentchild, orderBy = \"parentchildFisher\", ranksOf = \"classicFisher\", topNodes = numsignif)\\n\\n')\n",
    "        \n",
    "        outputFile = outDir + 'TopGO_ParentChild_%s_p05_%i.txt' % (category,perm)                  \n",
    "        topGoScript.write('output_file05 = \\'%s\\' \\n' % outputFile)\n",
    "        topGoScript.write('write.table(x = allRes, file = output_file05, quote=FALSE, sep = \"\\t\")\\n\\n')\n",
    "\n",
    "        topGoScript.write('#8b. Print out the genes that are annotated with the significantly enriched GO terms:\\n')\n",
    "        topGoScript.write('myterms <- allRes$GO.ID\\n')\n",
    "        topGoScript.write('mygenes <- genesInTerm(myGOdata, myterms)\\n')\n",
    "        outputFile2 = outDir + 'TopGO_ParentChild_%s_p05_%i_genes.txt' % (category,perm)                  \n",
    "        topGoScript.write('output_file05_2 = \\'%s\\' \\n\\n' % outputFile2)\n",
    "\n",
    "        topGoScript.write('for (i in 1:length(myterms))\\n')\n",
    "        topGoScript.write('{\\n')\n",
    "        topGoScript.write('\\tmyterm <- myterms[i]\\n')\n",
    "        topGoScript.write('\\tmygenesforterm <- mygenes[myterm][[1]]\\n')\n",
    "        topGoScript.write('\\tmyfactor <- mygenesforterm %in% genesOfInterest # find the genes that are in the list of genes of interest\\n')\n",
    "        topGoScript.write('\\tmygenesforterm2 <- mygenesforterm[myfactor == TRUE] \\n')\n",
    "        topGoScript.write('\\tmygenesforterm2 <- paste(mygenesforterm2, collapse=\\',\\')\\n')\n",
    "        topGoScript.write('\\tprint(paste(myterm,mygenesforterm2))\\n')\n",
    "        topGoScript.write('\\tnewline = paste(myterm,mygenesforterm2)\\n')\n",
    "        topGoScript.write('\\twrite.table(newline, file = output_file05_2, row.names =    FALSE, append = TRUE, col.names = FALSE)\\n')\n",
    "        topGoScript.write('}\\n\\n')\n",
    "        \n",
    "        \n",
    "        \n",
    "    topGoScript.close()\n",
    "\n",
    "    "
   ]
  },
  {
   "cell_type": "code",
   "execution_count": null,
   "metadata": {},
   "outputs": [],
   "source": [
    "cmdsFile = open(topgoDir + 'scripts/' + 'topGo.cmds', 'w')\n",
    "for perm in range(0,1000):\n",
    "    cmdsFile.write('Rscript %sscripts/topgo_permutation_%i.R\\n' % (topgoDir, perm))\n",
    "cmdsFile.close()"
   ]
  },
  {
   "cell_type": "code",
   "execution_count": null,
   "metadata": {},
   "outputs": [],
   "source": [
    "#Saving permutatino results to dictionary to compare with real results"
   ]
  },
  {
   "cell_type": "code",
   "execution_count": null,
   "metadata": {},
   "outputs": [],
   "source": [
    "permGODict = {}\n",
    "\n",
    "perms = []\n",
    "\n",
    "for perm in range(0,1000):\n",
    "    perms.append(perm)\n",
    "    \n",
    "    #make merged outfile\n",
    "    outFile = open(outDir + 'Total_TopGO_ParentChild_p05_%i.txt' % (perm), 'w')\n",
    "    #for perm in perms:#range(0,3):\n",
    "    for category in categories:\n",
    "        infile = outDir + 'TopGO_ParentChild_%s_p05_%i.txt' % (category, perm)\n",
    "        for line in open(infile,'r'):\n",
    "            line=line.rstrip()\n",
    "            if 'GO.ID' in line and 'BP' not in category:\n",
    "                continue\n",
    "            outFile.write(line + '\\n')\n",
    "            \n",
    "            line=line.split('\\t')\n",
    "            if 'GO.ID' in line[0]: #now skip header\n",
    "                continue\n",
    "\n",
    "            GOcat = line[1]\n",
    "            if GOcat not in permGODict.keys():\n",
    "                permGODict[GOcat] = []\n",
    "            permGODict[GOcat].append(perm)          \n",
    "    outFile.close()\n",
    "print('%i permutations added for processing' % len(perms))"
   ]
  }
 ],
 "metadata": {
  "kernelspec": {
   "display_name": "Python 3",
   "language": "python",
   "name": "python3"
  },
  "language_info": {
   "codemirror_mode": {
    "name": "ipython",
    "version": 3
   },
   "file_extension": ".py",
   "mimetype": "text/x-python",
   "name": "python",
   "nbconvert_exporter": "python",
   "pygments_lexer": "ipython3",
   "version": "3.5.4"
  }
 },
 "nbformat": 4,
 "nbformat_minor": 2
}
