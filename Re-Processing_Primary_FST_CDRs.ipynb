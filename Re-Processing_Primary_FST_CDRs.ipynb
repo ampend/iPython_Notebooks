{
 "cells": [
  {
   "cell_type": "markdown",
   "metadata": {},
   "source": [
    "# 2017-10-18\n",
    "# A. Pendleton\n",
    "# Re-processing the first round of FST CDRs using the Total SNP Set. "
   ]
  },
  {
   "cell_type": "code",
   "execution_count": 1,
   "metadata": {
    "collapsed": true
   },
   "outputs": [],
   "source": [
    "#this uses iPython magic to make plots appear inline\n",
    "%matplotlib inline\n",
    "import matplotlib.pyplot as plt\n",
    "import pandas as pd\n",
    "import subprocess\n",
    "import sys\n",
    "import numpy as np\n",
    "import matplotlib.patches as patches\n",
    "import gzip\n",
    "import fileinput\n",
    "import glob\n",
    "from scipy import stats\n",
    "import re\n",
    "from matplotlib_venn import venn3, venn3_circles\n",
    "\n",
    "def count_lines(f):\n",
    "    lineCount = 0\n",
    "    with open(f, 'r') as f:\n",
    "        for line in f:\n",
    "            lineCount += 1\n",
    "        return lineCount\n",
    "def runCMD(cmd):\n",
    "    val = subprocess.Popen(cmd, shell=True).wait()\n",
    "    if val == 0:\n",
    "        pass\n",
    "    else:\n",
    "        print ('command failed')\n",
    "        print (cmd)\n",
    "        sys.exit(1)"
   ]
  },
  {
   "cell_type": "code",
   "execution_count": 3,
   "metadata": {
    "collapsed": true
   },
   "outputs": [],
   "source": [
    "chromToDo = []\n",
    "for num in range(1,39):\n",
    "    chr = 'chr' + str(num)\n",
    "    chromToDo.append(chr)\n",
    "chromToDo.append('chrX')"
   ]
  },
  {
   "cell_type": "code",
   "execution_count": 4,
   "metadata": {
    "collapsed": true
   },
   "outputs": [],
   "source": [
    "inDir = '/home/ampend/links/kidd-lab/ampend-projects/Angela/Re-RunningAnalysis_NewScripts/ReProcessing_PrimaryCDRs_AxelssonMethods/'"
   ]
  },
  {
   "cell_type": "code",
   "execution_count": 13,
   "metadata": {},
   "outputs": [],
   "source": [
    "#Write bedfile for subsequent intersections \n",
    "fstFile = inDir + 'input/' + 'AutoXParXNonPar_Sliding_TotalSIGFstCalls_54callset_mxbRemoved_GeneTable.txt'\n",
    "bedFile = open(inDir + 'input/' + 'AutoXParXNonPar_Sliding_TotalSIGFstCalls_54callset_mxbRemoved.bed', 'w')\n",
    "\n",
    "for line in open(fstFile, 'r'):\n",
    "    if 'Chrom' in line: #skips header\n",
    "        continue\n",
    "    line=line.rstrip().split('\\t')\n",
    "    chrom,start,end,ID,AverageROA, AverageZ = line[0], int(line[1])-1, int(line[2]), line[3], float(line[7]), float(line[9])\n",
    "    bedFile.write('%s\\t%i\\t%i\\t%s\\t%f\\t%f\\n' % (chrom,start,end,ID, AverageROA, AverageZ))\n",
    "bedFile.close()"
   ]
  },
  {
   "cell_type": "markdown",
   "metadata": {},
   "source": [
    "########################################################################################"
   ]
  },
  {
   "cell_type": "code",
   "execution_count": 17,
   "metadata": {
    "collapsed": true
   },
   "outputs": [],
   "source": [
    "def do_intersects(a, b, outfile):\n",
    "    cmd = 'bedtools intersect -wo -a %s -b %s > %s' % (a, b, outfile)\n",
    "    #print(cmd)\n",
    "    runCMD(cmd)\n",
    "    Dict = process_intersect(outfile)\n",
    "    return Dict\n",
    "def process_intersect(outfile):\n",
    "    Dict={}\n",
    "    for line in open(outfile,'r'):\n",
    "        line=line.rstrip().split()\n",
    "        chrom,start,end,ID = line[0:4]\n",
    "        hitID = line[9]\n",
    "        if ID in Dict.keys():\n",
    "            Dict[ID].append(hitID)\n",
    "        else:\n",
    "            Dict[ID] = []\n",
    "            Dict[ID].append(hitID)\n",
    "    return Dict\n",
    "def gene_intersects(a,b,intersectfile):\n",
    "    #cmd = 'bedtools intersect -wo -a %s -b %s > %s' % (a, b, outfile)\n",
    "    cmd = 'bedtools window -w 50000 -a %s -b %s > %s' % (a, b, outfile)\n",
    "    runCMD(cmd)\n",
    "    \n",
    "    b2goDir = '/home/ampend/links/kidd-lab/ampend-projects/Angela/Re-RunningAnalysis_NewScripts/new_results/results/BLAST2GO/'\n",
    "    # going through Ensembl bedtool intersect results file\n",
    "    ensGDict = {} #ensGDict[windowID] = [gene1,gene2,gene3...]\n",
    "    ensID = ''\n",
    "    sigGenes = [] #To keep track of all gene IDs (ENSCAFG) that are in sig windows\n",
    "\n",
    "    for line in open(intersectfile,'r'):\n",
    "        line = line.rstrip().split('\\t')\n",
    "        winID = line[3]\n",
    "        hit = line[9].split('_')\n",
    "        Protein = hit[0]\n",
    "        Gene = hit[1]\n",
    "        b2goID = Gene + '|' + Protein\n",
    "        ensGID = hit[2]\n",
    "        if winID in ensGDict:\n",
    "            ensGDict[winID].append(ensGID)\n",
    "        else:\n",
    "            ensGDict[winID] = []\n",
    "            ensGDict[winID].append(ensGID) \n",
    "            sigGenes.append(b2goID)\n",
    "    return ensGDict"
   ]
  },
  {
   "cell_type": "code",
   "execution_count": 19,
   "metadata": {},
   "outputs": [],
   "source": [
    "resultsDir = inDir + 'results/'\n",
    "#Our merged CDRs\n",
    "cdrfile = inDir + 'input/' + 'AutoXParXNonPar_Sliding_TotalSIGFstCalls_54callset_mxbRemoved.bed'\n",
    "\n",
    "#Get ensembl gene intersects -- save to Dict\n",
    "genebedfile = '/home/ampend/links/kidd-lab/ampend-projects/BLAST2GO/results/BLAST2GO_Ensembl81_GeneTables_WithEnscafIDsAndChrom.bed'\n",
    "outfile = resultsDir + 'Intersect_PrimaryCDRs_with_EnsemblGenes_50kbIntersectWindow.txt'\n",
    "ensGDict = gene_intersects(cdrfile, genebedfile, outfile)\n",
    "#Get Axelsson loci intersects -- save to Dict\n",
    "axelssonBedFile = '/home/ampend/links/kidd-lab/ampend-projects/Angela/Re-RunningAnalysis_NewScripts/new_results/results/Axelsson_CaganBlass/input/Axelsson_canfam3.1.bed'\n",
    "outfile = resultsDir + 'Intersect_PrimaryCDRs_with_AxelssonLoci.txt'\n",
    "axDict = do_intersects(cdrfile, axelssonBedFile, outfile)\n",
    "#Get CaganBlass loci intersects -- save to Dict\n",
    "caganBlassBedFile = '/home/ampend/links/kidd-lab/ampend-projects/Angela/Re-RunningAnalysis_NewScripts/new_results/results/Axelsson_CaganBlass/input/CaganBlass_canfam3.1.bed '\n",
    "outfile = resultsDir + 'Intersect_PrimaryCDRs_with_CaganBlassLoci.txt'\n",
    "cbDict = do_intersects(cdrfile, caganBlassBedFile, outfile)"
   ]
  },
  {
   "cell_type": "code",
   "execution_count": 20,
   "metadata": {},
   "outputs": [
    {
     "name": "stdout",
     "output_type": "stream",
     "text": [
      "chr1\t2350000\t3250000\tCDR_1\t900001\tchr1:2350000-3250000\t0.564374\t5.992389\tGALR1, MBP, ZNF236\tAX_1\tCB_1, CB_2\n",
      "chr1\t79800000\t80150000\tCDR_2\t350001\tchr1:79800000-80150000\t0.557803\t5.897154\tENSCAFG00000030357\tAX_4\t\n",
      "chr3\t18800000\t19050000\tCDR_3\t250001\tchr3:18800000-19050000\t0.514167\t5.264731\t\tAX_7\t\n",
      "chr4\t40800000\t41000000\tCDR_4\t200001\tchr4:40800000-41000000\t0.512679\t5.243158\tTLX3, ENSCAFG00000016912, RANBP17\tAX_10\t\n",
      "chr5\t3850000\t4250000\tCDR_5\t400001\tchr5:3850000-4250000\t0.539992\t5.639010\tSNX19\t\t\n",
      "chr6\t39900000\t40100000\tCDR_6\t200001\tchr6:39900000-40100000\t0.523042\t5.393353\tHAGHL, CCDC78, NARFL, METRN, WDR24, FBXL16, RHBDL1, RHOT2, FAM195A, WFIKKN1, PRR35, NHLRC4, CAPN15, ENSCAFG00000032180, ENSCAFG00000019677, DECR2, MRPL28, C16orf13, WDR90, JMJD8, STUB1, RAB11FIP3, TMEM8A, PIGQ\t\t\n",
      "chr6\t40350000\t40600000\tCDR_7\t250001\tchr6:40350000-40600000\t0.515529\t5.284464\tENSCAFG00000032615, ENSCAFG00000031055, HBM, ENSCAFG00000029904, ENSCAFG00000028569, ENSCAFG00000024468, ENSCAFG00000028465, MPG, SNRNP25, ENSCAFG00000029241, ENSCAFG00000019731, LUC7L, POLR3K, RHBDF1, IL9R, ENSCAFG00000019721, ATP5F1, ENSCAFG00000024344, ENSCAFG00000013709, NPRL3\t\t\n",
      "chr6\t46800000\t47350000\tCDR_8\t550001\tchr6:46800000-47350000\t0.680376\t7.673663\tENSCAFG00000028653, RNPC3\tAX_12\tCB_3\n",
      "chr7\t5000000\t5300000\tCDR_9\t300001\tchr7:5000000-5300000\t0.526645\t5.445568\tCRB1, DENND1B\t\t\n",
      "chr9\t8950000\t9250000\tCDR_10\t300001\tchr9:8950000-9250000\t0.510451\t5.210867\tEFCAB13, ENSCAFG00000015160, MYL4, ENSCAFG00000013735, CDC27\t\t\n",
      "chr9\t12600000\t12800000\tCDR_11\t200001\tchr9:12600000-12800000\t0.496470\t5.008234\tC17orf58, ENSCAFG00000011598, BPTF, NOL11\t\t\n",
      "chr9\t13150000\t13450000\tCDR_12\t300001\tchr9:13150000-13450000\t0.508103\t5.176841\tENSCAFG00000011435, PSMD12, CACNG1, HELZ\t\t\n",
      "chr9\t13650000\t14000000\tCDR_13\t350001\tchr9:13650000-14000000\t0.536129\t5.583032\tPRKCA\t\t\n",
      "chr9\t14150000\t14650000\tCDR_14\t500001\tchr9:14150000-14650000\t0.556040\t5.871604\tAXIN2, ENSCAFG00000029256, ENSCAFG00000025074\t\t\n",
      "chr11\t52700000\t52900000\tCDR_15\t200001\tchr11:52700000-52900000\t0.501851\t5.086223\tCLTA, RNF38, GNE\t\t\n",
      "chr13\t3650000\t3950000\tCDR_16\t300001\tchr13:3650000-3950000\t0.512699\t5.243448\tENSCAFG00000025578, RRM2B, UBR5\t\t\n",
      "chr14\t7250000\t7550000\tCDR_17\t300001\tchr14:7250000-7550000\t0.532078\t5.524320\tENSCAFG00000001530, TSPAN33, SMO, NRF1, AHCYL2, STRIP2\tAX_20\t\n",
      "chr16\t7050000\t7400000\tCDR_18\t350001\tchr16:7050000-7400000\t0.643444\t7.138391\tPRSS58, ENSCAFG00000003827, ENSCAFG00000029181, ENSCAFG00000030973, TAS2R38, CLEC5A, ENSCAFG00000003655, ENSCAFG00000003876, TAS2R5, TAS2R3, ENSCAFG00000030631, MGAM2, MGAM, ENSCAFG00000003879, PRSS37\tAX_23\tCB_4\n",
      "chr16\t39750000\t40050000\tCDR_19\t300001\tchr16:39750000-40050000\t0.546008\t5.726213\tENSCAFG00000031006\t\t\n",
      "chr18\t350000\t600000\tCDR_20\t250001\tchr18:350000-600000\t0.517092\t5.307110\tABCA13\tAX_25\tCB_5\n",
      "chr18\t600000\t1100000\tCDR_21\t500001\tchr18:600000-1100000\t0.658174\t7.351881\tENSCAFG00000024474\tAX_25\tCB_5\n",
      "chr18\t1450000\t1800000\tCDR_22\t350001\tchr18:1450000-1800000\t0.558092\t5.901347\tENSCAFG00000003358, FIGNL1, ENSCAFG00000029400, ZPBP, IKZF1, DDC\t\t\n",
      "chr18\t3100000\t3750000\tCDR_23\t650001\tchr18:3100000-3750000\t0.615295\t6.730412\t\tAX_26\t\n",
      "chr26\t12800000\t13050000\tCDR_24\t250001\tchr26:12800000-13050000\t0.502656\t5.097883\tMED13L\t\t\n",
      "chr31\t200000\t400000\tCDR_25\t200001\tchr31:200000-400000\t0.528350\t5.470284\tCGGBP1, HTR1F, ZNF654\t\t\n",
      "chrX\t42850000\t43100000\tCDR_X1\t250001\tchrX:42850000-43100000\t0.639334\t3.085115\tENSCAFG00000016002, AKAP4, CLCN5, DGKK, CCNB3\tAX_37\t\n",
      "chrX\t65900000\t66150000\tCDR_X2\t250001\tchrX:65900000-66150000\t0.643834\t3.118435\tENSCAFG00000017391, SATL1, APOOL\t\tCB_6\n",
      "chrX\t75750000\t76300000\tCDR_X3\t550001\tchrX:75750000-76300000\t0.709142\t3.601950\tENSCAFG00000017731, BEX5, ENSCAFG00000031569, TCP11X2, ENSCAFG00000030854, ARMCX5, ZMAT1, GPRASP1, ENSCAFG00000028462\t\t\n",
      "chrX\t105500000\t105800000\tCDR_X4\t300001\tchrX:105500000-105800000\t0.677584\t3.368307\tENSCAFG00000018903, ENSCAFG00000032662, ENSCAFG00000030443, ENSCAFG00000030660, ENSCAFG00000031692, ENSCAFG00000032298, FAM122C, ZNF75D, MOSPD1\t\tCB_13\n",
      "chrX\t107800000\t109700000\tCDR_X5\t1900001\tchrX:107800000-109700000\t0.812281\t4.365555\tENSCAFG00000030333, ZIC3, ENSCAFG00000018988, F9, FGF13, MCF2, ATP11C\tAX_40, AX_41, AX_39\tCB_16, CB_18, CB_15, CB_17\n",
      "chrX\t109700000\t110050000\tCDR_X6\t350001\tchrX:109700000-110050000\t0.670888\t3.318733\tCXorf66, ENSCAFG00000019025, ATP11C\t\tCB_18\n"
     ]
    }
   ],
   "source": [
    "cdrFile = open(cdrfile, 'r')\n",
    "cdrCount = 0\n",
    "allDict = {}\n",
    "\n",
    "for line in cdrFile:\n",
    "    if 'Chrom' in line:\n",
    "        continue\n",
    "    line=line.rstrip().split('\\t')\n",
    "    cdrCount += 1\n",
    "    chrom, start_pos, end_pos, WinID, Fst,Z = line[0:6]\n",
    "    winLength = int(end_pos) - int(start_pos) + 1\n",
    "    winCoord = chrom + \":\" + str(start_pos) + \"-\" + str(end_pos)\n",
    "    #Open up dictionary for WinID\n",
    "    #0=chr, 1=start_pos, 2=end_pos, 3=WinID, 4=Window length, 5=WindowCoordinates(forUCSC)\n",
    "    #6=RofA_WindowAverage_Fst #7 = Average_Z_Score_For_MergedWindow\n",
    "    #8=Intersects with Ensembl Gene IDs (default = False)\n",
    "    #9=Intersects with Axelsson Loci (default = False)\n",
    "    #10=Intersects with Cagan/Blass Loci (default = False)\n",
    "    allDict[WinID] = [chrom,start_pos,end_pos,WinID,winLength,winCoord,Fst,Z,'','',''] #setting up empty dictionary\n",
    "    #Did this CDR intersect with a gene?\n",
    "    if WinID in ensGDict: #If this window is in the ensembl list you generated, then...:\n",
    "        y = \", \".join(map(str, ensGDict[WinID])) #This takes the list you generated from the Ensembl file and joins each entry in the list with a comma\n",
    "        allDict[WinID][8] = y #Now it adds 'y' you generated in the line above to your dictionary\n",
    "    #Did this CDR intersect with a gene?\n",
    "    if WinID in axDict: #If this window is in the ensembl list you generated, then...:\n",
    "        y = \", \".join(map(str, axDict[WinID])) #This takes the list you generated from the Ensembl file and joins each entry in the list with a comma\n",
    "        allDict[WinID][9] = y #Now it adds 'y' you generated in the line above to your dictionary\n",
    "    #Did this CDR intersect with a gene?\n",
    "    if WinID in cbDict: #If this window is in the ensembl list you generated, then...:\n",
    "        y = \", \".join(map(str, cbDict[WinID])) #This takes the list you generated from the Ensembl file and joins each entry in the list with a comma\n",
    "        allDict[WinID][10] = y #Now it adds 'y' you generated in the line above to your dictionary\n",
    "    allDict[WinID][3] = WinID.replace('FST','CDR')  #now we can call them CDRs instead of FST\n",
    "    \n",
    "#Sorts a dictionary's alphanumeric keys\n",
    "def key_func(s):\n",
    "    return [int(x) if x.isdigit() else x for x in re.findall(r'\\D+|\\d+', s)]\n",
    "sorted_keys = sorted(allDict, key=key_func)\n",
    "\n",
    "outFile = open(resultsDir + 'SummaryTable_PrimaryCDRs_Genes_Axelsson_CaganBlass.txt','w')\n",
    "for key in sorted_keys: #Now loops through each \n",
    "    print (\"\\t\".join(map(str,allDict[key])))\n",
    "    outFile.write(\"\\t\".join(map(str,allDict[key])))\n",
    "    outFile.write(\"\\n\")\n",
    "outFile.close()"
   ]
  }
 ],
 "metadata": {
  "kernelspec": {
   "display_name": "Python 3",
   "language": "python",
   "name": "python3"
  },
  "language_info": {
   "codemirror_mode": {
    "name": "ipython",
    "version": 3
   },
   "file_extension": ".py",
   "mimetype": "text/x-python",
   "name": "python",
   "nbconvert_exporter": "python",
   "pygments_lexer": "ipython3",
   "version": "3.5.4"
  }
 },
 "nbformat": 4,
 "nbformat_minor": 2
}
