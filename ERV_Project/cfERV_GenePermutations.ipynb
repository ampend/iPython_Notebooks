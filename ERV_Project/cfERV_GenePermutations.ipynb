{
 "cells": [
  {
   "cell_type": "code",
   "execution_count": 22,
   "metadata": {},
   "outputs": [],
   "source": [
    "#this uses iPython magic to make plots appear inline\n",
    "%matplotlib inline\n",
    "import os\n",
    "import sys\n",
    "import numpy as np\n",
    "import subprocess\n",
    "import matplotlib.pyplot as plt\n",
    "import pandas as pd\n",
    "import matplotlib.patches as patches\n",
    "import glob\n",
    "\n",
    "\n",
    "def count_lines(f):\n",
    "    lineCount = 0\n",
    "    with open(f, 'r') as f:\n",
    "        for line in f:\n",
    "            lineCount += 1\n",
    "        return lineCount\n",
    "def runCMD(cmd):\n",
    "    val = subprocess.Popen(cmd, shell=True).wait()\n",
    "    if val == 0:\n",
    "        pass\n",
    "    else:\n",
    "        print ('command failed')\n",
    "        print (cmd)\n",
    "        sys.exit(1)"
   ]
  },
  {
   "cell_type": "code",
   "execution_count": 3,
   "metadata": {
    "collapsed": true
   },
   "outputs": [],
   "source": [
    "#Root directory and the bedfiles for the non-reference and reference insertions\n",
    "ervDir = '/home/ampend/links/kidd-lab/ampend-projects/cfERVs/'\n",
    "permutationDir = ervDir + 'GenePermutations/' \n",
    "ervFile = permutationDir + 'input/' + 'Total_cfERVInsertionSites_2017-06-29.bed'"
   ]
  },
  {
   "cell_type": "code",
   "execution_count": 4,
   "metadata": {
    "collapsed": true
   },
   "outputs": [],
   "source": [
    "gapBedFile = permutationDir + 'input/' + 'CF3_gaps.bed'\n",
    "genomeFile = permutationDir + 'input/' + 'Cf3_allchrom_withUn.genome'\n",
    "\n",
    "#Intersect new bedfile with genes with 0 and 50kb window sizes\n",
    "windowSizes = ['0','10000','50000']\n"
   ]
  },
  {
   "cell_type": "code",
   "execution_count": 5,
   "metadata": {
    "collapsed": true
   },
   "outputs": [],
   "source": [
    "########################################################################################\n",
    "def do_window_intersects(a,b,windowSize,outfile):\n",
    "    cmd = 'bedtools window -w %i -a %s -b %s > %s' % (windowSize, a, b, outfile)\n",
    "    #print(cmd)\n",
    "    runCMD(cmd)\n",
    "##############################################################################################################\n",
    "def make_ensG_dict(ervfile):\n",
    "    ensGDict = {}\n",
    "    for line in open(ervfile,'r'):\n",
    "        line = line.rstrip().split()\n",
    "        winID = line[3]\n",
    "        ensGDict[winID] = [[],[]] #0kb, 50kb  \n",
    "    return ensGDict\n",
    "#################################################################################################################################\n",
    "def parse_gene_intersect_file(windowLength,intfile):\n",
    "    #intfile = permutationDir + 'results/' + windowLength + 'bpWindowIntersect_%sERVs_with_EnsemblGenes.txt' % Type\n",
    "    intersectFile = open(intfile,'r') #outfile from the intersect step with ensembl 81 genes\n",
    "\n",
    "    ensID = ''\n",
    "    sigGenes = [] #To keep track of all gene IDs (ENSCAFG) that are in sig windows\n",
    "\n",
    "    #Reading the intersect file results\n",
    "    for line in intersectFile:\n",
    "        line = line.rstrip() #removing extraneous whitespace characters\n",
    "        line = line.split() #delimiting \"columns\" in the file based on tabs\t\t\n",
    "        winID = line[3]\n",
    "        hit = line[7].split('_')\n",
    "        Protein = hit[0]\n",
    "        Gene = hit[1]\n",
    "        b2goID = Gene + '|' + Protein\n",
    "        ensGID = hit[2]\n",
    "        if winID not in ensGDict.keys():\n",
    "            ensGDict[winID] = []\n",
    "        ensGDict[winID].append(ensGID)\n",
    "    intersectFile.close()\n",
    "   \n",
    "    return ensGDict"
   ]
  },
  {
   "cell_type": "code",
   "execution_count": 6,
   "metadata": {},
   "outputs": [
    {
     "name": "stdout",
     "output_type": "stream",
     "text": [
      "Real number of within gene insertions =  30\n",
      "Real number of insertions with 10kb of at least one gene =  51\n",
      "Real number of insertions with 50kb of at least one gene =  96\n"
     ]
    }
   ],
   "source": [
    "#INTERSECTING REAL CFERVS\n",
    "ervfile = ervFile #ervfile is same as above output file\n",
    "totalERVCount = count_lines(ervfile)\n",
    "genebedfile = '/home/ampend/links/kidd-lab/ampend-projects/BLAST2GO/results/BLAST2GO_Ensembl81_GeneTables_WithEnscafIDsAndChrom.bed'\n",
    "real_genicCount,real_near10kbCount, real_near50kbCount = 0, 0, 0\n",
    "for windowSize in windowSizes:\n",
    "    ensGDict = {}\n",
    "    outfile = permutationDir + 'REALERVS' + str(windowSize) + 'bpWindowIntersect_cfERVs_with_EnsemblGenes.txt'\n",
    "    do_window_intersects(ervfile,genebedfile,int(windowSize),outfile)\n",
    "    ensGDict = parse_gene_intersect_file(windowSize,outfile)\n",
    "    if '0' == windowSize:\n",
    "        real_genicCount = len(ensGDict.keys())\n",
    "    if '10000' in windowSize:\n",
    "        real_near10kbCount = len(ensGDict.keys())\n",
    "    if '50000' in windowSize:\n",
    "        real_near50kbCount = len(ensGDict.keys())\n",
    "\n",
    "print('Real number of within gene insertions = ',real_genicCount)\n",
    "print('Real number of insertions with 10kb of at least one gene = ',real_near10kbCount)\n",
    "print('Real number of insertions with 50kb of at least one gene = ',real_near50kbCount)"
   ]
  },
  {
   "cell_type": "code",
   "execution_count": null,
   "metadata": {},
   "outputs": [],
   "source": [
    "\"\"\"#PERMUTATIONS FROM SHUFFLING THE REAL CFERV POSITIONS AROUND\n",
    "\n",
    "genicInsertCountList, near10kbGeneInsertCountList, near50kbGeneInsertCountList = [], [], [] #0kb, 10kb, 50kb (respectively)\n",
    "permList = [] #keeping track of permutations\n",
    "for i in range(0,1000):\n",
    "    #1. Generate new bedfile for cfERV insertions\n",
    "    outfile = permutationDir + 'results/' + 'cfERV_GenePermutation_%i.bed' % i\n",
    "    cmd = 'bedtools shuffle -i %s -excl %s -g %s > %s' % (ervFile, gapBedFile,genomeFile,outfile)\n",
    "    #print(cmd)\n",
    "    runCMD(cmd)\n",
    "    \n",
    "    #files for intersect\n",
    "    ervfile = outfile #ervfile is same as above output file\n",
    "    genebedfile = '/home/ampend/links/kidd-lab/ampend-projects/BLAST2GO/results/BLAST2GO_Ensembl81_GeneTables_WithEnscafIDsAndChrom.bed'\n",
    "    for windowSize in windowSizes:\n",
    "        ensGDict = {}\n",
    "        outfile = permutationDir + 'results/' + str(windowSize) + 'bpWindowIntersect_cfERVs_with_EnsemblGenes_%i.txt'% (i)\n",
    "        do_window_intersects(ervfile,genebedfile,int(windowSize),outfile)\n",
    "        ensGDict = parse_gene_intersect_file(windowSize,outfile)\n",
    "        if '0' == windowSize:\n",
    "            genicCount = len(ensGDict.keys())\n",
    "        if '10000' in windowSize:\n",
    "            near10kbCount = len(ensGDict.keys())\n",
    "        if '50000' in windowSize:\n",
    "            near50kbCount = len(ensGDict.keys())\n",
    "\n",
    "    genicInsertCountList.append(genicCount)\n",
    "    near10kbGeneInsertCountList.append(near10kbCount)\n",
    "    near50kbGeneInsertCountList.append(near50kbCount)\n",
    "    if i % 25 == 0:\n",
    "        print(i)\n",
    "print('DONE!!!')\n",
    "print('Average number of within gene insertions = ',np.mean(genicInsertCountList))\n",
    "print('Average number of insertions with 10kb of at least one gene = ',np.mean(near10kbGeneInsertCountList))\n",
    "print('Average number of insertions with 50kb of at least one gene = ',np.mean(near50kbGeneInsertCountList))\"\"\""
   ]
  },
  {
   "cell_type": "markdown",
   "metadata": {},
   "source": [
    "# Within gene insertion statistics"
   ]
  },
  {
   "cell_type": "code",
   "execution_count": null,
   "metadata": {},
   "outputs": [],
   "source": [
    "#IN GENE INSERTION (0KB)\n",
    "print('Number of ERV insertions within a gene from REAL data = ', real_genicCount)\n",
    "#Test of normalcy for the genic insertion frequency distribution\n",
    "W, p = stats.shapiro(genicInsertCountList) # = W (test statistic), p-value\n",
    "print('\\np-value for Ho of normal dist = ', p)\n",
    "#significance of the genic insertion frequencies\n",
    "genicMean = np.mean(genicInsertCountList)\n",
    "print('\\nAverage number of genic insertions from 1000 permutations = ', genicMean)\n",
    "oddsratio, pvalue = stats.fisher_exact([[real_genicCount,totalERVCount-real_genicCount], [genicMean, totalERVCount-genicMean]])\n",
    "print('\\nFisher exact test (2x2 contingency) p-value = ', pvalue)\n",
    "\n",
    "obs = np.array([[real_genicCount,totalERVCount-real_genicCount], [genicMean, totalERVCount-genicMean]])\n",
    "chi2, p, ddof, expected = stats.chi2_contingency(obs)\n",
    "msg = \"\\n\\nChi Square Test Statistic: {}\\np-value: {}\\nDegrees of Freedom: {}\\n\"\n",
    "print( msg.format( chi2, p, ddof ) )"
   ]
  },
  {
   "cell_type": "markdown",
   "metadata": {},
   "source": [
    "# Within 10kb insertion statistics"
   ]
  },
  {
   "cell_type": "code",
   "execution_count": null,
   "metadata": {},
   "outputs": [],
   "source": [
    "#50KB FROM GENE INSERTIONS\n",
    "print('Number of ERV insertions within 10kb of gene from REAL data = ', real_near10kbCount)\n",
    "#Test of normalcy for the near gene insertion frequency distribution\n",
    "W, p = stats.shapiro(near10kbGeneInsertCountList) # = W (test statistic), p-value\n",
    "print('\\np-value for Ho of non-normal data = ', p)\n",
    "#significance of the near gene insertion frequencies\n",
    "near10kbGenicMean = np.mean(near10kbGeneInsertCountList)\n",
    "print('\\nAverage number of insertions within 10kb of a gene from 1000 permutations = ', near10kbGenicMean)\n",
    "oddsratio, pvalue = stats.fisher_exact([[real_near10kbCount,totalERVCount-real_near10kbCount], [near10kbGenicMean, totalERVCount-near10kbGenicMean]])\n",
    "print('\\nFisher exact test (2x2 contingency) p-value = ', pvalue)\n",
    "\n",
    "obs = np.array([[real_nearCount,totalERVCount-real_nearCount], [near10kbGenicMean, totalERVCount-nearGenicMean]])\n",
    "chi2, p, ddof, expected = stats.chi2_contingency(obs)\n",
    "msg = \"\\n\\nChi Square Test Statistic: {}\\np-value: {}\\nDegrees of Freedom: {}\\n\"\n",
    "print( msg.format( chi2, p, ddof ) )\n"
   ]
  },
  {
   "cell_type": "markdown",
   "metadata": {},
   "source": [
    "# Within 50kb insertion statistics"
   ]
  },
  {
   "cell_type": "code",
   "execution_count": null,
   "metadata": {},
   "outputs": [],
   "source": [
    "#50KB FROM GENE INSERTIONS\n",
    "print('Number of ERV insertions within 50kb of gene from REAL data = ', real_near50kbCount)\n",
    "#Test of normalcy for the near gene insertion frequency distribution\n",
    "W, p = stats.shapiro(near50kbGeneInsertCountList) # = W (test statistic), p-value\n",
    "print('\\np-value for Ho of non-normal data = ', p)\n",
    "#significance of the near gene insertion frequencies\n",
    "near50kbGenicMean = np.mean(near50kbGeneInsertCountList)\n",
    "print('\\nAverage number of insertions within 50kb of a gene from 1000 permutations = ', near50kbGenicMean)\n",
    "oddsratio, pvalue = stats.fisher_exact([[real_near50kbCount,totalERVCount-real_near50kbCount], [near50kbGenicMean, totalERVCount-near50kbGenicMean]])\n",
    "print('\\nFisher exact test (2x2 contingency) p-value = ', pvalue)\n",
    "\n",
    "obs = np.array([[real_near50kbCount,totalERVCount-real_near50kbCount], [near50kbGenicMean, totalERVCount-near50kbGenicMean]])\n",
    "chi2, p, ddof, expected = stats.chi2_contingency(obs)\n",
    "msg = \"\\n\\nChi Square Test Statistic: {}\\np-value: {}\\nDegrees of Freedom: {}\\n\"\n",
    "print( msg.format( chi2, p, ddof ) )\n"
   ]
  },
  {
   "cell_type": "markdown",
   "metadata": {},
   "source": [
    "# Saving the original permutation data so you dont have to run it again"
   ]
  },
  {
   "cell_type": "code",
   "execution_count": null,
   "metadata": {},
   "outputs": [],
   "source": [
    "\"\"\"outFile = open(permutationDir + 'genic_insertions_1000permutations.txt','w') \n",
    "#Saving the permutations to an output file\n",
    "for i in genicInsertCountList:\n",
    "    outFile.write(str(i) + '\\n')\n",
    "outFile.close()\n",
    "\n",
    "outFile = open(permutationDir + 'near10kbgenic_insertions_1000permutations.txt','w') \n",
    "#Saving the permutations to an output file\n",
    "for i in near10kbGeneInsertCountList:\n",
    "    outFile.write(str(i) + '\\n')\n",
    "outFile.close()\n",
    "\n",
    "outFile = open(permutationDir + 'near50kbgenic_insertions_1000permutations.txt','w') \n",
    "#Saving the permutations to an output file\n",
    "for i in near50kbGeneInsertCountList:\n",
    "    outFile.write(str(i) + '\\n')\n",
    "outFile.close()\"\"\""
   ]
  },
  {
   "cell_type": "code",
   "execution_count": 8,
   "metadata": {},
   "outputs": [],
   "source": [
    "genicInsertCountList,near10kbGeneInsertCountList,near50kbGeneInsertCountList = [], [], []\n",
    "inFile = open(permutationDir + 'genic_insertions_1000permutations.txt','r') \n",
    "#Saving the permutations to an output file\n",
    "for line in inFile:\n",
    "    line=line.rstrip()\n",
    "    genicInsertCountList.append(int(line))\n",
    "inFile.close()\n",
    "\n",
    "inFile = open(permutationDir + 'near10kbgenic_insertions_1000permutations.txt','r') \n",
    "#Saving the permutations to an output file\n",
    "for line in inFile:\n",
    "    line=line.rstrip()\n",
    "    near10kbGeneInsertCountList.append(int(line))\n",
    "inFile.close()\n",
    "\n",
    "inFile = open(permutationDir + 'near50kbgenic_insertions_1000permutations.txt','r') \n",
    "#Saving the permutations to an output file\n",
    "for line in inFile:\n",
    "    line=line.rstrip()\n",
    "    near50kbGeneInsertCountList.append(int(line))\n",
    "inFile.close()"
   ]
  },
  {
   "cell_type": "markdown",
   "metadata": {},
   "source": [
    "\n",
    "# Plotting the permutation distributions"
   ]
  },
  {
   "cell_type": "code",
   "execution_count": 12,
   "metadata": {
    "collapsed": true
   },
   "outputs": [],
   "source": [
    "###################################################################\n",
    "def simpleaxis(ax): #takes away the right and top borders/axes of a plot or subplot\n",
    "    ax.spines['top'].set_visible(False)\n",
    "    ax.spines['right'].set_visible(False)\n",
    "    ax.get_xaxis().tick_bottom()\n",
    "    ax.get_yaxis().tick_left()"
   ]
  },
  {
   "cell_type": "code",
   "execution_count": 47,
   "metadata": {},
   "outputs": [
    {
     "data": {
      "image/png": "[encoded data removed]",
      "text/plain": [
       "<matplotlib.figure.Figure at 0x2b1bf36c8208>"
      ]
     },
     "metadata": {},
     "output_type": "display_data"
    }
   ],
   "source": [
    "f, axarr = plt.subplots(3, sharex=True, figsize=(18,12))\n",
    "#PLOT ONE = GENIC\n",
    "axarr[0].hist(genicInsertCountList, 20, normed=1, facecolor='green', alpha=0.75,histtype=\"stepfilled\")\n",
    "axarr[0].vlines(x=real_genicCount,ymin=0,ymax=0.06, lw=1,color=\"red\")\n",
    "axarr[0].set_xlim(28,130)\n",
    "axarr[0].set_ylim(0,0.08)\n",
    "simpleaxis(axarr[0])\n",
    "axarr[0].text(30,0.075,'Genic',fontsize=26)\n",
    "axarr[0].set_ylabel('Density', fontsize=14,fontweight='bold')\n",
    "#PLOT TWO = 10kb\n",
    "axarr[1].hist(near10kbGeneInsertCountList, 20, normed=1, facecolor='blue', alpha=0.75,histtype=\"stepfilled\")\n",
    "axarr[1].vlines(x=real_near10kbCount,ymin=0,ymax=0.06, lw=1,color=\"red\")\n",
    "axarr[1].set_xlim(28,130)\n",
    "axarr[1].set_ylim(0,0.08)\n",
    "simpleaxis(axarr[1])\n",
    "axarr[1].text(30,0.075,'10 Kb Window',fontsize=26)\n",
    "axarr[1].set_ylabel('Density', fontsize=14,fontweight='bold')\n",
    "#PLOT THREE = 50kb\n",
    "axarr[2].hist(near50kbGeneInsertCountList, 20, normed=1, facecolor='gray', alpha=0.75,histtype=\"stepfilled\")\n",
    "axarr[2].vlines(x=real_near50kbCount,ymin=0,ymax=0.06, lw=1,color=\"red\")\n",
    "axarr[2].set_xlim(28,130)\n",
    "axarr[2].set_ylim(0,0.08)\n",
    "axarr[2].set_xlabel('Insersecting Insertions', fontsize=14,fontweight='bold')\n",
    "axarr[2].set_ylabel('Density', fontsize=14,fontweight='bold')\n",
    "axarr[2].text(30,0.075,'50 Kb Window',fontsize=26)\n",
    "simpleaxis(axarr[2])\n",
    "#Draw plot\n",
    "f.tight_layout()\n",
    "f.savefig(permutationDir + 'FinalPlot_0kb_10kb_50kb_1000PermutationHistogram.png')"
   ]
  }
 ],
 "metadata": {
  "kernelspec": {
   "display_name": "Python 3",
   "language": "python",
   "name": "python3"
  },
  "language_info": {
   "codemirror_mode": {
    "name": "ipython",
    "version": 3
   },
   "file_extension": ".py",
   "mimetype": "text/x-python",
   "name": "python",
   "nbconvert_exporter": "python",
   "pygments_lexer": "ipython3",
   "version": "3.5.4"
  }
 },
 "nbformat": 4,
 "nbformat_minor": 2
}
